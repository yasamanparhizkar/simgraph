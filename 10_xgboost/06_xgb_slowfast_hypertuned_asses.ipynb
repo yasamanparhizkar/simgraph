{
 "cells": [
  {
   "cell_type": "code",
   "execution_count": 33,
   "id": "0867c5c8-6da6-4009-8f2f-5873890d25be",
   "metadata": {
    "tags": []
   },
   "outputs": [],
   "source": [
    "import xgboost as xgb\n",
    "import seaborn as sns\n",
    "import pandas as pd\n",
    "import numpy as np\n",
    "import matplotlib.pyplot as plt\n",
    "import warnings\n",
    "\n",
    "# add the path to my packages to system paths so they can be imported\n",
    "import sys\n",
    "sys.path.append('/home/yasamanparhizkar/Documents/yorku/01_thesis/code/my_packages')\n",
    "# sys.path.append('F:\\MAScThesis\\code\\my_packages')\n",
    "# sys.path.append('/home/yasamanparhizkar/Documents/thesis/code/my_packages')\n",
    "\n",
    "import data_handler_01 as dh\n",
    "warnings.filterwarnings(\"ignore\")"
   ]
  },
  {
   "cell_type": "code",
   "execution_count": 4,
   "id": "56aec63d-177d-4615-9b33-a6f1c800061e",
   "metadata": {
    "tags": []
   },
   "outputs": [
    {
     "data": {
      "text/html": [
       "<div>\n",
       "<style scoped>\n",
       "    .dataframe tbody tr th:only-of-type {\n",
       "        vertical-align: middle;\n",
       "    }\n",
       "\n",
       "    .dataframe tbody tr th {\n",
       "        vertical-align: top;\n",
       "    }\n",
       "\n",
       "    .dataframe thead th {\n",
       "        text-align: right;\n",
       "    }\n",
       "</style>\n",
       "<table border=\"1\" class=\"dataframe\">\n",
       "  <thead>\n",
       "    <tr style=\"text-align: right;\">\n",
       "      <th></th>\n",
       "      <th>carat</th>\n",
       "      <th>cut</th>\n",
       "      <th>color</th>\n",
       "      <th>clarity</th>\n",
       "      <th>depth</th>\n",
       "      <th>table</th>\n",
       "      <th>price</th>\n",
       "      <th>x</th>\n",
       "      <th>y</th>\n",
       "      <th>z</th>\n",
       "    </tr>\n",
       "  </thead>\n",
       "  <tbody>\n",
       "    <tr>\n",
       "      <th>0</th>\n",
       "      <td>0.23</td>\n",
       "      <td>Ideal</td>\n",
       "      <td>E</td>\n",
       "      <td>SI2</td>\n",
       "      <td>61.5</td>\n",
       "      <td>55.0</td>\n",
       "      <td>326</td>\n",
       "      <td>3.95</td>\n",
       "      <td>3.98</td>\n",
       "      <td>2.43</td>\n",
       "    </tr>\n",
       "    <tr>\n",
       "      <th>1</th>\n",
       "      <td>0.21</td>\n",
       "      <td>Premium</td>\n",
       "      <td>E</td>\n",
       "      <td>SI1</td>\n",
       "      <td>59.8</td>\n",
       "      <td>61.0</td>\n",
       "      <td>326</td>\n",
       "      <td>3.89</td>\n",
       "      <td>3.84</td>\n",
       "      <td>2.31</td>\n",
       "    </tr>\n",
       "    <tr>\n",
       "      <th>2</th>\n",
       "      <td>0.23</td>\n",
       "      <td>Good</td>\n",
       "      <td>E</td>\n",
       "      <td>VS1</td>\n",
       "      <td>56.9</td>\n",
       "      <td>65.0</td>\n",
       "      <td>327</td>\n",
       "      <td>4.05</td>\n",
       "      <td>4.07</td>\n",
       "      <td>2.31</td>\n",
       "    </tr>\n",
       "    <tr>\n",
       "      <th>3</th>\n",
       "      <td>0.29</td>\n",
       "      <td>Premium</td>\n",
       "      <td>I</td>\n",
       "      <td>VS2</td>\n",
       "      <td>62.4</td>\n",
       "      <td>58.0</td>\n",
       "      <td>334</td>\n",
       "      <td>4.20</td>\n",
       "      <td>4.23</td>\n",
       "      <td>2.63</td>\n",
       "    </tr>\n",
       "    <tr>\n",
       "      <th>4</th>\n",
       "      <td>0.31</td>\n",
       "      <td>Good</td>\n",
       "      <td>J</td>\n",
       "      <td>SI2</td>\n",
       "      <td>63.3</td>\n",
       "      <td>58.0</td>\n",
       "      <td>335</td>\n",
       "      <td>4.34</td>\n",
       "      <td>4.35</td>\n",
       "      <td>2.75</td>\n",
       "    </tr>\n",
       "  </tbody>\n",
       "</table>\n",
       "</div>"
      ],
      "text/plain": [
       "   carat      cut color clarity  depth  table  price     x     y     z\n",
       "0   0.23    Ideal     E     SI2   61.5   55.0    326  3.95  3.98  2.43\n",
       "1   0.21  Premium     E     SI1   59.8   61.0    326  3.89  3.84  2.31\n",
       "2   0.23     Good     E     VS1   56.9   65.0    327  4.05  4.07  2.31\n",
       "3   0.29  Premium     I     VS2   62.4   58.0    334  4.20  4.23  2.63\n",
       "4   0.31     Good     J     SI2   63.3   58.0    335  4.34  4.35  2.75"
      ]
     },
     "execution_count": 4,
     "metadata": {},
     "output_type": "execute_result"
    }
   ],
   "source": [
    "diamonds = sns.load_dataset(\"diamonds\")\n",
    "diamonds.head()"
   ]
  },
  {
   "cell_type": "code",
   "execution_count": 5,
   "id": "be52166f-fe8f-420e-a139-07e01e45a0d1",
   "metadata": {
    "tags": []
   },
   "outputs": [
    {
     "data": {
      "text/plain": [
       "pandas.core.frame.DataFrame"
      ]
     },
     "execution_count": 5,
     "metadata": {},
     "output_type": "execute_result"
    }
   ],
   "source": [
    "type(diamonds)"
   ]
  },
  {
   "cell_type": "code",
   "execution_count": 6,
   "id": "6d1f51c9-c8c4-4e16-92c1-09a53b403a46",
   "metadata": {
    "tags": []
   },
   "outputs": [
    {
     "name": "stdout",
     "output_type": "stream",
     "text": [
      "       carat        cut color clarity  depth  table  price     x     y     z\n",
      "0       0.23      Ideal     E     SI2   61.5   55.0    326  3.95  3.98  2.43\n",
      "1       0.21    Premium     E     SI1   59.8   61.0    326  3.89  3.84  2.31\n",
      "2       0.23       Good     E     VS1   56.9   65.0    327  4.05  4.07  2.31\n",
      "3       0.29    Premium     I     VS2   62.4   58.0    334  4.20  4.23  2.63\n",
      "4       0.31       Good     J     SI2   63.3   58.0    335  4.34  4.35  2.75\n",
      "...      ...        ...   ...     ...    ...    ...    ...   ...   ...   ...\n",
      "53935   0.72      Ideal     D     SI1   60.8   57.0   2757  5.75  5.76  3.50\n",
      "53936   0.72       Good     D     SI1   63.1   55.0   2757  5.69  5.75  3.61\n",
      "53937   0.70  Very Good     D     SI1   62.8   60.0   2757  5.66  5.68  3.56\n",
      "53938   0.86    Premium     H     SI2   61.0   58.0   2757  6.15  6.12  3.74\n",
      "53939   0.75      Ideal     D     SI2   62.2   55.0   2757  5.83  5.87  3.64\n",
      "\n",
      "[53940 rows x 10 columns]\n"
     ]
    }
   ],
   "source": [
    "print(diamonds)"
   ]
  },
  {
   "cell_type": "markdown",
   "id": "47152145-12e2-49b5-93c8-3fa6611a41fb",
   "metadata": {},
   "source": [
    "# Create a pandas dataframe from fish movie features"
   ]
  },
  {
   "cell_type": "code",
   "execution_count": 8,
   "id": "d6d6aaa7-8ade-46c1-a1f8-4917b7ee24ae",
   "metadata": {
    "tags": []
   },
   "outputs": [
    {
     "name": "stdout",
     "output_type": "stream",
     "text": [
      "grouped_data.shape =  (297, 1141, 1)\n"
     ]
    }
   ],
   "source": [
    "# load all spike data from file\n",
    "spikes_dp = '../../data/original_files/spikes.csv'\n",
    "binned_data = np.loadtxt(spikes_dp, delimiter=',')\n",
    "binned_data = binned_data.reshape(binned_data.shape[0], 1141, 113)\n",
    "binned_data = binned_data * 2 - 1     # turn labels from 0,1 to -1,1\n",
    "\n",
    "I_order_10 = [54, 35, 10, 60, 74, 9, 61, 56, 91, 104]\n",
    "\n",
    "# group all neurons together\n",
    "grouped_data = np.zeros((297, 1141, 1))\n",
    "for trial in range(297):\n",
    "    for frame in range(1141):\n",
    "        grouped_data[trial, frame, :] = 2 * int((binned_data[trial, frame, :] == 1).any()) - 1\n",
    "        \n",
    "print('grouped_data.shape = ', grouped_data.shape)"
   ]
  },
  {
   "cell_type": "code",
   "execution_count": 66,
   "id": "535b19f6-a2d3-4854-84e4-6c37a04f9fde",
   "metadata": {
    "tags": []
   },
   "outputs": [
    {
     "name": "stdout",
     "output_type": "stream",
     "text": [
      "# training datapoints:  500\n",
      "# validation datapoints:  100\n",
      "features array shape (NxDf):  (500, 474)\n",
      "a few rows of the training feature array:\n",
      " [[2.7171607 1.8891053 1.8667963 ... 2.6452    5.0123525 2.1651871]\n",
      " [2.7342947 1.7744384 1.9787449 ... 2.740112  5.0628047 1.9402164]\n",
      " [2.7427316 1.9135818 1.8079212 ... 2.7134817 4.9467864 1.6767261]\n",
      " [2.7964344 1.8926489 1.9096606 ... 2.6237352 4.9819055 1.6886238]\n",
      " [2.8321726 1.881557  1.8612114 ... 2.677793  4.988236  1.7620839]]\n"
     ]
    }
   ],
   "source": [
    "# use only the second trial\n",
    "ind_min = 1*1141+0\n",
    "ind_max = 2*1141-1\n",
    "\n",
    "def transform(fv):\n",
    "    \"\"\"\n",
    "    Transform to be applied on feature vectors.\n",
    "    \n",
    "    Input: fv\n",
    "    fv - 1xDf torch tensor representing a feature vector\n",
    "    \n",
    "    Output: fvv\n",
    "    fvv - 1xDf' torch tensor representing the transformed feature vector\n",
    "    \"\"\"\n",
    "    \n",
    "    # for faster run and less memory usage\n",
    "    fvv = fv[:, ::10]\n",
    "    \n",
    "    # for numerical stability during GD\n",
    "    # fvv = fvv * 10\n",
    "    \n",
    "    return fvv\n",
    "\n",
    "data_params = {'func': dh.datapoint_torch, 'features_dp': '../../data/features/slowfast/slowfast_4732/', \\\n",
    "               'spike_data': grouped_data, 'group_id': 0, 'transform': transform}\n",
    "\n",
    "train_num = 500\n",
    "val_num = 100\n",
    "seed = None\n",
    "\n",
    "# create training and validation datasets\n",
    "train_num, val_num, train_data, val_data = dh.random_train_val(train_num, val_num, ind_min, ind_max, data_params, seed)\n",
    "\n",
    "print('# training datapoints: ', train_num)\n",
    "print('# validation datapoints: ', val_num)\n",
    "print('features array shape (NxDf): ', train_data['des'].shape)\n",
    "print('a few rows of the training feature array:\\n',train_data['des'][:5])"
   ]
  },
  {
   "cell_type": "code",
   "execution_count": 67,
   "id": "fbae14a4-7beb-40c8-a82f-1fafd2337ee4",
   "metadata": {
    "tags": []
   },
   "outputs": [
    {
     "data": {
      "text/html": [
       "<div>\n",
       "<style scoped>\n",
       "    .dataframe tbody tr th:only-of-type {\n",
       "        vertical-align: middle;\n",
       "    }\n",
       "\n",
       "    .dataframe tbody tr th {\n",
       "        vertical-align: top;\n",
       "    }\n",
       "\n",
       "    .dataframe thead th {\n",
       "        text-align: right;\n",
       "    }\n",
       "</style>\n",
       "<table border=\"1\" class=\"dataframe\">\n",
       "  <thead>\n",
       "    <tr style=\"text-align: right;\">\n",
       "      <th></th>\n",
       "      <th>0</th>\n",
       "      <th>1</th>\n",
       "      <th>2</th>\n",
       "      <th>3</th>\n",
       "      <th>4</th>\n",
       "      <th>5</th>\n",
       "      <th>6</th>\n",
       "      <th>7</th>\n",
       "      <th>8</th>\n",
       "      <th>9</th>\n",
       "      <th>...</th>\n",
       "      <th>464</th>\n",
       "      <th>465</th>\n",
       "      <th>466</th>\n",
       "      <th>467</th>\n",
       "      <th>468</th>\n",
       "      <th>469</th>\n",
       "      <th>470</th>\n",
       "      <th>471</th>\n",
       "      <th>472</th>\n",
       "      <th>473</th>\n",
       "    </tr>\n",
       "  </thead>\n",
       "  <tbody>\n",
       "    <tr>\n",
       "      <th>0</th>\n",
       "      <td>2.717161</td>\n",
       "      <td>1.889105</td>\n",
       "      <td>1.866796</td>\n",
       "      <td>3.155151</td>\n",
       "      <td>2.786354</td>\n",
       "      <td>7.330894</td>\n",
       "      <td>4.032849</td>\n",
       "      <td>5.465666</td>\n",
       "      <td>5.330612</td>\n",
       "      <td>3.410649</td>\n",
       "      <td>...</td>\n",
       "      <td>2.435522</td>\n",
       "      <td>2.705825</td>\n",
       "      <td>2.344805</td>\n",
       "      <td>4.701004</td>\n",
       "      <td>2.213653</td>\n",
       "      <td>3.146791</td>\n",
       "      <td>1.866297</td>\n",
       "      <td>2.645200</td>\n",
       "      <td>5.012352</td>\n",
       "      <td>2.165187</td>\n",
       "    </tr>\n",
       "    <tr>\n",
       "      <th>1</th>\n",
       "      <td>2.734295</td>\n",
       "      <td>1.774438</td>\n",
       "      <td>1.978745</td>\n",
       "      <td>3.171515</td>\n",
       "      <td>2.795883</td>\n",
       "      <td>7.376439</td>\n",
       "      <td>4.199847</td>\n",
       "      <td>5.498415</td>\n",
       "      <td>5.542151</td>\n",
       "      <td>4.326243</td>\n",
       "      <td>...</td>\n",
       "      <td>2.250646</td>\n",
       "      <td>2.709613</td>\n",
       "      <td>2.124864</td>\n",
       "      <td>4.607258</td>\n",
       "      <td>2.210824</td>\n",
       "      <td>2.178204</td>\n",
       "      <td>3.041438</td>\n",
       "      <td>2.740112</td>\n",
       "      <td>5.062805</td>\n",
       "      <td>1.940216</td>\n",
       "    </tr>\n",
       "    <tr>\n",
       "      <th>2</th>\n",
       "      <td>2.742732</td>\n",
       "      <td>1.913582</td>\n",
       "      <td>1.807921</td>\n",
       "      <td>3.225475</td>\n",
       "      <td>2.826887</td>\n",
       "      <td>7.457115</td>\n",
       "      <td>4.174360</td>\n",
       "      <td>5.358123</td>\n",
       "      <td>5.497444</td>\n",
       "      <td>3.035140</td>\n",
       "      <td>...</td>\n",
       "      <td>2.103599</td>\n",
       "      <td>2.698660</td>\n",
       "      <td>2.131648</td>\n",
       "      <td>4.696541</td>\n",
       "      <td>2.199164</td>\n",
       "      <td>2.350266</td>\n",
       "      <td>1.931064</td>\n",
       "      <td>2.713482</td>\n",
       "      <td>4.946786</td>\n",
       "      <td>1.676726</td>\n",
       "    </tr>\n",
       "    <tr>\n",
       "      <th>3</th>\n",
       "      <td>2.796434</td>\n",
       "      <td>1.892649</td>\n",
       "      <td>1.909661</td>\n",
       "      <td>3.225241</td>\n",
       "      <td>2.790021</td>\n",
       "      <td>7.357202</td>\n",
       "      <td>4.002663</td>\n",
       "      <td>5.545738</td>\n",
       "      <td>5.499510</td>\n",
       "      <td>3.031996</td>\n",
       "      <td>...</td>\n",
       "      <td>2.296342</td>\n",
       "      <td>2.678228</td>\n",
       "      <td>2.167713</td>\n",
       "      <td>4.647845</td>\n",
       "      <td>2.220382</td>\n",
       "      <td>1.688968</td>\n",
       "      <td>1.981825</td>\n",
       "      <td>2.623735</td>\n",
       "      <td>4.981905</td>\n",
       "      <td>1.688624</td>\n",
       "    </tr>\n",
       "    <tr>\n",
       "      <th>4</th>\n",
       "      <td>2.832173</td>\n",
       "      <td>1.881557</td>\n",
       "      <td>1.861211</td>\n",
       "      <td>3.045776</td>\n",
       "      <td>2.624912</td>\n",
       "      <td>3.611086</td>\n",
       "      <td>4.160274</td>\n",
       "      <td>5.302925</td>\n",
       "      <td>5.464644</td>\n",
       "      <td>3.126502</td>\n",
       "      <td>...</td>\n",
       "      <td>2.274695</td>\n",
       "      <td>2.719636</td>\n",
       "      <td>2.056880</td>\n",
       "      <td>4.718672</td>\n",
       "      <td>2.214847</td>\n",
       "      <td>2.317703</td>\n",
       "      <td>1.914328</td>\n",
       "      <td>2.677793</td>\n",
       "      <td>4.988236</td>\n",
       "      <td>1.762084</td>\n",
       "    </tr>\n",
       "  </tbody>\n",
       "</table>\n",
       "<p>5 rows × 474 columns</p>\n",
       "</div>"
      ],
      "text/plain": [
       "        0         1         2         3         4         5         6    \\\n",
       "0  2.717161  1.889105  1.866796  3.155151  2.786354  7.330894  4.032849   \n",
       "1  2.734295  1.774438  1.978745  3.171515  2.795883  7.376439  4.199847   \n",
       "2  2.742732  1.913582  1.807921  3.225475  2.826887  7.457115  4.174360   \n",
       "3  2.796434  1.892649  1.909661  3.225241  2.790021  7.357202  4.002663   \n",
       "4  2.832173  1.881557  1.861211  3.045776  2.624912  3.611086  4.160274   \n",
       "\n",
       "        7         8         9    ...       464       465       466       467  \\\n",
       "0  5.465666  5.330612  3.410649  ...  2.435522  2.705825  2.344805  4.701004   \n",
       "1  5.498415  5.542151  4.326243  ...  2.250646  2.709613  2.124864  4.607258   \n",
       "2  5.358123  5.497444  3.035140  ...  2.103599  2.698660  2.131648  4.696541   \n",
       "3  5.545738  5.499510  3.031996  ...  2.296342  2.678228  2.167713  4.647845   \n",
       "4  5.302925  5.464644  3.126502  ...  2.274695  2.719636  2.056880  4.718672   \n",
       "\n",
       "        468       469       470       471       472       473  \n",
       "0  2.213653  3.146791  1.866297  2.645200  5.012352  2.165187  \n",
       "1  2.210824  2.178204  3.041438  2.740112  5.062805  1.940216  \n",
       "2  2.199164  2.350266  1.931064  2.713482  4.946786  1.676726  \n",
       "3  2.220382  1.688968  1.981825  2.623735  4.981905  1.688624  \n",
       "4  2.214847  2.317703  1.914328  2.677793  4.988236  1.762084  \n",
       "\n",
       "[5 rows x 474 columns]"
      ]
     },
     "execution_count": 67,
     "metadata": {},
     "output_type": "execute_result"
    }
   ],
   "source": [
    "# create a dataframe from the features array\n",
    "train_df = pd.DataFrame(data = train_data['des'])\n",
    "val_df = pd.DataFrame(data = val_data['des'])\n",
    "train_df.head()"
   ]
  },
  {
   "cell_type": "code",
   "execution_count": 68,
   "id": "a13871b0-fde6-4e4e-8d08-3003009fc5f1",
   "metadata": {
    "tags": []
   },
   "outputs": [
    {
     "data": {
      "text/html": [
       "<div>\n",
       "<style scoped>\n",
       "    .dataframe tbody tr th:only-of-type {\n",
       "        vertical-align: middle;\n",
       "    }\n",
       "\n",
       "    .dataframe tbody tr th {\n",
       "        vertical-align: top;\n",
       "    }\n",
       "\n",
       "    .dataframe thead th {\n",
       "        text-align: right;\n",
       "    }\n",
       "</style>\n",
       "<table border=\"1\" class=\"dataframe\">\n",
       "  <thead>\n",
       "    <tr style=\"text-align: right;\">\n",
       "      <th></th>\n",
       "      <th>0</th>\n",
       "    </tr>\n",
       "  </thead>\n",
       "  <tbody>\n",
       "    <tr>\n",
       "      <th>0</th>\n",
       "      <td>-1.0</td>\n",
       "    </tr>\n",
       "    <tr>\n",
       "      <th>1</th>\n",
       "      <td>1.0</td>\n",
       "    </tr>\n",
       "    <tr>\n",
       "      <th>2</th>\n",
       "      <td>1.0</td>\n",
       "    </tr>\n",
       "    <tr>\n",
       "      <th>3</th>\n",
       "      <td>1.0</td>\n",
       "    </tr>\n",
       "    <tr>\n",
       "      <th>4</th>\n",
       "      <td>-1.0</td>\n",
       "    </tr>\n",
       "  </tbody>\n",
       "</table>\n",
       "</div>"
      ],
      "text/plain": [
       "     0\n",
       "0 -1.0\n",
       "1  1.0\n",
       "2  1.0\n",
       "3  1.0\n",
       "4 -1.0"
      ]
     },
     "execution_count": 68,
     "metadata": {},
     "output_type": "execute_result"
    }
   ],
   "source": [
    "# create pandas series from the labels\n",
    "train_y = pd.DataFrame(data = train_data['lbls'])\n",
    "val_y = pd.DataFrame(data = val_data['lbls'])\n",
    "train_y.head()"
   ]
  },
  {
   "cell_type": "code",
   "execution_count": 69,
   "id": "c22db209-1e07-4456-bbdb-851109c15b0a",
   "metadata": {
    "tags": []
   },
   "outputs": [
    {
     "name": "stdout",
     "output_type": "stream",
     "text": [
      "Dmatrix shape: 500 x 474\n",
      "Dmatrix labels:  [-1.  1.  1.  1. -1.  1.  1.  1. -1.  1. -1.  1.  1.  1.  1.  1.  1. -1.\n",
      "  1.  1.  1. -1.  1.  1. -1.  1. -1.  1.  1. -1.  1.  1.  1. -1.  1.  1.\n",
      "  1.  1.  1.  1. -1.  1. -1. -1.  1.  1.  1.  1. -1.  1.  1. -1.  1. -1.\n",
      " -1. -1. -1. -1.  1.  1. -1.  1. -1.  1.  1.  1.  1.  1. -1. -1.  1.  1.\n",
      "  1. -1.  1. -1.  1.  1.  1. -1.  1. -1.  1.  1.  1.  1.  1.  1. -1. -1.\n",
      " -1.  1.  1. -1. -1.  1.  1.  1. -1.  1. -1.  1.  1. -1.  1.  1.  1.  1.\n",
      " -1.  1.  1.  1.  1.  1. -1. -1.  1. -1.  1.  1.  1. -1.  1. -1.  1.  1.\n",
      "  1.  1. -1.  1.  1. -1.  1.  1. -1.  1. -1. -1. -1. -1. -1.  1.  1. -1.\n",
      "  1.  1.  1. -1.  1. -1. -1.  1.  1.  1.  1.  1. -1.  1.  1. -1. -1. -1.\n",
      " -1.  1.  1.  1. -1. -1.  1. -1.  1.  1.  1. -1.  1.  1.  1.  1.  1.  1.\n",
      "  1. -1.  1. -1.  1.  1.  1.  1.  1.  1.  1.  1. -1. -1.  1.  1.  1. -1.\n",
      " -1.  1. -1. -1.  1.  1.  1. -1.  1.  1.  1.  1. -1. -1.  1.  1.  1.  1.\n",
      "  1.  1. -1. -1.  1.  1.  1.  1.  1.  1. -1.  1.  1.  1. -1.  1.  1.  1.\n",
      "  1.  1.  1. -1.  1.  1.  1.  1.  1.  1. -1.  1.  1.  1. -1. -1.  1. -1.\n",
      "  1.  1. -1.  1. -1.  1.  1. -1.  1.  1.  1.  1.  1.  1.  1.  1. -1. -1.\n",
      " -1.  1. -1. -1.  1.  1.  1. -1.  1.  1.  1.  1.  1. -1.  1. -1.  1. -1.\n",
      "  1.  1.  1.  1.  1.  1. -1.  1. -1.  1.  1. -1.  1.  1.  1.  1.  1.  1.\n",
      "  1.  1. -1. -1.  1.  1.  1.  1.  1. -1.  1.  1.  1.  1.  1.  1. -1. -1.\n",
      "  1.  1. -1.  1.  1.  1. -1. -1.  1. -1. -1.  1.  1.  1.  1.  1.  1.  1.\n",
      " -1.  1.  1.  1.  1.  1.  1.  1.  1. -1.  1. -1. -1.  1.  1.  1.  1. -1.\n",
      "  1.  1.  1. -1. -1. -1.  1.  1. -1.  1. -1.  1.  1.  1.  1.  1.  1.  1.\n",
      "  1.  1.  1.  1.  1.  1.  1. -1.  1.  1.  1.  1.  1. -1. -1. -1. -1.  1.\n",
      "  1.  1. -1. -1.  1.  1. -1. -1.  1.  1.  1. -1.  1.  1.  1.  1.  1.  1.\n",
      " -1. -1. -1.  1.  1. -1.  1.  1.  1. -1.  1.  1. -1.  1.  1.  1.  1. -1.\n",
      "  1. -1. -1. -1.  1.  1.  1.  1.  1.  1.  1.  1.  1. -1.  1.  1. -1.  1.\n",
      "  1.  1.  1.  1.  1.  1. -1.  1.  1.  1.  1.  1.  1.  1. -1.  1.  1.  1.\n",
      " -1. -1. -1. -1. -1.  1. -1.  1.  1. -1.  1.  1. -1.  1.  1. -1.  1.  1.\n",
      "  1.  1.  1.  1. -1.  1.  1.  1. -1. -1. -1.  1.  1. -1.]\n"
     ]
    }
   ],
   "source": [
    "# create xgb Dmatrices from dataframes\n",
    "dtrain_from_df = xgb.DMatrix(train_df, train_y)\n",
    "print('Dmatrix shape: {} x {}'.format(dtrain_from_df.num_row(), dtrain_from_df.num_col()))\n",
    "print('Dmatrix labels: ', dtrain_from_df.get_label())"
   ]
  },
  {
   "cell_type": "code",
   "execution_count": 70,
   "id": "6acb2e7b-2720-4b7f-b08f-0681ae602d7e",
   "metadata": {
    "tags": []
   },
   "outputs": [],
   "source": [
    "# create xgb Dmatrices directly from numpy arrays\n",
    "dtrain = xgb.DMatrix(train_data['des'], label=(train_data['lbls']+1)//2)\n",
    "dval = xgb.DMatrix(val_data['des'], label=(val_data['lbls']+1)//2)"
   ]
  },
  {
   "cell_type": "code",
   "execution_count": 71,
   "id": "3160c81e-b2e7-48dc-b4ee-835a377fc6c3",
   "metadata": {
    "tags": []
   },
   "outputs": [
    {
     "name": "stdout",
     "output_type": "stream",
     "text": [
      "Train Dmatrix shape: 500 x 474\n",
      "Val Dmatrix shape: 100 x 474\n",
      "Train Dmatrix labels:  [0. 1. 1. 1. 0. 1. 1. 1. 0. 1. 0. 1. 1. 1. 1. 1. 1. 0. 1. 1. 1. 0. 1. 1.\n",
      " 0. 1. 0. 1. 1. 0. 1. 1. 1. 0. 1. 1. 1. 1. 1. 1. 0. 1. 0. 0. 1. 1. 1. 1.\n",
      " 0. 1. 1. 0. 1. 0. 0. 0. 0. 0. 1. 1. 0. 1. 0. 1. 1. 1. 1. 1. 0. 0. 1. 1.\n",
      " 1. 0. 1. 0. 1. 1. 1. 0. 1. 0. 1. 1. 1. 1. 1. 1. 0. 0. 0. 1. 1. 0. 0. 1.\n",
      " 1. 1. 0. 1. 0. 1. 1. 0. 1. 1. 1. 1. 0. 1. 1. 1. 1. 1. 0. 0. 1. 0. 1. 1.\n",
      " 1. 0. 1. 0. 1. 1. 1. 1. 0. 1. 1. 0. 1. 1. 0. 1. 0. 0. 0. 0. 0. 1. 1. 0.\n",
      " 1. 1. 1. 0. 1. 0. 0. 1. 1. 1. 1. 1. 0. 1. 1. 0. 0. 0. 0. 1. 1. 1. 0. 0.\n",
      " 1. 0. 1. 1. 1. 0. 1. 1. 1. 1. 1. 1. 1. 0. 1. 0. 1. 1. 1. 1. 1. 1. 1. 1.\n",
      " 0. 0. 1. 1. 1. 0. 0. 1. 0. 0. 1. 1. 1. 0. 1. 1. 1. 1. 0. 0. 1. 1. 1. 1.\n",
      " 1. 1. 0. 0. 1. 1. 1. 1. 1. 1. 0. 1. 1. 1. 0. 1. 1. 1. 1. 1. 1. 0. 1. 1.\n",
      " 1. 1. 1. 1. 0. 1. 1. 1. 0. 0. 1. 0. 1. 1. 0. 1. 0. 1. 1. 0. 1. 1. 1. 1.\n",
      " 1. 1. 1. 1. 0. 0. 0. 1. 0. 0. 1. 1. 1. 0. 1. 1. 1. 1. 1. 0. 1. 0. 1. 0.\n",
      " 1. 1. 1. 1. 1. 1. 0. 1. 0. 1. 1. 0. 1. 1. 1. 1. 1. 1. 1. 1. 0. 0. 1. 1.\n",
      " 1. 1. 1. 0. 1. 1. 1. 1. 1. 1. 0. 0. 1. 1. 0. 1. 1. 1. 0. 0. 1. 0. 0. 1.\n",
      " 1. 1. 1. 1. 1. 1. 0. 1. 1. 1. 1. 1. 1. 1. 1. 0. 1. 0. 0. 1. 1. 1. 1. 0.\n",
      " 1. 1. 1. 0. 0. 0. 1. 1. 0. 1. 0. 1. 1. 1. 1. 1. 1. 1. 1. 1. 1. 1. 1. 1.\n",
      " 1. 0. 1. 1. 1. 1. 1. 0. 0. 0. 0. 1. 1. 1. 0. 0. 1. 1. 0. 0. 1. 1. 1. 0.\n",
      " 1. 1. 1. 1. 1. 1. 0. 0. 0. 1. 1. 0. 1. 1. 1. 0. 1. 1. 0. 1. 1. 1. 1. 0.\n",
      " 1. 0. 0. 0. 1. 1. 1. 1. 1. 1. 1. 1. 1. 0. 1. 1. 0. 1. 1. 1. 1. 1. 1. 1.\n",
      " 0. 1. 1. 1. 1. 1. 1. 1. 0. 1. 1. 1. 0. 0. 0. 0. 0. 1. 0. 1. 1. 0. 1. 1.\n",
      " 0. 1. 1. 0. 1. 1. 1. 1. 1. 1. 0. 1. 1. 1. 0. 0. 0. 1. 1. 0.]\n",
      "Val Dmatrix labels:  [1. 1. 0. 1. 0. 1. 1. 1. 1. 1. 1. 0. 1. 0. 1. 1. 1. 1. 1. 0. 0. 0. 1. 1.\n",
      " 1. 1. 0. 1. 0. 0. 1. 0. 1. 1. 1. 1. 0. 0. 1. 0. 1. 1. 1. 1. 1. 1. 0. 0.\n",
      " 0. 1. 1. 1. 1. 1. 0. 1. 1. 1. 1. 1. 0. 1. 1. 1. 0. 1. 0. 1. 1. 1. 0. 1.\n",
      " 0. 1. 1. 1. 1. 1. 1. 1. 1. 1. 1. 1. 0. 1. 1. 1. 1. 1. 0. 1. 1. 1. 0. 0.\n",
      " 1. 1. 1. 1.]\n"
     ]
    }
   ],
   "source": [
    "print('Train Dmatrix shape: {} x {}'.format(dtrain.num_row(), dtrain.num_col()))\n",
    "print('Val Dmatrix shape: {} x {}'.format(dval.num_row(), dval.num_col()))\n",
    "print('Train Dmatrix labels: ', dtrain.get_label())\n",
    "print('Val Dmatrix labels: ', dval.get_label())"
   ]
  },
  {
   "cell_type": "markdown",
   "id": "4614b515-bd1e-4cf1-916d-894369d294d7",
   "metadata": {},
   "source": [
    "# Training"
   ]
  },
  {
   "cell_type": "code",
   "execution_count": 75,
   "id": "6d3a381d-51e0-42cc-9466-b2ea14c0b301",
   "metadata": {
    "tags": []
   },
   "outputs": [
    {
     "name": "stdout",
     "output_type": "stream",
     "text": [
      "[0]\tvalidation-logloss:0.59869\ttrain-logloss:0.51123\n",
      "[1]\tvalidation-logloss:0.55499\ttrain-logloss:0.39508\n",
      "[2]\tvalidation-logloss:0.53096\ttrain-logloss:0.32590\n",
      "[3]\tvalidation-logloss:0.53427\ttrain-logloss:0.26129\n",
      "[4]\tvalidation-logloss:0.51069\ttrain-logloss:0.21263\n",
      "[5]\tvalidation-logloss:0.49596\ttrain-logloss:0.17372\n",
      "[6]\tvalidation-logloss:0.50618\ttrain-logloss:0.14679\n",
      "[7]\tvalidation-logloss:0.50679\ttrain-logloss:0.12822\n",
      "[8]\tvalidation-logloss:0.50771\ttrain-logloss:0.10872\n",
      "[9]\tvalidation-logloss:0.50709\ttrain-logloss:0.09398\n",
      "[10]\tvalidation-logloss:0.50608\ttrain-logloss:0.08202\n",
      "[11]\tvalidation-logloss:0.51360\ttrain-logloss:0.07275\n",
      "[12]\tvalidation-logloss:0.51259\ttrain-logloss:0.06459\n",
      "[13]\tvalidation-logloss:0.51520\ttrain-logloss:0.05759\n",
      "[14]\tvalidation-logloss:0.51328\ttrain-logloss:0.05217\n",
      "[15]\tvalidation-logloss:0.52012\ttrain-logloss:0.04688\n",
      "[16]\tvalidation-logloss:0.50957\ttrain-logloss:0.04244\n",
      "[17]\tvalidation-logloss:0.52250\ttrain-logloss:0.03896\n",
      "[18]\tvalidation-logloss:0.53158\ttrain-logloss:0.03627\n",
      "[19]\tvalidation-logloss:0.53891\ttrain-logloss:0.03351\n"
     ]
    }
   ],
   "source": [
    "# Define hyperparameters\n",
    "params = {\"objective\": \"binary:logistic\", \"tree_method\": \"hist\"}\n",
    "evals = [(dval, \"validation\"), (dtrain, \"train\")]\n",
    "n = 20\n",
    "veval = 1\n",
    "\n",
    "model = xgb.train(\n",
    "    params=params,\n",
    "    dtrain=dtrain,\n",
    "    num_boost_round=n,\n",
    "    evals=evals,\n",
    "    verbose_eval=veval # print losses every ten rounds\n",
    ")"
   ]
  },
  {
   "cell_type": "code",
   "execution_count": 81,
   "id": "38d4a6cd-0608-47dd-89b1-2158bbaeac77",
   "metadata": {
    "tags": []
   },
   "outputs": [
    {
     "name": "stdout",
     "output_type": "stream",
     "text": [
      "[0]\tvalidation-logloss:0.59869\ttrain-logloss:0.51123\n",
      "[1]\tvalidation-logloss:0.55499\ttrain-logloss:0.39508\n",
      "[2]\tvalidation-logloss:0.53096\ttrain-logloss:0.32590\n",
      "[3]\tvalidation-logloss:0.53427\ttrain-logloss:0.26129\n",
      "[4]\tvalidation-logloss:0.51069\ttrain-logloss:0.21263\n",
      "[5]\tvalidation-logloss:0.49596\ttrain-logloss:0.17372\n",
      "[6]\tvalidation-logloss:0.50618\ttrain-logloss:0.14679\n",
      "[7]\tvalidation-logloss:0.50679\ttrain-logloss:0.12822\n",
      "[8]\tvalidation-logloss:0.50771\ttrain-logloss:0.10872\n",
      "[9]\tvalidation-logloss:0.50709\ttrain-logloss:0.09398\n",
      "[10]\tvalidation-logloss:0.50608\ttrain-logloss:0.08202\n",
      "[11]\tvalidation-logloss:0.51360\ttrain-logloss:0.07275\n",
      "[12]\tvalidation-logloss:0.51259\ttrain-logloss:0.06459\n",
      "[13]\tvalidation-logloss:0.51520\ttrain-logloss:0.05759\n",
      "[14]\tvalidation-logloss:0.51328\ttrain-logloss:0.05217\n",
      "[15]\tvalidation-logloss:0.52012\ttrain-logloss:0.04688\n",
      "[16]\tvalidation-logloss:0.50957\ttrain-logloss:0.04244\n",
      "[17]\tvalidation-logloss:0.52250\ttrain-logloss:0.03896\n",
      "[18]\tvalidation-logloss:0.53158\ttrain-logloss:0.03627\n",
      "[19]\tvalidation-logloss:0.53891\ttrain-logloss:0.03351\n"
     ]
    }
   ],
   "source": [
    "model2 = xgb.train(\n",
    "    params=params,\n",
    "    dtrain=dtrain,\n",
    "    num_boost_round=n,\n",
    "    evals=evals,\n",
    "    verbose_eval=veval, # print losses every ten rounds\n",
    "    early_stopping_rounds=1 # activate early stopping\n",
    ")"
   ]
  },
  {
   "cell_type": "code",
   "execution_count": 85,
   "id": "569b89c5-8d54-4e5a-8421-1e6a7c84a767",
   "metadata": {
    "tags": []
   },
   "outputs": [],
   "source": [
    "# cross-validation\n",
    "results = xgb.cv(\n",
    "    params=params, \n",
    "    dtrain=dtrain,\n",
    "    num_boost_round=n,\n",
    "    nfold=5,\n",
    "    metrics=[\"logloss\", \"auc\", \"error\"]\n",
    ")"
   ]
  },
  {
   "cell_type": "code",
   "execution_count": 87,
   "id": "6ebe2da3-3d30-4676-8b47-fcb161da29c5",
   "metadata": {
    "tags": []
   },
   "outputs": [
    {
     "data": {
      "text/html": [
       "<div>\n",
       "<style scoped>\n",
       "    .dataframe tbody tr th:only-of-type {\n",
       "        vertical-align: middle;\n",
       "    }\n",
       "\n",
       "    .dataframe tbody tr th {\n",
       "        vertical-align: top;\n",
       "    }\n",
       "\n",
       "    .dataframe thead th {\n",
       "        text-align: right;\n",
       "    }\n",
       "</style>\n",
       "<table border=\"1\" class=\"dataframe\">\n",
       "  <thead>\n",
       "    <tr style=\"text-align: right;\">\n",
       "      <th></th>\n",
       "      <th>train-logloss-mean</th>\n",
       "      <th>train-logloss-std</th>\n",
       "      <th>train-auc-mean</th>\n",
       "      <th>train-auc-std</th>\n",
       "      <th>train-error-mean</th>\n",
       "      <th>train-error-std</th>\n",
       "      <th>test-logloss-mean</th>\n",
       "      <th>test-logloss-std</th>\n",
       "      <th>test-auc-mean</th>\n",
       "      <th>test-auc-std</th>\n",
       "      <th>test-error-mean</th>\n",
       "      <th>test-error-std</th>\n",
       "    </tr>\n",
       "  </thead>\n",
       "  <tbody>\n",
       "    <tr>\n",
       "      <th>0</th>\n",
       "      <td>0.508132</td>\n",
       "      <td>0.006270</td>\n",
       "      <td>0.972983</td>\n",
       "      <td>0.008762</td>\n",
       "      <td>0.0795</td>\n",
       "      <td>0.005788</td>\n",
       "      <td>0.616481</td>\n",
       "      <td>0.026422</td>\n",
       "      <td>0.731452</td>\n",
       "      <td>0.058901</td>\n",
       "      <td>0.314</td>\n",
       "      <td>0.057131</td>\n",
       "    </tr>\n",
       "    <tr>\n",
       "      <th>1</th>\n",
       "      <td>0.391002</td>\n",
       "      <td>0.005626</td>\n",
       "      <td>0.994763</td>\n",
       "      <td>0.000982</td>\n",
       "      <td>0.0365</td>\n",
       "      <td>0.012309</td>\n",
       "      <td>0.559781</td>\n",
       "      <td>0.043146</td>\n",
       "      <td>0.765420</td>\n",
       "      <td>0.059205</td>\n",
       "      <td>0.276</td>\n",
       "      <td>0.066212</td>\n",
       "    </tr>\n",
       "    <tr>\n",
       "      <th>2</th>\n",
       "      <td>0.309110</td>\n",
       "      <td>0.006440</td>\n",
       "      <td>0.998074</td>\n",
       "      <td>0.000782</td>\n",
       "      <td>0.0170</td>\n",
       "      <td>0.003674</td>\n",
       "      <td>0.526749</td>\n",
       "      <td>0.059508</td>\n",
       "      <td>0.791202</td>\n",
       "      <td>0.062296</td>\n",
       "      <td>0.252</td>\n",
       "      <td>0.057758</td>\n",
       "    </tr>\n",
       "    <tr>\n",
       "      <th>3</th>\n",
       "      <td>0.245860</td>\n",
       "      <td>0.004935</td>\n",
       "      <td>0.999762</td>\n",
       "      <td>0.000257</td>\n",
       "      <td>0.0055</td>\n",
       "      <td>0.003317</td>\n",
       "      <td>0.500056</td>\n",
       "      <td>0.064319</td>\n",
       "      <td>0.811616</td>\n",
       "      <td>0.058010</td>\n",
       "      <td>0.218</td>\n",
       "      <td>0.066453</td>\n",
       "    </tr>\n",
       "    <tr>\n",
       "      <th>4</th>\n",
       "      <td>0.199654</td>\n",
       "      <td>0.005781</td>\n",
       "      <td>0.999905</td>\n",
       "      <td>0.000117</td>\n",
       "      <td>0.0020</td>\n",
       "      <td>0.001000</td>\n",
       "      <td>0.487882</td>\n",
       "      <td>0.072749</td>\n",
       "      <td>0.817722</td>\n",
       "      <td>0.060889</td>\n",
       "      <td>0.226</td>\n",
       "      <td>0.067112</td>\n",
       "    </tr>\n",
       "  </tbody>\n",
       "</table>\n",
       "</div>"
      ],
      "text/plain": [
       "   train-logloss-mean  train-logloss-std  train-auc-mean  train-auc-std  \\\n",
       "0            0.508132           0.006270        0.972983       0.008762   \n",
       "1            0.391002           0.005626        0.994763       0.000982   \n",
       "2            0.309110           0.006440        0.998074       0.000782   \n",
       "3            0.245860           0.004935        0.999762       0.000257   \n",
       "4            0.199654           0.005781        0.999905       0.000117   \n",
       "\n",
       "   train-error-mean  train-error-std  test-logloss-mean  test-logloss-std  \\\n",
       "0            0.0795         0.005788           0.616481          0.026422   \n",
       "1            0.0365         0.012309           0.559781          0.043146   \n",
       "2            0.0170         0.003674           0.526749          0.059508   \n",
       "3            0.0055         0.003317           0.500056          0.064319   \n",
       "4            0.0020         0.001000           0.487882          0.072749   \n",
       "\n",
       "   test-auc-mean  test-auc-std  test-error-mean  test-error-std  \n",
       "0       0.731452      0.058901            0.314        0.057131  \n",
       "1       0.765420      0.059205            0.276        0.066212  \n",
       "2       0.791202      0.062296            0.252        0.057758  \n",
       "3       0.811616      0.058010            0.218        0.066453  \n",
       "4       0.817722      0.060889            0.226        0.067112  "
      ]
     },
     "execution_count": 87,
     "metadata": {},
     "output_type": "execute_result"
    }
   ],
   "source": [
    "results.head()"
   ]
  },
  {
   "cell_type": "code",
   "execution_count": 89,
   "id": "b2149a58-88d3-4d52-953a-04e1b6895de8",
   "metadata": {
    "tags": []
   },
   "outputs": [],
   "source": [
    "# hyperparameter tuning with cross-validation"
   ]
  },
  {
   "cell_type": "code",
   "execution_count": null,
   "id": "1d67aef5-9f75-48d3-96a4-5da2dfd438d0",
   "metadata": {},
   "outputs": [],
   "source": []
  },
  {
   "cell_type": "code",
   "execution_count": null,
   "id": "e6f1248c-ffcc-41f8-af97-3c444402cc88",
   "metadata": {},
   "outputs": [],
   "source": []
  },
  {
   "cell_type": "code",
   "execution_count": null,
   "id": "5454dba1-380c-4d75-89af-332fc25f2ea4",
   "metadata": {},
   "outputs": [],
   "source": []
  },
  {
   "cell_type": "markdown",
   "id": "7546cbc3-5c1b-4e2c-9e45-69a30e107bea",
   "metadata": {},
   "source": [
    "# Validation"
   ]
  },
  {
   "cell_type": "code",
   "execution_count": 90,
   "id": "8688c389-d301-4da7-8cee-ea7f85844467",
   "metadata": {
    "tags": []
   },
   "outputs": [],
   "source": [
    "preds = model.predict(dval)"
   ]
  },
  {
   "cell_type": "code",
   "execution_count": 93,
   "id": "bacd73a4-f9ee-4e03-8f72-65a4d4713b84",
   "metadata": {
    "tags": []
   },
   "outputs": [
    {
     "name": "stdout",
     "output_type": "stream",
     "text": [
      "preds tyep:  <class 'numpy.ndarray'>\n",
      "preds shape:  (100,)\n",
      "preds:\n",
      " [0.33795464 0.9734629  0.12072904 0.9960601  0.08313764 0.46035868\n",
      " 0.7917764  0.96411616 0.7684967  0.89821446 0.89954054 0.35246402\n",
      " 0.9395617  0.89338136 0.2709972  0.9884241  0.991553   0.1372957\n",
      " 0.9111583  0.22615255 0.59044766 0.886293   0.6430878  0.99099535\n",
      " 0.21737342 0.92895836 0.07304604 0.98452675 0.29367244 0.13176289\n",
      " 0.9742159  0.92201746 0.9881207  0.965901   0.9710659  0.963851\n",
      " 0.9866866  0.3645265  0.04148287 0.59836787 0.951548   0.99273914\n",
      " 0.75967115 0.98820335 0.98685116 0.88409835 0.7781451  0.63237274\n",
      " 0.9563478  0.95762193 0.97649515 0.9344622  0.97822624 0.33608955\n",
      " 0.9536734  0.98340076 0.7211842  0.7145676  0.9114022  0.99242955\n",
      " 0.5645949  0.75682944 0.98043984 0.9810286  0.61620265 0.98410565\n",
      " 0.9153689  0.98762727 0.99475265 0.9866536  0.46690845 0.8443176\n",
      " 0.6204501  0.99104136 0.93520904 0.93287086 0.38465348 0.93032485\n",
      " 0.99072343 0.9554291  0.9946272  0.9472902  0.89231074 0.9679501\n",
      " 0.97249526 0.9337112  0.9776718  0.97299653 0.93542594 0.97726303\n",
      " 0.95440495 0.94342494 0.9866768  0.9797809  0.40951875 0.2210372\n",
      " 0.9832555  0.9637819  0.9619924  0.6105704 ]\n"
     ]
    }
   ],
   "source": [
    "print('preds tyep: ', type(preds))\n",
    "print('preds shape: ', preds.shape)\n",
    "print('preds:\\n',preds)"
   ]
  },
  {
   "cell_type": "code",
   "execution_count": 102,
   "id": "1cfab0e5-0dee-4794-ac43-1e82b765366a",
   "metadata": {
    "tags": []
   },
   "outputs": [
    {
     "name": "stdout",
     "output_type": "stream",
     "text": [
      "Thresholded preds:\n",
      " [0 1 0 1 0 0 1 1 1 1 1 0 1 1 0 1 1 0 1 0 1 1 1 1 0 1 0 1 0 0 1 1 1 1 1 1 1\n",
      " 0 0 1 1 1 1 1 1 1 1 1 1 1 1 1 1 0 1 1 1 1 1 1 1 1 1 1 1 1 1 1 1 1 0 1 1 1\n",
      " 1 1 0 1 1 1 1 1 1 1 1 1 1 1 1 1 1 1 1 1 0 0 1 1 1 1]\n",
      "Ground-truth val. labels:\n",
      " [1. 1. 0. 1. 0. 1. 1. 1. 1. 1. 1. 0. 1. 0. 1. 1. 1. 1. 1. 0. 0. 0. 1. 1.\n",
      " 1. 1. 0. 1. 0. 0. 1. 0. 1. 1. 1. 1. 0. 0. 1. 0. 1. 1. 1. 1. 1. 1. 0. 0.\n",
      " 0. 1. 1. 1. 1. 1. 0. 1. 1. 1. 1. 1. 0. 1. 1. 1. 0. 1. 0. 1. 1. 1. 0. 1.\n",
      " 0. 1. 1. 1. 1. 1. 1. 1. 1. 1. 1. 1. 0. 1. 1. 1. 1. 1. 0. 1. 1. 1. 0. 0.\n",
      " 1. 1. 1. 1.]\n",
      "Val. accuracy:  0.76\n",
      "Val. error rate:  0.24\n"
     ]
    }
   ],
   "source": [
    "preds_th = (preds > 0.5).astype(int)\n",
    "gt_lbls = (val_data['lbls']+1)//2\n",
    "acc = sum(preds_th == gt_lbls)/len(gt_lbls)\n",
    "err = sum(preds_th != gt_lbls)/len(gt_lbls)\n",
    "\n",
    "\n",
    "print('Thresholded preds:\\n', preds_th)\n",
    "print('Ground-truth val. labels:\\n', gt_lbls)\n",
    "print('Val. accuracy: ', acc)\n",
    "print('Val. error rate: ', err)"
   ]
  },
  {
   "cell_type": "code",
   "execution_count": null,
   "id": "be267bf4-9466-485a-8cd4-6ed096302267",
   "metadata": {},
   "outputs": [],
   "source": []
  },
  {
   "cell_type": "code",
   "execution_count": null,
   "id": "101783ed-3a56-447c-80cb-1822ff065fc7",
   "metadata": {},
   "outputs": [],
   "source": []
  },
  {
   "cell_type": "code",
   "execution_count": null,
   "id": "93b97c79-5fd7-455f-b926-f1cc824d465d",
   "metadata": {},
   "outputs": [],
   "source": []
  },
  {
   "cell_type": "code",
   "execution_count": null,
   "id": "89fbd5d3-8505-4297-8e62-482c99bda0b3",
   "metadata": {},
   "outputs": [],
   "source": []
  },
  {
   "cell_type": "code",
   "execution_count": null,
   "id": "0e0b7d4b-6305-4f95-87ae-7a39dab9f6ea",
   "metadata": {},
   "outputs": [],
   "source": []
  },
  {
   "cell_type": "code",
   "execution_count": null,
   "id": "c967d043-b4b6-437a-accd-c352e5e002b9",
   "metadata": {},
   "outputs": [],
   "source": []
  },
  {
   "cell_type": "code",
   "execution_count": null,
   "id": "7d90621b-05e4-4170-8417-8549d3f230a5",
   "metadata": {},
   "outputs": [],
   "source": []
  },
  {
   "cell_type": "code",
   "execution_count": null,
   "id": "089be423-8495-4618-8a7b-342c2b527318",
   "metadata": {},
   "outputs": [],
   "source": []
  }
 ],
 "metadata": {
  "kernelspec": {
   "display_name": "Python 3 (ipykernel)",
   "language": "python",
   "name": "python3"
  },
  "language_info": {
   "codemirror_mode": {
    "name": "ipython",
    "version": 3
   },
   "file_extension": ".py",
   "mimetype": "text/x-python",
   "name": "python",
   "nbconvert_exporter": "python",
   "pygments_lexer": "ipython3",
   "version": "3.9.13"
  }
 },
 "nbformat": 4,
 "nbformat_minor": 5
}
