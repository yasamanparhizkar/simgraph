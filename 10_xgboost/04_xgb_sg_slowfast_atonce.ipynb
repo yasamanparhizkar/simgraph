{
 "cells": [
  {
   "cell_type": "code",
   "execution_count": 1,
   "id": "1dc84eb6-1262-4721-a91c-e9b05fa9d9bf",
   "metadata": {
    "tags": []
   },
   "outputs": [],
   "source": [
    "import numpy as np\n",
    "import matplotlib.pyplot as plt"
   ]
  },
  {
   "cell_type": "code",
   "execution_count": 5,
   "id": "c5e5e87a-d08a-4b03-a409-b6a897128fe9",
   "metadata": {
    "tags": []
   },
   "outputs": [],
   "source": [
    "# get xgb curves\n",
    "res_path = '../../data/experiments/slowfast/slowfast_xgb/2023_03_13-no-hypertune/'\n",
    "quantities = ['min_acc', 'val_acc', 'missed', 'false_alarm']\n",
    "val_sizes = [10]\n",
    "xgb_curves = {}\n",
    "xgb_errors = {}\n",
    "for i in range(len(val_sizes)):\n",
    "    curves_i = np.loadtxt(res_path+'curves_'+str(i)+'.txt')\n",
    "    curves_i = curves_i.reshape(8, -1)\n",
    "    j = 0\n",
    "    for quantity in quantities:\n",
    "        if i == 0:\n",
    "            xgb_curves[quantity] = curves_i[2*j].reshape(1, -1)\n",
    "            xgb_errors[quantity] = curves_i[2*j+1].reshape(1, -1)\n",
    "        else:\n",
    "            xgb_curves[quantity] = np.concatenate((curves[quantity], [curves_i[2*j]]), axis=0)\n",
    "            xgb_errors[quantity] = np.concatenate((errors[quantity], [curves_i[2*j+1]]), axis=0)\n",
    "        j += 1\n"
   ]
  },
  {
   "cell_type": "code",
   "execution_count": 6,
   "id": "fc6b84e0-212f-472c-aff8-24d8c863b9bc",
   "metadata": {
    "tags": []
   },
   "outputs": [
    {
     "data": {
      "text/plain": [
       "{'min_acc': array([[0.5, 0.5, 0.5, 0.5, 0.5, 0.5]]),\n",
       " 'val_acc': array([[0.669, 0.674, 0.746, 0.744, 0.758, 0.772]]),\n",
       " 'missed': array([[0.39 , 0.35 , 0.28 , 0.276, 0.316, 0.268]]),\n",
       " 'false_alarm': array([[0.272, 0.302, 0.228, 0.236, 0.168, 0.188]])}"
      ]
     },
     "execution_count": 6,
     "metadata": {},
     "output_type": "execute_result"
    }
   ],
   "source": [
    "xgb_curves"
   ]
  },
  {
   "cell_type": "code",
   "execution_count": 7,
   "id": "b48313c7-6b57-461d-8d81-a19b3eecaab3",
   "metadata": {
    "tags": []
   },
   "outputs": [
    {
     "data": {
      "text/plain": [
       "{'min_acc': array([[0., 0., 0., 0., 0., 0.]]),\n",
       " 'val_acc': array([[0.03014963, 0.054626  , 0.04521062, 0.05444263, 0.04354308,\n",
       "         0.0401995 ]]),\n",
       " 'missed': array([[0.09088454, 0.08062258, 0.06196773, 0.07472617, 0.07144228,\n",
       "         0.07807689]]),\n",
       " 'false_alarm': array([[0.10047885, 0.11187493, 0.08447485, 0.05425864, 0.04489989,\n",
       "         0.053066  ]])}"
      ]
     },
     "execution_count": 7,
     "metadata": {},
     "output_type": "execute_result"
    }
   ],
   "source": [
    "xgb_errors"
   ]
  },
  {
   "cell_type": "code",
   "execution_count": 12,
   "id": "d8c0e394-e774-4573-9b5e-daa14240acd5",
   "metadata": {
    "tags": []
   },
   "outputs": [],
   "source": [
    "# get sg curves\n",
    "res_path = '../../data/experiments/slowfast/slowfast_sg/'\n",
    "quantities = ['min_acc', 'val_acc', 'missed', 'false_alarm']\n",
    "val_sizes = [10]\n",
    "sg_curves = {}\n",
    "sg_errors = {}\n",
    "curves_i = np.loadtxt(res_path+'curves_sg.txt')\n",
    "curves_i = curves_i.reshape(8, -1)\n",
    "j = 0\n",
    "for quantity in quantities:\n",
    "    sg_curves[quantity] = curves_i[2*j].reshape(1, -1)\n",
    "    sg_errors[quantity] = curves_i[2*j+1].reshape(1, -1)\n",
    "    j += 1"
   ]
  },
  {
   "cell_type": "code",
   "execution_count": 13,
   "id": "46c8d2e7-8c7b-4df2-a387-c01699dc3ce9",
   "metadata": {
    "tags": []
   },
   "outputs": [
    {
     "data": {
      "text/plain": [
       "{'min_acc': array([[0.5, 0.5, 0.5, 0.5, 0.5, 0.5]]),\n",
       " 'val_acc': array([[0.684, 0.702, 0.778, 0.766, 0.794, 0.77 ]]),\n",
       " 'missed': array([[0.48 , 0.404, 0.304, 0.312, 0.22 , 0.33 ]]),\n",
       " 'false_alarm': array([[0.152, 0.192, 0.14 , 0.156, 0.192, 0.13 ]])}"
      ]
     },
     "execution_count": 13,
     "metadata": {},
     "output_type": "execute_result"
    }
   ],
   "source": [
    "sg_curves"
   ]
  },
  {
   "cell_type": "code",
   "execution_count": 14,
   "id": "95369cd3-f999-46bf-8b14-e8105be01210",
   "metadata": {
    "tags": []
   },
   "outputs": [
    {
     "data": {
      "text/plain": [
       "{'min_acc': array([[0., 0., 0., 0., 0., 0.]]),\n",
       " 'val_acc': array([[0.0484    , 0.0397    , 0.0319    , 0.0224    , 0.045     ,\n",
       "         0.08056618]]),\n",
       " 'missed': array([[0.0669    , 0.1007    , 0.0824    , 0.0483    , 0.0738    ,\n",
       "         0.16267648]]),\n",
       " 'false_alarm': array([[0.0483    , 0.09      , 0.0727    , 0.0265    , 0.0412    ,\n",
       "         0.12558952]])}"
      ]
     },
     "execution_count": 14,
     "metadata": {},
     "output_type": "execute_result"
    }
   ],
   "source": [
    "sg_errors"
   ]
  },
  {
   "cell_type": "code",
   "execution_count": 28,
   "id": "90657326-8903-4152-a597-8e5d898ae7bb",
   "metadata": {
    "tags": []
   },
   "outputs": [],
   "source": [
    "# plot curves\n",
    "res_path = '../../data/experiments/slowfast/slowfast_xgb/2023_03_13-no-hypertune/comparison_plots/'\n",
    "train_sizes = [50, 100, 150, 200, 250, 300]\n",
    "val_sizes = [10]\n",
    "i = 0\n",
    "for quantity in quantities:\n",
    "    plt.figure(figsize=(8,4))\n",
    "    plt.errorbar(train_sizes, sg_curves['min_acc'][i], sg_errors['min_acc'][i])\n",
    "    plt.errorbar(train_sizes, sg_curves[quantity][i], sg_errors[quantity][i])\n",
    "    plt.errorbar(train_sizes, xgb_curves[quantity][i], xgb_errors[quantity][i])\n",
    "    plt.legend(['min_acc','sg','xgb'])\n",
    "    plt.xlabel('training set size')\n",
    "    plt.ylabel(str(quantity))\n",
    "    plt.ylim([0,1])\n",
    "    _ = plt.title('val. set size = {}'.format(val_sizes[i]))\n",
    "    plt.savefig(res_path+'curves_'+str(quantity)+'.png')\n",
    "    plt.close()"
   ]
  },
  {
   "cell_type": "code",
   "execution_count": null,
   "id": "97bd08dd-36eb-468f-9849-a4449da70abd",
   "metadata": {},
   "outputs": [],
   "source": []
  },
  {
   "cell_type": "code",
   "execution_count": null,
   "id": "ae246f9a-877f-49cc-9aa0-8ba4740aefee",
   "metadata": {},
   "outputs": [],
   "source": []
  },
  {
   "cell_type": "code",
   "execution_count": null,
   "id": "53dcaa5c-57fe-4f28-8adf-1a9026049081",
   "metadata": {},
   "outputs": [],
   "source": []
  },
  {
   "cell_type": "code",
   "execution_count": null,
   "id": "1db7f7cf-f4cd-4484-a5e6-292bbca53d7d",
   "metadata": {},
   "outputs": [],
   "source": []
  },
  {
   "cell_type": "code",
   "execution_count": null,
   "id": "88062312-1817-42db-a591-a8c9534055fc",
   "metadata": {},
   "outputs": [],
   "source": []
  },
  {
   "cell_type": "code",
   "execution_count": null,
   "id": "d6cc1711-4312-4f10-9511-013428f75815",
   "metadata": {},
   "outputs": [],
   "source": []
  },
  {
   "cell_type": "code",
   "execution_count": null,
   "id": "311a61c2-4e2a-4908-bee6-92fa1087d843",
   "metadata": {},
   "outputs": [],
   "source": []
  },
  {
   "cell_type": "code",
   "execution_count": null,
   "id": "f0df0688-e1e2-4513-8c8e-1ef5aeabaad0",
   "metadata": {},
   "outputs": [],
   "source": []
  }
 ],
 "metadata": {
  "kernelspec": {
   "display_name": "Python 3 (ipykernel)",
   "language": "python",
   "name": "python3"
  },
  "language_info": {
   "codemirror_mode": {
    "name": "ipython",
    "version": 3
   },
   "file_extension": ".py",
   "mimetype": "text/x-python",
   "name": "python",
   "nbconvert_exporter": "python",
   "pygments_lexer": "ipython3",
   "version": "3.9.13"
  }
 },
 "nbformat": 4,
 "nbformat_minor": 5
}
