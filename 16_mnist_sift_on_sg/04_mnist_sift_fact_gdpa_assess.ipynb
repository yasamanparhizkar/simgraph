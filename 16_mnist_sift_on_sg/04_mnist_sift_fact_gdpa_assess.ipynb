{
 "cells": [
  {
   "cell_type": "code",
   "execution_count": 2,
   "id": "1559fcec",
   "metadata": {
    "tags": []
   },
   "outputs": [],
   "source": [
    "import numpy as np\n",
    "import matplotlib.pyplot as plt\n",
    "import matlab.engine # to run Cheng's code\n",
    "import os\n",
    "\n",
    "# add the path to my packages to system paths so they can be imported\n",
    "import sys\n",
    "sys.path.append('/home/yasamanparhizkar/Documents/yorku/01_thesis/code/my_packages')\n",
    "# sys.path.append('F:\\MAScThesis\\code\\my_packages')\n",
    "# sys.path.append('/home/yasamanparhizkar/Documents/thesis/code/my_packages')\n",
    "\n",
    "import data_handler_03 as dh\n",
    "import my_simgraph_06 as sg\n",
    "import assess_simgraph_05_fact_gdpa as asg"
   ]
  },
  {
   "cell_type": "markdown",
   "id": "14b25ab2-987b-40b8-bee2-a4b14c982c29",
   "metadata": {
    "tags": []
   },
   "source": [
    "# Assess the model's performance with random tests"
   ]
  },
  {
   "cell_type": "code",
   "execution_count": 7,
   "id": "03442d6e-dfae-4b33-bee6-a4b5bc828a7a",
   "metadata": {
    "tags": []
   },
   "outputs": [],
   "source": [
    "def get_mnist_labels(data_params):\n",
    "    return np.loadtxt(data_params['features_dp']+'lbls.csv')\n",
    "\n",
    "# data retrieval params\n",
    "data_params = {'func': dh.datapoint_sift, 'lbl_func': get_mnist_labels, 'features_dp': '../../data/fe_exp/mnist-sift/', \\\n",
    "               'spike_data': None, 'group_id': None, 'transform': None, 'ind_min': 0, 'ind_max': 13203}\n",
    "\n",
    "# graph construction and penalty term parameters\n",
    "sg_params = {'mu': 30, 'Dt': None, 'Dv':0, 'Dvt':2000, \\\n",
    "             'cnstr_method_tt': 'time', 'cnstr_method_vv': 'time', 'cnstr_method_vt': 'time',\\\n",
    "             'train_t': None, 'val_t': None, \\\n",
    "             'edges_tt':None, 'edges_vv':None, 'edges_vt':None, }\n",
    "\n",
    "# gradient descent parameters\n",
    "sg_opt_params = { 'epsilon0':1, 'epsilon_decay':0.5, 'epsilon_jump': 2, \\\n",
    "                'num_its':16, 'check_freq':1, 'print_checks':False, 'Theta0':None, \\\n",
    "                'force_all_its': True, 'threshold': 0.01}\n",
    "\n",
    "# randomization parameters\n",
    "rnd_params = {'train_sizes': [50, 100, 150, 200, 250], 'val_sizes': [50], 'train_its': 5, 'val_its': 10, 'seed': None}\n",
    "# rnd_params = {'train_sizes': [400], 'val_sizes': [10], 'train_its': 2, 'val_its': 3, 'seed': None}\n",
    "\n",
    "# parameters to visualize the optimized M\n",
    "f_sz = 256 # must match data_params\n",
    "xloc = np.broadcast_to(np.arange(f_sz), (f_sz, f_sz))\n",
    "yloc = xloc.T\n",
    "fig_params = {'rmark_th': 30, 'f_sz': f_sz, 'xloc': xloc, 'yloc': yloc}\n",
    "\n",
    "# start a matlab engine to run Cheng's code\n",
    "eng = matlab.engine.start_matlab()\n",
    "eng.cd(r'/home/yasamanparhizkar/Documents/yorku/01_thesis/code/15_cheng', nargout=0)\n",
    "\n",
    "# path to save the results\n",
    "res_path_fact = '../../data/experiments/comparison/temp/sg-fact/'\n",
    "res_path_gdpa = '../../data/experiments/comparison/temp/sg-gdpa/'"
   ]
  },
  {
   "cell_type": "code",
   "execution_count": 8,
   "id": "10e984ad-acfa-4afe-8de6-3a5f7ca894ee",
   "metadata": {
    "tags": []
   },
   "outputs": [],
   "source": [
    "# import importlib\n",
    "# importlib.reload(sg)\n",
    "# importlib.reload(asg)"
   ]
  },
  {
   "cell_type": "code",
   "execution_count": null,
   "id": "3eb32f59-072f-4078-924d-8523416c1227",
   "metadata": {
    "scrolled": true,
    "tags": []
   },
   "outputs": [
    {
     "name": "stdout",
     "output_type": "stream",
     "text": [
      "-> Iteration ID: 50_50_0\n",
      "starting SGML.\n",
      "initial objective value = -540.0195\n",
      " \n",
      "converged objective value = -4314.2946\n",
      "minimal eigenvalue of M = -0.0026937\n",
      "done with SGML.\n",
      "-> Iteration ID: 50_50_1\n",
      "starting SGML.\n",
      "initial objective value = -453.9745\n",
      " \n",
      "converged objective value = -2823.1073\n",
      "minimal eigenvalue of M = -0.0001547\n",
      "done with SGML.\n",
      "-> Iteration ID: 50_50_2\n",
      "starting SGML.\n",
      "initial objective value = -529.3192\n",
      " \n",
      "converged objective value = -3944.7622\n",
      "minimal eigenvalue of M = -1.1372e-05\n",
      "done with SGML.\n",
      "-> Iteration ID: 50_50_3\n",
      "starting SGML.\n",
      "initial objective value = -498.2192\n",
      " \n",
      "converged objective value = -4484.3653\n",
      "minimal eigenvalue of M = -3.3585e-06\n",
      "done with SGML.\n",
      "-> Iteration ID: 50_50_4\n",
      "starting SGML.\n",
      "initial objective value = -582.958\n",
      " \n",
      "converged objective value = -5118.1851\n",
      "minimal eigenvalue of M = -0.0023306\n",
      "done with SGML.\n",
      "-> Iteration ID: 50_100_0\n",
      "starting SGML.\n",
      "initial objective value = -1601.9049\n",
      " \n",
      "converged objective value = -12407.9687\n",
      "minimal eigenvalue of M = -0.00012609\n",
      "done with SGML.\n",
      "-> Iteration ID: 50_100_1\n",
      "starting SGML.\n",
      "initial objective value = -2040.5573\n",
      "===trying with larger OptimalityTolerance===\n",
      " \n",
      "converged objective value = -15966.3186\n",
      "minimal eigenvalue of M = -137.4002\n",
      "done with SGML.\n",
      "-> Iteration ID: 50_100_2\n",
      "starting SGML.\n",
      "initial objective value = -1823.1637\n",
      " \n",
      "converged objective value = -6440.9201\n",
      "minimal eigenvalue of M = 0.00010378\n",
      "done with SGML.\n",
      "-> Iteration ID: 50_100_3\n",
      "starting SGML.\n",
      "initial objective value = -1849.2989\n",
      " \n",
      "converged objective value = -12233.6038\n",
      "minimal eigenvalue of M = -0.00011131\n",
      "done with SGML.\n",
      "-> Iteration ID: 50_100_4\n",
      "starting SGML.\n",
      "initial objective value = -2051.6025\n",
      " \n",
      "converged objective value = -11641.2597\n",
      "minimal eigenvalue of M = 1e-05\n",
      "done with SGML.\n",
      "-> Iteration ID: 50_150_0\n",
      "starting SGML.\n",
      "initial objective value = -4008.7002\n",
      " \n",
      "converged objective value = -25597.1148\n",
      "minimal eigenvalue of M = 9.9972e-06\n",
      "done with SGML.\n",
      "-> Iteration ID: 50_150_1\n",
      "starting SGML.\n",
      "initial objective value = -4435.3037\n",
      " \n",
      "converged objective value = -32036.665\n",
      "minimal eigenvalue of M = -0.00079783\n",
      "done with SGML.\n",
      "-> Iteration ID: 50_150_2\n",
      "starting SGML.\n",
      "initial objective value = -4631.0078\n",
      " \n",
      "converged objective value = -33866.1952\n",
      "minimal eigenvalue of M = -0.0021133\n",
      "done with SGML.\n",
      "-> Iteration ID: 50_150_3\n",
      "starting SGML.\n",
      "initial objective value = -4249.6309\n",
      " \n",
      "converged objective value = -30857.9959\n",
      "minimal eigenvalue of M = -0.00018622\n",
      "done with SGML.\n",
      "-> Iteration ID: 50_150_4\n",
      "starting SGML.\n",
      "initial objective value = -4605.745\n",
      " \n",
      "converged objective value = -33942.3765\n",
      "minimal eigenvalue of M = -0.0013072\n",
      "done with SGML.\n",
      "-> Iteration ID: 50_200_0\n",
      "starting SGML.\n",
      "initial objective value = -7875.8088\n",
      "===trying with larger OptimalityTolerance===\n",
      " \n",
      "converged objective value = -47701.2786\n",
      "minimal eigenvalue of M = 9.4558e-06\n",
      "done with SGML.\n",
      "-> Iteration ID: 50_200_1\n",
      "starting SGML.\n",
      "initial objective value = -6726.7557\n",
      " \n",
      "converged objective value = -44374.8276\n",
      "minimal eigenvalue of M = 6.6482e-06\n",
      "done with SGML.\n"
     ]
    }
   ],
   "source": [
    "# times will be measured together and  written in res_path_sg\n",
    "val_num_res_sg, val_num_err_sg, val_num_res_lgrg, val_num_err_lgrg = asg.assess_sg_model(eng, data_params, sg_params, sg_opt_params, rnd_params, fig_params, res_path_fact, res_path_gdpa)"
   ]
  },
  {
   "cell_type": "code",
   "execution_count": null,
   "id": "74f5c860-72ef-4e86-ad88-9acae67d5839",
   "metadata": {
    "tags": []
   },
   "outputs": [],
   "source": [
    "asg.plot_curves(rnd_params, sg_params, res_path_sg)"
   ]
  },
  {
   "cell_type": "code",
   "execution_count": null,
   "id": "8b11b71c-ed44-4a97-8c84-3c190d97733b",
   "metadata": {},
   "outputs": [],
   "source": [
    "asg.plot_curves_without_runtime(rnd_params, sg_params, res_path_lgrg)"
   ]
  },
  {
   "cell_type": "code",
   "execution_count": null,
   "id": "5f5d19f6-dcf0-442f-8c97-7d33918c95dc",
   "metadata": {
    "tags": []
   },
   "outputs": [],
   "source": [
    "# close the matlab engine when you're done\n",
    "eng.quit()"
   ]
  },
  {
   "cell_type": "markdown",
   "id": "b4a62b09-528a-452f-b888-24b751096528",
   "metadata": {},
   "source": [
    "# Plot similarity graph and logistic regression validation accuracies together"
   ]
  },
  {
   "cell_type": "code",
   "execution_count": null,
   "id": "8c5fda52-6076-4b28-9bee-5b3cc31a83a9",
   "metadata": {
    "tags": []
   },
   "outputs": [],
   "source": [
    "# unpack params\n",
    "train_sizes = rnd_params['train_sizes']\n",
    "val_sizes = rnd_params['val_sizes']\n",
    "train_its = rnd_params['train_its']\n",
    "val_its = rnd_params['val_its']\n",
    "assess_qs = ['min_acc', 'val_acc', 'missed', 'false_alarm']\n",
    "\n",
    "# read sg training curves\n",
    "curves_sg = {}\n",
    "errors_sg = {}\n",
    "for i in range(len(val_sizes)):\n",
    "    curves_i = np.loadtxt(res_path_fact+'curves/train_'+str(i)+'.txt')\n",
    "    j = 0\n",
    "    for quantity in assess_qs:\n",
    "        if i==0:\n",
    "            curves_sg[quantity] = curves_i[j::8].reshape((1, -1))\n",
    "            errors_sg[quantity] = curves_i[j+1::8].reshape((1, -1))\n",
    "        else:\n",
    "            curves_sg[quantity] = np.concatenate((curves[quantity], [curves_i[j::8]]), axis=0)\n",
    "            errors_sg[quantity] = np.concatenate((errors[quantity], [curves_i[j+1::8]]), axis=0)\n",
    "        j += 2\n",
    "        \n",
    "# read lgrg training curves\n",
    "curves_lgrg = {}\n",
    "errors_lgrg = {}\n",
    "for i in range(len(val_sizes)):\n",
    "    curves_i = np.loadtxt(res_path_gdpa+'curves/train_'+str(i)+'.txt')\n",
    "    j = 0\n",
    "    for quantity in assess_qs:\n",
    "        if i==0:\n",
    "            curves_lgrg[quantity] = curves_i[j::8].reshape((1, -1))\n",
    "            errors_lgrg[quantity] = curves_i[j+1::8].reshape((1, -1))\n",
    "        else:\n",
    "            curves_lgrg[quantity] = np.concatenate((curves[quantity], [curves_i[j::8]]), axis=0)\n",
    "            errors_lgrg[quantity] = np.concatenate((errors[quantity], [curves_i[j+1::8]]), axis=0)\n",
    "        j += 2\n",
    "\n",
    "# plot training curves\n",
    "plt.figure(figsize=(7,4))\n",
    "plt.subplots_adjust(left=0.1,bottom=0.1,right=0.9,top=0.9,wspace=0.8,hspace=0.8)\n",
    "for i in range(len(val_sizes)):\n",
    "    plt.subplot(len(val_sizes), 1, i+1)\n",
    "    plt.errorbar(train_sizes, curves_sg['val_acc'][i], errors_sg['val_acc'][i])\n",
    "    plt.errorbar(train_sizes, curves_lgrg['val_acc'][i], errors_lgrg['val_acc'][i])\n",
    "    plt.legend(['sg', 'lgrg'])\n",
    "    plt.xlabel('training set size')\n",
    "    plt.ylabel('{} val repeats x {} train repeats'.format(val_its, train_its))\n",
    "    _ = plt.title('val. set size = {}, Dt = {}, Dvt = {}, Dv = {}'.format(val_sizes[i], sg_params['Dt'], sg_params['Dvt'], sg_params['Dv']))\n",
    "plt.savefig(res_path_gdpa+'val_acc_compare.png')"
   ]
  },
  {
   "cell_type": "code",
   "execution_count": null,
   "id": "0dcfed75-cd3b-4920-8bdf-36c1b647d962",
   "metadata": {},
   "outputs": [],
   "source": []
  },
  {
   "cell_type": "code",
   "execution_count": null,
   "id": "1aed3eb0-dd4c-46ab-9e7a-589cde2f1f29",
   "metadata": {},
   "outputs": [],
   "source": []
  },
  {
   "cell_type": "code",
   "execution_count": null,
   "id": "4668e272-1068-4993-8aca-2fa115e68b58",
   "metadata": {},
   "outputs": [],
   "source": []
  },
  {
   "cell_type": "code",
   "execution_count": null,
   "id": "e6655fb7-0599-4e9d-99b2-e67e0424be35",
   "metadata": {},
   "outputs": [],
   "source": []
  }
 ],
 "metadata": {
  "kernelspec": {
   "display_name": "Python 3 (ipykernel)",
   "language": "python",
   "name": "python3"
  },
  "language_info": {
   "codemirror_mode": {
    "name": "ipython",
    "version": 3
   },
   "file_extension": ".py",
   "mimetype": "text/x-python",
   "name": "python",
   "nbconvert_exporter": "python",
   "pygments_lexer": "ipython3",
   "version": "3.9.13"
  }
 },
 "nbformat": 4,
 "nbformat_minor": 5
}
