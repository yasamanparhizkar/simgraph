{
 "cells": [
  {
   "cell_type": "code",
   "execution_count": 17,
   "id": "00f27316",
   "metadata": {},
   "outputs": [],
   "source": [
    "import numpy as np\n",
    "import matplotlib.pyplot as plt\n",
    "import re\n",
    "import os"
   ]
  },
  {
   "cell_type": "code",
   "execution_count": 20,
   "id": "89e5771e",
   "metadata": {},
   "outputs": [],
   "source": [
    "res_path = '../../data/experiments/slowfast/slowfast_sg/temp/'\n",
    "file_name = 'log.txt'"
   ]
  },
  {
   "cell_type": "code",
   "execution_count": 21,
   "id": "fa19f0c9",
   "metadata": {},
   "outputs": [],
   "source": [
    "with open(res_path+file_name, 'r') as file:\n",
    "    # Read the contents of the file\n",
    "    content = file.read()\n",
    "\n",
    "    # Extract all the numbers from the content\n",
    "    numbers = re.findall(r'\\d+', content)"
   ]
  },
  {
   "cell_type": "code",
   "execution_count": 22,
   "id": "26623e0b",
   "metadata": {},
   "outputs": [],
   "source": [
    "numbers = np.array(list(map(int, numbers))).reshape((-1,11))"
   ]
  },
  {
   "cell_type": "code",
   "execution_count": 23,
   "id": "c5b59540",
   "metadata": {},
   "outputs": [],
   "source": [
    "numbers[:, 3] = numbers[:, 3] + numbers[:, 4] * (1e-2)\n",
    "numbers[:, 5] = numbers[:, 5] + numbers[:, 6] * (1e-2)\n",
    "numbers[:, 7] = numbers[:, 7] + numbers[:, 8] * (1e-2)\n",
    "numbers[:, 9] = numbers[:, 9] + numbers[:, 10] * (1e-2)"
   ]
  },
  {
   "cell_type": "code",
   "execution_count": 24,
   "id": "6922e106",
   "metadata": {},
   "outputs": [],
   "source": [
    "numbers = np.delete(numbers, 4, axis=1)\n",
    "numbers = np.delete(numbers, 5, axis=1)\n",
    "numbers = np.delete(numbers, 6, axis=1)\n",
    "numbers = np.delete(numbers, 7, axis=1)"
   ]
  },
  {
   "cell_type": "code",
   "execution_count": 25,
   "id": "d9f82f78",
   "metadata": {},
   "outputs": [],
   "source": [
    "# CHANGE\n",
    "t10 = numbers[0:204]\n",
    "t20 = numbers[208:412]\n",
    "t30 = numbers[416:620]\n",
    "t40 = numbers[624:828]\n",
    "t50 = numbers[832:1036]\n",
    "# t100 = numbers[530:630]\n",
    "# t150 = numbers[636:736]"
   ]
  },
  {
   "cell_type": "code",
   "execution_count": 27,
   "id": "195339f1",
   "metadata": {},
   "outputs": [],
   "source": [
    "# CHANGE\n",
    "s = 5\n",
    "arrs = [t10, t20, t30, t40, t50]\n",
    "# arrs = [t10, t20, t30, t40, t50, t100, t150]\n",
    "\n",
    "quants = np.arange(s*4).reshape((s,4)).astype(float)\n",
    "errors = np.arange(s*4).reshape((s,4)).astype(float)\n",
    "quants_s = np.arange(s*4).reshape((s,4)).astype(float)\n",
    "errors_s = np.arange(s*4).reshape((s,4)).astype(float)\n",
    "\n",
    "j = 0\n",
    "for arr in arrs:\n",
    "    for i in range(3,7):\n",
    "        quants[j, i-3] = np.mean(arr[::2, i]).astype(float)\n",
    "        errors[j, i-3] = np.std(arr[::2, i]).astype(float)\n",
    "        quants_s[j, i-3] = np.mean(arr[1::2, i]).astype(float)\n",
    "        errors_s[j, i-3] = np.std(arr[1::2, i]).astype(float)\n",
    "    j += 1\n",
    "    \n",
    "quants *= 0.01\n",
    "errors *= 0.01\n",
    "quants_s *= 0.01\n",
    "errors_s *= 0.01"
   ]
  },
  {
   "cell_type": "code",
   "execution_count": 28,
   "id": "7fcf2178",
   "metadata": {},
   "outputs": [
    {
     "data": {
      "text/plain": [
       "array([[0.5       , 0.59892157, 0.72107843, 0.08068627],\n",
       "       [0.5       , 0.62313725, 0.62205882, 0.13117647],\n",
       "       [0.5       , 0.66852941, 0.58372549, 0.07862745],\n",
       "       [0.5       , 0.68460784, 0.48872549, 0.14127451],\n",
       "       [0.5       , 0.69392157, 0.48676471, 0.12509804]])"
      ]
     },
     "execution_count": 28,
     "metadata": {},
     "output_type": "execute_result"
    }
   ],
   "source": [
    "quants"
   ]
  },
  {
   "cell_type": "markdown",
   "id": "2ab5de73",
   "metadata": {},
   "source": [
    "# Plot curves"
   ]
  },
  {
   "cell_type": "code",
   "execution_count": 29,
   "id": "646c5d04",
   "metadata": {},
   "outputs": [],
   "source": [
    "train_sizes = [10,20,30,40,50]\n",
    "titles = ['minimum accuracy', 'validation accuracy', 'missed detection', 'false alarm']\n",
    "\n",
    "\n",
    "for i in range(4):\n",
    "    plt.figure(figsize=(7,4))\n",
    "    plt.errorbar(train_sizes, quants[:, i], errors[:, i])\n",
    "    plt.errorbar(train_sizes, quants_s[:, i], errors_s[:, i])\n",
    "    plt.legend(['our method', 'our method + feature selection'])\n",
    "    plt.xlabel('training set size')\n",
    "    plt.ylabel(titles[i])\n",
    "    plt.ylim([0,1])\n",
    "    plt.xticks(train_sizes)\n",
    "    _ = plt.title('val. set size = {}, Dt = {}, Dvt = {}, Dv = {}, $\\mu$ = {}'.format(10, 'None', 2000, 0, 30))\n",
    "    \n",
    "    if not os.path.exists(res_path+'comparison/'):\n",
    "        os.mkdir(res_path+'comparison/')\n",
    "    plt.savefig(res_path+'comparison/train_curves_'+titles[i]+'.png')\n",
    "    plt.close()"
   ]
  },
  {
   "cell_type": "markdown",
   "id": "71dc8963",
   "metadata": {},
   "source": [
    "# Compute mean accuracy drop due to feature selection"
   ]
  },
  {
   "cell_type": "code",
   "execution_count": 30,
   "id": "49a1f9b6",
   "metadata": {},
   "outputs": [
    {
     "name": "stdout",
     "output_type": "stream",
     "text": [
      "Accuracy drops: \n",
      " [0.0677451  0.10509804 0.13127451 0.1322549  0.15862745]\n",
      "Accuracy error bars: \n",
      " [0.12206481 0.13266485 0.12266963 0.12087647 0.11950188]\n",
      "\n",
      "-> Validation accuracy drops 11.90% on average, while the mean error bar is 12.36%\n"
     ]
    }
   ],
   "source": [
    "acc_drops = quants[:, 1] - quants_s[:, 1]\n",
    "acc_errbars = errors[:, 1]\n",
    "\n",
    "print('Accuracy drops: \\n', acc_drops)\n",
    "print('Accuracy error bars: \\n', acc_errbars)\n",
    "print('\\n-> Validation accuracy drops {:.2f}% on average, while the mean error bar is {:.2f}%'\\\n",
    "      .format(np.mean(acc_drops)*100, np.mean(acc_errbars)*100))"
   ]
  },
  {
   "cell_type": "markdown",
   "id": "799b68c6",
   "metadata": {},
   "source": [
    "# Compute how many features were discarded on average"
   ]
  },
  {
   "cell_type": "code",
   "execution_count": 31,
   "id": "d6365928",
   "metadata": {},
   "outputs": [],
   "source": [
    "i = 0\n",
    "M = np.loadtxt(res_path+'mat/finalM_10_'+str(train_sizes[i])+'_0.txt')"
   ]
  },
  {
   "cell_type": "code",
   "execution_count": 34,
   "id": "c1963ed3",
   "metadata": {},
   "outputs": [
    {
     "data": {
      "text/plain": [
       "2.8891054770075897e-07"
      ]
     },
     "execution_count": 34,
     "metadata": {},
     "output_type": "execute_result"
    }
   ],
   "source": [
    "thresh = 50\n",
    "# lim = (thresh/100) * np.max(M)\n",
    "lim = np.percentile(M, thresh)\n",
    "lim"
   ]
  },
  {
   "cell_type": "code",
   "execution_count": 35,
   "id": "a869b6e9",
   "metadata": {},
   "outputs": [
    {
     "name": "stdout",
     "output_type": "stream",
     "text": [
      "50.000 of entries were discarded\n"
     ]
    }
   ],
   "source": [
    "disc_rate = sum((M < lim).reshape(-1))/(len(M)**2)\n",
    "keep_rate = sum((M >= lim).reshape(-1))/(len(M)**2)\n",
    "\n",
    "print('{:.3f} of entries were discarded'.format(disc_rate*100))"
   ]
  },
  {
   "cell_type": "code",
   "execution_count": 36,
   "id": "b6599567",
   "metadata": {},
   "outputs": [
    {
     "name": "stdout",
     "output_type": "stream",
     "text": [
      "100.00% of features were kept; therefore 0.00% were discarded\n"
     ]
    }
   ],
   "source": [
    "f_sz = 474 # must match data_params\n",
    "xloc = np.broadcast_to(np.arange(f_sz), (f_sz, f_sz))\n",
    "yloc = xloc.T\n",
    "\n",
    "kept_features = np.unique(np.append(xloc[M >= lim], yloc[M >= lim]))\n",
    "kept_f_rate = len(kept_features) / f_sz\n",
    "\n",
    "print('{:.2f}% of features were kept; therefore {:.2f}% were discarded'.format(kept_f_rate*100, 100-kept_f_rate*100))"
   ]
  },
  {
   "cell_type": "code",
   "execution_count": null,
   "id": "25d65a66",
   "metadata": {},
   "outputs": [],
   "source": []
  },
  {
   "cell_type": "code",
   "execution_count": null,
   "id": "640449f4",
   "metadata": {},
   "outputs": [],
   "source": []
  },
  {
   "cell_type": "code",
   "execution_count": null,
   "id": "0a0a1ea7",
   "metadata": {},
   "outputs": [],
   "source": []
  },
  {
   "cell_type": "code",
   "execution_count": null,
   "id": "51e0a582",
   "metadata": {},
   "outputs": [],
   "source": []
  },
  {
   "cell_type": "code",
   "execution_count": null,
   "id": "e565f790",
   "metadata": {},
   "outputs": [],
   "source": []
  },
  {
   "cell_type": "code",
   "execution_count": null,
   "id": "098eee5e",
   "metadata": {},
   "outputs": [],
   "source": []
  },
  {
   "cell_type": "code",
   "execution_count": null,
   "id": "99ebc52d",
   "metadata": {},
   "outputs": [],
   "source": []
  },
  {
   "cell_type": "code",
   "execution_count": null,
   "id": "2b40450b",
   "metadata": {},
   "outputs": [],
   "source": []
  },
  {
   "cell_type": "code",
   "execution_count": null,
   "id": "9e7dc543",
   "metadata": {},
   "outputs": [],
   "source": []
  },
  {
   "cell_type": "code",
   "execution_count": null,
   "id": "31c36424",
   "metadata": {},
   "outputs": [],
   "source": []
  },
  {
   "cell_type": "code",
   "execution_count": null,
   "id": "7b4ecae6",
   "metadata": {},
   "outputs": [],
   "source": []
  }
 ],
 "metadata": {
  "kernelspec": {
   "display_name": "Python 3 (ipykernel)",
   "language": "python",
   "name": "python3"
  },
  "language_info": {
   "codemirror_mode": {
    "name": "ipython",
    "version": 3
   },
   "file_extension": ".py",
   "mimetype": "text/x-python",
   "name": "python",
   "nbconvert_exporter": "python",
   "pygments_lexer": "ipython3",
   "version": "3.9.13"
  }
 },
 "nbformat": 4,
 "nbformat_minor": 5
}
