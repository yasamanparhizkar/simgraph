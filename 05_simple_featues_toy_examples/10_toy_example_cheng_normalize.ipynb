{
 "cells": [
  {
   "cell_type": "code",
   "execution_count": 1,
   "id": "71b4136b-0799-4002-b529-21d02a78cd80",
   "metadata": {
    "tags": []
   },
   "outputs": [],
   "source": [
    "import numpy as np\n",
    "import matplotlib.pyplot as plt\n",
    "import pandas as pd\n",
    "import seaborn as sns\n",
    "from sklearn.linear_model import LogisticRegression\n",
    "from scipy.io import savemat, loadmat\n",
    "import matlab.engine # to run Cheng's code\n",
    "import time\n",
    "# import os\n",
    "\n",
    "# add the path to my packages to system paths so they can be imported\n",
    "import sys\n",
    "sys.path.append('/home/yasamanparhizkar/Documents/yorku/01_thesis/code/my_packages')\n",
    "# sys.path.append('F:\\MAScThesis\\code\\my_packages')\n",
    "# sys.path.append('/home/yasamanparhizkar/Documents/thesis/code/my_packages')\n",
    "\n",
    "# import compare_with_benchmark as bn\n",
    "import my_simgraph_06 as sg\n",
    "import data_handler_01 as dh"
   ]
  },
  {
   "cell_type": "code",
   "execution_count": null,
   "id": "123c2eb8-cfbb-45d4-a6cc-7372a97e9686",
   "metadata": {},
   "outputs": [],
   "source": []
  },
  {
   "cell_type": "code",
   "execution_count": 3,
   "id": "41b22d5b-b0d9-44ac-aa0d-4632167bc126",
   "metadata": {
    "tags": []
   },
   "outputs": [],
   "source": [
    "# save the dataset on disc\n",
    "data_path = '../../data/fe_exp/cheng_snap_3/'\n",
    "train_data = loadmat(data_path+'data_30_50_2.mat')"
   ]
  },
  {
   "cell_type": "code",
   "execution_count": 5,
   "id": "e53d62db-5200-4cec-892f-dd23b855f520",
   "metadata": {
    "tags": []
   },
   "outputs": [],
   "source": [
    "train_dess_nrm = dh.normalize(train_data['train_des'], feature_nrm=1, node_nrm=30)"
   ]
  },
  {
   "cell_type": "code",
   "execution_count": 7,
   "id": "4aeaec58-764a-42c5-af06-3fcac0c076b2",
   "metadata": {
    "tags": []
   },
   "outputs": [],
   "source": [
    "savemat(data_path+'data_30_50_2_nrm.mat', {'train_des': train_dess_nrm, 'train_lbls': train_data['train_lbls']})"
   ]
  },
  {
   "cell_type": "code",
   "execution_count": null,
   "id": "8b57f90a-4fc1-485e-b867-5885402ea74b",
   "metadata": {},
   "outputs": [],
   "source": []
  },
  {
   "cell_type": "code",
   "execution_count": null,
   "id": "79deb296-3235-4b19-a333-c8ec3050c65b",
   "metadata": {},
   "outputs": [],
   "source": []
  },
  {
   "cell_type": "code",
   "execution_count": null,
   "id": "f9ea7a0e-1308-4b48-b6ef-d4dfd4180ce3",
   "metadata": {},
   "outputs": [],
   "source": []
  },
  {
   "cell_type": "code",
   "execution_count": null,
   "id": "e9922dc2-0637-4900-a4d3-1511061e9078",
   "metadata": {},
   "outputs": [],
   "source": []
  },
  {
   "cell_type": "code",
   "execution_count": 6,
   "id": "15d24800-bec6-4e13-a70a-6d2d4dbfc40b",
   "metadata": {
    "tags": []
   },
   "outputs": [
    {
     "data": {
      "text/plain": [
       "array([[-4.625723 , -4.2036443, -4.056236 , ..., -4.3641396,  4.157727 ,\n",
       "        -4.2284317],\n",
       "       [-4.49392  , -4.340096 , -4.1400824, ..., -4.360802 ,  4.695469 ,\n",
       "        -4.162595 ],\n",
       "       [-4.526868 , -4.1355257, -4.071872 , ..., -4.192881 ,  3.920183 ,\n",
       "        -4.04496  ],\n",
       "       ...,\n",
       "       [-4.538557 , -4.450864 , -4.1717772, ..., -3.9763079,  4.3384223,\n",
       "        -4.2508726],\n",
       "       [-4.5498867, -4.4614015, -4.3375173, ..., -4.2852874,  4.4829197,\n",
       "        -3.9949212],\n",
       "       [-4.290219 , -3.6307404, -4.158621 , ..., -4.3661885,  4.1921763,\n",
       "        -4.1737547]], dtype=float32)"
      ]
     },
     "execution_count": 6,
     "metadata": {},
     "output_type": "execute_result"
    }
   ],
   "source": [
    "train_dess_nrm"
   ]
  },
  {
   "cell_type": "code",
   "execution_count": null,
   "id": "3f20f8f5-9573-4898-9417-4e0559b5e83e",
   "metadata": {},
   "outputs": [],
   "source": [
    "savemat(data_path+'data.mat', {'train_des': train_des, 'train_lbls': train_lbls})"
   ]
  },
  {
   "cell_type": "code",
   "execution_count": 4,
   "id": "8a1048da-ba4e-4452-b44b-ebea11d4361f",
   "metadata": {
    "tags": []
   },
   "outputs": [
    {
     "data": {
      "text/plain": [
       "{'__header__': b'MATLAB 5.0 MAT-file Platform: posix, Created on: Wed Apr 26 17:01:03 2023',\n",
       " '__version__': '1.0',\n",
       " '__globals__': [],\n",
       " 'train_des': array([[2.6957638, 1.8614454, 2.0306978, ..., 2.6020913, 5.0531607,\n",
       "         1.7509017],\n",
       "        [2.74855  , 1.8661888, 2.052212 , ..., 2.6338816, 5.167392 ,\n",
       "         1.842858 ],\n",
       "        [2.7275314, 1.8944288, 2.0302465, ..., 2.6534164, 5.0039086,\n",
       "         1.8360116],\n",
       "        ...,\n",
       "        [2.7377229, 1.8060669, 2.0278964, ..., 2.717731 , 5.080417 ,\n",
       "         1.7895442],\n",
       "        [2.7620263, 1.8447154, 2.0045779, ..., 2.675387 , 5.113314 ,\n",
       "         1.941215 ],\n",
       "        [2.7480686, 2.0853992, 1.9743812, ..., 2.5864785, 5.0539947,\n",
       "         1.7585819]], dtype=float32),\n",
       " 'train_lbls': array([[ 1.,  1.,  1.,  1.,  1.,  1.,  1.,  1.,  1.,  1.,  1.,  1.,  1.,\n",
       "          1.,  1.,  1.,  1.,  1.,  1.,  1.,  1.,  1.,  1.,  1.,  1., -1.,\n",
       "         -1., -1., -1., -1., -1., -1., -1., -1., -1., -1., -1., -1., -1.,\n",
       "         -1., -1., -1., -1., -1., -1., -1., -1., -1., -1., -1.]])}"
      ]
     },
     "execution_count": 4,
     "metadata": {},
     "output_type": "execute_result"
    }
   ],
   "source": [
    "train_data"
   ]
  },
  {
   "cell_type": "code",
   "execution_count": null,
   "id": "8223847b-a634-4c6d-a335-fce0358d6dd1",
   "metadata": {},
   "outputs": [],
   "source": []
  },
  {
   "cell_type": "code",
   "execution_count": null,
   "id": "07e64419-2bd2-478f-86b0-c87c7a6057fa",
   "metadata": {},
   "outputs": [],
   "source": []
  },
  {
   "cell_type": "code",
   "execution_count": null,
   "id": "15f2bc38-5885-4301-b25d-80e8621e8245",
   "metadata": {},
   "outputs": [],
   "source": []
  },
  {
   "cell_type": "code",
   "execution_count": null,
   "id": "72133679-fb68-409b-a1fe-81b588b96929",
   "metadata": {},
   "outputs": [],
   "source": []
  },
  {
   "cell_type": "code",
   "execution_count": null,
   "id": "d9fa9d5f-c0e4-4455-9b6f-1c6e03ded01d",
   "metadata": {},
   "outputs": [],
   "source": []
  },
  {
   "cell_type": "code",
   "execution_count": null,
   "id": "e9edc475-36f2-4b05-a5d2-34c23a915258",
   "metadata": {},
   "outputs": [],
   "source": []
  },
  {
   "cell_type": "code",
   "execution_count": null,
   "id": "36757edf-f89e-47a0-af32-844d21d93d81",
   "metadata": {},
   "outputs": [],
   "source": []
  },
  {
   "cell_type": "code",
   "execution_count": null,
   "id": "f3c0da60-8ed2-46d3-9da0-c6432ad89621",
   "metadata": {},
   "outputs": [],
   "source": []
  },
  {
   "cell_type": "code",
   "execution_count": null,
   "id": "e041a33c-a258-47fd-a05a-72a92a64a9f2",
   "metadata": {},
   "outputs": [],
   "source": []
  },
  {
   "cell_type": "code",
   "execution_count": null,
   "id": "5159a35c-3af6-4c8a-86c6-8c64ef22a0f9",
   "metadata": {},
   "outputs": [],
   "source": []
  },
  {
   "cell_type": "code",
   "execution_count": null,
   "id": "18e4d41b-e002-4e99-8acc-f3544a2315eb",
   "metadata": {},
   "outputs": [],
   "source": []
  },
  {
   "cell_type": "code",
   "execution_count": null,
   "id": "a6cac8dd-5d38-4430-a987-1d0e0a8ffac1",
   "metadata": {},
   "outputs": [],
   "source": []
  },
  {
   "cell_type": "code",
   "execution_count": null,
   "id": "82175399-7532-4e13-a4ff-b7cb560eb7e0",
   "metadata": {},
   "outputs": [],
   "source": []
  },
  {
   "cell_type": "code",
   "execution_count": null,
   "id": "d038f1c2-6cea-432c-9986-98f9e08b76ad",
   "metadata": {},
   "outputs": [],
   "source": []
  },
  {
   "cell_type": "code",
   "execution_count": null,
   "id": "af0e0906-0cc3-4854-a49d-1a496ad91e1f",
   "metadata": {},
   "outputs": [],
   "source": []
  },
  {
   "cell_type": "code",
   "execution_count": null,
   "id": "68897691-567e-4241-bfa8-b4b6e952322c",
   "metadata": {},
   "outputs": [],
   "source": []
  },
  {
   "cell_type": "code",
   "execution_count": null,
   "id": "0d04daa6-9e6b-471a-b06b-a8e89eb85b3a",
   "metadata": {},
   "outputs": [],
   "source": []
  },
  {
   "cell_type": "code",
   "execution_count": null,
   "id": "1873aa91-cf74-4c81-a571-37f928b8086a",
   "metadata": {},
   "outputs": [],
   "source": []
  },
  {
   "cell_type": "code",
   "execution_count": null,
   "id": "42efa07d-50e7-4854-976a-b193ba1d81ac",
   "metadata": {},
   "outputs": [],
   "source": []
  },
  {
   "cell_type": "code",
   "execution_count": null,
   "id": "159fa25b-4ac1-4428-b657-a33e5203fcab",
   "metadata": {},
   "outputs": [],
   "source": []
  },
  {
   "cell_type": "code",
   "execution_count": null,
   "id": "0882247e-8a10-4fb7-b880-a9639d7faa4c",
   "metadata": {},
   "outputs": [],
   "source": []
  },
  {
   "cell_type": "code",
   "execution_count": null,
   "id": "8b4a6725-ce8e-48dc-ac71-ba4d0a73c2a3",
   "metadata": {},
   "outputs": [],
   "source": []
  },
  {
   "cell_type": "code",
   "execution_count": null,
   "id": "2a450490-a286-4b06-85ed-223d94f8b21b",
   "metadata": {},
   "outputs": [],
   "source": []
  },
  {
   "cell_type": "code",
   "execution_count": null,
   "id": "a2fbdd0d-20ae-4520-ada5-bb7991b5d85b",
   "metadata": {},
   "outputs": [],
   "source": []
  },
  {
   "cell_type": "code",
   "execution_count": null,
   "id": "b2991d04-9e66-4a06-a20c-669430e35d0e",
   "metadata": {},
   "outputs": [],
   "source": []
  },
  {
   "cell_type": "code",
   "execution_count": null,
   "id": "7b24707c-1f39-47b8-927e-ecbb7268b36d",
   "metadata": {},
   "outputs": [],
   "source": []
  },
  {
   "cell_type": "markdown",
   "id": "498cb528-bdc2-4f56-8826-d776d0e8795c",
   "metadata": {
    "tags": []
   },
   "source": [
    "# Load spike data"
   ]
  },
  {
   "cell_type": "markdown",
   "id": "d895cc6b-4258-4d9a-bb67-17385b2f0266",
   "metadata": {},
   "source": [
    "Spike data shape:  (297, 1141, 113) $\\implies$ (movie repeats, frames/time, neurons)\n",
    "<br>\n",
    "Labels are 1 (= spike) or -1 (= no spike)."
   ]
  },
  {
   "cell_type": "code",
   "execution_count": 2,
   "id": "e3eaae76-a1bb-4536-bac7-04bc8618b70d",
   "metadata": {
    "tags": []
   },
   "outputs": [],
   "source": [
    "# load all spike data from file\n",
    "spikes_dp = '../../data/original_files/spikes.csv'\n",
    "binned_data = np.loadtxt(spikes_dp, delimiter=',')\n",
    "binned_data = binned_data.reshape(binned_data.shape[0], 1141, 113)\n",
    "binned_data = binned_data * 2 - 1     # turn labels from 0,1 to -1,1\n",
    "\n",
    "I_order_10 = [54, 35, 10, 60, 74, 9, 61, 56, 91, 104]"
   ]
  },
  {
   "cell_type": "markdown",
   "id": "42211173-b910-42d2-b85a-0362281301d7",
   "metadata": {},
   "source": [
    "## Group all 113 neurons\n",
    "\n",
    "This will create a more balanced dataset which is presumabley easier to solve.\n",
    "<br>\n",
    "Grouped data shape:  (297, 1141, 1) $\\implies$ (movie repeats, frames/time, group)"
   ]
  },
  {
   "cell_type": "code",
   "execution_count": 3,
   "id": "032c40a0-f7f4-4b8a-b3de-23306d0f0a0f",
   "metadata": {
    "tags": []
   },
   "outputs": [],
   "source": [
    "# group all neurons together\n",
    "grouped_data = np.zeros((297, 1141, 1))\n",
    "for trial in range(297):\n",
    "    for frame in range(1141):\n",
    "        grouped_data[trial, frame, :] = 2 * int((binned_data[trial, frame, :] == 1).any()) - 1"
   ]
  },
  {
   "cell_type": "code",
   "execution_count": 4,
   "id": "a59fd100-40a4-4db1-8716-86076b29c101",
   "metadata": {
    "scrolled": true,
    "tags": []
   },
   "outputs": [
    {
     "name": "stdout",
     "output_type": "stream",
     "text": [
      "grouped_data.shape =  (297, 1141, 1)\n",
      "trial #    | percentage belonging to class 1\n",
      "---------------------------------------------\n",
      "trial #  0 | 66.26 %\n",
      "trial #  1 | 69.06 %\n",
      "trial #  2 | 67.92 %\n",
      "trial #  3 | 71.08 %\n",
      "trial #  4 | 68.97 %\n",
      "trial #  5 | 68.27 %\n",
      "trial #  6 | 66.87 %\n",
      "trial #  7 | 65.82 %\n",
      "trial #  8 | 67.66 %\n",
      "trial #  9 | 68.19 %\n",
      "---------------------------------------------\n",
      "AVERAGE     | 68.01 %\n",
      "---------------------------------------------\n",
      "68.47 % of the whole data belongs to class 1.\n"
     ]
    }
   ],
   "source": [
    "# print some statistics\n",
    "print('grouped_data.shape = ', grouped_data.shape)\n",
    "\n",
    "avg_spike_perc = 0\n",
    "print('trial #    | percentage belonging to class 1')\n",
    "print('---------------------------------------------')\n",
    "for trial in range(10):\n",
    "    pers = dh.class_percentages(grouped_data[trial, :, :].reshape(-1), [-1, 1])\n",
    "    avg_spike_perc += pers[1]\n",
    "    print('trial #{:3} | {:.2f} %'.format(trial, pers[1]))\n",
    "\n",
    "avg_spike_perc /= 10\n",
    "print('---------------------------------------------')\n",
    "print('AVERAGE     | {:.2f} %'.format(avg_spike_perc))\n",
    "\n",
    "total_perc = np.sum(grouped_data == 1) *100 /(grouped_data.shape[0] * grouped_data.shape[1])\n",
    "print('---------------------------------------------')\n",
    "print('{:.2f} % of the whole data belongs to class 1.'.format(total_perc))"
   ]
  },
  {
   "cell_type": "markdown",
   "id": "c0a917f5-dabb-4160-9a0d-bf2184a90627",
   "metadata": {},
   "source": [
    "## Create training and validation datasets"
   ]
  },
  {
   "cell_type": "code",
   "execution_count": 5,
   "id": "09438f6e-72aa-4236-9b3a-df198b7217c2",
   "metadata": {
    "tags": []
   },
   "outputs": [
    {
     "name": "stdout",
     "output_type": "stream",
     "text": [
      "train_num =  210 , val_num =  100\n",
      "# of features =  2\n",
      "training data contains 105 points (50.00%) of label 1.\n",
      "validation data contains 50 points (50.00%) of label 1.\n"
     ]
    }
   ],
   "source": [
    "# only consider the second trial\n",
    "ind_min = 1*1141+0\n",
    "ind_max = 2*1141-1\n",
    "# train_num = int(data_num*0.8)\n",
    "# val_num = data_num - train_num\n",
    "train_num = 210\n",
    "val_num = 100\n",
    "\n",
    "def transform(fv):\n",
    "    \"\"\"\n",
    "    Transform to be applied on feature vectors.\n",
    "    \n",
    "    Input: fv\n",
    "    fv - 1xDf torch tensor representing a feature vector\n",
    "    \n",
    "    Output: fvv\n",
    "    fvv - 1xDf' torch tensor representing the transformed feature vector\n",
    "    \"\"\"\n",
    "    \n",
    "    # for faster run and less memory usage\n",
    "    fvv = fv[:, 1000::2500]\n",
    "    \n",
    "    # for numerical stability during GD\n",
    "    # fvv = fvv * 10\n",
    "    \n",
    "    return fvv\n",
    "\n",
    "data_params = {'func': dh.datapoint_torch, 'lbl_func': dh.get_labels, 'features_dp': '../../data/features/slowfast/slowfast_4732/', \\\n",
    "               'spike_data': grouped_data, 'group_id': 0, 'transform': transform}\n",
    "\n",
    "train_num, val_num, train_data, val_data = \\\n",
    "dh.random_train_val_balanced(train_num, val_num, ind_min, ind_max, data_params, seed=1342)\n",
    "\n",
    "# show statistics\n",
    "print('train_num = ', train_num, ', val_num = ', val_num)\n",
    "print('# of features = ', train_data['des'].shape[1])\n",
    "print('training data contains {} points ({:.2f}%) of label 1.'\n",
    "      .format(np.sum(train_data['lbls'] == 1), np.sum(train_data['lbls'] == 1)*100/train_num))\n",
    "print('validation data contains {} points ({:.2f}%) of label 1.'\n",
    "      .format(np.sum(val_data['lbls'] == 1), np.sum(val_data['lbls'] == 1)*100/val_num))\n",
    "\n",
    "# print('train_smpls = ', train_data['smpls'], '\\nval_smpls = ', val_data['smpls'])\n",
    "# print('train_lbls = ', train_data['lbls'], '\\nval_lbls = ', val_data['lbls'])\n",
    "# print('train_des = ', train_data['des'], '\\nval_des = ', val_data['des'])"
   ]
  },
  {
   "cell_type": "code",
   "execution_count": 6,
   "id": "ca1de7ee-d2f9-4c27-89b4-2c2b532d3149",
   "metadata": {
    "tags": []
   },
   "outputs": [],
   "source": [
    "train_des = train_data['des']\n",
    "train_lbls = train_data['lbls']\n",
    "val_des = val_data['des']\n",
    "val_lbls = val_data['lbls']"
   ]
  },
  {
   "cell_type": "code",
   "execution_count": 7,
   "id": "a9bddc9d-f2ac-40d9-be2c-dd5bf96378d0",
   "metadata": {
    "tags": []
   },
   "outputs": [
    {
     "data": {
      "text/plain": [
       "Text(0.5, 1.0, 'Validation Dataset')"
      ]
     },
     "execution_count": 7,
     "metadata": {},
     "output_type": "execute_result"
    },
    {
     "data": {
      "image/png": "[encoded data removed]",
      "text/plain": [
       "<Figure size 1000x400 with 2 Axes>"
      ]
     },
     "metadata": {},
     "output_type": "display_data"
    }
   ],
   "source": [
    "# visualize the datasets\n",
    "plt.figure(figsize=(10,4))\n",
    "plt.subplot(1,2,1)\n",
    "plt.scatter(train_des[:train_num//2,0], train_des[:train_num//2,1], color='r')\n",
    "plt.scatter(train_des[train_num//2:,0], train_des[train_num//2:,1], color='b')\n",
    "plt.legend(['spike', 'no spike'])\n",
    "plt.title('Training Dataset')\n",
    "\n",
    "plt.subplot(1,2,2)\n",
    "plt.scatter(val_des[:val_num//2,0], val_des[:val_num//2,1], color='r')\n",
    "plt.scatter(val_des[val_num//2:,0], val_des[val_num//2:,1], color='b')\n",
    "plt.legend(['spike', 'no spike'])\n",
    "plt.title('Validation Dataset')"
   ]
  },
  {
   "cell_type": "code",
   "execution_count": 8,
   "id": "8998d19e-e0bd-4375-84a6-757dcf4df505",
   "metadata": {
    "tags": []
   },
   "outputs": [
    {
     "data": {
      "text/plain": [
       "<seaborn.axisgrid.FacetGrid at 0x7fa124a13e50>"
      ]
     },
     "execution_count": 8,
     "metadata": {},
     "output_type": "execute_result"
    },
    {
     "data": {
      "image/png": "[encoded data removed]",
      "text/plain": [
       "<Figure size 476.875x400 with 1 Axes>"
      ]
     },
     "metadata": {},
     "output_type": "display_data"
    }
   ],
   "source": [
    "train_dataframe = pd.DataFrame(np.append(train_des, train_lbls.reshape((-1, 1)), axis=1), columns=['x', 'y', 'lbl'])\n",
    "val_dataframe = pd.DataFrame(np.append(val_des, val_lbls.reshape((-1, 1)), axis=1), columns=['x', 'y', 'lbl'])\n",
    "\n",
    "\n",
    "g = sns.displot(train_dataframe, x='x', y='y', hue='lbl', kind='kde', height=4)\n",
    "g.set(title='Training Dataset Distribution')\n",
    "\n",
    "# g = sns.displot(val_dataframe, x='x', y='y', hue='lbl', kind='kde', height=4)\n",
    "# g.set(title='Validation Dataset Distribution')"
   ]
  },
  {
   "cell_type": "code",
   "execution_count": 9,
   "id": "7f93734c-7c20-474a-be83-ba09f1037f90",
   "metadata": {
    "tags": []
   },
   "outputs": [],
   "source": [
    "# save the dataset on disc\n",
    "data_path = '../../data/fe_exp/cheng_snap/'\n",
    "savemat(data_path+'data.mat', {'train_des': train_des, 'train_lbls': train_lbls})"
   ]
  },
  {
   "cell_type": "markdown",
   "id": "cd8359b0-78f6-4363-ae16-7c7f7733ebfb",
   "metadata": {
    "tags": []
   },
   "source": [
    "# Train the logistic regression model"
   ]
  },
  {
   "cell_type": "code",
   "execution_count": 142,
   "id": "d8ffb33a-1795-4544-bbe4-656366f1ab15",
   "metadata": {
    "tags": []
   },
   "outputs": [],
   "source": [
    "# instantiate the model\n",
    "lgrg = LogisticRegression(penalty='none')"
   ]
  },
  {
   "cell_type": "code",
   "execution_count": 143,
   "id": "977ed917-5e9a-465c-9d40-b42b1844bae5",
   "metadata": {
    "tags": []
   },
   "outputs": [
    {
     "name": "stdout",
     "output_type": "stream",
     "text": [
      "Parameters used for fitting: \n",
      " {'C': 1.0, 'class_weight': None, 'dual': False, 'fit_intercept': True, 'intercept_scaling': 1, 'l1_ratio': None, 'max_iter': 100, 'multi_class': 'auto', 'n_jobs': None, 'penalty': 'none', 'random_state': None, 'solver': 'lbfgs', 'tol': 0.0001, 'verbose': 0, 'warm_start': False}\n"
     ]
    }
   ],
   "source": [
    "print('Parameters used for fitting: \\n', lgrg.get_params())"
   ]
  },
  {
   "cell_type": "code",
   "execution_count": 144,
   "id": "1e52b037-f96b-4ff9-a2c5-8792215724c2",
   "metadata": {
    "tags": []
   },
   "outputs": [],
   "source": [
    "# train the model  \n",
    "lgrg = lgrg.fit(train_des, train_lbls)"
   ]
  },
  {
   "cell_type": "markdown",
   "id": "49a6fe48-e9b5-444d-80b1-034f3294616f",
   "metadata": {},
   "source": [
    "## Analyze the optimized parameters"
   ]
  },
  {
   "cell_type": "code",
   "execution_count": 145,
   "id": "91779876-37a2-4d75-aad0-02ef131bc8b8",
   "metadata": {
    "tags": []
   },
   "outputs": [
    {
     "name": "stdout",
     "output_type": "stream",
     "text": [
      "classes =  [-1.  1.]\n",
      "decision boundary coefficients =  [[-0.09709145  1.28040172]]\n",
      "decision boundary bias =  [-3.35481415]\n",
      "number of features seen during fit =  2\n",
      "number of iterations done during fit =  [19]\n"
     ]
    }
   ],
   "source": [
    "# print optimized parameters\n",
    "print('classes = ', lgrg.classes_)\n",
    "print('decision boundary coefficients = ', lgrg.coef_)\n",
    "print('decision boundary bias = ', lgrg.intercept_)\n",
    "print('number of features seen during fit = ', lgrg.n_features_in_)\n",
    "print('number of iterations done during fit = ', lgrg.n_iter_)"
   ]
  },
  {
   "cell_type": "code",
   "execution_count": 146,
   "id": "26d0d662-b3e3-46c0-9613-7aab92109818",
   "metadata": {
    "tags": []
   },
   "outputs": [
    {
     "name": "stdout",
     "output_type": "stream",
     "text": [
      "a(x) for all x's = \n",
      " [-0.01652562 -0.03433868  0.03900113  0.03246614  0.09385364 -0.0076142\n",
      " -0.05375139  0.75084035 -0.17909572  0.14601649  0.0702545   1.28702876\n",
      "  0.10294693  0.03294103  0.06616619 -0.07759213 -0.02489839 -0.05806437\n",
      " -0.06176073  0.05105189 -0.06480625 -0.07401904  0.11535006  0.07456223\n",
      " -0.03031182 -0.13429336  0.02309024  0.11765611 -0.12064699  0.05689132\n",
      "  0.17798514 -0.01821359 -0.0627401  -0.08166242  0.28924368 -0.0760821\n",
      " -0.13732924  0.07774502  0.11432285 -0.06607894 -2.14475829 -0.01224035\n",
      " -0.11699498 -0.06246278 -0.02082636  0.03136736 -0.00885405  0.01169543\n",
      " -0.00802959 -0.046654   -0.10575597 -0.01511718  0.03500517  0.05129608\n",
      "  0.04201409  0.00255655  0.01132803  0.03283494  0.01321779 -0.07029452\n",
      " -0.00418746  0.06220482 -0.01654385  0.0173246   0.09605175  0.0779753\n",
      "  0.05780606  0.05546622 -0.10574314  0.05800592  0.02952829  0.11732674\n",
      "  0.00942723  0.04395052  0.03167628  0.0085668   0.04193888  0.04995417\n",
      " -0.10392284 -0.10874004  0.06517161  0.10968926  0.0468051  -0.01748018\n",
      " -0.14376859  0.03686604 -0.00240224 -0.02737523 -0.14803963  0.00554562\n",
      "  0.04674869  0.01453189  0.03806474  0.00879721  0.04582136 -0.01002626\n",
      "  0.056485    0.04956119  0.12299956 -0.02622602]\n"
     ]
    }
   ],
   "source": [
    "# compute confidence scores - positive means +1 while negative means -1\n",
    "print('a(x) for all x\\'s = \\n', lgrg.decision_function(val_des))"
   ]
  },
  {
   "cell_type": "code",
   "execution_count": 147,
   "id": "2b22ff19-774c-4ade-b2c5-d74f525d7ef6",
   "metadata": {
    "scrolled": true,
    "tags": []
   },
   "outputs": [
    {
     "data": {
      "text/plain": [
       "array([[-0.68491851, -0.70144413],\n",
       "       [-0.67612523, -0.71046391],\n",
       "       [-0.71283787, -0.67383674],\n",
       "       [-0.709512  , -0.67704586],\n",
       "       [-0.74117466, -0.64732102],\n",
       "       [-0.68934733, -0.69696153],\n",
       "       [-0.66663259, -0.72038398],\n",
       "       [-1.13744183, -0.38660148],\n",
       "       [-0.60760338, -0.78669911],\n",
       "       [-0.76881816, -0.62280167],\n",
       "       [-0.72889126, -0.65863677],\n",
       "       [-1.5308294 , -0.24380063],\n",
       "       [-0.74594482, -0.64299789],\n",
       "       [-0.70975333, -0.6768123 ],\n",
       "       [-0.72677742, -0.66061123],\n",
       "       [-0.6551035 , -0.73269562],\n",
       "       [-0.68077548, -0.70567386],\n",
       "       [-0.66453637, -0.72260074],\n",
       "       [-0.66274354, -0.72450427],\n",
       "       [-0.71899888, -0.66794699],\n",
       "       [-0.66126894, -0.7260752 ],\n",
       "       [-0.65682236, -0.7308414 ],\n",
       "       [-0.75248449, -0.63713443],\n",
       "       [-0.73112307, -0.65656085],\n",
       "       [-0.67810612, -0.70841794],\n",
       "       [-0.62825315, -0.76254651],\n",
       "       [-0.70475895, -0.6816687 ],\n",
       "       [-0.75370461, -0.6360485 ],\n",
       "       [-0.63464204, -0.75528904],\n",
       "       [-0.72199736, -0.66510604],\n",
       "       [-0.78609437, -0.60810924],\n",
       "       [-0.68408185, -0.70229544],\n",
       "       [-0.66226909, -0.72500919],\n",
       "       [-0.65314933, -0.73481175],\n",
       "       [-0.84819051, -0.55894683],\n",
       "       [-0.65582952, -0.73191162],\n",
       "       [-0.62683813, -0.76416737],\n",
       "       [-0.73277504, -0.65503001],\n",
       "       [-0.75194143, -0.63761858],\n",
       "       [-0.66065341, -0.72673236],\n",
       "       [-0.11073276, -2.25549105],\n",
       "       [-0.68704573, -0.69928608],\n",
       "       [-0.6363597 , -0.75335467],\n",
       "       [-0.66240341, -0.72486619],\n",
       "       [-0.68278822, -0.70361458],\n",
       "       [-0.70895385, -0.67758648],\n",
       "       [-0.68872995, -0.69758401],\n",
       "       [-0.699012  , -0.68731656],\n",
       "       [-0.68914045, -0.69717003],\n",
       "       [-0.67009223, -0.71674623],\n",
       "       [-0.64166658, -0.74742256],\n",
       "       [-0.68561716, -0.70073434],\n",
       "       [-0.71080293, -0.67579776],\n",
       "       [-0.71912409, -0.66782802],\n",
       "       [-0.71437486, -0.67236077],\n",
       "       [-0.69442627, -0.69186972],\n",
       "       [-0.69882724, -0.68749921],\n",
       "       [-0.70969941, -0.67686447],\n",
       "       [-0.69977792, -0.68656012],\n",
       "       [-0.65861746, -0.72891198],\n",
       "       [-0.69105564, -0.6952431 ],\n",
       "       [-0.72473319, -0.66252837],\n",
       "       [-0.68490947, -0.70145332],\n",
       "       [-0.701847  , -0.6845224 ],\n",
       "       [-0.74232585, -0.64627411],\n",
       "       [-0.73289465, -0.65491936],\n",
       "       [-0.72246785, -0.66466178],\n",
       "       [-0.7212648 , -0.66579858],\n",
       "       [-0.64167266, -0.7474158 ],\n",
       "       [-0.72257067, -0.66456475],\n",
       "       [-0.70802031, -0.67849202],\n",
       "       [-0.75353026, -0.63620352],\n",
       "       [-0.69787191, -0.68844467],\n",
       "       [-0.71536388, -0.67141336],\n",
       "       [-0.70911074, -0.67743446],\n",
       "       [-0.69743975, -0.68887296],\n",
       "       [-0.71433646, -0.67239758],\n",
       "       [-0.71843616, -0.66848199],\n",
       "       [-0.64253515, -0.74645799],\n",
       "       [-0.64025448, -0.74899452],\n",
       "       [-0.72626381, -0.6610922 ],\n",
       "       [-0.74949503, -0.63980576],\n",
       "       [-0.71682354, -0.67001845],\n",
       "       [-0.68444528, -0.70192546],\n",
       "       [-0.62384434, -0.76761293],\n",
       "       [-0.71175008, -0.67488404],\n",
       "       [-0.69194678, -0.69434902],\n",
       "       [-0.67955324, -0.70692847],\n",
       "       [-0.62186434, -0.76990396],\n",
       "       [-0.69592383, -0.69037822],\n",
       "       [-0.71679468, -0.67004599],\n",
       "       [-0.70043952, -0.68590763],\n",
       "       [-0.71236066, -0.67429591],\n",
       "       [-0.69755546, -0.68875825],\n",
       "       [-0.71632029, -0.67049893],\n",
       "       [-0.68814662, -0.69817288],\n",
       "       [-0.72178845, -0.66530344],\n",
       "       [-0.71823478, -0.66867359],\n",
       "       [-0.75653688, -0.63353732],\n",
       "       [-0.68012014, -0.70634616]])"
      ]
     },
     "execution_count": 147,
     "metadata": {},
     "output_type": "execute_result"
    }
   ],
   "source": [
    "lgrg.predict_log_proba(val_des)"
   ]
  },
  {
   "cell_type": "code",
   "execution_count": 148,
   "id": "57437cc0-b9d3-4495-bcc1-ec30f133775a",
   "metadata": {
    "tags": []
   },
   "outputs": [
    {
     "data": {
      "text/plain": [
       "[Text(0.5, 1.0, 'Logistic Regression Decision Boundary on Train Data')]"
      ]
     },
     "execution_count": 148,
     "metadata": {},
     "output_type": "execute_result"
    },
    {
     "data": {
      "image/png": "[encoded data removed]",
      "text/plain": [
       "<Figure size 640x480 with 1 Axes>"
      ]
     },
     "metadata": {},
     "output_type": "display_data"
    }
   ],
   "source": [
    "# draw a scatterplot of train data\n",
    "g = sns.scatterplot(x=train_dataframe.x, y=train_dataframe.y, hue=train_dataframe.lbl)\n",
    "\n",
    "# draw the optimized decision boundary\n",
    "slope = -lgrg.coef_[0,0] / lgrg.coef_[0,1]\n",
    "intercept = -lgrg.intercept_[0] / lgrg.coef_[0,1]\n",
    "decision_x = np.array(g.get_xlim())\n",
    "decision_y = intercept + slope * decision_x\n",
    "[y_limlo, y_limup] = np.array(g.get_ylim())\n",
    "if decision_y[0] > y_limup:\n",
    "    decision_y[0] = y_limup\n",
    "    decision_x[1] = 1/slope * decision_y[0] - intercept / slope\n",
    "if decision_y[0] < y_limlo:\n",
    "    decision_y[0] = y_limlo\n",
    "    decision_x[1] = 1/slope * decision_y[0] - intercept / slope\n",
    "if decision_y[1] > y_limup:\n",
    "    decision_y[1] = y_limup\n",
    "    decision_x[1] = 1/slope * decision_y[1] - intercept / slope\n",
    "if decision_y[1] < y_limlo:\n",
    "    decision_y[1] = y_limlo\n",
    "    decision_x[1] = 1/slope * decision_y[1] - intercept / slope\n",
    "g.plot(decision_x, decision_y, '--')\n",
    "g.set(title='Logistic Regression Decision Boundary on Train Data')"
   ]
  },
  {
   "cell_type": "markdown",
   "id": "bf42b260-87d0-4c16-97c2-f8b28b8bcbfd",
   "metadata": {},
   "source": [
    "## Validate the logistic regression model"
   ]
  },
  {
   "cell_type": "code",
   "execution_count": 149,
   "id": "f69b9f5b-ae08-4612-9384-03d214747a7c",
   "metadata": {
    "tags": []
   },
   "outputs": [
    {
     "name": "stdout",
     "output_type": "stream",
     "text": [
      "Predicted labels WITH threshold =\n",
      " [-1. -1.  1.  1.  1. -1. -1.  1. -1.  1.  1.  1.  1.  1.  1. -1. -1. -1.\n",
      " -1.  1. -1. -1.  1.  1. -1. -1.  1.  1. -1.  1.  1. -1. -1. -1.  1. -1.\n",
      " -1.  1.  1. -1. -1. -1. -1. -1. -1.  1. -1.  1. -1. -1. -1. -1.  1.  1.\n",
      "  1.  1.  1.  1.  1. -1. -1.  1. -1.  1.  1.  1.  1.  1. -1.  1.  1.  1.\n",
      "  1.  1.  1.  1.  1.  1. -1. -1.  1.  1.  1. -1. -1.  1. -1. -1. -1.  1.\n",
      "  1.  1.  1.  1.  1. -1.  1.  1.  1. -1.]\n",
      "Validation accuracy =\n",
      " 0.37\n",
      "Estimated spike time bins:  [ 2  3  4  7  9 10 11 12 13 14 19 22 23 26 27 29 30 34 37 38 45 47 52 53\n",
      " 54 55 56 57 58 61 63 64 65 66 67 69 70 71 72 73 74 75 76 77 80 81 82 85\n",
      " 89 90 91 92 93 94 96 97 98]\n",
      "Real spike time bins:  [ 0  1  2  3  4  5  6  7  8  9 10 11 12 13 14 15 16 17 18 19 20 21 22 23\n",
      " 24 25 26 27 28 29 30 31 32 33 34 35 36 37 38 39 40 41 42 43 44 45 46 47\n",
      " 48 49]\n",
      "Missed spikes (/all spikes): 56.00%\n",
      "False spikes (/all no-spike bins): 70.00%\n"
     ]
    }
   ],
   "source": [
    "# validate the model\n",
    "val_loc = np.arange(val_num)\n",
    "val_spikes = val_loc[val_lbls > 0]\n",
    "preds_lgrg = lgrg.predict(val_des)\n",
    "val_acc_lgrg = lgrg.score(val_des, val_lbls)\n",
    "\n",
    "est_spikes_lgrg = val_loc[preds_lgrg > 0]\n",
    "if sum(val_lbls==1) == 0:\n",
    "    missed_lgrg = 0\n",
    "else:\n",
    "    missed_lgrg = sum(np.logical_and(val_lbls==1, preds_lgrg < 0))/sum(val_lbls==1)\n",
    "if sum(val_lbls==-1) == 0:\n",
    "    false_alarm_lgrg = 0\n",
    "else:\n",
    "    false_alarm_lgrg = sum(np.logical_and(val_lbls==-1, preds_lgrg > 0))/sum(val_lbls==-1)\n",
    "\n",
    "print('Predicted labels WITH threshold =\\n', preds_lgrg)\n",
    "print('Validation accuracy =\\n', val_acc_lgrg)\n",
    "print('Estimated spike time bins: ', est_spikes_lgrg)\n",
    "print('Real spike time bins: ', val_spikes)\n",
    "print('Missed spikes (/all spikes): {:.2f}%'.format(missed_lgrg*100))\n",
    "print('False spikes (/all no-spike bins): {:.2f}%'.format(false_alarm_lgrg*100))"
   ]
  },
  {
   "cell_type": "markdown",
   "id": "4d7cbe32-cbd7-41c4-b484-fe0d1e032080",
   "metadata": {
    "tags": []
   },
   "source": [
    "# Train the similarity graph model with GDPA"
   ]
  },
  {
   "cell_type": "code",
   "execution_count": 150,
   "id": "34423962-3667-4589-a3dc-920354c57e3e",
   "metadata": {
    "tags": []
   },
   "outputs": [],
   "source": [
    "# import importlib\n",
    "# importlib.reload(sg)"
   ]
  },
  {
   "cell_type": "markdown",
   "id": "9b2a699f-4fae-467e-a63b-1c5fc2a71765",
   "metadata": {},
   "source": [
    "## Run Cheng's code"
   ]
  },
  {
   "cell_type": "code",
   "execution_count": 151,
   "id": "797d763f-f509-4e52-8307-e75e479e4d42",
   "metadata": {},
   "outputs": [
    {
     "name": "stdout",
     "output_type": "stream",
     "text": [
      "starting SGML.\n",
      "initial objective value = -51.7153\n",
      "converged objective value = -104.389\n",
      "minimal eigenvalue of M = 1e-05\n",
      "done with SGML.\n"
     ]
    }
   ],
   "source": [
    "eng = matlab.engine.start_matlab()\n",
    "eng.cd(r'/home/yasamanparhizkar/Documents/yorku/01_thesis/code/15_cheng', nargout=0)\n",
    "M_gdpa = eng.gdpa_fit('test')\n",
    "M_gdpa = np.array(M_gdpa)\n",
    "eng.quit()"
   ]
  },
  {
   "cell_type": "code",
   "execution_count": 152,
   "id": "27d71e4c-ed39-464e-ac67-6649bee491a3",
   "metadata": {
    "tags": []
   },
   "outputs": [
    {
     "name": "stdout",
     "output_type": "stream",
     "text": [
      "Optimized M computed by Chengs code:\n",
      " [[1.99998924e+00 0.00000000e+00]\n",
      " [0.00000000e+00 1.00000000e-05]]\n"
     ]
    }
   ],
   "source": [
    "print('Optimized M computed by Chengs code:\\n', M_gdpa)"
   ]
  },
  {
   "cell_type": "markdown",
   "id": "425e6a4c-ba56-489a-9023-447fd838f42d",
   "metadata": {},
   "source": [
    "## Analyze the optimized parameters"
   ]
  },
  {
   "cell_type": "code",
   "execution_count": 153,
   "id": "3a40acf4-e751-4787-b05b-c990f90420d6",
   "metadata": {
    "tags": []
   },
   "outputs": [
    {
     "name": "stdout",
     "output_type": "stream",
     "text": [
      "M_gdpa = \n",
      " [[1.99998924e+00 0.00000000e+00]\n",
      " [0.00000000e+00 1.00000000e-05]]\n"
     ]
    },
    {
     "data": {
      "image/png": "[encoded data removed]",
      "text/plain": [
       "<Figure size 400x400 with 2 Axes>"
      ]
     },
     "metadata": {},
     "output_type": "display_data"
    }
   ],
   "source": [
    "# display the optimized B\n",
    "print('M_gdpa = \\n', M_gdpa)\n",
    "sg.display_matrix(M_gdpa, 'M_gdpa')"
   ]
  },
  {
   "cell_type": "markdown",
   "id": "38c58027-7b2b-4144-a62a-ad6b0db88321",
   "metadata": {},
   "source": [
    "## Validate the similarity graph"
   ]
  },
  {
   "cell_type": "code",
   "execution_count": 154,
   "id": "9e0032a3-4883-4a1a-a533-82bca71024c5",
   "metadata": {
    "tags": []
   },
   "outputs": [
    {
     "name": "stdout",
     "output_type": "stream",
     "text": [
      "Elapsed time = 125.66232681274414 ms\n"
     ]
    }
   ],
   "source": [
    "# graph construction and penalty term parameters\n",
    "sg_params = {'mu': 30, 'Dt': None, 'Dv': 0, 'Dvt': 2000, \\\n",
    "             'cnstr_method_tt': 'time', 'cnstr_method_vv': 'time', 'cnstr_method_vt': 'time',\\\n",
    "             'train_t': np.arange(len(train_lbls)), 'val_t': np.arange(len(val_lbls)), \\\n",
    "             'edges_tt':None, 'edges_vv':None, 'edges_vt':None, }\n",
    "\n",
    "val_acc_gdpa, y_est_gdpa, t_gdpa = sg.get_acc(M_gdpa, train_des, train_lbls, val_des, val_lbls, sg_params, seed=0, show_edges=False)\n",
    "print('Elapsed time = {} ms'.format(t_gdpa*1000))"
   ]
  },
  {
   "cell_type": "code",
   "execution_count": 155,
   "id": "582266c4-d456-4dd6-9b39-6e73a70d94e1",
   "metadata": {
    "tags": []
   },
   "outputs": [
    {
     "name": "stdout",
     "output_type": "stream",
     "text": [
      "val acc = 56.00%\n",
      "estimated val labels WITH threshold =  [ 1  1 -1  1 -1  1 -1 -1  1 -1 -1  1 -1 -1 -1  1 -1  1 -1 -1 -1  1  1  1\n",
      " -1  1  1 -1  1 -1 -1  1 -1  1  1 -1  1 -1 -1  1 -1 -1  1 -1  1 -1  1 -1\n",
      " -1  1  1 -1 -1 -1 -1 -1  1 -1 -1  1  1 -1  1 -1 -1 -1  1 -1  1 -1 -1 -1\n",
      " -1 -1 -1 -1 -1 -1  1  1 -1 -1 -1  1  1 -1  1 -1  1  1  1 -1 -1 -1  1 -1\n",
      " -1 -1  1 -1]\n",
      "Estimated validation labels withOUT threshold:\n",
      " [ 1.34445850e-01  3.83740399e-03 -3.25483442e-03  1.12377967e-03\n",
      " -2.16901461e-02  3.63729883e-03 -4.67741294e-03 -2.21629737e-03\n",
      "  9.04482128e-02 -5.69952519e-03 -7.84250876e-04  2.36431139e-02\n",
      " -9.87901054e-03 -9.29239891e-03 -1.52970146e-02  4.04921326e-02\n",
      " -1.21799591e-04  2.87201606e-02 -1.11220403e-03 -5.72078012e-03\n",
      " -1.36078920e-04  8.61266645e-03  2.45437278e-04  3.70940276e-04\n",
      " -7.91281967e-03  1.69051579e-01  1.62691540e-01 -1.03814236e-03\n",
      "  6.24492610e-02 -1.29228825e-03 -9.00653001e-03  2.26160579e-03\n",
      " -7.78842438e-04  1.58971389e-04  8.65134169e-02 -9.83130731e-04\n",
      "  1.45990395e-01 -3.03924190e-03 -1.68505384e-03  9.45125377e-02\n",
      " -3.15137269e-04 -6.09802706e-03  1.49996807e-02 -2.00786726e-03\n",
      "  1.70917300e-01 -1.14358555e-02  3.17108730e-03 -5.56236907e-03\n",
      " -2.78851151e-03  1.06007424e-03  2.79295957e-02 -2.57921107e-03\n",
      " -3.78119191e-03 -1.11989499e-04 -1.32401141e-02 -1.82896252e-03\n",
      "  1.95563175e-03 -1.59643988e-04 -1.77399770e-03  2.27410579e-03\n",
      "  1.85455706e-03 -1.77588699e-02  3.44021365e-04 -2.27244497e-03\n",
      " -1.06121394e-03 -2.25924084e-03  2.36985426e-03 -1.43942189e-03\n",
      "  5.65864873e-02 -2.53951508e-02 -5.40947448e-03 -1.29029688e-03\n",
      " -1.13286312e-03 -6.09371023e-03 -1.86277772e-03 -2.76951199e-03\n",
      " -4.16070194e-03 -3.30452773e-03  5.24998289e-02  1.98745874e-01\n",
      " -3.58253260e-03 -6.65084018e-03 -8.19685632e-04  8.65405252e-04\n",
      "  1.81196376e-01 -4.10365995e-04  9.57099010e-04 -1.32301730e-03\n",
      "  2.23945821e-01  1.55829190e-03  3.63050544e-03 -5.52281001e-03\n",
      " -2.56601386e-03 -3.14573913e-03  2.20563996e-03 -4.75425798e-04\n",
      " -2.32269771e-03 -2.56949886e-03  3.04127955e-04 -1.31603104e-03]\n"
     ]
    }
   ],
   "source": [
    "# print results\n",
    "print('val acc = {:.2f}%'.format(val_acc_gdpa*100))\n",
    "print('estimated val labels WITH threshold = ', 2*(y_est_gdpa>0).astype(np.int32)-1)\n",
    "print('Estimated validation labels withOUT threshold:\\n', y_est_gdpa)"
   ]
  },
  {
   "cell_type": "code",
   "execution_count": 156,
   "id": "29bf1e57-2c6c-462a-99ea-8c987d51a76d",
   "metadata": {
    "tags": []
   },
   "outputs": [
    {
     "name": "stdout",
     "output_type": "stream",
     "text": [
      "Estimated spike time bins:  [ 0  1  3  5  8 11 15 17 21 22 23 25 26 28 31 33 34 36 39 42 44 46 49 50\n",
      " 56 59 60 62 66 68 78 79 83 84 86 88 89 90 94 98]\n",
      "Real spike time bins:  [ 0  1  2  3  4  5  6  7  8  9 10 11 12 13 14 15 16 17 18 19 20 21 22 23\n",
      " 24 25 26 27 28 29 30 31 32 33 34 35 36 37 38 39 40 41 42 43 44 45 46 47\n",
      " 48 49]\n",
      "50.00% of validation points have label 1 (= min accuracy)\n",
      "Missed spikes (/all spikes): 54.00%\n",
      "False spikes (/all no-spike bins): 34.00%\n"
     ]
    }
   ],
   "source": [
    "# comparing estimated and real spike locations\n",
    "val_loc = np.arange(val_num)\n",
    "val_spikes = val_loc[val_lbls==1]\n",
    "est_spikes_gdpa = val_loc[y_est_gdpa > 0]\n",
    "\n",
    "if sum(val_lbls==1) == 0:\n",
    "    missed_gdpa = 0\n",
    "else:\n",
    "    missed_gdpa = sum(np.logical_and(val_lbls==1, y_est_gdpa < 0))/sum(val_lbls==1)\n",
    "\n",
    "if sum(val_lbls==-1) == 0:\n",
    "    false_alarm_gdpa = 0\n",
    "else:\n",
    "    false_alarm_gdpa = sum(np.logical_and(val_lbls==-1, y_est_gdpa > 0))/sum(val_lbls==-1)\n",
    "\n",
    "nospk_per = np.sum(val_lbls==-1)/val_num\n",
    "min_acc = max(nospk_per, 1-nospk_per)\n",
    "\n",
    "print('Estimated spike time bins: ', est_spikes_gdpa)\n",
    "print('Real spike time bins: ', val_spikes)\n",
    "print('{:.2f}% of validation points have label {} (= min accuracy)'.format(min_acc*100, -1 if nospk_per > 50 else 1))\n",
    "print('Missed spikes (/all spikes): {:.2f}%'.format(missed_gdpa*100))\n",
    "print('False spikes (/all no-spike bins): {:.2f}%'.format(false_alarm_gdpa*100))"
   ]
  },
  {
   "cell_type": "markdown",
   "id": "f7836593-f019-4d03-9312-084e23cfa16b",
   "metadata": {
    "tags": []
   },
   "source": [
    "# Train the similarity graph model with factorization"
   ]
  },
  {
   "cell_type": "code",
   "execution_count": 157,
   "id": "8163341d-df48-41e0-8327-a548e56365cd",
   "metadata": {},
   "outputs": [
    {
     "name": "stdout",
     "output_type": "stream",
     "text": [
      "Number of training datapoints: 210\n",
      "Number of features for each point: 2\n",
      "mu = 30\n",
      "   0: eps = 3.12e-02;  train loss (E) = 31497.92\n",
      "   1: eps = 3.12e-02;  train loss (E) = 20243.02\n",
      "   2: eps = 1.56e-02;  train loss (E) = 19677.60\n",
      "   3: eps = 7.81e-03;  train loss (E) = 18719.82\n",
      "   4: eps = 1.56e-02;  train loss (E) = 18718.75\n",
      "   5: eps = 1.56e-02;  train loss (E) = 18718.16\n",
      "   6: eps = 1.56e-02;  train loss (E) = 18717.24\n",
      "   7: eps = 1.56e-02;  train loss (E) = 18716.30\n",
      "   8: eps = 1.56e-02;  train loss (E) = 18714.33\n",
      "   9: eps = 1.56e-02;  train loss (E) = 18710.54\n",
      "Elapsed time = 3.3444395065307617 sec\n"
     ]
    }
   ],
   "source": [
    "# graph construction and penalty term parameters\n",
    "sg_params = {'mu': 30, 'Dt': None, 'Dv': 0, 'Dvt': 2000, \\\n",
    "             'cnstr_method_tt': 'time', 'cnstr_method_vv': 'time', 'cnstr_method_vt': 'time',\\\n",
    "             'train_t': np.arange(len(train_lbls)), 'val_t': np.arange(len(val_lbls)), \\\n",
    "             'edges_tt':None, 'edges_vv':None, 'edges_vt':None, }\n",
    "\n",
    "# gradient descent parameters\n",
    "sg_opt_params = { 'epsilon0':1, 'epsilon_decay':0.5, 'epsilon_jump': 2, \\\n",
    "                  'num_its':10, 'check_freq':1, 'print_checks':True, 'Theta0':None, \\\n",
    "                  'force_all_its': True, 'threshold': 0.01}\n",
    "\n",
    "time0 = time.time()\n",
    "B_fact, sg_stats_fact = sg.fit_graph(dess=train_des, lbls=train_lbls, graph_params=sg_params, opt_params=sg_opt_params, seed=0)\n",
    "print('Elapsed time = {} sec'.format(time.time()-time0))"
   ]
  },
  {
   "cell_type": "markdown",
   "id": "39d1ae43-3525-43cc-b509-ad9e56c45a71",
   "metadata": {},
   "source": [
    "## Display learned metric matrix"
   ]
  },
  {
   "cell_type": "code",
   "execution_count": 158,
   "id": "7b00a582-ed5c-48e1-9d56-8898a5ec3289",
   "metadata": {},
   "outputs": [
    {
     "name": "stdout",
     "output_type": "stream",
     "text": [
      "M_fact - Coordinates of elements with higher values than 49.33\n",
      "[(0, 0)]\n"
     ]
    },
    {
     "data": {
      "image/png": "[encoded data removed]",
      "text/plain": [
       "<Figure size 400x400 with 2 Axes>"
      ]
     },
     "metadata": {},
     "output_type": "display_data"
    }
   ],
   "source": [
    "# display learned M\n",
    "M_fact = B_fact.T @ B_fact\n",
    "\n",
    "sg.display_matrix(M_fact, None)\n",
    "\n",
    "# mark elements with high values\n",
    "thresh = 30\n",
    "lim = (thresh/100) * np.max(M_fact) # marker threshold\n",
    "f_sz = M_fact.shape[0]\n",
    "xloc = np.broadcast_to(np.arange(f_sz), (f_sz, f_sz))\n",
    "yloc = xloc.T\n",
    "plt.plot(xloc[M_fact > lim],yloc[M_fact > lim], marker='o', markersize=3, color='r', linestyle='')\n",
    "plt.title('M_fact - marked above {}%'.format(thresh))\n",
    "print('M_fact - Coordinates of elements with higher values than {:.2f}'.format(lim))\n",
    "print(list(zip(xloc[M_fact > lim],yloc[M_fact > lim])))"
   ]
  },
  {
   "cell_type": "markdown",
   "id": "35d2b513-55ed-4df8-9244-1605f905ed73",
   "metadata": {},
   "source": [
    "## Validate the similarity graph"
   ]
  },
  {
   "cell_type": "code",
   "execution_count": 159,
   "id": "c1f05771-324f-4ba1-8740-0c40249adfdb",
   "metadata": {
    "tags": []
   },
   "outputs": [],
   "source": [
    "val_acc_fact, y_est_fact, t_fact = sg.get_acc(M_fact, train_des, train_lbls, val_des, val_lbls, sg_params, seed=0, show_edges=False)"
   ]
  },
  {
   "cell_type": "code",
   "execution_count": 160,
   "id": "ffbcb107-23d7-442e-b434-1136401eb449",
   "metadata": {
    "tags": []
   },
   "outputs": [
    {
     "name": "stdout",
     "output_type": "stream",
     "text": [
      "val acc = 61.00%\n",
      "elapsed time = 113.26 ms\n",
      "estimated val labels =  [-1 -1 -1 -1  1 -1 -1 -1  1  1 -1 -1  1  1 -1  1 -1 -1 -1  1 -1  1 -1 -1\n",
      "  1  1  1 -1  1 -1  1 -1 -1 -1  1 -1  1 -1 -1  1 -1  1  1 -1  1 -1 -1  1\n",
      " -1 -1 -1 -1 -1 -1 -1 -1 -1 -1 -1 -1 -1 -1 -1 -1 -1 -1 -1 -1  1  1  1 -1\n",
      " -1  1 -1 -1 -1 -1 -1  1 -1  1 -1 -1  1 -1 -1 -1  1 -1 -1  1 -1 -1 -1 -1\n",
      " -1 -1 -1 -1]\n"
     ]
    }
   ],
   "source": [
    "print('val acc = {:.2f}%'.format(val_acc_fact*100))\n",
    "print('elapsed time = {:.2f} ms'.format(t_fact*1000))\n",
    "print('estimated val labels = ', 2*(y_est_fact>0).astype(np.int32)-1)"
   ]
  },
  {
   "cell_type": "code",
   "execution_count": 161,
   "id": "feac681f-f6f5-45fc-bead-e41e05f450c4",
   "metadata": {
    "tags": []
   },
   "outputs": [
    {
     "name": "stdout",
     "output_type": "stream",
     "text": [
      "Estimated spike time bins:  [ 4  8  9 12 13 15 19 21 24 25 26 28 30 34 36 39 41 42 44 47 68 69 70 73\n",
      " 79 81 84 88 91]\n",
      "Real spike time bins:  [ 0  1  2  3  4  5  6  7  8  9 10 11 12 13 14 15 16 17 18 19 20 21 22 23\n",
      " 24 25 26 27 28 29 30 31 32 33 34 35 36 37 38 39 40 41 42 43 44 45 46 47\n",
      " 48 49]\n",
      "50.00% of validation points have label 1 (= min accuracy)\n",
      "Missed spikes (/all spikes): 60.00%\n",
      "False spikes (/all no-spike bins): 18.00%\n"
     ]
    }
   ],
   "source": [
    "# comparing estimated and real spike locations\n",
    "est_spikes_fact = val_loc[y_est_fact > 0]\n",
    "\n",
    "if sum(val_lbls==1) == 0:\n",
    "    missed_fact = 0\n",
    "else:\n",
    "    missed_fact = sum(np.logical_and(val_lbls==1, y_est_fact < 0))/sum(val_lbls==1)\n",
    "\n",
    "if sum(val_lbls==-1) == 0:\n",
    "    false_alarm_fact = 0\n",
    "else:\n",
    "    false_alarm_fact = sum(np.logical_and(val_lbls==-1, y_est_fact > 0))/sum(val_lbls==-1)\n",
    "\n",
    "nospk_per = np.sum(val_lbls==-1)/val_num\n",
    "min_acc = max(nospk_per, 1-nospk_per)\n",
    "\n",
    "print('Estimated spike time bins: ', est_spikes_fact)\n",
    "print('Real spike time bins: ', val_spikes)\n",
    "print('{:.2f}% of validation points have label {} (= min accuracy)'.format(min_acc*100, -1 if nospk_per > 50 else 1))\n",
    "print('Missed spikes (/all spikes): {:.2f}%'.format(missed_fact*100))\n",
    "print('False spikes (/all no-spike bins): {:.2f}%'.format(false_alarm_fact*100))"
   ]
  },
  {
   "cell_type": "markdown",
   "id": "cf6832df-184f-4658-86eb-e746505ea334",
   "metadata": {},
   "source": [
    "## Comparison of all three methods"
   ]
  },
  {
   "cell_type": "code",
   "execution_count": 162,
   "id": "90279c49-85fb-4690-a62b-59a4cd6d063c",
   "metadata": {
    "tags": []
   },
   "outputs": [
    {
     "name": "stdout",
     "output_type": "stream",
     "text": [
      "GDPA val acc = 56.00%\n",
      "Factorization val acc = 61.00%\n",
      "LogReg val acc = 37.00%\n"
     ]
    }
   ],
   "source": [
    "print('GDPA val acc = {:.2f}%'.format(val_acc_gdpa*100))\n",
    "print('Factorization val acc = {:.2f}%'.format(val_acc_fact*100))\n",
    "print('LogReg val acc = {:.2f}%'.format(val_acc_lgrg*100))"
   ]
  },
  {
   "cell_type": "code",
   "execution_count": 163,
   "id": "8cc08208-ae7e-43fe-88d6-68c202c78a85",
   "metadata": {
    "tags": []
   },
   "outputs": [
    {
     "name": "stdout",
     "output_type": "stream",
     "text": [
      "Real spike time bins:  [ 0  1  2  3  4  5  6  7  8  9 10 11 12 13 14 15 16 17 18 19 20 21 22 23\n",
      " 24 25 26 27 28 29 30 31 32 33 34 35 36 37 38 39 40 41 42 43 44 45 46 47\n",
      " 48 49]\n",
      "GDPA Estimated spike time bins:  [ 0  1  3  5  8 11 15 17 21 22 23 25 26 28 31 33 34 36 39 42 44 46 49 50\n",
      " 56 59 60 62 66 68 78 79 83 84 86 88 89 90 94 98]\n",
      "Factorization Estimated spike time bins:  [ 4  8  9 12 13 15 19 21 24 25 26 28 30 34 36 39 41 42 44 47 68 69 70 73\n",
      " 79 81 84 88 91]\n",
      "LogReg Estimated spike time bins:  [ 2  3  4  7  9 10 11 12 13 14 19 22 23 26 27 29 30 34 37 38 45 47 52 53\n",
      " 54 55 56 57 58 61 63 64 65 66 67 69 70 71 72 73 74 75 76 77 80 81 82 85\n",
      " 89 90 91 92 93 94 96 97 98]\n"
     ]
    }
   ],
   "source": [
    "print('Real spike time bins: ', val_spikes)\n",
    "print('GDPA Estimated spike time bins: ', est_spikes_gdpa)\n",
    "print('Factorization Estimated spike time bins: ', est_spikes_fact)\n",
    "print('LogReg Estimated spike time bins: ', est_spikes_lgrg)"
   ]
  },
  {
   "cell_type": "markdown",
   "id": "fe43b829-cfb1-48c6-8715-a494fbd4704a",
   "metadata": {},
   "source": [
    "# Substitute factorization M into GDPA objective"
   ]
  },
  {
   "cell_type": "code",
   "execution_count": 164,
   "id": "e9101d90-1f71-455f-b661-d985a655810a",
   "metadata": {},
   "outputs": [],
   "source": [
    "gamma = 1.0\n",
    "eng = matlab.engine.start_matlab()\n",
    "eng.cd(r'/home/yasamanparhizkar/Documents/yorku/01_thesis/code/15_cheng/SGML-master/SGML_in_Matlab/', nargout=0)\n",
    "V = eng.get_objective_variables_ready(train_des, train_lbls.reshape((train_num,1)), train_des.shape[0], train_des.shape[1], gamma)\n",
    "eng.quit()\n",
    "V = np.array(V)"
   ]
  },
  {
   "cell_type": "code",
   "execution_count": 165,
   "id": "96883407-13e7-4149-ac8a-9da7dc82dfb8",
   "metadata": {},
   "outputs": [
    {
     "name": "stdout",
     "output_type": "stream",
     "text": [
      "GDPA loss with GDPA metric:  -104.3851984374095\n",
      "GDPA loss with Factorization metric:  -104.3851984374095\n"
     ]
    }
   ],
   "source": [
    "loss_gdpa = np.sum(M_gdpa * V.T)\n",
    "loss_fact = np.sum(M_fact * V.T)\n",
    "\n",
    "print('GDPA loss with GDPA metric: ', loss_gdpa)\n",
    "print('GDPA loss with Factorization metric: ', loss_gdpa)"
   ]
  },
  {
   "cell_type": "code",
   "execution_count": null,
   "id": "9ad6eb31-faa8-428e-95a2-5c4ba1ef3cbe",
   "metadata": {},
   "outputs": [],
   "source": []
  },
  {
   "cell_type": "code",
   "execution_count": null,
   "id": "b88e2a92-8469-42c6-b500-2a888f36f6f4",
   "metadata": {},
   "outputs": [],
   "source": []
  },
  {
   "cell_type": "code",
   "execution_count": null,
   "id": "880bef3b-3ef6-4db9-b55f-cc95f494bd85",
   "metadata": {},
   "outputs": [],
   "source": []
  },
  {
   "cell_type": "code",
   "execution_count": null,
   "id": "ec888354-e6d8-4668-bdf0-ffcd679c7743",
   "metadata": {},
   "outputs": [],
   "source": []
  },
  {
   "cell_type": "code",
   "execution_count": null,
   "id": "d15e5e58-7f41-4546-be03-ca92a5af18f6",
   "metadata": {},
   "outputs": [],
   "source": []
  },
  {
   "cell_type": "code",
   "execution_count": null,
   "id": "0db449d4-4133-42ca-9c02-c1cbd55172a8",
   "metadata": {},
   "outputs": [],
   "source": []
  },
  {
   "cell_type": "code",
   "execution_count": null,
   "id": "bbbabd0e-a0f7-429d-b939-02cef7fe156a",
   "metadata": {},
   "outputs": [],
   "source": []
  },
  {
   "cell_type": "code",
   "execution_count": null,
   "id": "84ddf3cc-1990-4b7e-8086-474c8eacbcba",
   "metadata": {},
   "outputs": [],
   "source": []
  },
  {
   "cell_type": "code",
   "execution_count": null,
   "id": "9c3581ea-e412-4742-837f-4e10cd11c8eb",
   "metadata": {},
   "outputs": [],
   "source": []
  }
 ],
 "metadata": {
  "kernelspec": {
   "display_name": "Python 3 (ipykernel)",
   "language": "python",
   "name": "python3"
  },
  "language_info": {
   "codemirror_mode": {
    "name": "ipython",
    "version": 3
   },
   "file_extension": ".py",
   "mimetype": "text/x-python",
   "name": "python",
   "nbconvert_exporter": "python",
   "pygments_lexer": "ipython3",
   "version": "3.9.13"
  }
 },
 "nbformat": 4,
 "nbformat_minor": 5
}
