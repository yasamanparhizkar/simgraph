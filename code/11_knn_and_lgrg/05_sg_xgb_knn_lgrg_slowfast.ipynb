{
 "cells": [
  {
   "cell_type": "code",
   "execution_count": 1,
   "id": "1dc84eb6-1262-4721-a91c-e9b05fa9d9bf",
   "metadata": {
    "tags": []
   },
   "outputs": [],
   "source": [
    "import numpy as np\n",
    "import matplotlib.pyplot as plt\n",
    "import os"
   ]
  },
  {
   "cell_type": "markdown",
   "id": "55168021-b2c5-4479-96a7-371707108d8c",
   "metadata": {},
   "source": [
    "# Load curves"
   ]
  },
  {
   "cell_type": "code",
   "execution_count": 2,
   "id": "a4420d51-1410-4426-9a8a-36bea56c1545",
   "metadata": {
    "tags": []
   },
   "outputs": [],
   "source": [
    "def load_curves(quantities, val_sizes, res_path):\n",
    "    curves = {}\n",
    "    errors = {}\n",
    "    \n",
    "    for i in range(len(val_sizes)):\n",
    "        curves_i = np.loadtxt(res_path+'curves_'+str(i)+'.txt')\n",
    "        curves_i = curves_i.reshape(8, -1)\n",
    "        j = 0\n",
    "        for quantity in quantities:\n",
    "            if i == 0:\n",
    "                curves[quantity] = curves_i[2*j].reshape(1, -1)\n",
    "                errors[quantity] = curves_i[2*j+1].reshape(1, -1)\n",
    "            else:\n",
    "                curves[quantity] = np.concatenate((curves[quantity], [curves_i[2*j]]), axis=0)\n",
    "                errors[quantity] = np.concatenate((errors[quantity], [curves_i[2*j+1]]), axis=0)\n",
    "            j += 1\n",
    "            \n",
    "    return curves, errors"
   ]
  },
  {
   "cell_type": "markdown",
   "id": "75d3eabf-36f6-4472-8406-144e6dc4d3a2",
   "metadata": {},
   "source": [
    "## Similarity graph"
   ]
  },
  {
   "cell_type": "code",
   "execution_count": 3,
   "id": "d8c0e394-e774-4573-9b5e-daa14240acd5",
   "metadata": {
    "tags": []
   },
   "outputs": [
    {
     "name": "stdout",
     "output_type": "stream",
     "text": [
      "curves:\n",
      " {'min_acc': array([[0.5, 0.5, 0.5, 0.5, 0.5, 0.5]]), 'val_acc': array([[0.684, 0.702, 0.778, 0.766, 0.794, 0.79 ]]), 'missed': array([[0.48 , 0.404, 0.304, 0.312, 0.22 , 0.296]]), 'false_alarm': array([[0.152, 0.192, 0.14 , 0.156, 0.192, 0.124]])}\n",
      "\n",
      "errors:\n",
      " {'min_acc': array([[0., 0., 0., 0., 0., 0.]]), 'val_acc': array([[0.04841487, 0.03969887, 0.03187475, 0.02244994, 0.04498889,\n",
      "        0.03794733]]), 'missed': array([[0.0669328 , 0.10071743, 0.08236504, 0.04833218, 0.07375636,\n",
      "        0.048     ]]), 'false_alarm': array([[0.04833218, 0.08997778, 0.07266361, 0.026533  , 0.04118252,\n",
      "        0.05425864]])}\n"
     ]
    }
   ],
   "source": [
    "# common params\n",
    "quantities = ['min_acc', 'val_acc', 'missed', 'false_alarm']\n",
    "val_sizes = [10]\n",
    "\n",
    "# sg params\n",
    "res_path = '../../data/experiments/slowfast/slowfast_sg/2023_03_15-sg-bal/mu_30/'\n",
    "\n",
    "sg_curves, sg_errors = load_curves(quantities, val_sizes, res_path)\n",
    "\n",
    "# print resutls\n",
    "print('curves:\\n', sg_curves)\n",
    "print('\\nerrors:\\n', sg_errors)"
   ]
  },
  {
   "cell_type": "markdown",
   "id": "952f822d-4efa-4f3e-8e63-20d113e648a8",
   "metadata": {},
   "source": [
    "## XGboost"
   ]
  },
  {
   "cell_type": "code",
   "execution_count": 4,
   "id": "c5e5e87a-d08a-4b03-a409-b6a897128fe9",
   "metadata": {
    "tags": []
   },
   "outputs": [
    {
     "name": "stdout",
     "output_type": "stream",
     "text": [
      "curves:\n",
      " {'min_acc': array([[0.5, 0.5, 0.5, 0.5, 0.5, 0.5]]), 'val_acc': array([[0.669, 0.674, 0.746, 0.744, 0.758, 0.772]]), 'missed': array([[0.39 , 0.35 , 0.28 , 0.276, 0.316, 0.268]]), 'false_alarm': array([[0.272, 0.302, 0.228, 0.236, 0.168, 0.188]])}\n",
      "\n",
      "errors:\n",
      " {'min_acc': array([[0., 0., 0., 0., 0., 0.]]), 'val_acc': array([[0.03014963, 0.054626  , 0.04521062, 0.05444263, 0.04354308,\n",
      "        0.0401995 ]]), 'missed': array([[0.09088454, 0.08062258, 0.06196773, 0.07472617, 0.07144228,\n",
      "        0.07807689]]), 'false_alarm': array([[0.10047885, 0.11187493, 0.08447485, 0.05425864, 0.04489989,\n",
      "        0.053066  ]])}\n"
     ]
    }
   ],
   "source": [
    "# get xgb curves\n",
    "res_path = '../../data/experiments/slowfast/slowfast_xgb/2023_03_13-no-hypertune/'\n",
    "xgb_curves, xgb_errors = load_curves(quantities, val_sizes, res_path)\n",
    "\n",
    "# print resutls\n",
    "print('curves:\\n', xgb_curves)\n",
    "print('\\nerrors:\\n', xgb_errors)"
   ]
  },
  {
   "cell_type": "markdown",
   "id": "66f1e6cd-d7e2-42aa-a786-d0410222e3ef",
   "metadata": {},
   "source": [
    "## K-nearest neighbors"
   ]
  },
  {
   "cell_type": "code",
   "execution_count": 5,
   "id": "3b903b0d-6206-4686-a4db-4f8bc858816b",
   "metadata": {
    "tags": []
   },
   "outputs": [
    {
     "name": "stdout",
     "output_type": "stream",
     "text": [
      "curves:\n",
      " {'min_acc': array([[0.5, 0.5, 0.5, 0.5, 0.5, 0.5]]), 'val_acc': array([[0.619, 0.658, 0.72 , 0.721, 0.761, 0.792]]), 'missed': array([[0.582, 0.482, 0.336, 0.352, 0.318, 0.254]]), 'false_alarm': array([[0.18 , 0.202, 0.224, 0.206, 0.16 , 0.162]])}\n",
      "\n",
      "errors:\n",
      " {'min_acc': array([[0., 0., 0., 0., 0., 0.]]), 'val_acc': array([[0.03780212, 0.0505569 , 0.06855655, 0.03562303, 0.04763402,\n",
      "        0.03249615]]), 'missed': array([[0.0666033 , 0.06838128, 0.08890444, 0.05878775, 0.060959  ,\n",
      "        0.04737088]]), 'false_alarm': array([[0.11696153, 0.05758472, 0.08333067, 0.042     , 0.06511528,\n",
      "        0.05963221]])}\n"
     ]
    }
   ],
   "source": [
    "# get knn curves\n",
    "res_path = '../../data/experiments/slowfast/slowfast_knn/2023_03_13-knn-nei1/'\n",
    "knn_curves, knn_errors = load_curves(quantities, val_sizes, res_path)\n",
    "\n",
    "# print resutls\n",
    "print('curves:\\n', knn_curves)\n",
    "print('\\nerrors:\\n', knn_errors)"
   ]
  },
  {
   "cell_type": "markdown",
   "id": "16228efb-9b4a-4413-8f63-a2f374ed53f8",
   "metadata": {},
   "source": [
    "## Logistic regression"
   ]
  },
  {
   "cell_type": "code",
   "execution_count": 6,
   "id": "a5111c9b-5d7a-4ce3-b798-f1193bff3d79",
   "metadata": {
    "tags": []
   },
   "outputs": [
    {
     "name": "stdout",
     "output_type": "stream",
     "text": [
      "curves:\n",
      " {'min_acc': array([[0.5, 0.5, 0.5, 0.5, 0.5, 0.5]]), 'val_acc': array([[0.72 , 0.748, 0.765, 0.774, 0.79 , 0.829]]), 'missed': array([[0.392, 0.326, 0.292, 0.296, 0.264, 0.22 ]]), 'false_alarm': array([[0.168, 0.178, 0.178, 0.156, 0.156, 0.122]])}\n",
      "\n",
      "errors:\n",
      " {'min_acc': array([[0., 0., 0., 0., 0., 0.]]), 'val_acc': array([[0.05039841, 0.05455273, 0.04801042, 0.04923413, 0.02683282,\n",
      "        0.04158125]]), 'missed': array([[0.10777755, 0.06873136, 0.04995998, 0.06858571, 0.06621178,\n",
      "        0.04      ]]), 'false_alarm': array([[0.0688186 , 0.06838128, 0.06539113, 0.04176123, 0.05782733,\n",
      "        0.06029925]])}\n"
     ]
    }
   ],
   "source": [
    "# get lgrg curves\n",
    "res_path = '../../data/experiments/slowfast/slowfast_lgrg/2023_03_14-lgrg-l2/'\n",
    "lgrg_curves, lgrg_errors = load_curves(quantities, val_sizes, res_path)\n",
    "\n",
    "# print resutls\n",
    "print('curves:\\n', lgrg_curves)\n",
    "print('\\nerrors:\\n', lgrg_errors)"
   ]
  },
  {
   "cell_type": "markdown",
   "id": "345aa671-186f-4112-897e-671ff7a439b7",
   "metadata": {},
   "source": [
    "# Plot curves"
   ]
  },
  {
   "cell_type": "code",
   "execution_count": 7,
   "id": "78759f9d-5441-4910-9860-f7860e197287",
   "metadata": {
    "tags": []
   },
   "outputs": [],
   "source": [
    "# group all curves\n",
    "curves = [sg_curves, lgrg_curves, knn_curves, xgb_curves]\n",
    "errors = [sg_errors, lgrg_errors, knn_errors, xgb_errors]"
   ]
  },
  {
   "cell_type": "code",
   "execution_count": 18,
   "id": "90657326-8903-4152-a597-8e5d898ae7bb",
   "metadata": {
    "tags": []
   },
   "outputs": [],
   "source": [
    "# plot curves\n",
    "res_path = '../../data/experiments/slowfast/comparison/2023_03_15-sg-xgb-knn-lgrg/'\n",
    "full_title = {'min_acc': 'minimum accuracy', 'val_acc': 'validation accuracy', 'missed': 'missed detection rate', 'false_alarm': 'false alarm rate'}\n",
    "train_sizes = [50, 100, 150, 200, 250, 300]\n",
    "val_sizes = [10]\n",
    "\n",
    "if not os.path.exists(res_path):\n",
    "    os.mkdir(res_path)\n",
    "\n",
    "i = 0\n",
    "for quantity in quantities:\n",
    "    plt.figure(figsize=(8,4))\n",
    "    \n",
    "    # plot for all methods\n",
    "    for m in range(len(curves)):        \n",
    "        plt.errorbar(train_sizes, curves[m][quantity][i], errors[m][quantity][i])\n",
    "    if quantity=='val_acc':\n",
    "        plt.errorbar(train_sizes, sg_curves['min_acc'][i], sg_errors['min_acc'][i])\n",
    "    \n",
    "    # legend\n",
    "    if quantity=='val_acc':\n",
    "        plt.legend(['our method', 'logreg', 'kNN', 'gbdt', 'min acc'])\n",
    "    else:\n",
    "        plt.legend(['our method', 'logreg', 'kNN', 'gbdt'])\n",
    "                    \n",
    "    plt.xlabel('training set size')\n",
    "    plt.ylabel(full_title[quantity])\n",
    "    plt.ylim([0,1])\n",
    "    _ = plt.title('validation set size = {}'.format(val_sizes[i]))\n",
    "    plt.savefig(res_path+'curves_'+str(quantity)+'.png')\n",
    "    plt.close()"
   ]
  },
  {
   "cell_type": "code",
   "execution_count": null,
   "id": "97bd08dd-36eb-468f-9849-a4449da70abd",
   "metadata": {},
   "outputs": [],
   "source": []
  },
  {
   "cell_type": "code",
   "execution_count": null,
   "id": "ae246f9a-877f-49cc-9aa0-8ba4740aefee",
   "metadata": {},
   "outputs": [],
   "source": []
  },
  {
   "cell_type": "code",
   "execution_count": null,
   "id": "53dcaa5c-57fe-4f28-8adf-1a9026049081",
   "metadata": {},
   "outputs": [],
   "source": []
  },
  {
   "cell_type": "code",
   "execution_count": null,
   "id": "1db7f7cf-f4cd-4484-a5e6-292bbca53d7d",
   "metadata": {},
   "outputs": [],
   "source": []
  },
  {
   "cell_type": "code",
   "execution_count": null,
   "id": "88062312-1817-42db-a591-a8c9534055fc",
   "metadata": {},
   "outputs": [],
   "source": []
  },
  {
   "cell_type": "code",
   "execution_count": null,
   "id": "d6cc1711-4312-4f10-9511-013428f75815",
   "metadata": {},
   "outputs": [],
   "source": []
  },
  {
   "cell_type": "code",
   "execution_count": null,
   "id": "311a61c2-4e2a-4908-bee6-92fa1087d843",
   "metadata": {},
   "outputs": [],
   "source": []
  },
  {
   "cell_type": "code",
   "execution_count": null,
   "id": "f0df0688-e1e2-4513-8c8e-1ef5aeabaad0",
   "metadata": {},
   "outputs": [],
   "source": []
  }
 ],
 "metadata": {
  "kernelspec": {
   "display_name": "Python 3 (ipykernel)",
   "language": "python",
   "name": "python3"
  },
  "language_info": {
   "codemirror_mode": {
    "name": "ipython",
    "version": 3
   },
   "file_extension": ".py",
   "mimetype": "text/x-python",
   "name": "python",
   "nbconvert_exporter": "python",
   "pygments_lexer": "ipython3",
   "version": "3.9.13"
  }
 },
 "nbformat": 4,
 "nbformat_minor": 5
}
