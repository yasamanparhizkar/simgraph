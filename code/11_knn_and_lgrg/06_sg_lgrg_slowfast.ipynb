{
 "cells": [
  {
   "cell_type": "code",
   "execution_count": 1,
   "id": "1dc84eb6-1262-4721-a91c-e9b05fa9d9bf",
   "metadata": {
    "tags": []
   },
   "outputs": [],
   "source": [
    "import numpy as np\n",
    "import matplotlib.pyplot as plt\n",
    "import os"
   ]
  },
  {
   "cell_type": "markdown",
   "id": "55168021-b2c5-4479-96a7-371707108d8c",
   "metadata": {},
   "source": [
    "# Load curves"
   ]
  },
  {
   "cell_type": "code",
   "execution_count": 2,
   "id": "a4420d51-1410-4426-9a8a-36bea56c1545",
   "metadata": {
    "tags": []
   },
   "outputs": [],
   "source": [
    "def load_curves_sg(assess_qs, val_sizes, res_path):\n",
    "    # read training curves\n",
    "    curves = {}\n",
    "    errors = {}\n",
    "    for i in range(len(val_sizes)):\n",
    "        curves_i = np.loadtxt(res_path+'curves/train_'+str(i)+'.txt')\n",
    "        j = 0\n",
    "        for quantity in assess_qs:\n",
    "            if i==0:\n",
    "                curves[quantity] = curves_i[j::8].reshape((1, -1))\n",
    "                errors[quantity] = curves_i[j+1::8].reshape((1, -1))\n",
    "            else:\n",
    "                curves[quantity] = np.concatenate((curves[quantity], [curves_i[j::8]]), axis=0)\n",
    "                errors[quantity] = np.concatenate((errors[quantity], [curves_i[j+1::8]]), axis=0)\n",
    "            j += 2\n",
    "            \n",
    "    return curves, errors"
   ]
  },
  {
   "cell_type": "markdown",
   "id": "75d3eabf-36f6-4472-8406-144e6dc4d3a2",
   "metadata": {},
   "source": [
    "## Similarity graph"
   ]
  },
  {
   "cell_type": "code",
   "execution_count": 4,
   "id": "d8c0e394-e774-4573-9b5e-daa14240acd5",
   "metadata": {
    "tags": []
   },
   "outputs": [
    {
     "name": "stdout",
     "output_type": "stream",
     "text": [
      "curves:\n",
      " {'min_acc': array([[0.5, 0.5, 0.5, 0.5, 0.5, 0.5]]), 'val_acc': array([[0.67733333, 0.75333333, 0.698     , 0.78266667, 0.762     ,\n",
      "        0.79933333]]), 'missed': array([[0.48      , 0.38933333, 0.41066667, 0.288     , 0.31333333,\n",
      "        0.31333333]]), 'false_alarm': array([[0.16533333, 0.104     , 0.19333333, 0.14666667, 0.16266667,\n",
      "        0.088     ]])}\n",
      "\n",
      "errors:\n",
      " {'min_acc': array([[0., 0., 0., 0., 0., 0.]]), 'val_acc': array([[0.05591263, 0.02503331, 0.05663136, 0.03369141, 0.03762978,\n",
      "        0.02398147]]), 'missed': array([[0.11933147, 0.03057959, 0.04706497, 0.04995998, 0.05448751,\n",
      "        0.04501851]]), 'false_alarm': array([[0.06946142, 0.02370185, 0.09788883, 0.05129436, 0.03968767,\n",
      "        0.0122202 ]])}\n"
     ]
    }
   ],
   "source": [
    "# common params\n",
    "assess_qs = ['min_acc', 'val_acc', 'missed', 'false_alarm']\n",
    "val_sizes = [30]\n",
    "\n",
    "# sg params\n",
    "res_path = '../../data/experiments/slowfast/slowfast_sg/2023_04_11/'\n",
    "\n",
    "sg_curves, sg_errors = load_curves_sg(assess_qs, val_sizes, res_path)\n",
    "\n",
    "# print resutls\n",
    "print('curves:\\n', sg_curves)\n",
    "print('\\nerrors:\\n', sg_errors)"
   ]
  },
  {
   "cell_type": "markdown",
   "id": "16228efb-9b4a-4413-8f63-a2f374ed53f8",
   "metadata": {},
   "source": [
    "## Logistic regression"
   ]
  },
  {
   "cell_type": "code",
   "execution_count": 7,
   "id": "897c6309-46f1-4fea-b502-5ac93095f351",
   "metadata": {
    "tags": []
   },
   "outputs": [],
   "source": [
    "def load_curves_lgrg(assess_qs, val_sizes, res_path):\n",
    "    curves = {}\n",
    "    errors = {}  \n",
    "    for i in range(len(val_sizes)):\n",
    "        curves_i = np.loadtxt(res_path+'curves_'+str(i)+'.txt')\n",
    "        curves_i = curves_i.reshape(8, -1)\n",
    "        j = 0\n",
    "        for quantity in assess_qs:\n",
    "            if i == 0:\n",
    "                curves[quantity] = curves_i[2*j].reshape(1, -1)\n",
    "                errors[quantity] = curves_i[2*j+1].reshape(1, -1)\n",
    "            else:\n",
    "                curves[quantity] = np.concatenate((curves[quantity], [curves_i[2*j]]), axis=0)\n",
    "                errors[quantity] = np.concatenate((errors[quantity], [curves_i[2*j+1]]), axis=0)\n",
    "            j += 1\n",
    "            \n",
    "    return curves, errors"
   ]
  },
  {
   "cell_type": "code",
   "execution_count": 14,
   "id": "a5111c9b-5d7a-4ce3-b798-f1193bff3d79",
   "metadata": {
    "tags": []
   },
   "outputs": [
    {
     "name": "stdout",
     "output_type": "stream",
     "text": [
      "curves:\n",
      " {'min_acc': array([[0.5, 0.5, 0.5, 0.5, 0.5, 0.5]]), 'val_acc': array([[0.754     , 0.74466667, 0.74266667, 0.768     , 0.758     ,\n",
      "        0.76733333]]), 'missed': array([[0., 0., 0., 0., 0., 0.]]), 'false_alarm': array([[0.22      , 0.23866667, 0.22933333, 0.23733333, 0.23066667,\n",
      "        0.25066667]])}\n",
      "\n",
      "errors:\n",
      " {'min_acc': array([[0., 0., 0., 0., 0., 0.]]), 'val_acc': array([[0.03172101, 0.03000741, 0.01123487, 0.03297137, 0.03403266,\n",
      "        0.01372751]]), 'missed': array([[0., 0., 0., 0., 0., 0.]]), 'false_alarm': array([[0.07682592, 0.04548993, 0.05941941, 0.03542755, 0.05376492,\n",
      "        0.03946306]])}\n"
     ]
    }
   ],
   "source": [
    "# get lgrg curves\n",
    "res_path = '../../data/experiments/slowfast/slowfast_lgrg/2023_04_11-no regularization/'\n",
    "lgrg_curves, lgrg_errors = load_curves_lgrg(assess_qs, val_sizes, res_path)\n",
    "\n",
    "# print resutls\n",
    "print('curves:\\n', lgrg_curves)\n",
    "print('\\nerrors:\\n', lgrg_errors)"
   ]
  },
  {
   "cell_type": "markdown",
   "id": "345aa671-186f-4112-897e-671ff7a439b7",
   "metadata": {},
   "source": [
    "# Plot curves"
   ]
  },
  {
   "cell_type": "code",
   "execution_count": 15,
   "id": "78759f9d-5441-4910-9860-f7860e197287",
   "metadata": {
    "tags": []
   },
   "outputs": [],
   "source": [
    "# group all curves\n",
    "curves = [sg_curves, lgrg_curves]\n",
    "errors = [sg_errors, lgrg_errors]"
   ]
  },
  {
   "cell_type": "code",
   "execution_count": 16,
   "id": "90657326-8903-4152-a597-8e5d898ae7bb",
   "metadata": {
    "tags": []
   },
   "outputs": [],
   "source": [
    "# plot curves\n",
    "res_path = '../../data/experiments/comparison/2023_04_11/'\n",
    "full_title = {'min_acc': 'minimum accuracy', 'val_acc': 'validation accuracy', 'missed': 'missed detection rate', 'false_alarm': 'false alarm rate'}\n",
    "train_sizes = [50, 100, 150, 200, 250, 300]\n",
    "val_sizes = [30]\n",
    "\n",
    "if not os.path.exists(res_path):\n",
    "    os.mkdir(res_path)\n",
    "\n",
    "i = 0\n",
    "for quantity in assess_qs:\n",
    "    plt.figure(figsize=(8,4))\n",
    "    \n",
    "    # plot for all methods\n",
    "    for m in range(len(curves)):        \n",
    "        plt.errorbar(train_sizes, curves[m][quantity][i], errors[m][quantity][i])\n",
    "    if quantity=='val_acc':\n",
    "        plt.errorbar(train_sizes, sg_curves['min_acc'][i], sg_errors['min_acc'][i])\n",
    "    \n",
    "    # legend\n",
    "    if quantity=='val_acc':\n",
    "        plt.legend(['our method', 'logreg', 'min acc'])\n",
    "    else:\n",
    "        plt.legend(['our method', 'logreg'])\n",
    "                    \n",
    "    plt.xlabel('training set size')\n",
    "    plt.ylabel(full_title[quantity])\n",
    "    plt.ylim([0,1])\n",
    "    _ = plt.title('validation set size = {}'.format(val_sizes[i]))\n",
    "    plt.savefig(res_path+'curves_'+str(quantity)+'.png')\n",
    "    plt.close()"
   ]
  },
  {
   "cell_type": "code",
   "execution_count": null,
   "id": "97bd08dd-36eb-468f-9849-a4449da70abd",
   "metadata": {},
   "outputs": [],
   "source": []
  },
  {
   "cell_type": "code",
   "execution_count": null,
   "id": "ae246f9a-877f-49cc-9aa0-8ba4740aefee",
   "metadata": {},
   "outputs": [],
   "source": []
  },
  {
   "cell_type": "code",
   "execution_count": null,
   "id": "53dcaa5c-57fe-4f28-8adf-1a9026049081",
   "metadata": {},
   "outputs": [],
   "source": []
  },
  {
   "cell_type": "code",
   "execution_count": null,
   "id": "1db7f7cf-f4cd-4484-a5e6-292bbca53d7d",
   "metadata": {},
   "outputs": [],
   "source": []
  },
  {
   "cell_type": "code",
   "execution_count": null,
   "id": "88062312-1817-42db-a591-a8c9534055fc",
   "metadata": {},
   "outputs": [],
   "source": []
  },
  {
   "cell_type": "code",
   "execution_count": null,
   "id": "d6cc1711-4312-4f10-9511-013428f75815",
   "metadata": {},
   "outputs": [],
   "source": []
  },
  {
   "cell_type": "code",
   "execution_count": null,
   "id": "311a61c2-4e2a-4908-bee6-92fa1087d843",
   "metadata": {},
   "outputs": [],
   "source": []
  },
  {
   "cell_type": "code",
   "execution_count": null,
   "id": "f0df0688-e1e2-4513-8c8e-1ef5aeabaad0",
   "metadata": {},
   "outputs": [],
   "source": []
  }
 ],
 "metadata": {
  "kernelspec": {
   "display_name": "Python 3 (ipykernel)",
   "language": "python",
   "name": "python3"
  },
  "language_info": {
   "codemirror_mode": {
    "name": "ipython",
    "version": 3
   },
   "file_extension": ".py",
   "mimetype": "text/x-python",
   "name": "python",
   "nbconvert_exporter": "python",
   "pygments_lexer": "ipython3",
   "version": "3.9.13"
  }
 },
 "nbformat": 4,
 "nbformat_minor": 5
}
