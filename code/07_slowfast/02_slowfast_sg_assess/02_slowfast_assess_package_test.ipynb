{
 "cells": [
  {
   "cell_type": "code",
   "execution_count": 1,
   "id": "1559fcec",
   "metadata": {},
   "outputs": [
    {
     "name": "stderr",
     "output_type": "stream",
     "text": [
      "/home/yasamanparhizkar/Documents/yorku/01_thesis/pyenv/lib/python3.9/site-packages/tqdm/auto.py:22: TqdmWarning: IProgress not found. Please update jupyter and ipywidgets. See https://ipywidgets.readthedocs.io/en/stable/user_install.html\n",
      "  from .autonotebook import tqdm as notebook_tqdm\n"
     ]
    }
   ],
   "source": [
    "import numpy as np\n",
    "import matplotlib.pyplot as plt\n",
    "import torch\n",
    "\n",
    "# add the path to my packages to system paths so they can be imported\n",
    "import sys\n",
    "sys.path.append('/home/yasamanparhizkar/Documents/yorku/01_thesis/code/my_packages')\n",
    "# sys.path.append('F:\\MAScThesis\\code\\my_packages')\n",
    "# sys.path.append('/home/yasamanparhizkar/Documents/thesis/code/my_packages')\n",
    "\n",
    "# import compare_with_benchmark as bn\n",
    "import my_simgraph_04 as sg\n",
    "import data_handler_01 as dh"
   ]
  },
  {
   "cell_type": "markdown",
   "id": "4fe49625",
   "metadata": {},
   "source": [
    "# Load spike data"
   ]
  },
  {
   "cell_type": "markdown",
   "id": "01aa6039-6b29-497a-a224-14527270328f",
   "metadata": {},
   "source": [
    "Spike data shape:  (297, 1141, 113) $\\implies$ (movie repeats, frames/time, neurons)\n",
    "<br>\n",
    "Labels are 1 (= spike) or -1 (= no spike)."
   ]
  },
  {
   "cell_type": "code",
   "execution_count": 2,
   "id": "45813d10",
   "metadata": {},
   "outputs": [],
   "source": [
    "# load all spike data from file\n",
    "spikes_dp = '../../data/original_files/spikes.csv'\n",
    "binned_data = np.loadtxt(spikes_dp, delimiter=',')\n",
    "binned_data = binned_data.reshape(binned_data.shape[0], 1141, 113)\n",
    "binned_data = binned_data * 2 - 1     # turn labels from 0,1 to -1,1\n",
    "\n",
    "I_order_10 = [54, 35, 10, 60, 74, 9, 61, 56, 91, 104]"
   ]
  },
  {
   "cell_type": "markdown",
   "id": "6b56ec5b-6c16-444b-b66e-9a229113bd24",
   "metadata": {},
   "source": [
    "## Group all 113 neurons\n",
    "\n",
    "This will create a more balanced dataset which is presumabley easier to solve.\n",
    "<br>\n",
    "Grouped data shape:  (297, 1141, 1) $\\implies$ (movie repeats, frames/time, group)"
   ]
  },
  {
   "cell_type": "code",
   "execution_count": 3,
   "id": "98bd80e8",
   "metadata": {},
   "outputs": [],
   "source": [
    "# group all neurons together\n",
    "grouped_data = np.zeros((297, 1141, 1))\n",
    "for trial in range(297):\n",
    "    for frame in range(1141):\n",
    "        grouped_data[trial, frame, :] = 2 * int((binned_data[trial, frame, :] == 1).any()) - 1"
   ]
  },
  {
   "cell_type": "code",
   "execution_count": 4,
   "id": "fa076e19-d81d-4bb9-9e5f-72a7c5b4bb1f",
   "metadata": {
    "scrolled": true
   },
   "outputs": [
    {
     "name": "stdout",
     "output_type": "stream",
     "text": [
      "grouped_data.shape =  (297, 1141, 1)\n",
      "trial #    | percentage belonging to class 1\n",
      "---------------------------------------------\n",
      "trial #  0 | 66.26 %\n",
      "trial #  1 | 69.06 %\n",
      "trial #  2 | 67.92 %\n",
      "trial #  3 | 71.08 %\n",
      "trial #  4 | 68.97 %\n",
      "trial #  5 | 68.27 %\n",
      "trial #  6 | 66.87 %\n",
      "trial #  7 | 65.82 %\n",
      "trial #  8 | 67.66 %\n",
      "trial #  9 | 68.19 %\n",
      "---------------------------------------------\n",
      "AVERAGE     | 68.01 %\n",
      "---------------------------------------------\n",
      "68.47 % of the whole data belongs to class 1.\n"
     ]
    }
   ],
   "source": [
    "# print some statistics\n",
    "print('grouped_data.shape = ', grouped_data.shape)\n",
    "\n",
    "avg_spike_perc = 0\n",
    "print('trial #    | percentage belonging to class 1')\n",
    "print('---------------------------------------------')\n",
    "for trial in range(10):\n",
    "    pers = dh.class_percentages(grouped_data[trial, :, :].reshape(-1), [-1, 1])\n",
    "    avg_spike_perc += pers[1]\n",
    "    print('trial #{:3} | {:.2f} %'.format(trial, pers[1]))\n",
    "\n",
    "avg_spike_perc /= 10\n",
    "print('---------------------------------------------')\n",
    "print('AVERAGE     | {:.2f} %'.format(avg_spike_perc))\n",
    "\n",
    "total_perc = np.sum(grouped_data == 1) *100 /(grouped_data.shape[0] * grouped_data.shape[1])\n",
    "print('---------------------------------------------')\n",
    "print('{:.2f} % of the whole data belongs to class 1.'.format(total_perc))"
   ]
  },
  {
   "cell_type": "markdown",
   "id": "1aea96b1",
   "metadata": {},
   "source": [
    "# Create training and validation datasets"
   ]
  },
  {
   "cell_type": "code",
   "execution_count": 5,
   "id": "8f8bc47d",
   "metadata": {},
   "outputs": [
    {
     "name": "stdout",
     "output_type": "stream",
     "text": [
      "train_num =  10 , val_num =  10\n",
      "training data contains 7 points (70.00%) of label 1.\n",
      "validation data contains 6 points (60.00%) of label 1.\n"
     ]
    }
   ],
   "source": [
    "# only consider the second trial\n",
    "ind_min = 1*1141+0\n",
    "ind_max = 2*1141-1\n",
    "# train_num = int(data_num*0.8)\n",
    "# val_num = data_num - train_num\n",
    "train_num = 10\n",
    "val_num = 10\n",
    "\n",
    "def transform(fv):\n",
    "    \"\"\"\n",
    "    Transform to be applied on feature vectors.\n",
    "    \n",
    "    Input: fv\n",
    "    fv - 1xDf torch tensor representing a feature vector\n",
    "    \n",
    "    Output: fvv\n",
    "    fvv - 1xDf' torch tensor representing the transformed feature vector\n",
    "    \"\"\"\n",
    "    \n",
    "    # for faster run and less memory usage\n",
    "    fvv = fv[:, ::10]\n",
    "    \n",
    "    # for numerical stability during GD\n",
    "    # fvv = fvv * 10\n",
    "    \n",
    "    return fvv\n",
    "\n",
    "data_params = {'func': dh.datapoint, 'features_dp': '../../data/slowfast_4732/', \\\n",
    "               'spike_data': grouped_data, 'group_id': 0, 'transform': transform}\n",
    "\n",
    "train_num, val_num, train_data, val_data = \\\n",
    "dh.random_train_val(train_num, val_num, ind_min, ind_max, data_params, seed=1342)\n",
    "\n",
    "# show statistics\n",
    "print('train_num = ', train_num, ', val_num = ', val_num)\n",
    "print('training data contains {} points ({:.2f}%) of label 1.'\n",
    "      .format(np.sum(train_data['lbls'] == 1), np.sum(train_data['lbls'] == 1)*100/train_num))\n",
    "print('validation data contains {} points ({:.2f}%) of label 1.'\n",
    "      .format(np.sum(val_data['lbls'] == 1), np.sum(val_data['lbls'] == 1)*100/val_num))\n",
    "\n",
    "# print('train_smpls = ', train_data['smpls'], '\\nval_smpls = ', val_data['smpls'])\n",
    "# print('train_lbls = ', train_data['lbls'], '\\nval_lbls = ', val_data['lbls'])\n",
    "# print('train_des = ', train_data['des'], '\\nval_des = ', val_data['des'])"
   ]
  },
  {
   "cell_type": "markdown",
   "id": "735b16a3-2e58-453e-8fa7-63ed55631b2b",
   "metadata": {},
   "source": [
    "## Normalize feature vectors\n",
    "\n",
    "Taken from 'code/03_mnist/sift_on_mnist/sift_on_mnist_06.ipynb' with small changes."
   ]
  },
  {
   "cell_type": "code",
   "execution_count": 6,
   "id": "ceadea69-5252-435f-95fd-cfd2e907f3d3",
   "metadata": {},
   "outputs": [],
   "source": [
    "train_dess_nrm = dh.normalize(train_data['des'], feature_nrm=1, node_nrm=30)  \n",
    "val_dess_nrm = dh.normalize(val_data['des'], feature_nrm=1, node_nrm=30)"
   ]
  },
  {
   "cell_type": "markdown",
   "id": "01601bd4",
   "metadata": {},
   "source": [
    "## snippet to update a set (training or validation)"
   ]
  },
  {
   "cell_type": "code",
   "execution_count": 7,
   "id": "a7ba7f7c",
   "metadata": {},
   "outputs": [],
   "source": [
    "# # update the validation set, so that it doesn't overlap with the training or the previous validation set\n",
    "# val_num = 10\n",
    "# minus_set = np.append(val_data['smpls'], train_data['smpls'])\n",
    "# val_num, val_smpls = dh.update_indices(val_num, ind_min, ind_max, minus_set, seed=None)\n",
    "# val_dess, val_lbls = dh.update_set(val_smpls, data_params)\n",
    "# val_data   = {'des': val_dess, 'lbls': val_lbls, 'smpls': val_smpls}\n",
    "\n",
    "# # show statistics\n",
    "# print('new val_num = ', val_num)\n",
    "# print('validation data contains {} points ({:.2f}%) of label 1.'\n",
    "#       .format(np.sum(val_data['lbls'] == 1), np.sum(val_data['lbls'] == 1)*100/val_num))\n",
    "# # print('val_smpls = ', val_data['smpls'])\n",
    "# # print('val_lbls = ', val_data['lbls'])\n",
    "# # print('val_des = ', val_data['des'])"
   ]
  },
  {
   "cell_type": "code",
   "execution_count": null,
   "id": "f650fbe9",
   "metadata": {},
   "outputs": [],
   "source": []
  },
  {
   "cell_type": "markdown",
   "id": "cfc8a714",
   "metadata": {},
   "source": [
    "# Learn the similarity graph"
   ]
  },
  {
   "cell_type": "code",
   "execution_count": 8,
   "id": "c8af37f5-b4bc-42aa-b275-f8b15b7a8a99",
   "metadata": {},
   "outputs": [],
   "source": [
    "# reload sg package\n",
    "# import importlib\n",
    "# importlib.reload(sg)"
   ]
  },
  {
   "cell_type": "code",
   "execution_count": 9,
   "id": "2b9fc029-726c-40a3-a837-737f8215167f",
   "metadata": {
    "tags": []
   },
   "outputs": [
    {
     "name": "stdout",
     "output_type": "stream",
     "text": [
      "Number of training datapoints: 10\n",
      "Number of features for each point: 474\n",
      "mu = 30\n",
      "SG edges are: [(0, 3), (0, 7), (0, 8), (1, 3), (1, 7), (1, 8), (2, 3), (2, 7), (2, 8), (3, 4), (3, 5), (3, 6), (3, 9), (4, 7), (4, 8), (5, 7), (5, 8), (6, 7), (6, 8), (7, 9), (8, 9)]\n",
      "   0: eps = 1.56e-02;  train loss (E) = 53.11\n",
      "   1: eps = 3.91e-03;  train loss (E) = 37.54\n",
      "   2: eps = 7.81e-03;  train loss (E) = 15.18\n",
      "   3: eps = 7.81e-03;  train loss (E) = 11.76\n",
      "   4: eps = 3.91e-03;  train loss (E) = 10.66\n",
      "   5: eps = 3.91e-03;  train loss (E) = 10.33\n",
      "   6: eps = 7.81e-03;  train loss (E) = 10.18\n",
      "   7: eps = 3.91e-03;  train loss (E) = 10.10\n",
      "   8: eps = 3.91e-03;  train loss (E) = 10.04\n",
      "   9: eps = 7.81e-03;  train loss (E) = 10.03\n",
      "  10: eps = 3.91e-03;  train loss (E) = 10.00\n",
      "  11: eps = 3.91e-03;  train loss (E) =  9.91\n",
      "  12: eps = 3.91e-03;  train loss (E) =  9.88\n",
      "  13: eps = 3.91e-03;  train loss (E) =  9.85\n",
      "  14: eps = 3.91e-03;  train loss (E) =  9.83\n",
      "  15: eps = 7.81e-03;  train loss (E) =  9.83\n"
     ]
    }
   ],
   "source": [
    "# learning phase\n",
    "sg_opt_params = { 'epsilon0':1, 'epsilon_decay':0.5, 'epsilon_jump': 2, \\\n",
    "              'num_its':16, 'check_freq':1, 'print_checks':True, 'Theta0':None, \\\n",
    "              'force_all_its': True, 'threshold': 0.01}\n",
    "\n",
    "# B, sg_stats = sg.fit_graph(train_dess_nrm, train_data['lbls'], sg_opt_params, mu=30, Dt=None, seed=0, edges_tt=None)\n",
    "B, sg_stats = sg.fit_graph(train_data['des'], train_data['lbls'], sg_opt_params, mu=30, Dt=None, seed=0, edges_tt=None)"
   ]
  },
  {
   "cell_type": "markdown",
   "id": "9fb916f2",
   "metadata": {},
   "source": [
    "## Display learned metric matrix"
   ]
  },
  {
   "cell_type": "code",
   "execution_count": 10,
   "id": "3d244065",
   "metadata": {},
   "outputs": [
    {
     "name": "stdout",
     "output_type": "stream",
     "text": [
      "Coordinates of elements with higher values than 0.011130897233908185\n",
      "[(282, 96), (282, 113), (282, 278), (96, 282), (113, 282), (278, 282), (282, 282), (330, 282), (334, 282), (347, 282), (434, 282), (452, 282), (282, 330), (282, 334), (334, 334), (434, 334), (282, 347), (386, 386), (282, 434), (334, 434), (282, 452)]\n"
     ]
    },
    {
     "data": {
      "image/png": "[encoded data removed]",
      "text/plain": [
       "<Figure size 400x400 with 2 Axes>"
      ]
     },
     "metadata": {},
     "output_type": "display_data"
    }
   ],
   "source": [
    "# display learned M\n",
    "M = B.T @ B\n",
    "# to preserve memory, uncomment below line\n",
    "# del B\n",
    "\n",
    "sg.display_matrix(M, None)\n",
    "\n",
    "# mark elements with high values\n",
    "thresh = 30\n",
    "lim = (thresh/100) * np.max(M) # marker threshold\n",
    "f_sz = M.shape[0]\n",
    "xloc = np.broadcast_to(np.arange(f_sz), (f_sz, f_sz))\n",
    "yloc = xloc.T\n",
    "plt.plot(xloc[M > lim],yloc[M > lim], marker='o', markersize=3, color='r', linestyle='')\n",
    "plt.title('M - marked above {}%'.format(thresh))\n",
    "print('Coordinates of elements with higher values than {}'.format(lim))\n",
    "print(list(zip(xloc[M > lim],yloc[M > lim])))\n",
    "\n",
    "# save results\n",
    "plt.savefig('../../data/slowfast_results/results-4732-1/finalM_'+str(0)+'.png')\n",
    "# plt.close()\n",
    "# np.savetxt('results/sg_finalB.csv', B, delimiter=',')"
   ]
  },
  {
   "cell_type": "markdown",
   "id": "b18dece8",
   "metadata": {},
   "source": [
    "# Validate the similarity graph"
   ]
  },
  {
   "cell_type": "code",
   "execution_count": 11,
   "id": "039977c0-bea9-4c39-bbca-f7545d835040",
   "metadata": {
    "tags": []
   },
   "outputs": [
    {
     "name": "stdout",
     "output_type": "stream",
     "text": [
      "edges between val. nodes:\n",
      " []\n",
      "edges between val. and train. nodes:\n",
      " [(0, 8), (0, 3), (0, 7), (0, 0), (0, 9), (0, 1), (1, 3), (1, 7), (1, 8), (1, 4), (1, 9), (1, 6), (2, 8), (2, 7), (2, 3), (2, 4), (2, 0), (2, 2), (3, 3), (3, 7), (3, 8), (3, 9), (3, 6), (3, 0), (4, 8), (4, 3), (4, 7), (4, 0), (4, 9), (4, 2), (5, 8), (5, 3), (5, 7), (5, 4), (5, 2), (5, 5), (6, 3), (6, 8), (6, 7), (6, 5), (6, 4), (6, 6), (7, 8), (7, 7), (7, 3), (7, 9), (7, 4), (7, 6), (8, 3), (8, 7), (8, 8), (8, 0), (8, 4), (8, 6), (9, 8), (9, 7), (9, 3), (9, 4), (9, 2), (9, 9)]\n"
     ]
    }
   ],
   "source": [
    "# acc, y_est, t = sg.get_acc(B, train_dess_nrm, train_data['lbls'], val_dess_nrm, val_data['lbls'], Dv=0, Dvt=1, seed=0, show_edges=True)\n",
    "val_acc, y_est, t = sg.get_acc(B, train_data['des'], train_data['lbls'], val_data['des'], val_data['lbls'], Dv=0, Dvt=2000, seed=0, show_edges=True)"
   ]
  },
  {
   "cell_type": "code",
   "execution_count": 12,
   "id": "674c2295-55cf-438a-9e18-ff70e7d50d28",
   "metadata": {},
   "outputs": [
    {
     "name": "stdout",
     "output_type": "stream",
     "text": [
      "val acc = 70.00%\n",
      "elapsed time = 25.96 ms\n",
      "estimated val labels =  [ 1 -1 -1 -1 -1 -1  1 -1  1 -1]\n"
     ]
    }
   ],
   "source": [
    "print('val acc = {:.2f}%'.format(val_acc*100))\n",
    "print('elapsed time = {:.2f} ms'.format(t*1000))\n",
    "print('estimated val labels = ', 2*(y_est>0).astype(np.int32)-1)\n",
    "\n",
    "# # save results\n",
    "# np.savetxt('results/sg_val_acc.txt', np.array([acc]))\n",
    "# np.savetxt('results/sg_y_est.csv', y_est, delimiter=',')"
   ]
  },
  {
   "cell_type": "code",
   "execution_count": 13,
   "id": "d0526c9e",
   "metadata": {},
   "outputs": [
    {
     "name": "stdout",
     "output_type": "stream",
     "text": [
      "Estimated spike time bins:  [0 6 8]\n",
      "Real spike time bins:  [0 2 5 6 7 8]\n",
      "60.00% of validation points have label 1 (= min accuracy)\n",
      "Missed spikes (/all spikes): 50.00%\n",
      "False spikes (/all no-spike bins): 0.00%\n"
     ]
    }
   ],
   "source": [
    "# comparing estimated and real spike locations\n",
    "val_loc = np.arange(val_num)\n",
    "val_spikes = val_loc[val_data['lbls']==1]\n",
    "est_spikes = val_loc[y_est > 0]\n",
    "\n",
    "if sum(val_data['lbls']==1) == 0:\n",
    "    missed = 0\n",
    "else:\n",
    "    missed = sum(np.logical_and(val_data['lbls']==1, y_est < 0))/sum(val_data['lbls']==1)\n",
    "\n",
    "if sum(val_data['lbls']==-1) == 0:\n",
    "    false_alarm = 0\n",
    "else:\n",
    "    false_alarm = sum(np.logical_and(val_data['lbls']==-1, y_est > 0))/sum(val_data['lbls']==-1)\n",
    "\n",
    "nospk_per = np.sum(val_data['lbls']==-1)/val_num\n",
    "min_acc = max(nospk_per, 1-nospk_per)\n",
    "\n",
    "print('Estimated spike time bins: ', est_spikes)\n",
    "print('Real spike time bins: ', val_spikes)\n",
    "print('{:.2f}% of validation points have label {} (= min accuracy)'.format(min_acc*100, -1 if nospk_per > 50 else 1))\n",
    "print('Missed spikes (/all spikes): {:.2f}%'.format(missed*100))\n",
    "print('False spikes (/all no-spike bins): {:.2f}%'.format(false_alarm*100))"
   ]
  },
  {
   "cell_type": "markdown",
   "id": "b2419ff5",
   "metadata": {},
   "source": [
    "## Save validation results"
   ]
  },
  {
   "cell_type": "code",
   "execution_count": 14,
   "id": "b87d8812-f8c4-48dd-acab-623f57c730a9",
   "metadata": {},
   "outputs": [],
   "source": [
    "# prepare results file\n",
    "with open('../../data/slowfast_results/sg_4732_res_1.txt', 'w') as file:    \n",
    "    arr = ('{:^10} | {:^10} | {:^10} | {:^10} | {:^10} | {:^17} | {:^17} \\n'\\\n",
    "           .format('i', 'train_num', 'val_num', 'min_acc(%)', 'val_acc(%)',\\\n",
    "                   'missed spks(%)', 'false alarms(%)'),'-'*101+'\\n')\n",
    "    file.writelines(arr)\n",
    "\n",
    "# save the experiment's results\n",
    "with open('../../data/slowfast_results/sg_4732_res_1.txt', 'a') as file:\n",
    "    file.write('{:^10} | {:^10} | {:^10} | {:^10.2f} | {:^10.2f} | {:^17.2f} | {:^17.2f} \\n'\\\n",
    "               .format(0, train_num, val_num, min_acc*100, val_acc*100, missed*100, false_alarm*100))"
   ]
  },
  {
   "cell_type": "markdown",
   "id": "14b25ab2-987b-40b8-bee2-a4b14c982c29",
   "metadata": {},
   "source": [
    "# Assess the model's performance with random tests"
   ]
  },
  {
   "cell_type": "markdown",
   "id": "7481860b",
   "metadata": {},
   "source": [
    "## set parameters"
   ]
  },
  {
   "cell_type": "code",
   "execution_count": 15,
   "id": "2b4d4ac4",
   "metadata": {},
   "outputs": [],
   "source": [
    "# only consider the second trial\n",
    "ind_min = 1*1141+0\n",
    "ind_max = 2*1141-1\n",
    "\n",
    "def transform(fv):\n",
    "    \"\"\"\n",
    "    Transform to be applied on feature vectors.\n",
    "    \n",
    "    Input: fv\n",
    "    fv - 1xDf torch tensor representing a feature vector\n",
    "    \n",
    "    Output: fvv\n",
    "    fvv - 1xDf' torch tensor representing the transformed feature vector\n",
    "    \"\"\"\n",
    "    \n",
    "    # for faster run and less memory usage\n",
    "    fvv = fv[:, ::10]\n",
    "    \n",
    "    # for numerical stability during GD\n",
    "    # fvv = fvv * 10\n",
    "    \n",
    "    return fvv\n",
    "\n",
    "data_params = {'func': dh.datapoint, 'features_dp': '../../data/slowfast_4732/', \\\n",
    "               'spike_data': grouped_data, 'group_id': 0, 'transform': transform}\n",
    "\n",
    "sg_opt_params = { 'epsilon0':1, 'epsilon_decay':0.5, 'epsilon_jump': 2, \\\n",
    "                              'num_its':16, 'check_freq':1, 'print_checks':False, 'Theta0':None, \\\n",
    "                              'force_all_its': True, 'threshold': 0.01}\n",
    "\n",
    "# try various training and validation set sizes\n",
    "train_sizes = [10, 15, 20]\n",
    "val_sizes = [5, 10]\n",
    "\n",
    "# for each set size, try a number of random combinations of datapoints\n",
    "train_combs = 2\n",
    "val_combs = 3\n",
    "\n",
    "thresh = 30\n",
    "f_sz = 474 # must match data_params\n",
    "xloc = np.broadcast_to(np.arange(f_sz), (f_sz, f_sz))\n",
    "yloc = xloc.T\n",
    "\n",
    "mu = 30\n",
    "Dt = None\n",
    "Dv = 0\n",
    "Dvt = 2000\n",
    "edges_tt = None\n",
    "\n",
    "res_path = '../../data/slowfast_results/results-4732/'"
   ]
  },
  {
   "cell_type": "markdown",
   "id": "37bd5aa7",
   "metadata": {},
   "source": [
    "## randomized experiments"
   ]
  },
  {
   "cell_type": "code",
   "execution_count": 16,
   "id": "6720d07c",
   "metadata": {},
   "outputs": [],
   "source": [
    "def get_valset(train_data, val_num, ind_min, ind_max, data_params):\n",
    "    minus_set = train_data['smpls']\n",
    "    val_num, val_smpls = dh.update_indices(val_num, ind_min, ind_max, minus_set, seed=None)\n",
    "    val_dess, val_lbls = dh.update_set(val_smpls, data_params)\n",
    "    val_data   = {'des': val_dess, 'lbls': val_lbls, 'smpls': val_smpls}\n",
    "    \n",
    "    return val_num, val_data\n",
    "\n",
    "def visualize_M(B, thresh, xloc, yloc, train_comb, train_num, val_num, res_path):\n",
    "    M = B.T @ B\n",
    "    sg.display_matrix(M, None)\n",
    "    # mark prominent elements          \n",
    "    lim = (thresh/100) * np.max(M) # marker threshold                \n",
    "    plt.plot(xloc[M > lim],yloc[M > lim], marker='o', markersize=3, color='r', linestyle='')\n",
    "    plt.title('M - marked above {}%'.format(thresh))\n",
    "    # save figure\n",
    "    plt.savefig(res_path+'finalM_'+str(val_num)+'_'+str(train_num)+'_'+str(train_comb)+'.png')\n",
    "    plt.close()\n",
    "    \n",
    "def assessment_quantities(val_data, val_num, y_est, val_acc):\n",
    "    nospk_per = np.sum(val_data['lbls']==-1)/val_num\n",
    "    min_acc = max(nospk_per, 1-nospk_per)\n",
    "    if sum(val_data['lbls']==1) == 0:\n",
    "        missed = 0\n",
    "    else:\n",
    "        missed = sum(np.logical_and(val_data['lbls']==1, y_est < 0))/sum(val_data['lbls']==1)\n",
    "\n",
    "    if sum(val_data['lbls']==-1) == 0:\n",
    "        false_alarm = 0\n",
    "    else:\n",
    "        false_alarm = sum(np.logical_and(val_data['lbls']==-1, y_est > 0))/sum(val_data['lbls']==-1)\n",
    "        \n",
    "    assess_qs = {'min_acc': min_acc, 'val_acc': val_acc, 'missed': missed, 'false_alarm': false_alarm}\n",
    "        \n",
    "    return assess_qs\n",
    "\n",
    "def make_line(head, train_num, val_num, res_dict, index):\n",
    "    line = '{:^10} | {:^10} | {:^10} | {:^10.2f} | {:^10.2f} | {:^17.2f} | {:^17.2f} \\n'\\\n",
    "           .format(head, train_num, val_num, \\\n",
    "                   res_dict['min_acc'][index]*100, \\\n",
    "                   res_dict['val_acc'][index]*100, \\\n",
    "                   res_dict['missed'][index]*100, \\\n",
    "                   res_dict['false_alarm'][index]*100)\n",
    "    return line\n",
    "\n",
    "def take_train_step(train_num, val_num, ind_min, ind_max, data_params, sg_opt_params, mu, Dt, edges_tt, thresh, xloc, yloc,  train_comb, res_path, seed=None):\n",
    "    # create training set\n",
    "    train_num, _, train_data, _ = dh.random_train_val(train_num, val_num, ind_min, ind_max, data_params, seed)\n",
    "\n",
    "    # train the model              \n",
    "    B, sg_stats = sg.fit_graph(train_data['des'], train_data['lbls'], sg_opt_params, mu, Dt, seed, edges_tt)\n",
    "\n",
    "    # visualize learned M\n",
    "    visualize_M(B, thresh, xloc, yloc, train_comb, train_num, val_num, res_path)\n",
    "    \n",
    "    return train_num, train_data, B, sg_stats\n",
    "\n",
    "def take_val_step(train_data, val_num, ind_min, ind_max, data_params, B, Dv, Dvt, seed=None):\n",
    "    # create validation set, NO overlap with the training set\n",
    "    val_num, val_data = get_valset(train_data, val_num, ind_min, ind_max, data_params)\n",
    "\n",
    "    # validate the model\n",
    "    val_acc, y_est, t = sg.get_acc(B, train_data['des'], train_data['lbls'], val_data['des'], val_data['lbls'], Dv, Dvt, seed, show_edges=False)\n",
    "\n",
    "    # compute several assessment quantities\n",
    "    assess_qs = assessment_quantities(val_data, val_num, y_est, val_acc)\n",
    "    \n",
    "    return val_num, val_data, assess_qs, y_est, t\n",
    "\n",
    "def avg_and_log(next_dict, prev_dict, index, head, train_num, val_num, func, path):\n",
    "    # compute averages over random combinations of validation sets\n",
    "    for quantity in prev_dict:\n",
    "        if func == 'mean':\n",
    "            next_dict[quantity][index] = np.mean(prev_dict[quantity])\n",
    "        elif func == 'std':\n",
    "            next_dict[quantity][index] = np.std(prev_dict[quantity])\n",
    "        else:\n",
    "            assert False\n",
    "\n",
    "    # save on file\n",
    "    with open(path+'log.txt', 'a') as file:\n",
    "        line = make_line(head, train_num, val_num, next_dict, index)\n",
    "        file.write(line)\n",
    "        \n",
    "    return next_dict"
   ]
  },
  {
   "cell_type": "code",
   "execution_count": 17,
   "id": "92b09316",
   "metadata": {},
   "outputs": [],
   "source": [
    "def assess_sg_model(train_sizes, val_sizes, train_combs, val_combs, mu, Dt, Dv, Dvt, edges_tt, res_path, data_params, sg_opt_params, ind_min, ind_max, thresh, f_sz, xloc, yloc, seed=None):\n",
    "    # prepare results file\n",
    "    with open(res_path+'log.txt', 'w') as file:    \n",
    "        arr = ('{:^10} | {:^10} | {:^10} | {:^10} | {:^10} | {:^17} | {:^17} \\n'\\\n",
    "               .format('i', 'train_num', 'val_num', 'min_acc(%)', 'val_acc(%)',\\\n",
    "                       'missed spks(%)', 'false alarms(%)'),'-'*101+'\\n')\n",
    "        file.writelines(arr)\n",
    "\n",
    "    # create dictionaries to keep interesting variables\n",
    "    assess_qs = {'min_acc': 0, 'val_acc': 0, 'missed': 0, 'false_alarm': 0}\n",
    "    val_comb_res = {}\n",
    "    train_comb_res = {}\n",
    "    train_num_res = {}\n",
    "    train_num_err = {}\n",
    "    val_num_res = {}\n",
    "    val_num_err = {}\n",
    "    for quantity in assess_qs:\n",
    "        val_comb_res[quantity] = np.zeros(val_combs)\n",
    "        train_comb_res[quantity] = np.zeros(train_combs)\n",
    "        train_num_res[quantity] = np.zeros(len(train_sizes))\n",
    "        train_num_err[quantity] = np.zeros(len(train_sizes))\n",
    "        val_num_res[quantity] = np.zeros(len(val_sizes))\n",
    "        val_num_err[quantity] = np.zeros(len(val_sizes))\n",
    "\n",
    "    i = 0\n",
    "    for val_num in val_sizes:\n",
    "        j = 0\n",
    "        for train_num in train_sizes:\n",
    "            for train_comb in range(train_combs):\n",
    "                # train\n",
    "                train_num, train_data, B, sg_stats = \\\n",
    "                take_train_step(train_num, val_num, ind_min, ind_max, data_params, sg_opt_params, mu, Dt, edges_tt, thresh, xloc, yloc, train_comb, res_path, seed)\n",
    "\n",
    "                for val_comb in range(val_combs):\n",
    "                    # validate\n",
    "                    val_num, val_data, assess_qs, y_est, t = \\\n",
    "                    take_val_step(train_data, val_num, ind_min, ind_max, data_params, B, Dv, Dvt, seed)\n",
    "                    # log resutls\n",
    "                    val_comb_res = avg_and_log(val_comb_res, assess_qs, val_comb, str(val_comb), train_num, val_num, 'mean', res_path)\n",
    "\n",
    "                # average over various validation set combinations and log\n",
    "                train_comb_res = avg_and_log(train_comb_res, val_comb_res, train_comb, '>'+str(train_comb), train_num, val_num, 'mean', res_path)\n",
    "            # average over various training and validation set combinations and log\n",
    "            train_num_res = avg_and_log(train_num_res, train_comb_res, j, '*t*', train_num, val_num, 'mean', res_path)\n",
    "            train_num_err = avg_and_log(train_num_err, train_comb_res, j, '*te*', train_num, val_num, 'std', res_path)\n",
    "            j += 1\n",
    "        # average over various training set sizes and training and validation set combinations, and log\n",
    "        val_num_res = avg_and_log(val_num_res, train_num_res, i, '**v**', train_num, val_num, 'mean', res_path)\n",
    "        val_num_err = avg_and_log(val_num_err, train_num_res, i, '**ve**', train_num, val_num, 'std', res_path)\n",
    "        i += 1   \n",
    "        # save train_num_res curves for this specific val_num\n",
    "        with open(res_path+'curves_'+str(i-1)+'.txt', 'w') as file:\n",
    "            for quantity in assess_qs:\n",
    "                np.savetxt(file, train_num_res[quantity])\n",
    "                np.savetxt(file, train_num_err[quantity])\n",
    "                file.write('\\n')\n",
    "        \n",
    "    return val_num_res, val_num_err\n",
    "    "
   ]
  },
  {
   "cell_type": "code",
   "execution_count": 18,
   "id": "43810f8d-8709-4b95-b0f3-c009f1958b26",
   "metadata": {},
   "outputs": [
    {
     "name": "stdout",
     "output_type": "stream",
     "text": [
      "{'min_acc': array([0.73333333, 0.72222222]), 'val_acc': array([0.62222222, 0.62222222]), 'missed': array([0.46388889, 0.4276455 ]), 'false_alarm': array([0.17592593, 0.33333333])}\n",
      "{'min_acc': array([0.04714045, 0.04157397]), 'val_acc': array([0.13425607, 0.05499719]), 'missed': array([0.28208695, 0.13989341]), 'false_alarm': array([0.11638708, 0.21245915])}\n"
     ]
    }
   ],
   "source": [
    "val_num_res, val_num_err = assess_sg_model(train_sizes, val_sizes, train_combs, val_combs, mu, Dt, Dv, Dvt, edges_tt, res_path, data_params, sg_opt_params, ind_min, ind_max, thresh, f_sz, xloc, yloc)\n",
    "\n",
    "# print average results\n",
    "print(val_num_res)\n",
    "print(val_num_err)"
   ]
  },
  {
   "cell_type": "markdown",
   "id": "ac625978",
   "metadata": {},
   "source": [
    "## Plot several assessment quantities"
   ]
  },
  {
   "cell_type": "code",
   "execution_count": 20,
   "id": "b1481db1",
   "metadata": {},
   "outputs": [
    {
     "name": "stdout",
     "output_type": "stream",
     "text": [
      "curves:\n",
      " {'min_acc': array([[0.66666667, 0.76666667, 0.76666667],\n",
      "       [0.76666667, 0.66666667, 0.73333333]]), 'val_acc': array([[0.43333333, 0.73333333, 0.7       ],\n",
      "       [0.63333333, 0.55      , 0.68333333]]), 'missed': array([[0.86111111, 0.29722222, 0.23333333],\n",
      "       [0.43452381, 0.59543651, 0.25297619]]), 'false_alarm': array([[0.13888889, 0.05555556, 0.33333333],\n",
      "       [0.25      , 0.125     , 0.625     ]])}\n",
      "errors:\n",
      " {'min_acc': array([[0.06666667, 0.03333333, 0.03333333],\n",
      "       [0.06666667, 0.03333333, 0.06666667]]), 'val_acc': array([[0.1       , 0.06666667, 0.03333333],\n",
      "       [0.16666667, 0.08333333, 0.01666667]]), 'missed': array([[0.13888889, 0.13055556, 0.1       ],\n",
      "       [0.26785714, 0.08710317, 0.12202381]]), 'false_alarm': array([[0.13888889, 0.05555556, 0.33333333],\n",
      "       [0.08333333, 0.125     , 0.375     ]])}\n"
     ]
    }
   ],
   "source": [
    "curves = {}\n",
    "errors = {}\n",
    "for i in range(len(val_sizes)):\n",
    "    curves_i = np.loadtxt(res_path+'curves_'+str(i)+'.txt')\n",
    "    curves_i = curves_i.reshape(8, -1)\n",
    "    j = 0\n",
    "    for quantity in val_num_res:\n",
    "        if i == 0:\n",
    "            curves[quantity] = curves_i[2*j].reshape(1, -1)\n",
    "            errors[quantity] = curves_i[2*j+1].reshape(1, -1)\n",
    "        else:\n",
    "            curves[quantity] = np.concatenate((curves[quantity], [curves_i[2*j]]), axis=0)\n",
    "            errors[quantity] = np.concatenate((errors[quantity], [curves_i[2*j+1]]), axis=0)\n",
    "        j += 1\n",
    "        \n",
    "print('curves:\\n', curves)\n",
    "print('errors:\\n', errors)"
   ]
  },
  {
   "cell_type": "code",
   "execution_count": 21,
   "id": "84c1a8a2",
   "metadata": {},
   "outputs": [
    {
     "data": {
      "image/png": "[encoded data removed]",
      "text/plain": [
       "<Figure size 640x480 with 2 Axes>"
      ]
     },
     "metadata": {},
     "output_type": "display_data"
    }
   ],
   "source": [
    "plt.figure()\n",
    "for i in range(len(val_sizes)):\n",
    "    plt.subplot(len(val_sizes), 1, i+1)\n",
    "    for quantity in curves:\n",
    "        plt.errorbar(train_sizes, curves[quantity][i], errors[quantity][i])\n",
    "    plt.legend(curves.keys())\n",
    "    plt.xlabel('training set size')\n",
    "    plt.ylabel('{} val repeats x {} train repeats'.format(val_combs, train_combs))\n",
    "    _ = plt.title('val. set size = {}, Dt = {}, Dvt = {}, Dv = {}, $\\mu$ = {}'.format(val_sizes[i], 'None', 2000, 0, 30))\n",
    "plt.savefig(res_path+'train_curves.png')"
   ]
  },
  {
   "cell_type": "code",
   "execution_count": 22,
   "id": "6e0aee8f",
   "metadata": {},
   "outputs": [
    {
     "data": {
      "image/png": "[encoded data removed]",
      "text/plain": [
       "<Figure size 640x480 with 1 Axes>"
      ]
     },
     "metadata": {},
     "output_type": "display_data"
    }
   ],
   "source": [
    "plt.figure()\n",
    "for quantity in val_num_res:\n",
    "    plt.errorbar(val_sizes, val_num_res[quantity], val_num_err[quantity])\n",
    "plt.legend(val_num_res.keys())\n",
    "plt.xlabel('validation set size')\n",
    "plt.ylabel('{} val repeats x {} train repeats x {} train set sizes'.format(val_combs, train_combs, len(train_sizes)))\n",
    "_ = plt.title('Dt = {}, Dvt = {}, Dv = {}, $\\mu$ = {}'.format('None', 2000, 0, 30))\n",
    "plt.savefig(res_path+'val_curves.png')"
   ]
  },
  {
   "cell_type": "markdown",
   "id": "5fd93613-06c6-4d74-84ac-e8384af9a5d2",
   "metadata": {},
   "source": [
    "### make it a function"
   ]
  },
  {
   "cell_type": "code",
   "execution_count": 23,
   "id": "396aeda9-57a2-4187-944b-25c1b90006d6",
   "metadata": {},
   "outputs": [],
   "source": [
    "def plot_curves(train_sizes, val_sizes, val_num_res, val_num_err, res_path):\n",
    "    curves = {}\n",
    "    errors = {}\n",
    "    for i in range(len(val_sizes)):\n",
    "        curves_i = np.loadtxt(res_path+'curves_'+str(i)+'.txt')\n",
    "        curves_i = curves_i.reshape(8, -1)\n",
    "        j = 0\n",
    "        for quantity in val_num_res:\n",
    "            if i == 0:\n",
    "                curves[quantity] = curves_i[2*j].reshape(1, -1)\n",
    "                errors[quantity] = curves_i[2*j+1].reshape(1, -1)\n",
    "            else:\n",
    "                curves[quantity] = np.concatenate((curves[quantity], [curves_i[2*j]]), axis=0)\n",
    "                errors[quantity] = np.concatenate((errors[quantity], [curves_i[2*j+1]]), axis=0)\n",
    "            j += 1\n",
    "\n",
    "    plt.figure()\n",
    "    plt.subplots_adjust(left=0.1,bottom=0.1,right=0.9,top=0.9,wspace=0.8,hspace=0.8)\n",
    "    for i in range(len(val_sizes)):\n",
    "        plt.subplot(len(val_sizes), 1, i+1)\n",
    "        for quantity in curves:\n",
    "            plt.errorbar(train_sizes, curves[quantity][i], errors[quantity][i])\n",
    "        plt.legend(curves.keys())\n",
    "        plt.xlabel('training set size')\n",
    "        plt.ylabel('{} val repeats x {} train repeats'.format(val_combs, train_combs))\n",
    "        _ = plt.title('val. set size = {}, Dt = {}, Dvt = {}, Dv = {}, $\\mu$ = {}'.format(val_sizes[i], 'None', 2000, 0, 30))\n",
    "    plt.savefig(res_path+'train_curves.png')\n",
    "    plt.close()\n",
    "    \n",
    "    plt.figure()\n",
    "    for quantity in val_num_res:\n",
    "        plt.errorbar(val_sizes, val_num_res[quantity], val_num_err[quantity])\n",
    "    plt.legend(val_num_res.keys())\n",
    "    plt.xlabel('validation set size')\n",
    "    plt.ylabel('{} val repeats x {} train repeats x {} train set sizes'.format(val_combs, train_combs, len(train_sizes)))\n",
    "    _ = plt.title('Dt = {}, Dvt = {}, Dv = {}, $\\mu$ = {}'.format('None', 2000, 0, 30))\n",
    "    plt.savefig(res_path+'val_curves.png')\n",
    "    plt.close()"
   ]
  },
  {
   "cell_type": "code",
   "execution_count": 24,
   "id": "8a5fc80a-769b-43ac-8770-35dc2f4627a0",
   "metadata": {},
   "outputs": [],
   "source": [
    "plot_curves(train_sizes, val_sizes, val_num_res, val_num_err, res_path)"
   ]
  },
  {
   "cell_type": "markdown",
   "id": "7afde5ec-587e-45d1-b3db-3d3ad78748a7",
   "metadata": {},
   "source": [
    "## Try various $\\mu$ values"
   ]
  },
  {
   "cell_type": "code",
   "execution_count": 25,
   "id": "03442d6e-dfae-4b33-bee6-a4b5bc828a7a",
   "metadata": {},
   "outputs": [],
   "source": [
    "# only consider the second trial\n",
    "ind_min = 1*1141+0\n",
    "ind_max = 2*1141-1\n",
    "\n",
    "def transform(fv):\n",
    "    \"\"\"\n",
    "    Transform to be applied on feature vectors.\n",
    "    \n",
    "    Input: fv\n",
    "    fv - 1xDf torch tensor representing a feature vector\n",
    "    \n",
    "    Output: fvv\n",
    "    fvv - 1xDf' torch tensor representing the transformed feature vector\n",
    "    \"\"\"\n",
    "    \n",
    "    # for faster run and less memory usage\n",
    "    fvv = fv[:, ::10]\n",
    "    \n",
    "    # for numerical stability during GD\n",
    "    # fvv = fvv * 10\n",
    "    \n",
    "    return fvv\n",
    "\n",
    "data_params = {'func': dh.datapoint, 'features_dp': '../../data/slowfast_4732/', \\\n",
    "               'spike_data': grouped_data, 'group_id': 0, 'transform': transform}\n",
    "\n",
    "sg_opt_params = { 'epsilon0':1, 'epsilon_decay':0.5, 'epsilon_jump': 2, \\\n",
    "                              'num_its':16, 'check_freq':1, 'print_checks':False, 'Theta0':None, \\\n",
    "                              'force_all_its': True, 'threshold': 0.01}\n",
    "\n",
    "# try various training and validation set sizes\n",
    "train_sizes = [10, 15, 20]\n",
    "val_sizes = [5, 10]\n",
    "\n",
    "# for each set size, try a number of random combinations of datapoints\n",
    "train_combs = 2\n",
    "val_combs = 3\n",
    "\n",
    "thresh = 30\n",
    "f_sz = 474 # must match data_params\n",
    "xloc = np.broadcast_to(np.arange(f_sz), (f_sz, f_sz))\n",
    "yloc = xloc.T\n",
    "\n",
    "# mu = 30\n",
    "Dt = None\n",
    "Dv = 0\n",
    "Dvt = 2000\n",
    "edges_tt = None\n",
    "\n",
    "org_path = '../../data/slowfast_results/results-4732/'"
   ]
  },
  {
   "cell_type": "code",
   "execution_count": null,
   "id": "3eb32f59-072f-4078-924d-8523416c1227",
   "metadata": {},
   "outputs": [],
   "source": [
    "mu_list = [10, 20, 30, 40]\n",
    "for mu in mu_list:\n",
    "    print('mu = ', mu)\n",
    "    res_path = org_path+'mu_'+str(mu)+'/'\n",
    "    val_num_res, val_num_err = assess_sg_model(train_sizes, val_sizes, train_combs, val_combs, mu, Dt, Dv, Dvt, edges_tt, res_path, data_params, sg_opt_params, ind_min, ind_max, thresh, f_sz, xloc, yloc)\n",
    "    plot_curves(train_sizes, val_sizes, val_num_res, val_num_err, res_path)"
   ]
  },
  {
   "cell_type": "code",
   "execution_count": null,
   "id": "b622ff69-0e7e-43ac-897e-2a0881f8cdfe",
   "metadata": {},
   "outputs": [],
   "source": []
  },
  {
   "cell_type": "code",
   "execution_count": null,
   "id": "8cac8c5d",
   "metadata": {},
   "outputs": [],
   "source": []
  }
 ],
 "metadata": {
  "kernelspec": {
   "display_name": "Python 3 (ipykernel)",
   "language": "python",
   "name": "python3"
  },
  "language_info": {
   "codemirror_mode": {
    "name": "ipython",
    "version": 3
   },
   "file_extension": ".py",
   "mimetype": "text/x-python",
   "name": "python",
   "nbconvert_exporter": "python",
   "pygments_lexer": "ipython3",
   "version": "3.9.13"
  }
 },
 "nbformat": 4,
 "nbformat_minor": 5
}
