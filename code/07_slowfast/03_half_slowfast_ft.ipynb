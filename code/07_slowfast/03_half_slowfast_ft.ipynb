{
 "cells": [
  {
   "cell_type": "code",
   "execution_count": 1,
   "id": "f8d0f315-37d3-492a-91ce-d1188af34bf6",
   "metadata": {},
   "outputs": [],
   "source": [
    "import numpy\n",
    "import torch"
   ]
  },
  {
   "cell_type": "markdown",
   "id": "7ce17a26-127e-4fcb-9b12-587f1b995a17",
   "metadata": {},
   "source": [
    "# What is happening?\n",
    "\n",
    "1. Load full 9216-dim vectors\n",
    "2. The frist 4608 dimensions are pooled from the fast (= sampled) path, and the second half from the slow (= full) path\n",
    "3. Keep the second (full) half and discard the first one\n",
    "4. Save new halved feature vectors"
   ]
  },
  {
   "cell_type": "code",
   "execution_count": 2,
   "id": "0ae733c1-ad40-4508-a21a-8762ca23702e",
   "metadata": {},
   "outputs": [],
   "source": [
    "datapath = '../../data/'\n",
    "dataset_sz = 1141\n",
    "for vect_i in range(dataset_sz):\n",
    "    fv = torch.load(datapath+'slowfast_9216/fv_'+str(vect_i)+'.pt')[:,4608:]\n",
    "    torch.save(fv, datapath+'slowfast_4608/fv_'+str(vect_i)+'.pt')"
   ]
  },
  {
   "cell_type": "markdown",
   "id": "dc08f9bd-6b4e-40f8-a932-8e2a25169401",
   "metadata": {},
   "source": [
    "# Load feature vectors"
   ]
  },
  {
   "cell_type": "code",
   "execution_count": 12,
   "id": "a108df9a-5dde-4019-84c2-4d0c459796d2",
   "metadata": {},
   "outputs": [],
   "source": [
    "# load feature vectors - method 1\n",
    "datapath = '../../data/'\n",
    "dataset_sz = 1141\n",
    "fvs = []\n",
    "for vect_i in range(dataset_sz):\n",
    "    fvs.append(torch.load(datapath+'slowfast_4608/fv_'+str(vect_i)+'.pt'))\n",
    "\n",
    "fvs = torch.cat(fvs)"
   ]
  },
  {
   "cell_type": "code",
   "execution_count": null,
   "id": "d2ee780f-c645-4849-b390-ad01556f062c",
   "metadata": {},
   "outputs": [],
   "source": [
    "# # load feature vectors - method 2\n",
    "# dataset_sz = 1141\n",
    "# fvs = torch.cat([torch.load('../../data/slowfast_4608/fv_'+str(vect_i)+'.pt') for vect_i in range(dataset_sz)])"
   ]
  },
  {
   "cell_type": "code",
   "execution_count": null,
   "id": "870b629a-2d3a-4b4a-afc3-5c4719339e15",
   "metadata": {},
   "outputs": [],
   "source": []
  },
  {
   "cell_type": "code",
   "execution_count": null,
   "id": "3eb51b85-a36a-48b2-8fe6-6411093ae9d2",
   "metadata": {},
   "outputs": [],
   "source": []
  },
  {
   "cell_type": "code",
   "execution_count": null,
   "id": "3ca3a698-2ef6-4c24-aad4-d08611be20fd",
   "metadata": {},
   "outputs": [],
   "source": []
  },
  {
   "cell_type": "code",
   "execution_count": null,
   "id": "66960459-dee9-480d-8d0a-cf13c927b346",
   "metadata": {},
   "outputs": [],
   "source": []
  },
  {
   "cell_type": "code",
   "execution_count": null,
   "id": "2725a452-9e86-4db9-a584-d3b3a7047db1",
   "metadata": {},
   "outputs": [],
   "source": []
  },
  {
   "cell_type": "code",
   "execution_count": null,
   "id": "0531404d-352e-4104-894d-e3e182b4d81d",
   "metadata": {},
   "outputs": [],
   "source": []
  },
  {
   "cell_type": "code",
   "execution_count": null,
   "id": "2fb5527f-544f-4082-ab49-28a5aaeb2bd8",
   "metadata": {},
   "outputs": [],
   "source": []
  },
  {
   "cell_type": "code",
   "execution_count": null,
   "id": "d538bf57-a8ea-4e0d-939e-5148c97128a3",
   "metadata": {},
   "outputs": [],
   "source": []
  },
  {
   "cell_type": "code",
   "execution_count": null,
   "id": "cbc102cf-397c-41de-b86d-7e8a058a9476",
   "metadata": {},
   "outputs": [],
   "source": []
  },
  {
   "cell_type": "code",
   "execution_count": null,
   "id": "5579b40a-e9f2-45e9-80c0-595c7f5100d8",
   "metadata": {},
   "outputs": [],
   "source": []
  },
  {
   "cell_type": "code",
   "execution_count": null,
   "id": "93b9a8ba-5f2b-411c-af10-b8e969e02d43",
   "metadata": {},
   "outputs": [],
   "source": []
  },
  {
   "cell_type": "code",
   "execution_count": null,
   "id": "1c0d631c-fb9b-4ff5-a80b-96ca13873494",
   "metadata": {},
   "outputs": [],
   "source": []
  },
  {
   "cell_type": "code",
   "execution_count": null,
   "id": "b3a3ebbd-95fc-460f-9faa-56ebe609ab0e",
   "metadata": {},
   "outputs": [],
   "source": []
  },
  {
   "cell_type": "code",
   "execution_count": null,
   "id": "5f0ef30e-2eb9-4849-9251-68e2e28bc94c",
   "metadata": {},
   "outputs": [],
   "source": []
  },
  {
   "cell_type": "code",
   "execution_count": null,
   "id": "aac8568d-d073-4e7f-be02-ddfab42a1050",
   "metadata": {},
   "outputs": [],
   "source": []
  },
  {
   "cell_type": "code",
   "execution_count": null,
   "id": "8ef3956c-695d-44fa-b58a-71dc677b3921",
   "metadata": {},
   "outputs": [],
   "source": []
  },
  {
   "cell_type": "code",
   "execution_count": null,
   "id": "97006c59-fe09-4656-88e8-d066cd8070df",
   "metadata": {},
   "outputs": [],
   "source": []
  },
  {
   "cell_type": "code",
   "execution_count": null,
   "id": "6b2a33f7-98fa-4678-9b49-85146350f14f",
   "metadata": {},
   "outputs": [],
   "source": []
  },
  {
   "cell_type": "code",
   "execution_count": null,
   "id": "22f66f24-78c4-4608-a542-47c005734bf9",
   "metadata": {},
   "outputs": [],
   "source": []
  },
  {
   "cell_type": "code",
   "execution_count": null,
   "id": "a51786ae-89fb-4485-8d28-15c0526eb337",
   "metadata": {},
   "outputs": [],
   "source": []
  },
  {
   "cell_type": "code",
   "execution_count": null,
   "id": "9a302e69-2503-46ba-b909-55795262c911",
   "metadata": {},
   "outputs": [],
   "source": []
  },
  {
   "cell_type": "code",
   "execution_count": null,
   "id": "7e61396b-d8e1-4e05-91f8-236cfbb2a05d",
   "metadata": {},
   "outputs": [],
   "source": []
  },
  {
   "cell_type": "code",
   "execution_count": null,
   "id": "15f25c06-708f-4b8e-9b76-e346df553306",
   "metadata": {},
   "outputs": [],
   "source": []
  },
  {
   "cell_type": "code",
   "execution_count": null,
   "id": "d9dcf19c-e15b-473f-b58e-7a31b6b64b4b",
   "metadata": {},
   "outputs": [],
   "source": []
  },
  {
   "cell_type": "code",
   "execution_count": null,
   "id": "6d3c59a7-69ff-4514-9897-b945e0d22544",
   "metadata": {},
   "outputs": [],
   "source": []
  }
 ],
 "metadata": {
  "kernelspec": {
   "display_name": "Python 3 (ipykernel)",
   "language": "python",
   "name": "python3"
  },
  "language_info": {
   "codemirror_mode": {
    "name": "ipython",
    "version": 3
   },
   "file_extension": ".py",
   "mimetype": "text/x-python",
   "name": "python",
   "nbconvert_exporter": "python",
   "pygments_lexer": "ipython3",
   "version": "3.9.12"
  }
 },
 "nbformat": 4,
 "nbformat_minor": 5
}
