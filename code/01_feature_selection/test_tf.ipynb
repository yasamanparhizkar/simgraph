{
 "cells": [
  {
   "cell_type": "code",
   "execution_count": 1,
   "id": "308c8c36",
   "metadata": {},
   "outputs": [],
   "source": [
    "import tensorflow as tf"
   ]
  },
  {
   "cell_type": "code",
   "execution_count": 9,
   "id": "fea1ad25",
   "metadata": {},
   "outputs": [
    {
     "name": "stdout",
     "output_type": "stream",
     "text": [
      "tf.Tensor([1 2 3], shape=(3,), dtype=int32)\n",
      "tf.Tensor([4 5 3], shape=(3,), dtype=int32)\n"
     ]
    }
   ],
   "source": [
    "a = tf.constant([1,2,3])\n",
    "b = tf.constant([4, 5, 3])\n",
    "\n",
    "print(a)\n",
    "print(b)"
   ]
  },
  {
   "cell_type": "code",
   "execution_count": 11,
   "id": "f7748bec",
   "metadata": {},
   "outputs": [
    {
     "name": "stdout",
     "output_type": "stream",
     "text": [
      "tf.Tensor([3 3 0], shape=(3,), dtype=int32)\n"
     ]
    }
   ],
   "source": [
    "print(tf.abs(a-b))"
   ]
  },
  {
   "cell_type": "code",
   "execution_count": 12,
   "id": "d5232b7b",
   "metadata": {},
   "outputs": [
    {
     "name": "stdout",
     "output_type": "stream",
     "text": [
      "tf.Tensor([1 2 3 4 5 3], shape=(6,), dtype=int32)\n"
     ]
    }
   ],
   "source": [
    "print(tf.concat([a,b], axis=0))"
   ]
  },
  {
   "cell_type": "code",
   "execution_count": 13,
   "id": "f496fd1b",
   "metadata": {},
   "outputs": [
    {
     "data": {
      "text/plain": [
       "<tf.Tensor: shape=(2, 2, 3), dtype=int32, numpy=\n",
       "array([[[ 1,  2,  3],\n",
       "        [ 4,  5,  6]],\n",
       "\n",
       "       [[ 7,  8,  9],\n",
       "        [10, 11, 12]]])>"
      ]
     },
     "execution_count": 13,
     "metadata": {},
     "output_type": "execute_result"
    }
   ],
   "source": [
    "c = tf.constant([[[1,2,3],[4,5,6]],[[7,8,9],[10,11,12]]])\n",
    "c"
   ]
  },
  {
   "cell_type": "code",
   "execution_count": 23,
   "id": "4a833b95",
   "metadata": {},
   "outputs": [
    {
     "name": "stdout",
     "output_type": "stream",
     "text": [
      "tf.Tensor(\n",
      "[[ 1  2  3  4  5  6]\n",
      " [ 7  8  9 10 11 12]], shape=(2, 6), dtype=int32)\n"
     ]
    }
   ],
   "source": [
    "d = tf.reshape(c, [2,-1])\n",
    "print(d)"
   ]
  },
  {
   "cell_type": "code",
   "execution_count": 17,
   "id": "9c1cb573",
   "metadata": {},
   "outputs": [
    {
     "data": {
      "text/plain": [
       "TensorShape([2, 2, 3])"
      ]
     },
     "execution_count": 17,
     "metadata": {},
     "output_type": "execute_result"
    }
   ],
   "source": [
    "c.shape"
   ]
  },
  {
   "cell_type": "code",
   "execution_count": 24,
   "id": "ac5d5b98",
   "metadata": {},
   "outputs": [
    {
     "data": {
      "text/plain": [
       "<tf.Tensor: shape=(6,), dtype=int32, numpy=array([4, 5, 6, 7, 8, 9])>"
      ]
     },
     "execution_count": 24,
     "metadata": {},
     "output_type": "execute_result"
    }
   ],
   "source": [
    "tf.reduce_mean(d, axis=0)\n"
   ]
  },
  {
   "cell_type": "code",
   "execution_count": 39,
   "id": "9376a72c",
   "metadata": {},
   "outputs": [
    {
     "data": {
      "text/plain": [
       "<enumerate at 0x20e484e39c0>"
      ]
     },
     "execution_count": 39,
     "metadata": {},
     "output_type": "execute_result"
    }
   ],
   "source": [
    "e = enumerate(b)\n",
    "e"
   ]
  },
  {
   "cell_type": "code",
   "execution_count": 40,
   "id": "e9e20b96",
   "metadata": {},
   "outputs": [
    {
     "data": {
      "text/plain": [
       "[(2, <tf.Tensor: shape=(), dtype=int32, numpy=3>),\n",
       " (0, <tf.Tensor: shape=(), dtype=int32, numpy=4>),\n",
       " (1, <tf.Tensor: shape=(), dtype=int32, numpy=5>)]"
      ]
     },
     "execution_count": 40,
     "metadata": {},
     "output_type": "execute_result"
    }
   ],
   "source": [
    "g = sorted(e, key=lambda x: x[1].numpy())\n",
    "g"
   ]
  },
  {
   "cell_type": "code",
   "execution_count": 42,
   "id": "56313cd0",
   "metadata": {},
   "outputs": [
    {
     "data": {
      "text/plain": [
       "[(2, <tf.Tensor: shape=(), dtype=int32, numpy=3>),\n",
       " (0, <tf.Tensor: shape=(), dtype=int32, numpy=4>)]"
      ]
     },
     "execution_count": 42,
     "metadata": {},
     "output_type": "execute_result"
    }
   ],
   "source": [
    "g[0:2]"
   ]
  },
  {
   "cell_type": "code",
   "execution_count": 49,
   "id": "1cdde141",
   "metadata": {},
   "outputs": [
    {
     "data": {
      "text/plain": [
       "[0, 2]"
      ]
     },
     "execution_count": 49,
     "metadata": {},
     "output_type": "execute_result"
    }
   ],
   "source": [
    "h = [i for (i,j) in g[0:int(len(g)*0.9)]]\n",
    "h = sorted(h)\n",
    "h"
   ]
  },
  {
   "cell_type": "code",
   "execution_count": 47,
   "id": "41d6713a",
   "metadata": {},
   "outputs": [
    {
     "data": {
      "text/plain": [
       "<tf.Tensor: shape=(2, 6), dtype=int32, numpy=\n",
       "array([[ 1,  2,  3,  4,  5,  6],\n",
       "       [ 7,  8,  9, 10, 11, 12]])>"
      ]
     },
     "execution_count": 47,
     "metadata": {},
     "output_type": "execute_result"
    }
   ],
   "source": [
    "d"
   ]
  },
  {
   "cell_type": "code",
   "execution_count": 50,
   "id": "875fdfff",
   "metadata": {},
   "outputs": [
    {
     "data": {
      "text/plain": [
       "<tf.Tensor: shape=(2, 2), dtype=int32, numpy=\n",
       "array([[1, 3],\n",
       "       [7, 9]])>"
      ]
     },
     "execution_count": 50,
     "metadata": {},
     "output_type": "execute_result"
    }
   ],
   "source": [
    "tf.gather(d, indices=h, axis=1)"
   ]
  },
  {
   "cell_type": "code",
   "execution_count": null,
   "id": "b2563a42",
   "metadata": {},
   "outputs": [],
   "source": []
  },
  {
   "cell_type": "code",
   "execution_count": null,
   "id": "de8a38fb",
   "metadata": {},
   "outputs": [],
   "source": []
  }
 ],
 "metadata": {
  "kernelspec": {
   "display_name": "DIPcourseprj",
   "language": "python",
   "name": "dipcourseprj"
  },
  "language_info": {
   "codemirror_mode": {
    "name": "ipython",
    "version": 3
   },
   "file_extension": ".py",
   "mimetype": "text/x-python",
   "name": "python",
   "nbconvert_exporter": "python",
   "pygments_lexer": "ipython3",
   "version": "3.9.7"
  }
 },
 "nbformat": 4,
 "nbformat_minor": 5
}
