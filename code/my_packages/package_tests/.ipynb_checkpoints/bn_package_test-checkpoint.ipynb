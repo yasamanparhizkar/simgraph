{
 "cells": [
  {
   "cell_type": "code",
   "execution_count": 2,
   "id": "a3252457-8701-4ce5-b7af-0400af389e53",
   "metadata": {},
   "outputs": [],
   "source": [
    "import numpy as np\n",
    "import matplotlib.pyplot as plt\n",
    "\n",
    "# add the path to my packages to system paths so they can be imported\n",
    "import sys\n",
    "# sys.path.append('/home/yasamanparhizkar/Documents/yorku/01_thesis/code/my_packages')\n",
    "sys.path.append('F:\\MAScThesis\\code\\my_packages')\n",
    "\n",
    "import my_first_feature_extractor as fe\n",
    "import compare_with_benchmark as bn\n",
    "import my_similarity_graph_fitter as sg"
   ]
  },
  {
   "cell_type": "markdown",
   "id": "fc066882-ca25-4b64-9f28-16a8661967c2",
   "metadata": {},
   "source": [
    "# Test jointly with SIFT"
   ]
  },
  {
   "cell_type": "markdown",
   "id": "aeaa960e-224d-4af3-b2c7-1a21fad932ff",
   "metadata": {},
   "source": [
    "## Download mnist and extract SIFT descriptors"
   ]
  },
  {
   "cell_type": "code",
   "execution_count": 3,
   "id": "49af6488-b347-47eb-9500-d204d1423ce9",
   "metadata": {},
   "outputs": [],
   "source": [
    "# define parameters of feature extraction block\n",
    "data_params = {'name': 'mnist'}\n",
    "allocation_params = {'portion': 0.005, 'fracs': [0.6, 0.4], 'seed': 0}\n",
    "sift_params = {} # all default\n",
    "kpnum_params = {'min': 2, 'max': 2}\n",
    "normalize = True\n",
    "return_imgs = False\n",
    "save = True\n",
    "savepath = '../../../data/fe_pt/'\n",
    "img_sz = (28, 28)\n",
    "\n",
    "# extract features from mnist images\n",
    "num_train, num_val, train_data, val_data = \\\n",
    "fe.xsift_from_data(data_params, allocation_params, sift_params, kpnum_params, \\\n",
    "                   normalize, return_imgs, save, savepath, img_sz)"
   ]
  },
  {
   "cell_type": "code",
   "execution_count": 4,
   "id": "4e40e684-b0c0-4eb1-bd47-99a8cc1746c9",
   "metadata": {},
   "outputs": [
    {
     "name": "stdout",
     "output_type": "stream",
     "text": [
      "We have 41 training images and 26 validation images\n"
     ]
    }
   ],
   "source": [
    "print('We have {} training images and {} validation images'.format(num_train, num_val))"
   ]
  },
  {
   "cell_type": "code",
   "execution_count": 5,
   "id": "4d09ea43-a161-46d3-b30d-5901d2d0574c",
   "metadata": {},
   "outputs": [
    {
     "name": "stdout",
     "output_type": "stream",
     "text": [
      "39.02% of the training data is class 0, corresponding to 16 data points\n",
      "60.98% of the training data is class 1, corresponding to 25 data points\n",
      "Computing these statistics took 0.998 ms.\n",
      "\n",
      "50.00% of the validation data is class 0, corresponding to 13 data points\n",
      "50.00% of the validation data is class 1, corresponding to 13 data points\n",
      "Computing these statistics took 0.998 ms.\n"
     ]
    }
   ],
   "source": [
    "pers = fe.class_percentages(train_data['lbls'], [0, 1], fe.train_times)\n",
    "for i in range(2):\n",
    "    print('{:.2f}% of the training data is class {}, corresponding to {} data points'\\\n",
    "          .format(pers[i], i, round(pers[i]*num_train/100)))\n",
    "\n",
    "print('Computing these statistics took {:.3f} ms.\\n'.format(fe.train_times['class_percentages']*1000))\n",
    "\n",
    "pers = fe.class_percentages(val_data['lbls'], [0, 1], fe.val_times)\n",
    "for i in range(2):\n",
    "    print('{:.2f}% of the validation data is class {}, corresponding to {} data points'\\\n",
    "          .format(pers[i], i, round(pers[i]*num_val/100)))\n",
    "\n",
    "print('Computing these statistics took {:.3f} ms.'.format(fe.val_times['class_percentages']*1000))"
   ]
  },
  {
   "cell_type": "markdown",
   "id": "23877603",
   "metadata": {},
   "source": [
    "# Train and validate a neural network on the data"
   ]
  },
  {
   "cell_type": "code",
   "execution_count": 6,
   "id": "0ab002ea-6cdc-49b1-be57-501a4f3b94a0",
   "metadata": {},
   "outputs": [
    {
     "name": "stdout",
     "output_type": "stream",
     "text": [
      "   0: eps = 1.50e+00;  train loss (E) =  0.67\n",
      "   1: eps = 2.25e+00;  train loss (E) =  0.66\n",
      "   2: eps = 3.38e+00;  train loss (E) =  0.66\n",
      "   3: eps = 5.06e+00;  train loss (E) =  0.65\n",
      "   4: eps = 7.59e+00;  train loss (E) =  0.58\n",
      "   5: eps = 1.14e+01;  train loss (E) =  0.19\n",
      "   6: eps = 2.14e+00;  train loss (E) =  0.15\n",
      "   7: eps = 1.60e+00;  train loss (E) =  0.13\n",
      "   8: eps = 1.20e+00;  train loss (E) =  0.09\n",
      "   9: eps = 1.80e+00;  train loss (E) =  0.08\n",
      "  10: eps = 2.70e+00;  train loss (E) =  0.07\n",
      "  11: eps = 2.03e+00;  train loss (E) =  0.05\n",
      "  12: eps = 1.52e+00;  train loss (E) =  0.04\n",
      "  13: eps = 2.28e+00;  train loss (E) =  0.03\n",
      "  14: eps = 3.42e+00;  train loss (E) =  0.02\n",
      "  15: eps = 5.13e+00;  train loss (E) =  0.02\n",
      "\n",
      "val acc = 0.92\n",
      "val loss = 0.21964\n"
     ]
    }
   ],
   "source": [
    "# define gradient descent parameters\n",
    "opt_params = { 'epsilon0':1, 'epsilon_decay':0.5, 'epsilon_jump': 1.5, \\\n",
    "              'num_its':16, 'check_freq':1, 'print_checks':True, 'Theta0':None, \\\n",
    "              'seed':0, 'force_all_its': True, 'threshold': 0.02}\n",
    "\n",
    "# define neural network architecture\n",
    "num_classes = 2\n",
    "arch_params = { 'num_hidden_layers':1, 'num_hidden_units':5, 'num_outs':num_classes, \\\n",
    "               'act_func':bn.relu, 'out_func':bn.softmax, 'loss_func':bn.crossent }\n",
    "\n",
    "# fit neural network to the training images and measure accuracy on validation set\n",
    "forced_Theta, forced_stats = bn.fit(train_data['des'], train_data['lbls'], opt_params, arch_params, show_nrmdE=False)\n",
    "\n",
    "forced_val_acc, forced_val_loss = bn.get_acc(val_data['des'], val_data['lbls'], arch_params, forced_Theta)\n",
    "print('\\nval acc = {:.2f}\\nval loss = {:.5f}'.format(forced_val_acc, forced_val_loss))"
   ]
  },
  {
   "cell_type": "code",
   "execution_count": 7,
   "id": "c5fe4770-296d-4249-8276-06f0e1999440",
   "metadata": {},
   "outputs": [
    {
     "name": "stdout",
     "output_type": "stream",
     "text": [
      "   0: eps = 1.50e+00;  train loss (E) =  0.67\n",
      "   1: eps = 2.25e+00;  train loss (E) =  0.66\n",
      "\n",
      "val acc = 0.50\n",
      "val loss = 0.71735\n"
     ]
    }
   ],
   "source": [
    "# define gradient descent parameters\n",
    "opt_params = { 'epsilon0':1, 'epsilon_decay':0.5, 'epsilon_jump': 1.5, \\\n",
    "              'num_its':16, 'check_freq':1, 'print_checks':True, 'Theta0':None, \\\n",
    "              'seed':0, 'force_all_its': False, 'threshold': 0.02}\n",
    "\n",
    "# define neural network architecture\n",
    "num_classes = 2\n",
    "arch_params = { 'num_hidden_layers':1, 'num_hidden_units':5, 'num_outs':num_classes, \\\n",
    "               'act_func':bn.relu, 'out_func':bn.softmax, 'loss_func':bn.crossent }\n",
    "\n",
    "# fit neural network to the training images and measure accuracy on validation set\n",
    "flex_Theta, flex_stats = bn.fit(train_data['des'], train_data['lbls'], opt_params, arch_params, show_nrmdE=False)\n",
    "\n",
    "flex_val_acc, flex_val_loss = bn.get_acc(val_data['des'], val_data['lbls'], arch_params, flex_Theta)\n",
    "print('\\nval acc = {:.2f}\\nval loss = {:.5f}'.format(flex_val_acc, flex_val_loss))"
   ]
  },
  {
   "cell_type": "code",
   "execution_count": 8,
   "id": "3505726d-15f1-4bd3-ada3-d0589545abc9",
   "metadata": {},
   "outputs": [
    {
     "data": {
      "text/plain": [
       "Text(0.5, 1.0, 'Time spent to find a valid stepsize in each iteration')"
      ]
     },
     "execution_count": 8,
     "metadata": {},
     "output_type": "execute_result"
    },
    {
     "data": {
      "image/png": "[encoded data removed]",
      "text/plain": [
       "<Figure size 432x216 with 1 Axes>"
      ]
     },
     "metadata": {
      "needs_background": "light"
     },
     "output_type": "display_data"
    },
    {
     "data": {
      "image/png": "[encoded data removed]",
      "text/plain": [
       "<Figure size 432x216 with 1 Axes>"
      ]
     },
     "metadata": {
      "needs_background": "light"
     },
     "output_type": "display_data"
    },
    {
     "data": {
      "image/png": "[encoded data removed]",
      "text/plain": [
       "<Figure size 432x216 with 1 Axes>"
      ]
     },
     "metadata": {
      "needs_background": "light"
     },
     "output_type": "display_data"
    },
    {
     "data": {
      "image/png": "[encoded data removed]",
      "text/plain": [
       "<Figure size 432x216 with 1 Axes>"
      ]
     },
     "metadata": {
      "needs_background": "light"
     },
     "output_type": "display_data"
    }
   ],
   "source": [
    "# Some informative figures to compare forced and flexible time complexity\n",
    "plt.figure(figsize=(6,3))\n",
    "plt.plot(forced_stats['train_losss'], marker='o')\n",
    "plt.plot(flex_stats['train_losss'], marker='^')\n",
    "plt.legend(['forced', 'flex'])\n",
    "plt.xlabel('iteration number')\n",
    "plt.ylabel('loss')\n",
    "plt.title('Training loss of each iteration', fontsize=10)\n",
    "\n",
    "plt.figure(figsize=(6,3))\n",
    "plt.plot(forced_stats['it_times'], marker='o')\n",
    "plt.plot(flex_stats['it_times'], marker='^')\n",
    "plt.legend(['forced', 'flex'])\n",
    "plt.xlabel('iteration number')\n",
    "plt.ylabel('time (sec)')\n",
    "plt.title('Elapsed time after each iteration since the start of the algorithm', fontsize=10)\n",
    "\n",
    "plt.figure(figsize=(6,3))\n",
    "plt.plot(forced_stats['eval_times'], marker='o')\n",
    "plt.plot(flex_stats['eval_times'], marker='^')\n",
    "plt.legend(['forced', 'flex'])\n",
    "plt.xlabel('iteration number')\n",
    "plt.ylabel('time (sec)')\n",
    "plt.title('Time spent to evaluate loss and its derivative in each iteration', fontsize=10)\n",
    "\n",
    "plt.figure(figsize=(6,3))\n",
    "plt.plot(forced_stats['stepsizeloop_times'], marker='o')\n",
    "plt.plot(flex_stats['stepsizeloop_times'], marker='^')\n",
    "plt.legend(['forced', 'flex'])\n",
    "plt.xlabel('iteration number')\n",
    "plt.ylabel('time (sec)')\n",
    "plt.title('Time spent to find a valid stepsize in each iteration', fontsize=10)"
   ]
  },
  {
   "cell_type": "markdown",
   "id": "969e6c0e-1bc7-4562-bb00-1067ab1b4fb5",
   "metadata": {},
   "source": [
    "# Assess a neural network's performance and running time"
   ]
  },
  {
   "cell_type": "code",
   "execution_count": 1,
   "id": "8059cecf-a74b-4875-80db-854bd4deca19",
   "metadata": {},
   "outputs": [
    {
     "ename": "NameError",
     "evalue": "name 'fe' is not defined",
     "output_type": "error",
     "traceback": [
      "\u001b[1;31m---------------------------------------------------------------------------\u001b[0m",
      "\u001b[1;31mNameError\u001b[0m                                 Traceback (most recent call last)",
      "Input \u001b[1;32mIn [1]\u001b[0m, in \u001b[0;36m<cell line: 9>\u001b[1;34m()\u001b[0m\n\u001b[0;32m      6\u001b[0m img_sz \u001b[38;5;241m=\u001b[39m (\u001b[38;5;241m28\u001b[39m, \u001b[38;5;241m28\u001b[39m)\n\u001b[0;32m      8\u001b[0m \u001b[38;5;66;03m# download the data\u001b[39;00m\n\u001b[1;32m----> 9\u001b[0m raw_data_x, raw_data_y, data_dim \u001b[38;5;241m=\u001b[39m \u001b[43mfe\u001b[49m\u001b[38;5;241m.\u001b[39mdownload(\u001b[38;5;124m'\u001b[39m\u001b[38;5;124mmnist\u001b[39m\u001b[38;5;124m'\u001b[39m)\n\u001b[0;32m     11\u001b[0m \u001b[38;5;66;03m# separate only 0, 1 classes to make a binary classification set\u001b[39;00m\n\u001b[0;32m     12\u001b[0m data_x, data_y, num_classes \u001b[38;5;241m=\u001b[39m fe\u001b[38;5;241m.\u001b[39mbinarize(raw_data_x, raw_data_y)\n",
      "\u001b[1;31mNameError\u001b[0m: name 'fe' is not defined"
     ]
    }
   ],
   "source": [
    "# set some parameters\n",
    "fracsa = [0.8, 0.2]\n",
    "sift_params = {} # all default\n",
    "kpnum_params = {'min': 2, 'max': 2}\n",
    "normalize = True\n",
    "img_sz = (28, 28)\n",
    "  \n",
    "# download the data\n",
    "raw_data_x, raw_data_y, data_dim = fe.download('mnist')\n",
    "\n",
    "# separate only 0, 1 classes to make a binary classification set\n",
    "data_x, data_y, num_classes = fe.binarize(raw_data_x, raw_data_y)\n",
    "\n",
    "# utility function to use with 'bn.assess' method\n",
    "def sift_mnist_data(portion):\n",
    "    return fe.xsift_no_download(data_x, data_y, portion, fracsa, \\\n",
    "                                None, img_sz, sift_params, kpnum_params, normalize)"
   ]
  },
  {
   "cell_type": "code",
   "execution_count": 10,
   "id": "084d3314-9004-49f2-bd81-214a45bf64ce",
   "metadata": {},
   "outputs": [],
   "source": [
    "# define gradient descent parameters\n",
    "nn_opt_params = { 'epsilon0':1, 'epsilon_decay':0.5, 'epsilon_jump': 1.5, \\\n",
    "              'num_its':10, 'check_freq':1, 'print_checks':False, 'Theta0':None, \\\n",
    "              'seed':None, 'force_all_its': True, 'threshold': 0.02}\n",
    "\n",
    "# define neural network architecture\n",
    "num_classes = 2\n",
    "nn_arch_params = { 'num_hidden_layers':1, 'num_hidden_units':5, 'num_outs':num_classes, \\\n",
    "               'act_func':bn.relu, 'out_func':bn.softmax, 'loss_func':bn.crossent }\n",
    "\n",
    "\n",
    "def get_nn_acc(train_data, val_data):\n",
    "    # fit neural network to the training images and measure accuracy on validation set\n",
    "    Theta, stats = bn.fit(train_data['des'], train_data['lbls'], \\\n",
    "                          nn_opt_params, nn_arch_params, show_nrmdE=False)\n",
    "\n",
    "    val_acc, val_loss = bn.get_acc(val_data['des'], val_data['lbls'], nn_arch_params, Theta)\n",
    "    \n",
    "    return val_acc "
   ]
  },
  {
   "cell_type": "code",
   "execution_count": 11,
   "id": "085f9e10-9f57-459f-b691-39470b2d7d04",
   "metadata": {},
   "outputs": [
    {
     "name": "stdout",
     "output_type": "stream",
     "text": [
      "data size  iteration  train_num   val_num     acc(%)   dtime(ms)  rtime(ms) \n",
      "----------------------------------------------------------------------------\n",
      "  0.005        0          56         13       100.0      167.6      57.24   \n",
      "  0.005        1          51         14       71.43      60.84      11.97   \n",
      "  0.005        2          51         12       91.67      57.84      14.96   \n",
      "  0.005     Average     52.667      13.0       87.7      95.42      28.06   \n",
      "\n",
      "   0.01        0         103         25        68.0      121.7      21.94   \n",
      "   0.01        1         103         27       88.89      125.7      19.95   \n",
      "   0.01        2         105         26       100.0      119.7      24.93   \n",
      "   0.01     Average     103.67      26.0      85.63      122.3      22.27   \n",
      "\n",
      "  0.015        0         157         34       94.12      180.5      33.91   \n",
      "  0.015        1         159         43       88.37      187.5      32.91   \n",
      "  0.015        2         158         39       97.44      168.5      27.93   \n",
      "  0.015     Average     158.0      38.667     93.31      178.9      31.58   \n",
      "\n",
      "   0.02        0         208         56       83.93      236.4      34.91   \n",
      "   0.02        1         218         51       98.04      241.4       37.9   \n",
      "   0.02        2         213         52       96.15      235.4      34.91   \n",
      "   0.02     Average     213.0       53.0      92.71      237.7       35.9   \n",
      "\n"
     ]
    }
   ],
   "source": [
    "portions = [0.005, 0.01, 0.015, 0.02]\n",
    "rpts = [3]*len(portions)\n",
    "\n",
    "nums, accs, times = bn.assess(sift_mnist_data, get_nn_acc, portions, rpts, show_msgs = True)"
   ]
  },
  {
   "cell_type": "code",
   "execution_count": 12,
   "id": "7e2fcbf3-0806-44bb-b88f-04b8ec2a1097",
   "metadata": {},
   "outputs": [
    {
     "data": {
      "text/plain": [
       "<matplotlib.legend.Legend at 0x20236ca7fa0>"
      ]
     },
     "execution_count": 12,
     "metadata": {},
     "output_type": "execute_result"
    },
    {
     "data": {
      "image/png": "[encoded data removed]",
      "text/plain": [
       "<Figure size 360x216 with 1 Axes>"
      ]
     },
     "metadata": {
      "needs_background": "light"
     },
     "output_type": "display_data"
    }
   ],
   "source": [
    "# plot accuracies obtained at different sizes\n",
    "plt.figure(figsize=(5,3))\n",
    "plt.errorbar(nums['train_nums'], accs['val'], accs['std'], nums['train_nums_std'], marker='o')\n",
    "plt.xlabel('number of training images')\n",
    "plt.ylabel('accuracy')\n",
    "plt.legend('neural network')"
   ]
  },
  {
   "cell_type": "code",
   "execution_count": 13,
   "id": "e93c87ea",
   "metadata": {},
   "outputs": [
    {
     "data": {
      "text/plain": [
       "<matplotlib.legend.Legend at 0x20236ca7580>"
      ]
     },
     "execution_count": 13,
     "metadata": {},
     "output_type": "execute_result"
    },
    {
     "data": {
      "image/png": "[encoded data removed]",
      "text/plain": [
       "<Figure size 360x216 with 1 Axes>"
      ]
     },
     "metadata": {
      "needs_background": "light"
     },
     "output_type": "display_data"
    }
   ],
   "source": [
    "# plot model running times at different sizes\n",
    "plt.figure(figsize=(5,3))\n",
    "plt.errorbar(nums['train_nums'], np.array(times['run_t'])*1000, \\\n",
    "             np.array(times['run_t_std'])*1000, nums['train_nums_std'], marker='o')\n",
    "plt.xlabel('number of training images')\n",
    "plt.ylabel('running time (ms)')\n",
    "plt.legend('neural network')"
   ]
  },
  {
   "cell_type": "code",
   "execution_count": 14,
   "id": "2ba240b0",
   "metadata": {},
   "outputs": [
    {
     "data": {
      "text/plain": [
       "<matplotlib.legend.Legend at 0x202366431f0>"
      ]
     },
     "execution_count": 14,
     "metadata": {},
     "output_type": "execute_result"
    },
    {
     "data": {
      "image/png": "[encoded data removed]",
      "text/plain": [
       "<Figure size 360x216 with 1 Axes>"
      ]
     },
     "metadata": {
      "needs_background": "light"
     },
     "output_type": "display_data"
    }
   ],
   "source": [
    "# plot data preparation times at different sizes\n",
    "plt.figure(figsize=(5,3))\n",
    "plt.errorbar(nums['train_nums'], np.array(times['data_t'])*1000, \\\n",
    "             np.array(times['data_t_std'])*1000, nums['train_nums_std'], marker='o')\n",
    "plt.xlabel('number of training images')\n",
    "plt.ylabel('data preparation time (ms)')\n",
    "plt.legend('neural network')"
   ]
  },
  {
   "cell_type": "markdown",
   "id": "5827871f",
   "metadata": {},
   "source": [
    "# Assess the similarity graph method"
   ]
  },
  {
   "cell_type": "code",
   "execution_count": 15,
   "id": "ce94bdcb",
   "metadata": {},
   "outputs": [],
   "source": [
    "sg_opt_params = { 'epsilon0':1, 'epsilon_decay':0.5, 'epsilon_jump': 1.5, \\\n",
    "              'num_its':10, 'check_freq':1, 'print_checks':False, 'Theta0':None, \\\n",
    "              'force_all_its': True, 'threshold': 0.01}\n",
    "\n",
    "\n",
    "def get_sg_acc(train_data, val_data):\n",
    "    \n",
    "    B, stats = sg.fit_graph(train_data['des'], train_data['lbls'], \\\n",
    "                                      sg_opt_params, seed = None)\n",
    "\n",
    "    acc, y_est, t = sg.get_acc(B, train_data['des'], train_data['lbls'], \\\n",
    "                               val_data['des'], val_data['lbls'])\n",
    "    \n",
    "    return acc"
   ]
  },
  {
   "cell_type": "code",
   "execution_count": 16,
   "id": "5ff888e9",
   "metadata": {},
   "outputs": [
    {
     "name": "stdout",
     "output_type": "stream",
     "text": [
      "data size  iteration  train_num   val_num     acc(%)   dtime(ms)  rtime(ms) \n",
      "----------------------------------------------------------------------------\n",
      "  0.005        0          52         12       100.0      63.87    5.028e+03 \n",
      "  0.005        1          51         11       90.91      58.84    5.131e+03 \n",
      "  0.005        2          49         14       85.71      63.83    5.262e+03 \n",
      "  0.005     Average     50.667     12.333     92.21      62.18    5.141e+03 \n",
      "\n"
     ]
    },
    {
     "ename": "MemoryError",
     "evalue": "Unable to allocate 5.70 GiB for an array with shape (256, 256, 108, 108) and data type float64",
     "output_type": "error",
     "traceback": [
      "\u001b[1;31m---------------------------------------------------------------------------\u001b[0m",
      "\u001b[1;31mMemoryError\u001b[0m                               Traceback (most recent call last)",
      "Input \u001b[1;32mIn [16]\u001b[0m, in \u001b[0;36m<cell line: 4>\u001b[1;34m()\u001b[0m\n\u001b[0;32m      1\u001b[0m portions \u001b[38;5;241m=\u001b[39m [\u001b[38;5;241m0.005\u001b[39m, \u001b[38;5;241m0.01\u001b[39m, \u001b[38;5;241m0.015\u001b[39m, \u001b[38;5;241m0.02\u001b[39m]\n\u001b[0;32m      2\u001b[0m rpts \u001b[38;5;241m=\u001b[39m [\u001b[38;5;241m3\u001b[39m]\u001b[38;5;241m*\u001b[39m\u001b[38;5;28mlen\u001b[39m(portions)\n\u001b[1;32m----> 4\u001b[0m nums, accs, times \u001b[38;5;241m=\u001b[39m \u001b[43mbn\u001b[49m\u001b[38;5;241;43m.\u001b[39;49m\u001b[43massess\u001b[49m\u001b[43m(\u001b[49m\u001b[43msift_mnist_data\u001b[49m\u001b[43m,\u001b[49m\u001b[43m \u001b[49m\u001b[43mget_sg_acc\u001b[49m\u001b[43m,\u001b[49m\u001b[43m \u001b[49m\u001b[43mportions\u001b[49m\u001b[43m,\u001b[49m\u001b[43m \u001b[49m\u001b[43mrpts\u001b[49m\u001b[43m,\u001b[49m\u001b[43m \u001b[49m\u001b[43mshow_msgs\u001b[49m\u001b[43m \u001b[49m\u001b[38;5;241;43m=\u001b[39;49m\u001b[43m \u001b[49m\u001b[38;5;28;43;01mTrue\u001b[39;49;00m\u001b[43m)\u001b[49m\n",
      "File \u001b[1;32mF:\\MAScThesis\\code\\my_packages\\compare_with_benchmark.py:471\u001b[0m, in \u001b[0;36massess\u001b[1;34m(get_data, get_acc, data_sz, rpts, show_msgs)\u001b[0m\n\u001b[0;32m    469\u001b[0m \u001b[38;5;66;03m# train and validate model\u001b[39;00m\n\u001b[0;32m    470\u001b[0m start_t \u001b[38;5;241m=\u001b[39m time\u001b[38;5;241m.\u001b[39mtime()\n\u001b[1;32m--> 471\u001b[0m acc \u001b[38;5;241m=\u001b[39m \u001b[43mget_acc\u001b[49m\u001b[43m(\u001b[49m\u001b[43mtrain_data\u001b[49m\u001b[43m,\u001b[49m\u001b[43m \u001b[49m\u001b[43mval_data\u001b[49m\u001b[43m)\u001b[49m\n\u001b[0;32m    472\u001b[0m rtime \u001b[38;5;241m=\u001b[39m time\u001b[38;5;241m.\u001b[39mtime() \u001b[38;5;241m-\u001b[39m start_t\n\u001b[0;32m    473\u001b[0m rtimes\u001b[38;5;241m.\u001b[39mappend(rtime)\n",
      "Input \u001b[1;32mIn [15]\u001b[0m, in \u001b[0;36mget_sg_acc\u001b[1;34m(train_data, val_data)\u001b[0m\n\u001b[0;32m      6\u001b[0m \u001b[38;5;28;01mdef\u001b[39;00m \u001b[38;5;21mget_sg_acc\u001b[39m(train_data, val_data):\n\u001b[1;32m----> 8\u001b[0m     B, stats \u001b[38;5;241m=\u001b[39m \u001b[43msg\u001b[49m\u001b[38;5;241;43m.\u001b[39;49m\u001b[43mfit_graph\u001b[49m\u001b[43m(\u001b[49m\u001b[43mtrain_data\u001b[49m\u001b[43m[\u001b[49m\u001b[38;5;124;43m'\u001b[39;49m\u001b[38;5;124;43mdes\u001b[39;49m\u001b[38;5;124;43m'\u001b[39;49m\u001b[43m]\u001b[49m\u001b[43m,\u001b[49m\u001b[43m \u001b[49m\u001b[43mtrain_data\u001b[49m\u001b[43m[\u001b[49m\u001b[38;5;124;43m'\u001b[39;49m\u001b[38;5;124;43mlbls\u001b[39;49m\u001b[38;5;124;43m'\u001b[39;49m\u001b[43m]\u001b[49m\u001b[43m,\u001b[49m\u001b[43m \u001b[49m\u001b[43m\\\u001b[49m\n\u001b[0;32m      9\u001b[0m \u001b[43m                                      \u001b[49m\u001b[43msg_opt_params\u001b[49m\u001b[43m,\u001b[49m\u001b[43m \u001b[49m\u001b[43mseed\u001b[49m\u001b[43m \u001b[49m\u001b[38;5;241;43m=\u001b[39;49m\u001b[43m \u001b[49m\u001b[38;5;28;43;01mNone\u001b[39;49;00m\u001b[43m)\u001b[49m\n\u001b[0;32m     11\u001b[0m     acc, y_est, t \u001b[38;5;241m=\u001b[39m sg\u001b[38;5;241m.\u001b[39mget_acc(B, train_data[\u001b[38;5;124m'\u001b[39m\u001b[38;5;124mdes\u001b[39m\u001b[38;5;124m'\u001b[39m], train_data[\u001b[38;5;124m'\u001b[39m\u001b[38;5;124mlbls\u001b[39m\u001b[38;5;124m'\u001b[39m], \\\n\u001b[0;32m     12\u001b[0m                                val_data[\u001b[38;5;124m'\u001b[39m\u001b[38;5;124mdes\u001b[39m\u001b[38;5;124m'\u001b[39m], val_data[\u001b[38;5;124m'\u001b[39m\u001b[38;5;124mlbls\u001b[39m\u001b[38;5;124m'\u001b[39m])\n\u001b[0;32m     14\u001b[0m     \u001b[38;5;28;01mreturn\u001b[39;00m acc\n",
      "File \u001b[1;32mF:\\MAScThesis\\code\\my_packages\\my_similarity_graph_fitter.py:363\u001b[0m, in \u001b[0;36mfit_graph\u001b[1;34m(dess, lbls, opt_params, seed)\u001b[0m\n\u001b[0;32m    361\u001b[0m set_lbls(x)\n\u001b[0;32m    362\u001b[0m set_Fg(create_F(f))\n\u001b[1;32m--> 363\u001b[0m set_drdMaux(\u001b[43mcreate_drdMaux\u001b[49m\u001b[43m(\u001b[49m\u001b[43mf\u001b[49m\u001b[43m,\u001b[49m\u001b[43m \u001b[49m\u001b[43mx\u001b[49m\u001b[43m)\u001b[49m)\n\u001b[0;32m    365\u001b[0m B, stats \u001b[38;5;241m=\u001b[39m gradient_descent(rayleigh_tr, opt_params)\n\u001b[0;32m    367\u001b[0m \u001b[38;5;28;01mreturn\u001b[39;00m B, stats\n",
      "File \u001b[1;32mF:\\MAScThesis\\code\\my_packages\\my_similarity_graph_fitter.py:120\u001b[0m, in \u001b[0;36mcreate_drdMaux\u001b[1;34m(f, x)\u001b[0m\n\u001b[0;32m    117\u001b[0m F \u001b[38;5;241m=\u001b[39m create_F(f)\n\u001b[0;32m    118\u001b[0m X \u001b[38;5;241m=\u001b[39m create_X(x)\n\u001b[1;32m--> 120\u001b[0m drdMaux \u001b[38;5;241m=\u001b[39m \u001b[43mnp\u001b[49m\u001b[38;5;241;43m.\u001b[39;49m\u001b[43mzeros\u001b[49m\u001b[43m(\u001b[49m\u001b[43m(\u001b[49m\u001b[43mf_sz\u001b[49m\u001b[43m,\u001b[49m\u001b[43m \u001b[49m\u001b[43mf_sz\u001b[49m\u001b[43m,\u001b[49m\u001b[43m \u001b[49m\u001b[43mnum_train\u001b[49m\u001b[43m,\u001b[49m\u001b[43m \u001b[49m\u001b[43mnum_train\u001b[49m\u001b[43m)\u001b[49m\u001b[43m)\u001b[49m\n\u001b[0;32m    121\u001b[0m \u001b[38;5;28;01mfor\u001b[39;00m s \u001b[38;5;129;01min\u001b[39;00m \u001b[38;5;28mrange\u001b[39m(f_sz):\n\u001b[0;32m    122\u001b[0m     \u001b[38;5;28;01mfor\u001b[39;00m t \u001b[38;5;129;01min\u001b[39;00m \u001b[38;5;28mrange\u001b[39m(s, f_sz):\n",
      "\u001b[1;31mMemoryError\u001b[0m: Unable to allocate 5.70 GiB for an array with shape (256, 256, 108, 108) and data type float64"
     ]
    }
   ],
   "source": [
    "portions = [0.005, 0.01, 0.015, 0.02]\n",
    "rpts = [3]*len(portions)\n",
    "\n",
    "nums, accs, times = bn.assess(sift_mnist_data, get_sg_acc, portions, rpts, show_msgs = True)"
   ]
  },
  {
   "cell_type": "code",
   "execution_count": null,
   "id": "6cd3f14a",
   "metadata": {},
   "outputs": [],
   "source": []
  },
  {
   "cell_type": "code",
   "execution_count": null,
   "id": "f12f057e",
   "metadata": {},
   "outputs": [],
   "source": []
  },
  {
   "cell_type": "code",
   "execution_count": null,
   "id": "2d575830",
   "metadata": {},
   "outputs": [],
   "source": []
  },
  {
   "cell_type": "code",
   "execution_count": null,
   "id": "3d7fed94",
   "metadata": {},
   "outputs": [],
   "source": []
  },
  {
   "cell_type": "code",
   "execution_count": null,
   "id": "caf26f4f",
   "metadata": {},
   "outputs": [],
   "source": []
  },
  {
   "cell_type": "code",
   "execution_count": null,
   "id": "3e085773",
   "metadata": {},
   "outputs": [],
   "source": []
  },
  {
   "cell_type": "code",
   "execution_count": null,
   "id": "3e524031",
   "metadata": {},
   "outputs": [],
   "source": []
  },
  {
   "cell_type": "code",
   "execution_count": null,
   "id": "55419c4a",
   "metadata": {},
   "outputs": [],
   "source": []
  },
  {
   "cell_type": "code",
   "execution_count": null,
   "id": "a8428ac0",
   "metadata": {},
   "outputs": [],
   "source": []
  },
  {
   "cell_type": "code",
   "execution_count": null,
   "id": "309c7770",
   "metadata": {},
   "outputs": [],
   "source": []
  },
  {
   "cell_type": "code",
   "execution_count": null,
   "id": "b3460836",
   "metadata": {},
   "outputs": [],
   "source": []
  },
  {
   "cell_type": "code",
   "execution_count": null,
   "id": "01151872",
   "metadata": {},
   "outputs": [],
   "source": []
  },
  {
   "cell_type": "code",
   "execution_count": null,
   "id": "00811f4c",
   "metadata": {},
   "outputs": [],
   "source": []
  },
  {
   "cell_type": "code",
   "execution_count": null,
   "id": "6832387a",
   "metadata": {},
   "outputs": [],
   "source": []
  },
  {
   "cell_type": "code",
   "execution_count": null,
   "id": "2829c0b4",
   "metadata": {},
   "outputs": [],
   "source": []
  }
 ],
 "metadata": {
  "kernelspec": {
   "display_name": "Python 3 (ipykernel)",
   "language": "python",
   "name": "python3"
  },
  "language_info": {
   "codemirror_mode": {
    "name": "ipython",
    "version": 3
   },
   "file_extension": ".py",
   "mimetype": "text/x-python",
   "name": "python",
   "nbconvert_exporter": "python",
   "pygments_lexer": "ipython3",
   "version": "3.9.12"
  }
 },
 "nbformat": 4,
 "nbformat_minor": 5
}
