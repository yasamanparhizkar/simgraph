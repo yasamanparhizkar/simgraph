{
 "cells": [
  {
   "cell_type": "code",
   "execution_count": 1,
   "id": "1559fcec",
   "metadata": {},
   "outputs": [],
   "source": [
    "import numpy as np\n",
    "import matplotlib.pyplot as plt\n",
    "import torch\n",
    "\n",
    "# add the path to my packages to system paths so they can be imported\n",
    "import sys\n",
    "# sys.path.append('/home/yasamanparhizkar/Documents/yorku/01_thesis/code/my_packages')\n",
    "sys.path.append('F:\\MAScThesis\\code\\my_packages')\n",
    "# sys.path.append('/home/yasamanparhizkar/Documents/thesis/code/my_packages')\n",
    "\n",
    "import my_first_feature_extractor as fe\n",
    "import compare_with_benchmark as bn\n",
    "import my_simgraph_04 as sg"
   ]
  },
  {
   "cell_type": "markdown",
   "id": "5e123110",
   "metadata": {},
   "source": [
    "# Test val-val and val-train edges"
   ]
  },
  {
   "cell_type": "code",
   "execution_count": 20,
   "id": "ce7f4fa3",
   "metadata": {},
   "outputs": [
    {
     "data": {
      "text/plain": [
       "array([1., 1., 1., 1., 1., 1., 1., 1., 1., 1.])"
      ]
     },
     "execution_count": 20,
     "metadata": {},
     "output_type": "execute_result"
    }
   ],
   "source": [
    "np.ones(10)"
   ]
  },
  {
   "cell_type": "code",
   "execution_count": null,
   "id": "e24410de",
   "metadata": {},
   "outputs": [],
   "source": []
  },
  {
   "cell_type": "code",
   "execution_count": null,
   "id": "0a139dbb",
   "metadata": {},
   "outputs": [],
   "source": []
  },
  {
   "cell_type": "code",
   "execution_count": null,
   "id": "61e14e9f",
   "metadata": {},
   "outputs": [],
   "source": []
  },
  {
   "cell_type": "code",
   "execution_count": null,
   "id": "91c0244c",
   "metadata": {},
   "outputs": [],
   "source": []
  },
  {
   "cell_type": "code",
   "execution_count": null,
   "id": "f7e5b9de",
   "metadata": {},
   "outputs": [],
   "source": []
  },
  {
   "cell_type": "code",
   "execution_count": null,
   "id": "ce5734ec",
   "metadata": {},
   "outputs": [],
   "source": []
  },
  {
   "cell_type": "code",
   "execution_count": null,
   "id": "ff7947e0",
   "metadata": {},
   "outputs": [],
   "source": []
  },
  {
   "cell_type": "code",
   "execution_count": null,
   "id": "57507ee0",
   "metadata": {},
   "outputs": [],
   "source": []
  },
  {
   "cell_type": "code",
   "execution_count": null,
   "id": "a4ae23c5",
   "metadata": {},
   "outputs": [],
   "source": []
  },
  {
   "cell_type": "code",
   "execution_count": null,
   "id": "7474f247",
   "metadata": {},
   "outputs": [],
   "source": []
  },
  {
   "cell_type": "code",
   "execution_count": null,
   "id": "0d4b9edb",
   "metadata": {},
   "outputs": [],
   "source": []
  },
  {
   "cell_type": "code",
   "execution_count": null,
   "id": "df7da264",
   "metadata": {},
   "outputs": [],
   "source": []
  },
  {
   "cell_type": "code",
   "execution_count": null,
   "id": "8429b4fd",
   "metadata": {},
   "outputs": [],
   "source": []
  },
  {
   "cell_type": "code",
   "execution_count": null,
   "id": "6711a585",
   "metadata": {},
   "outputs": [],
   "source": []
  },
  {
   "cell_type": "markdown",
   "id": "4fe49625",
   "metadata": {},
   "source": [
    "# Load spike data"
   ]
  },
  {
   "cell_type": "code",
   "execution_count": 2,
   "id": "45813d10",
   "metadata": {},
   "outputs": [],
   "source": [
    "# load all spike data from file\n",
    "data_path = '../../../data/original_files/'\n",
    "binned_data = np.loadtxt(data_path + 'spikes.csv', delimiter=',')\n",
    "binned_data = binned_data.reshape(binned_data.shape[0], 1141, 113)\n",
    "binned_data = binned_data * 2 - 1\n",
    "\n",
    "I_order_10 = [54, 35, 10, 60, 74, 9, 61, 56, 91, 104]"
   ]
  },
  {
   "cell_type": "code",
   "execution_count": 3,
   "id": "dee05962",
   "metadata": {
    "scrolled": true
   },
   "outputs": [
    {
     "name": "stdout",
     "output_type": "stream",
     "text": [
      "binned_data.shape =  (297, 1141, 113)\n",
      "neuron #    | percentage belonging to class 1\n",
      "---------------------------------------------\n",
      "neuron # 54 | 1.84%\n",
      "neuron # 35 | 2.63%\n",
      "neuron # 10 | 2.28%\n",
      "neuron # 60 | 1.58%\n",
      "neuron # 74 | 1.93%\n",
      "neuron #  9 | 0.44%\n",
      "neuron # 61 | 3.24%\n",
      "neuron # 56 | 1.14%\n",
      "neuron # 91 | 5.78%\n",
      "neuron #104 | 2.10%\n",
      "---------------------------------------------\n",
      "AVERAGE     | 2.30% of data belongs to class 1\n"
     ]
    }
   ],
   "source": [
    "# print some statistics\n",
    "print('binned_data.shape = ', binned_data.shape)\n",
    "\n",
    "avg_spike_perc = 0\n",
    "print('neuron #    | percentage belonging to class 1')\n",
    "print('---------------------------------------------')\n",
    "for neu_i in I_order_10:\n",
    "    pers = fe.class_percentages(binned_data[0,:,neu_i], [-1, 1])\n",
    "    avg_spike_perc += pers[1]\n",
    "    print('neuron #{:3} | {:.2f}%'.format(neu_i, pers[1]))\n",
    "\n",
    "avg_spike_perc /= 10\n",
    "print('---------------------------------------------')\n",
    "print('AVERAGE     | {:.2f}% of data belongs to class 1'.format(avg_spike_perc))"
   ]
  },
  {
   "cell_type": "markdown",
   "id": "3ceb4900",
   "metadata": {},
   "source": [
    "# Load feature vectors"
   ]
  },
  {
   "cell_type": "markdown",
   "id": "bec2fd2e",
   "metadata": {},
   "source": [
    "## Create a small graph\n",
    "\n",
    "Two data points, each with a 3-dim feature vector."
   ]
  },
  {
   "cell_type": "code",
   "execution_count": 4,
   "id": "9f73ebaa",
   "metadata": {},
   "outputs": [],
   "source": [
    "labels = binned_data[0,:,I_order_10[0]]\n",
    "data_num = 1141\n",
    "train_num = 3\n",
    "val_num = 3\n",
    "dim = 3"
   ]
  },
  {
   "cell_type": "markdown",
   "id": "ca3a8a7a",
   "metadata": {},
   "source": [
    "## Training set"
   ]
  },
  {
   "cell_type": "code",
   "execution_count": 5,
   "id": "d9e96166",
   "metadata": {},
   "outputs": [
    {
     "name": "stdout",
     "output_type": "stream",
     "text": [
      "For training:\n",
      "ind_1 =  33 , ind_2 =  38 , ind_3 =  255\n"
     ]
    }
   ],
   "source": [
    "# choose data points\n",
    "train_ind_1 = np.arange(1141)[labels == -1][33]\n",
    "train_ind_2 = np.arange(1141)[labels == -1][38]\n",
    "train_ind_3 = np.arange(1141)[labels == 1][1]\n",
    "print('For training:\\nind_1 = ', train_ind_1, ', ind_2 = ', train_ind_2, ', ind_3 = ', train_ind_3)"
   ]
  },
  {
   "cell_type": "code",
   "execution_count": 6,
   "id": "60e91cd4",
   "metadata": {},
   "outputs": [
    {
     "name": "stdout",
     "output_type": "stream",
     "text": [
      "For training:\n",
      "fv1 =  [0.09669251 0.15152098 0.09669251] , fv2 =  [0.09732176 0.15080526 0.09855133] , fv3 =  [0.07664519 0.08496031 0.08190619]\n"
     ]
    }
   ],
   "source": [
    "# get corresponding feature vectors and truncate them\n",
    "datapath = '../../../data/slowfast_4608/'\n",
    "fv1 = torch.load(datapath+'fv_'+str(train_ind_1)+'.pt')[:,:dim]\n",
    "fv2 = torch.load(datapath+'fv_'+str(train_ind_2)+'.pt')[:,:dim]\n",
    "fv3 = torch.load(datapath+'fv_'+str(train_ind_3)+'.pt')[:,:dim]\n",
    "train_dess = torch.cat((fv1, fv2, fv3), dim=0)\n",
    "train_dess = train_dess.detach().numpy()\n",
    "\n",
    "print('For training:\\nfv1 = ', train_dess[0], ', fv2 = ', train_dess[1], ', fv3 = ', train_dess[2])"
   ]
  },
  {
   "cell_type": "code",
   "execution_count": 7,
   "id": "f44bb680",
   "metadata": {
    "tags": []
   },
   "outputs": [
    {
     "name": "stdout",
     "output_type": "stream",
     "text": [
      "For training:\n",
      "lbls =  [-1 -1  1]\n"
     ]
    }
   ],
   "source": [
    "# crate the label list\n",
    "train_lbls = np.array([-1, -1, 1])\n",
    "print('For training:\\nlbls = ', train_lbls)"
   ]
  },
  {
   "cell_type": "markdown",
   "id": "58e18336",
   "metadata": {},
   "source": [
    "## Validation set"
   ]
  },
  {
   "cell_type": "code",
   "execution_count": 8,
   "id": "13ddc444",
   "metadata": {},
   "outputs": [
    {
     "name": "stdout",
     "output_type": "stream",
     "text": [
      "For validation:\n",
      "ind_1 =  40 , ind_2 =  45 , ind_3 =  321\n"
     ]
    }
   ],
   "source": [
    "# choose data points\n",
    "val_ind_1 = np.arange(1141)[labels == -1][40]\n",
    "val_ind_2 = np.arange(1141)[labels == -1][45]\n",
    "val_ind_3 = np.arange(1141)[labels == 1][3]\n",
    "print('For validation:\\nind_1 = ', val_ind_1, ', ind_2 = ', val_ind_2, ', ind_3 = ', val_ind_3)"
   ]
  },
  {
   "cell_type": "code",
   "execution_count": 9,
   "id": "bff84b90",
   "metadata": {},
   "outputs": [
    {
     "name": "stdout",
     "output_type": "stream",
     "text": [
      "For validation:\n",
      "fv1 =  [0.09665465 0.1557547  0.09654949] , fv2 =  [0.09627504 0.15552911 0.09556399] , fv3 =  [0.01311007 0.02681325 0.01311007]\n"
     ]
    }
   ],
   "source": [
    "# get corresponding feature vectors and truncate them\n",
    "datapath = '../../../data/slowfast_4608/'\n",
    "fv1 = torch.load(datapath+'fv_'+str(val_ind_1)+'.pt')[:,:dim]\n",
    "fv2 = torch.load(datapath+'fv_'+str(val_ind_2)+'.pt')[:,:dim]\n",
    "fv3 = torch.load(datapath+'fv_'+str(val_ind_3)+'.pt')[:,:dim]\n",
    "val_dess = torch.cat((fv1, fv2, fv3), dim=0)\n",
    "val_dess = val_dess.detach().numpy()\n",
    "\n",
    "print('For validation:\\nfv1 = ', val_dess[0], ', fv2 = ', val_dess[1], ', fv3 = ', val_dess[2])"
   ]
  },
  {
   "cell_type": "code",
   "execution_count": 10,
   "id": "cba81da2",
   "metadata": {},
   "outputs": [
    {
     "name": "stdout",
     "output_type": "stream",
     "text": [
      "For validation:\n",
      "lbls =  [-1 -1  1]\n"
     ]
    }
   ],
   "source": [
    "# crate the label list\n",
    "val_lbls = np.array([-1, -1, 1])\n",
    "print('For validation:\\nlbls = ', val_lbls)"
   ]
  },
  {
   "cell_type": "markdown",
   "id": "cfc8a714",
   "metadata": {},
   "source": [
    "# Use the similiarity graph model on the data"
   ]
  },
  {
   "cell_type": "code",
   "execution_count": 15,
   "id": "150511de-ac8f-4d70-8f95-35440c7e5b77",
   "metadata": {},
   "outputs": [
    {
     "data": {
      "text/plain": [
       "<module 'my_simgraph_04' from 'F:\\\\MAScThesis\\\\code\\\\my_packages\\\\my_simgraph_04.py'>"
      ]
     },
     "execution_count": 15,
     "metadata": {},
     "output_type": "execute_result"
    }
   ],
   "source": [
    "# reload sg after change\n",
    "import importlib\n",
    "importlib.reload(sg)"
   ]
  },
  {
   "cell_type": "code",
   "execution_count": 11,
   "id": "2b9fc029-726c-40a3-a837-737f8215167f",
   "metadata": {
    "scrolled": true
   },
   "outputs": [
    {
     "name": "stdout",
     "output_type": "stream",
     "text": [
      "Number of training datapoints: 3\n",
      "Number of features for each point: 3\n",
      "mu = 0.01\n",
      "SG edges are: [(0, 2), (1, 2)]\n",
      "   0: eps = 2.00e+00;  train loss (E) =  8.00\n",
      "   1: eps = 4.00e+00;  train loss (E) =  8.00\n",
      "   2: eps = 8.00e+00;  train loss (E) =  8.00\n",
      "   3: eps = 1.60e+01;  train loss (E) =  8.00\n",
      "   4: eps = 3.20e+01;  train loss (E) =  8.00\n",
      "   5: eps = 6.40e+01;  train loss (E) =  7.94\n",
      "   6: eps = 1.28e+02;  train loss (E) =  5.32\n",
      "   7: eps = 3.20e+01;  train loss (E) =  4.95\n",
      "   8: eps = 3.20e+01;  train loss (E) =  4.87\n",
      "   9: eps = 3.20e+01;  train loss (E) =  4.81\n"
     ]
    }
   ],
   "source": [
    "# learning phase\n",
    "sg_opt_params = { 'epsilon0':1, 'epsilon_decay':0.5, 'epsilon_jump': 2, \\\n",
    "              'num_its':10, 'check_freq':1, 'print_checks':True, 'Theta0':None, \\\n",
    "              'force_all_its': True, 'threshold': 0.01}\n",
    "\n",
    "B, sg_stats = sg.fit_graph(train_dess, train_lbls, sg_opt_params, mu=0.01, Dt=2, seed=0, edges_tt=None)"
   ]
  },
  {
   "cell_type": "code",
   "execution_count": 12,
   "id": "99000090",
   "metadata": {},
   "outputs": [
    {
     "data": {
      "text/plain": [
       "array([[ 2.99563625,  9.73952535,  2.31216334],\n",
       "       [ 2.17166604,  7.06057244,  1.67619201],\n",
       "       [ 3.66075724, 11.90203238,  2.82555417]])"
      ]
     },
     "execution_count": 12,
     "metadata": {},
     "output_type": "execute_result"
    }
   ],
   "source": [
    "B"
   ]
  },
  {
   "cell_type": "code",
   "execution_count": 41,
   "id": "8f2f342e-c5bf-4fe0-8e3a-8e4d93add367",
   "metadata": {
    "tags": []
   },
   "outputs": [
    {
     "name": "stdout",
     "output_type": "stream",
     "text": [
      "edges between val. nodes:\n",
      " [(0, 2)]\n",
      "edges between val. and train. nodes:\n",
      " [(0, 1), (0, 2), (1, 1), (1, 2), (2, 0), (2, 2)]\n",
      "W21 =\n",
      " [[0.00000000e+00 9.94794685e-01 1.56877757e-01]\n",
      " [0.00000000e+00 9.96102669e-01 1.61082672e-01]\n",
      " [2.48218975e-04 0.00000000e+00 7.95405194e-02]]\n",
      "W22 =\n",
      " [[0.         0.         0.00016417]\n",
      " [0.         0.         0.        ]\n",
      " [0.00016417 0.         0.        ]]\n",
      "L21 =\n",
      " [[-0.00000000e+00 -9.94794685e-01 -1.56877757e-01]\n",
      " [-0.00000000e+00 -9.96102669e-01 -1.61082672e-01]\n",
      " [-2.48218975e-04 -0.00000000e+00 -7.95405194e-02]]\n",
      "L22 =\n",
      " [[ 1.15183661e+00  0.00000000e+00 -1.64168384e-04]\n",
      " [ 0.00000000e+00  1.15718534e+00  0.00000000e+00]\n",
      " [-1.64168384e-04  0.00000000e+00  7.99529068e-02]]\n",
      "val acc =  1.0\n",
      "estimated val labels =  [-1 -1  1]\n"
     ]
    }
   ],
   "source": [
    "# estimation phase\n",
    "acc, y_est, t = sg.get_acc(B, train_dess, train_lbls, val_dess, val_lbls, Dv=1, Dvt=2, seed=None, show_edges=True)\n",
    "\n",
    "print('val acc = ', acc)\n",
    "print('estimated val labels = ', (y_est>0).astype(np.int32)*2-1)\n",
    "\n",
    "# save results\n",
    "# np.savetxt('results/sg_val_acc.txt', np.array([acc]))\n",
    "# np.savetxt('results/sg_y_est.csv', y_est, delimiter=',')"
   ]
  },
  {
   "cell_type": "code",
   "execution_count": 19,
   "id": "3d244065",
   "metadata": {},
   "outputs": [
    {
     "data": {
      "image/png": "[encoded data removed]",
      "text/plain": [
       "<Figure size 288x288 with 2 Axes>"
      ]
     },
     "metadata": {
      "needs_background": "light"
     },
     "output_type": "display_data"
    }
   ],
   "source": [
    "# display learned M\n",
    "M = B.T @ B\n",
    "# to preserve memory, uncomment below line\n",
    "# del B\n",
    "\n",
    "sg.display_matrix(M, 'M')\n",
    "\n",
    "# save results\n",
    "# plt.savefig('results/sg_finalM.png')\n",
    "# np.savetxt('results/sg_finalB.csv', B, delimiter=',')"
   ]
  },
  {
   "cell_type": "code",
   "execution_count": 17,
   "id": "3ae0d04f",
   "metadata": {},
   "outputs": [
    {
     "data": {
      "text/plain": [
       "Text(0.5, 1.0, 'Time spent to find a valid stepsize in each iteration')"
      ]
     },
     "execution_count": 17,
     "metadata": {},
     "output_type": "execute_result"
    },
    {
     "data": {
      "image/png": "[encoded data removed]",
      "text/plain": [
       "<Figure size 432x216 with 1 Axes>"
      ]
     },
     "metadata": {
      "needs_background": "light"
     },
     "output_type": "display_data"
    },
    {
     "data": {
      "image/png": "[encoded data removed]",
      "text/plain": [
       "<Figure size 432x216 with 1 Axes>"
      ]
     },
     "metadata": {
      "needs_background": "light"
     },
     "output_type": "display_data"
    },
    {
     "data": {
      "image/png": "[encoded data removed]",
      "text/plain": [
       "<Figure size 432x216 with 1 Axes>"
      ]
     },
     "metadata": {
      "needs_background": "light"
     },
     "output_type": "display_data"
    },
    {
     "data": {
      "image/png": "[encoded data removed]",
      "text/plain": [
       "<Figure size 432x216 with 1 Axes>"
      ]
     },
     "metadata": {
      "needs_background": "light"
     },
     "output_type": "display_data"
    }
   ],
   "source": [
    "# Some informative figures to compare forced and flexible time complexity\n",
    "plt.figure(figsize=(6,3))\n",
    "plt.plot(sg_stats['train_losss'], marker='o')\n",
    "plt.xlabel('iteration number')\n",
    "plt.ylabel('loss')\n",
    "plt.title('Training loss of each iteration', fontsize=10)\n",
    "# plt.savefig('results/sg_trainlosss.png')\n",
    "\n",
    "plt.figure(figsize=(6,3))\n",
    "plt.plot(sg_stats['it_times'], marker='o')\n",
    "plt.xlabel('iteration number')\n",
    "plt.ylabel('time (sec)')\n",
    "plt.title('Elapsed time after each iteration since the start of the algorithm', fontsize=10)\n",
    "# plt.savefig('results/sg_runtime.png')\n",
    "\n",
    "plt.figure(figsize=(6,3))\n",
    "plt.plot(sg_stats['eval_times'], marker='o')\n",
    "plt.xlabel('iteration number')\n",
    "plt.ylabel('time (sec)')\n",
    "plt.title('Time spent to evaluate loss and its derivative in each iteration', fontsize=10)\n",
    "# plt.savefig('results/sg_evallosstime.png')\n",
    "\n",
    "plt.figure(figsize=(6,3))\n",
    "plt.plot(sg_stats['stepsizeloop_times'], marker='o')\n",
    "plt.xlabel('iteration number')\n",
    "plt.ylabel('time (sec)')\n",
    "plt.title('Time spent to find a valid stepsize in each iteration', fontsize=10)\n",
    "# plt.savefig('results/sg_epsilontime.png')"
   ]
  },
  {
   "cell_type": "code",
   "execution_count": 18,
   "id": "5b26b3a3",
   "metadata": {},
   "outputs": [
    {
     "data": {
      "text/plain": [
       "Text(0.5, 1.0, 'Histogram of M entries')"
      ]
     },
     "execution_count": 18,
     "metadata": {},
     "output_type": "execute_result"
    },
    {
     "data": {
      "image/png": "[encoded data removed]",
      "text/plain": [
       "<Figure size 288x288 with 1 Axes>"
      ]
     },
     "metadata": {
      "needs_background": "light"
     },
     "output_type": "display_data"
    }
   ],
   "source": [
    "sg.hist_of_entries(M, 50, zeroline=True, peakline=True)\n",
    "plt.title('Histogram of M entries')"
   ]
  },
  {
   "cell_type": "code",
   "execution_count": null,
   "id": "fd622ecf",
   "metadata": {},
   "outputs": [],
   "source": []
  },
  {
   "cell_type": "code",
   "execution_count": null,
   "id": "f781a57e",
   "metadata": {},
   "outputs": [],
   "source": []
  },
  {
   "cell_type": "code",
   "execution_count": null,
   "id": "676c4554",
   "metadata": {},
   "outputs": [],
   "source": []
  },
  {
   "cell_type": "code",
   "execution_count": null,
   "id": "6f99a922",
   "metadata": {},
   "outputs": [],
   "source": []
  },
  {
   "cell_type": "code",
   "execution_count": null,
   "id": "26a88a4e",
   "metadata": {},
   "outputs": [],
   "source": []
  },
  {
   "cell_type": "code",
   "execution_count": null,
   "id": "004db3bf",
   "metadata": {},
   "outputs": [],
   "source": []
  },
  {
   "cell_type": "code",
   "execution_count": null,
   "id": "41c0d2ab",
   "metadata": {},
   "outputs": [],
   "source": []
  },
  {
   "cell_type": "code",
   "execution_count": null,
   "id": "39e37ca7",
   "metadata": {},
   "outputs": [],
   "source": []
  },
  {
   "cell_type": "code",
   "execution_count": null,
   "id": "122ee519",
   "metadata": {},
   "outputs": [],
   "source": []
  },
  {
   "cell_type": "code",
   "execution_count": null,
   "id": "d8dd3013",
   "metadata": {},
   "outputs": [],
   "source": []
  },
  {
   "cell_type": "code",
   "execution_count": null,
   "id": "ff0bcabf",
   "metadata": {},
   "outputs": [],
   "source": []
  },
  {
   "cell_type": "code",
   "execution_count": null,
   "id": "894f5f28",
   "metadata": {},
   "outputs": [],
   "source": []
  },
  {
   "cell_type": "code",
   "execution_count": null,
   "id": "17a6b54e",
   "metadata": {},
   "outputs": [],
   "source": []
  },
  {
   "cell_type": "code",
   "execution_count": null,
   "id": "8cac8c5d",
   "metadata": {},
   "outputs": [],
   "source": []
  }
 ],
 "metadata": {
  "kernelspec": {
   "display_name": "Python 3 (ipykernel)",
   "language": "python",
   "name": "python3"
  },
  "language_info": {
   "codemirror_mode": {
    "name": "ipython",
    "version": 3
   },
   "file_extension": ".py",
   "mimetype": "text/x-python",
   "name": "python",
   "nbconvert_exporter": "python",
   "pygments_lexer": "ipython3",
   "version": "3.9.13"
  }
 },
 "nbformat": 4,
 "nbformat_minor": 5
}
