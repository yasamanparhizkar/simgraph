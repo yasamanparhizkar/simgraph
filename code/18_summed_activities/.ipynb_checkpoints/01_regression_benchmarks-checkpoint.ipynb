{
 "cells": [
  {
   "cell_type": "code",
   "execution_count": 24,
   "id": "19111893-b955-48d2-b46b-1d4f5bd8aa28",
   "metadata": {
    "tags": []
   },
   "outputs": [],
   "source": [
    "import xgboost as xgb\n",
    "from sklearn.datasets import fetch_california_housing\n",
    "from sklearn.model_selection import train_test_split\n",
    "from sklearn.metrics import mean_squared_error, r2_score\n",
    "import pandas as pd\n",
    "import numpy as np\n",
    "\n",
    "# add the path to my packages to system paths so they can be imported\n",
    "import sys\n",
    "sys.path.append('/home/yasamanparhizkar/Documents/yorku/01_thesis/simgraph/code/my_packages')\n",
    "# sys.path.append('F:/Users/yasam/Documents/GitHub/simgraph/code/my_packages')\n",
    "# sys.path.append('/home/yasamanparhizkar/Documents/thesis/code/my_packages')\n",
    "\n",
    "import dataprocess.data_handler_03 as dh"
   ]
  },
  {
   "cell_type": "markdown",
   "id": "42777840-0a7a-404c-a277-caebe148d18f",
   "metadata": {},
   "source": [
    "# XGBoost\n",
    "Regression to predict the summed activities."
   ]
  },
  {
   "cell_type": "markdown",
   "id": "1a871af0-fff2-4c2e-bf07-843dec3c56c6",
   "metadata": {},
   "source": [
    "## Load spike data"
   ]
  },
  {
   "cell_type": "code",
   "execution_count": 25,
   "id": "f708873e-ef6f-4864-b2c9-15bc0b131d9e",
   "metadata": {
    "tags": []
   },
   "outputs": [],
   "source": [
    "# load all spike data from file\n",
    "spikes_dp = '../../../local_data/original_files/'\n",
    "grouped_data = np.load(spikes_dp+'summed_spikes.npy') # you can load alternative files from the same directory\n",
    "\n",
    "I_order_10 = [54, 35, 10, 60, 74, 9, 61, 56, 91, 104]"
   ]
  },
  {
   "cell_type": "code",
   "execution_count": 26,
   "id": "7a9a09eb-3087-4464-aeea-139fb77406b4",
   "metadata": {
    "tags": []
   },
   "outputs": [
    {
     "data": {
      "text/plain": [
       "(297, 1141, 1)"
      ]
     },
     "execution_count": 26,
     "metadata": {},
     "output_type": "execute_result"
    }
   ],
   "source": [
    "grouped_data.shape"
   ]
  },
  {
   "cell_type": "code",
   "execution_count": 27,
   "id": "ff4acb9c-e1af-40fa-98f2-9c330b26ab4a",
   "metadata": {
    "scrolled": true,
    "tags": []
   },
   "outputs": [
    {
     "name": "stdout",
     "output_type": "stream",
     "text": [
      "labels range from 0 to 26.\n",
      "label      | percentage belonging to label   \n",
      "---------------------------------------------\n",
      "label #  0 | 31.53 %\n",
      "label #  1 | 15.38 %\n",
      "label #  2 | 8.77 %\n",
      "label #  3 | 7.07 %\n",
      "label #  4 | 6.27 %\n",
      "label #  5 | 5.61 %\n",
      "label #  6 | 4.82 %\n",
      "label #  7 | 4.22 %\n",
      "label #  8 | 3.67 %\n",
      "label #  9 | 3.12 %\n",
      "label # 10 | 2.60 %\n",
      "label # 11 | 2.07 %\n",
      "label # 12 | 1.61 %\n",
      "label # 13 | 1.19 %\n",
      "label # 14 | 0.80 %\n",
      "label # 15 | 0.52 %\n",
      "label # 16 | 0.31 %\n",
      "label # 17 | 0.18 %\n",
      "label # 18 | 0.11 %\n",
      "label # 19 | 0.06 %\n",
      "label # 20 | 0.04 %\n",
      "label # 21 | 0.02 %\n",
      "label # 22 | 0.01 %\n",
      "label # 23 | 0.01 %\n",
      "label # 24 | 0.00 %\n",
      "label # 25 | 0.00 %\n",
      "label # 26 | 0.00 %\n",
      "total percentage (should be %100):  100.00000000000003\n"
     ]
    }
   ],
   "source": [
    "# visualize the response data\n",
    "length = grouped_data.shape[0] * grouped_data.shape[1]\n",
    "lbl_min = int(np.min(grouped_data))\n",
    "lbl_max = int(np.max(grouped_data))\n",
    "print('labels range from {} to {}.'.format(lbl_min, lbl_max))\n",
    "\n",
    "print('label      | percentage belonging to label   ')\n",
    "print('---------------------------------------------')\n",
    "sanity = 0\n",
    "for lbl in range(lbl_min, lbl_max+1):\n",
    "    class_perc = 100*float(sum(sum(grouped_data == lbl))) / length\n",
    "    print('label #{:3} | {:.2f} %'.format(lbl, class_perc))\n",
    "    sanity += class_perc\n",
    "\n",
    "print(\"total percentage (should be %100): \", sanity)"
   ]
  },
  {
   "cell_type": "markdown",
   "id": "436b3d98-286f-413e-ade6-d13e5eb24fd9",
   "metadata": {},
   "source": [
    "## Load movie feature set"
   ]
  },
  {
   "cell_type": "code",
   "execution_count": 29,
   "id": "c8bd3c8f-a1fc-4903-aaea-c542573bf8f9",
   "metadata": {
    "tags": []
   },
   "outputs": [],
   "source": [
    "def get_mnist_labels(data_params):\n",
    "    return np.loadtxt(data_params['features_dp']+'lbls.csv')\n",
    "\n",
    "def transform_mnistsift(fv):\n",
    "    return fv[::4]\n",
    "\n",
    "def transform_slowfast(fv):\n",
    "    \"\"\"\n",
    "    Transform to be applied on feature vectors.\n",
    "    \n",
    "    Input: fv\n",
    "    fv - 1xDf torch tensor representing a feature vector\n",
    "    \n",
    "    Output: fvv\n",
    "    fvv - 1xDf' torch tensor representing the transformed feature vector\n",
    "    \"\"\"\n",
    "    \n",
    "    # for faster run and less memory usage\n",
    "    fvv = fv[::200]\n",
    "    \n",
    "    # for numerical stability during GD\n",
    "    # fvv = fvv * 10\n",
    "    \n",
    "    return fvv\n",
    "\n",
    "def transform_sift3d(fv):\n",
    "    return fv[::10]*10000\n",
    "\n",
    "def transform_soenet(fv):\n",
    "    return fv[::5]\n",
    "\n",
    "# data retrieval params\n",
    "# data_params = {'func': dh.datapoint_sift, 'lbl_func': get_mnist_labels, 'features_dp': '../../data/fe_exp/mnist-sift/', \\\n",
    "#                'spike_data': None, 'group_id': None, 'transform': transform_mnistsift, 'ind_min': 0, 'ind_max': 13203, 'feature_id':'mnist-sift'}\n",
    "\n",
    "# data_params = {'func': dh.datapoint_numpy, 'lbl_func': dh.get_labels, 'features_dp': '../../data/features/slowfast/slowfast_4732_numpy/', \\\n",
    "#                'spike_data': grouped_data, 'group_id': 0, 'transform': transform_slowfast, 'ind_min': 1*1141+0, 'ind_max': 2*1141-1, 'feature_id':'slowfast'}\n",
    "\n",
    "data_params = {'func': dh.datapoint_numpy, 'lbl_func': dh.get_labels, 'features_dp': '../../data/features/sift3d/fvs_s1_with_kp/desc/', \\\n",
    "               'spike_data': grouped_data, 'group_id': 0, 'transform': transform_sift3d, 'ind_min': 1*1141+0, 'ind_max': 2*1141-1, 'feature_id':'sift3d'}\n",
    "\n",
    "# data_params = {'func': dh.datapoint_numpy, 'lbl_func': dh.get_labels, 'features_dp': '../../data/features/soenet/soenet3/features_2layer/', \\\n",
    "#                'spike_data': grouped_data, 'group_id': 0, 'transform': transform_soenet, 'ind_min': 1*1141+41, 'ind_max': 2*1141-1, 'feature_id':'soenet'}"
   ]
  },
  {
   "cell_type": "code",
   "execution_count": 31,
   "id": "5f92f3ec-fcfd-4dca-9bc8-cc379a2c2f10",
   "metadata": {
    "scrolled": true,
    "tags": []
   },
   "outputs": [
    {
     "name": "stdout",
     "output_type": "stream",
     "text": [
      "feature_id:  sift3d\n",
      "train_num =  100 , val_num =  50\n",
      "number of features:  77\n",
      "train_smpls =  [1994 2025 2012 1146 2253 1414 1163 1475 1365 1553 1143 1306 2086 1195\n",
      " 1427 1984 1449 2192 1149 1591 2270 1364 1705 1283 1228 1967 1905 1622\n",
      " 1557 1781 1316 1915 1706 2147 1921 1175 1578 1641 1658 1686 2167 2244\n",
      " 1269 1181 1836 1774 1170 1698 2056 1937 1505 1862 1885 1711 1754 1396\n",
      " 1837 1387 1421 2139 1718 2193 2090 1320 1447 1689 1883 1865 1697 1895\n",
      " 1907 1216 2130 1193 2185 1539 1853 2022 1408 2251 1824 1753 1409 2138\n",
      " 1524 1646 1992 2007 1552 1403 1541 1564 1790 1198 1218 2217 2049 1232\n",
      " 1813 1362] \n",
      "val_smpls =  [1487 1576 1511 1205 2234 2153 1875 1636 2141 1680 1879 1955 2229 1750\n",
      " 1773 2001 1638 1709 2242 2197 1962 1778 2117 1821 1242 2228 1496 1818\n",
      " 1916 1223 1983 1791 2008 2006 1470 1860 2037 1538 2102 1922 2065 1649\n",
      " 2202 1684 1606 2183 2105 1260 1551 1157]\n",
      "train_lbls =  [ 1.  3.  0.  1.  1.  3.  0.  5.  4.  0.  0. 10.  1.  1.  7.  0.  1.  6.\n",
      "  3.  1.  1.  3.  5.  2.  0.  2.  8.  0.  1.  4. 12.  2.  6.  9.  3.  0.\n",
      "  1.  1.  8.  3.  8.  1.  3.  0.  9.  2.  0.  2.  0.  7.  1.  0.  2. 13.\n",
      "  8.  7.  5.  5.  1. 11.  9.  3.  0.  3.  1.  5.  4.  3.  1.  4. 11.  0.\n",
      " 18.  0. 12.  0.  0.  0.  0.  0.  6. 10.  3. 13.  5.  1.  0.  3.  0.  9.\n",
      "  0.  0.  2.  0.  0.  3.  0.  0.  3.  3.] \n",
      "val_lbls =  [ 4.  0.  3.  1.  0.  2.  3.  1.  8.  7.  2.  2.  0. 13.  3.  1.  1.  9.\n",
      "  0. 10.  1.  2.  8.  6.  0.  0.  4.  7.  1.  1.  0.  6.  4.  1. 10.  0.\n",
      "  0.  0.  1.  2.  0.  3.  4.  2.  1. 11.  3.  0.  0.  0.]\n",
      "train_des =  [[0.0000e+00 0.0000e+00 0.0000e+00 ... 1.2087e+02 2.0994e+02 2.7880e+01]\n",
      " [0.0000e+00 0.0000e+00 0.0000e+00 ... 1.4840e+01 6.5300e+00 3.0400e+00]\n",
      " [0.0000e+00 0.0000e+00 0.0000e+00 ... 3.4908e+02 1.2023e+02 4.9760e+01]\n",
      " ...\n",
      " [0.0000e+00 0.0000e+00 0.0000e+00 ... 4.8132e+02 8.0144e+02 9.0100e+01]\n",
      " [0.0000e+00 0.0000e+00 0.0000e+00 ... 1.6913e+02 2.6686e+02 7.8830e+01]\n",
      " [0.0000e+00 0.0000e+00 0.0000e+00 ... 3.0000e-01 3.4100e+00 1.7700e+00]] \n",
      "val_des =  [[  0.     0.     0.   ... 379.29 350.41  18.15]\n",
      " [  0.     0.     0.   ... 308.91 328.73  60.82]\n",
      " [  0.     0.     0.   ...  10.97  65.59  42.01]\n",
      " ...\n",
      " [  0.     0.     0.   ... 245.78 319.09  59.91]\n",
      " [  0.     0.     0.   ...  10.2  213.54   0.  ]\n",
      " [  0.     0.     0.   ... 157.33 271.42  58.29]]\n",
      "minimum value of train features:  0.0\n",
      "mean value of train features:  167.964125974026\n",
      "median value of train features:  1.0950000000000002\n",
      "maximum value of train features:  1205.55\n"
     ]
    }
   ],
   "source": [
    "train_num = 100\n",
    "val_num = 50\n",
    "\n",
    "train_num, val_num, train_data, val_data = \\\n",
    "dh.random_train_val(train_num, val_num, data_params, seed=0)\n",
    "\n",
    "# optional normalization\n",
    "# train_data['des'] = dh.normalize(train_data['des'])\n",
    "# val_data['des'] = dh.normalize(val_data['des'])\n",
    "\n",
    "# show statistics\n",
    "print('feature_id: ', data_params['feature_id'])\n",
    "print('train_num = ', train_num, ', val_num = ', val_num)\n",
    "print('number of features: ', train_data['des'].shape[1])\n",
    "\n",
    "print('train_smpls = ', train_data['smpls'], '\\nval_smpls = ', val_data['smpls'])\n",
    "print('train_lbls = ', train_data['lbls'], '\\nval_lbls = ', val_data['lbls'])\n",
    "print('train_des = ', train_data['des'], '\\nval_des = ', val_data['des'])\n",
    "print('minimum value of train features: ', np.min(train_data['des']))\n",
    "print('mean value of train features: ', np.mean(train_data['des']))\n",
    "print('median value of train features: ', np.median(train_data['des']))\n",
    "print('maximum value of train features: ', np.max(train_data['des']))"
   ]
  },
  {
   "cell_type": "markdown",
   "id": "38267f1a-7220-4438-928e-f7ff33e8e5fb",
   "metadata": {
    "jp-MarkdownHeadingCollapsed": true,
    "tags": []
   },
   "source": [
    "## Create DMatrices from numpy arrays"
   ]
  },
  {
   "cell_type": "code",
   "execution_count": 43,
   "id": "db015f84-4503-4fb1-a672-93bae843596c",
   "metadata": {
    "tags": []
   },
   "outputs": [],
   "source": [
    "# create xgb Dmatrices directly from numpy arrays\n",
    "dtrain = xgb.DMatrix(train_data['des'], label=train_data['lbls'])\n",
    "dval = xgb.DMatrix(val_data['des'], label=val_data['lbls'])\n",
    "\n",
    "# dtrain_x = xgb.DMatrix(train_data['des'])\n",
    "# dtrain_y = xgb.DMatrix(train_data['lbls'])\n",
    "# dval_x = xgb.DMatrix(val_data['des'])\n",
    "# dval_y = xgb.DMatrix(val_data['lbls'])"
   ]
  },
  {
   "cell_type": "code",
   "execution_count": 44,
   "id": "803deb23-f749-4289-865c-5ce27b4eddb1",
   "metadata": {
    "tags": []
   },
   "outputs": [
    {
     "name": "stdout",
     "output_type": "stream",
     "text": [
      "Train Dmatrix shape: 100 x 77\n",
      "Val Dmatrix shape: 50 x 77\n",
      "Train Dmatrix labels:  [ 1.  3.  0.  1.  1.  3.  0.  5.  4.  0.  0. 10.  1.  1.  7.  0.  1.  6.\n",
      "  3.  1.  1.  3.  5.  2.  0.  2.  8.  0.  1.  4. 12.  2.  6.  9.  3.  0.\n",
      "  1.  1.  8.  3.  8.  1.  3.  0.  9.  2.  0.  2.  0.  7.  1.  0.  2. 13.\n",
      "  8.  7.  5.  5.  1. 11.  9.  3.  0.  3.  1.  5.  4.  3.  1.  4. 11.  0.\n",
      " 18.  0. 12.  0.  0.  0.  0.  0.  6. 10.  3. 13.  5.  1.  0.  3.  0.  9.\n",
      "  0.  0.  2.  0.  0.  3.  0.  0.  3.  3.]\n",
      "Val Dmatrix labels:  [ 4.  0.  3.  1.  0.  2.  3.  1.  8.  7.  2.  2.  0. 13.  3.  1.  1.  9.\n",
      "  0. 10.  1.  2.  8.  6.  0.  0.  4.  7.  1.  1.  0.  6.  4.  1. 10.  0.\n",
      "  0.  0.  1.  2.  0.  3.  4.  2.  1. 11.  3.  0.  0.  0.]\n"
     ]
    }
   ],
   "source": [
    "print('Train Dmatrix shape: {} x {}'.format(dtrain.num_row(), dtrain.num_col()))\n",
    "print('Val Dmatrix shape: {} x {}'.format(dval.num_row(), dval.num_col()))\n",
    "print('Train Dmatrix labels: ', dtrain.get_label())\n",
    "print('Val Dmatrix labels: ', dval.get_label())"
   ]
  },
  {
   "cell_type": "code",
   "execution_count": 45,
   "id": "1ecea49b-3715-44aa-8843-c17eb208fd4f",
   "metadata": {
    "tags": []
   },
   "outputs": [
    {
     "name": "stdout",
     "output_type": "stream",
     "text": [
      "<xgboost.core.DMatrix object at 0x7f4a18965c10>\n"
     ]
    }
   ],
   "source": [
    "print(dtrain)"
   ]
  },
  {
   "cell_type": "markdown",
   "id": "c5edc221-d85a-4021-bafd-3588b7ceab5f",
   "metadata": {},
   "source": [
    "## Create Pandas DataFrames and Series from numpy arrays"
   ]
  },
  {
   "cell_type": "code",
   "execution_count": 48,
   "id": "23a0aa8a-ec43-452a-a603-f335a038318d",
   "metadata": {
    "tags": []
   },
   "outputs": [
    {
     "data": {
      "text/html": [
       "<div>\n",
       "<style scoped>\n",
       "    .dataframe tbody tr th:only-of-type {\n",
       "        vertical-align: middle;\n",
       "    }\n",
       "\n",
       "    .dataframe tbody tr th {\n",
       "        vertical-align: top;\n",
       "    }\n",
       "\n",
       "    .dataframe thead th {\n",
       "        text-align: right;\n",
       "    }\n",
       "</style>\n",
       "<table border=\"1\" class=\"dataframe\">\n",
       "  <thead>\n",
       "    <tr style=\"text-align: right;\">\n",
       "      <th></th>\n",
       "      <th>0</th>\n",
       "      <th>1</th>\n",
       "      <th>2</th>\n",
       "      <th>3</th>\n",
       "      <th>4</th>\n",
       "      <th>5</th>\n",
       "      <th>6</th>\n",
       "      <th>7</th>\n",
       "      <th>8</th>\n",
       "      <th>9</th>\n",
       "      <th>...</th>\n",
       "      <th>67</th>\n",
       "      <th>68</th>\n",
       "      <th>69</th>\n",
       "      <th>70</th>\n",
       "      <th>71</th>\n",
       "      <th>72</th>\n",
       "      <th>73</th>\n",
       "      <th>74</th>\n",
       "      <th>75</th>\n",
       "      <th>76</th>\n",
       "    </tr>\n",
       "  </thead>\n",
       "  <tbody>\n",
       "    <tr>\n",
       "      <th>0</th>\n",
       "      <td>0.0</td>\n",
       "      <td>0.0</td>\n",
       "      <td>0.0</td>\n",
       "      <td>0.0</td>\n",
       "      <td>0.0</td>\n",
       "      <td>0.0</td>\n",
       "      <td>0.0</td>\n",
       "      <td>0.0</td>\n",
       "      <td>0.0</td>\n",
       "      <td>0.0</td>\n",
       "      <td>...</td>\n",
       "      <td>67.61</td>\n",
       "      <td>0.00</td>\n",
       "      <td>77.16</td>\n",
       "      <td>132.39</td>\n",
       "      <td>43.49</td>\n",
       "      <td>0.00</td>\n",
       "      <td>0.00</td>\n",
       "      <td>120.87</td>\n",
       "      <td>209.94</td>\n",
       "      <td>27.88</td>\n",
       "    </tr>\n",
       "    <tr>\n",
       "      <th>1</th>\n",
       "      <td>0.0</td>\n",
       "      <td>0.0</td>\n",
       "      <td>0.0</td>\n",
       "      <td>0.0</td>\n",
       "      <td>0.0</td>\n",
       "      <td>0.0</td>\n",
       "      <td>0.0</td>\n",
       "      <td>0.0</td>\n",
       "      <td>0.0</td>\n",
       "      <td>0.0</td>\n",
       "      <td>...</td>\n",
       "      <td>0.27</td>\n",
       "      <td>0.00</td>\n",
       "      <td>0.57</td>\n",
       "      <td>29.90</td>\n",
       "      <td>0.00</td>\n",
       "      <td>0.28</td>\n",
       "      <td>0.04</td>\n",
       "      <td>14.84</td>\n",
       "      <td>6.53</td>\n",
       "      <td>3.04</td>\n",
       "    </tr>\n",
       "    <tr>\n",
       "      <th>2</th>\n",
       "      <td>0.0</td>\n",
       "      <td>0.0</td>\n",
       "      <td>0.0</td>\n",
       "      <td>0.0</td>\n",
       "      <td>0.0</td>\n",
       "      <td>0.0</td>\n",
       "      <td>0.0</td>\n",
       "      <td>0.0</td>\n",
       "      <td>0.0</td>\n",
       "      <td>0.0</td>\n",
       "      <td>...</td>\n",
       "      <td>54.25</td>\n",
       "      <td>113.18</td>\n",
       "      <td>190.23</td>\n",
       "      <td>692.90</td>\n",
       "      <td>0.21</td>\n",
       "      <td>10.11</td>\n",
       "      <td>122.15</td>\n",
       "      <td>349.08</td>\n",
       "      <td>120.23</td>\n",
       "      <td>49.76</td>\n",
       "    </tr>\n",
       "    <tr>\n",
       "      <th>3</th>\n",
       "      <td>0.0</td>\n",
       "      <td>0.0</td>\n",
       "      <td>0.0</td>\n",
       "      <td>0.0</td>\n",
       "      <td>0.0</td>\n",
       "      <td>0.0</td>\n",
       "      <td>0.0</td>\n",
       "      <td>0.0</td>\n",
       "      <td>0.0</td>\n",
       "      <td>0.0</td>\n",
       "      <td>...</td>\n",
       "      <td>308.91</td>\n",
       "      <td>0.00</td>\n",
       "      <td>281.79</td>\n",
       "      <td>583.57</td>\n",
       "      <td>194.92</td>\n",
       "      <td>6.77</td>\n",
       "      <td>0.10</td>\n",
       "      <td>457.96</td>\n",
       "      <td>780.29</td>\n",
       "      <td>98.12</td>\n",
       "    </tr>\n",
       "    <tr>\n",
       "      <th>4</th>\n",
       "      <td>0.0</td>\n",
       "      <td>0.0</td>\n",
       "      <td>0.0</td>\n",
       "      <td>0.0</td>\n",
       "      <td>0.0</td>\n",
       "      <td>0.0</td>\n",
       "      <td>0.0</td>\n",
       "      <td>0.0</td>\n",
       "      <td>0.0</td>\n",
       "      <td>0.0</td>\n",
       "      <td>...</td>\n",
       "      <td>0.01</td>\n",
       "      <td>0.00</td>\n",
       "      <td>5.15</td>\n",
       "      <td>1.15</td>\n",
       "      <td>0.00</td>\n",
       "      <td>0.38</td>\n",
       "      <td>0.10</td>\n",
       "      <td>8.64</td>\n",
       "      <td>2.03</td>\n",
       "      <td>0.00</td>\n",
       "    </tr>\n",
       "  </tbody>\n",
       "</table>\n",
       "<p>5 rows × 77 columns</p>\n",
       "</div>"
      ],
      "text/plain": [
       "    0    1    2    3    4    5    6    7    8    9   ...      67      68  \\\n",
       "0  0.0  0.0  0.0  0.0  0.0  0.0  0.0  0.0  0.0  0.0  ...   67.61    0.00   \n",
       "1  0.0  0.0  0.0  0.0  0.0  0.0  0.0  0.0  0.0  0.0  ...    0.27    0.00   \n",
       "2  0.0  0.0  0.0  0.0  0.0  0.0  0.0  0.0  0.0  0.0  ...   54.25  113.18   \n",
       "3  0.0  0.0  0.0  0.0  0.0  0.0  0.0  0.0  0.0  0.0  ...  308.91    0.00   \n",
       "4  0.0  0.0  0.0  0.0  0.0  0.0  0.0  0.0  0.0  0.0  ...    0.01    0.00   \n",
       "\n",
       "       69      70      71     72      73      74      75     76  \n",
       "0   77.16  132.39   43.49   0.00    0.00  120.87  209.94  27.88  \n",
       "1    0.57   29.90    0.00   0.28    0.04   14.84    6.53   3.04  \n",
       "2  190.23  692.90    0.21  10.11  122.15  349.08  120.23  49.76  \n",
       "3  281.79  583.57  194.92   6.77    0.10  457.96  780.29  98.12  \n",
       "4    5.15    1.15    0.00   0.38    0.10    8.64    2.03   0.00  \n",
       "\n",
       "[5 rows x 77 columns]"
      ]
     },
     "execution_count": 48,
     "metadata": {},
     "output_type": "execute_result"
    }
   ],
   "source": [
    "# create a dataframe from the features array\n",
    "train_df = pd.DataFrame(data = train_data['des'])\n",
    "val_df = pd.DataFrame(data = val_data['des'])\n",
    "train_df.head()"
   ]
  },
  {
   "cell_type": "code",
   "execution_count": 49,
   "id": "719a7618-535e-48c6-a147-6f4c4e384ebd",
   "metadata": {
    "tags": []
   },
   "outputs": [
    {
     "data": {
      "text/html": [
       "<div>\n",
       "<style scoped>\n",
       "    .dataframe tbody tr th:only-of-type {\n",
       "        vertical-align: middle;\n",
       "    }\n",
       "\n",
       "    .dataframe tbody tr th {\n",
       "        vertical-align: top;\n",
       "    }\n",
       "\n",
       "    .dataframe thead th {\n",
       "        text-align: right;\n",
       "    }\n",
       "</style>\n",
       "<table border=\"1\" class=\"dataframe\">\n",
       "  <thead>\n",
       "    <tr style=\"text-align: right;\">\n",
       "      <th></th>\n",
       "      <th>0</th>\n",
       "    </tr>\n",
       "  </thead>\n",
       "  <tbody>\n",
       "    <tr>\n",
       "      <th>0</th>\n",
       "      <td>1.0</td>\n",
       "    </tr>\n",
       "    <tr>\n",
       "      <th>1</th>\n",
       "      <td>3.0</td>\n",
       "    </tr>\n",
       "    <tr>\n",
       "      <th>2</th>\n",
       "      <td>0.0</td>\n",
       "    </tr>\n",
       "    <tr>\n",
       "      <th>3</th>\n",
       "      <td>1.0</td>\n",
       "    </tr>\n",
       "    <tr>\n",
       "      <th>4</th>\n",
       "      <td>1.0</td>\n",
       "    </tr>\n",
       "  </tbody>\n",
       "</table>\n",
       "</div>"
      ],
      "text/plain": [
       "     0\n",
       "0  1.0\n",
       "1  3.0\n",
       "2  0.0\n",
       "3  1.0\n",
       "4  1.0"
      ]
     },
     "execution_count": 49,
     "metadata": {},
     "output_type": "execute_result"
    }
   ],
   "source": [
    "# create pandas series from the labels\n",
    "train_y = pd.DataFrame(data = train_data['lbls'])\n",
    "val_y = pd.DataFrame(data = val_data['lbls'])\n",
    "train_y.head()"
   ]
  },
  {
   "cell_type": "markdown",
   "id": "91adaa56-4fc7-41ab-8e3b-193965c9779d",
   "metadata": {},
   "source": [
    "## Train the XGBoost model"
   ]
  },
  {
   "cell_type": "code",
   "execution_count": 50,
   "id": "fcca4769-3058-4c4c-9bd0-06f4287fb27b",
   "metadata": {
    "tags": []
   },
   "outputs": [],
   "source": [
    "#Creating an XGBoost regressor\n",
    "model = xgb.XGBRegressor()"
   ]
  },
  {
   "cell_type": "code",
   "execution_count": 51,
   "id": "3a64aaa9-6c3d-4ebc-a771-127a862191a4",
   "metadata": {
    "tags": []
   },
   "outputs": [
    {
     "data": {
      "text/html": [
       "<style>#sk-container-id-2 {color: black;background-color: white;}#sk-container-id-2 pre{padding: 0;}#sk-container-id-2 div.sk-toggleable {background-color: white;}#sk-container-id-2 label.sk-toggleable__label {cursor: pointer;display: block;width: 100%;margin-bottom: 0;padding: 0.3em;box-sizing: border-box;text-align: center;}#sk-container-id-2 label.sk-toggleable__label-arrow:before {content: \"▸\";float: left;margin-right: 0.25em;color: #696969;}#sk-container-id-2 label.sk-toggleable__label-arrow:hover:before {color: black;}#sk-container-id-2 div.sk-estimator:hover label.sk-toggleable__label-arrow:before {color: black;}#sk-container-id-2 div.sk-toggleable__content {max-height: 0;max-width: 0;overflow: hidden;text-align: left;background-color: #f0f8ff;}#sk-container-id-2 div.sk-toggleable__content pre {margin: 0.2em;color: black;border-radius: 0.25em;background-color: #f0f8ff;}#sk-container-id-2 input.sk-toggleable__control:checked~div.sk-toggleable__content {max-height: 200px;max-width: 100%;overflow: auto;}#sk-container-id-2 input.sk-toggleable__control:checked~label.sk-toggleable__label-arrow:before {content: \"▾\";}#sk-container-id-2 div.sk-estimator input.sk-toggleable__control:checked~label.sk-toggleable__label {background-color: #d4ebff;}#sk-container-id-2 div.sk-label input.sk-toggleable__control:checked~label.sk-toggleable__label {background-color: #d4ebff;}#sk-container-id-2 input.sk-hidden--visually {border: 0;clip: rect(1px 1px 1px 1px);clip: rect(1px, 1px, 1px, 1px);height: 1px;margin: -1px;overflow: hidden;padding: 0;position: absolute;width: 1px;}#sk-container-id-2 div.sk-estimator {font-family: monospace;background-color: #f0f8ff;border: 1px dotted black;border-radius: 0.25em;box-sizing: border-box;margin-bottom: 0.5em;}#sk-container-id-2 div.sk-estimator:hover {background-color: #d4ebff;}#sk-container-id-2 div.sk-parallel-item::after {content: \"\";width: 100%;border-bottom: 1px solid gray;flex-grow: 1;}#sk-container-id-2 div.sk-label:hover label.sk-toggleable__label {background-color: #d4ebff;}#sk-container-id-2 div.sk-serial::before {content: \"\";position: absolute;border-left: 1px solid gray;box-sizing: border-box;top: 0;bottom: 0;left: 50%;z-index: 0;}#sk-container-id-2 div.sk-serial {display: flex;flex-direction: column;align-items: center;background-color: white;padding-right: 0.2em;padding-left: 0.2em;position: relative;}#sk-container-id-2 div.sk-item {position: relative;z-index: 1;}#sk-container-id-2 div.sk-parallel {display: flex;align-items: stretch;justify-content: center;background-color: white;position: relative;}#sk-container-id-2 div.sk-item::before, #sk-container-id-2 div.sk-parallel-item::before {content: \"\";position: absolute;border-left: 1px solid gray;box-sizing: border-box;top: 0;bottom: 0;left: 50%;z-index: -1;}#sk-container-id-2 div.sk-parallel-item {display: flex;flex-direction: column;z-index: 1;position: relative;background-color: white;}#sk-container-id-2 div.sk-parallel-item:first-child::after {align-self: flex-end;width: 50%;}#sk-container-id-2 div.sk-parallel-item:last-child::after {align-self: flex-start;width: 50%;}#sk-container-id-2 div.sk-parallel-item:only-child::after {width: 0;}#sk-container-id-2 div.sk-dashed-wrapped {border: 1px dashed gray;margin: 0 0.4em 0.5em 0.4em;box-sizing: border-box;padding-bottom: 0.4em;background-color: white;}#sk-container-id-2 div.sk-label label {font-family: monospace;font-weight: bold;display: inline-block;line-height: 1.2em;}#sk-container-id-2 div.sk-label-container {text-align: center;}#sk-container-id-2 div.sk-container {/* jupyter's `normalize.less` sets `[hidden] { display: none; }` but bootstrap.min.css set `[hidden] { display: none !important; }` so we also need the `!important` here to be able to override the default hidden behavior on the sphinx rendered scikit-learn.org. See: https://github.com/scikit-learn/scikit-learn/issues/21755 */display: inline-block !important;position: relative;}#sk-container-id-2 div.sk-text-repr-fallback {display: none;}</style><div id=\"sk-container-id-2\" class=\"sk-top-container\"><div class=\"sk-text-repr-fallback\"><pre>XGBRegressor(base_score=None, booster=None, callbacks=None,\n",
       "             colsample_bylevel=None, colsample_bynode=None,\n",
       "             colsample_bytree=None, early_stopping_rounds=None,\n",
       "             enable_categorical=False, eval_metric=None, feature_types=None,\n",
       "             gamma=None, gpu_id=None, grow_policy=None, importance_type=None,\n",
       "             interaction_constraints=None, learning_rate=None, max_bin=None,\n",
       "             max_cat_threshold=None, max_cat_to_onehot=None,\n",
       "             max_delta_step=None, max_depth=None, max_leaves=None,\n",
       "             min_child_weight=None, missing=nan, monotone_constraints=None,\n",
       "             n_estimators=100, n_jobs=None, num_parallel_tree=None,\n",
       "             predictor=None, random_state=None, ...)</pre><b>In a Jupyter environment, please rerun this cell to show the HTML representation or trust the notebook. <br />On GitHub, the HTML representation is unable to render, please try loading this page with nbviewer.org.</b></div><div class=\"sk-container\" hidden><div class=\"sk-item\"><div class=\"sk-estimator sk-toggleable\"><input class=\"sk-toggleable__control sk-hidden--visually\" id=\"sk-estimator-id-2\" type=\"checkbox\" checked><label for=\"sk-estimator-id-2\" class=\"sk-toggleable__label sk-toggleable__label-arrow\">XGBRegressor</label><div class=\"sk-toggleable__content\"><pre>XGBRegressor(base_score=None, booster=None, callbacks=None,\n",
       "             colsample_bylevel=None, colsample_bynode=None,\n",
       "             colsample_bytree=None, early_stopping_rounds=None,\n",
       "             enable_categorical=False, eval_metric=None, feature_types=None,\n",
       "             gamma=None, gpu_id=None, grow_policy=None, importance_type=None,\n",
       "             interaction_constraints=None, learning_rate=None, max_bin=None,\n",
       "             max_cat_threshold=None, max_cat_to_onehot=None,\n",
       "             max_delta_step=None, max_depth=None, max_leaves=None,\n",
       "             min_child_weight=None, missing=nan, monotone_constraints=None,\n",
       "             n_estimators=100, n_jobs=None, num_parallel_tree=None,\n",
       "             predictor=None, random_state=None, ...)</pre></div></div></div></div></div>"
      ],
      "text/plain": [
       "XGBRegressor(base_score=None, booster=None, callbacks=None,\n",
       "             colsample_bylevel=None, colsample_bynode=None,\n",
       "             colsample_bytree=None, early_stopping_rounds=None,\n",
       "             enable_categorical=False, eval_metric=None, feature_types=None,\n",
       "             gamma=None, gpu_id=None, grow_policy=None, importance_type=None,\n",
       "             interaction_constraints=None, learning_rate=None, max_bin=None,\n",
       "             max_cat_threshold=None, max_cat_to_onehot=None,\n",
       "             max_delta_step=None, max_depth=None, max_leaves=None,\n",
       "             min_child_weight=None, missing=nan, monotone_constraints=None,\n",
       "             n_estimators=100, n_jobs=None, num_parallel_tree=None,\n",
       "             predictor=None, random_state=None, ...)"
      ]
     },
     "execution_count": 51,
     "metadata": {},
     "output_type": "execute_result"
    }
   ],
   "source": [
    "#Training the model on the training data\n",
    "model.fit(train_df, train_y)"
   ]
  },
  {
   "cell_type": "code",
   "execution_count": 62,
   "id": "7b2a401a-a80f-46e7-a2f0-ab0194e1201b",
   "metadata": {
    "tags": []
   },
   "outputs": [],
   "source": [
    "#Making predictions on the test set\n",
    "train_predictions = model.predict(train_df)"
   ]
  },
  {
   "cell_type": "code",
   "execution_count": 66,
   "id": "10594dd3-3481-4589-a995-71aefe3f589b",
   "metadata": {
    "tags": []
   },
   "outputs": [
    {
     "name": "stdout",
     "output_type": "stream",
     "text": [
      "Mean Squared Error on the TRAIN DATA: 2.659758424535528e-07\n",
      "R-squared Score on the TRAIN DATA: 0.9999999819284108\n"
     ]
    }
   ],
   "source": [
    "# Calculate the mean squared error and R-squared score\n",
    "train_mse = mean_squared_error(train_y, train_predictions)\n",
    "train_r2 = r2_score(train_y, train_predictions)\n",
    "train_acc = sum(np.round(train_predictions) == train_y.to_numpy().reshape(-1)) / train_num\n",
    "\n",
    "print(\"Mean Squared Error on the TRAIN DATA:\", train_mse)\n",
    "print(\"R-squared Score on the TRAIN DATA:\", train_r2)\n",
    "print(\"Prediction Accuracy on the TRAIN DATA:\", train_acc)"
   ]
  },
  {
   "cell_type": "markdown",
   "id": "a38cd852-d9f1-4aea-b0a5-4ffc92596c92",
   "metadata": {},
   "source": [
    "## Validate the XGBoost model"
   ]
  },
  {
   "cell_type": "code",
   "execution_count": 68,
   "id": "116c473d-73f4-4e4d-a51b-4f10f7ca1c30",
   "metadata": {
    "tags": []
   },
   "outputs": [],
   "source": [
    "#Making predictions on the test set\n",
    "val_predictions = model.predict(val_df)"
   ]
  },
  {
   "cell_type": "code",
   "execution_count": 70,
   "id": "3a2fdbc2-0a62-481c-ac58-38f69b0bc826",
   "metadata": {
    "tags": []
   },
   "outputs": [
    {
     "name": "stdout",
     "output_type": "stream",
     "text": [
      "Mean Squared Error on the VALIDATION DATA: 14.477066295684443\n",
      "R-squared Score on the VALIDATION DATA: -0.26124427582977083\n"
     ]
    }
   ],
   "source": [
    "# Calculate the mean squared error and R-squared score\n",
    "val_mse = mean_squared_error(val_y, val_predictions)\n",
    "val_r2 = r2_score(val_y, val_predictions)\n",
    "train_acc = sum(np.round(train_predictions) == train_y.to_numpy().reshape(-1)) / train_num\n",
    "\n",
    "print(\"Mean Squared Error on the VALIDATION DATA:\", val_mse)\n",
    "print(\"R-squared Score on the VALIDATION DATA:\", val_r2)"
   ]
  },
  {
   "cell_type": "markdown",
   "id": "97c068fd-6355-40a4-9328-8f616a19c69c",
   "metadata": {},
   "source": [
    "# "
   ]
  },
  {
   "cell_type": "code",
   "execution_count": 85,
   "id": "f0f62856-e9df-4ef1-8280-5ccf19acd47d",
   "metadata": {
    "tags": []
   },
   "outputs": [
    {
     "data": {
      "text/plain": [
       "1.0"
      ]
     },
     "execution_count": 85,
     "metadata": {},
     "output_type": "execute_result"
    }
   ],
   "source": []
  },
  {
   "cell_type": "code",
   "execution_count": 84,
   "id": "0ee1462e-3468-4c46-8f2b-818e7f28b70c",
   "metadata": {
    "tags": []
   },
   "outputs": [
    {
     "data": {
      "text/plain": [
       "100"
      ]
     },
     "execution_count": 84,
     "metadata": {},
     "output_type": "execute_result"
    }
   ],
   "source": [
    "train_num"
   ]
  },
  {
   "cell_type": "code",
   "execution_count": null,
   "id": "d89a000d-dc59-47f1-916c-9f3924eeb173",
   "metadata": {},
   "outputs": [],
   "source": []
  },
  {
   "cell_type": "code",
   "execution_count": null,
   "id": "00a44379-69f0-43bd-ada9-b0d217b0a104",
   "metadata": {},
   "outputs": [],
   "source": []
  },
  {
   "cell_type": "code",
   "execution_count": null,
   "id": "8350100a-e857-4c8c-8717-e0ac34d46033",
   "metadata": {},
   "outputs": [],
   "source": []
  },
  {
   "cell_type": "code",
   "execution_count": null,
   "id": "45b8896c-bc16-433c-9709-7c6cd1f2c0d7",
   "metadata": {},
   "outputs": [],
   "source": []
  },
  {
   "cell_type": "code",
   "execution_count": null,
   "id": "e5a1328f-bdbe-4885-95ae-53bfe1ba2699",
   "metadata": {},
   "outputs": [],
   "source": []
  },
  {
   "cell_type": "code",
   "execution_count": null,
   "id": "44f42ea9-e1aa-4b89-8219-4aef5fc01d41",
   "metadata": {},
   "outputs": [],
   "source": []
  },
  {
   "cell_type": "code",
   "execution_count": null,
   "id": "5da841d0-0740-4845-a5af-0088e190ee5f",
   "metadata": {},
   "outputs": [],
   "source": []
  },
  {
   "cell_type": "code",
   "execution_count": null,
   "id": "adfab4e7-5f39-4e0f-80cf-f9c5739efff0",
   "metadata": {},
   "outputs": [],
   "source": []
  },
  {
   "cell_type": "code",
   "execution_count": null,
   "id": "3cd2920d-0f1e-49ac-84b0-fdf4e625d53a",
   "metadata": {},
   "outputs": [],
   "source": []
  },
  {
   "cell_type": "code",
   "execution_count": null,
   "id": "a545eda4-c414-40d5-bf38-dd5e4cd60bae",
   "metadata": {},
   "outputs": [],
   "source": []
  },
  {
   "cell_type": "code",
   "execution_count": null,
   "id": "8c44bd06-c82d-43cb-af84-fc123eae4f7a",
   "metadata": {},
   "outputs": [],
   "source": []
  },
  {
   "cell_type": "code",
   "execution_count": null,
   "id": "8d8032d5-92b1-4231-9b78-cf20f94468dd",
   "metadata": {},
   "outputs": [],
   "source": []
  },
  {
   "cell_type": "code",
   "execution_count": null,
   "id": "a2b6db9a-1368-4bf5-b3c2-3d9c1603b675",
   "metadata": {},
   "outputs": [],
   "source": []
  },
  {
   "cell_type": "code",
   "execution_count": null,
   "id": "dabbfe1e-da04-431f-b432-174537bd01f8",
   "metadata": {},
   "outputs": [],
   "source": []
  },
  {
   "cell_type": "code",
   "execution_count": null,
   "id": "aa927941-2983-4780-9a97-52da92249cf6",
   "metadata": {},
   "outputs": [],
   "source": []
  }
 ],
 "metadata": {
  "kernelspec": {
   "display_name": "Python 3 (ipykernel)",
   "language": "python",
   "name": "python3"
  },
  "language_info": {
   "codemirror_mode": {
    "name": "ipython",
    "version": 3
   },
   "file_extension": ".py",
   "mimetype": "text/x-python",
   "name": "python",
   "nbconvert_exporter": "python",
   "pygments_lexer": "ipython3",
   "version": "3.9.13"
  }
 },
 "nbformat": 4,
 "nbformat_minor": 5
}
