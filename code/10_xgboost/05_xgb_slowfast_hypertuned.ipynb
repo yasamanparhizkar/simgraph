{
 "cells": [
  {
   "cell_type": "code",
   "execution_count": 8,
   "id": "0867c5c8-6da6-4009-8f2f-5873890d25be",
   "metadata": {
    "tags": []
   },
   "outputs": [],
   "source": [
    "import xgboost as xgb\n",
    "import seaborn as sns\n",
    "import pandas as pd\n",
    "import numpy as np\n",
    "import matplotlib.pyplot as plt\n",
    "import warnings\n",
    "\n",
    "# add the path to my packages to system paths so they can be imported\n",
    "import sys\n",
    "sys.path.append('/home/yasamanparhizkar/Documents/yorku/01_thesis/code/my_packages')\n",
    "# sys.path.append('F:\\MAScThesis\\code\\my_packages')\n",
    "# sys.path.append('/home/yasamanparhizkar/Documents/thesis/code/my_packages')\n",
    "\n",
    "import dataprocess.data_handler_01 as dh\n",
    "warnings.filterwarnings(\"ignore\")"
   ]
  },
  {
   "cell_type": "code",
   "execution_count": 9,
   "id": "56aec63d-177d-4615-9b33-a6f1c800061e",
   "metadata": {
    "tags": []
   },
   "outputs": [
    {
     "data": {
      "text/html": [
       "<div>\n",
       "<style scoped>\n",
       "    .dataframe tbody tr th:only-of-type {\n",
       "        vertical-align: middle;\n",
       "    }\n",
       "\n",
       "    .dataframe tbody tr th {\n",
       "        vertical-align: top;\n",
       "    }\n",
       "\n",
       "    .dataframe thead th {\n",
       "        text-align: right;\n",
       "    }\n",
       "</style>\n",
       "<table border=\"1\" class=\"dataframe\">\n",
       "  <thead>\n",
       "    <tr style=\"text-align: right;\">\n",
       "      <th></th>\n",
       "      <th>carat</th>\n",
       "      <th>cut</th>\n",
       "      <th>color</th>\n",
       "      <th>clarity</th>\n",
       "      <th>depth</th>\n",
       "      <th>table</th>\n",
       "      <th>price</th>\n",
       "      <th>x</th>\n",
       "      <th>y</th>\n",
       "      <th>z</th>\n",
       "    </tr>\n",
       "  </thead>\n",
       "  <tbody>\n",
       "    <tr>\n",
       "      <th>0</th>\n",
       "      <td>0.23</td>\n",
       "      <td>Ideal</td>\n",
       "      <td>E</td>\n",
       "      <td>SI2</td>\n",
       "      <td>61.5</td>\n",
       "      <td>55.0</td>\n",
       "      <td>326</td>\n",
       "      <td>3.95</td>\n",
       "      <td>3.98</td>\n",
       "      <td>2.43</td>\n",
       "    </tr>\n",
       "    <tr>\n",
       "      <th>1</th>\n",
       "      <td>0.21</td>\n",
       "      <td>Premium</td>\n",
       "      <td>E</td>\n",
       "      <td>SI1</td>\n",
       "      <td>59.8</td>\n",
       "      <td>61.0</td>\n",
       "      <td>326</td>\n",
       "      <td>3.89</td>\n",
       "      <td>3.84</td>\n",
       "      <td>2.31</td>\n",
       "    </tr>\n",
       "    <tr>\n",
       "      <th>2</th>\n",
       "      <td>0.23</td>\n",
       "      <td>Good</td>\n",
       "      <td>E</td>\n",
       "      <td>VS1</td>\n",
       "      <td>56.9</td>\n",
       "      <td>65.0</td>\n",
       "      <td>327</td>\n",
       "      <td>4.05</td>\n",
       "      <td>4.07</td>\n",
       "      <td>2.31</td>\n",
       "    </tr>\n",
       "    <tr>\n",
       "      <th>3</th>\n",
       "      <td>0.29</td>\n",
       "      <td>Premium</td>\n",
       "      <td>I</td>\n",
       "      <td>VS2</td>\n",
       "      <td>62.4</td>\n",
       "      <td>58.0</td>\n",
       "      <td>334</td>\n",
       "      <td>4.20</td>\n",
       "      <td>4.23</td>\n",
       "      <td>2.63</td>\n",
       "    </tr>\n",
       "    <tr>\n",
       "      <th>4</th>\n",
       "      <td>0.31</td>\n",
       "      <td>Good</td>\n",
       "      <td>J</td>\n",
       "      <td>SI2</td>\n",
       "      <td>63.3</td>\n",
       "      <td>58.0</td>\n",
       "      <td>335</td>\n",
       "      <td>4.34</td>\n",
       "      <td>4.35</td>\n",
       "      <td>2.75</td>\n",
       "    </tr>\n",
       "  </tbody>\n",
       "</table>\n",
       "</div>"
      ],
      "text/plain": [
       "   carat      cut color clarity  depth  table  price     x     y     z\n",
       "0   0.23    Ideal     E     SI2   61.5   55.0    326  3.95  3.98  2.43\n",
       "1   0.21  Premium     E     SI1   59.8   61.0    326  3.89  3.84  2.31\n",
       "2   0.23     Good     E     VS1   56.9   65.0    327  4.05  4.07  2.31\n",
       "3   0.29  Premium     I     VS2   62.4   58.0    334  4.20  4.23  2.63\n",
       "4   0.31     Good     J     SI2   63.3   58.0    335  4.34  4.35  2.75"
      ]
     },
     "execution_count": 9,
     "metadata": {},
     "output_type": "execute_result"
    }
   ],
   "source": [
    "diamonds = sns.load_dataset(\"diamonds\")\n",
    "diamonds.head()"
   ]
  },
  {
   "cell_type": "code",
   "execution_count": 10,
   "id": "be52166f-fe8f-420e-a139-07e01e45a0d1",
   "metadata": {
    "tags": []
   },
   "outputs": [
    {
     "data": {
      "text/plain": [
       "pandas.core.frame.DataFrame"
      ]
     },
     "execution_count": 10,
     "metadata": {},
     "output_type": "execute_result"
    }
   ],
   "source": [
    "type(diamonds)"
   ]
  },
  {
   "cell_type": "code",
   "execution_count": 11,
   "id": "6d1f51c9-c8c4-4e16-92c1-09a53b403a46",
   "metadata": {
    "tags": []
   },
   "outputs": [
    {
     "name": "stdout",
     "output_type": "stream",
     "text": [
      "       carat        cut color clarity  depth  table  price     x     y     z\n",
      "0       0.23      Ideal     E     SI2   61.5   55.0    326  3.95  3.98  2.43\n",
      "1       0.21    Premium     E     SI1   59.8   61.0    326  3.89  3.84  2.31\n",
      "2       0.23       Good     E     VS1   56.9   65.0    327  4.05  4.07  2.31\n",
      "3       0.29    Premium     I     VS2   62.4   58.0    334  4.20  4.23  2.63\n",
      "4       0.31       Good     J     SI2   63.3   58.0    335  4.34  4.35  2.75\n",
      "...      ...        ...   ...     ...    ...    ...    ...   ...   ...   ...\n",
      "53935   0.72      Ideal     D     SI1   60.8   57.0   2757  5.75  5.76  3.50\n",
      "53936   0.72       Good     D     SI1   63.1   55.0   2757  5.69  5.75  3.61\n",
      "53937   0.70  Very Good     D     SI1   62.8   60.0   2757  5.66  5.68  3.56\n",
      "53938   0.86    Premium     H     SI2   61.0   58.0   2757  6.15  6.12  3.74\n",
      "53939   0.75      Ideal     D     SI2   62.2   55.0   2757  5.83  5.87  3.64\n",
      "\n",
      "[53940 rows x 10 columns]\n"
     ]
    }
   ],
   "source": [
    "print(diamonds)"
   ]
  },
  {
   "cell_type": "markdown",
   "id": "47152145-12e2-49b5-93c8-3fa6611a41fb",
   "metadata": {},
   "source": [
    "# Create a pandas dataframe from fish movie features"
   ]
  },
  {
   "cell_type": "code",
   "execution_count": 12,
   "id": "d6d6aaa7-8ade-46c1-a1f8-4917b7ee24ae",
   "metadata": {
    "tags": []
   },
   "outputs": [
    {
     "name": "stdout",
     "output_type": "stream",
     "text": [
      "grouped_data.shape =  (297, 1141, 1)\n"
     ]
    }
   ],
   "source": [
    "# load all spike data from file\n",
    "spikes_dp = '../../data/original_files/spikes.csv'\n",
    "binned_data = np.loadtxt(spikes_dp, delimiter=',')\n",
    "binned_data = binned_data.reshape(binned_data.shape[0], 1141, 113)\n",
    "binned_data = binned_data * 2 - 1     # turn labels from 0,1 to -1,1\n",
    "\n",
    "I_order_10 = [54, 35, 10, 60, 74, 9, 61, 56, 91, 104]\n",
    "\n",
    "# group all neurons together\n",
    "grouped_data = np.zeros((297, 1141, 1))\n",
    "for trial in range(297):\n",
    "    for frame in range(1141):\n",
    "        grouped_data[trial, frame, :] = 2 * int((binned_data[trial, frame, :] == 1).any()) - 1\n",
    "        \n",
    "print('grouped_data.shape = ', grouped_data.shape)"
   ]
  },
  {
   "cell_type": "code",
   "execution_count": 13,
   "id": "535b19f6-a2d3-4854-84e4-6c37a04f9fde",
   "metadata": {
    "tags": []
   },
   "outputs": [
    {
     "name": "stdout",
     "output_type": "stream",
     "text": [
      "# training datapoints:  500\n",
      "# validation datapoints:  100\n",
      "features array shape (NxDf):  (500, 474)\n",
      "a few rows of the training feature array:\n",
      " [[2.7591696 1.8667322 1.996728  ... 2.6279461 5.0802674 2.6255097]\n",
      " [2.8032546 1.912655  1.958082  ... 2.5674512 5.029712  1.931703 ]\n",
      " [2.7883947 1.8380947 1.9161978 ... 2.6664696 5.081702  1.683916 ]\n",
      " [2.779543  1.9785925 2.0078094 ... 2.5862923 5.0203495 2.3367867]\n",
      " [2.847968  1.8654196 1.8850592 ... 2.652353  5.129178  1.7659343]]\n"
     ]
    }
   ],
   "source": [
    "# use only the second trial\n",
    "ind_min = 1*1141+0\n",
    "ind_max = 2*1141-1\n",
    "\n",
    "def transform(fv):\n",
    "    \"\"\"\n",
    "    Transform to be applied on feature vectors.\n",
    "    \n",
    "    Input: fv\n",
    "    fv - 1xDf torch tensor representing a feature vector\n",
    "    \n",
    "    Output: fvv\n",
    "    fvv - 1xDf' torch tensor representing the transformed feature vector\n",
    "    \"\"\"\n",
    "    \n",
    "    # for faster run and less memory usage\n",
    "    fvv = fv[:, ::10]\n",
    "    \n",
    "    # for numerical stability during GD\n",
    "    # fvv = fvv * 10\n",
    "    \n",
    "    return fvv\n",
    "\n",
    "data_params = {'func': dh.datapoint_torch, 'features_dp': '../../data/features/slowfast/slowfast_4732/', \\\n",
    "               'spike_data': grouped_data, 'group_id': 0, 'transform': transform}\n",
    "\n",
    "train_num = 500\n",
    "val_num = 100\n",
    "seed = None\n",
    "\n",
    "# create training and validation datasets\n",
    "train_num, val_num, train_data, val_data = dh.random_train_val(train_num, val_num, ind_min, ind_max, data_params, seed)\n",
    "\n",
    "print('# training datapoints: ', train_num)\n",
    "print('# validation datapoints: ', val_num)\n",
    "print('features array shape (NxDf): ', train_data['des'].shape)\n",
    "print('a few rows of the training feature array:\\n',train_data['des'][:5])"
   ]
  },
  {
   "cell_type": "code",
   "execution_count": 14,
   "id": "fbae14a4-7beb-40c8-a82f-1fafd2337ee4",
   "metadata": {
    "tags": []
   },
   "outputs": [
    {
     "data": {
      "text/html": [
       "<div>\n",
       "<style scoped>\n",
       "    .dataframe tbody tr th:only-of-type {\n",
       "        vertical-align: middle;\n",
       "    }\n",
       "\n",
       "    .dataframe tbody tr th {\n",
       "        vertical-align: top;\n",
       "    }\n",
       "\n",
       "    .dataframe thead th {\n",
       "        text-align: right;\n",
       "    }\n",
       "</style>\n",
       "<table border=\"1\" class=\"dataframe\">\n",
       "  <thead>\n",
       "    <tr style=\"text-align: right;\">\n",
       "      <th></th>\n",
       "      <th>0</th>\n",
       "      <th>1</th>\n",
       "      <th>2</th>\n",
       "      <th>3</th>\n",
       "      <th>4</th>\n",
       "      <th>5</th>\n",
       "      <th>6</th>\n",
       "      <th>7</th>\n",
       "      <th>8</th>\n",
       "      <th>9</th>\n",
       "      <th>...</th>\n",
       "      <th>464</th>\n",
       "      <th>465</th>\n",
       "      <th>466</th>\n",
       "      <th>467</th>\n",
       "      <th>468</th>\n",
       "      <th>469</th>\n",
       "      <th>470</th>\n",
       "      <th>471</th>\n",
       "      <th>472</th>\n",
       "      <th>473</th>\n",
       "    </tr>\n",
       "  </thead>\n",
       "  <tbody>\n",
       "    <tr>\n",
       "      <th>0</th>\n",
       "      <td>2.759170</td>\n",
       "      <td>1.866732</td>\n",
       "      <td>1.996728</td>\n",
       "      <td>2.976990</td>\n",
       "      <td>2.810931</td>\n",
       "      <td>7.295244</td>\n",
       "      <td>4.145206</td>\n",
       "      <td>5.453339</td>\n",
       "      <td>5.457242</td>\n",
       "      <td>2.980649</td>\n",
       "      <td>...</td>\n",
       "      <td>2.136682</td>\n",
       "      <td>2.749541</td>\n",
       "      <td>2.157637</td>\n",
       "      <td>4.776975</td>\n",
       "      <td>2.166260</td>\n",
       "      <td>3.885952</td>\n",
       "      <td>1.991067</td>\n",
       "      <td>2.627946</td>\n",
       "      <td>5.080267</td>\n",
       "      <td>2.625510</td>\n",
       "    </tr>\n",
       "    <tr>\n",
       "      <th>1</th>\n",
       "      <td>2.803255</td>\n",
       "      <td>1.912655</td>\n",
       "      <td>1.958082</td>\n",
       "      <td>3.214768</td>\n",
       "      <td>2.767216</td>\n",
       "      <td>7.468374</td>\n",
       "      <td>6.002043</td>\n",
       "      <td>5.394676</td>\n",
       "      <td>5.492955</td>\n",
       "      <td>3.047853</td>\n",
       "      <td>...</td>\n",
       "      <td>2.192616</td>\n",
       "      <td>2.740751</td>\n",
       "      <td>1.874332</td>\n",
       "      <td>4.670727</td>\n",
       "      <td>2.187642</td>\n",
       "      <td>2.397994</td>\n",
       "      <td>2.014503</td>\n",
       "      <td>2.567451</td>\n",
       "      <td>5.029712</td>\n",
       "      <td>1.931703</td>\n",
       "    </tr>\n",
       "    <tr>\n",
       "      <th>2</th>\n",
       "      <td>2.788395</td>\n",
       "      <td>1.838095</td>\n",
       "      <td>1.916198</td>\n",
       "      <td>3.102780</td>\n",
       "      <td>2.819376</td>\n",
       "      <td>7.397983</td>\n",
       "      <td>4.087776</td>\n",
       "      <td>5.496922</td>\n",
       "      <td>5.490079</td>\n",
       "      <td>3.053795</td>\n",
       "      <td>...</td>\n",
       "      <td>2.114702</td>\n",
       "      <td>2.774444</td>\n",
       "      <td>2.119722</td>\n",
       "      <td>4.717732</td>\n",
       "      <td>2.190404</td>\n",
       "      <td>2.393993</td>\n",
       "      <td>2.017659</td>\n",
       "      <td>2.666470</td>\n",
       "      <td>5.081702</td>\n",
       "      <td>1.683916</td>\n",
       "    </tr>\n",
       "    <tr>\n",
       "      <th>3</th>\n",
       "      <td>2.779543</td>\n",
       "      <td>1.978593</td>\n",
       "      <td>2.007809</td>\n",
       "      <td>3.218792</td>\n",
       "      <td>2.819501</td>\n",
       "      <td>7.348711</td>\n",
       "      <td>4.212461</td>\n",
       "      <td>5.478083</td>\n",
       "      <td>5.452457</td>\n",
       "      <td>3.076757</td>\n",
       "      <td>...</td>\n",
       "      <td>1.779368</td>\n",
       "      <td>2.723620</td>\n",
       "      <td>2.068911</td>\n",
       "      <td>4.739473</td>\n",
       "      <td>2.220844</td>\n",
       "      <td>2.282309</td>\n",
       "      <td>3.004078</td>\n",
       "      <td>2.586292</td>\n",
       "      <td>5.020350</td>\n",
       "      <td>2.336787</td>\n",
       "    </tr>\n",
       "    <tr>\n",
       "      <th>4</th>\n",
       "      <td>2.847968</td>\n",
       "      <td>1.865420</td>\n",
       "      <td>1.885059</td>\n",
       "      <td>3.113307</td>\n",
       "      <td>2.719427</td>\n",
       "      <td>7.406642</td>\n",
       "      <td>4.111432</td>\n",
       "      <td>5.532706</td>\n",
       "      <td>5.426259</td>\n",
       "      <td>3.081644</td>\n",
       "      <td>...</td>\n",
       "      <td>2.159604</td>\n",
       "      <td>2.756416</td>\n",
       "      <td>2.048295</td>\n",
       "      <td>4.684746</td>\n",
       "      <td>2.196888</td>\n",
       "      <td>2.370861</td>\n",
       "      <td>1.994968</td>\n",
       "      <td>2.652353</td>\n",
       "      <td>5.129178</td>\n",
       "      <td>1.765934</td>\n",
       "    </tr>\n",
       "  </tbody>\n",
       "</table>\n",
       "<p>5 rows × 474 columns</p>\n",
       "</div>"
      ],
      "text/plain": [
       "        0         1         2         3         4         5         6    \\\n",
       "0  2.759170  1.866732  1.996728  2.976990  2.810931  7.295244  4.145206   \n",
       "1  2.803255  1.912655  1.958082  3.214768  2.767216  7.468374  6.002043   \n",
       "2  2.788395  1.838095  1.916198  3.102780  2.819376  7.397983  4.087776   \n",
       "3  2.779543  1.978593  2.007809  3.218792  2.819501  7.348711  4.212461   \n",
       "4  2.847968  1.865420  1.885059  3.113307  2.719427  7.406642  4.111432   \n",
       "\n",
       "        7         8         9    ...       464       465       466       467  \\\n",
       "0  5.453339  5.457242  2.980649  ...  2.136682  2.749541  2.157637  4.776975   \n",
       "1  5.394676  5.492955  3.047853  ...  2.192616  2.740751  1.874332  4.670727   \n",
       "2  5.496922  5.490079  3.053795  ...  2.114702  2.774444  2.119722  4.717732   \n",
       "3  5.478083  5.452457  3.076757  ...  1.779368  2.723620  2.068911  4.739473   \n",
       "4  5.532706  5.426259  3.081644  ...  2.159604  2.756416  2.048295  4.684746   \n",
       "\n",
       "        468       469       470       471       472       473  \n",
       "0  2.166260  3.885952  1.991067  2.627946  5.080267  2.625510  \n",
       "1  2.187642  2.397994  2.014503  2.567451  5.029712  1.931703  \n",
       "2  2.190404  2.393993  2.017659  2.666470  5.081702  1.683916  \n",
       "3  2.220844  2.282309  3.004078  2.586292  5.020350  2.336787  \n",
       "4  2.196888  2.370861  1.994968  2.652353  5.129178  1.765934  \n",
       "\n",
       "[5 rows x 474 columns]"
      ]
     },
     "execution_count": 14,
     "metadata": {},
     "output_type": "execute_result"
    }
   ],
   "source": [
    "# create a dataframe from the features array\n",
    "train_df = pd.DataFrame(data = train_data['des'])\n",
    "val_df = pd.DataFrame(data = val_data['des'])\n",
    "train_df.head()"
   ]
  },
  {
   "cell_type": "code",
   "execution_count": 15,
   "id": "a13871b0-fde6-4e4e-8d08-3003009fc5f1",
   "metadata": {
    "tags": []
   },
   "outputs": [
    {
     "data": {
      "text/html": [
       "<div>\n",
       "<style scoped>\n",
       "    .dataframe tbody tr th:only-of-type {\n",
       "        vertical-align: middle;\n",
       "    }\n",
       "\n",
       "    .dataframe tbody tr th {\n",
       "        vertical-align: top;\n",
       "    }\n",
       "\n",
       "    .dataframe thead th {\n",
       "        text-align: right;\n",
       "    }\n",
       "</style>\n",
       "<table border=\"1\" class=\"dataframe\">\n",
       "  <thead>\n",
       "    <tr style=\"text-align: right;\">\n",
       "      <th></th>\n",
       "      <th>0</th>\n",
       "    </tr>\n",
       "  </thead>\n",
       "  <tbody>\n",
       "    <tr>\n",
       "      <th>0</th>\n",
       "      <td>1.0</td>\n",
       "    </tr>\n",
       "    <tr>\n",
       "      <th>1</th>\n",
       "      <td>1.0</td>\n",
       "    </tr>\n",
       "    <tr>\n",
       "      <th>2</th>\n",
       "      <td>1.0</td>\n",
       "    </tr>\n",
       "    <tr>\n",
       "      <th>3</th>\n",
       "      <td>1.0</td>\n",
       "    </tr>\n",
       "    <tr>\n",
       "      <th>4</th>\n",
       "      <td>-1.0</td>\n",
       "    </tr>\n",
       "  </tbody>\n",
       "</table>\n",
       "</div>"
      ],
      "text/plain": [
       "     0\n",
       "0  1.0\n",
       "1  1.0\n",
       "2  1.0\n",
       "3  1.0\n",
       "4 -1.0"
      ]
     },
     "execution_count": 15,
     "metadata": {},
     "output_type": "execute_result"
    }
   ],
   "source": [
    "# create pandas series from the labels\n",
    "train_y = pd.DataFrame(data = train_data['lbls'])\n",
    "val_y = pd.DataFrame(data = val_data['lbls'])\n",
    "train_y.head()"
   ]
  },
  {
   "cell_type": "code",
   "execution_count": 16,
   "id": "c22db209-1e07-4456-bbdb-851109c15b0a",
   "metadata": {
    "tags": []
   },
   "outputs": [
    {
     "name": "stdout",
     "output_type": "stream",
     "text": [
      "Dmatrix shape: 500 x 474\n",
      "Dmatrix labels:  [ 1.  1.  1.  1. -1. -1. -1. -1.  1.  1.  1.  1. -1.  1.  1.  1. -1.  1.\n",
      "  1.  1.  1.  1. -1. -1.  1. -1. -1.  1.  1.  1. -1. -1. -1.  1.  1. -1.\n",
      "  1. -1.  1.  1.  1.  1.  1.  1. -1. -1.  1.  1.  1.  1.  1.  1. -1.  1.\n",
      "  1.  1.  1.  1.  1. -1. -1.  1. -1. -1.  1.  1.  1.  1. -1.  1.  1.  1.\n",
      "  1. -1. -1. -1.  1. -1.  1.  1. -1.  1.  1.  1.  1.  1.  1.  1. -1.  1.\n",
      " -1.  1.  1.  1.  1.  1.  1.  1.  1.  1.  1.  1.  1. -1. -1.  1.  1.  1.\n",
      "  1.  1.  1. -1.  1.  1.  1.  1.  1.  1. -1.  1.  1.  1.  1. -1.  1.  1.\n",
      "  1.  1.  1.  1. -1.  1. -1.  1.  1. -1.  1. -1.  1.  1. -1.  1.  1.  1.\n",
      "  1. -1. -1.  1.  1. -1.  1. -1. -1. -1.  1.  1.  1.  1.  1.  1. -1.  1.\n",
      "  1.  1.  1. -1.  1.  1.  1.  1. -1.  1.  1. -1.  1.  1. -1.  1.  1.  1.\n",
      " -1.  1. -1.  1.  1.  1. -1.  1.  1.  1.  1.  1.  1. -1.  1. -1.  1.  1.\n",
      "  1.  1.  1.  1.  1. -1.  1.  1.  1. -1.  1.  1. -1.  1. -1. -1.  1. -1.\n",
      " -1. -1. -1.  1.  1.  1. -1. -1.  1.  1. -1.  1. -1.  1.  1. -1. -1.  1.\n",
      " -1. -1.  1. -1. -1. -1.  1.  1.  1.  1.  1.  1.  1.  1.  1.  1. -1.  1.\n",
      "  1.  1.  1.  1.  1.  1.  1.  1.  1.  1.  1.  1.  1. -1. -1. -1.  1.  1.\n",
      " -1. -1. -1.  1.  1. -1.  1.  1.  1.  1.  1.  1. -1.  1.  1.  1. -1.  1.\n",
      "  1. -1.  1.  1.  1.  1. -1.  1.  1.  1.  1. -1.  1. -1.  1. -1.  1. -1.\n",
      " -1.  1.  1. -1. -1. -1. -1.  1.  1.  1.  1.  1. -1. -1.  1.  1.  1.  1.\n",
      " -1.  1.  1. -1.  1. -1.  1.  1.  1.  1.  1.  1.  1.  1.  1.  1.  1. -1.\n",
      "  1. -1. -1.  1.  1.  1. -1.  1.  1.  1. -1.  1.  1.  1. -1.  1. -1.  1.\n",
      "  1.  1.  1.  1.  1. -1.  1. -1.  1.  1.  1.  1.  1. -1. -1.  1.  1.  1.\n",
      "  1. -1. -1.  1. -1.  1.  1.  1.  1.  1.  1.  1.  1.  1.  1.  1. -1. -1.\n",
      "  1. -1. -1. -1. -1. -1. -1. -1.  1.  1.  1.  1.  1.  1.  1. -1.  1.  1.\n",
      "  1. -1.  1.  1.  1. -1.  1.  1.  1.  1. -1. -1. -1. -1.  1.  1.  1. -1.\n",
      "  1.  1. -1.  1.  1. -1.  1.  1.  1.  1.  1.  1.  1.  1.  1.  1.  1. -1.\n",
      " -1.  1.  1. -1.  1.  1.  1.  1. -1. -1. -1.  1.  1.  1.  1.  1.  1.  1.\n",
      "  1. -1.  1.  1. -1. -1.  1.  1.  1.  1.  1. -1. -1.  1.  1. -1.  1. -1.\n",
      "  1. -1.  1.  1.  1. -1. -1.  1.  1.  1. -1.  1.  1. -1.]\n"
     ]
    }
   ],
   "source": [
    "# create xgb Dmatrices from dataframes\n",
    "dtrain_from_df = xgb.DMatrix(train_df, train_y)\n",
    "print('Dmatrix shape: {} x {}'.format(dtrain_from_df.num_row(), dtrain_from_df.num_col()))\n",
    "print('Dmatrix labels: ', dtrain_from_df.get_label())"
   ]
  },
  {
   "cell_type": "code",
   "execution_count": 17,
   "id": "6acb2e7b-2720-4b7f-b08f-0681ae602d7e",
   "metadata": {
    "tags": []
   },
   "outputs": [],
   "source": [
    "# create xgb Dmatrices directly from numpy arrays\n",
    "dtrain = xgb.DMatrix(train_data['des'], label=(train_data['lbls']+1)//2)\n",
    "dval = xgb.DMatrix(val_data['des'], label=(val_data['lbls']+1)//2)"
   ]
  },
  {
   "cell_type": "code",
   "execution_count": 18,
   "id": "3160c81e-b2e7-48dc-b4ee-835a377fc6c3",
   "metadata": {
    "tags": []
   },
   "outputs": [
    {
     "name": "stdout",
     "output_type": "stream",
     "text": [
      "Train Dmatrix shape: 500 x 474\n",
      "Val Dmatrix shape: 100 x 474\n",
      "Train Dmatrix labels:  [1. 1. 1. 1. 0. 0. 0. 0. 1. 1. 1. 1. 0. 1. 1. 1. 0. 1. 1. 1. 1. 1. 0. 0.\n",
      " 1. 0. 0. 1. 1. 1. 0. 0. 0. 1. 1. 0. 1. 0. 1. 1. 1. 1. 1. 1. 0. 0. 1. 1.\n",
      " 1. 1. 1. 1. 0. 1. 1. 1. 1. 1. 1. 0. 0. 1. 0. 0. 1. 1. 1. 1. 0. 1. 1. 1.\n",
      " 1. 0. 0. 0. 1. 0. 1. 1. 0. 1. 1. 1. 1. 1. 1. 1. 0. 1. 0. 1. 1. 1. 1. 1.\n",
      " 1. 1. 1. 1. 1. 1. 1. 0. 0. 1. 1. 1. 1. 1. 1. 0. 1. 1. 1. 1. 1. 1. 0. 1.\n",
      " 1. 1. 1. 0. 1. 1. 1. 1. 1. 1. 0. 1. 0. 1. 1. 0. 1. 0. 1. 1. 0. 1. 1. 1.\n",
      " 1. 0. 0. 1. 1. 0. 1. 0. 0. 0. 1. 1. 1. 1. 1. 1. 0. 1. 1. 1. 1. 0. 1. 1.\n",
      " 1. 1. 0. 1. 1. 0. 1. 1. 0. 1. 1. 1. 0. 1. 0. 1. 1. 1. 0. 1. 1. 1. 1. 1.\n",
      " 1. 0. 1. 0. 1. 1. 1. 1. 1. 1. 1. 0. 1. 1. 1. 0. 1. 1. 0. 1. 0. 0. 1. 0.\n",
      " 0. 0. 0. 1. 1. 1. 0. 0. 1. 1. 0. 1. 0. 1. 1. 0. 0. 1. 0. 0. 1. 0. 0. 0.\n",
      " 1. 1. 1. 1. 1. 1. 1. 1. 1. 1. 0. 1. 1. 1. 1. 1. 1. 1. 1. 1. 1. 1. 1. 1.\n",
      " 1. 0. 0. 0. 1. 1. 0. 0. 0. 1. 1. 0. 1. 1. 1. 1. 1. 1. 0. 1. 1. 1. 0. 1.\n",
      " 1. 0. 1. 1. 1. 1. 0. 1. 1. 1. 1. 0. 1. 0. 1. 0. 1. 0. 0. 1. 1. 0. 0. 0.\n",
      " 0. 1. 1. 1. 1. 1. 0. 0. 1. 1. 1. 1. 0. 1. 1. 0. 1. 0. 1. 1. 1. 1. 1. 1.\n",
      " 1. 1. 1. 1. 1. 0. 1. 0. 0. 1. 1. 1. 0. 1. 1. 1. 0. 1. 1. 1. 0. 1. 0. 1.\n",
      " 1. 1. 1. 1. 1. 0. 1. 0. 1. 1. 1. 1. 1. 0. 0. 1. 1. 1. 1. 0. 0. 1. 0. 1.\n",
      " 1. 1. 1. 1. 1. 1. 1. 1. 1. 1. 0. 0. 1. 0. 0. 0. 0. 0. 0. 0. 1. 1. 1. 1.\n",
      " 1. 1. 1. 0. 1. 1. 1. 0. 1. 1. 1. 0. 1. 1. 1. 1. 0. 0. 0. 0. 1. 1. 1. 0.\n",
      " 1. 1. 0. 1. 1. 0. 1. 1. 1. 1. 1. 1. 1. 1. 1. 1. 1. 0. 0. 1. 1. 0. 1. 1.\n",
      " 1. 1. 0. 0. 0. 1. 1. 1. 1. 1. 1. 1. 1. 0. 1. 1. 0. 0. 1. 1. 1. 1. 1. 0.\n",
      " 0. 1. 1. 0. 1. 0. 1. 0. 1. 1. 1. 0. 0. 1. 1. 1. 0. 1. 1. 0.]\n",
      "Val Dmatrix labels:  [1. 1. 1. 0. 1. 1. 1. 1. 0. 1. 1. 1. 0. 1. 1. 1. 1. 0. 1. 0. 0. 0. 0. 1.\n",
      " 0. 1. 1. 1. 0. 0. 0. 0. 1. 1. 1. 0. 1. 1. 1. 1. 1. 0. 0. 1. 1. 1. 1. 1.\n",
      " 1. 0. 1. 1. 1. 1. 1. 1. 1. 0. 1. 0. 0. 1. 0. 1. 0. 1. 1. 1. 1. 1. 1. 1.\n",
      " 1. 0. 1. 0. 1. 0. 1. 1. 1. 1. 1. 1. 1. 1. 1. 0. 1. 1. 1. 0. 1. 0. 1. 1.\n",
      " 1. 1. 0. 1.]\n"
     ]
    }
   ],
   "source": [
    "print('Train Dmatrix shape: {} x {}'.format(dtrain.num_row(), dtrain.num_col()))\n",
    "print('Val Dmatrix shape: {} x {}'.format(dval.num_row(), dval.num_col()))\n",
    "print('Train Dmatrix labels: ', dtrain.get_label())\n",
    "print('Val Dmatrix labels: ', dval.get_label())"
   ]
  },
  {
   "cell_type": "markdown",
   "id": "4614b515-bd1e-4cf1-916d-894369d294d7",
   "metadata": {},
   "source": [
    "# Training"
   ]
  },
  {
   "cell_type": "code",
   "execution_count": 19,
   "id": "6d3a381d-51e0-42cc-9466-b2ea14c0b301",
   "metadata": {
    "tags": []
   },
   "outputs": [
    {
     "name": "stdout",
     "output_type": "stream",
     "text": [
      "[0]\tvalidation-logloss:0.58452\ttrain-logloss:0.50568\n",
      "[1]\tvalidation-logloss:0.54146\ttrain-logloss:0.39630\n",
      "[2]\tvalidation-logloss:0.53360\ttrain-logloss:0.31201\n",
      "[3]\tvalidation-logloss:0.47785\ttrain-logloss:0.26020\n",
      "[4]\tvalidation-logloss:0.44765\ttrain-logloss:0.20970\n",
      "[5]\tvalidation-logloss:0.45535\ttrain-logloss:0.17382\n",
      "[6]\tvalidation-logloss:0.44714\ttrain-logloss:0.14464\n",
      "[7]\tvalidation-logloss:0.45386\ttrain-logloss:0.12570\n",
      "[8]\tvalidation-logloss:0.43881\ttrain-logloss:0.10713\n",
      "[9]\tvalidation-logloss:0.43585\ttrain-logloss:0.09323\n",
      "[10]\tvalidation-logloss:0.44369\ttrain-logloss:0.08163\n",
      "[11]\tvalidation-logloss:0.42999\ttrain-logloss:0.07193\n",
      "[12]\tvalidation-logloss:0.44436\ttrain-logloss:0.06444\n",
      "[13]\tvalidation-logloss:0.44129\ttrain-logloss:0.05770\n",
      "[14]\tvalidation-logloss:0.44271\ttrain-logloss:0.05195\n",
      "[15]\tvalidation-logloss:0.44218\ttrain-logloss:0.04711\n",
      "[16]\tvalidation-logloss:0.44021\ttrain-logloss:0.04310\n",
      "[17]\tvalidation-logloss:0.43263\ttrain-logloss:0.04019\n",
      "[18]\tvalidation-logloss:0.43336\ttrain-logloss:0.03718\n",
      "[19]\tvalidation-logloss:0.42764\ttrain-logloss:0.03475\n"
     ]
    }
   ],
   "source": [
    "# Define hyperparameters\n",
    "params = {\"objective\": \"binary:logistic\", \"tree_method\": \"hist\"}\n",
    "evals = [(dval, \"validation\"), (dtrain, \"train\")]\n",
    "n = 20\n",
    "veval = 1\n",
    "\n",
    "model = xgb.train(\n",
    "    params=params,\n",
    "    dtrain=dtrain,\n",
    "    num_boost_round=n,\n",
    "    evals=evals,\n",
    "    verbose_eval=veval # print losses every ten rounds\n",
    ")"
   ]
  },
  {
   "cell_type": "code",
   "execution_count": 20,
   "id": "38d4a6cd-0608-47dd-89b1-2158bbaeac77",
   "metadata": {
    "tags": []
   },
   "outputs": [
    {
     "name": "stdout",
     "output_type": "stream",
     "text": [
      "[0]\tvalidation-logloss:0.58452\ttrain-logloss:0.50568\n",
      "[1]\tvalidation-logloss:0.54146\ttrain-logloss:0.39630\n",
      "[2]\tvalidation-logloss:0.53360\ttrain-logloss:0.31201\n",
      "[3]\tvalidation-logloss:0.47785\ttrain-logloss:0.26020\n",
      "[4]\tvalidation-logloss:0.44765\ttrain-logloss:0.20970\n",
      "[5]\tvalidation-logloss:0.45535\ttrain-logloss:0.17382\n",
      "[6]\tvalidation-logloss:0.44714\ttrain-logloss:0.14464\n",
      "[7]\tvalidation-logloss:0.45386\ttrain-logloss:0.12570\n",
      "[8]\tvalidation-logloss:0.43881\ttrain-logloss:0.10713\n",
      "[9]\tvalidation-logloss:0.43585\ttrain-logloss:0.09323\n",
      "[10]\tvalidation-logloss:0.44369\ttrain-logloss:0.08163\n",
      "[11]\tvalidation-logloss:0.42999\ttrain-logloss:0.07193\n",
      "[12]\tvalidation-logloss:0.44436\ttrain-logloss:0.06444\n",
      "[13]\tvalidation-logloss:0.44129\ttrain-logloss:0.05770\n",
      "[14]\tvalidation-logloss:0.44271\ttrain-logloss:0.05195\n",
      "[15]\tvalidation-logloss:0.44218\ttrain-logloss:0.04711\n",
      "[16]\tvalidation-logloss:0.44021\ttrain-logloss:0.04310\n",
      "[17]\tvalidation-logloss:0.43263\ttrain-logloss:0.04019\n",
      "[18]\tvalidation-logloss:0.43336\ttrain-logloss:0.03718\n",
      "[19]\tvalidation-logloss:0.42764\ttrain-logloss:0.03475\n"
     ]
    }
   ],
   "source": [
    "model2 = xgb.train(\n",
    "    params=params,\n",
    "    dtrain=dtrain,\n",
    "    num_boost_round=n,\n",
    "    evals=evals,\n",
    "    verbose_eval=veval, # print losses every ten rounds\n",
    "    early_stopping_rounds=1 # activate early stopping\n",
    ")"
   ]
  },
  {
   "cell_type": "code",
   "execution_count": 21,
   "id": "569b89c5-8d54-4e5a-8421-1e6a7c84a767",
   "metadata": {
    "tags": []
   },
   "outputs": [],
   "source": [
    "# cross-validation\n",
    "results = xgb.cv(\n",
    "    params=params, \n",
    "    dtrain=dtrain,\n",
    "    num_boost_round=n,\n",
    "    nfold=5,\n",
    "    metrics=[\"logloss\", \"auc\", \"error\"]\n",
    ")"
   ]
  },
  {
   "cell_type": "code",
   "execution_count": 22,
   "id": "6ebe2da3-3d30-4676-8b47-fcb161da29c5",
   "metadata": {
    "tags": []
   },
   "outputs": [
    {
     "data": {
      "text/html": [
       "<div>\n",
       "<style scoped>\n",
       "    .dataframe tbody tr th:only-of-type {\n",
       "        vertical-align: middle;\n",
       "    }\n",
       "\n",
       "    .dataframe tbody tr th {\n",
       "        vertical-align: top;\n",
       "    }\n",
       "\n",
       "    .dataframe thead th {\n",
       "        text-align: right;\n",
       "    }\n",
       "</style>\n",
       "<table border=\"1\" class=\"dataframe\">\n",
       "  <thead>\n",
       "    <tr style=\"text-align: right;\">\n",
       "      <th></th>\n",
       "      <th>train-logloss-mean</th>\n",
       "      <th>train-logloss-std</th>\n",
       "      <th>train-auc-mean</th>\n",
       "      <th>train-auc-std</th>\n",
       "      <th>train-error-mean</th>\n",
       "      <th>train-error-std</th>\n",
       "      <th>test-logloss-mean</th>\n",
       "      <th>test-logloss-std</th>\n",
       "      <th>test-auc-mean</th>\n",
       "      <th>test-auc-std</th>\n",
       "      <th>test-error-mean</th>\n",
       "      <th>test-error-std</th>\n",
       "    </tr>\n",
       "  </thead>\n",
       "  <tbody>\n",
       "    <tr>\n",
       "      <th>0</th>\n",
       "      <td>0.517488</td>\n",
       "      <td>0.007037</td>\n",
       "      <td>0.958555</td>\n",
       "      <td>0.008912</td>\n",
       "      <td>0.0855</td>\n",
       "      <td>0.013910</td>\n",
       "      <td>0.597818</td>\n",
       "      <td>0.018402</td>\n",
       "      <td>0.770254</td>\n",
       "      <td>0.043862</td>\n",
       "      <td>0.270</td>\n",
       "      <td>0.052154</td>\n",
       "    </tr>\n",
       "    <tr>\n",
       "      <th>1</th>\n",
       "      <td>0.402013</td>\n",
       "      <td>0.006084</td>\n",
       "      <td>0.992731</td>\n",
       "      <td>0.002673</td>\n",
       "      <td>0.0345</td>\n",
       "      <td>0.002915</td>\n",
       "      <td>0.557608</td>\n",
       "      <td>0.016179</td>\n",
       "      <td>0.776070</td>\n",
       "      <td>0.026771</td>\n",
       "      <td>0.250</td>\n",
       "      <td>0.035777</td>\n",
       "    </tr>\n",
       "    <tr>\n",
       "      <th>2</th>\n",
       "      <td>0.315603</td>\n",
       "      <td>0.006837</td>\n",
       "      <td>0.998921</td>\n",
       "      <td>0.000504</td>\n",
       "      <td>0.0175</td>\n",
       "      <td>0.005244</td>\n",
       "      <td>0.524179</td>\n",
       "      <td>0.029972</td>\n",
       "      <td>0.791803</td>\n",
       "      <td>0.042354</td>\n",
       "      <td>0.230</td>\n",
       "      <td>0.048580</td>\n",
       "    </tr>\n",
       "    <tr>\n",
       "      <th>3</th>\n",
       "      <td>0.250724</td>\n",
       "      <td>0.005568</td>\n",
       "      <td>0.999871</td>\n",
       "      <td>0.000162</td>\n",
       "      <td>0.0070</td>\n",
       "      <td>0.004301</td>\n",
       "      <td>0.512341</td>\n",
       "      <td>0.045402</td>\n",
       "      <td>0.797235</td>\n",
       "      <td>0.046004</td>\n",
       "      <td>0.256</td>\n",
       "      <td>0.049234</td>\n",
       "    </tr>\n",
       "    <tr>\n",
       "      <th>4</th>\n",
       "      <td>0.203055</td>\n",
       "      <td>0.006131</td>\n",
       "      <td>0.999994</td>\n",
       "      <td>0.000012</td>\n",
       "      <td>0.0020</td>\n",
       "      <td>0.001871</td>\n",
       "      <td>0.498204</td>\n",
       "      <td>0.045781</td>\n",
       "      <td>0.802969</td>\n",
       "      <td>0.044859</td>\n",
       "      <td>0.242</td>\n",
       "      <td>0.038678</td>\n",
       "    </tr>\n",
       "  </tbody>\n",
       "</table>\n",
       "</div>"
      ],
      "text/plain": [
       "   train-logloss-mean  train-logloss-std  train-auc-mean  train-auc-std  \\\n",
       "0            0.517488           0.007037        0.958555       0.008912   \n",
       "1            0.402013           0.006084        0.992731       0.002673   \n",
       "2            0.315603           0.006837        0.998921       0.000504   \n",
       "3            0.250724           0.005568        0.999871       0.000162   \n",
       "4            0.203055           0.006131        0.999994       0.000012   \n",
       "\n",
       "   train-error-mean  train-error-std  test-logloss-mean  test-logloss-std  \\\n",
       "0            0.0855         0.013910           0.597818          0.018402   \n",
       "1            0.0345         0.002915           0.557608          0.016179   \n",
       "2            0.0175         0.005244           0.524179          0.029972   \n",
       "3            0.0070         0.004301           0.512341          0.045402   \n",
       "4            0.0020         0.001871           0.498204          0.045781   \n",
       "\n",
       "   test-auc-mean  test-auc-std  test-error-mean  test-error-std  \n",
       "0       0.770254      0.043862            0.270        0.052154  \n",
       "1       0.776070      0.026771            0.250        0.035777  \n",
       "2       0.791803      0.042354            0.230        0.048580  \n",
       "3       0.797235      0.046004            0.256        0.049234  \n",
       "4       0.802969      0.044859            0.242        0.038678  "
      ]
     },
     "execution_count": 22,
     "metadata": {},
     "output_type": "execute_result"
    }
   ],
   "source": [
    "results.head()"
   ]
  },
  {
   "cell_type": "code",
   "execution_count": 23,
   "id": "b2149a58-88d3-4d52-953a-04e1b6895de8",
   "metadata": {
    "tags": []
   },
   "outputs": [],
   "source": [
    "# hyperparameter tuning with cross-validation"
   ]
  },
  {
   "cell_type": "code",
   "execution_count": null,
   "id": "1d67aef5-9f75-48d3-96a4-5da2dfd438d0",
   "metadata": {},
   "outputs": [],
   "source": []
  },
  {
   "cell_type": "code",
   "execution_count": null,
   "id": "e6f1248c-ffcc-41f8-af97-3c444402cc88",
   "metadata": {},
   "outputs": [],
   "source": []
  },
  {
   "cell_type": "code",
   "execution_count": null,
   "id": "5454dba1-380c-4d75-89af-332fc25f2ea4",
   "metadata": {},
   "outputs": [],
   "source": []
  },
  {
   "cell_type": "markdown",
   "id": "7546cbc3-5c1b-4e2c-9e45-69a30e107bea",
   "metadata": {},
   "source": [
    "# Validation"
   ]
  },
  {
   "cell_type": "code",
   "execution_count": 24,
   "id": "8688c389-d301-4da7-8cee-ea7f85844467",
   "metadata": {
    "tags": []
   },
   "outputs": [],
   "source": [
    "preds = model.predict(dval)"
   ]
  },
  {
   "cell_type": "code",
   "execution_count": 25,
   "id": "bacd73a4-f9ee-4e03-8f72-65a4d4713b84",
   "metadata": {
    "tags": []
   },
   "outputs": [
    {
     "name": "stdout",
     "output_type": "stream",
     "text": [
      "preds tyep:  <class 'numpy.ndarray'>\n",
      "preds shape:  (100,)\n",
      "preds:\n",
      " [0.47663748 0.94244725 0.98170704 0.7972087  0.9287665  0.960873\n",
      " 0.9545406  0.35761297 0.49313495 0.9769782  0.9952113  0.9840507\n",
      " 0.14112465 0.14745219 0.9381952  0.99269146 0.9527813  0.83531755\n",
      " 0.9938188  0.49600095 0.04484522 0.05221152 0.97403073 0.9522482\n",
      " 0.34073365 0.9891644  0.99474394 0.9664982  0.22732837 0.8417644\n",
      " 0.52974635 0.8020295  0.9766158  0.41180912 0.08316467 0.40646678\n",
      " 0.9560419  0.6481282  0.9558457  0.5314252  0.18986082 0.05385704\n",
      " 0.6073898  0.9349979  0.9644912  0.74844396 0.8818388  0.9886568\n",
      " 0.9659773  0.8421823  0.9158364  0.9862714  0.9880265  0.5920399\n",
      " 0.94447607 0.7483455  0.26013133 0.7000498  0.98514986 0.06564195\n",
      " 0.34448907 0.9704428  0.284082   0.47689733 0.8079233  0.77404004\n",
      " 0.8858664  0.8267679  0.9794819  0.9759866  0.98327786 0.99400043\n",
      " 0.98869586 0.78295493 0.98811173 0.03939851 0.8620954  0.22117925\n",
      " 0.9417132  0.8161011  0.9311473  0.9804186  0.93364334 0.9813083\n",
      " 0.98078007 0.8551569  0.6621557  0.17139134 0.9820098  0.8852347\n",
      " 0.9817966  0.81283206 0.994991   0.02091201 0.9816713  0.2872248\n",
      " 0.979349   0.9727585  0.61114746 0.88826495]\n"
     ]
    }
   ],
   "source": [
    "print('preds tyep: ', type(preds))\n",
    "print('preds shape: ', preds.shape)\n",
    "print('preds:\\n',preds)"
   ]
  },
  {
   "cell_type": "code",
   "execution_count": 31,
   "id": "1cfab0e5-0dee-4794-ac43-1e82b765366a",
   "metadata": {
    "tags": []
   },
   "outputs": [
    {
     "name": "stdout",
     "output_type": "stream",
     "text": [
      "Thresholded preds:\n",
      " [0 1 1 1 1 1 1 0 0 1 1 1 0 0 1 1 1 1 1 0 0 0 1 1 0 1 1 1 0 1 1 1 1 0 0 0 1\n",
      " 1 1 1 0 0 1 1 1 1 1 1 1 1 1 1 1 1 1 1 0 1 1 0 0 1 0 0 1 1 1 1 1 1 1 1 1 1\n",
      " 1 0 1 0 1 1 1 1 1 1 1 1 1 0 1 1 1 1 1 0 1 0 1 1 1 1]\n",
      "Ground-truth val. labels:\n",
      " [1. 1. 1. 0. 1. 1. 1. 1. 0. 1. 1. 1. 0. 1. 1. 1. 1. 0. 1. 0. 0. 0. 0. 1.\n",
      " 0. 1. 1. 1. 0. 0. 0. 0. 1. 1. 1. 0. 1. 1. 1. 1. 1. 0. 0. 1. 1. 1. 1. 1.\n",
      " 1. 0. 1. 1. 1. 1. 1. 1. 1. 0. 1. 0. 0. 1. 0. 1. 0. 1. 1. 1. 1. 1. 1. 1.\n",
      " 1. 0. 1. 0. 1. 0. 1. 1. 1. 1. 1. 1. 1. 1. 1. 0. 1. 1. 1. 0. 1. 0. 1. 1.\n",
      " 1. 1. 0. 1.]\n",
      "Val. accuracy:  0.78\n",
      "Val. error rate:  0.22\n"
     ]
    }
   ],
   "source": [
    "preds_th = (preds > 0.5).astype(int)\n",
    "gt_lbls = (val_data['lbls']+1)//2\n",
    "acc = np.sum(preds_th == gt_lbls)/len(gt_lbls)\n",
    "err = np.sum(preds_th != gt_lbls)/len(gt_lbls)\n",
    "\n",
    "\n",
    "print('Thresholded preds:\\n', preds_th)\n",
    "print('Ground-truth val. labels:\\n', gt_lbls)\n",
    "print('Val. accuracy: ', acc)\n",
    "print('Val. error rate: ', err)"
   ]
  },
  {
   "cell_type": "code",
   "execution_count": null,
   "id": "93b97c79-5fd7-455f-b926-f1cc824d465d",
   "metadata": {},
   "outputs": [],
   "source": []
  },
  {
   "cell_type": "code",
   "execution_count": null,
   "id": "89fbd5d3-8505-4297-8e62-482c99bda0b3",
   "metadata": {},
   "outputs": [],
   "source": []
  },
  {
   "cell_type": "code",
   "execution_count": null,
   "id": "0e0b7d4b-6305-4f95-87ae-7a39dab9f6ea",
   "metadata": {},
   "outputs": [],
   "source": []
  },
  {
   "cell_type": "code",
   "execution_count": null,
   "id": "c967d043-b4b6-437a-accd-c352e5e002b9",
   "metadata": {},
   "outputs": [],
   "source": []
  },
  {
   "cell_type": "code",
   "execution_count": null,
   "id": "7d90621b-05e4-4170-8417-8549d3f230a5",
   "metadata": {},
   "outputs": [],
   "source": []
  },
  {
   "cell_type": "code",
   "execution_count": null,
   "id": "089be423-8495-4618-8a7b-342c2b527318",
   "metadata": {},
   "outputs": [],
   "source": []
  }
 ],
 "metadata": {
  "kernelspec": {
   "display_name": "Python 3 (ipykernel)",
   "language": "python",
   "name": "python3"
  },
  "language_info": {
   "codemirror_mode": {
    "name": "ipython",
    "version": 3
   },
   "file_extension": ".py",
   "mimetype": "text/x-python",
   "name": "python",
   "nbconvert_exporter": "python",
   "pygments_lexer": "ipython3",
   "version": "3.9.13"
  }
 },
 "nbformat": 4,
 "nbformat_minor": 5
}
