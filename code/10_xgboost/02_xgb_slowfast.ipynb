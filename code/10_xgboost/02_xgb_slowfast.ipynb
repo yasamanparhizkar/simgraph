{
 "cells": [
  {
   "cell_type": "code",
   "execution_count": 4,
   "id": "0867c5c8-6da6-4009-8f2f-5873890d25be",
   "metadata": {
    "tags": []
   },
   "outputs": [],
   "source": [
    "import xgboost as xgb\n",
    "import seaborn as sns\n",
    "import pandas as pd\n",
    "import numpy as np\n",
    "import matplotlib.pyplot as plt\n",
    "import warnings\n",
    "\n",
    "# add the path to my packages to system paths so they can be imported\n",
    "import sys\n",
    "sys.path.append('/home/yasamanparhizkar/Documents/yorku/01_thesis/code/my_packages')\n",
    "# sys.path.append('F:\\MAScThesis\\code\\my_packages')\n",
    "# sys.path.append('/home/yasamanparhizkar/Documents/thesis/code/my_packages')\n",
    "\n",
    "import dataprocess.data_handler_01 as dh\n",
    "warnings.filterwarnings(\"ignore\")"
   ]
  },
  {
   "cell_type": "code",
   "execution_count": 5,
   "id": "56aec63d-177d-4615-9b33-a6f1c800061e",
   "metadata": {
    "tags": []
   },
   "outputs": [
    {
     "data": {
      "text/html": [
       "<div>\n",
       "<style scoped>\n",
       "    .dataframe tbody tr th:only-of-type {\n",
       "        vertical-align: middle;\n",
       "    }\n",
       "\n",
       "    .dataframe tbody tr th {\n",
       "        vertical-align: top;\n",
       "    }\n",
       "\n",
       "    .dataframe thead th {\n",
       "        text-align: right;\n",
       "    }\n",
       "</style>\n",
       "<table border=\"1\" class=\"dataframe\">\n",
       "  <thead>\n",
       "    <tr style=\"text-align: right;\">\n",
       "      <th></th>\n",
       "      <th>carat</th>\n",
       "      <th>cut</th>\n",
       "      <th>color</th>\n",
       "      <th>clarity</th>\n",
       "      <th>depth</th>\n",
       "      <th>table</th>\n",
       "      <th>price</th>\n",
       "      <th>x</th>\n",
       "      <th>y</th>\n",
       "      <th>z</th>\n",
       "    </tr>\n",
       "  </thead>\n",
       "  <tbody>\n",
       "    <tr>\n",
       "      <th>0</th>\n",
       "      <td>0.23</td>\n",
       "      <td>Ideal</td>\n",
       "      <td>E</td>\n",
       "      <td>SI2</td>\n",
       "      <td>61.5</td>\n",
       "      <td>55.0</td>\n",
       "      <td>326</td>\n",
       "      <td>3.95</td>\n",
       "      <td>3.98</td>\n",
       "      <td>2.43</td>\n",
       "    </tr>\n",
       "    <tr>\n",
       "      <th>1</th>\n",
       "      <td>0.21</td>\n",
       "      <td>Premium</td>\n",
       "      <td>E</td>\n",
       "      <td>SI1</td>\n",
       "      <td>59.8</td>\n",
       "      <td>61.0</td>\n",
       "      <td>326</td>\n",
       "      <td>3.89</td>\n",
       "      <td>3.84</td>\n",
       "      <td>2.31</td>\n",
       "    </tr>\n",
       "    <tr>\n",
       "      <th>2</th>\n",
       "      <td>0.23</td>\n",
       "      <td>Good</td>\n",
       "      <td>E</td>\n",
       "      <td>VS1</td>\n",
       "      <td>56.9</td>\n",
       "      <td>65.0</td>\n",
       "      <td>327</td>\n",
       "      <td>4.05</td>\n",
       "      <td>4.07</td>\n",
       "      <td>2.31</td>\n",
       "    </tr>\n",
       "    <tr>\n",
       "      <th>3</th>\n",
       "      <td>0.29</td>\n",
       "      <td>Premium</td>\n",
       "      <td>I</td>\n",
       "      <td>VS2</td>\n",
       "      <td>62.4</td>\n",
       "      <td>58.0</td>\n",
       "      <td>334</td>\n",
       "      <td>4.20</td>\n",
       "      <td>4.23</td>\n",
       "      <td>2.63</td>\n",
       "    </tr>\n",
       "    <tr>\n",
       "      <th>4</th>\n",
       "      <td>0.31</td>\n",
       "      <td>Good</td>\n",
       "      <td>J</td>\n",
       "      <td>SI2</td>\n",
       "      <td>63.3</td>\n",
       "      <td>58.0</td>\n",
       "      <td>335</td>\n",
       "      <td>4.34</td>\n",
       "      <td>4.35</td>\n",
       "      <td>2.75</td>\n",
       "    </tr>\n",
       "  </tbody>\n",
       "</table>\n",
       "</div>"
      ],
      "text/plain": [
       "   carat      cut color clarity  depth  table  price     x     y     z\n",
       "0   0.23    Ideal     E     SI2   61.5   55.0    326  3.95  3.98  2.43\n",
       "1   0.21  Premium     E     SI1   59.8   61.0    326  3.89  3.84  2.31\n",
       "2   0.23     Good     E     VS1   56.9   65.0    327  4.05  4.07  2.31\n",
       "3   0.29  Premium     I     VS2   62.4   58.0    334  4.20  4.23  2.63\n",
       "4   0.31     Good     J     SI2   63.3   58.0    335  4.34  4.35  2.75"
      ]
     },
     "execution_count": 5,
     "metadata": {},
     "output_type": "execute_result"
    }
   ],
   "source": [
    "diamonds = sns.load_dataset(\"diamonds\")\n",
    "diamonds.head()"
   ]
  },
  {
   "cell_type": "code",
   "execution_count": 6,
   "id": "be52166f-fe8f-420e-a139-07e01e45a0d1",
   "metadata": {
    "tags": []
   },
   "outputs": [
    {
     "data": {
      "text/plain": [
       "pandas.core.frame.DataFrame"
      ]
     },
     "execution_count": 6,
     "metadata": {},
     "output_type": "execute_result"
    }
   ],
   "source": [
    "type(diamonds)"
   ]
  },
  {
   "cell_type": "code",
   "execution_count": 7,
   "id": "6d1f51c9-c8c4-4e16-92c1-09a53b403a46",
   "metadata": {
    "tags": []
   },
   "outputs": [
    {
     "name": "stdout",
     "output_type": "stream",
     "text": [
      "       carat        cut color clarity  depth  table  price     x     y     z\n",
      "0       0.23      Ideal     E     SI2   61.5   55.0    326  3.95  3.98  2.43\n",
      "1       0.21    Premium     E     SI1   59.8   61.0    326  3.89  3.84  2.31\n",
      "2       0.23       Good     E     VS1   56.9   65.0    327  4.05  4.07  2.31\n",
      "3       0.29    Premium     I     VS2   62.4   58.0    334  4.20  4.23  2.63\n",
      "4       0.31       Good     J     SI2   63.3   58.0    335  4.34  4.35  2.75\n",
      "...      ...        ...   ...     ...    ...    ...    ...   ...   ...   ...\n",
      "53935   0.72      Ideal     D     SI1   60.8   57.0   2757  5.75  5.76  3.50\n",
      "53936   0.72       Good     D     SI1   63.1   55.0   2757  5.69  5.75  3.61\n",
      "53937   0.70  Very Good     D     SI1   62.8   60.0   2757  5.66  5.68  3.56\n",
      "53938   0.86    Premium     H     SI2   61.0   58.0   2757  6.15  6.12  3.74\n",
      "53939   0.75      Ideal     D     SI2   62.2   55.0   2757  5.83  5.87  3.64\n",
      "\n",
      "[53940 rows x 10 columns]\n"
     ]
    }
   ],
   "source": [
    "print(diamonds)"
   ]
  },
  {
   "cell_type": "markdown",
   "id": "47152145-12e2-49b5-93c8-3fa6611a41fb",
   "metadata": {},
   "source": [
    "# Create a pandas dataframe from fish movie features"
   ]
  },
  {
   "cell_type": "code",
   "execution_count": 8,
   "id": "d6d6aaa7-8ade-46c1-a1f8-4917b7ee24ae",
   "metadata": {
    "tags": []
   },
   "outputs": [
    {
     "name": "stdout",
     "output_type": "stream",
     "text": [
      "grouped_data.shape =  (297, 1141, 1)\n"
     ]
    }
   ],
   "source": [
    "# load all spike data from file\n",
    "spikes_dp = '../../data/original_files/spikes.csv'\n",
    "binned_data = np.loadtxt(spikes_dp, delimiter=',')\n",
    "binned_data = binned_data.reshape(binned_data.shape[0], 1141, 113)\n",
    "binned_data = binned_data * 2 - 1     # turn labels from 0,1 to -1,1\n",
    "\n",
    "I_order_10 = [54, 35, 10, 60, 74, 9, 61, 56, 91, 104]\n",
    "\n",
    "# group all neurons together\n",
    "grouped_data = np.zeros((297, 1141, 1))\n",
    "for trial in range(297):\n",
    "    for frame in range(1141):\n",
    "        grouped_data[trial, frame, :] = 2 * int((binned_data[trial, frame, :] == 1).any()) - 1\n",
    "        \n",
    "print('grouped_data.shape = ', grouped_data.shape)"
   ]
  },
  {
   "cell_type": "code",
   "execution_count": 9,
   "id": "535b19f6-a2d3-4854-84e4-6c37a04f9fde",
   "metadata": {
    "tags": []
   },
   "outputs": [
    {
     "name": "stdout",
     "output_type": "stream",
     "text": [
      "# training datapoints:  500\n",
      "# validation datapoints:  100\n",
      "features array shape (NxDf):  (500, 474)\n",
      "a few rows of the training feature array:\n",
      " [[2.7729063 1.8631061 1.9133807 ... 2.6633606 5.0908637 2.8500423]\n",
      " [2.8124714 1.8130212 1.8859538 ... 2.5953789 5.0389576 3.9456177]\n",
      " [2.760902  1.9105086 1.982268  ... 2.6250732 5.0870233 1.9213662]\n",
      " [2.7647893 1.9004955 2.0001106 ... 2.604283  4.988652  1.6667227]\n",
      " [2.8000011 1.9580019 1.8764307 ... 2.6044118 5.1214724 1.7195414]]\n"
     ]
    }
   ],
   "source": [
    "# use only the second trial\n",
    "ind_min = 1*1141+0\n",
    "ind_max = 2*1141-1\n",
    "\n",
    "def transform(fv):\n",
    "    \"\"\"\n",
    "    Transform to be applied on feature vectors.\n",
    "    \n",
    "    Input: fv\n",
    "    fv - 1xDf torch tensor representing a feature vector\n",
    "    \n",
    "    Output: fvv\n",
    "    fvv - 1xDf' torch tensor representing the transformed feature vector\n",
    "    \"\"\"\n",
    "    \n",
    "    # for faster run and less memory usage\n",
    "    fvv = fv[:, ::10]\n",
    "    \n",
    "    # for numerical stability during GD\n",
    "    # fvv = fvv * 10\n",
    "    \n",
    "    return fvv\n",
    "\n",
    "data_params = {'func': dh.datapoint_torch, 'features_dp': '../../data/features/slowfast/slowfast_4732/', \\\n",
    "               'spike_data': grouped_data, 'group_id': 0, 'transform': transform}\n",
    "\n",
    "train_num = 500\n",
    "val_num = 100\n",
    "seed = None\n",
    "\n",
    "# create training and validation datasets\n",
    "train_num, val_num, train_data, val_data = dh.random_train_val(train_num, val_num, ind_min, ind_max, data_params, seed)\n",
    "\n",
    "print('# training datapoints: ', train_num)\n",
    "print('# validation datapoints: ', val_num)\n",
    "print('features array shape (NxDf): ', train_data['des'].shape)\n",
    "print('a few rows of the training feature array:\\n',train_data['des'][:5])"
   ]
  },
  {
   "cell_type": "code",
   "execution_count": 10,
   "id": "fbae14a4-7beb-40c8-a82f-1fafd2337ee4",
   "metadata": {
    "tags": []
   },
   "outputs": [
    {
     "data": {
      "text/html": [
       "<div>\n",
       "<style scoped>\n",
       "    .dataframe tbody tr th:only-of-type {\n",
       "        vertical-align: middle;\n",
       "    }\n",
       "\n",
       "    .dataframe tbody tr th {\n",
       "        vertical-align: top;\n",
       "    }\n",
       "\n",
       "    .dataframe thead th {\n",
       "        text-align: right;\n",
       "    }\n",
       "</style>\n",
       "<table border=\"1\" class=\"dataframe\">\n",
       "  <thead>\n",
       "    <tr style=\"text-align: right;\">\n",
       "      <th></th>\n",
       "      <th>0</th>\n",
       "      <th>1</th>\n",
       "      <th>2</th>\n",
       "      <th>3</th>\n",
       "      <th>4</th>\n",
       "      <th>5</th>\n",
       "      <th>6</th>\n",
       "      <th>7</th>\n",
       "      <th>8</th>\n",
       "      <th>9</th>\n",
       "      <th>...</th>\n",
       "      <th>464</th>\n",
       "      <th>465</th>\n",
       "      <th>466</th>\n",
       "      <th>467</th>\n",
       "      <th>468</th>\n",
       "      <th>469</th>\n",
       "      <th>470</th>\n",
       "      <th>471</th>\n",
       "      <th>472</th>\n",
       "      <th>473</th>\n",
       "    </tr>\n",
       "  </thead>\n",
       "  <tbody>\n",
       "    <tr>\n",
       "      <th>0</th>\n",
       "      <td>2.772906</td>\n",
       "      <td>1.863106</td>\n",
       "      <td>1.913381</td>\n",
       "      <td>3.041141</td>\n",
       "      <td>2.811475</td>\n",
       "      <td>7.394444</td>\n",
       "      <td>4.027784</td>\n",
       "      <td>5.446352</td>\n",
       "      <td>5.462409</td>\n",
       "      <td>3.120490</td>\n",
       "      <td>...</td>\n",
       "      <td>3.928102</td>\n",
       "      <td>7.577425</td>\n",
       "      <td>2.168741</td>\n",
       "      <td>4.612000</td>\n",
       "      <td>2.208712</td>\n",
       "      <td>5.237152</td>\n",
       "      <td>4.845102</td>\n",
       "      <td>2.663361</td>\n",
       "      <td>5.090864</td>\n",
       "      <td>2.850042</td>\n",
       "    </tr>\n",
       "    <tr>\n",
       "      <th>1</th>\n",
       "      <td>2.812471</td>\n",
       "      <td>1.813021</td>\n",
       "      <td>1.885954</td>\n",
       "      <td>3.140523</td>\n",
       "      <td>2.846694</td>\n",
       "      <td>7.458174</td>\n",
       "      <td>4.050166</td>\n",
       "      <td>5.450582</td>\n",
       "      <td>5.401821</td>\n",
       "      <td>3.692590</td>\n",
       "      <td>...</td>\n",
       "      <td>2.795425</td>\n",
       "      <td>3.832484</td>\n",
       "      <td>2.227428</td>\n",
       "      <td>4.710648</td>\n",
       "      <td>2.184887</td>\n",
       "      <td>2.849273</td>\n",
       "      <td>3.836781</td>\n",
       "      <td>2.595379</td>\n",
       "      <td>5.038958</td>\n",
       "      <td>3.945618</td>\n",
       "    </tr>\n",
       "    <tr>\n",
       "      <th>2</th>\n",
       "      <td>2.760902</td>\n",
       "      <td>1.910509</td>\n",
       "      <td>1.982268</td>\n",
       "      <td>3.089719</td>\n",
       "      <td>2.766230</td>\n",
       "      <td>7.346116</td>\n",
       "      <td>4.204958</td>\n",
       "      <td>5.519397</td>\n",
       "      <td>5.470970</td>\n",
       "      <td>3.035503</td>\n",
       "      <td>...</td>\n",
       "      <td>2.151127</td>\n",
       "      <td>2.690541</td>\n",
       "      <td>1.995130</td>\n",
       "      <td>4.764640</td>\n",
       "      <td>2.182679</td>\n",
       "      <td>2.367900</td>\n",
       "      <td>1.956508</td>\n",
       "      <td>2.625073</td>\n",
       "      <td>5.087023</td>\n",
       "      <td>1.921366</td>\n",
       "    </tr>\n",
       "    <tr>\n",
       "      <th>3</th>\n",
       "      <td>2.764789</td>\n",
       "      <td>1.900496</td>\n",
       "      <td>2.000111</td>\n",
       "      <td>3.300560</td>\n",
       "      <td>2.789424</td>\n",
       "      <td>7.466080</td>\n",
       "      <td>6.823022</td>\n",
       "      <td>5.366567</td>\n",
       "      <td>5.522698</td>\n",
       "      <td>3.059856</td>\n",
       "      <td>...</td>\n",
       "      <td>2.307855</td>\n",
       "      <td>2.787922</td>\n",
       "      <td>2.246354</td>\n",
       "      <td>4.753386</td>\n",
       "      <td>2.238392</td>\n",
       "      <td>2.398641</td>\n",
       "      <td>1.865403</td>\n",
       "      <td>2.604283</td>\n",
       "      <td>4.988652</td>\n",
       "      <td>1.666723</td>\n",
       "    </tr>\n",
       "    <tr>\n",
       "      <th>4</th>\n",
       "      <td>2.800001</td>\n",
       "      <td>1.958002</td>\n",
       "      <td>1.876431</td>\n",
       "      <td>3.177871</td>\n",
       "      <td>2.831660</td>\n",
       "      <td>7.387920</td>\n",
       "      <td>4.051704</td>\n",
       "      <td>4.782259</td>\n",
       "      <td>5.445812</td>\n",
       "      <td>2.999777</td>\n",
       "      <td>...</td>\n",
       "      <td>2.220134</td>\n",
       "      <td>2.756427</td>\n",
       "      <td>2.385973</td>\n",
       "      <td>4.765700</td>\n",
       "      <td>2.164595</td>\n",
       "      <td>2.410181</td>\n",
       "      <td>2.021915</td>\n",
       "      <td>2.604412</td>\n",
       "      <td>5.121472</td>\n",
       "      <td>1.719541</td>\n",
       "    </tr>\n",
       "  </tbody>\n",
       "</table>\n",
       "<p>5 rows × 474 columns</p>\n",
       "</div>"
      ],
      "text/plain": [
       "        0         1         2         3         4         5         6    \\\n",
       "0  2.772906  1.863106  1.913381  3.041141  2.811475  7.394444  4.027784   \n",
       "1  2.812471  1.813021  1.885954  3.140523  2.846694  7.458174  4.050166   \n",
       "2  2.760902  1.910509  1.982268  3.089719  2.766230  7.346116  4.204958   \n",
       "3  2.764789  1.900496  2.000111  3.300560  2.789424  7.466080  6.823022   \n",
       "4  2.800001  1.958002  1.876431  3.177871  2.831660  7.387920  4.051704   \n",
       "\n",
       "        7         8         9    ...       464       465       466       467  \\\n",
       "0  5.446352  5.462409  3.120490  ...  3.928102  7.577425  2.168741  4.612000   \n",
       "1  5.450582  5.401821  3.692590  ...  2.795425  3.832484  2.227428  4.710648   \n",
       "2  5.519397  5.470970  3.035503  ...  2.151127  2.690541  1.995130  4.764640   \n",
       "3  5.366567  5.522698  3.059856  ...  2.307855  2.787922  2.246354  4.753386   \n",
       "4  4.782259  5.445812  2.999777  ...  2.220134  2.756427  2.385973  4.765700   \n",
       "\n",
       "        468       469       470       471       472       473  \n",
       "0  2.208712  5.237152  4.845102  2.663361  5.090864  2.850042  \n",
       "1  2.184887  2.849273  3.836781  2.595379  5.038958  3.945618  \n",
       "2  2.182679  2.367900  1.956508  2.625073  5.087023  1.921366  \n",
       "3  2.238392  2.398641  1.865403  2.604283  4.988652  1.666723  \n",
       "4  2.164595  2.410181  2.021915  2.604412  5.121472  1.719541  \n",
       "\n",
       "[5 rows x 474 columns]"
      ]
     },
     "execution_count": 10,
     "metadata": {},
     "output_type": "execute_result"
    }
   ],
   "source": [
    "# create a dataframe from the features array\n",
    "train_df = pd.DataFrame(data = train_data['des'])\n",
    "val_df = pd.DataFrame(data = val_data['des'])\n",
    "train_df.head()"
   ]
  },
  {
   "cell_type": "code",
   "execution_count": 11,
   "id": "a13871b0-fde6-4e4e-8d08-3003009fc5f1",
   "metadata": {
    "tags": []
   },
   "outputs": [
    {
     "data": {
      "text/html": [
       "<div>\n",
       "<style scoped>\n",
       "    .dataframe tbody tr th:only-of-type {\n",
       "        vertical-align: middle;\n",
       "    }\n",
       "\n",
       "    .dataframe tbody tr th {\n",
       "        vertical-align: top;\n",
       "    }\n",
       "\n",
       "    .dataframe thead th {\n",
       "        text-align: right;\n",
       "    }\n",
       "</style>\n",
       "<table border=\"1\" class=\"dataframe\">\n",
       "  <thead>\n",
       "    <tr style=\"text-align: right;\">\n",
       "      <th></th>\n",
       "      <th>0</th>\n",
       "    </tr>\n",
       "  </thead>\n",
       "  <tbody>\n",
       "    <tr>\n",
       "      <th>0</th>\n",
       "      <td>1.0</td>\n",
       "    </tr>\n",
       "    <tr>\n",
       "      <th>1</th>\n",
       "      <td>1.0</td>\n",
       "    </tr>\n",
       "    <tr>\n",
       "      <th>2</th>\n",
       "      <td>-1.0</td>\n",
       "    </tr>\n",
       "    <tr>\n",
       "      <th>3</th>\n",
       "      <td>-1.0</td>\n",
       "    </tr>\n",
       "    <tr>\n",
       "      <th>4</th>\n",
       "      <td>1.0</td>\n",
       "    </tr>\n",
       "  </tbody>\n",
       "</table>\n",
       "</div>"
      ],
      "text/plain": [
       "     0\n",
       "0  1.0\n",
       "1  1.0\n",
       "2 -1.0\n",
       "3 -1.0\n",
       "4  1.0"
      ]
     },
     "execution_count": 11,
     "metadata": {},
     "output_type": "execute_result"
    }
   ],
   "source": [
    "# create pandas series from the labels\n",
    "train_y = pd.DataFrame(data = train_data['lbls'])\n",
    "val_y = pd.DataFrame(data = val_data['lbls'])\n",
    "train_y.head()"
   ]
  },
  {
   "cell_type": "code",
   "execution_count": 12,
   "id": "c22db209-1e07-4456-bbdb-851109c15b0a",
   "metadata": {
    "tags": []
   },
   "outputs": [
    {
     "name": "stdout",
     "output_type": "stream",
     "text": [
      "Dmatrix shape: 500 x 474\n",
      "Dmatrix labels:  [ 1.  1. -1. -1.  1.  1. -1.  1.  1.  1.  1.  1. -1.  1.  1.  1.  1.  1.\n",
      "  1. -1.  1.  1. -1.  1.  1.  1.  1.  1.  1.  1.  1.  1.  1.  1.  1. -1.\n",
      "  1.  1. -1.  1.  1.  1.  1.  1.  1. -1.  1.  1.  1.  1.  1.  1.  1.  1.\n",
      "  1. -1.  1.  1.  1.  1.  1.  1.  1. -1. -1.  1.  1. -1.  1. -1.  1.  1.\n",
      " -1.  1.  1.  1.  1.  1.  1.  1. -1. -1.  1.  1. -1.  1. -1. -1. -1. -1.\n",
      "  1. -1.  1. -1.  1. -1.  1. -1. -1.  1.  1.  1.  1.  1.  1. -1.  1.  1.\n",
      "  1. -1. -1. -1.  1.  1. -1.  1. -1. -1. -1.  1.  1.  1. -1.  1.  1. -1.\n",
      "  1.  1.  1.  1.  1. -1.  1.  1.  1.  1.  1.  1.  1. -1.  1.  1.  1.  1.\n",
      "  1.  1.  1. -1. -1.  1. -1.  1.  1.  1.  1. -1. -1.  1. -1. -1.  1.  1.\n",
      "  1.  1. -1.  1.  1. -1.  1.  1. -1. -1.  1. -1. -1.  1. -1. -1.  1.  1.\n",
      " -1. -1. -1.  1.  1. -1.  1.  1. -1.  1.  1.  1. -1.  1.  1.  1.  1.  1.\n",
      " -1.  1. -1.  1.  1.  1.  1. -1.  1.  1.  1.  1.  1.  1.  1.  1.  1.  1.\n",
      " -1. -1. -1.  1. -1.  1.  1. -1.  1.  1.  1.  1. -1.  1.  1. -1. -1.  1.\n",
      " -1.  1.  1.  1.  1.  1.  1. -1.  1.  1.  1.  1.  1.  1. -1. -1. -1.  1.\n",
      "  1.  1. -1.  1. -1.  1. -1.  1.  1.  1.  1.  1. -1.  1.  1. -1. -1.  1.\n",
      "  1. -1.  1.  1.  1. -1. -1.  1.  1.  1. -1.  1.  1. -1.  1.  1. -1. -1.\n",
      "  1.  1.  1. -1.  1.  1. -1.  1. -1.  1. -1.  1.  1.  1.  1.  1.  1.  1.\n",
      " -1.  1.  1.  1.  1. -1. -1.  1.  1.  1.  1. -1. -1. -1.  1. -1.  1. -1.\n",
      " -1.  1.  1. -1.  1. -1.  1. -1.  1.  1.  1. -1. -1.  1. -1. -1. -1. -1.\n",
      " -1.  1. -1.  1.  1.  1.  1.  1.  1.  1.  1.  1. -1.  1. -1. -1.  1.  1.\n",
      " -1.  1.  1. -1.  1. -1. -1.  1.  1. -1. -1.  1. -1.  1.  1.  1. -1.  1.\n",
      "  1.  1.  1.  1. -1.  1.  1. -1.  1. -1.  1. -1. -1.  1.  1.  1.  1.  1.\n",
      " -1.  1.  1.  1.  1. -1.  1.  1. -1.  1.  1.  1. -1. -1. -1. -1.  1.  1.\n",
      "  1.  1.  1.  1.  1. -1.  1.  1. -1.  1. -1. -1.  1.  1.  1.  1. -1.  1.\n",
      "  1. -1.  1.  1.  1. -1.  1.  1.  1. -1.  1.  1. -1.  1.  1.  1.  1.  1.\n",
      "  1.  1.  1.  1.  1. -1.  1.  1.  1.  1.  1.  1. -1. -1. -1.  1.  1.  1.\n",
      "  1.  1. -1.  1. -1.  1.  1.  1.  1.  1.  1. -1. -1.  1. -1. -1. -1.  1.\n",
      " -1. -1.  1.  1.  1.  1. -1. -1. -1.  1.  1. -1.  1.  1.]\n"
     ]
    }
   ],
   "source": [
    "# create xgb Dmatrices from dataframes\n",
    "dtrain_from_df = xgb.DMatrix(train_df, train_y)\n",
    "print('Dmatrix shape: {} x {}'.format(dtrain_from_df.num_row(), dtrain_from_df.num_col()))\n",
    "print('Dmatrix labels: ', dtrain_from_df.get_label())"
   ]
  },
  {
   "cell_type": "code",
   "execution_count": 26,
   "id": "6acb2e7b-2720-4b7f-b08f-0681ae602d7e",
   "metadata": {
    "tags": []
   },
   "outputs": [],
   "source": [
    "# create xgb Dmatrices directly from numpy arrays\n",
    "dtrain = xgb.DMatrix(train_data['des'], label=(train_data['lbls']+1)//2)\n",
    "dval = xgb.DMatrix(val_data['des'], label=(val_data['lbls']+1)//2)"
   ]
  },
  {
   "cell_type": "code",
   "execution_count": 27,
   "id": "3160c81e-b2e7-48dc-b4ee-835a377fc6c3",
   "metadata": {
    "tags": []
   },
   "outputs": [
    {
     "name": "stdout",
     "output_type": "stream",
     "text": [
      "Train Dmatrix shape: 500 x 474\n",
      "Val Dmatrix shape: 100 x 474\n",
      "Train Dmatrix labels:  [1. 1. 0. 0. 1. 1. 0. 1. 1. 1. 1. 1. 0. 1. 1. 1. 1. 1. 1. 0. 1. 1. 0. 1.\n",
      " 1. 1. 1. 1. 1. 1. 1. 1. 1. 1. 1. 0. 1. 1. 0. 1. 1. 1. 1. 1. 1. 0. 1. 1.\n",
      " 1. 1. 1. 1. 1. 1. 1. 0. 1. 1. 1. 1. 1. 1. 1. 0. 0. 1. 1. 0. 1. 0. 1. 1.\n",
      " 0. 1. 1. 1. 1. 1. 1. 1. 0. 0. 1. 1. 0. 1. 0. 0. 0. 0. 1. 0. 1. 0. 1. 0.\n",
      " 1. 0. 0. 1. 1. 1. 1. 1. 1. 0. 1. 1. 1. 0. 0. 0. 1. 1. 0. 1. 0. 0. 0. 1.\n",
      " 1. 1. 0. 1. 1. 0. 1. 1. 1. 1. 1. 0. 1. 1. 1. 1. 1. 1. 1. 0. 1. 1. 1. 1.\n",
      " 1. 1. 1. 0. 0. 1. 0. 1. 1. 1. 1. 0. 0. 1. 0. 0. 1. 1. 1. 1. 0. 1. 1. 0.\n",
      " 1. 1. 0. 0. 1. 0. 0. 1. 0. 0. 1. 1. 0. 0. 0. 1. 1. 0. 1. 1. 0. 1. 1. 1.\n",
      " 0. 1. 1. 1. 1. 1. 0. 1. 0. 1. 1. 1. 1. 0. 1. 1. 1. 1. 1. 1. 1. 1. 1. 1.\n",
      " 0. 0. 0. 1. 0. 1. 1. 0. 1. 1. 1. 1. 0. 1. 1. 0. 0. 1. 0. 1. 1. 1. 1. 1.\n",
      " 1. 0. 1. 1. 1. 1. 1. 1. 0. 0. 0. 1. 1. 1. 0. 1. 0. 1. 0. 1. 1. 1. 1. 1.\n",
      " 0. 1. 1. 0. 0. 1. 1. 0. 1. 1. 1. 0. 0. 1. 1. 1. 0. 1. 1. 0. 1. 1. 0. 0.\n",
      " 1. 1. 1. 0. 1. 1. 0. 1. 0. 1. 0. 1. 1. 1. 1. 1. 1. 1. 0. 1. 1. 1. 1. 0.\n",
      " 0. 1. 1. 1. 1. 0. 0. 0. 1. 0. 1. 0. 0. 1. 1. 0. 1. 0. 1. 0. 1. 1. 1. 0.\n",
      " 0. 1. 0. 0. 0. 0. 0. 1. 0. 1. 1. 1. 1. 1. 1. 1. 1. 1. 0. 1. 0. 0. 1. 1.\n",
      " 0. 1. 1. 0. 1. 0. 0. 1. 1. 0. 0. 1. 0. 1. 1. 1. 0. 1. 1. 1. 1. 1. 0. 1.\n",
      " 1. 0. 1. 0. 1. 0. 0. 1. 1. 1. 1. 1. 0. 1. 1. 1. 1. 0. 1. 1. 0. 1. 1. 1.\n",
      " 0. 0. 0. 0. 1. 1. 1. 1. 1. 1. 1. 0. 1. 1. 0. 1. 0. 0. 1. 1. 1. 1. 0. 1.\n",
      " 1. 0. 1. 1. 1. 0. 1. 1. 1. 0. 1. 1. 0. 1. 1. 1. 1. 1. 1. 1. 1. 1. 1. 0.\n",
      " 1. 1. 1. 1. 1. 1. 0. 0. 0. 1. 1. 1. 1. 1. 0. 1. 0. 1. 1. 1. 1. 1. 1. 0.\n",
      " 0. 1. 0. 0. 0. 1. 0. 0. 1. 1. 1. 1. 0. 0. 0. 1. 1. 0. 1. 1.]\n",
      "Val Dmatrix labels:  [1. 1. 1. 0. 0. 0. 1. 0. 0. 0. 1. 1. 1. 1. 1. 0. 0. 0. 1. 1. 1. 1. 1. 1.\n",
      " 1. 1. 1. 0. 1. 0. 1. 1. 0. 1. 1. 1. 1. 1. 1. 1. 1. 1. 1. 1. 0. 1. 1. 1.\n",
      " 1. 1. 0. 1. 0. 1. 1. 1. 1. 1. 1. 0. 1. 0. 1. 0. 0. 0. 1. 0. 1. 1. 1. 1.\n",
      " 1. 1. 0. 1. 1. 1. 1. 1. 0. 1. 1. 0. 0. 1. 1. 1. 1. 1. 1. 0. 0. 0. 0. 1.\n",
      " 1. 0. 1. 1.]\n"
     ]
    }
   ],
   "source": [
    "print('Train Dmatrix shape: {} x {}'.format(dtrain.num_row(), dtrain.num_col()))\n",
    "print('Val Dmatrix shape: {} x {}'.format(dval.num_row(), dval.num_col()))\n",
    "print('Train Dmatrix labels: ', dtrain.get_label())\n",
    "print('Val Dmatrix labels: ', dval.get_label())"
   ]
  },
  {
   "cell_type": "markdown",
   "id": "4614b515-bd1e-4cf1-916d-894369d294d7",
   "metadata": {},
   "source": [
    "# Training"
   ]
  },
  {
   "cell_type": "code",
   "execution_count": 28,
   "id": "6d3a381d-51e0-42cc-9466-b2ea14c0b301",
   "metadata": {
    "tags": []
   },
   "outputs": [
    {
     "name": "stdout",
     "output_type": "stream",
     "text": [
      "[0]\ttrain-logloss:0.51791\tvalidation-logloss:0.58426\n",
      "[1]\ttrain-logloss:0.41573\tvalidation-logloss:0.52100\n",
      "[2]\ttrain-logloss:0.34269\tvalidation-logloss:0.49901\n",
      "[3]\ttrain-logloss:0.27600\tvalidation-logloss:0.46496\n",
      "[4]\ttrain-logloss:0.23084\tvalidation-logloss:0.46228\n",
      "[5]\ttrain-logloss:0.19491\tvalidation-logloss:0.43869\n",
      "[6]\ttrain-logloss:0.16608\tvalidation-logloss:0.43089\n",
      "[7]\ttrain-logloss:0.13953\tvalidation-logloss:0.42889\n",
      "[8]\ttrain-logloss:0.12093\tvalidation-logloss:0.41069\n",
      "[9]\ttrain-logloss:0.10580\tvalidation-logloss:0.39907\n",
      "[10]\ttrain-logloss:0.09175\tvalidation-logloss:0.40084\n",
      "[11]\ttrain-logloss:0.08038\tvalidation-logloss:0.40522\n",
      "[12]\ttrain-logloss:0.07248\tvalidation-logloss:0.40027\n",
      "[13]\ttrain-logloss:0.06550\tvalidation-logloss:0.39856\n",
      "[14]\ttrain-logloss:0.05828\tvalidation-logloss:0.39732\n",
      "[15]\ttrain-logloss:0.05333\tvalidation-logloss:0.38540\n",
      "[16]\ttrain-logloss:0.04861\tvalidation-logloss:0.37860\n",
      "[17]\ttrain-logloss:0.04448\tvalidation-logloss:0.38167\n",
      "[18]\ttrain-logloss:0.04086\tvalidation-logloss:0.38648\n",
      "[19]\ttrain-logloss:0.03766\tvalidation-logloss:0.38379\n"
     ]
    }
   ],
   "source": [
    "# Define hyperparameters\n",
    "params = {\"objective\": \"binary:logistic\", \"tree_method\": \"hist\"}\n",
    "evals = [(dtrain, \"train\"), (dval, \"validation\")]\n",
    "n = 20\n",
    "veval = 1\n",
    "\n",
    "model = xgb.train(\n",
    "    params=params,\n",
    "    dtrain=dtrain,\n",
    "    num_boost_round=n,\n",
    "    evals=evals,\n",
    "    verbose_eval=veval # print losses every ten rounds\n",
    ")"
   ]
  },
  {
   "cell_type": "code",
   "execution_count": 29,
   "id": "38d4a6cd-0608-47dd-89b1-2158bbaeac77",
   "metadata": {
    "tags": []
   },
   "outputs": [
    {
     "name": "stdout",
     "output_type": "stream",
     "text": [
      "[0]\ttrain-logloss:0.51791\tvalidation-logloss:0.58426\n",
      "[1]\ttrain-logloss:0.41573\tvalidation-logloss:0.52100\n",
      "[2]\ttrain-logloss:0.34269\tvalidation-logloss:0.49901\n",
      "[3]\ttrain-logloss:0.27600\tvalidation-logloss:0.46496\n",
      "[4]\ttrain-logloss:0.23084\tvalidation-logloss:0.46228\n",
      "[5]\ttrain-logloss:0.19491\tvalidation-logloss:0.43869\n",
      "[6]\ttrain-logloss:0.16608\tvalidation-logloss:0.43089\n",
      "[7]\ttrain-logloss:0.13953\tvalidation-logloss:0.42889\n",
      "[8]\ttrain-logloss:0.12093\tvalidation-logloss:0.41069\n",
      "[9]\ttrain-logloss:0.10580\tvalidation-logloss:0.39907\n"
     ]
    }
   ],
   "source": [
    "model2 = xgb.train(\n",
    "    params=params,\n",
    "    dtrain=dtrain,\n",
    "    num_boost_round=n,\n",
    "    evals=evals,\n",
    "    verbose_eval=veval, # print losses every ten rounds\n",
    "    early_stopping_rounds=1 # activate early stopping\n",
    ")"
   ]
  },
  {
   "cell_type": "code",
   "execution_count": 17,
   "id": "569b89c5-8d54-4e5a-8421-1e6a7c84a767",
   "metadata": {
    "tags": []
   },
   "outputs": [],
   "source": [
    "# cross-validation\n",
    "results = xgb.cv(\n",
    "    params=params, \n",
    "    dtrain=dtrain,\n",
    "    num_boost_round=n,\n",
    "    nfold=5,\n",
    "    metrics=[\"logloss\", \"auc\", \"error\"]\n",
    ")"
   ]
  },
  {
   "cell_type": "code",
   "execution_count": 18,
   "id": "6ebe2da3-3d30-4676-8b47-fcb161da29c5",
   "metadata": {
    "tags": []
   },
   "outputs": [
    {
     "data": {
      "text/html": [
       "<div>\n",
       "<style scoped>\n",
       "    .dataframe tbody tr th:only-of-type {\n",
       "        vertical-align: middle;\n",
       "    }\n",
       "\n",
       "    .dataframe tbody tr th {\n",
       "        vertical-align: top;\n",
       "    }\n",
       "\n",
       "    .dataframe thead th {\n",
       "        text-align: right;\n",
       "    }\n",
       "</style>\n",
       "<table border=\"1\" class=\"dataframe\">\n",
       "  <thead>\n",
       "    <tr style=\"text-align: right;\">\n",
       "      <th></th>\n",
       "      <th>train-logloss-mean</th>\n",
       "      <th>train-logloss-std</th>\n",
       "      <th>train-auc-mean</th>\n",
       "      <th>train-auc-std</th>\n",
       "      <th>train-error-mean</th>\n",
       "      <th>train-error-std</th>\n",
       "      <th>test-logloss-mean</th>\n",
       "      <th>test-logloss-std</th>\n",
       "      <th>test-auc-mean</th>\n",
       "      <th>test-auc-std</th>\n",
       "      <th>test-error-mean</th>\n",
       "      <th>test-error-std</th>\n",
       "    </tr>\n",
       "  </thead>\n",
       "  <tbody>\n",
       "    <tr>\n",
       "      <th>0</th>\n",
       "      <td>0.527998</td>\n",
       "      <td>0.008323</td>\n",
       "      <td>0.939569</td>\n",
       "      <td>0.012334</td>\n",
       "      <td>0.0980</td>\n",
       "      <td>0.014089</td>\n",
       "      <td>0.603141</td>\n",
       "      <td>0.006944</td>\n",
       "      <td>0.776672</td>\n",
       "      <td>0.017540</td>\n",
       "      <td>0.284</td>\n",
       "      <td>0.022450</td>\n",
       "    </tr>\n",
       "    <tr>\n",
       "      <th>1</th>\n",
       "      <td>0.405826</td>\n",
       "      <td>0.013011</td>\n",
       "      <td>0.991397</td>\n",
       "      <td>0.005998</td>\n",
       "      <td>0.0315</td>\n",
       "      <td>0.010320</td>\n",
       "      <td>0.564429</td>\n",
       "      <td>0.020061</td>\n",
       "      <td>0.776912</td>\n",
       "      <td>0.029266</td>\n",
       "      <td>0.282</td>\n",
       "      <td>0.047074</td>\n",
       "    </tr>\n",
       "    <tr>\n",
       "      <th>2</th>\n",
       "      <td>0.331604</td>\n",
       "      <td>0.015128</td>\n",
       "      <td>0.995950</td>\n",
       "      <td>0.002263</td>\n",
       "      <td>0.0290</td>\n",
       "      <td>0.017720</td>\n",
       "      <td>0.535799</td>\n",
       "      <td>0.030611</td>\n",
       "      <td>0.793539</td>\n",
       "      <td>0.033492</td>\n",
       "      <td>0.280</td>\n",
       "      <td>0.026077</td>\n",
       "    </tr>\n",
       "    <tr>\n",
       "      <th>3</th>\n",
       "      <td>0.267322</td>\n",
       "      <td>0.011732</td>\n",
       "      <td>0.998926</td>\n",
       "      <td>0.001091</td>\n",
       "      <td>0.0110</td>\n",
       "      <td>0.007517</td>\n",
       "      <td>0.515636</td>\n",
       "      <td>0.034470</td>\n",
       "      <td>0.802633</td>\n",
       "      <td>0.031440</td>\n",
       "      <td>0.256</td>\n",
       "      <td>0.034986</td>\n",
       "    </tr>\n",
       "    <tr>\n",
       "      <th>4</th>\n",
       "      <td>0.217024</td>\n",
       "      <td>0.011000</td>\n",
       "      <td>0.999861</td>\n",
       "      <td>0.000278</td>\n",
       "      <td>0.0090</td>\n",
       "      <td>0.006633</td>\n",
       "      <td>0.507862</td>\n",
       "      <td>0.041716</td>\n",
       "      <td>0.808083</td>\n",
       "      <td>0.034415</td>\n",
       "      <td>0.260</td>\n",
       "      <td>0.047749</td>\n",
       "    </tr>\n",
       "  </tbody>\n",
       "</table>\n",
       "</div>"
      ],
      "text/plain": [
       "   train-logloss-mean  train-logloss-std  train-auc-mean  train-auc-std  \\\n",
       "0            0.527998           0.008323        0.939569       0.012334   \n",
       "1            0.405826           0.013011        0.991397       0.005998   \n",
       "2            0.331604           0.015128        0.995950       0.002263   \n",
       "3            0.267322           0.011732        0.998926       0.001091   \n",
       "4            0.217024           0.011000        0.999861       0.000278   \n",
       "\n",
       "   train-error-mean  train-error-std  test-logloss-mean  test-logloss-std  \\\n",
       "0            0.0980         0.014089           0.603141          0.006944   \n",
       "1            0.0315         0.010320           0.564429          0.020061   \n",
       "2            0.0290         0.017720           0.535799          0.030611   \n",
       "3            0.0110         0.007517           0.515636          0.034470   \n",
       "4            0.0090         0.006633           0.507862          0.041716   \n",
       "\n",
       "   test-auc-mean  test-auc-std  test-error-mean  test-error-std  \n",
       "0       0.776672      0.017540            0.284        0.022450  \n",
       "1       0.776912      0.029266            0.282        0.047074  \n",
       "2       0.793539      0.033492            0.280        0.026077  \n",
       "3       0.802633      0.031440            0.256        0.034986  \n",
       "4       0.808083      0.034415            0.260        0.047749  "
      ]
     },
     "execution_count": 18,
     "metadata": {},
     "output_type": "execute_result"
    }
   ],
   "source": [
    "results.head()"
   ]
  },
  {
   "cell_type": "code",
   "execution_count": 19,
   "id": "b2149a58-88d3-4d52-953a-04e1b6895de8",
   "metadata": {
    "tags": []
   },
   "outputs": [],
   "source": [
    "# hyperparameter tuning with cross-validation"
   ]
  },
  {
   "cell_type": "code",
   "execution_count": null,
   "id": "1d67aef5-9f75-48d3-96a4-5da2dfd438d0",
   "metadata": {},
   "outputs": [],
   "source": []
  },
  {
   "cell_type": "code",
   "execution_count": null,
   "id": "e6f1248c-ffcc-41f8-af97-3c444402cc88",
   "metadata": {},
   "outputs": [],
   "source": []
  },
  {
   "cell_type": "code",
   "execution_count": null,
   "id": "5454dba1-380c-4d75-89af-332fc25f2ea4",
   "metadata": {},
   "outputs": [],
   "source": []
  },
  {
   "cell_type": "markdown",
   "id": "7546cbc3-5c1b-4e2c-9e45-69a30e107bea",
   "metadata": {},
   "source": [
    "# Validation"
   ]
  },
  {
   "cell_type": "code",
   "execution_count": 20,
   "id": "8688c389-d301-4da7-8cee-ea7f85844467",
   "metadata": {
    "tags": []
   },
   "outputs": [],
   "source": [
    "preds = model.predict(dval)"
   ]
  },
  {
   "cell_type": "code",
   "execution_count": 21,
   "id": "bacd73a4-f9ee-4e03-8f72-65a4d4713b84",
   "metadata": {
    "tags": []
   },
   "outputs": [
    {
     "name": "stdout",
     "output_type": "stream",
     "text": [
      "preds tyep:  <class 'numpy.ndarray'>\n",
      "preds shape:  (100,)\n",
      "preds:\n",
      " [0.98732704 0.9288599  0.9557566  0.5451001  0.47584033 0.3360091\n",
      " 0.9935661  0.86174184 0.49405178 0.29101077 0.9143418  0.9815122\n",
      " 0.9290346  0.9873871  0.9906393  0.2296215  0.17710997 0.31748277\n",
      " 0.99316907 0.988572   0.9877247  0.14112504 0.9881995  0.9696082\n",
      " 0.96265197 0.5410623  0.9894628  0.13617423 0.9099501  0.12043644\n",
      " 0.39894688 0.964254   0.5300371  0.90366435 0.9769682  0.9929409\n",
      " 0.670899   0.9937115  0.7998163  0.8300792  0.43466127 0.93031186\n",
      " 0.99357396 0.86708593 0.04462078 0.9808313  0.9801255  0.95304394\n",
      " 0.7245376  0.67800903 0.40775347 0.77498406 0.16576342 0.987356\n",
      " 0.9928266  0.97498995 0.92509234 0.8906021  0.985321   0.07395781\n",
      " 0.9718248  0.15721591 0.4915147  0.26945016 0.11178396 0.22358966\n",
      " 0.97746265 0.27508605 0.5438842  0.30199614 0.58005863 0.9577517\n",
      " 0.9595013  0.9265643  0.8284727  0.8130608  0.9082726  0.98409355\n",
      " 0.9809847  0.7262435  0.9291444  0.96298283 0.9816891  0.65658176\n",
      " 0.5380575  0.97184414 0.88140666 0.9818604  0.9150292  0.99131244\n",
      " 0.11410581 0.69476455 0.83568114 0.97990364 0.07886956 0.9816176\n",
      " 0.99196726 0.3191171  0.47485757 0.235457  ]\n"
     ]
    }
   ],
   "source": [
    "print('preds tyep: ', type(preds))\n",
    "print('preds shape: ', preds.shape)\n",
    "print('preds:\\n',preds)"
   ]
  },
  {
   "cell_type": "code",
   "execution_count": 22,
   "id": "1cfab0e5-0dee-4794-ac43-1e82b765366a",
   "metadata": {
    "tags": []
   },
   "outputs": [
    {
     "name": "stdout",
     "output_type": "stream",
     "text": [
      "Thresholded preds:\n",
      " [1 1 1 1 0 0 1 1 0 0 1 1 1 1 1 0 0 0 1 1 1 0 1 1 1 1 1 0 1 0 0 1 1 1 1 1 1\n",
      " 1 1 1 0 1 1 1 0 1 1 1 1 1 0 1 0 1 1 1 1 1 1 0 1 0 0 0 0 0 1 0 1 0 1 1 1 1\n",
      " 1 1 1 1 1 1 1 1 1 1 1 1 1 1 1 1 0 1 1 1 0 1 1 0 0 0]\n",
      "Ground-truth val. labels:\n",
      " [1. 1. 1. 0. 0. 0. 1. 0. 0. 0. 1. 1. 1. 1. 1. 0. 0. 0. 1. 1. 1. 1. 1. 1.\n",
      " 1. 1. 1. 0. 1. 0. 1. 1. 0. 1. 1. 1. 1. 1. 1. 1. 1. 1. 1. 1. 0. 1. 1. 1.\n",
      " 1. 1. 0. 1. 0. 1. 1. 1. 1. 1. 1. 0. 1. 0. 1. 0. 0. 0. 1. 0. 1. 1. 1. 1.\n",
      " 1. 1. 0. 1. 1. 1. 1. 1. 0. 1. 1. 0. 0. 1. 1. 1. 1. 1. 1. 0. 0. 0. 0. 1.\n",
      " 1. 0. 1. 1.]\n",
      "Val. accuracy:  0.82\n",
      "Val. error rate:  0.18\n"
     ]
    }
   ],
   "source": [
    "preds_th = (preds > 0.5).astype(int)\n",
    "gt_lbls = (val_data['lbls']+1)//2\n",
    "acc = sum(preds_th == gt_lbls)/len(gt_lbls)\n",
    "err = sum(preds_th != gt_lbls)/len(gt_lbls)\n",
    "\n",
    "\n",
    "print('Thresholded preds:\\n', preds_th)\n",
    "print('Ground-truth val. labels:\\n', gt_lbls)\n",
    "print('Val. accuracy: ', acc)\n",
    "print('Val. error rate: ', err)"
   ]
  },
  {
   "cell_type": "code",
   "execution_count": null,
   "id": "be267bf4-9466-485a-8cd4-6ed096302267",
   "metadata": {},
   "outputs": [],
   "source": []
  },
  {
   "cell_type": "code",
   "execution_count": null,
   "id": "101783ed-3a56-447c-80cb-1822ff065fc7",
   "metadata": {},
   "outputs": [],
   "source": []
  },
  {
   "cell_type": "code",
   "execution_count": null,
   "id": "93b97c79-5fd7-455f-b926-f1cc824d465d",
   "metadata": {},
   "outputs": [],
   "source": []
  },
  {
   "cell_type": "code",
   "execution_count": null,
   "id": "89fbd5d3-8505-4297-8e62-482c99bda0b3",
   "metadata": {},
   "outputs": [],
   "source": []
  },
  {
   "cell_type": "code",
   "execution_count": null,
   "id": "0e0b7d4b-6305-4f95-87ae-7a39dab9f6ea",
   "metadata": {},
   "outputs": [],
   "source": []
  },
  {
   "cell_type": "code",
   "execution_count": null,
   "id": "c967d043-b4b6-437a-accd-c352e5e002b9",
   "metadata": {},
   "outputs": [],
   "source": []
  },
  {
   "cell_type": "code",
   "execution_count": null,
   "id": "7d90621b-05e4-4170-8417-8549d3f230a5",
   "metadata": {},
   "outputs": [],
   "source": []
  },
  {
   "cell_type": "code",
   "execution_count": null,
   "id": "089be423-8495-4618-8a7b-342c2b527318",
   "metadata": {},
   "outputs": [],
   "source": []
  }
 ],
 "metadata": {
  "kernelspec": {
   "display_name": "Python 3 (ipykernel)",
   "language": "python",
   "name": "python3"
  },
  "language_info": {
   "codemirror_mode": {
    "name": "ipython",
    "version": 3
   },
   "file_extension": ".py",
   "mimetype": "text/x-python",
   "name": "python",
   "nbconvert_exporter": "python",
   "pygments_lexer": "ipython3",
   "version": "3.9.13"
  }
 },
 "nbformat": 4,
 "nbformat_minor": 5
}
