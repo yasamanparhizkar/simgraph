{
 "cells": [
  {
   "cell_type": "code",
   "execution_count": 1,
   "id": "1559fcec",
   "metadata": {
    "tags": []
   },
   "outputs": [],
   "source": [
    "import numpy as np\n",
    "import matplotlib.pyplot as plt\n",
    "import time\n",
    "\n",
    "# add the path to my packages to system paths so they can be imported\n",
    "import sys\n",
    "sys.path.append('/home/yasamanparhizkar/Documents/yorku/01_thesis/simgraph/code/my_packages')\n",
    "# sys.path.append('F:\\MAScThesis\\code\\my_packages')\n",
    "# sys.path.append('/home/yasamanparhizkar/Documents/thesis/code/my_packages')\n",
    "\n",
    "import dataprocess.data_handler_03 as dh\n",
    "import assessment.assess_simgraph_02 as asg\n",
    "import simgraph.my_simgraph as sg"
   ]
  },
  {
   "cell_type": "code",
   "execution_count": 2,
   "id": "54c78fa6-7481-4da1-989d-33aa0d852b43",
   "metadata": {
    "tags": []
   },
   "outputs": [],
   "source": [
    "# import importlib\n",
    "# importlib.reload(sg)"
   ]
  },
  {
   "cell_type": "markdown",
   "id": "37da4141-dd25-4d4e-b098-333393ae210d",
   "metadata": {},
   "source": [
    "# Load and group neuron spike data"
   ]
  },
  {
   "cell_type": "code",
   "execution_count": 3,
   "id": "522651a3-e141-4a14-b7ff-85c27f16ee6e",
   "metadata": {
    "tags": []
   },
   "outputs": [
    {
     "data": {
      "text/plain": [
       "(297, 1141, 1)"
      ]
     },
     "execution_count": 3,
     "metadata": {},
     "output_type": "execute_result"
    }
   ],
   "source": [
    "# load all spike data from file\n",
    "spikes_dp = '../../../local_data/original_files/'\n",
    "grouped_data = np.load(spikes_dp+'summed_spikes.npy') # you can load alternative files from the same directory\n",
    "\n",
    "I_order_10 = [54, 35, 10, 60, 74, 9, 61, 56, 91, 104]\n",
    "grouped_data.shape"
   ]
  },
  {
   "cell_type": "markdown",
   "id": "b02c965a-fda1-4059-abd8-e8d5b3810d41",
   "metadata": {},
   "source": [
    "# Check the dataset"
   ]
  },
  {
   "cell_type": "code",
   "execution_count": 4,
   "id": "dd11390e-f880-4537-98ef-2db2393b1e73",
   "metadata": {
    "tags": []
   },
   "outputs": [],
   "source": [
    "def get_mnist_labels(data_params):\n",
    "    return np.loadtxt(data_params['features_dp']+'lbls.csv')\n",
    "\n",
    "def transform_mnistsift(fv):\n",
    "    return fv[::4]\n",
    "\n",
    "def transform_slowfast(fv):\n",
    "    \"\"\"\n",
    "    Transform to be applied on feature vectors.\n",
    "    \n",
    "    Input: fv\n",
    "    fv - 1xDf torch tensor representing a feature vector\n",
    "    \n",
    "    Output: fvv\n",
    "    fvv - 1xDf' torch tensor representing the transformed feature vector\n",
    "    \"\"\"\n",
    "    \n",
    "    # for faster run and less memory usage\n",
    "    fvv = fv[::200]\n",
    "    \n",
    "    # for numerical stability during GD\n",
    "    # fvv = fvv * 10\n",
    "    \n",
    "    return fvv\n",
    "\n",
    "def transform_sift3d(fv):\n",
    "    return fv[::10]*10000\n",
    "\n",
    "def transform_soenet(fv):\n",
    "    return fv[::5]\n",
    "\n",
    "# data retrieval params\n",
    "# data_params = {'func': dh.datapoint_sift, 'lbl_func': get_mnist_labels, 'features_dp': '../../data/fe_exp/mnist-sift/', \\\n",
    "#                'spike_data': None, 'group_id': None, 'transform': transform_mnistsift, 'ind_min': 0, 'ind_max': 13203, 'feature_id':'mnist-sift'}\n",
    "\n",
    "# data_params = {'func': dh.datapoint_numpy, 'lbl_func': dh.get_labels, 'features_dp': '../../data/features/slowfast/slowfast_4732_numpy/', \\\n",
    "#                'spike_data': grouped_data, 'group_id': 0, 'transform': transform_slowfast, 'ind_min': 1*1141+0, 'ind_max': 2*1141-1, 'feature_id':'slowfast'}\n",
    "\n",
    "data_params = {'func': dh.datapoint_numpy, 'lbl_func': dh.get_labels, 'features_dp': '../../data/features/sift3d/fvs_s1_with_kp/desc/', \\\n",
    "               'spike_data': grouped_data, 'group_id': 0, 'transform': transform_sift3d, 'ind_min': 1*1141+0, 'ind_max': 2*1141-1, 'feature_id':'sift3d'}\n",
    "\n",
    "# data_params = {'func': dh.datapoint_numpy, 'lbl_func': dh.get_labels, 'features_dp': '../../data/features/soenet/soenet3/features_2layer/', \\\n",
    "#                'spike_data': grouped_data, 'group_id': 0, 'transform': transform_soenet, 'ind_min': 1*1141+41, 'ind_max': 2*1141-1, 'feature_id':'soenet'}"
   ]
  },
  {
   "cell_type": "code",
   "execution_count": 5,
   "id": "28f59e51-f107-4216-80f4-ed533a9af209",
   "metadata": {
    "scrolled": true,
    "tags": []
   },
   "outputs": [
    {
     "name": "stdout",
     "output_type": "stream",
     "text": [
      "feature_id:  sift3d\n",
      "train_num =  200 , val_num =  50\n",
      "number of features:  77\n",
      "train_smpls =  [1907 2108 1270 1373 1243 1977 2132 1565 1223 1756 1851 1488 2001 1789\n",
      " 1596 1419 1344 1534 1548 1781 1502 1720 1257 1717 2110 1342 2171 1199\n",
      " 2142 1665 1597 1775 1642 1794 1215 1395 1635 1445 1282 1832 1690 1224\n",
      " 1844 1965 1942 1580 1915 1748 1487 1455 1148 1216 1477 1500 2213 1824\n",
      " 2233 1715 2264 2135 1634 1294 2175 1588 1866 1702 1291 1308 2127 2038\n",
      " 1973 1918 1609 2136 1416 2102 1813 1886 1345 1927 2016 1391 1584 1145\n",
      " 2268 1155 1454 1379 1172 2019 2204 2182 1966 1305 1512 2156 1301 1656\n",
      " 1303 1188 1759 2239 2223 2046 1570 1791 1899 1506 1812 1382 2140 2043\n",
      " 2201 1161 2009 1732 1797 1400 2078 2196 2237 2118 1876 1540 1593 2259\n",
      " 1302 1249 2155 1220 1364 2215 1525 2186 1992 2177 1939 2169 2203 1471\n",
      " 1716 1190 1192 2252 1796 1944 1514 1661 2044 1516 1440 1167 1171 1873\n",
      " 2080 2041 1773 1463 1902 1922 1388 1649 2100 1990 1930 1699 1769 1700\n",
      " 2209 1559 2273 2072 2090 2126 2211 2133 1263 1211 1436 1610 1726 1835\n",
      " 1158 1208 1143 1633 1338 1193 2052 2267 1576 1538 1233 1185 1802 1885\n",
      " 1439 1393 1709 1754] \n",
      "val_smpls =  [1384 1735 1843 1938 2200 2151 1434 2198 1442 1298 1721 1898 1397 1498\n",
      " 1858 1177 2057 1860 1550 1650 1697 1790 1630 1624 1846 1269 1156 2004\n",
      " 1845 1929 1695 2014 2062 2020 2036 2181 1828 2119 1667 1531 1645 1229\n",
      " 1629 1921 2069 2085 1954 2083 1940 1952]\n",
      "train_lbls =  [11.  1.  0.  1.  0.  0. 14.  0.  1.  9.  0.  1.  1.  5.  0.  3.  9.  5.\n",
      "  0.  4.  1.  7.  0. 11.  3.  3. 10.  0.  8.  4.  2.  2.  0.  5.  0.  2.\n",
      "  1.  1.  3.  3.  2.  0.  0.  1. 10.  0.  2. 12.  4.  8.  1.  0.  3.  7.\n",
      "  1.  6.  1. 11.  0. 10.  0.  3. 13.  1.  9.  1.  0.  9.  9.  0.  0.  2.\n",
      "  1. 10.  3.  1.  3.  2.  7.  2.  1.  7.  1.  0.  0.  1.  6.  2.  0.  2.\n",
      "  2.  8.  1. 10.  9.  8. 12.  9.  9.  0. 10.  0.  1.  1.  0.  6.  3.  5.\n",
      "  4.  9. 13.  1.  3.  1.  3.  5.  2.  1.  0.  1.  0. 11.  5.  0.  0.  0.\n",
      "  3.  1.  7.  0.  3.  1.  8.  6.  0.  6.  7. 16.  4.  6.  6.  0.  0.  1.\n",
      "  1.  8.  4.  3.  1. 10.  1.  1.  1.  2.  0.  1.  3.  1.  6.  2.  5.  3.\n",
      "  2.  0.  1.  0.  4.  1.  0.  0.  0.  0.  0. 14.  0. 19.  0.  1. 10.  0.\n",
      "  8.  5.  0.  0.  0.  0.  2.  0.  0.  1.  0.  0.  0.  0.  5.  2.  2.  7.\n",
      "  9.  8.] \n",
      "val_lbls =  [10.  5.  0.  7.  3.  5. 14.  4.  0.  5.  4.  4.  4.  4.  0.  0.  0.  0.\n",
      "  0.  9.  1.  2.  0.  0.  1.  3.  2.  3.  1.  1.  0.  1.  0.  0.  0. 13.\n",
      "  3. 10.  3.  7.  0.  0.  0.  3.  0.  0.  1.  0.  6.  1.]\n",
      "train_des =  [[0.0000e+00 0.0000e+00 0.0000e+00 ... 1.4216e+02 9.2661e+02 6.9038e+02]\n",
      " [0.0000e+00 0.0000e+00 0.0000e+00 ... 1.6000e-01 1.6630e+01 2.5900e+00]\n",
      " [1.6200e+00 0.0000e+00 5.7000e-01 ... 3.4200e+00 4.3000e-01 9.1900e+00]\n",
      " ...\n",
      " [0.0000e+00 0.0000e+00 0.0000e+00 ... 1.3600e+00 3.0248e+02 3.0687e+02]\n",
      " [0.0000e+00 0.0000e+00 0.0000e+00 ... 0.0000e+00 1.2600e+00 5.5500e+00]\n",
      " [0.0000e+00 0.0000e+00 0.0000e+00 ... 2.0000e-02 7.0000e-02 9.0000e-02]] \n",
      "val_des =  [[0.0000e+00 0.0000e+00 0.0000e+00 ... 1.0000e-01 1.0000e-02 0.0000e+00]\n",
      " [0.0000e+00 0.0000e+00 0.0000e+00 ... 1.6650e+01 5.0412e+02 9.5271e+02]\n",
      " [0.0000e+00 0.0000e+00 0.0000e+00 ... 0.0000e+00 5.0000e-02 5.7000e-01]\n",
      " ...\n",
      " [0.0000e+00 0.0000e+00 0.0000e+00 ... 2.4906e+02 3.5174e+02 6.1470e+01]\n",
      " [0.0000e+00 0.0000e+00 0.0000e+00 ... 9.8636e+02 2.3109e+02 7.8260e+01]\n",
      " [0.0000e+00 0.0000e+00 0.0000e+00 ... 2.4000e+01 8.3540e+01 6.6900e+00]]\n",
      "minimum value of train features:  0.0\n",
      "mean value of train features:  167.55767727272723\n",
      "median value of train features:  0.855\n",
      "maximum value of train features:  1195.79\n"
     ]
    }
   ],
   "source": [
    "train_num = 200\n",
    "val_num = 50\n",
    "\n",
    "train_num, val_num, train_data, val_data = \\\n",
    "dh.random_train_val(train_num, val_num, data_params, seed=0)\n",
    "\n",
    "# optional normalization\n",
    "# train_data['des'] = dh.normalize(train_data['des'])\n",
    "# val_data['des'] = dh.normalize(val_data['des'])\n",
    "\n",
    "# show statistics\n",
    "print('feature_id: ', data_params['feature_id'])\n",
    "print('train_num = ', train_num, ', val_num = ', val_num)\n",
    "print('number of features: ', train_data['des'].shape[1])\n",
    "\n",
    "print('train_smpls = ', train_data['smpls'], '\\nval_smpls = ', val_data['smpls'])\n",
    "print('train_lbls = ', train_data['lbls'], '\\nval_lbls = ', val_data['lbls'])\n",
    "print('train_des = ', train_data['des'], '\\nval_des = ', val_data['des'])\n",
    "print('minimum value of train features: ', np.min(train_data['des']))\n",
    "print('mean value of train features: ', np.mean(train_data['des']))\n",
    "print('median value of train features: ', np.median(train_data['des']))\n",
    "print('maximum value of train features: ', np.max(train_data['des']))"
   ]
  },
  {
   "cell_type": "markdown",
   "id": "14b25ab2-987b-40b8-bee2-a4b14c982c29",
   "metadata": {
    "tags": []
   },
   "source": [
    "# Assess the model's performance with random tests"
   ]
  },
  {
   "cell_type": "code",
   "execution_count": 6,
   "id": "cadfa222-008f-4f77-af20-c8436a207e03",
   "metadata": {
    "tags": []
   },
   "outputs": [],
   "source": [
    "# import importlib\n",
    "# importlib.reload(asg)"
   ]
  },
  {
   "cell_type": "code",
   "execution_count": 7,
   "id": "e2fb87f2-4ae5-445a-bba0-6511b8c0f6ea",
   "metadata": {
    "tags": []
   },
   "outputs": [],
   "source": [
    "# graph construction parameters (for both lmnn and obj1)\n",
    "sg_params = {'Dt': None, 'Dv': None, 'Dvt': None, 'mu': 20,\\\n",
    "             'cnstr_method_tt': 'time-inc-ord', 'cnstr_method_vv': 'time-inc-ord', 'cnstr_method_vt': 'time',\\\n",
    "             'train_t': None, 'val_t': None, \\\n",
    "             'edges_tt':None, 'edges_vv':None, 'edges_vt':None, }\n",
    "\n",
    "# gradient descent parameters (only used for factobj1)\n",
    "gd_opt_params = { 'epsilon0':1, 'epsilon_decay':0.5, 'epsilon_jump': 1.7, \\\n",
    "                'num_its': 500, 'check_freq':501, 'print_checks':False, 'Theta0':None, \\\n",
    "                'force_all_its': True, 'threshold': -1}\n",
    "\n",
    "# randomization parameters\n",
    "rnd_params = {'train_sizes': [50, 200, 400], 'val_sizes': [100], 'train_its': 100, 'val_its': 10, 'seed': None}\n",
    "\n",
    "# parameters to visualize the optimized M\n",
    "f_sz = train_data['des'].shape[1] # must match data_params\n",
    "xloc = np.broadcast_to(np.arange(f_sz), (f_sz, f_sz))\n",
    "yloc = xloc.T\n",
    "fig_params = {'rmark_th': 50, 'f_sz': f_sz, 'xloc': xloc, 'yloc': yloc}\n",
    "\n",
    "# path to save the results\n",
    "res_path1 = '../../../local_data/experiments/sift3d/sift3d_sg/temp1/'"
   ]
  },
  {
   "cell_type": "code",
   "execution_count": 8,
   "id": "3eb32f59-072f-4078-924d-8523416c1227",
   "metadata": {
    "tags": []
   },
   "outputs": [
    {
     "name": "stdout",
     "output_type": "stream",
     "text": [
      "Done. Elapsed time: 119113.766 sec\n"
     ]
    }
   ],
   "source": [
    "val_num_res, val_num_err = asg.assess_sg_model(data_params, sg_params, gd_opt_params, rnd_params, fig_params, res_path1)"
   ]
  },
  {
   "cell_type": "code",
   "execution_count": 9,
   "id": "65f12d1e-01e0-4b48-843c-cf9aa9922d58",
   "metadata": {
    "tags": []
   },
   "outputs": [],
   "source": [
    "asg.plot_curves(rnd_params, sg_params, res_path1)"
   ]
  },
  {
   "cell_type": "code",
   "execution_count": null,
   "id": "1423468e-8962-4d0c-b9e1-f885497c113c",
   "metadata": {},
   "outputs": [],
   "source": []
  },
  {
   "cell_type": "code",
   "execution_count": null,
   "id": "a594a3cd-d72b-4a08-acea-4f9169952e61",
   "metadata": {},
   "outputs": [],
   "source": []
  },
  {
   "cell_type": "code",
   "execution_count": null,
   "id": "ceb3d6b9-804a-49a2-b3b3-14729445bd9f",
   "metadata": {},
   "outputs": [],
   "source": []
  },
  {
   "cell_type": "code",
   "execution_count": null,
   "id": "f01348ef-1c50-426e-82a2-7b6346151a53",
   "metadata": {},
   "outputs": [],
   "source": []
  },
  {
   "cell_type": "code",
   "execution_count": null,
   "id": "234b4c5c-d176-4d2a-9076-fb4a7989e525",
   "metadata": {},
   "outputs": [],
   "source": []
  },
  {
   "cell_type": "code",
   "execution_count": null,
   "id": "63c5eeeb-6171-4a1c-bfea-f81b26edfb29",
   "metadata": {},
   "outputs": [],
   "source": []
  },
  {
   "cell_type": "code",
   "execution_count": null,
   "id": "4ee34a91-405b-4b66-b2ae-8485654608ed",
   "metadata": {},
   "outputs": [],
   "source": []
  },
  {
   "cell_type": "code",
   "execution_count": null,
   "id": "874d9a3f-ce9a-4ab1-a90e-458b8cf079f3",
   "metadata": {},
   "outputs": [],
   "source": []
  },
  {
   "cell_type": "code",
   "execution_count": null,
   "id": "8884082b-85cd-40a9-a6e0-6793f1453c06",
   "metadata": {},
   "outputs": [],
   "source": []
  },
  {
   "cell_type": "code",
   "execution_count": null,
   "id": "4626d5ee-2abe-4fdc-892d-5674e7d35feb",
   "metadata": {},
   "outputs": [],
   "source": []
  },
  {
   "cell_type": "code",
   "execution_count": null,
   "id": "857066e2-d09a-427b-94ac-dd82987a9d19",
   "metadata": {},
   "outputs": [],
   "source": []
  },
  {
   "cell_type": "code",
   "execution_count": null,
   "id": "1fb74051-624e-4ea8-afb4-976c4c12de34",
   "metadata": {},
   "outputs": [],
   "source": []
  },
  {
   "cell_type": "code",
   "execution_count": null,
   "id": "d971feac-9a04-4b7b-9337-cbc96fc29160",
   "metadata": {},
   "outputs": [],
   "source": []
  }
 ],
 "metadata": {
  "kernelspec": {
   "display_name": "Python 3 (ipykernel)",
   "language": "python",
   "name": "python3"
  },
  "language_info": {
   "codemirror_mode": {
    "name": "ipython",
    "version": 3
   },
   "file_extension": ".py",
   "mimetype": "text/x-python",
   "name": "python",
   "nbconvert_exporter": "python",
   "pygments_lexer": "ipython3",
   "version": "3.9.13"
  }
 },
 "nbformat": 4,
 "nbformat_minor": 5
}
