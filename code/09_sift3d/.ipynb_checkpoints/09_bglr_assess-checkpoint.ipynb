{
 "cells": [
  {
   "cell_type": "code",
   "execution_count": 1,
   "id": "1559fcec",
   "metadata": {
    "tags": []
   },
   "outputs": [],
   "source": [
    "import numpy as np\n",
    "import matplotlib.pyplot as plt\n",
    "import time\n",
    "\n",
    "# add the path to my packages to system paths so they can be imported\n",
    "import sys\n",
    "sys.path.append('/home/yasamanparhizkar/Documents/yorku/01_thesis/code/my_packages')\n",
    "# sys.path.append('F:\\MAScThesis\\code\\my_packages')\n",
    "# sys.path.append('/home/yasamanparhizkar/Documents/thesis/code/my_packages')\n",
    "\n",
    "import dataprocess.data_handler_03 as dh\n",
    "import assessment.assess_simgraph_02 as asg\n",
    "import simgraph.my_simgraph as sg"
   ]
  },
  {
   "cell_type": "code",
   "execution_count": 12,
   "id": "54c78fa6-7481-4da1-989d-33aa0d852b43",
   "metadata": {
    "tags": []
   },
   "outputs": [
    {
     "data": {
      "text/plain": [
       "<module 'simgraph.my_simgraph' from '/home/yasamanparhizkar/Documents/yorku/01_thesis/code/my_packages/simgraph/my_simgraph.py'>"
      ]
     },
     "execution_count": 12,
     "metadata": {},
     "output_type": "execute_result"
    }
   ],
   "source": [
    "# import importlib\n",
    "# importlib.reload(sg)"
   ]
  },
  {
   "cell_type": "markdown",
   "id": "37da4141-dd25-4d4e-b098-333393ae210d",
   "metadata": {},
   "source": [
    "# Load and group neuron spike data"
   ]
  },
  {
   "cell_type": "code",
   "execution_count": 2,
   "id": "522651a3-e141-4a14-b7ff-85c27f16ee6e",
   "metadata": {
    "tags": []
   },
   "outputs": [],
   "source": [
    "# load all spike data from file\n",
    "spikes_dp = '../../data/original_files/spikes.csv'\n",
    "binned_data = np.loadtxt(spikes_dp, delimiter=',')\n",
    "binned_data = binned_data.reshape(binned_data.shape[0], 1141, 113)\n",
    "binned_data = binned_data * 2 - 1     # turn labels from 0,1 to -1,1\n",
    "\n",
    "I_order_10 = [54, 35, 10, 60, 74, 9, 61, 56, 91, 104]\n",
    "\n",
    "# group all neurons together\n",
    "grouped_data = np.zeros((297, 1141, 1))\n",
    "for trial in range(297):\n",
    "    for frame in range(1141):\n",
    "        grouped_data[trial, frame, :] = 2 * int((binned_data[trial, frame, :] == 1).any()) - 1"
   ]
  },
  {
   "cell_type": "markdown",
   "id": "b02c965a-fda1-4059-abd8-e8d5b3810d41",
   "metadata": {},
   "source": [
    "# Check the dataset"
   ]
  },
  {
   "cell_type": "code",
   "execution_count": 3,
   "id": "dd11390e-f880-4537-98ef-2db2393b1e73",
   "metadata": {
    "tags": []
   },
   "outputs": [],
   "source": [
    "def get_mnist_labels(data_params):\n",
    "    return np.loadtxt(data_params['features_dp']+'lbls.csv')\n",
    "\n",
    "def transform_mnistsift(fv):\n",
    "    return fv[::4]\n",
    "\n",
    "def transform_slowfast(fv):\n",
    "    \"\"\"\n",
    "    Transform to be applied on feature vectors.\n",
    "    \n",
    "    Input: fv\n",
    "    fv - 1xDf torch tensor representing a feature vector\n",
    "    \n",
    "    Output: fvv\n",
    "    fvv - 1xDf' torch tensor representing the transformed feature vector\n",
    "    \"\"\"\n",
    "    \n",
    "    # for faster run and less memory usage\n",
    "    fvv = fv[::100]\n",
    "    \n",
    "    # for numerical stability during GD\n",
    "    # fvv = fvv * 10\n",
    "    \n",
    "    return fvv\n",
    "\n",
    "def transform_sift3d(fv):\n",
    "    return fv[::2]\n",
    "\n",
    "def transform_parham(fv):\n",
    "    return fv[::5]\n",
    "\n",
    "# data retrieval params\n",
    "# data_params = {'func': dh.datapoint_sift, 'lbl_func': get_mnist_labels, 'features_dp': '../../data/fe_exp/mnist-sift/', \\\n",
    "#                'spike_data': None, 'group_id': None, 'transform': transform_mnistsift, 'ind_min': 0, 'ind_max': 13203, 'feature_id':'mnist-sift'}\n",
    "\n",
    "# data_params = {'func': dh.datapoint_numpy, 'lbl_func': dh.get_labels, 'features_dp': '../../data/features/slowfast/slowfast_4732_numpy/', \\\n",
    "#                'spike_data': grouped_data, 'group_id': 0, 'transform': transform_slowfast, 'ind_min': 1*1141+0, 'ind_max': 2*1141-1, 'feature_id':'slowfast'}\n",
    "\n",
    "data_params = {'func': dh.datapoint_numpy, 'lbl_func': dh.get_labels, 'features_dp': '../../data/features/sift3d/fvs_s1/', \\\n",
    "               'spike_data': grouped_data, 'group_id': 0, 'transform': transform_sift3d, 'ind_min': 1*1141+0, 'ind_max': 2*1141-1, 'feature_id':'sift3d'}\n",
    "\n",
    "# data_params = {'func': dh.datapoint_numpy, 'lbl_func': dh.get_labels, 'features_dp': '../../data/features/parham/parham3/features_2layer/', \\\n",
    "#                'spike_data': grouped_data, 'group_id': 0, 'transform': transform_parham, 'ind_min': 1*1141+41, 'ind_max': 2*1141-1, 'feature_id':'parham'}"
   ]
  },
  {
   "cell_type": "code",
   "execution_count": 5,
   "id": "28f59e51-f107-4216-80f4-ed533a9af209",
   "metadata": {
    "scrolled": true,
    "tags": []
   },
   "outputs": [
    {
     "name": "stdout",
     "output_type": "stream",
     "text": [
      "feature_id:  sift3d\n",
      "train_num =  10 , val_num =  5\n",
      "number of features:  384\n",
      "training data contains 5 points (50.00%) of label 1.\n",
      "validation data contains 2 points (40.00%) of label 1.\n",
      "train_smpls =  [2257 1637 1436 1899 1371 2279 2226 1629 1333 2064] \n",
      "val_smpls =  [2261 1639 1991 1247 1847]\n",
      "train_lbls =  [ 1.  1.  1.  1.  1. -1. -1. -1. -1. -1.] \n",
      "val_lbls =  [ 1.  1. -1. -1. -1.]\n",
      "train_des =  [[0.00000e+00 0.00000e+00 0.00000e+00 ... 0.00000e+00 0.00000e+00\n",
      "  0.00000e+00]\n",
      " [0.00000e+00 0.00000e+00 0.00000e+00 ... 4.63960e-02 1.06749e-01\n",
      "  1.83570e-02]\n",
      " [0.00000e+00 0.00000e+00 0.00000e+00 ... 1.99000e-04 2.60000e-05\n",
      "  1.70000e-04]\n",
      " ...\n",
      " [0.00000e+00 0.00000e+00 0.00000e+00 ... 6.50000e-05 1.87000e-04\n",
      "  1.40000e-04]\n",
      " [0.00000e+00 0.00000e+00 0.00000e+00 ... 1.13300e-02 1.02030e-02\n",
      "  8.23600e-03]\n",
      " [0.00000e+00 0.00000e+00 0.00000e+00 ... 1.08000e-03 2.24300e-03\n",
      "  1.63300e-03]] \n",
      "val_des =  [[0.0000e+00 0.0000e+00 0.0000e+00 ... 6.0670e-03 8.2110e-03 6.6560e-03]\n",
      " [0.0000e+00 0.0000e+00 0.0000e+00 ... 9.7060e-03 1.0197e-02 6.6240e-03]\n",
      " [0.0000e+00 0.0000e+00 0.0000e+00 ... 1.3385e-02 2.2006e-02 1.7325e-02]\n",
      " [0.0000e+00 0.0000e+00 0.0000e+00 ... 0.0000e+00 0.0000e+00 0.0000e+00]\n",
      " [0.0000e+00 0.0000e+00 0.0000e+00 ... 3.5600e-04 6.1000e-05 2.4000e-04]]\n"
     ]
    }
   ],
   "source": [
    "train_num =10\n",
    "val_num = 5\n",
    "\n",
    "train_num, val_num, train_data, val_data = \\\n",
    "dh.random_train_val_balanced(train_num, val_num, data_params, seed=1342)\n",
    "\n",
    "# show statistics\n",
    "print('feature_id: ', data_params['feature_id'])\n",
    "print('train_num = ', train_num, ', val_num = ', val_num)\n",
    "print('number of features: ', train_data['des'].shape[1])\n",
    "print('training data contains {} points ({:.2f}%) of label 1.'\n",
    "      .format(np.sum(train_data['lbls'] == 1), np.sum(train_data['lbls'] == 1)*100/train_num))\n",
    "print('validation data contains {} points ({:.2f}%) of label 1.'\n",
    "      .format(np.sum(val_data['lbls'] == 1), np.sum(val_data['lbls'] == 1)*100/val_num))\n",
    "print('train_smpls = ', train_data['smpls'], '\\nval_smpls = ', val_data['smpls'])\n",
    "print('train_lbls = ', train_data['lbls'], '\\nval_lbls = ', val_data['lbls'])\n",
    "print('train_des = ', train_data['des'], '\\nval_des = ', val_data['des'])"
   ]
  },
  {
   "cell_type": "markdown",
   "id": "14b25ab2-987b-40b8-bee2-a4b14c982c29",
   "metadata": {
    "tags": []
   },
   "source": [
    "# Assess the model's performance with random tests"
   ]
  },
  {
   "cell_type": "markdown",
   "id": "bf841689-0f9a-4bff-8e8a-0bb872c5667d",
   "metadata": {
    "tags": []
   },
   "source": [
    "## Old time-based edge selection strategy: may lead to a disconnected graph"
   ]
  },
  {
   "cell_type": "code",
   "execution_count": 6,
   "id": "e2fb87f2-4ae5-445a-bba0-6511b8c0f6ea",
   "metadata": {
    "tags": []
   },
   "outputs": [],
   "source": [
    "# graph construction parameters (for both lmnn and obj1)\n",
    "sg_params = {'Dt': 4, 'Dv':4, 'Dvt':2, 'mu': 1,\\\n",
    "             'cnstr_method_tt': 'halftime-lmnn', 'cnstr_method_vv': 'halftime-lmnn', 'cnstr_method_vt': 'time',\\\n",
    "             'train_t': None, 'val_t': None, \\\n",
    "             'edges_tt':None, 'edges_vv':None, 'edges_vt':None, }\n",
    "\n",
    "# gradient descent parameters (only used for factobj1)\n",
    "gd_opt_params = { 'epsilon0':1, 'epsilon_decay':0.3, 'epsilon_jump': 2, \\\n",
    "                'num_its': 50, 'check_freq':501, 'print_checks':False, 'Theta0':None, \\\n",
    "                'force_all_its': True, 'threshold': -1}\n",
    "\n",
    "# randomization parameters\n",
    "rnd_params = {'train_sizes': [100, 300, 500], 'val_sizes': [200], 'train_its': 3, 'val_its': 10, 'seed': None}\n",
    "\n",
    "# parameters to visualize the optimized M\n",
    "f_sz = train_data['des'].shape[1] # must match data_params\n",
    "xloc = np.broadcast_to(np.arange(f_sz), (f_sz, f_sz))\n",
    "yloc = xloc.T\n",
    "fig_params = {'rmark_th': 50, 'f_sz': f_sz, 'xloc': xloc, 'yloc': yloc}\n",
    "\n",
    "# path to save the results\n",
    "res_path1 = '../../data/experiments/sift3d/sift3d_sg/temp1/'"
   ]
  },
  {
   "cell_type": "code",
   "execution_count": 7,
   "id": "3eb32f59-072f-4078-924d-8523416c1227",
   "metadata": {
    "tags": []
   },
   "outputs": [
    {
     "name": "stdout",
     "output_type": "stream",
     "text": [
      "Done. Elapsed time: 9.266 sec\n"
     ]
    }
   ],
   "source": [
    "val_num_res, val_num_err = asg.assess_sg_model(data_params, sg_params, gd_opt_params, rnd_params, fig_params, res_path1)"
   ]
  },
  {
   "cell_type": "code",
   "execution_count": 8,
   "id": "65f12d1e-01e0-4b48-843c-cf9aa9922d58",
   "metadata": {
    "tags": []
   },
   "outputs": [],
   "source": [
    "asg.plot_curves(rnd_params, sg_params, res_path1)"
   ]
  },
  {
   "cell_type": "markdown",
   "id": "236c38c0-a1f8-42eb-9c14-94605ba83f1c",
   "metadata": {
    "tags": []
   },
   "source": [
    "## New time-based edge selection strategy"
   ]
  },
  {
   "cell_type": "code",
   "execution_count": 9,
   "id": "07a97d7f-7e16-4374-bc97-5bd8e7fa8360",
   "metadata": {
    "tags": []
   },
   "outputs": [],
   "source": [
    "# graph construction parameters (for both lmnn and obj1)\n",
    "sg_params['cnstr_method_tt'] = 'time-inc-ord'\n",
    "sg_params['cnstr_method_vv'] = 'time-inc-ord'\n",
    "sg_params['cnstr_method_vt'] = 'time'\n",
    "\n",
    "# path to save the results\n",
    "res_path2 = '../../data/experiments/sift3d/sift3d_sg/temp2/'"
   ]
  },
  {
   "cell_type": "code",
   "execution_count": 13,
   "id": "c7f8cc5a-5b14-4ec7-b899-7262d0c13ebe",
   "metadata": {
    "tags": []
   },
   "outputs": [
    {
     "name": "stdout",
     "output_type": "stream",
     "text": [
      "Done. Elapsed time: 9.892 sec\n"
     ]
    }
   ],
   "source": [
    "val_num_res, val_num_err = asg.assess_sg_model(data_params, sg_params, gd_opt_params, rnd_params, fig_params, res_path2)"
   ]
  },
  {
   "cell_type": "code",
   "execution_count": 14,
   "id": "a22d5e88-47f8-4d49-b05f-9f988d812340",
   "metadata": {
    "tags": []
   },
   "outputs": [],
   "source": [
    "asg.plot_curves(rnd_params, sg_params, res_path2)"
   ]
  },
  {
   "cell_type": "markdown",
   "id": "3fa62ad7-f5b6-4e45-895f-58fbf1a14d46",
   "metadata": {},
   "source": [
    "# Compare the two strategies"
   ]
  },
  {
   "cell_type": "code",
   "execution_count": 15,
   "id": "fef05037-fd2b-489e-b543-4c5b7cf1b2fa",
   "metadata": {
    "tags": []
   },
   "outputs": [],
   "source": [
    "path1 = res_path1\n",
    "path2 = res_path2"
   ]
  },
  {
   "cell_type": "code",
   "execution_count": 16,
   "id": "58442d5d-0e8f-4414-93cc-c00a8b7795d2",
   "metadata": {
    "tags": []
   },
   "outputs": [],
   "source": [
    "# unpack params\n",
    "train_sizes = rnd_params['train_sizes']\n",
    "val_sizes = rnd_params['val_sizes']\n",
    "train_its = rnd_params['train_its']\n",
    "val_its = rnd_params['val_its']\n",
    "\n",
    "assess_qs = ['min_acc', 'val_acc', 'missed', 'false_alarm']\n",
    "legend = ['st1', 'st2']"
   ]
  },
  {
   "cell_type": "code",
   "execution_count": 17,
   "id": "dc46deb7-b53f-421a-8cb7-4697cd6cb416",
   "metadata": {
    "tags": []
   },
   "outputs": [
    {
     "data": {
      "image/png": "[encoded data removed]",
      "text/plain": [
       "<Figure size 700x400 with 1 Axes>"
      ]
     },
     "metadata": {},
     "output_type": "display_data"
    }
   ],
   "source": [
    "# read the first path's training curves\n",
    "curves1 = {}\n",
    "errors1 = {}\n",
    "for i in range(len(val_sizes)):\n",
    "    curves_i = np.loadtxt(path1+'curves/train_'+str(i)+'.txt')\n",
    "    j = 0\n",
    "    for quantity in assess_qs:\n",
    "        if i==0:\n",
    "            curves1[quantity] = curves_i[j::8].reshape((1, -1))\n",
    "            errors1[quantity] = curves_i[j+1::8].reshape((1, -1))\n",
    "        else:\n",
    "            curves1[quantity] = np.concatenate((curves1[quantity], [curves_i[j::8]]), axis=0)\n",
    "            errors1[quantity] = np.concatenate((errors1[quantity], [curves_i[j+1::8]]), axis=0)\n",
    "        j += 2\n",
    "        \n",
    "# read the second path's training curves\n",
    "curves2 = {}\n",
    "errors2 = {}\n",
    "for i in range(len(val_sizes)):\n",
    "    curves_i = np.loadtxt(path2+'curves/train_'+str(i)+'.txt')\n",
    "    j = 0\n",
    "    for quantity in assess_qs:\n",
    "        if i==0:\n",
    "            curves2[quantity] = curves_i[j::8].reshape((1, -1))\n",
    "            errors2[quantity] = curves_i[j+1::8].reshape((1, -1))\n",
    "        else:\n",
    "            curves2[quantity] = np.concatenate((curves2[quantity], [curves_i[j::8]]), axis=0)\n",
    "            errors2[quantity] = np.concatenate((errors2[quantity], [curves_i[j+1::8]]), axis=0)\n",
    "        j += 2\n",
    "\n",
    "# plot training curves together\n",
    "plt.figure(figsize=(7,4))\n",
    "plt.subplots_adjust(left=0.1,bottom=0.1,right=0.9,top=0.9,wspace=0.8,hspace=0.8)\n",
    "for i in range(len(val_sizes)):\n",
    "    plt.subplot(len(val_sizes), 1, i+1)\n",
    "    plt.errorbar(train_sizes, curves1['val_acc'][i], errors1['val_acc'][i])\n",
    "    plt.errorbar(train_sizes, curves2['val_acc'][i], errors2['val_acc'][i])\n",
    "    plt.xticks()\n",
    "    plt.yticks()\n",
    "    plt.legend(legend)\n",
    "    plt.xlabel('training set size')\n",
    "    plt.ylabel('{} val x {} train'.format(val_its, train_its))\n",
    "    # _ = plt.title('Val. Acc. - {}'.format(data_params['feature_id']), fontsize=25)\n",
    "    _ = plt.title('Val. Acc. - {}, Dt = {}, Dvt = {}, Dv = {}, $\\mu$ = {}'\n",
    "                  .format(data_params['feature_id'], sg_params['Dt'], sg_params['Dvt'], sg_params['Dv'], sg_params['mu']))\n",
    "plt.savefig(path1+'comparepic-valacc.png',dpi=300, bbox_inches = \"tight\")"
   ]
  },
  {
   "cell_type": "code",
   "execution_count": 18,
   "id": "475d844f-12a8-4eed-ac82-4d44d40e9818",
   "metadata": {
    "tags": []
   },
   "outputs": [
    {
     "data": {
      "image/png": "[encoded data removed]",
      "text/plain": [
       "<Figure size 700x400 with 1 Axes>"
      ]
     },
     "metadata": {},
     "output_type": "display_data"
    }
   ],
   "source": [
    "# read the first path's runtime curve\n",
    "curves1 = {}\n",
    "errors1 = {}\n",
    "for i in range(len(val_sizes)):\n",
    "    curves_i = np.loadtxt(path1+'curves/runtime_'+str(i)+'.txt')\n",
    "    if i==0:\n",
    "        curves1 = curves_i[::2].reshape((1, -1))\n",
    "        errors1 = curves_i[1::2].reshape((1, -1))\n",
    "    else:\n",
    "        curves1 = np.concatenate((curves1, [curves_i[0::2]]), axis=0)\n",
    "        errors1 = np.concatenate((errors1, [curves_i[1::2]]), axis=0)\n",
    "\n",
    "# read the second path's runtime curve\n",
    "curves2 = {}\n",
    "errors2 = {}\n",
    "for i in range(len(val_sizes)):\n",
    "    curves_i = np.loadtxt(path2+'curves/runtime_'+str(i)+'.txt')\n",
    "    if i==0:\n",
    "        curves2 = curves_i[::2].reshape((1, -1))\n",
    "        errors2 = curves_i[1::2].reshape((1, -1))\n",
    "    else:\n",
    "        curves2 = np.concatenate((curves2, [curves_i[0::2]]), axis=0)\n",
    "        errors2 = np.concatenate((errors2, [curves_i[1::2]]), axis=0)\n",
    "        \n",
    "# plot runtime curves together\n",
    "plt.figure(figsize=(7,4))\n",
    "plt.subplots_adjust(left=0.1,bottom=0.1,right=0.9,top=0.9,wspace=0.8,hspace=0.8)\n",
    "for i in range(len(val_sizes)):\n",
    "    plt.subplot(len(val_sizes), 1, i+1)\n",
    "    plt.errorbar(train_sizes, curves1[i], errors1[i])\n",
    "    plt.errorbar(train_sizes, curves2[i], errors2[i])\n",
    "    plt.xticks()\n",
    "    plt.yticks()\n",
    "    plt.legend(legend)\n",
    "    plt.xlabel('training set size')\n",
    "    plt.ylabel('{} val x {} train'.format(val_its, train_its))\n",
    "    # _ = plt.title('Runtime (sec) - {}'.format(data_params['feature_id']), fontsize=25)\n",
    "    _ = plt.title('Runtime - {}, Dt = {}, Dvt = {}, Dv = {}, $\\mu$ = {}'.format(data_params['feature_id'], sg_params['Dt'], sg_params['Dvt'],sg_params['Dv'],sg_params['mu']))\n",
    "plt.savefig(path1+'comparepic-runtime.png',dpi=300, bbox_inches = \"tight\")"
   ]
  },
  {
   "cell_type": "code",
   "execution_count": null,
   "id": "1423468e-8962-4d0c-b9e1-f885497c113c",
   "metadata": {},
   "outputs": [],
   "source": []
  },
  {
   "cell_type": "code",
   "execution_count": null,
   "id": "a594a3cd-d72b-4a08-acea-4f9169952e61",
   "metadata": {},
   "outputs": [],
   "source": []
  },
  {
   "cell_type": "code",
   "execution_count": null,
   "id": "ceb3d6b9-804a-49a2-b3b3-14729445bd9f",
   "metadata": {},
   "outputs": [],
   "source": []
  },
  {
   "cell_type": "code",
   "execution_count": null,
   "id": "f01348ef-1c50-426e-82a2-7b6346151a53",
   "metadata": {},
   "outputs": [],
   "source": []
  },
  {
   "cell_type": "code",
   "execution_count": null,
   "id": "234b4c5c-d176-4d2a-9076-fb4a7989e525",
   "metadata": {},
   "outputs": [],
   "source": []
  },
  {
   "cell_type": "code",
   "execution_count": null,
   "id": "63c5eeeb-6171-4a1c-bfea-f81b26edfb29",
   "metadata": {},
   "outputs": [],
   "source": []
  },
  {
   "cell_type": "code",
   "execution_count": null,
   "id": "4ee34a91-405b-4b66-b2ae-8485654608ed",
   "metadata": {},
   "outputs": [],
   "source": []
  },
  {
   "cell_type": "code",
   "execution_count": null,
   "id": "874d9a3f-ce9a-4ab1-a90e-458b8cf079f3",
   "metadata": {},
   "outputs": [],
   "source": []
  },
  {
   "cell_type": "code",
   "execution_count": null,
   "id": "8884082b-85cd-40a9-a6e0-6793f1453c06",
   "metadata": {},
   "outputs": [],
   "source": []
  },
  {
   "cell_type": "code",
   "execution_count": null,
   "id": "4626d5ee-2abe-4fdc-892d-5674e7d35feb",
   "metadata": {},
   "outputs": [],
   "source": []
  },
  {
   "cell_type": "code",
   "execution_count": null,
   "id": "857066e2-d09a-427b-94ac-dd82987a9d19",
   "metadata": {},
   "outputs": [],
   "source": []
  },
  {
   "cell_type": "code",
   "execution_count": null,
   "id": "1fb74051-624e-4ea8-afb4-976c4c12de34",
   "metadata": {},
   "outputs": [],
   "source": []
  },
  {
   "cell_type": "code",
   "execution_count": null,
   "id": "d971feac-9a04-4b7b-9337-cbc96fc29160",
   "metadata": {},
   "outputs": [],
   "source": []
  }
 ],
 "metadata": {
  "kernelspec": {
   "display_name": "Python 3 (ipykernel)",
   "language": "python",
   "name": "python3"
  },
  "language_info": {
   "codemirror_mode": {
    "name": "ipython",
    "version": 3
   },
   "file_extension": ".py",
   "mimetype": "text/x-python",
   "name": "python",
   "nbconvert_exporter": "python",
   "pygments_lexer": "ipython3",
   "version": "3.9.13"
  }
 },
 "nbformat": 4,
 "nbformat_minor": 5
}
