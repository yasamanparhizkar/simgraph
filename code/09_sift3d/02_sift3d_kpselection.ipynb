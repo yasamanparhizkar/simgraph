{
 "cells": [
  {
   "cell_type": "code",
   "execution_count": 2,
   "id": "b6f95c5f-0618-44d1-b16c-4fec4c2b0258",
   "metadata": {
    "tags": []
   },
   "outputs": [],
   "source": [
    "import numpy as np\n",
    "import matplotlib.pyplot as plt\n",
    "\n",
    "# add the path to my packages to system paths so they can be imported\n",
    "import sys\n",
    "sys.path.append('/home/yasamanparhizkar/Documents/yorku/01_thesis/code/my_packages')\n",
    "# sys.path.append('F:\\MAScThesis\\code\\my_packages')\n",
    "# sys.path.append('/home/yasamanparhizkar/Documents/thesis/code/my_packages')\n",
    "\n",
    "import dataprocess.my_first_feature_extractor as fe"
   ]
  },
  {
   "cell_type": "markdown",
   "id": "59242cc2-a4bd-40a5-975a-409bc763d109",
   "metadata": {},
   "source": [
    "# Show statistics"
   ]
  },
  {
   "cell_type": "markdown",
   "id": "d709e9e8-6ec5-4f9c-b416-14b136869079",
   "metadata": {},
   "source": [
    "## Descriptor format:\n",
    "[x, y, z, el0, el1, ..., el767]\n",
    "<br>\n",
    "Each row is a single feature descriptor. \n",
    "<br>\n",
    "[x, y, z] are the keypoint's coordinates in 3D-image space, and [el0, el1, ..., el767] are the 768 dimensions of the descriptor.\n",
    "\n",
    "## Keypoint format:\n",
    "<br>\n",
    "Each row is a keypoint. The elements of each row are as follows:\n",
    "<br>\n",
    "[x, y, z, o, s, $ori_{11}, ori_{12}, ..., ori_{nn}$]\n",
    "<br>\n",
    "x - the x-coordinate\n",
    "<br>\n",
    "y - the y-coordinate\n",
    "<br>\n",
    "z - the z-coordinate\n",
    "<br>\n",
    "o - the pyramid octave. To convert to image coordinates, multiply x,y,z by pow(2, o)\n",
    "<br>\n",
    "s - the scale coordinate\n",
    "<br>\n",
    "$ori_{ij}$ - the ith row, jth column of the orientation matrix"
   ]
  },
  {
   "cell_type": "code",
   "execution_count": 5,
   "id": "c4c67c3d-3a12-4130-b23f-fd6885044fc3",
   "metadata": {
    "tags": []
   },
   "outputs": [],
   "source": [
    "# print('Number of keyponits in each batch:')\n",
    "dataset_sz = 1141\n",
    "num_kps = []\n",
    "for batch_i in range(dataset_sz):\n",
    "    keys = np.loadtxt('../../data/features/sift3d/raw/keys_'+str(batch_i)+'.csv')\n",
    "    num_kps.append(keys.shape[0])"
   ]
  },
  {
   "cell_type": "code",
   "execution_count": 6,
   "id": "eca4596a-9855-4930-ba0e-dedd9694b0e3",
   "metadata": {
    "tags": []
   },
   "outputs": [
    {
     "name": "stdout",
     "output_type": "stream",
     "text": [
      "Minimum number of keypoints:  369\n",
      "Maximum number of keypoints:  753\n",
      "Mean number of keypoints: 532.57\n"
     ]
    }
   ],
   "source": [
    "print('Minimum number of keypoints: ', min(num_kps))\n",
    "print('Maximum number of keypoints: ', max(num_kps))\n",
    "print('Mean number of keypoints: {:.2f}'.format(np.mean(num_kps)))"
   ]
  },
  {
   "cell_type": "code",
   "execution_count": 7,
   "id": "be3fd330-7511-4665-b090-d94bba07fe97",
   "metadata": {
    "tags": []
   },
   "outputs": [
    {
     "data": {
      "text/plain": [
       "(array([ 22.,  29., 162., 297., 316., 186.,  66.,  45.,  11.,   7.]),\n",
       " array([369. , 407.4, 445.8, 484.2, 522.6, 561. , 599.4, 637.8, 676.2,\n",
       "        714.6, 753. ]),\n",
       " <BarContainer object of 10 artists>)"
      ]
     },
     "execution_count": 7,
     "metadata": {},
     "output_type": "execute_result"
    },
    {
     "data": {
      "image/png": "[encoded data removed]",
      "text/plain": [
       "<Figure size 500x400 with 1 Axes>"
      ]
     },
     "metadata": {},
     "output_type": "display_data"
    }
   ],
   "source": [
    "plt.figure(figsize=(5,4))\n",
    "plt.hist(num_kps)"
   ]
  },
  {
   "cell_type": "markdown",
   "id": "6f75e630-e21a-45ae-959c-c0326e3840cd",
   "metadata": {},
   "source": [
    "# Floor\n",
    "Discard batches that have less that a certain number of keypoints"
   ]
  },
  {
   "cell_type": "code",
   "execution_count": 9,
   "id": "2e9bda5a-77c5-4098-adbd-536610e46a54",
   "metadata": {
    "tags": []
   },
   "outputs": [
    {
     "name": "stdout",
     "output_type": "stream",
     "text": [
      "The following batches have less than 1 keypoints:\n",
      "[]\n"
     ]
    }
   ],
   "source": [
    "cutoff = 1\n",
    "to_discard = []\n",
    "for batch_i in range(dataset_sz):\n",
    "    keys = np.loadtxt('../../data/features/sift3d/raw/keys_'+str(batch_i)+'.csv')\n",
    "    if keys.shape[0] < cutoff:\n",
    "        to_discard.append(batch_i)\n",
    "        \n",
    "print('The following batches have less than {} keypoints:\\n{}'.format(cutoff, to_discard))"
   ]
  },
  {
   "cell_type": "code",
   "execution_count": null,
   "id": "2d2b77c6-01ac-4ffd-89dc-b584f3df8248",
   "metadata": {},
   "outputs": [],
   "source": []
  },
  {
   "cell_type": "markdown",
   "id": "b04eb068-8f93-486a-bf17-22e3d6d78b7b",
   "metadata": {},
   "source": [
    "# Ceiling\n",
    "\n",
    "Choose only a certain number of keypoints in batches that have more keypoints."
   ]
  },
  {
   "cell_type": "markdown",
   "id": "5956e000-a151-47be-a3ee-778a95890fcc",
   "metadata": {},
   "source": [
    "## Strategy 1:\n",
    "\n",
    "Select one keyponit closest to the center of the batch."
   ]
  },
  {
   "cell_type": "code",
   "execution_count": 13,
   "id": "367653ce-93f7-475d-9746-ea04aa43af05",
   "metadata": {
    "tags": []
   },
   "outputs": [],
   "source": [
    "dataset_sz = 1141\n",
    "batch_sz = 32\n",
    "frame_x = 200\n",
    "frame_y = 120\n",
    "cpt = np.array([frame_x//2, frame_y//2, batch_sz//2]) # coordinates of the frame-batch's center\n",
    "\n",
    "\n",
    "for batch_i in range(dataset_sz):\n",
    "    if batch_i not in to_discard:\n",
    "        # initialize min distance from the batch's center\n",
    "        min_dist = np.inf\n",
    "        \n",
    "        # load the batch's descriptors and keypoints\n",
    "        desc = np.loadtxt('../../data/features/sift3d/raw/desc_'+str(batch_i)+'.csv')\n",
    "        keys = np.loadtxt('../../data/features/sift3d/raw/keys_'+str(batch_i)+'.csv')\n",
    "        \n",
    "        # chose the desired keypoint\n",
    "        kpstar = -1\n",
    "        for kp_i in range(desc.shape[0]):\n",
    "            if np.linalg.norm(desc[kp_i][:3]-cpt) < min_dist:\n",
    "                kpstar = kp_i\n",
    "        \n",
    "        # save the chosen keypoint's descriptor as the batch's feature vector\n",
    "        np.savetxt('../../data/features/sift3d/fvs_s1_with_kp/desc/fv_'+str(batch_i)+'.csv', desc[kpstar][3:])\n",
    "        np.savetxt('../../data/features/sift3d/fvs_s1_with_kp/keys/fv_'+str(batch_i)+'.csv', keys[kpstar])"
   ]
  },
  {
   "cell_type": "code",
   "execution_count": null,
   "id": "a92adffc-44eb-4e25-934b-73b5f61aa6c7",
   "metadata": {},
   "outputs": [],
   "source": []
  },
  {
   "cell_type": "code",
   "execution_count": null,
   "id": "08b78ab4-902a-4a86-9348-6cc85fb94ba3",
   "metadata": {},
   "outputs": [],
   "source": []
  },
  {
   "cell_type": "code",
   "execution_count": null,
   "id": "7f087e8f-8f51-40b2-af5f-ab7bc10d91a8",
   "metadata": {},
   "outputs": [],
   "source": []
  },
  {
   "cell_type": "code",
   "execution_count": null,
   "id": "c17715f7-390f-4376-b60e-3bc307531a3e",
   "metadata": {},
   "outputs": [],
   "source": []
  },
  {
   "cell_type": "code",
   "execution_count": null,
   "id": "45e5b6b4-5133-40e7-bbc1-ac4baca8dda5",
   "metadata": {},
   "outputs": [],
   "source": []
  }
 ],
 "metadata": {
  "kernelspec": {
   "display_name": "Python 3 (ipykernel)",
   "language": "python",
   "name": "python3"
  },
  "language_info": {
   "codemirror_mode": {
    "name": "ipython",
    "version": 3
   },
   "file_extension": ".py",
   "mimetype": "text/x-python",
   "name": "python",
   "nbconvert_exporter": "python",
   "pygments_lexer": "ipython3",
   "version": "3.9.13"
  }
 },
 "nbformat": 4,
 "nbformat_minor": 5
}
