{
 "cells": [
  {
   "cell_type": "code",
   "execution_count": 1,
   "id": "ee210da9-80a0-4b8d-a42a-f195a2acacc4",
   "metadata": {
    "id": "ee210da9-80a0-4b8d-a42a-f195a2acacc4"
   },
   "outputs": [],
   "source": [
    "import nibabel as nib\n",
    "import numpy as np\n",
    "import matplotlib.pyplot as plt"
   ]
  },
  {
   "cell_type": "markdown",
   "id": "99a286c9-4d53-43ad-a1d5-0f517b072d7e",
   "metadata": {
    "id": "99a286c9-4d53-43ad-a1d5-0f517b072d7e",
    "tags": []
   },
   "source": [
    "# Load fish movie frames"
   ]
  },
  {
   "cell_type": "code",
   "execution_count": 2,
   "id": "588c11ff-6786-439b-9d66-f903dc890cbe",
   "metadata": {
    "id": "588c11ff-6786-439b-9d66-f903dc890cbe",
    "outputId": "4b86a45b-a351-4ab3-d49d-b02cfa198b30",
    "tags": []
   },
   "outputs": [
    {
     "name": "stdout",
     "output_type": "stream",
     "text": [
      "frames.shape = (1141, 120, 200)\n"
     ]
    }
   ],
   "source": [
    "# load the fish movie\n",
    "data_path = '../../../local_data/original_files/'\n",
    "\n",
    "frames = np.loadtxt(data_path + 'frames.csv', delimiter=',')\n",
    "frames = frames.reshape(frames.shape[0], 120, 200)\n",
    "print('frames.shape = {}'.format(frames.shape))"
   ]
  },
  {
   "cell_type": "markdown",
   "id": "46350d6a-4090-41cf-9f89-1c3e432489ca",
   "metadata": {
    "id": "46350d6a-4090-41cf-9f89-1c3e432489ca",
    "tags": []
   },
   "source": [
    "# Create batches of frames from which features are extracted\n",
    "\n",
    "For now, each batch has 32 frames to comply with slowfast batches.\n",
    "<br>\n",
    "Batch #0: contains 32 frames leading up to frame #0 (in other words, frames[-31:1])\n",
    "<br>\n",
    "...\n",
    "<br>\n",
    "Batch #31: contains 32 frames leading up to frame #31 (in other words, frames[0:32])\n",
    "\n",
    "$\\implies$ All in all, we have 1141 batches for 1141 frames."
   ]
  },
  {
   "cell_type": "code",
   "execution_count": 3,
   "id": "56f094e6-0d7b-4a8c-a0aa-b529f95ffb14",
   "metadata": {
    "id": "56f094e6-0d7b-4a8c-a0aa-b529f95ffb14",
    "outputId": "6e0f6cea-e066-4e45-c177-57ca295fd021",
    "tags": []
   },
   "outputs": [
    {
     "name": "stdout",
     "output_type": "stream",
     "text": [
      "chosen frame indices:  [-21 -20 -19 -18 -17 -16 -15 -14 -13 -12 -11 -10  -9  -8  -7  -6  -5  -4\n",
      "  -3  -2  -1   0   1   2   3   4   5   6   7   8   9  10]\n",
      "sample_batched.shape = (32, 120, 200)\n"
     ]
    }
   ],
   "source": [
    "batch_ind = 10\n",
    "batch_sz = 32\n",
    "idx = np.arange(batch_ind-batch_sz+1, batch_ind+1, dtype=np.int32)\n",
    "sample_batched = frames[idx]\n",
    "print('chosen frame indices: ', idx)\n",
    "print('sample_batched.shape = {}'.format(sample_batched.shape))"
   ]
  },
  {
   "cell_type": "markdown",
   "id": "3c2d1c18-435a-454b-be0a-a166d352ab58",
   "metadata": {
    "id": "3c2d1c18-435a-454b-be0a-a166d352ab58",
    "tags": []
   },
   "source": [
    "# Save frame-batch as a Nifti image"
   ]
  },
  {
   "cell_type": "markdown",
   "id": "b507b793-2d72-4eb7-be6b-f4bd742a8130",
   "metadata": {
    "id": "b507b793-2d72-4eb7-be6b-f4bd742a8130"
   },
   "source": [
    "We need an affine matrix that converts the image-coordinates ({i, j, k} centered at the top-left corner of the oldest frame)\n",
    "<br>\n",
    "to the scanner-coordinates used by Nifti package ({x, y, z} centered at the bottom-left corner of the oldest frame).\n",
    "<br>\n",
    "For an explanation of these coordinates, please refer to https://nipy.org/nibabel/coordinate_systems.html#voxel-coordinates-and-points-in-space\n",
    "<br>\n",
    "<img src=\"file/Nifti affine matrix.png\" width=\"300\">\n",
    "\n",
    "Hopefully, Sift3D also uses Nifti scanner coordinates; therefore, location of keypoints are described in those coordinates."
   ]
  },
  {
   "cell_type": "code",
   "execution_count": null,
   "id": "b31de3dc-d4ff-41ef-813e-1b5c2654e4bc",
   "metadata": {
    "id": "b31de3dc-d4ff-41ef-813e-1b5c2654e4bc",
    "tags": []
   },
   "outputs": [],
   "source": [
    "affine = np.array([[1, 0, 0, 0],\n",
    "                   [0, -1, 0, 120],\n",
    "                   [0, 0, 1, 0],\n",
    "                   [0, 0, 0, 1]])\n",
    "sample_nifti = nib.Nifti1Image(sample_batched, affine=affine)\n",
    "nib.save(sample_nifti, '../../data/sift3d/batch.nii')"
   ]
  },
  {
   "cell_type": "markdown",
   "id": "a94a6c17-c58a-4e58-9f17-7923b13e6dc3",
   "metadata": {
    "id": "a94a6c17-c58a-4e58-9f17-7923b13e6dc3",
    "tags": []
   },
   "source": [
    "# Extract Sift3D keypoints and descriptors from the Nifti image\n",
    "\n",
    "Sift3D package is downloaded from here:\n",
    "<br>\n",
    "https://github.com/bbrister/SIFT3D\n",
    "<br>\n",
    "Version 1.4.6 is used in this notebook via command-line interface (CLI)."
   ]
  },
  {
   "cell_type": "code",
   "execution_count": null,
   "id": "c833225b-8c77-45f1-a763-6d4be379e1cf",
   "metadata": {
    "id": "c833225b-8c77-45f1-a763-6d4be379e1cf",
    "tags": []
   },
   "outputs": [],
   "source": [
    "# Must install Sift3D package before running below line\n",
    "!kpSift3D --keys ../../data/sift3d/keys.csv --desc ../../data/sift3d/desc.csv '../../data/sift3d/batch.nii'"
   ]
  },
  {
   "cell_type": "markdown",
   "id": "5614e529-d527-4529-94ca-b27a69e8c25b",
   "metadata": {
    "id": "5614e529-d527-4529-94ca-b27a69e8c25b",
    "tags": []
   },
   "source": [
    "# Load descriptros"
   ]
  },
  {
   "cell_type": "code",
   "execution_count": null,
   "id": "919117ba-c092-4087-995c-862217aea207",
   "metadata": {
    "id": "919117ba-c092-4087-995c-862217aea207",
    "outputId": "a4c1ba80-1d5b-4dc6-9dd4-42d78602c095",
    "tags": []
   },
   "outputs": [
    {
     "name": "stdout",
     "output_type": "stream",
     "text": [
      "(484, 771)\n",
      "(484, 14)\n"
     ]
    }
   ],
   "source": [
    "desc = np.loadtxt('../../data/sift3d/desc.csv', delimiter=',')\n",
    "keys = np.loadtxt('../../data/sift3d/keys.csv', delimiter=',')\n",
    "\n",
    "print(desc.shape)\n",
    "print(keys.shape)"
   ]
  },
  {
   "cell_type": "markdown",
   "id": "b59e8bae-b482-431a-bad1-00ea6032a973",
   "metadata": {
    "id": "b59e8bae-b482-431a-bad1-00ea6032a973"
   },
   "source": [
    "# Extract Sift3D features for all possible batches"
   ]
  },
  {
   "cell_type": "code",
   "execution_count": null,
   "id": "06fd8a1d-29c1-4163-8ca9-ce24e995124d",
   "metadata": {
    "id": "06fd8a1d-29c1-4163-8ca9-ce24e995124d"
   },
   "outputs": [],
   "source": [
    "affine = np.array([[1, 0, 0, 0],\n",
    "                   [0, -1, 0, 120],\n",
    "                   [0, 0, 1, 0],\n",
    "                   [0, 0, 0, 1]])\n",
    "\n",
    "batch_sz = 32\n",
    "for batch_ind in range(1141):\n",
    "    idx = np.arange(batch_ind-batch_sz+1, batch_ind+1, dtype=np.int32)\n",
    "    sample_batched = frames[idx]\n",
    "\n",
    "    sample_nifti = nib.Nifti1Image(sample_batched, affine=affine)\n",
    "    nib.save(sample_nifti, '../../data/sift3d/batch.nii')\n",
    "\n",
    "    !kpSift3D --keys ../../data/sift3d/keys.csv --desc ../../data/sift3d/desc.csv ../../data/sift3d/batch.nii\n",
    "\n",
    "    desc = np.loadtxt('../../data/sift3d/desc.csv', delimiter=',')\n",
    "    keys = np.loadtxt('../../data/sift3d/keys.csv', delimiter=',')\n",
    "\n",
    "    np.savetxt('../../data/sift3d/desc_'+str(batch_ind)+'.csv', desc)\n",
    "    np.savetxt('../../data/sift3d/keys_'+str(batch_ind)+'.csv', keys)"
   ]
  },
  {
   "cell_type": "code",
   "execution_count": null,
   "id": "87150526-74d6-464c-a38b-621162730a02",
   "metadata": {
    "id": "87150526-74d6-464c-a38b-621162730a02"
   },
   "outputs": [],
   "source": [
    "# remove temporary files that were created in the above cell\n",
    "!rm ../../data/sift3d/batch.nii ../../data/sift3d/keys.csv ../../data/sift3d/desc.csv"
   ]
  },
  {
   "cell_type": "markdown",
   "id": "7b1d6728-c7e4-4a8e-9b45-4fa7014ccf29",
   "metadata": {
    "id": "7b1d6728-c7e4-4a8e-9b45-4fa7014ccf29",
    "tags": []
   },
   "source": [
    "# Code snippet to load Sift3D keypoints and descriptors"
   ]
  },
  {
   "cell_type": "code",
   "execution_count": null,
   "id": "62c65d60-5ff7-459b-8083-77d135499909",
   "metadata": {
    "id": "62c65d60-5ff7-459b-8083-77d135499909"
   },
   "outputs": [],
   "source": [
    "# load a batch's Sift3D keypoints and descriptions\n",
    "batch_i = 34\n",
    "keys = np.loadtxt('../../data/sift3d/keys_'+str(batch_i)+'.csv')\n",
    "desc = np.loadtxt('../../data/sift3d/desc_'+str(batch_i)+'.csv')"
   ]
  },
  {
   "cell_type": "markdown",
   "id": "2344f32a-b10d-443c-99aa-a45f54c5fc29",
   "metadata": {
    "id": "2344f32a-b10d-443c-99aa-a45f54c5fc29",
    "tags": []
   },
   "source": [
    "## Descriptor format:\n",
    "[x, y, z, el0, el1, ..., el767]\n",
    "<br>\n",
    "Each row is a single feature descriptor.\n",
    "<br>\n",
    "[x, y, z] are the keypoint's coordinates in 3D-image space, and [el0, el1, ..., el767] are the 768 dimensions of the descriptor."
   ]
  },
  {
   "cell_type": "markdown",
   "id": "978a6067-0496-42a3-a146-8212ff5e9592",
   "metadata": {
    "id": "978a6067-0496-42a3-a146-8212ff5e9592"
   },
   "source": [
    "## Keypoint format:\n",
    "<br>\n",
    "Each row is a keypoint. The elements of each row are as follows:\n",
    "<br>\n",
    "[x, y, z, o, s, $ori_{11}, ori_{12}, ..., ori_{nn}$]\n",
    "<br>\n",
    "x - the x-coordinate\n",
    "<br>\n",
    "y - the y-coordinate\n",
    "<br>\n",
    "z - the z-coordinate\n",
    "<br>\n",
    "o - the pyramid octave. To convert to image coordinates, multiply x,y,z by pow(2, o)\n",
    "<br>\n",
    "s - the scale coordinate\n",
    "<br>\n",
    "$ori_{ij}$ - the ith row, jth column of the orientation matrix"
   ]
  },
  {
   "cell_type": "code",
   "execution_count": null,
   "id": "806a5590-a754-440a-b7da-85cba2d5459c",
   "metadata": {
    "id": "806a5590-a754-440a-b7da-85cba2d5459c"
   },
   "outputs": [],
   "source": []
  },
  {
   "cell_type": "code",
   "execution_count": null,
   "id": "4efc10a2-b72c-4040-8d44-e9c458b1f300",
   "metadata": {
    "id": "4efc10a2-b72c-4040-8d44-e9c458b1f300"
   },
   "outputs": [],
   "source": []
  },
  {
   "cell_type": "code",
   "execution_count": null,
   "id": "badc8aa6-3e67-48b1-b9c5-6e2e510b5680",
   "metadata": {
    "id": "badc8aa6-3e67-48b1-b9c5-6e2e510b5680"
   },
   "outputs": [],
   "source": []
  },
  {
   "cell_type": "code",
   "execution_count": null,
   "id": "3a61604c-72a6-47e5-95b0-c2fbae624658",
   "metadata": {
    "id": "3a61604c-72a6-47e5-95b0-c2fbae624658"
   },
   "outputs": [],
   "source": []
  },
  {
   "cell_type": "code",
   "execution_count": null,
   "id": "1458a559-c60e-452f-858d-dfcaba1480ec",
   "metadata": {
    "id": "1458a559-c60e-452f-858d-dfcaba1480ec"
   },
   "outputs": [],
   "source": []
  },
  {
   "cell_type": "code",
   "execution_count": null,
   "id": "bd395592-682a-45b9-85de-0d95144c4886",
   "metadata": {
    "id": "bd395592-682a-45b9-85de-0d95144c4886"
   },
   "outputs": [],
   "source": []
  },
  {
   "cell_type": "code",
   "execution_count": null,
   "id": "1cd38f9d-3cba-431f-a6fb-9b234e75e273",
   "metadata": {
    "id": "1cd38f9d-3cba-431f-a6fb-9b234e75e273"
   },
   "outputs": [],
   "source": []
  },
  {
   "cell_type": "code",
   "execution_count": null,
   "id": "5e029891-aa65-453f-9d8c-fc8a2a6df7bb",
   "metadata": {
    "id": "5e029891-aa65-453f-9d8c-fc8a2a6df7bb"
   },
   "outputs": [],
   "source": []
  },
  {
   "cell_type": "code",
   "execution_count": null,
   "id": "9f7fcfb0-5376-4a53-99ce-1adb4b0f5250",
   "metadata": {
    "id": "9f7fcfb0-5376-4a53-99ce-1adb4b0f5250"
   },
   "outputs": [],
   "source": []
  },
  {
   "cell_type": "code",
   "execution_count": null,
   "id": "07156832-0532-4ad5-9f63-c7cd4a57880a",
   "metadata": {
    "id": "07156832-0532-4ad5-9f63-c7cd4a57880a"
   },
   "outputs": [],
   "source": []
  },
  {
   "cell_type": "code",
   "execution_count": null,
   "id": "32f804e5-8478-4cf1-bb8b-44daeb298131",
   "metadata": {
    "id": "32f804e5-8478-4cf1-bb8b-44daeb298131"
   },
   "outputs": [],
   "source": []
  },
  {
   "cell_type": "code",
   "execution_count": null,
   "id": "747c70c5-91a4-423e-9267-a4751f118de4",
   "metadata": {
    "id": "747c70c5-91a4-423e-9267-a4751f118de4"
   },
   "outputs": [],
   "source": []
  }
 ],
 "metadata": {
  "colab": {
   "provenance": []
  },
  "kernelspec": {
   "display_name": "Python 3 (ipykernel)",
   "language": "python",
   "name": "python3"
  },
  "language_info": {
   "codemirror_mode": {
    "name": "ipython",
    "version": 3
   },
   "file_extension": ".py",
   "mimetype": "text/x-python",
   "name": "python",
   "nbconvert_exporter": "python",
   "pygments_lexer": "ipython3",
   "version": "3.9.12"
  }
 },
 "nbformat": 4,
 "nbformat_minor": 5
}
