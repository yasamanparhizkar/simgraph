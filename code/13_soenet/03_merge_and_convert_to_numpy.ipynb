{
 "cells": [
  {
   "cell_type": "markdown",
   "id": "96570c40-a02a-4b7d-8217-050acb793b61",
   "metadata": {},
   "source": [
    "Parham features are given in two parts: \n",
    "\n",
    "part 1: frame-batches number 41 to 1140\n",
    "\n",
    "part 2: frame-batches number 0 to 41\n",
    "\n",
    "Here, we merge the two sets and save them as numpy arrays.\n"
   ]
  },
  {
   "cell_type": "code",
   "execution_count": 1,
   "id": "486a1db0-efa0-4a7a-8adb-e1a6d6665b93",
   "metadata": {
    "tags": []
   },
   "outputs": [],
   "source": [
    "import numpy as np"
   ]
  },
  {
   "cell_type": "code",
   "execution_count": 2,
   "id": "93f83af0-dca3-42d0-927d-5206471bf2f6",
   "metadata": {
    "tags": []
   },
   "outputs": [],
   "source": [
    "feature_dp1 = '../../data/features/parham/parham2-1/'\n",
    "feature_dp2 = '../../data/features/parham/parham2-2/'\n",
    "save_path = '../../data/features/parham/parham3/'"
   ]
  },
  {
   "cell_type": "code",
   "execution_count": 3,
   "id": "7502a5ed-021c-4321-9a96-54a631da5c4a",
   "metadata": {
    "tags": []
   },
   "outputs": [],
   "source": [
    "for layer in range(1,6):\n",
    "    # merge layer features\n",
    "    fvs1 = np.load(feature_dp1+'features_test_'+str(layer)+'layer.npy')\n",
    "    fvs2 = np.load(feature_dp2+'features_test_'+str(layer)+'layer.npy')\n",
    "    assert (fvs1[0] == fvs2[41]).all() # firt batch of the first part and last batch of the second part are both batch #41\n",
    "\n",
    "    # save batches 0 to 41\n",
    "    for batch_i in range(42):\n",
    "        np.savetxt(save_path+'features_'+str(layer)+'layer/fv_'+str(batch_i)+'.csv', fvs2[batch_i])\n",
    "\n",
    "    # save batches 42 to 1140\n",
    "    for batch_i in range(1,1100):\n",
    "        np.savetxt(save_path+'features_'+str(layer)+'layer/fv_'+str(batch_i+41)+'.csv', fvs1[batch_i])"
   ]
  },
  {
   "cell_type": "code",
   "execution_count": null,
   "id": "c8cce4c3-49b2-4c86-8c1f-d27d32742416",
   "metadata": {},
   "outputs": [],
   "source": []
  },
  {
   "cell_type": "code",
   "execution_count": null,
   "id": "03696d38-a819-4268-8d2f-488c93ef6145",
   "metadata": {},
   "outputs": [],
   "source": []
  },
  {
   "cell_type": "code",
   "execution_count": null,
   "id": "b24454f0-4c89-45a8-9222-4aff80de75e0",
   "metadata": {},
   "outputs": [],
   "source": []
  },
  {
   "cell_type": "code",
   "execution_count": null,
   "id": "c013fb5e-cde3-43f8-8e2f-9f555df23616",
   "metadata": {},
   "outputs": [],
   "source": []
  },
  {
   "cell_type": "code",
   "execution_count": null,
   "id": "d849eb84-3a78-4497-9917-7e14fea19323",
   "metadata": {},
   "outputs": [],
   "source": []
  },
  {
   "cell_type": "code",
   "execution_count": null,
   "id": "b887ad08-118b-43dd-8e4f-19e62c9765e3",
   "metadata": {},
   "outputs": [],
   "source": []
  },
  {
   "cell_type": "code",
   "execution_count": null,
   "id": "ee2370b5-6434-4cb9-a0eb-40076f8546fb",
   "metadata": {},
   "outputs": [],
   "source": []
  },
  {
   "cell_type": "code",
   "execution_count": null,
   "id": "9162f044-a120-4dc0-8c1e-68c4d92a7194",
   "metadata": {},
   "outputs": [],
   "source": []
  }
 ],
 "metadata": {
  "kernelspec": {
   "display_name": "Python 3 (ipykernel)",
   "language": "python",
   "name": "python3"
  },
  "language_info": {
   "codemirror_mode": {
    "name": "ipython",
    "version": 3
   },
   "file_extension": ".py",
   "mimetype": "text/x-python",
   "name": "python",
   "nbconvert_exporter": "python",
   "pygments_lexer": "ipython3",
   "version": "3.9.12"
  }
 },
 "nbformat": 4,
 "nbformat_minor": 5
}
