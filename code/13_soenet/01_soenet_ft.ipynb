{
 "cells": [
  {
   "cell_type": "markdown",
   "id": "08794a99-017a-4ea4-b9dd-d7a141dcd89f",
   "metadata": {},
   "source": [
    "# Parham's features\n",
    "There are 5 layers in the model, each consecutive layer yields a longer feature vector than the last. Feature vector sizes for each layer are 20, 400, 800, 1600 and 3200.\n",
    "<br>\n",
    "The model's input is batches of 42 frames. No batches for the first 41 frames are created; therefore, only 1100 batches and 1100 corresponding feature vectors are generated."
   ]
  },
  {
   "cell_type": "code",
   "execution_count": 2,
   "id": "7a39133b-a244-48e6-8734-3113b3ce6b25",
   "metadata": {
    "tags": []
   },
   "outputs": [],
   "source": [
    "import numpy as np\n",
    "import matplotlib.pyplot as plt\n",
    "import torch\n",
    "import os\n",
    "\n",
    "# add the path to my packages to system paths so they can be imported\n",
    "import sys\n",
    "sys.path.append('/home/yasamanparhizkar/Documents/yorku/01_thesis/code/my_packages')\n",
    "# sys.path.append('F:\\MAScThesis\\code\\my_packages')\n",
    "# sys.path.append('/home/yasamanparhizkar/Documents/thesis/code/my_packages')\n",
    "\n",
    "import my_simgraph_05 as sg\n",
    "import data_handler_03 as dh"
   ]
  },
  {
   "cell_type": "markdown",
   "id": "8baa0629-773a-4d61-9f5b-4b396de5a1d1",
   "metadata": {},
   "source": [
    "# Load and group spike data\n",
    "Spike data shape:  (297, 1141, 113) $\\implies$ (movie repeats, frames/time, neurons)\n",
    "<br>\n",
    "Labels are 1 (= spike) or -1 (= no spike).\n",
    "<br>\n",
    "Group all 113 neurons. This will create a more balanced dataset which is presumabley easier to solve.\n",
    "<br>\n",
    "Grouped data shape:  (297, 1141, 1) $\\implies$ (movie repeats, frames/time, group)"
   ]
  },
  {
   "cell_type": "code",
   "execution_count": 3,
   "id": "9f5d4c4a-6ab3-4652-8219-927d14c4d7e0",
   "metadata": {
    "tags": []
   },
   "outputs": [
    {
     "name": "stdout",
     "output_type": "stream",
     "text": [
      "grouped_data.shape =  (297, 1141, 1)\n",
      "trial #    | percentage belonging to class 1\n",
      "---------------------------------------------\n",
      "trial #  0 | 66.26 %\n",
      "trial #  1 | 69.06 %\n",
      "trial #  2 | 67.92 %\n",
      "trial #  3 | 71.08 %\n",
      "trial #  4 | 68.97 %\n",
      "trial #  5 | 68.27 %\n",
      "trial #  6 | 66.87 %\n",
      "trial #  7 | 65.82 %\n",
      "trial #  8 | 67.66 %\n",
      "trial #  9 | 68.19 %\n",
      "---------------------------------------------\n",
      "AVERAGE     | 68.01 %\n",
      "---------------------------------------------\n",
      "68.47 % of the whole data belongs to class 1.\n"
     ]
    }
   ],
   "source": [
    "# load all spike data from file\n",
    "spikes_dp = '../../data/original_files/spikes.csv'\n",
    "binned_data = np.loadtxt(spikes_dp, delimiter=',')\n",
    "binned_data = binned_data.reshape(binned_data.shape[0], 1141, 113)\n",
    "binned_data = binned_data * 2 - 1     # turn labels from 0,1 to -1,1\n",
    "\n",
    "I_order_10 = [54, 35, 10, 60, 74, 9, 61, 56, 91, 104]\n",
    "\n",
    "# group all neurons together\n",
    "grouped_data = np.zeros((297, 1141, 1))\n",
    "for trial in range(297):\n",
    "    for frame in range(1141):\n",
    "        grouped_data[trial, frame, :] = 2 * int((binned_data[trial, frame, :] == 1).any()) - 1\n",
    "        \n",
    "# print some statistics\n",
    "print('grouped_data.shape = ', grouped_data.shape)\n",
    "\n",
    "avg_spike_perc = 0\n",
    "print('trial #    | percentage belonging to class 1')\n",
    "print('---------------------------------------------')\n",
    "for trial in range(10):\n",
    "    pers = dh.class_percentages(grouped_data[trial, :, :].reshape(-1), [-1, 1])\n",
    "    avg_spike_perc += pers[1]\n",
    "    print('trial #{:3} | {:.2f} %'.format(trial, pers[1]))\n",
    "\n",
    "avg_spike_perc /= 10\n",
    "print('---------------------------------------------')\n",
    "print('AVERAGE     | {:.2f} %'.format(avg_spike_perc))\n",
    "\n",
    "total_perc = np.sum(grouped_data == 1) *100 /(grouped_data.shape[0] * grouped_data.shape[1])\n",
    "print('---------------------------------------------')\n",
    "print('{:.2f} % of the whole data belongs to class 1.'.format(total_perc))"
   ]
  },
  {
   "cell_type": "code",
   "execution_count": null,
   "id": "256dc926-ac64-45f6-bd0d-56027fe16848",
   "metadata": {},
   "outputs": [],
   "source": []
  },
  {
   "cell_type": "markdown",
   "id": "90485e64-9d9b-4955-b79f-cc80cce34f3d",
   "metadata": {},
   "source": [
    "# Create training and validation datasets"
   ]
  },
  {
   "cell_type": "code",
   "execution_count": 4,
   "id": "57c80397-1263-408c-99fd-ac6dde947d2e",
   "metadata": {
    "tags": []
   },
   "outputs": [],
   "source": [
    "def datapoint_parham(index, data_params):\n",
    "    \"\"\"\n",
    "    Return a single datapoint consisting of (feature vector, label) \n",
    "    based on the extended index system of the whole dataset (297 repeats of a 1141-frame movie); \n",
    "    for example, the 6th frame of the 7th repeat is indexed 7*1141+5. \n",
    "    In this system, indices only move forward after repeats, so they represent time in a sense.\n",
    "    Acceptable index range is batch_sz-1 to 1141*297-1.\n",
    "      \n",
    "    Inputs: index, data_params\n",
    "    index - chosen datapoint's index\n",
    "    data_params   -\n",
    "        func - funtion which returns a datapoint (fv, lbl) based on its index\n",
    "        features_dp - path to where feature vectors are stored\n",
    "        spike_data - (297 x 1141 x m)-shaped array where m is the number of subgroups of neurons.\n",
    "        group_id - index of the chosen subgroup of neurons which is being considered\n",
    "        transform - func. applied to the original feature vector (defult: None, no transform is applied)\n",
    "            \n",
    "    \n",
    "    Output: fv, lbl\n",
    "    fv  - Dfx1 vector representing the selected time bin's feature vector\n",
    "    lbl - the selected time bin's label\n",
    "    \"\"\"\n",
    "    # unpack params\n",
    "    features_dp = data_params['features_dp']\n",
    "    lbl_func = data_params['lbl_func']\n",
    "    transform = data_params['transform'] if 'transform' in data_params else None\n",
    "    \n",
    "    # feature vector\n",
    "    # trial = index//1141\n",
    "    frame = index%1141\n",
    "    fvs = np.load(features_dp)\n",
    "    fv = fvs[frame - 41]\n",
    "    if transform is not None:\n",
    "        fv = transform(fv)\n",
    "\n",
    "    # label  \n",
    "    lbls = lbl_func(data_params)\n",
    "    lbl = lbls[index]\n",
    "    \n",
    "    return fv, lbl"
   ]
  },
  {
   "cell_type": "code",
   "execution_count": 31,
   "id": "3f2028c1-7dc0-4827-b7ed-e6f7de0f3eac",
   "metadata": {
    "tags": []
   },
   "outputs": [
    {
     "name": "stdout",
     "output_type": "stream",
     "text": [
      "train_num =  50 , val_num =  20\n",
      "training data contains 25 points (50.00%) of label 1.\n",
      "validation data contains 10 points (50.00%) of label 1.\n",
      "feature vector dim = 400\n"
     ]
    }
   ],
   "source": [
    "def transform(fv):\n",
    "    \"\"\"\n",
    "    Transform to be applied on feature vectors.\n",
    "    \n",
    "    Input: fv\n",
    "    fv - 1xDf torch tensor representing a feature vector\n",
    "    \n",
    "    Output: fvv\n",
    "    fvv - 1xDf' torch tensor representing the transformed feature vector\n",
    "    \"\"\"\n",
    "    \n",
    "    # for faster run and less memory usage\n",
    "    fvv = fv[::2]\n",
    "    \n",
    "    # for numerical stability during GD\n",
    "    # fvv = fvv * 10\n",
    "    \n",
    "    return fvv\n",
    "\n",
    "# data retrieval params - using layer1 features\n",
    "data_params = {'func': datapoint_parham, 'lbl_func': dh.get_labels, 'features_dp': '../../data/features/parham/parham2/features_test_2layer.npy', \\\n",
    "               'spike_data': grouped_data, 'group_id': 0, 'transform': None, 'ind_min': 1*1141+41, 'ind_max': 2*1141-1}\n",
    "\n",
    "train_num = 50\n",
    "val_num = 20\n",
    "\n",
    "train_num, val_num, train_data, val_data = \\\n",
    "dh.random_train_val_balanced(train_num, val_num, data_params, seed=0)\n",
    "\n",
    "# show statistics\n",
    "print('train_num = ', train_num, ', val_num = ', val_num)\n",
    "print('training data contains {} points ({:.2f}%) of label 1.'\n",
    "      .format(np.sum(train_data['lbls'] == 1), np.sum(train_data['lbls'] == 1)*100/train_num))\n",
    "print('validation data contains {} points ({:.2f}%) of label 1.'\n",
    "      .format(np.sum(val_data['lbls'] == 1), np.sum(val_data['lbls'] == 1)*100/val_num))\n",
    "print('feature vector dim = {}'.format(train_data['des'].shape[1]))\n",
    "\n",
    "# print('train_smpls = ', train_data['smpls'], '\\nval_smpls = ', val_data['smpls'])\n",
    "# print('train_lbls = ', train_data['lbls'], '\\nval_lbls = ', val_data['lbls'])\n",
    "# print('train_des = ', train_data['des'], '\\nval_des = ', val_data['des'])"
   ]
  },
  {
   "cell_type": "code",
   "execution_count": null,
   "id": "0436b746-df8e-4e09-b6f5-66eeaa15411d",
   "metadata": {},
   "outputs": [],
   "source": []
  },
  {
   "cell_type": "markdown",
   "id": "908af6ac-78e4-49b0-ae18-9e4ff8f520b6",
   "metadata": {},
   "source": [
    "# Learn the similarity graph"
   ]
  },
  {
   "cell_type": "code",
   "execution_count": 32,
   "id": "371ea189-adb4-4147-b509-1bb6cb87b54a",
   "metadata": {
    "tags": []
   },
   "outputs": [
    {
     "data": {
      "text/plain": [
       "<module 'my_simgraph_05' from '/home/yasamanparhizkar/Documents/yorku/01_thesis/code/my_packages/my_simgraph_05.py'>"
      ]
     },
     "execution_count": 32,
     "metadata": {},
     "output_type": "execute_result"
    }
   ],
   "source": [
    "# reload sg package\n",
    "import importlib\n",
    "importlib.reload(sg)"
   ]
  },
  {
   "cell_type": "code",
   "execution_count": 86,
   "id": "ea238fed-f0c7-4857-962b-1a23a3acff58",
   "metadata": {
    "tags": []
   },
   "outputs": [
    {
     "name": "stdout",
     "output_type": "stream",
     "text": [
      "Number of training datapoints: 50\n",
      "Number of features for each point: 400\n",
      "mu = 38.5\n",
      "   0: eps = 1.56e-02;  train loss (E) = 16.96\n",
      "   1: eps = 1.56e-02;  train loss (E) =  2.20\n",
      "   2: eps = 2.44e-04;  train loss (E) =  1.40\n",
      "   3: eps = 4.88e-04;  train loss (E) =  1.30\n",
      "   4: eps = 9.77e-04;  train loss (E) =  1.11\n",
      "   5: eps = 1.95e-03;  train loss (E) =  0.80\n",
      "   6: eps = 3.91e-03;  train loss (E) =  0.39\n",
      "   7: eps = 7.81e-03;  train loss (E) =  0.06\n",
      "   8: eps = 3.91e-03;  train loss (E) =  0.03\n",
      "   9: eps = 3.91e-03;  train loss (E) =  0.03\n"
     ]
    }
   ],
   "source": [
    "# graph construction and penalty term parameters\n",
    "sg_params = {'mu': 38.5, 'Dt': None, 'Dv':0, 'Dvt':2000, \\\n",
    "             'cnstr_method_tt': 'time', 'cnstr_method_vv': 'time', 'cnstr_method_vt': 'time',\\\n",
    "             'train_t': None, 'val_t': None, \\\n",
    "             'edges_tt':None, 'edges_vv':None, 'edges_vt':None, }\n",
    "\n",
    "# gradient descent parameters\n",
    "sg_opt_params = { 'epsilon0':1, 'epsilon_decay':0.5, 'epsilon_jump': 2, \\\n",
    "                'num_its':10, 'check_freq':1, 'print_checks':True, 'Theta0':None, \\\n",
    "                'force_all_its': True, 'threshold': 0.01}\n",
    "\n",
    "B, sg_stats = sg.fit_graph(dess=train_data['des'], lbls=train_data['lbls'], graph_params=sg_params, opt_params=sg_opt_params, seed=0)"
   ]
  },
  {
   "cell_type": "markdown",
   "id": "3a4fcd39-e4a1-4fe7-bb20-0df0cdcea510",
   "metadata": {},
   "source": [
    "## Display learned metric matrix"
   ]
  },
  {
   "cell_type": "code",
   "execution_count": 87,
   "id": "21052c98-5e4f-44af-9351-d60121ac05c9",
   "metadata": {},
   "outputs": [
    {
     "name": "stdout",
     "output_type": "stream",
     "text": [
      "Coordinates of elements with higher values than 3.706216088631619e-05\n"
     ]
    },
    {
     "data": {
      "image/png": "[encoded data removed]",
      "text/plain": [
       "<Figure size 400x400 with 2 Axes>"
      ]
     },
     "metadata": {},
     "output_type": "display_data"
    }
   ],
   "source": [
    "# display learned M\n",
    "M = B.T @ B\n",
    "# to preserve memory, uncomment below line\n",
    "# del B\n",
    "\n",
    "sg.display_matrix(M, None)\n",
    "\n",
    "# mark elements with high values\n",
    "thresh = 90\n",
    "lim = (thresh/100) * np.max(M) # marker threshold\n",
    "f_sz = M.shape[0]\n",
    "xloc = np.broadcast_to(np.arange(f_sz), (f_sz, f_sz))\n",
    "yloc = xloc.T\n",
    "plt.plot(xloc[M > lim],yloc[M > lim], marker='o', markersize=3, color='r', linestyle='')\n",
    "plt.title('M - marked above {}%'.format(thresh))\n",
    "print('Coordinates of elements with higher values than {}'.format(lim))\n",
    "# print(list(zip(xloc[M > lim],yloc[M > lim])))\n",
    "\n",
    "# save results\n",
    "# plt.savefig('../../../data/experiments/slowfast/slowfast_sg/temp/finalM_'+str(0)+'.png')\n",
    "# plt.close()\n",
    "# np.savetxt('results/sg_finalB.csv', B, delimiter=',')"
   ]
  },
  {
   "cell_type": "markdown",
   "id": "fa6d4ade-a44c-4334-b4f5-930ffcf39928",
   "metadata": {},
   "source": [
    "# Validate the similarity graph"
   ]
  },
  {
   "cell_type": "code",
   "execution_count": 88,
   "id": "c921cfb9-1c80-43ce-8f43-13f0ed155314",
   "metadata": {},
   "outputs": [],
   "source": [
    "sg_params['train_t'] = train_data['smpls']\n",
    "sg_params['val_t'] = val_data['smpls']\n",
    "M = B.T @ B\n",
    "val_acc, y_est, t = sg.get_acc(M, train_data['des'], train_data['lbls'], val_data['des'], val_data['lbls'], sg_params, seed=0, show_edges=False)"
   ]
  },
  {
   "cell_type": "code",
   "execution_count": 89,
   "id": "b4fa721f-bc26-4260-a02a-9b4dbaf05e48",
   "metadata": {},
   "outputs": [
    {
     "name": "stdout",
     "output_type": "stream",
     "text": [
      "val acc = 80.00%\n",
      "elapsed time = 53.63 ms\n",
      "estimated val labels =  [ 1  1 -1  1  1  1  1  1  1  1  1 -1  1 -1 -1 -1 -1  1 -1 -1]\n"
     ]
    }
   ],
   "source": [
    "print('val acc = {:.2f}%'.format(val_acc*100))\n",
    "print('elapsed time = {:.2f} ms'.format(t*1000))\n",
    "print('estimated val labels = ', 2*(y_est>0).astype(np.int32)-1)\n",
    "\n",
    "# # save results\n",
    "# np.savetxt('results/sg_val_acc.txt', np.array([acc]))\n",
    "# np.savetxt('results/sg_y_est.csv', y_est, delimiter=',')"
   ]
  },
  {
   "cell_type": "code",
   "execution_count": 90,
   "id": "6befab97-cafe-425c-a3ea-ccc63e8b6180",
   "metadata": {},
   "outputs": [
    {
     "name": "stdout",
     "output_type": "stream",
     "text": [
      "Estimated spike time bins:  [ 0  1  3  4  5  6  7  8  9 10 12 17]\n",
      "Real spike time bins:  [0 1 2 3 4 5 6 7 8 9]\n",
      "50.00% of validation points have label 1 (= min accuracy)\n",
      "Missed spikes (/all spikes): 10.00%\n",
      "False spikes (/all no-spike bins): 30.00%\n"
     ]
    }
   ],
   "source": [
    "# comparing estimated and real spike locations\n",
    "val_loc = np.arange(val_num)\n",
    "val_spikes = val_loc[val_data['lbls']==1]\n",
    "est_spikes = val_loc[y_est > 0]\n",
    "\n",
    "if sum(val_data['lbls']==1) == 0:\n",
    "    missed = 0\n",
    "else:\n",
    "    missed = sum(np.logical_and(val_data['lbls']==1, y_est < 0))/sum(val_data['lbls']==1)\n",
    "\n",
    "if sum(val_data['lbls']==-1) == 0:\n",
    "    false_alarm = 0\n",
    "else:\n",
    "    false_alarm = sum(np.logical_and(val_data['lbls']==-1, y_est > 0))/sum(val_data['lbls']==-1)\n",
    "\n",
    "nospk_per = np.sum(val_data['lbls']==-1)/val_num\n",
    "min_acc = max(nospk_per, 1-nospk_per)\n",
    "\n",
    "print('Estimated spike time bins: ', est_spikes)\n",
    "print('Real spike time bins: ', val_spikes)\n",
    "print('{:.2f}% of validation points have label {} (= min accuracy)'.format(min_acc*100, -1 if nospk_per > 50 else 1))\n",
    "print('Missed spikes (/all spikes): {:.2f}%'.format(missed*100))\n",
    "print('False spikes (/all no-spike bins): {:.2f}%'.format(false_alarm*100))"
   ]
  },
  {
   "cell_type": "code",
   "execution_count": null,
   "id": "eeba86b7-1208-42bc-bc8b-12bce9caf4b8",
   "metadata": {},
   "outputs": [],
   "source": []
  },
  {
   "cell_type": "code",
   "execution_count": null,
   "id": "c1bd6b99-8775-4cf1-b59e-a592b5467cb1",
   "metadata": {},
   "outputs": [],
   "source": []
  },
  {
   "cell_type": "code",
   "execution_count": null,
   "id": "b404435b-767e-4d80-80b2-27703305b0e1",
   "metadata": {},
   "outputs": [],
   "source": []
  },
  {
   "cell_type": "code",
   "execution_count": null,
   "id": "0a3aa686-894b-4426-bd98-850a8a121719",
   "metadata": {},
   "outputs": [],
   "source": []
  },
  {
   "cell_type": "code",
   "execution_count": null,
   "id": "53e2b1d8-e9cb-4e7c-b997-eb75d6a478a1",
   "metadata": {},
   "outputs": [],
   "source": []
  },
  {
   "cell_type": "code",
   "execution_count": null,
   "id": "b2d66887-27e7-4b7a-af4a-2c2e82c419bf",
   "metadata": {},
   "outputs": [],
   "source": []
  },
  {
   "cell_type": "code",
   "execution_count": null,
   "id": "343a43de-64bf-4ea1-807a-d86150841d41",
   "metadata": {},
   "outputs": [],
   "source": []
  },
  {
   "cell_type": "code",
   "execution_count": null,
   "id": "a78bb439-2443-4039-b787-28ea1390fca0",
   "metadata": {},
   "outputs": [],
   "source": []
  },
  {
   "cell_type": "code",
   "execution_count": null,
   "id": "5a98b66f-4b7c-4b26-b366-f507e5e02ef7",
   "metadata": {},
   "outputs": [],
   "source": []
  },
  {
   "cell_type": "code",
   "execution_count": null,
   "id": "632f9254-1585-4e71-8006-c640692493c1",
   "metadata": {},
   "outputs": [],
   "source": []
  },
  {
   "cell_type": "code",
   "execution_count": null,
   "id": "ab844466-bd3a-47e9-ab1e-0299e0760d2b",
   "metadata": {},
   "outputs": [],
   "source": []
  },
  {
   "cell_type": "code",
   "execution_count": null,
   "id": "25edde7b-a9b7-4414-aae2-d6531eae517c",
   "metadata": {},
   "outputs": [],
   "source": []
  },
  {
   "cell_type": "code",
   "execution_count": null,
   "id": "203b16c8-4a52-4c75-b099-5c565f74daa7",
   "metadata": {},
   "outputs": [],
   "source": []
  }
 ],
 "metadata": {
  "kernelspec": {
   "display_name": "Python 3 (ipykernel)",
   "language": "python",
   "name": "python3"
  },
  "language_info": {
   "codemirror_mode": {
    "name": "ipython",
    "version": 3
   },
   "file_extension": ".py",
   "mimetype": "text/x-python",
   "name": "python",
   "nbconvert_exporter": "python",
   "pygments_lexer": "ipython3",
   "version": "3.9.12"
  }
 },
 "nbformat": 4,
 "nbformat_minor": 5
}
