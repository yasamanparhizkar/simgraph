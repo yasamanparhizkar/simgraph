{
 "cells": [
  {
   "cell_type": "code",
   "execution_count": 1,
   "id": "2e1c99ba-fdef-4f77-b7f7-a391d4c16230",
   "metadata": {},
   "outputs": [],
   "source": [
    "import numpy as np\n",
    "import pickle\n",
    "from matplotlib import pyplot as plt\n",
    "import time\n",
    "\n",
    "# add the path to my packages to system paths so they can be imported\n",
    "import sys\n",
    "# sys.path.append('/home/yasamanparhizkar/Documents/yorku/01_thesis/simgraph/code/my_packages')\n",
    "sys.path.append('F:/Users/yasam/Documents/GitHub/simgraph/code/my_packages')\n",
    "# sys.path.append('/home/yasamanparhizkar/Documents/thesis/code/my_packages')\n",
    "\n",
    "import simgraph.my_simgraph as sg\n",
    "import dataprocess.data_handler_03 as dh"
   ]
  },
  {
   "cell_type": "markdown",
   "id": "e9cca5b0-920c-42fe-a0b4-3257bb474361",
   "metadata": {},
   "source": [
    "# Compare the top eigenvectors of a group and a subgroup\n",
    "\n",
    "Train GLR on a large group (of about 10 cells) and a small subgroup of the large group (e.g. 3 cells), and see if the eigenvectors of M are similar."
   ]
  },
  {
   "cell_type": "markdown",
   "id": "e0e08d27-434c-4b4d-a543-a95f240e0404",
   "metadata": {},
   "source": [
    "## Define the group and the subgroup"
   ]
  },
  {
   "cell_type": "code",
   "execution_count": 5,
   "id": "4da80095-1c6a-42ca-b075-9567991fb8e7",
   "metadata": {},
   "outputs": [
    {
     "name": "stdout",
     "output_type": "stream",
     "text": [
      "number of cell groups: 3\n",
      "group sizes: [16, 13, 11]\n",
      "The selected group is = [1, 18, 59, 30, 53, 68, 103, 111, 107, 105, 60, 41, 90, 76, 55, 22]\n",
      "The selected subgroup is = [1, 18, 59, 30, 53]\n"
     ]
    }
   ],
   "source": [
    "# load the indices of the cells in the above group\n",
    "with open('../../data/matlab_data/cell_groups_rtpairwise.pkl', 'rb') as file:\n",
    "    cell_groups = pickle.load(file)\n",
    "\n",
    "num_groups = len(cell_groups)\n",
    "print('number of cell groups:', num_groups)\n",
    "print('group sizes:', [len(group) for group in cell_groups])\n",
    "\n",
    "group_inds = cell_groups[0]\n",
    "print('The selected group is =', group_inds)\n",
    "\n",
    "# separate the first cells into a subgroup\n",
    "sub_sz = 5\n",
    "sub_inds = group_inds[:sub_sz]\n",
    "print('The selected subgroup is =', sub_inds)"
   ]
  },
  {
   "cell_type": "code",
   "execution_count": 6,
   "id": "aa94e62a-0d09-419b-a87c-2ce14293fcb5",
   "metadata": {},
   "outputs": [
    {
     "name": "stdout",
     "output_type": "stream",
     "text": [
      "The group M is of shape (384, 384)\n"
     ]
    }
   ],
   "source": [
    "# load the larger group's M from disk\n",
    "M_1 = np.load('matrices/exp_M_1.npy')\n",
    "print('The group M is of shape', M_1.shape)"
   ]
  },
  {
   "cell_type": "markdown",
   "id": "75249dac-62f8-46d8-8e21-facd2c25dcac",
   "metadata": {},
   "source": [
    "## Train the GLR on the group"
   ]
  },
  {
   "cell_type": "code",
   "execution_count": 7,
   "id": "19cba291-e50a-47da-916b-758a5bdf26bb",
   "metadata": {},
   "outputs": [
    {
     "name": "stdout",
     "output_type": "stream",
     "text": [
      "spike data is of shape (297, 1141, 113)\n"
     ]
    }
   ],
   "source": [
    "# load all spike data from file\n",
    "spikes_dp = '../../../local_data/original_files/'\n",
    "binned_data = np.load(spikes_dp+'spikes.npy')\n",
    "binned_data = binned_data.reshape(binned_data.shape[0], 1141, 113)\n",
    "binned_data = binned_data * 2 - 1     # turn labels from 0,1 to -1,1\n",
    "print('spike data is of shape', binned_data.shape)\n",
    "nrepeats, nframes, ncells = binned_data.shape"
   ]
  },
  {
   "cell_type": "code",
   "execution_count": 8,
   "id": "d45d33b9-5300-4bd5-8b31-42f779c05889",
   "metadata": {},
   "outputs": [
    {
     "name": "stdout",
     "output_type": "stream",
     "text": [
      "group response is of shape (297, 1141, 1)\n",
      "38.87% of the group response is labeled 1\n"
     ]
    }
   ],
   "source": [
    "# create the group response\n",
    "group_res = np.zeros((nrepeats, nframes, 1))\n",
    "for repeat_i in range(nrepeats):\n",
    "    for frame_i in range(nframes):\n",
    "        group_res[repeat_i, frame_i, :] = 2 * int((binned_data[repeat_i, frame_i, group_inds] == 1).any()) - 1\n",
    "print('group response is of shape', group_res.shape)\n",
    "print('{:.2f}% of the group response is labeled 1'.format(100 * sum(group_res.reshape(-1) == 1) / len(group_res.reshape(-1))))"
   ]
  },
  {
   "cell_type": "code",
   "execution_count": 9,
   "id": "b0f1db3a-293e-41b3-a58a-dbfa32edfcef",
   "metadata": {},
   "outputs": [],
   "source": [
    "# prepare the data\n",
    "def transform_sift3d(fv):\n",
    "    return fv[::2]\n",
    "\n",
    "data_params = {'func': dh.datapoint_numpy, 'lbl_func': dh.get_labels, 'features_dp': '../../data/features/sift3d/fvs_s1_with_kp/desc/', \\\n",
    "               'spike_data': group_res, 'group_id': 0, 'transform': transform_sift3d, 'ind_min': 1*1141+0, 'ind_max': 2*1141-1, 'feature_id':'sift3d'}\n",
    "\n",
    "# choose dataset sizes\n",
    "train_num = 200\n",
    "val_num = 100\n",
    "\n",
    "# create training and validation datasets\n",
    "train_num, val_num, train_data, val_data = \\\n",
    "dh.random_train_val_balanced(train_num, val_num, data_params, seed=0)"
   ]
  },
  {
   "cell_type": "code",
   "execution_count": 10,
   "id": "695ec996-d77a-4805-bf26-f5678ee8012b",
   "metadata": {
    "scrolled": true,
    "tags": []
   },
   "outputs": [
    {
     "name": "stdout",
     "output_type": "stream",
     "text": [
      "feature_id:  sift3d\n",
      "train_num =  200 , val_num =  100\n",
      "number of features:  384\n",
      "train_smpls =  [1473 1271 1526 1914 1327 1752 1299 1868 1870 1704 1659 2006 1945 1755\n",
      " 1295 1783 1807 1932 1718 1356 2135 2164 1761 2190 1793 1941 1466 2150\n",
      " 1608 1391 1682 1792 2165 1435 1317 2140 1667 1809 2008 1947 1727 1884\n",
      " 2126 1731 1832 1764 1828 2189 1437 1680 2161 1766 1384 1936 1525 1795\n",
      " 1703 1152 1472 1523 2183 2204 1308 1429 2146 1906 1951 2169 2182 1613\n",
      " 1903 2043 1150 2148 1313 1507 1816 1656 1341 1815 1464 1869 1963 1817\n",
      " 1902 1831 1651 2130 1751 1533 1937 1836 1301 1168 1518 2185 1148 1395\n",
      " 2156 1607 2080 1881 2074 1969 1582 1240 1156 1425 1697 1370 2032 2064\n",
      " 1288 2224 2089 1571 1830 2230 1887 1583 1565 2158 1687 2269 1723 1177\n",
      " 1174 1691 1598 1243 1289 1189 1334 1853 1231 2062 1631 1322 1297 1940\n",
      " 1772 1574 2065 1481 2052 1996 1630 2029 1357 1570 1778 2073 2101 1249\n",
      " 1734 2237 2057 1987 2223 1929 2265 1599 2210 2082 1844 1848 1991 1263\n",
      " 2051 2081 2220 2267 1801 1191 1610 1625 1544 1206 1615 1291 2069 1421\n",
      " 1439 1178 2031 1205 1294 2022 1784 2195 2218 1407 1163 1234 1339 1359\n",
      " 2092 1977 1554 1699] \n",
      "val_smpls =  [1331 1304 2041 1949 1883 2035 1348 1714 1346 1434 1717 1942 1748 1467\n",
      " 2181 1611 1307 1302 1804 1899 1276 1763 1957 1785 1867 1468 1782 1154\n",
      " 1399 2047 1386 1305 1149 2133 1471 1404 2144 2261 1660 2119 1762 1683\n",
      " 1911 1803 1169 1497 1765 1827 1759 1726 1989 1283 2109 1447 2067 2107\n",
      " 1210 1182 1539 1856 1985 1477 1546 1220 2060 2213 1692 2007 2113 1282\n",
      " 1696 1445 1329 1558 2243 1648 1821 1628 1186 1246 2242 1852 1200 1995\n",
      " 1586 1896 1595 1573 1885 1326 2018 2271 2200 2011 2093 1732 2212 1183\n",
      " 1984 1280]\n",
      "train_lbls =  [ 1.  1.  1.  1.  1.  1.  1.  1.  1.  1.  1.  1.  1.  1.  1.  1.  1.  1.\n",
      "  1.  1.  1.  1.  1.  1.  1.  1.  1.  1.  1.  1.  1.  1.  1.  1.  1.  1.\n",
      "  1.  1.  1.  1.  1.  1.  1.  1.  1.  1.  1.  1.  1.  1.  1.  1.  1.  1.\n",
      "  1.  1.  1.  1.  1.  1.  1.  1.  1.  1.  1.  1.  1.  1.  1.  1.  1.  1.\n",
      "  1.  1.  1.  1.  1.  1.  1.  1.  1.  1.  1.  1.  1.  1.  1.  1.  1.  1.\n",
      "  1.  1.  1.  1.  1.  1.  1.  1.  1.  1. -1. -1. -1. -1. -1. -1. -1. -1.\n",
      " -1. -1. -1. -1. -1. -1. -1. -1. -1. -1. -1. -1. -1. -1. -1. -1. -1. -1.\n",
      " -1. -1. -1. -1. -1. -1. -1. -1. -1. -1. -1. -1. -1. -1. -1. -1. -1. -1.\n",
      " -1. -1. -1. -1. -1. -1. -1. -1. -1. -1. -1. -1. -1. -1. -1. -1. -1. -1.\n",
      " -1. -1. -1. -1. -1. -1. -1. -1. -1. -1. -1. -1. -1. -1. -1. -1. -1. -1.\n",
      " -1. -1. -1. -1. -1. -1. -1. -1. -1. -1. -1. -1. -1. -1. -1. -1. -1. -1.\n",
      " -1. -1.] \n",
      "val_lbls =  [ 1.  1.  1.  1.  1.  1.  1.  1.  1.  1.  1.  1.  1.  1.  1.  1.  1.  1.\n",
      "  1.  1.  1.  1.  1.  1.  1.  1.  1.  1.  1.  1.  1.  1.  1.  1.  1.  1.\n",
      "  1.  1.  1.  1.  1.  1.  1.  1.  1.  1.  1.  1.  1.  1. -1. -1. -1. -1.\n",
      " -1. -1. -1. -1. -1. -1. -1. -1. -1. -1. -1. -1. -1. -1. -1. -1. -1. -1.\n",
      " -1. -1. -1. -1. -1. -1. -1. -1. -1. -1. -1. -1. -1. -1. -1. -1. -1. -1.\n",
      " -1. -1. -1. -1. -1. -1. -1. -1. -1. -1.]\n",
      "train_des =  [[0.0000e+00 0.0000e+00 0.0000e+00 ... 4.5990e-03 9.7080e-03 3.7790e-03]\n",
      " [0.0000e+00 0.0000e+00 0.0000e+00 ... 1.8059e-02 3.5676e-02 2.7882e-02]\n",
      " [0.0000e+00 0.0000e+00 0.0000e+00 ... 3.4060e-03 2.3160e-03 5.5310e-03]\n",
      " ...\n",
      " [0.0000e+00 0.0000e+00 0.0000e+00 ... 1.8939e-02 3.7424e-02 2.9042e-02]\n",
      " [0.0000e+00 0.0000e+00 0.0000e+00 ... 7.2720e-03 7.1870e-03 5.3310e-03]\n",
      " [0.0000e+00 0.0000e+00 0.0000e+00 ... 1.0500e-04 2.1000e-05 2.0000e-05]] \n",
      "val_des =  [[0.       0.       0.       ... 0.010414 0.010392 0.008389]\n",
      " [0.       0.       0.       ... 0.003504 0.003639 0.002814]\n",
      " [0.       0.       0.       ... 0.021695 0.021223 0.038102]\n",
      " ...\n",
      " [0.       0.       0.       ... 0.046519 0.050756 0.030806]\n",
      " [0.       0.       0.       ... 0.006863 0.011396 0.008723]\n",
      " [0.       0.       0.       ... 0.000174 0.000713 0.000282]]\n",
      "minimum value of train features:  0.0\n",
      "mean value of train features:  0.01712428877604167\n",
      "median value of train features:  0.000154\n",
      "maximum value of train features:  0.123908\n"
     ]
    }
   ],
   "source": [
    "# show statistics\n",
    "print('feature_id: ', data_params['feature_id'])\n",
    "print('train_num = ', train_num, ', val_num = ', val_num)\n",
    "print('number of features: ', train_data['des'].shape[1])\n",
    "\n",
    "print('train_smpls = ', train_data['smpls'], '\\nval_smpls = ', val_data['smpls'])\n",
    "print('train_lbls = ', train_data['lbls'], '\\nval_lbls = ', val_data['lbls'])\n",
    "print('train_des = ', train_data['des'], '\\nval_des = ', val_data['des'])\n",
    "print('minimum value of train features: ', np.min(train_data['des']))\n",
    "print('mean value of train features: ', np.mean(train_data['des']))\n",
    "print('median value of train features: ', np.median(train_data['des']))\n",
    "print('maximum value of train features: ', np.max(train_data['des']))"
   ]
  },
  {
   "cell_type": "code",
   "execution_count": 11,
   "id": "2a3c259c-852a-406a-a4ba-6c1f89a50d87",
   "metadata": {
    "tags": []
   },
   "outputs": [],
   "source": [
    "# visualize the learned metric matrix\n",
    "def visualize_M(M, fig_params):\n",
    "    # unpack params\n",
    "    rmark_th = fig_params['rmark_th']\n",
    "    xloc = fig_params['xloc']\n",
    "    yloc = fig_params['yloc']\n",
    "\n",
    "    sg.display_matrix(M, None)\n",
    "    # mark prominent elements          \n",
    "    lim = (rmark_th/100) * np.max(M) # marker threshold                \n",
    "    plt.plot(xloc[M > lim],yloc[M > lim], marker='o', markersize=3, color='r', linestyle='')\n",
    "    plt.title('M - marked above {}%'.format(rmark_th))"
   ]
  },
  {
   "cell_type": "code",
   "execution_count": 12,
   "id": "1178e25c-0b19-423d-92a0-b5d14257483c",
   "metadata": {
    "tags": []
   },
   "outputs": [
    {
     "name": "stdout",
     "output_type": "stream",
     "text": [
      "4856\n"
     ]
    }
   ],
   "source": [
    "# graph construction parameters (common for all three methods)\n",
    "sg_params = {'Dt': 50, 'Dv': 26, 'Dvt': 10, 'mu': 1,\\\n",
    "             'cnstr_method_tt': 'time-glr', 'cnstr_method_vv': 'time-glr', 'cnstr_method_vt': 'time-balanced',\\\n",
    "             'train_t': None, 'val_t': None, \\\n",
    "             'edges_tt':None, 'edges_vv':None, 'edges_vt':None, }\n",
    "\n",
    "# gradient descent parameters (only used for factobj1)\n",
    "gd_opt_params = { 'epsilon0':1, 'epsilon_decay':0.5, 'epsilon_jump': 1.7, \\\n",
    "                'num_its':150, 'check_freq':15, 'print_checks':True, 'Theta0':None, \\\n",
    "                'force_all_its': True, 'threshold': -1}\n",
    "\n",
    "# random parameter for edge selection and B initialization\n",
    "seed = 0\n",
    "\n",
    "# update sg_params\n",
    "sg_params['train_t'] = train_data['smpls']\n",
    "sg_params['val_t'] = val_data['smpls']\n",
    "\n",
    "# set edges\n",
    "sg_params['edges_tt'] = sg.get_edges_tt(train_data['lbls'], sg_params['Dt'], sg_params['cnstr_method_tt'], sg_params['train_t'], seed)\n",
    "print(len(sg_params['edges_tt']))"
   ]
  },
  {
   "cell_type": "code",
   "execution_count": 42,
   "id": "e36cb8fa-b23a-4fa6-8182-bd7d00af7d7d",
   "metadata": {
    "tags": []
   },
   "outputs": [
    {
     "name": "stdout",
     "output_type": "stream",
     "text": [
      "Number of training datapoints: 200\n",
      "Number of features for each point: 384\n",
      "mu = 1\n",
      "   0: eps = 2.12e-01;  train loss (E) = 13082.02\n",
      "  15: eps = 1.49e-01;  train loss (E) = 699.93\n",
      "  30: eps = 2.08e-01;  train loss (E) = 698.25\n",
      "  45: eps = 1.45e-01;  train loss (E) = 698.07\n",
      "  60: eps = 2.03e-01;  train loss (E) = 698.03\n",
      "  75: eps = 2.83e-01;  train loss (E) = 698.01\n",
      "  90: eps = 1.98e-01;  train loss (E) = 698.00\n",
      " 105: eps = 1.38e-01;  train loss (E) = 698.00\n",
      " 120: eps = 1.93e-01;  train loss (E) = 698.00\n",
      " 135: eps = 1.35e-01;  train loss (E) = 697.99\n",
      " 149: eps = 2.22e-01;  train loss (E) = 697.99\n",
      "Elapsed  time: 751.257769 sec\n"
     ]
    }
   ],
   "source": [
    "# fit the graph\n",
    "time0 = time.time()\n",
    "gd_opt_params['Theta0'] = None\n",
    "group_B, group_stats = sg.fit_graph(train_data['des'], train_data['lbls'], sg_params, gd_opt_params, seed)\n",
    "group_M = group_B.T @ group_B\n",
    "print('Elapsed  time: {:.6f} sec'.format(time.time()-time0))"
   ]
  },
  {
   "cell_type": "code",
   "execution_count": 43,
   "id": "137093eb-00fb-44ea-ac32-3565d519f1da",
   "metadata": {
    "tags": []
   },
   "outputs": [
    {
     "name": "stdout",
     "output_type": "stream",
     "text": [
      "Elapsed time: 0.086768 sec\n",
      "GLR val. acc. = 0.580000\n"
     ]
    }
   ],
   "source": [
    "# validate exp: 1st model\n",
    "group_val_acc, group_y_est, group_t = sg.get_acc(group_M, train_data['des'], train_data['lbls'], \n",
    "                                                    val_data['des'], val_data['lbls'], sg_params, 'binary', \n",
    "                                                    seed, show_edges=False)\n",
    "print('Elapsed time: {:.6f} sec'.format(group_t))\n",
    "print('GLR val. acc. = {:.6f}'.format(group_val_acc))"
   ]
  },
  {
   "cell_type": "code",
   "execution_count": 44,
   "id": "1c08d7a4-9a79-45f5-964e-9f5d49375373",
   "metadata": {
    "tags": []
   },
   "outputs": [
    {
     "data": {
      "image/png": "[encoded data removed]",
      "text/plain": [
       "<Figure size 288x288 with 2 Axes>"
      ]
     },
     "metadata": {
      "needs_background": "light"
     },
     "output_type": "display_data"
    }
   ],
   "source": [
    "# parameters to visualize the optimized M\n",
    "f_sz = train_data['des'].shape[1] # must match data_params\n",
    "xloc = np.broadcast_to(np.arange(f_sz), (f_sz, f_sz))\n",
    "yloc = xloc.T\n",
    "fig_params = {'rmark_th': 30, 'f_sz': f_sz, 'xloc': xloc, 'yloc': yloc}\n",
    "visualize_M(group_M, fig_params)"
   ]
  },
  {
   "cell_type": "code",
   "execution_count": 13,
   "id": "0809e6ea-c0ef-450e-b5d7-08ade4ab8267",
   "metadata": {},
   "outputs": [],
   "source": [
    "# put it all together\n",
    "def train_glr(res_signal, train_num, val_num, sg_params, gd_opt_params):\n",
    "    data_params = {'func': dh.datapoint_numpy, 'lbl_func': dh.get_labels, 'features_dp': '../../data/features/sift3d/fvs_s1_with_kp/desc/', \\\n",
    "               'spike_data': res_signal, 'group_id': 0, 'transform': transform_sift3d, 'ind_min': 1*1141+0, 'ind_max': 2*1141-1, 'feature_id':'sift3d'}\n",
    "\n",
    "    # create training and validation datasets\n",
    "    train_num, val_num, train_data, val_data = \\\n",
    "    dh.random_train_val_balanced(train_num, val_num, data_params, seed=0)\n",
    "\n",
    "    # random parameter for edge selection and B initialization\n",
    "    seed = 0\n",
    "\n",
    "    # update sg_params\n",
    "    sg_params['train_t'] = train_data['smpls']\n",
    "    sg_params['val_t'] = val_data['smpls']\n",
    "\n",
    "    # set edges\n",
    "    sg_params['edges_vv'] = None\n",
    "    sg_params['edges_vt'] = None\n",
    "    sg_params['edges_tt'] = sg.get_edges_tt(train_data['lbls'], sg_params['Dt'], sg_params['cnstr_method_tt'], sg_params['train_t'], seed)\n",
    "    print('number of training edges =', len(sg_params['edges_tt']))\n",
    "    \n",
    "    # fit the graph\n",
    "    time0 = time.time()\n",
    "    gd_opt_params['Theta0'] = None\n",
    "    B, stats = sg.fit_graph(train_data['des'], train_data['lbls'], sg_params, gd_opt_params, seed)\n",
    "    M = B.T @ B\n",
    "    print('Elapsed  training time: {:.6f} sec'.format(time.time()-time0))\n",
    "    \n",
    "    # validate exp\n",
    "    val_acc, y_est, t = sg.get_acc(M, train_data['des'], train_data['lbls'], \n",
    "                                    val_data['des'], val_data['lbls'], sg_params, 'binary', \n",
    "                                    seed, show_edges=False)\n",
    "    print('Elapsed validation time: {:.6f} sec'.format(t))\n",
    "    print('GLR val. acc. = {:.6f}'.format(val_acc))\n",
    "    \n",
    "    # parameters to visualize the optimized M\n",
    "    f_sz = train_data['des'].shape[1] # must match data_params\n",
    "    xloc = np.broadcast_to(np.arange(f_sz), (f_sz, f_sz))\n",
    "    yloc = xloc.T\n",
    "    fig_params = {'rmark_th': 30, 'f_sz': f_sz, 'xloc': xloc, 'yloc': yloc}\n",
    "    visualize_M(M, fig_params)\n",
    "    \n",
    "    return M, val_acc, y_est"
   ]
  },
  {
   "cell_type": "markdown",
   "id": "14edb586-c018-4b2c-83c9-cec0316c59e5",
   "metadata": {},
   "source": [
    "## Train the GLR on the subgroup"
   ]
  },
  {
   "cell_type": "code",
   "execution_count": 14,
   "id": "4913c760-9894-4607-81ad-c0900a38b2f4",
   "metadata": {},
   "outputs": [
    {
     "name": "stdout",
     "output_type": "stream",
     "text": [
      "subgroup response is of shape (297, 1141, 1)\n",
      "16.72% of the subgroup response is labeled 1\n"
     ]
    }
   ],
   "source": [
    "# create the subgroup response\n",
    "sub_res = np.zeros((nrepeats, nframes, 1))\n",
    "for repeat_i in range(nrepeats):\n",
    "    for frame_i in range(nframes):\n",
    "        sub_res[repeat_i, frame_i, :] = 2 * int((binned_data[repeat_i, frame_i, sub_inds] == 1).any()) - 1\n",
    "print('subgroup response is of shape', sub_res.shape)\n",
    "print('{:.2f}% of the subgroup response is labeled 1'.format(100 * sum(sub_res.reshape(-1) == 1) / len(sub_res.reshape(-1))))"
   ]
  },
  {
   "cell_type": "code",
   "execution_count": 53,
   "id": "9eb30836-710b-428e-8d00-04ae7429a3f4",
   "metadata": {},
   "outputs": [
    {
     "name": "stdout",
     "output_type": "stream",
     "text": [
      "number of training edges = 4810\n",
      "Number of training datapoints: 200\n",
      "Number of features for each point: 384\n",
      "mu = 1\n",
      "   0: eps = 2.12e-01;  train loss (E) = 11261.89\n",
      "  15: eps = 2.97e-01;  train loss (E) = 621.90\n",
      "  30: eps = 2.08e-01;  train loss (E) = 621.51\n",
      "  45: eps = 2.90e-01;  train loss (E) = 621.45\n",
      "  60: eps = 1.01e-01;  train loss (E) = 621.43\n",
      "  75: eps = 2.83e-01;  train loss (E) = 621.43\n",
      "  90: eps = 1.98e-01;  train loss (E) = 621.42\n",
      " 105: eps = 2.77e-01;  train loss (E) = 621.42\n",
      " 120: eps = 1.93e-01;  train loss (E) = 621.42\n",
      " 135: eps = 1.35e-01;  train loss (E) = 621.42\n",
      " 149: eps = 1.11e-01;  train loss (E) = 621.42\n",
      "Elapsed  training time: 709.588791 sec\n",
      "Elapsed validation time: 0.070810 sec\n",
      "GLR val. acc. = 0.690000\n"
     ]
    },
    {
     "data": {
      "image/png": "[encoded data removed]",
      "text/plain": [
       "<Figure size 288x288 with 2 Axes>"
      ]
     },
     "metadata": {
      "needs_background": "light"
     },
     "output_type": "display_data"
    }
   ],
   "source": [
    "sub_M, sub_val_acc, sub_y_est = train_glr(sub_res, train_num, val_num, sg_params, gd_opt_params)"
   ]
  },
  {
   "cell_type": "code",
   "execution_count": 54,
   "id": "87a1b019-97c3-49de-a718-f83637adea16",
   "metadata": {},
   "outputs": [],
   "source": [
    "# save Ms\n",
    "np.save('matrices/groupM_1.npy', group_M)\n",
    "np.save('matrices/subM_1.npy', sub_M)"
   ]
  },
  {
   "cell_type": "code",
   "execution_count": 2,
   "id": "095fdf3c-b31c-4461-b45e-4eb1cdbcae73",
   "metadata": {},
   "outputs": [],
   "source": [
    "# load Ms\n",
    "groupM_1 = np.load('matrices/groupM_1.npy')\n",
    "subM_1 = np.load('matrices/subM_1.npy')"
   ]
  },
  {
   "cell_type": "markdown",
   "id": "63e578a3-45c8-4f58-bc14-6fe96ec7a57c",
   "metadata": {},
   "source": [
    "## Train the GLR on the 2nd group and its subgroup"
   ]
  },
  {
   "cell_type": "code",
   "execution_count": 15,
   "id": "f5b5665d-80c8-47b2-b0a7-30b8d5c19003",
   "metadata": {},
   "outputs": [
    {
     "name": "stdout",
     "output_type": "stream",
     "text": [
      "The selected group is = [2, 72, 15, 50, 70, 9, 37, 8, 32, 104, 52, 83, 64]\n",
      "The selected subgroup is = [2, 72, 15, 50, 70]\n"
     ]
    }
   ],
   "source": [
    "group_inds = cell_groups[1]\n",
    "print('The selected group is =', group_inds)\n",
    "\n",
    "# separate the first cells into a subgroup\n",
    "sub_sz = 5\n",
    "sub_inds = group_inds[:sub_sz]\n",
    "print('The selected subgroup is =', sub_inds)"
   ]
  },
  {
   "cell_type": "code",
   "execution_count": 16,
   "id": "ede46412-9d92-4330-af90-0cfbe6da23f5",
   "metadata": {},
   "outputs": [
    {
     "name": "stdout",
     "output_type": "stream",
     "text": [
      "group response is of shape (297, 1141, 1)\n",
      "26.47% of the group response is labeled 1\n",
      "subgroup response is of shape (297, 1141, 1)\n",
      "11.49% of the subgroup response is labeled 1\n"
     ]
    }
   ],
   "source": [
    "# create the group response\n",
    "group_res = np.zeros((nrepeats, nframes, 1))\n",
    "for repeat_i in range(nrepeats):\n",
    "    for frame_i in range(nframes):\n",
    "        group_res[repeat_i, frame_i, :] = 2 * int((binned_data[repeat_i, frame_i, group_inds] == 1).any()) - 1\n",
    "print('group response is of shape', group_res.shape)\n",
    "print('{:.2f}% of the group response is labeled 1'.format(100 * sum(group_res.reshape(-1) == 1) / len(group_res.reshape(-1))))\n",
    "\n",
    "# create the subgroup response\n",
    "sub_res = np.zeros((nrepeats, nframes, 1))\n",
    "for repeat_i in range(nrepeats):\n",
    "    for frame_i in range(nframes):\n",
    "        sub_res[repeat_i, frame_i, :] = 2 * int((binned_data[repeat_i, frame_i, sub_inds] == 1).any()) - 1\n",
    "print('subgroup response is of shape', sub_res.shape)\n",
    "print('{:.2f}% of the subgroup response is labeled 1'.format(100 * sum(sub_res.reshape(-1) == 1) / len(sub_res.reshape(-1))))"
   ]
  },
  {
   "cell_type": "code",
   "execution_count": 17,
   "id": "1546ee11-591d-490b-967c-9b53fa50bf1a",
   "metadata": {},
   "outputs": [
    {
     "name": "stdout",
     "output_type": "stream",
     "text": [
      "number of training edges = 4795\n",
      "Number of training datapoints: 200\n",
      "Number of features for each point: 384\n",
      "mu = 1\n",
      "   0: eps = 2.12e-01;  train loss (E) = 14337.16\n",
      "  15: eps = 1.49e-01;  train loss (E) = 686.94\n",
      "  30: eps = 2.08e-01;  train loss (E) = 685.94\n",
      "  45: eps = 1.45e-01;  train loss (E) = 685.90\n",
      "  60: eps = 2.03e-01;  train loss (E) = 685.89\n",
      "  75: eps = 2.83e-01;  train loss (E) = 685.89\n",
      "  90: eps = 9.90e-02;  train loss (E) = 685.89\n",
      " 105: eps = 1.38e-01;  train loss (E) = 685.89\n",
      " 120: eps = 1.93e-01;  train loss (E) = 685.89\n",
      " 135: eps = 1.35e-01;  train loss (E) = 685.89\n",
      " 149: eps = 2.22e-01;  train loss (E) = 685.89\n",
      "Elapsed  training time: 791.159373 sec\n",
      "Elapsed validation time: 0.073802 sec\n",
      "GLR val. acc. = 0.600000\n"
     ]
    },
    {
     "data": {
      "image/png": "[encoded data removed]",
      "text/plain": [
       "<Figure size 288x288 with 2 Axes>"
      ]
     },
     "metadata": {
      "needs_background": "light"
     },
     "output_type": "display_data"
    }
   ],
   "source": [
    "group_M_2, group_val_acc_2, group_y_est_2 = train_glr(group_res, train_num, val_num, sg_params, gd_opt_params)"
   ]
  },
  {
   "cell_type": "code",
   "execution_count": null,
   "id": "c49fa8b1-0d14-4dbb-bcdc-d4e2d1eb4271",
   "metadata": {},
   "outputs": [],
   "source": [
    "sub_M_2, sub_val_acc_2, sub_y_est_2 = train_glr(sub_res, train_num, val_num, sg_params, gd_opt_params)"
   ]
  },
  {
   "cell_type": "markdown",
   "id": "5df5c270-f24a-434b-9a2f-05962d2db608",
   "metadata": {},
   "source": [
    "## Train the GLR on the 3rd group and its subgroup"
   ]
  },
  {
   "cell_type": "code",
   "execution_count": 15,
   "id": "fffe3299-3e37-4e46-9881-cb4f867fee40",
   "metadata": {},
   "outputs": [
    {
     "name": "stdout",
     "output_type": "stream",
     "text": [
      "The selected group is = [2, 72, 15, 50, 70, 9, 37, 8, 32, 104, 52, 83, 64]\n",
      "The selected subgroup is = [2, 72, 15, 50, 70]\n"
     ]
    }
   ],
   "source": [
    "group_inds = cell_groups[1]\n",
    "print('The selected group is =', group_inds)\n",
    "\n",
    "# separate the first cells into a subgroup\n",
    "sub_sz = 5\n",
    "sub_inds = group_inds[:sub_sz]\n",
    "print('The selected subgroup is =', sub_inds)"
   ]
  },
  {
   "cell_type": "code",
   "execution_count": 16,
   "id": "1f5eb980-d19a-4eff-b931-c89868ec2d86",
   "metadata": {},
   "outputs": [
    {
     "name": "stdout",
     "output_type": "stream",
     "text": [
      "group response is of shape (297, 1141, 1)\n",
      "26.47% of the group response is labeled 1\n",
      "subgroup response is of shape (297, 1141, 1)\n",
      "11.49% of the subgroup response is labeled 1\n"
     ]
    }
   ],
   "source": [
    "# create the group response\n",
    "group_res = np.zeros((nrepeats, nframes, 1))\n",
    "for repeat_i in range(nrepeats):\n",
    "    for frame_i in range(nframes):\n",
    "        group_res[repeat_i, frame_i, :] = 2 * int((binned_data[repeat_i, frame_i, group_inds] == 1).any()) - 1\n",
    "print('group response is of shape', group_res.shape)\n",
    "print('{:.2f}% of the group response is labeled 1'.format(100 * sum(group_res.reshape(-1) == 1) / len(group_res.reshape(-1))))\n",
    "\n",
    "# create the subgroup response\n",
    "sub_res = np.zeros((nrepeats, nframes, 1))\n",
    "for repeat_i in range(nrepeats):\n",
    "    for frame_i in range(nframes):\n",
    "        sub_res[repeat_i, frame_i, :] = 2 * int((binned_data[repeat_i, frame_i, sub_inds] == 1).any()) - 1\n",
    "print('subgroup response is of shape', sub_res.shape)\n",
    "print('{:.2f}% of the subgroup response is labeled 1'.format(100 * sum(sub_res.reshape(-1) == 1) / len(sub_res.reshape(-1))))"
   ]
  },
  {
   "cell_type": "code",
   "execution_count": null,
   "id": "b5be6a1c-c87c-4652-8d26-4d964a586f9d",
   "metadata": {},
   "outputs": [
    {
     "name": "stdout",
     "output_type": "stream",
     "text": [
      "number of training edges = 4795\n",
      "Number of training datapoints: 200\n",
      "Number of features for each point: 384\n",
      "mu = 1\n"
     ]
    }
   ],
   "source": [
    "group_M_2, group_val_acc_2, group_y_est_2 = train_glr(group_res, train_num, val_num, sg_params, gd_opt_params)"
   ]
  },
  {
   "cell_type": "code",
   "execution_count": null,
   "id": "144fd3c4-00dc-49cc-91f8-2da943eb45cd",
   "metadata": {},
   "outputs": [],
   "source": [
    "sub_M_2, sub_val_acc_2, sub_y_est_2 = train_glr(sub_res, train_num, val_num, sg_params, gd_opt_params)"
   ]
  },
  {
   "cell_type": "code",
   "execution_count": null,
   "id": "a986eaed-f5f4-4af9-af99-de165a0b11bc",
   "metadata": {},
   "outputs": [],
   "source": []
  },
  {
   "cell_type": "code",
   "execution_count": null,
   "id": "f6cc888e-1c81-4702-9fcc-61aa4f61ee77",
   "metadata": {},
   "outputs": [],
   "source": []
  },
  {
   "cell_type": "markdown",
   "id": "e4ad0c40-49c3-4282-8d80-f5a787653427",
   "metadata": {},
   "source": [
    "## Visualize eigenvalues and eigenvectors"
   ]
  },
  {
   "cell_type": "code",
   "execution_count": null,
   "id": "acb635a9-ed66-4a0b-917e-1f8ad24ac48a",
   "metadata": {},
   "outputs": [],
   "source": [
    "# compute the eignevectors and eigenvalues"
   ]
  },
  {
   "cell_type": "code",
   "execution_count": null,
   "id": "7fa71b2b-e236-45a7-b278-cccce7d53432",
   "metadata": {},
   "outputs": [],
   "source": [
    "# visualize eigenvalues of the group and the subgroup"
   ]
  },
  {
   "cell_type": "code",
   "execution_count": null,
   "id": "e544510d-944d-4c1a-b409-9fb37a8c12c9",
   "metadata": {},
   "outputs": [],
   "source": [
    "# visualize the eigenvectors of the group and the subgroup\n"
   ]
  },
  {
   "cell_type": "code",
   "execution_count": null,
   "id": "63a8d726-f47e-41e7-bf1b-982d745d21a5",
   "metadata": {},
   "outputs": [],
   "source": []
  },
  {
   "cell_type": "code",
   "execution_count": null,
   "id": "ee1fb67f-8da1-46a4-89ba-2d53f2d05e20",
   "metadata": {},
   "outputs": [],
   "source": []
  },
  {
   "cell_type": "code",
   "execution_count": null,
   "id": "3223c265-6558-4ccd-9f13-95c2802aec98",
   "metadata": {},
   "outputs": [],
   "source": []
  },
  {
   "cell_type": "code",
   "execution_count": null,
   "id": "46cf896d-41a4-4f23-9e08-82c6c0a4cbb3",
   "metadata": {},
   "outputs": [],
   "source": []
  },
  {
   "cell_type": "code",
   "execution_count": null,
   "id": "95fd03c8-398e-4afc-a0da-232b13b0c43f",
   "metadata": {},
   "outputs": [],
   "source": []
  },
  {
   "cell_type": "code",
   "execution_count": null,
   "id": "771009d8-5bce-4669-9a01-f38bb93b422f",
   "metadata": {},
   "outputs": [],
   "source": []
  },
  {
   "cell_type": "code",
   "execution_count": null,
   "id": "7b4f5ab3-e64c-4dee-b538-fb52838d3cbb",
   "metadata": {},
   "outputs": [],
   "source": []
  },
  {
   "cell_type": "code",
   "execution_count": null,
   "id": "0ff9ad63-f4a6-4544-b7f9-c28566e705a3",
   "metadata": {},
   "outputs": [],
   "source": []
  },
  {
   "cell_type": "code",
   "execution_count": null,
   "id": "b2d62c39-b474-419a-8a68-8c2772011c32",
   "metadata": {},
   "outputs": [],
   "source": []
  },
  {
   "cell_type": "code",
   "execution_count": null,
   "id": "80846a77-d34b-4462-854a-e8130f565434",
   "metadata": {},
   "outputs": [],
   "source": []
  },
  {
   "cell_type": "code",
   "execution_count": null,
   "id": "639fa6ba-029b-4ff5-bf3f-a6d997813456",
   "metadata": {},
   "outputs": [],
   "source": []
  },
  {
   "cell_type": "code",
   "execution_count": null,
   "id": "9bd83e53-773d-4c6d-b790-306e33657cc6",
   "metadata": {},
   "outputs": [],
   "source": []
  },
  {
   "cell_type": "code",
   "execution_count": null,
   "id": "c5f20454-521f-4305-9ef7-4c52ee8600d5",
   "metadata": {},
   "outputs": [],
   "source": []
  },
  {
   "cell_type": "code",
   "execution_count": null,
   "id": "ca7e55ed-3e13-4a22-9d62-fe8cdab1c2b7",
   "metadata": {},
   "outputs": [],
   "source": []
  },
  {
   "cell_type": "code",
   "execution_count": null,
   "id": "d3adfc25-4bfb-491f-ba70-a33e05bd6e69",
   "metadata": {},
   "outputs": [],
   "source": []
  },
  {
   "cell_type": "code",
   "execution_count": null,
   "id": "bb472b39-306a-44d5-920d-316ab02b1379",
   "metadata": {},
   "outputs": [],
   "source": []
  },
  {
   "cell_type": "code",
   "execution_count": null,
   "id": "9ca0fdbe-137b-48a1-bb98-dc922ecbc7f7",
   "metadata": {},
   "outputs": [],
   "source": []
  },
  {
   "cell_type": "code",
   "execution_count": null,
   "id": "38bee3ee-9019-4a94-be35-7ce4b98be79e",
   "metadata": {},
   "outputs": [],
   "source": []
  },
  {
   "cell_type": "code",
   "execution_count": null,
   "id": "39680fca-faed-4261-8672-fd0bbbcdf2df",
   "metadata": {},
   "outputs": [],
   "source": []
  },
  {
   "cell_type": "code",
   "execution_count": null,
   "id": "fcc4729f-b3ee-488e-8360-4c0827bbd4a8",
   "metadata": {},
   "outputs": [],
   "source": []
  },
  {
   "cell_type": "code",
   "execution_count": null,
   "id": "62b442a3-61a7-4c04-a9cd-23e9224ab339",
   "metadata": {},
   "outputs": [],
   "source": []
  },
  {
   "cell_type": "code",
   "execution_count": null,
   "id": "2f1e84f4-0ba1-4229-ac87-0c2c6a43995a",
   "metadata": {},
   "outputs": [],
   "source": []
  },
  {
   "cell_type": "code",
   "execution_count": null,
   "id": "76076d94-63f8-44dd-aec4-8bfdc44a6736",
   "metadata": {},
   "outputs": [],
   "source": []
  },
  {
   "cell_type": "code",
   "execution_count": null,
   "id": "a87bbce9-ed10-489e-89ab-6fe5d24746d9",
   "metadata": {},
   "outputs": [],
   "source": []
  },
  {
   "cell_type": "code",
   "execution_count": null,
   "id": "f6f2e70f-c72e-4012-92e1-31e66f4ef101",
   "metadata": {},
   "outputs": [],
   "source": []
  },
  {
   "cell_type": "code",
   "execution_count": null,
   "id": "23750dd2-a552-4ddf-b3a7-970bf4e119d7",
   "metadata": {},
   "outputs": [],
   "source": []
  },
  {
   "cell_type": "code",
   "execution_count": null,
   "id": "c08a15a8-3aa5-405a-a856-ae8f0f9e944a",
   "metadata": {},
   "outputs": [],
   "source": []
  },
  {
   "cell_type": "code",
   "execution_count": null,
   "id": "458e854c-45ac-4e53-939f-ddb8464b6895",
   "metadata": {},
   "outputs": [],
   "source": []
  },
  {
   "cell_type": "code",
   "execution_count": null,
   "id": "1ced727a-d197-4133-ab22-850eaab71025",
   "metadata": {},
   "outputs": [],
   "source": []
  },
  {
   "cell_type": "code",
   "execution_count": null,
   "id": "02373433-7afa-46de-9cbb-bb1bb7171f45",
   "metadata": {},
   "outputs": [],
   "source": []
  },
  {
   "cell_type": "code",
   "execution_count": null,
   "id": "7ab506d7-5265-481f-a650-56a96f5f8954",
   "metadata": {},
   "outputs": [],
   "source": []
  },
  {
   "cell_type": "code",
   "execution_count": null,
   "id": "bb0fe8b5-b301-46c9-abb1-6c7d0719bca3",
   "metadata": {},
   "outputs": [],
   "source": []
  },
  {
   "cell_type": "code",
   "execution_count": null,
   "id": "b8056223-ed27-4057-bbbd-9066ebffd28e",
   "metadata": {},
   "outputs": [],
   "source": []
  },
  {
   "cell_type": "code",
   "execution_count": null,
   "id": "35e664cf-6271-47df-95f5-9cb2330ddb75",
   "metadata": {},
   "outputs": [],
   "source": []
  }
 ],
 "metadata": {
  "kernelspec": {
   "display_name": "Python 3 (ipykernel)",
   "language": "python",
   "name": "python3"
  },
  "language_info": {
   "codemirror_mode": {
    "name": "ipython",
    "version": 3
   },
   "file_extension": ".py",
   "mimetype": "text/x-python",
   "name": "python",
   "nbconvert_exporter": "python",
   "pygments_lexer": "ipython3",
   "version": "3.9.12"
  }
 },
 "nbformat": 4,
 "nbformat_minor": 5
}
