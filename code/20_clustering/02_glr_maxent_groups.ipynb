{
 "cells": [
  {
   "cell_type": "code",
   "execution_count": 6,
   "id": "66c1d35b-5c95-4aec-bfb8-355fbe2f45f1",
   "metadata": {
    "tags": []
   },
   "outputs": [],
   "source": [
    "import numpy as np\n",
    "import pickle\n",
    "from matplotlib import pyplot as plt\n",
    "\n",
    "# add the path to my packages to system paths so they can be imported\n",
    "import sys\n",
    "sys.path.append('/home/yasamanparhizkar/Documents/yorku/01_thesis/simgraph/code/my_packages')\n",
    "# sys.path.append('F:/Users/yasam/Documents/GitHub/simgraph/code/my_packages')\n",
    "# sys.path.append('/home/yasamanparhizkar/Documents/thesis/code/my_packages')\n",
    "\n",
    "import simgraph.my_simgraph as sg\n",
    "import dataprocess.data_handler_03 as dh"
   ]
  },
  {
   "cell_type": "markdown",
   "id": "448df9d2-b6d1-4d8e-819f-80b5c0b89028",
   "metadata": {},
   "source": [
    "# Train the GLR model on the response of three cell groups\n",
    "\n",
    "Groups are created using Ben's pairwise interactions."
   ]
  },
  {
   "cell_type": "markdown",
   "id": "26322159-be60-4fb0-ba6f-80788137f368",
   "metadata": {},
   "source": [
    "## Load the data"
   ]
  },
  {
   "cell_type": "code",
   "execution_count": 10,
   "id": "e9ae174b-8315-4865-a458-b6710b64ef89",
   "metadata": {
    "tags": []
   },
   "outputs": [],
   "source": [
    "# load all spike data from file\n",
    "spikes_dp = '../../../local_data/original_files/'\n",
    "binned_data = np.load(spikes_dp+'spikes.npy')\n",
    "binned_data = binned_data.reshape(binned_data.shape[0], 1141, 113)\n",
    "binned_data = binned_data * 2 - 1     # turn labels from 0,1 to -1,1\n",
    "\n",
    "I_order = np.array([ 54,  35,  10,  60,  74,   9,  61,  56,  91, 104,  39,   7,  29,  68,  81,  41,  75 , 76,\n",
    "   82,  79,  32,  51,  14,  88,  89,   8, 107,   3,  80,  55, 106,  96,  94, 95,   6,  20,\n",
    "   83,  87,   1,  97, 103,  28,  18,  16,  85, 101,   2,  52,  11,  71, 108,  38,  25,  53,\n",
    "  113,  64,  58,  24,  70,  43,  77,  45, 110,  49,  26,  40,  48,  67, 100,  30,  19,  36,\n",
    "   17,   5,  69,  65,  99, 78,  33,  37,  47,  66,  59,  98,  21,  90,  12,  46,  86,  92,\n",
    "    4, 112,  62,  50, 105,  27,  13,  93, 102,  63,  34,  31,  84,  23,  44,  15, 109, 111,\n",
    "   72,  73,  42,  57,  22])\n",
    "I_order = I_order - 1"
   ]
  },
  {
   "cell_type": "code",
   "execution_count": 13,
   "id": "815fa77e-2648-44f8-943c-99bf339ec8c8",
   "metadata": {
    "tags": []
   },
   "outputs": [
    {
     "name": "stdout",
     "output_type": "stream",
     "text": [
      "binned_data.shape =  (297, 1141, 113)\n",
      "neuron #    | percentage belonging to class 1\n",
      "---------------------------------------------\n",
      "neuron # 53 | 0.44 %\n",
      "neuron # 34 | 0.37 %\n",
      "neuron #  9 | 0.64 %\n",
      "neuron # 59 | 0.50 %\n",
      "neuron # 73 | 0.78 %\n",
      "neuron #  8 | 1.03 %\n",
      "neuron # 60 | 1.42 %\n",
      "neuron # 55 | 0.28 %\n",
      "neuron # 90 | 0.29 %\n",
      "neuron #103 | 0.97 %\n",
      "---------------------------------------------\n",
      "AVERAGE     | 0.67 % of data belongs to class 1\n",
      "---------------------------------------------\n",
      "3.00 % of the whole data belongs to class 1.\n"
     ]
    }
   ],
   "source": [
    "# print some statistics\n",
    "print('binned_data.shape = ', binned_data.shape)\n",
    "\n",
    "avg_spike_perc = 0\n",
    "print('neuron #    | percentage belonging to class 1')\n",
    "print('---------------------------------------------')\n",
    "for neu_i in I_order[:10]:\n",
    "    pers = dh.class_percentages(binned_data[:,:,neu_i].reshape(-1), [-1, 1])\n",
    "    avg_spike_perc += pers[1]\n",
    "    print('neuron #{:3} | {:.2f} %'.format(neu_i, pers[1]))\n",
    "\n",
    "avg_spike_perc /= 10\n",
    "print('---------------------------------------------')\n",
    "print('AVERAGE     | {:.2f} % of data belongs to class 1'.format(avg_spike_perc))\n",
    "\n",
    "total_perc = np.sum(binned_data == 1) * 100 / len(binned_data.reshape(-1))\n",
    "print('---------------------------------------------')\n",
    "print('{:.2f} % of the whole data belongs to class 1.'.format(total_perc))"
   ]
  },
  {
   "cell_type": "code",
   "execution_count": 5,
   "id": "58c89e76-7745-477c-9d19-4cff5b53f121",
   "metadata": {
    "tags": []
   },
   "outputs": [
    {
     "name": "stdout",
     "output_type": "stream",
     "text": [
      "number of cell groups: 3\n",
      "group sizes: [28, 17, 12]\n"
     ]
    }
   ],
   "source": [
    "# load the cell groups from pickle file\n",
    "with open('cell_groups_pairwise.pkl', 'rb') as file:\n",
    "    cell_groups = pickle.load(file)\n",
    "\n",
    "print('number of cell groups:', len(cell_groups))\n",
    "print('group sizes:', [len(group) for group in cell_groups])"
   ]
  },
  {
   "cell_type": "code",
   "execution_count": 20,
   "id": "ac82681f-7d8b-44e6-96de-699c868a8617",
   "metadata": {
    "tags": []
   },
   "outputs": [],
   "source": [
    "# create the ORed response of each cell group\n",
    "group_responses = []\n",
    "\n",
    "for group in range(len(cell_groups)):\n",
    "    group_resp = np.zeros((297, 1141, 1))\n",
    "    for trial in range(297):\n",
    "        for frame in range(1141):\n",
    "            group_resp[trial, frame, :] = 2 * int((binned_data[trial, frame, cell_groups[group]] == 1).any()) - 1\n",
    "    group_responses.append(group_resp)"
   ]
  },
  {
   "cell_type": "code",
   "execution_count": null,
   "id": "7914bfc7-6915-4ef3-9f92-ce4151a2fa83",
   "metadata": {},
   "outputs": [],
   "source": [
    "# randomly split the repeats into three groups; train and two controls?\n",
    "\n"
   ]
  },
  {
   "cell_type": "code",
   "execution_count": null,
   "id": "b2f25842-a93b-48aa-aa39-aacfbad36c61",
   "metadata": {},
   "outputs": [],
   "source": []
  },
  {
   "cell_type": "code",
   "execution_count": null,
   "id": "d0991e11-97a0-4cc8-8245-0be2e929d6cb",
   "metadata": {},
   "outputs": [],
   "source": []
  },
  {
   "cell_type": "code",
   "execution_count": null,
   "id": "8cb65eb8-d958-47df-b9b7-a0e433d900be",
   "metadata": {},
   "outputs": [],
   "source": []
  },
  {
   "cell_type": "code",
   "execution_count": null,
   "id": "28f1dcfb-bd76-4449-8c22-3c24a6089b72",
   "metadata": {},
   "outputs": [],
   "source": []
  },
  {
   "cell_type": "code",
   "execution_count": null,
   "id": "64bf7788-275a-4f60-97a2-53c5325f6275",
   "metadata": {},
   "outputs": [],
   "source": []
  },
  {
   "cell_type": "code",
   "execution_count": null,
   "id": "a6ee84ff-82c9-4d9b-85b2-6d1506669d79",
   "metadata": {},
   "outputs": [],
   "source": []
  },
  {
   "cell_type": "code",
   "execution_count": null,
   "id": "bef71715-028d-410b-90c4-773c559158e0",
   "metadata": {},
   "outputs": [],
   "source": []
  },
  {
   "cell_type": "code",
   "execution_count": null,
   "id": "0c5c9446-8a6d-4196-b37c-8926bad7e21f",
   "metadata": {},
   "outputs": [],
   "source": []
  },
  {
   "cell_type": "code",
   "execution_count": null,
   "id": "fa14912b-b753-4fe2-a4a2-1fa9029e99a1",
   "metadata": {},
   "outputs": [],
   "source": []
  },
  {
   "cell_type": "code",
   "execution_count": null,
   "id": "3df15697-93ba-419c-b456-81e1ce68fa36",
   "metadata": {},
   "outputs": [],
   "source": []
  },
  {
   "cell_type": "code",
   "execution_count": null,
   "id": "cdfa580d-fdab-4642-bd0b-cd0310c5ecc2",
   "metadata": {},
   "outputs": [],
   "source": []
  },
  {
   "cell_type": "code",
   "execution_count": null,
   "id": "71cded3e-e53d-4978-8d76-87df95f5e66c",
   "metadata": {},
   "outputs": [],
   "source": []
  },
  {
   "cell_type": "code",
   "execution_count": null,
   "id": "8ae326f3-aacc-4257-bde6-ff4907be53ea",
   "metadata": {},
   "outputs": [],
   "source": []
  },
  {
   "cell_type": "code",
   "execution_count": null,
   "id": "e889fb3d-7bd6-44a5-a93d-5f3a26b62409",
   "metadata": {},
   "outputs": [],
   "source": []
  },
  {
   "cell_type": "code",
   "execution_count": null,
   "id": "89cbc9e0-7eda-4f99-a38e-1706f1777356",
   "metadata": {},
   "outputs": [],
   "source": []
  },
  {
   "cell_type": "code",
   "execution_count": null,
   "id": "10b6017b-c554-40ae-af05-bac609229233",
   "metadata": {},
   "outputs": [],
   "source": []
  },
  {
   "cell_type": "code",
   "execution_count": null,
   "id": "e6a2923b-8e44-4558-b774-76cdc65994c6",
   "metadata": {},
   "outputs": [],
   "source": []
  },
  {
   "cell_type": "code",
   "execution_count": null,
   "id": "e6c0e7e2-9a63-4806-abb4-269a4061f485",
   "metadata": {},
   "outputs": [],
   "source": []
  },
  {
   "cell_type": "code",
   "execution_count": null,
   "id": "23085904-ce22-4c94-9180-b833a1ff9da2",
   "metadata": {},
   "outputs": [],
   "source": []
  },
  {
   "cell_type": "code",
   "execution_count": null,
   "id": "ccd598aa-7c7c-40b1-bbdd-cb53c9710fdf",
   "metadata": {},
   "outputs": [],
   "source": []
  },
  {
   "cell_type": "code",
   "execution_count": null,
   "id": "002af2e1-d5eb-4d99-881c-4aa28ca878a1",
   "metadata": {},
   "outputs": [],
   "source": []
  }
 ],
 "metadata": {
  "kernelspec": {
   "display_name": "Python 3 (ipykernel)",
   "language": "python",
   "name": "python3"
  },
  "language_info": {
   "codemirror_mode": {
    "name": "ipython",
    "version": 3
   },
   "file_extension": ".py",
   "mimetype": "text/x-python",
   "name": "python",
   "nbconvert_exporter": "python",
   "pygments_lexer": "ipython3",
   "version": "3.9.13"
  }
 },
 "nbformat": 4,
 "nbformat_minor": 5
}
