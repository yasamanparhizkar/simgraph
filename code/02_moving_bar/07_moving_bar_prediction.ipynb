{
 "cells": [
  {
   "cell_type": "code",
   "execution_count": 1,
   "id": "abca0e81",
   "metadata": {},
   "outputs": [],
   "source": [
    "import cv2\n",
    "import numpy as np\n",
    "import matplotlib.pyplot as plt\n",
    "import matplotlib.patches as mpatches\n",
    "from matplotlib.animation import FuncAnimation\n",
    "\n",
    "from mylib.mygraph import graph\n",
    "\n",
    "# Enable interactive plot\n",
    "#%matplotlib notebook"
   ]
  },
  {
   "cell_type": "markdown",
   "id": "3fa2b138",
   "metadata": {},
   "source": [
    "## 1. create all frames"
   ]
  },
  {
   "cell_type": "code",
   "execution_count": 2,
   "id": "e9658a32",
   "metadata": {},
   "outputs": [],
   "source": [
    "# there are two arrays to deal with in this program: 'scene' and 'frame'.\n",
    "# 'scene' holds the compressed information of wether each block is white or black.\n",
    "# 'frame' is a larger version of 'scene' used for visualizaion;\n",
    "# each block of 'frame' corresponds to one entry of 'scene'.\n",
    "\n",
    "# below method generates 'scene' based on primary information and draws 'frame' as well\n",
    "def moving_bar(instance, bar_thickness=1, scene_sz=5, frame_sz=1024, plot=False, ax=None):\n",
    "    # calculate size of each block in the frame corresponding to each entry of the scene\n",
    "    rec_sz = frame_sz//scene_sz\n",
    "    \n",
    "    # prepare the scene\n",
    "    bar_pos = instance%scene_sz\n",
    "    scene = np.zeros((scene_sz,scene_sz))\n",
    "    scene[:,bar_pos:bar_pos+bar_thickness] = 1\n",
    "\n",
    "    if plot:\n",
    "        # prepare frame based on the scene\n",
    "        frame = 255 * np.ones(shape=[frame_sz, frame_sz, 3], dtype=np.uint8)\n",
    "        for i in range(scene_sz):\n",
    "            for j in range(scene_sz):\n",
    "                cv2.rectangle(frame, pt1=(rec_sz*j,rec_sz*i), pt2=(rec_sz*(j+1),rec_sz*(i+1)), color=(255*(1-scene[i,j]),255*(1-scene[i,j]),255*(1-scene[i,j])), thickness= -1)\n",
    "\n",
    "        # show frame\n",
    "        ax.imshow(frame)\n",
    "    \n",
    "    return scene"
   ]
  },
  {
   "cell_type": "code",
   "execution_count": 3,
   "id": "971cdc34",
   "metadata": {},
   "outputs": [
    {
     "data": {
      "text/plain": [
       "array([[1., 1., 1., 0., 0.],\n",
       "       [1., 1., 1., 0., 0.],\n",
       "       [1., 1., 1., 0., 0.],\n",
       "       [1., 1., 1., 0., 0.],\n",
       "       [1., 1., 1., 0., 0.]])"
      ]
     },
     "execution_count": 3,
     "metadata": {},
     "output_type": "execute_result"
    },
    {
     "data": {
      "image/png": "[encoded data removed]",
      "text/plain": [
       "<Figure size 432x288 with 1 Axes>"
      ]
     },
     "metadata": {},
     "output_type": "display_data"
    }
   ],
   "source": [
    "# test above function\n",
    "#fig = plt.figure(figsize=[6,6])\n",
    "fig, ax = plt.subplots()\n",
    "plt.xticks([])\n",
    "plt.yticks([])\n",
    "moving_bar(instance=0, bar_thickness=3, scene_sz=5, frame_sz=1024, plot=True, ax=ax)"
   ]
  },
  {
   "cell_type": "code",
   "execution_count": 4,
   "id": "af0d0761",
   "metadata": {},
   "outputs": [
    {
     "data": {
      "text/plain": [
       "array([[[1., 1., 1., 0., 0.],\n",
       "        [1., 1., 1., 0., 0.],\n",
       "        [1., 1., 1., 0., 0.],\n",
       "        [1., 1., 1., 0., 0.],\n",
       "        [1., 1., 1., 0., 0.]],\n",
       "\n",
       "       [[0., 1., 1., 1., 0.],\n",
       "        [0., 1., 1., 1., 0.],\n",
       "        [0., 1., 1., 1., 0.],\n",
       "        [0., 1., 1., 1., 0.],\n",
       "        [0., 1., 1., 1., 0.]],\n",
       "\n",
       "       [[0., 0., 1., 1., 1.],\n",
       "        [0., 0., 1., 1., 1.],\n",
       "        [0., 0., 1., 1., 1.],\n",
       "        [0., 0., 1., 1., 1.],\n",
       "        [0., 0., 1., 1., 1.]],\n",
       "\n",
       "       [[0., 0., 0., 1., 1.],\n",
       "        [0., 0., 0., 1., 1.],\n",
       "        [0., 0., 0., 1., 1.],\n",
       "        [0., 0., 0., 1., 1.],\n",
       "        [0., 0., 0., 1., 1.]],\n",
       "\n",
       "       [[0., 0., 0., 0., 1.],\n",
       "        [0., 0., 0., 0., 1.],\n",
       "        [0., 0., 0., 0., 1.],\n",
       "        [0., 0., 0., 0., 1.],\n",
       "        [0., 0., 0., 0., 1.]]])"
      ]
     },
     "execution_count": 4,
     "metadata": {},
     "output_type": "execute_result"
    }
   ],
   "source": [
    "# generate all possible scenes\n",
    "scene_sz = 5\n",
    "scenes = np.array([moving_bar(instance=0,  bar_thickness=3, scene_sz=scene_sz, frame_sz=1024, plot=False, ax=None)])\n",
    "\n",
    "for i in range(1, scene_sz):\n",
    "    scenes = np.append(scenes, [moving_bar(instance=i,  bar_thickness=3, scene_sz=scene_sz, frame_sz=1024, plot=False, ax=None)], axis=0)\n",
    "\n",
    "scenes    "
   ]
  },
  {
   "cell_type": "markdown",
   "id": "9f9792f1",
   "metadata": {},
   "source": [
    "## 2. create the underlying graph"
   ]
  },
  {
   "cell_type": "code",
   "execution_count": 5,
   "id": "fedd3a73",
   "metadata": {},
   "outputs": [],
   "source": [
    "def create_star_graph(scene_sz, show_msgs=True):\n",
    "    g = graph()\n",
    "    for i in range(scene_sz**2):\n",
    "        g.addVertex()\n",
    "    for i in range(scene_sz):\n",
    "        for j in range(scene_sz):\n",
    "            center = i*scene_sz+j\n",
    "            for k in [-1,1]:\n",
    "                # left and right nodes\n",
    "                if (j!=0 or k==1) and (j<scene_sz-1 or k==-1):\n",
    "                    g.addEdge((center, center+k), show_msgs=show_msgs)\n",
    "\n",
    "                #up and down nodes\n",
    "                if (i!=0 or k==1) and (i<scene_sz-1 or k==-1):\n",
    "                    g.addEdge((center, center+k*scene_sz), show_msgs=show_msgs)\n",
    "\n",
    "                #right-up and right-down nodes\n",
    "                if (i!=0 or k==1) and (i<scene_sz-1 or k==-1) and (j<scene_sz-1):\n",
    "                    g.addEdge((center, center+k*scene_sz+1), show_msgs=show_msgs)\n",
    "\n",
    "                #left-up and left-down nodes\n",
    "                if (i!=0 or k==1) and (i<scene_sz-1 or k==-1) and (j!=0):\n",
    "                    g.addEdge((center, center+k*scene_sz-1), show_msgs=show_msgs)\n",
    "\n",
    "    return g"
   ]
  },
  {
   "cell_type": "code",
   "execution_count": 6,
   "id": "f495ff23",
   "metadata": {},
   "outputs": [],
   "source": [
    "def test_create_star_graph():\n",
    "    g = create_star_graph(scene_sz=3)\n",
    "    assert g.vertices()==[0, 1, 2, 3, 4, 5, 6, 7, 8]\n",
    "    assert g.dictionary()[0] == {'out': [(0, 1), (0, 3), (0, 4)], 'in': [(1, 0), (3, 0), (4, 0)]}\n",
    "    assert g.dictionary()[1] == {'out': [(1, 0), (1, 2), (1, 4), (1, 5), (1, 3)], \\\n",
    "                                 'in': [(0, 1), (2, 1), (3, 1), (4, 1), (5, 1)]}\n",
    "    assert g.dictionary()[2] == {'out': [(2, 1), (2, 5), (2, 4)], 'in': [(1, 2), (4, 2), (5, 2)]}\n",
    "    assert g.dictionary()[3] == {'out': [(3, 0), (3, 1), (3, 4), (3, 6), (3, 7)], \\\n",
    "                                 'in': [(0, 3), (1, 3), (4, 3), (6, 3), (7, 3)]}\n",
    "    assert g.dictionary()[4] == {'out': [(4, 3), (4, 1), (4, 2), (4, 0), (4, 5), (4, 7), (4, 8), (4, 6)], \\\n",
    "                                 'in': [(0, 4), (1, 4), (2, 4), (3, 4), (5, 4), (6, 4), (7, 4), (8, 4)]}\n",
    "    assert g.dictionary()[5] == {'out': [(5, 4), (5, 2), (5, 1), (5, 8), (5, 7)], \\\n",
    "                                 'in': [(1, 5), (2, 5), (4, 5), (7, 5), (8, 5)]}\n",
    "    assert g.dictionary()[6] == {'out': [(6, 3), (6, 4), (6, 7)], 'in': [(3, 6), (4, 6), (7, 6)]}\n",
    "    assert g.dictionary()[7] == {'out': [(7, 6), (7, 4), (7, 5), (7, 3), (7, 8)], \\\n",
    "                                 'in': [(3, 7), (4, 7), (5, 7), (6, 7), (8, 7)]}\n",
    "    assert g.dictionary()[8] == {'out': [(8, 7), (8, 5), (8, 4)], 'in': [(4, 8), (5, 8), (7, 8)]}\n",
    "#     for i in range(9):\n",
    "#         print(g.dictionary()[i])\n",
    "    \n",
    "test_create_star_graph()"
   ]
  },
  {
   "cell_type": "code",
   "execution_count": 7,
   "id": "7373c33b",
   "metadata": {},
   "outputs": [],
   "source": [
    "def create_grid_graph(scene_sz, show_msgs=True):\n",
    "    g = graph()\n",
    "    for i in range(scene_sz**2):\n",
    "        g.addVertex()\n",
    "    for i in range(scene_sz):\n",
    "        for j in range(scene_sz):\n",
    "            center = i*scene_sz+j\n",
    "            for k in [-1,1]:\n",
    "                # left and right nodes\n",
    "                if (j!=0 or k==1) and (j<scene_sz-1 or k==-1):\n",
    "                    g.addEdge((center, center+k), show_msgs=show_msgs)\n",
    "\n",
    "                #up and down nodes\n",
    "                if (i!=0 or k==1) and (i<scene_sz-1 or k==-1):\n",
    "                    g.addEdge((center, center+k*scene_sz), show_msgs=show_msgs)\n",
    "    return g"
   ]
  },
  {
   "cell_type": "code",
   "execution_count": 8,
   "id": "9d5575cf",
   "metadata": {},
   "outputs": [],
   "source": [
    "def test_create_grid_graph():\n",
    "    g = create_grid_graph(scene_sz=3)\n",
    "    assert g.vertices()==[0, 1, 2, 3, 4, 5, 6, 7, 8]\n",
    "    assert g.dictionary()[0] == {'out': [(0, 1), (0, 3)], 'in': [(1, 0), (3, 0)]}\n",
    "    assert g.dictionary()[1] == {'out': [(1, 0), (1, 2), (1, 4)], 'in': [(0, 1), (2, 1), (4, 1)]}\n",
    "    assert g.dictionary()[2] == {'out': [(2, 1), (2, 5)], 'in': [(1, 2), (5, 2)]}\n",
    "    assert g.dictionary()[3] == {'out': [(3, 0), (3, 4), (3, 6)], 'in': [(0, 3), (4, 3), (6, 3)]}\n",
    "    assert g.dictionary()[4] == {'out': [(4, 3), (4, 1), (4, 5), (4, 7)], \\\n",
    "                                 'in': [(1, 4), (3, 4), (5, 4), (7, 4)]}\n",
    "    assert g.dictionary()[5] == {'out': [(5, 4), (5, 2), (5, 8)], 'in': [(2, 5), (4, 5), (8, 5)]}\n",
    "    assert g.dictionary()[6] == {'out': [(6, 3), (6, 7)], 'in': [(3, 6), (7, 6)]}\n",
    "    assert g.dictionary()[7] == {'out': [(7, 6), (7, 4), (7, 8)], 'in': [(4, 7), (6, 7), (8, 7)]}\n",
    "    assert g.dictionary()[8] == {'out': [(8, 7), (8, 5)], 'in': [(5, 8), (7, 8)]}\n",
    "#     for i in range(9):\n",
    "#         print(g.dictionary()[i])\n",
    "    \n",
    "test_create_grid_graph()"
   ]
  },
  {
   "cell_type": "code",
   "execution_count": 9,
   "id": "10259897",
   "metadata": {},
   "outputs": [],
   "source": [
    "# extract motion cues out of a series of scenes using a star graph\n",
    "def motion_cues_on_star_graph(scenes):\n",
    "    scene_sz = scenes.shape[1]\n",
    "    \n",
    "    g1 = create_star_graph(scene_sz=scene_sz) # scene in t==1\n",
    "    g2 = create_star_graph(scene_sz=scene_sz) # scene in t==2\n",
    "    motion_graphs = []\n",
    "    \n",
    "    for t in range(len(scenes)-1):\n",
    "        # setup g1 and g2\n",
    "        for i in range(scene_sz):\n",
    "            for j in range(scene_sz):\n",
    "                current = i*scene_sz+j\n",
    "                g1.setVertexWeight(vrtx=current, weight=scenes[t][i][j])\n",
    "                g2.setVertexWeight(vrtx=current, weight=scenes[t+1][i][j])\n",
    "        for e in g1.edges():\n",
    "            (v1, v2) = e\n",
    "            diff = g1.getVertexWeight(vrtx=v2) - g1.getVertexWeight(vrtx=v1)\n",
    "            g1.setEdgeWeight(edge=e, weight=diff)\n",
    "            diff = g2.getVertexWeight(vrtx=v2) - g2.getVertexWeight(vrtx=v1)\n",
    "            g2.setEdgeWeight(edge=e, weight=diff)\n",
    "        \n",
    "        # extract motion cues\n",
    "        gm = create_star_graph(scene_sz=scene_sz) # motion from t==1 to t==2\n",
    "        for e in g1.edges():\n",
    "            (vrtx1, vrtx2) = e\n",
    "            diff = g2.getEdgeWeight(edge=e) - g1.getEdgeWeight(edge=e)\n",
    "            if diff>0 and g1.getVertexWeight(vrtx1)==1 and g2.getVertexWeight(vrtx2)==1:\n",
    "                gm.setEdgeWeight(edge=e, weight=diff)\n",
    "            else:\n",
    "                gm.setEdgeWeight(edge=e, weight=0)\n",
    "        motion_graphs.append(gm)\n",
    "            \n",
    "    return motion_graphs"
   ]
  },
  {
   "cell_type": "code",
   "execution_count": 10,
   "id": "dd77d258",
   "metadata": {},
   "outputs": [],
   "source": [
    "# extract motion cues out of a series of scenes using a grid graph\n",
    "def motion_cues_on_grid_graph(scenes):\n",
    "    scene_sz = scenes.shape[1]\n",
    "    \n",
    "    g1 = create_grid_graph(scene_sz=scene_sz) # scene in t==1\n",
    "    g2 = create_grid_graph(scene_sz=scene_sz) # scene in t==2\n",
    "    motion_graphs = []\n",
    "    \n",
    "    for t in range(len(scenes)-1):\n",
    "        # setup g1 and g2\n",
    "        for i in range(scene_sz):\n",
    "            for j in range(scene_sz):\n",
    "                current = i*scene_sz+j\n",
    "                g1.setVertexWeight(vrtx=current, weight=scenes[t][i][j])\n",
    "                g2.setVertexWeight(vrtx=current, weight=scenes[t+1][i][j])\n",
    "        for e in g1.edges():\n",
    "            (v1, v2) = e\n",
    "            diff = g1.getVertexWeight(vrtx=v2) - g1.getVertexWeight(vrtx=v1)\n",
    "            g1.setEdgeWeight(edge=e, weight=diff)\n",
    "            diff = g2.getVertexWeight(vrtx=v2) - g2.getVertexWeight(vrtx=v1)\n",
    "            g2.setEdgeWeight(edge=e, weight=diff)\n",
    "        \n",
    "        # extract motion cues\n",
    "        gm = create_grid_graph(scene_sz=scene_sz) # motion from t==1 to t==2\n",
    "        for e in g1.edges():\n",
    "            (vrtx1, vrtx2) = e\n",
    "            diff = g2.getEdgeWeight(edge=e) - g1.getEdgeWeight(edge=e)\n",
    "            if diff>0 and g1.getVertexWeight(vrtx1)==1 and g2.getVertexWeight(vrtx2)==1:\n",
    "                gm.setEdgeWeight(edge=e, weight=diff)\n",
    "            else:\n",
    "                gm.setEdgeWeight(edge=e, weight=0)\n",
    "        motion_graphs.append(gm)\n",
    "            \n",
    "    return motion_graphs"
   ]
  },
  {
   "cell_type": "code",
   "execution_count": 11,
   "id": "2f023508",
   "metadata": {},
   "outputs": [],
   "source": [
    "# test motion graphs\n",
    "def test_motion_cues_on_grid_graph(show_msgs=True):\n",
    "    # generate all possible scenes\n",
    "    scene_sz = 3\n",
    "    scenes = np.array([moving_bar(instance=0, bar_thickness=2, scene_sz=scene_sz, frame_sz=1024, plot=False, ax=None)])\n",
    "    for i in range(1, scene_sz):\n",
    "        scenes = np.append(scenes, [moving_bar(instance=i, bar_thickness=2, scene_sz=scene_sz, frame_sz=1024, plot=False, ax=None)], axis=0)\n",
    "\n",
    "    # extract motion cues\n",
    "    motion_graphs = motion_cues_on_grid_graph(scenes)\n",
    "    \n",
    "    # test\n",
    "    gm = motion_graphs[0]\n",
    "    for e in gm.edges():\n",
    "        if e==(0,1) or e==(1,2) or e==(3,4) or e==(4,5) or e==(6,7) or e==(7,8):     \n",
    "            assert gm.getEdgeWeight(e) == 1\n",
    "        else:\n",
    "            assert gm.getEdgeWeight(e) == 0\n",
    "    \n",
    "    gm = motion_graphs[1]\n",
    "    for e in gm.edges():\n",
    "        if e==(1,2) or e==(4,5) or e==(7,8):     \n",
    "            assert gm.getEdgeWeight(e) == 1\n",
    "        else:\n",
    "            assert gm.getEdgeWeight(e) == 0\n",
    "\n",
    "#     gm = motion_graphs[1]\n",
    "#     # show all edges with non-zero weights\n",
    "#     for e in gm.edges():\n",
    "#         if gm.getEdgeWeight(e) != 0:\n",
    "#             print('{} -> {}'.format(e, gm.getEdgeWeight(e)))\n",
    "\n",
    "#     # show all edges with 2 or -2 weights\n",
    "#     for e in gm.edges():\n",
    "#         if gm.getEdgeWeight(e) == 2:\n",
    "#             print('graph {}: {} -> {}'.format(gm, e, gm.getEdgeWeight(e)))\n",
    "#     for e in gm.edges():\n",
    "#         if gm.getEdgeWeight(e) == -2:\n",
    "#             print('graph {}: {} -> {}'.format(gm, e, gm.getEdgeWeight(e)))\n",
    "            \n",
    "\n",
    "test_motion_cues_on_grid_graph(show_msgs=True)"
   ]
  },
  {
   "cell_type": "code",
   "execution_count": 12,
   "id": "47bbaa54",
   "metadata": {},
   "outputs": [
    {
     "data": {
      "text/plain": [
       "[<mylib.mygraph.graph at 0x7f3c06dcd048>,\n",
       " <mylib.mygraph.graph at 0x7f3c06dd5828>,\n",
       " <mylib.mygraph.graph at 0x7f3c06dc6f98>,\n",
       " <mylib.mygraph.graph at 0x7f3c06dd8780>]"
      ]
     },
     "execution_count": 12,
     "metadata": {},
     "output_type": "execute_result"
    }
   ],
   "source": [
    "# extract motion cues from a 5x5px moving bar movie\n",
    "motion_graphs = motion_cues_on_grid_graph(scenes)\n",
    "motion_graphs"
   ]
  },
  {
   "cell_type": "markdown",
   "id": "8a925319",
   "metadata": {},
   "source": [
    "## 3. predict next frame using current frame and motion cues"
   ]
  },
  {
   "cell_type": "code",
   "execution_count": 13,
   "id": "241ae32c",
   "metadata": {},
   "outputs": [
    {
     "data": {
      "text/plain": [
       "[array([[0., 1., 1., 1., 0.],\n",
       "        [0., 1., 1., 1., 0.],\n",
       "        [0., 1., 1., 1., 0.],\n",
       "        [0., 1., 1., 1., 0.],\n",
       "        [0., 1., 1., 1., 0.]]),\n",
       " array([[0., 0., 1., 1., 1.],\n",
       "        [0., 0., 1., 1., 1.],\n",
       "        [0., 0., 1., 1., 1.],\n",
       "        [0., 0., 1., 1., 1.],\n",
       "        [0., 0., 1., 1., 1.]]),\n",
       " array([[0., 0., 0., 1., 1.],\n",
       "        [0., 0., 0., 1., 1.],\n",
       "        [0., 0., 0., 1., 1.],\n",
       "        [0., 0., 0., 1., 1.],\n",
       "        [0., 0., 0., 1., 1.]]),\n",
       " array([[0., 0., 0., 0., 1.],\n",
       "        [0., 0., 0., 0., 1.],\n",
       "        [0., 0., 0., 0., 1.],\n",
       "        [0., 0., 0., 0., 1.],\n",
       "        [0., 0., 0., 0., 1.]])]"
      ]
     },
     "execution_count": 13,
     "metadata": {},
     "output_type": "execute_result"
    }
   ],
   "source": [
    "def predict_next(scenes, motion_graphs):\n",
    "    scene_sz = scenes.shape[1]\n",
    "    predictions = []\n",
    "    \n",
    "    for t in range(scene_sz-1):\n",
    "        current_scene = scenes[t]\n",
    "        current_motion_graph = motion_graphs[t]\n",
    "        prediction = np.copy(current_scene)\n",
    "        \n",
    "        for e in current_motion_graph.edges():\n",
    "            (vrtx1, vrtx2) = e\n",
    "            if current_motion_graph.getEdgeWeight(e) > 0: # for each positively weighted edge\n",
    "                prediction[vrtx2//scene_sz][vrtx2%scene_sz] = 1 # make tail vertex 1\n",
    "            if current_scene[vrtx2//scene_sz][vrtx2%scene_sz]+current_motion_graph.getEdgeWeight(e) == 2:\n",
    "                prediction[vrtx1//scene_sz][vrtx1%scene_sz] = 0 # make head vertex 0\n",
    "                \n",
    "        predictions.append(prediction)\n",
    "    \n",
    "    return predictions\n",
    "\n",
    "predictions = predict_next(scenes, motion_graphs)\n",
    "predictions"
   ]
  },
  {
   "cell_type": "code",
   "execution_count": 14,
   "id": "b5ec2c45",
   "metadata": {},
   "outputs": [
    {
     "data": {
      "text/plain": [
       "1.0"
      ]
     },
     "execution_count": 14,
     "metadata": {},
     "output_type": "execute_result"
    }
   ],
   "source": [
    "def assess_predictions(scenes, predictions):\n",
    "    scene_sz = scenes.shape[1]\n",
    "    \n",
    "    accuracy = 0\n",
    "    for t in range(1, scene_sz):\n",
    "        accuracy = accuracy + np.sum(scenes[t] == predictions[t-1]) / scene_sz**2\n",
    "    accuracy = accuracy / (scene_sz-1)\n",
    "    \n",
    "    return accuracy\n",
    "\n",
    "accuracy = assess_predictions(scenes, predictions)\n",
    "accuracy"
   ]
  },
  {
   "cell_type": "code",
   "execution_count": null,
   "id": "18f0fd8e",
   "metadata": {},
   "outputs": [],
   "source": []
  },
  {
   "cell_type": "code",
   "execution_count": null,
   "id": "f86268a1",
   "metadata": {},
   "outputs": [],
   "source": []
  },
  {
   "cell_type": "code",
   "execution_count": null,
   "id": "0c1a4078",
   "metadata": {},
   "outputs": [],
   "source": []
  },
  {
   "cell_type": "code",
   "execution_count": null,
   "id": "507f4c77",
   "metadata": {},
   "outputs": [],
   "source": []
  },
  {
   "cell_type": "code",
   "execution_count": 63,
   "id": "5962081d",
   "metadata": {},
   "outputs": [
    {
     "data": {
      "text/plain": [
       "0.6"
      ]
     },
     "execution_count": 63,
     "metadata": {},
     "output_type": "execute_result"
    }
   ],
   "source": [
    "# quick test area\n",
    "\n",
    "a = np.array([[0., 1., 0., 0., 0.],\n",
    "        [0., 1., 0., 0., 0.],\n",
    "        [0., 1., 0., 0., 0.],\n",
    "        [0., 1., 0., 0., 0.],\n",
    "        [0., 1., 0., 0., 0.]])\n",
    "\n",
    "b = np. array([[0., 0., 1., 0., 0.],\n",
    "        [0., 0., 1., 0., 0.],\n",
    "        [0., 0., 1., 0., 0.],\n",
    "        [0., 0., 1., 0., 0.],\n",
    "        [0., 0., 1., 0., 0.]])\n",
    "np.sum(a == b) / 5**2"
   ]
  }
 ],
 "metadata": {
  "kernelspec": {
   "display_name": "Python 3",
   "language": "python",
   "name": "python3"
  },
  "language_info": {
   "codemirror_mode": {
    "name": "ipython",
    "version": 3
   },
   "file_extension": ".py",
   "mimetype": "text/x-python",
   "name": "python",
   "nbconvert_exporter": "python",
   "pygments_lexer": "ipython3",
   "version": "3.6.9"
  }
 },
 "nbformat": 4,
 "nbformat_minor": 5
}
