{
 "cells": [
  {
   "cell_type": "code",
   "execution_count": 1,
   "id": "2acb0323-b1fe-4e65-b947-a1a8997221d5",
   "metadata": {},
   "outputs": [],
   "source": [
    "import torch\n",
    "import torch.nn as nn\n",
    "import numpy as np\n",
    "import matplotlib.pyplot as plt\n",
    "\n",
    "# add the path to my packages to system paths so they can be imported\n",
    "import sys\n",
    "# sys.path.append('/home/yasamanparhizkar/Documents/yorku/01_thesis/simgraph/code/my_packages')\n",
    "sys.path.append('F:/Users/yasam/Documents/GitHub/simgraph/code/my_packages')\n",
    "# sys.path.append('/home/yasamanparhizkar/Documents/thesis/code/my_packages')\n",
    "\n",
    "import dataprocess.data_handler_03 as dh\n",
    "import rnn_assess as rnas"
   ]
  },
  {
   "cell_type": "markdown",
   "id": "b0cd5f33-9ca2-4c91-9eeb-c48eddb45459",
   "metadata": {
    "tags": []
   },
   "source": [
    "# Assess the RNN model for various training set sizes"
   ]
  },
  {
   "cell_type": "markdown",
   "id": "ee14ab95-88a8-40fa-b86b-308183017fca",
   "metadata": {},
   "source": [
    "# Load the data"
   ]
  },
  {
   "cell_type": "code",
   "execution_count": 2,
   "id": "55794b5e-d779-48ff-b35e-85ef17385036",
   "metadata": {},
   "outputs": [],
   "source": [
    "# load all spike data from file\n",
    "spikes_dp = '../../../local_data/original_files/spikes.npy'\n",
    "binned_data = np.load(spikes_dp)\n",
    "binned_data = binned_data.reshape(binned_data.shape[0], 1141, 113)\n",
    "binned_data = binned_data * 2 - 1     # turn labels from 0,1 to -1,1\n",
    "\n",
    "I_order_10 = [54, 35, 10, 60, 74, 9, 61, 56, 91, 104]\n",
    "\n",
    "# group all neurons together\n",
    "grouped_data = np.zeros((297, 1141, 1))\n",
    "for trial in range(297):\n",
    "    for frame in range(1141):\n",
    "        grouped_data[trial, frame, :] = 2 * int((binned_data[trial, frame, :] == 1).any()) - 1"
   ]
  },
  {
   "cell_type": "code",
   "execution_count": 3,
   "id": "8eb77f31-88a2-4375-a44f-76aeb172c81e",
   "metadata": {},
   "outputs": [],
   "source": [
    "def get_mnist_labels(data_params):\n",
    "    return np.loadtxt(data_params['features_dp']+'lbls.csv')\n",
    "\n",
    "def transform_mnistsift(fv):\n",
    "    return fv[::4]\n",
    "\n",
    "def transform_slowfast(fv):\n",
    "    \"\"\"\n",
    "    Transform to be applied on feature vectors.\n",
    "    \n",
    "    Input: fv\n",
    "    fv - 1xDf torch tensor representing a feature vector\n",
    "    \n",
    "    Output: fvv\n",
    "    fvv - 1xDf' torch tensor representing the transformed feature vector\n",
    "    \"\"\"\n",
    "    \n",
    "    # for faster run and less memory usage\n",
    "    fvv = fv[::100]\n",
    "    \n",
    "    # for numerical stability during GD\n",
    "    # fvv = fvv * 10\n",
    "    \n",
    "    return fvv\n",
    "\n",
    "def transform_sift3d(fv):\n",
    "    return fv[::2]\n",
    "\n",
    "def transform_parham(fv):\n",
    "    return fv[::5]\n",
    "\n",
    "# data retrieval params\n",
    "# data_params = {'func': dh.datapoint_sift, 'lbl_func': get_mnist_labels, 'features_dp': '../../data/fe_exp/mnist-sift/', \\\n",
    "#                'spike_data': None, 'group_id': None, 'transform': transform_mnistsift, 'ind_min': 0, 'ind_max': 13203, 'feature_id':'mnist-sift'}\n",
    "\n",
    "# data_params = {'func': dh.datapoint_numpy, 'lbl_func': dh.get_labels, 'features_dp': '../../data/features/slowfast/slowfast_4732_numpy/', \\\n",
    "#                'spike_data': grouped_data, 'group_id': 0, 'transform': transform_slowfast, 'ind_min': 1*1141+0, 'ind_max': 2*1141-1, 'feature_id':'slowfast'}\n",
    "\n",
    "data_params = {'func': dh.datapoint_numpy, 'lbl_func': dh.get_labels, 'features_dp': '../../data/features/sift3d/fvs_s1_with_kp/desc/', \\\n",
    "               'spike_data': grouped_data, 'group_id': 0, 'transform': transform_sift3d, 'ind_min': 1*1141+0, 'ind_max': 2*1141-1, 'feature_id':'sift3d'}\n",
    "\n",
    "# data_params = {'func': dh.datapoint_numpy, 'lbl_func': dh.get_labels, 'features_dp': '../../data/features/parham/parham3/features_2layer/', \\\n",
    "#                'spike_data': grouped_data, 'group_id': 0, 'transform': transform_parham, 'ind_min': 1*1141+41, 'ind_max': 2*1141-1, 'feature_id':'parham'}"
   ]
  },
  {
   "cell_type": "code",
   "execution_count": 4,
   "id": "f8eee949-6a39-4044-b338-4088ecbcec18",
   "metadata": {
    "scrolled": true,
    "tags": []
   },
   "outputs": [
    {
     "name": "stdout",
     "output_type": "stream",
     "text": [
      "feature_id:  sift3d\n",
      "train_num =  10 , val_num =  5\n",
      "number of features:  384\n",
      "training data contains 5 points (50.00%) of label 1.\n",
      "validation data contains 2 points (40.00%) of label 1.\n",
      "train_smpls =  [2257 1637 1436 1899 1371 2279 2226 1629 1333 2064] \n",
      "val_smpls =  [2261 1639 1991 1247 1847]\n",
      "train_lbls =  [ 1.  1.  1.  1.  1. -1. -1. -1. -1. -1.] \n",
      "val_lbls =  [ 1.  1. -1. -1. -1.]\n",
      "train_des =  [[0.00000e+00 0.00000e+00 0.00000e+00 ... 0.00000e+00 0.00000e+00\n",
      "  0.00000e+00]\n",
      " [0.00000e+00 0.00000e+00 0.00000e+00 ... 4.63960e-02 1.06749e-01\n",
      "  1.83570e-02]\n",
      " [0.00000e+00 0.00000e+00 0.00000e+00 ... 1.99000e-04 2.60000e-05\n",
      "  1.70000e-04]\n",
      " ...\n",
      " [0.00000e+00 0.00000e+00 0.00000e+00 ... 6.50000e-05 1.87000e-04\n",
      "  1.40000e-04]\n",
      " [0.00000e+00 0.00000e+00 0.00000e+00 ... 1.13300e-02 1.02030e-02\n",
      "  8.23600e-03]\n",
      " [0.00000e+00 0.00000e+00 0.00000e+00 ... 1.08000e-03 2.24300e-03\n",
      "  1.63300e-03]] \n",
      "val_des =  [[0.0000e+00 0.0000e+00 0.0000e+00 ... 6.0670e-03 8.2110e-03 6.6560e-03]\n",
      " [0.0000e+00 0.0000e+00 0.0000e+00 ... 9.7060e-03 1.0197e-02 6.6240e-03]\n",
      " [0.0000e+00 0.0000e+00 0.0000e+00 ... 1.3385e-02 2.2006e-02 1.7325e-02]\n",
      " [0.0000e+00 0.0000e+00 0.0000e+00 ... 0.0000e+00 0.0000e+00 0.0000e+00]\n",
      " [0.0000e+00 0.0000e+00 0.0000e+00 ... 3.5600e-04 6.1000e-05 2.4000e-04]]\n"
     ]
    }
   ],
   "source": [
    "train_num = 10\n",
    "val_num = 5\n",
    "\n",
    "train_num, val_num, train_data, val_data = \\\n",
    "dh.random_train_val_balanced(train_num, val_num, data_params, seed=1342)\n",
    "\n",
    "# show statistics\n",
    "print('feature_id: ', data_params['feature_id'])\n",
    "print('train_num = ', train_num, ', val_num = ', val_num)\n",
    "print('number of features: ', train_data['des'].shape[1])\n",
    "print('training data contains {} points ({:.2f}%) of label 1.'\n",
    "      .format(np.sum(train_data['lbls'] == 1), np.sum(train_data['lbls'] == 1)*100/train_num))\n",
    "print('validation data contains {} points ({:.2f}%) of label 1.'\n",
    "      .format(np.sum(val_data['lbls'] == 1), np.sum(val_data['lbls'] == 1)*100/val_num))\n",
    "print('train_smpls = ', train_data['smpls'], '\\nval_smpls = ', val_data['smpls'])\n",
    "print('train_lbls = ', train_data['lbls'], '\\nval_lbls = ', val_data['lbls'])\n",
    "print('train_des = ', train_data['des'], '\\nval_des = ', val_data['des'])"
   ]
  },
  {
   "cell_type": "markdown",
   "id": "3efb0583-222a-4b8c-ae84-035c88298c2c",
   "metadata": {},
   "source": [
    "# Assess"
   ]
  },
  {
   "cell_type": "code",
   "execution_count": 16,
   "id": "47debdb2-22dd-42b2-bdb2-63d21f4709df",
   "metadata": {},
   "outputs": [],
   "source": [
    "# Device configuration\n",
    "device = torch.device('cuda' if torch.cuda.is_available() else 'cpu')\n",
    "\n",
    "# Hyper-parameters \n",
    "learning_rate = 0.001\n",
    "num_classes = 2\n",
    "num_epochs = 50\n",
    "# batch_size = 50\n",
    "\n",
    "sequence_length = 32\n",
    "input_size = 12\n",
    "hidden_size = 128\n",
    "num_layers = 2\n",
    "\n",
    "seed = None # for random datapoint choice"
   ]
  },
  {
   "cell_type": "code",
   "execution_count": 16,
   "id": "b3e88f9a-944e-4d8f-8337-e2a970ddbc01",
   "metadata": {},
   "outputs": [],
   "source": [
    "train_sizes = [50, 100, 150]\n",
    "val_num = 50\n",
    "\n",
    "train_its = 100\n",
    "val_its = 10"
   ]
  },
  {
   "cell_type": "code",
   "execution_count": 17,
   "id": "bc39243a-0b72-488d-80d8-f02d04dd639c",
   "metadata": {},
   "outputs": [
    {
     "name": "stdout",
     "output_type": "stream",
     "text": [
      "train size: 50 \titeration: 99/100\n",
      "train size: 100 \titeration: 99/100\n",
      "train size: 150 \titeration: 99/100\n"
     ]
    }
   ],
   "source": [
    "val_acc_means, val_acc_stds = \\\n",
    "assess_rnn(train_sizes, val_num, train_its, val_its, data_params, sequence_length, \n",
    "               input_size, hidden_size, num_layers, num_classes, device, learning_rate, num_epochs,\n",
    "               show_messages=False, seed=None)"
   ]
  },
  {
   "cell_type": "code",
   "execution_count": 19,
   "id": "3208a8df-5857-4a24-8e3a-16054d908aa8",
   "metadata": {},
   "outputs": [],
   "source": [
    "# save the resulting curve\n",
    "np.save('mean_accs.npy', np.array(val_acc_means))\n",
    "np.save('std_accs.npy', np.array(val_acc_stds))"
   ]
  },
  {
   "cell_type": "code",
   "execution_count": 18,
   "id": "c52bcdca-ca70-4b39-a22e-4f72f3183061",
   "metadata": {},
   "outputs": [
    {
     "data": {
      "text/plain": [
       "Text(0.5, 1.0, '3d-sift, RNN')"
      ]
     },
     "execution_count": 18,
     "metadata": {},
     "output_type": "execute_result"
    },
    {
     "data": {
      "image/png": "[encoded data removed]",
      "text/plain": [
       "<Figure size 432x288 with 1 Axes>"
      ]
     },
     "metadata": {
      "needs_background": "light"
     },
     "output_type": "display_data"
    }
   ],
   "source": [
    "plt.figure()\n",
    "plt.errorbar(train_sizes, val_acc_means, val_acc_stds)\n",
    "plt.xlabel('training set size')\n",
    "plt.ylabel('{} val repeats x {} train repeats'.format(val_its, train_its))\n",
    "plt.title('3d-sift, RNN')\n",
    "plt.savefig('rnn_accs.png')"
   ]
  },
  {
   "cell_type": "code",
   "execution_count": 20,
   "id": "42579896-24c2-4bf8-85f4-03a972823789",
   "metadata": {},
   "outputs": [
    {
     "data": {
      "text/plain": [
       "array([63.226, 66.598, 68.56 ])"
      ]
     },
     "execution_count": 20,
     "metadata": {},
     "output_type": "execute_result"
    }
   ],
   "source": [
    "# np.load('mean_accs.npy')"
   ]
  },
  {
   "cell_type": "code",
   "execution_count": null,
   "id": "21d15aea-b9dc-4e25-9f64-0571f59b0c77",
   "metadata": {},
   "outputs": [],
   "source": []
  },
  {
   "cell_type": "code",
   "execution_count": null,
   "id": "73eaf0ff-6744-4e9f-a57d-11e2e8df96e3",
   "metadata": {},
   "outputs": [],
   "source": []
  },
  {
   "cell_type": "code",
   "execution_count": null,
   "id": "684c72e5-ebc9-402d-bc98-57d12367fa28",
   "metadata": {},
   "outputs": [],
   "source": []
  },
  {
   "cell_type": "code",
   "execution_count": null,
   "id": "e770893f-1246-472b-91d7-ac3d861506f1",
   "metadata": {},
   "outputs": [],
   "source": []
  },
  {
   "cell_type": "code",
   "execution_count": null,
   "id": "85332f65-aefa-4036-ae54-34f49d3787c8",
   "metadata": {},
   "outputs": [],
   "source": []
  },
  {
   "cell_type": "code",
   "execution_count": null,
   "id": "ecd36133-9208-4d09-9db0-dccef09f5073",
   "metadata": {},
   "outputs": [],
   "source": []
  },
  {
   "cell_type": "code",
   "execution_count": null,
   "id": "86609837-b5a1-4b42-a675-677d13d6e4af",
   "metadata": {},
   "outputs": [],
   "source": []
  },
  {
   "cell_type": "code",
   "execution_count": null,
   "id": "8c21b171-ca3b-457b-b396-a4a379ab80eb",
   "metadata": {},
   "outputs": [],
   "source": []
  },
  {
   "cell_type": "code",
   "execution_count": null,
   "id": "d08a4aca-fc30-4715-b868-cf37e7140831",
   "metadata": {},
   "outputs": [],
   "source": []
  },
  {
   "cell_type": "code",
   "execution_count": null,
   "id": "1eb85899-a244-47e4-9f38-930e6b56c517",
   "metadata": {},
   "outputs": [],
   "source": []
  },
  {
   "cell_type": "code",
   "execution_count": null,
   "id": "40c8ed46-ed10-4be6-bed1-c11f1fe84808",
   "metadata": {},
   "outputs": [],
   "source": []
  },
  {
   "cell_type": "code",
   "execution_count": null,
   "id": "dd1b20b0-f297-44f0-8135-84642dbec5b6",
   "metadata": {},
   "outputs": [],
   "source": []
  },
  {
   "cell_type": "code",
   "execution_count": null,
   "id": "91e6cdd4-0b18-4f8a-b3d9-48c745387e2e",
   "metadata": {},
   "outputs": [],
   "source": []
  },
  {
   "cell_type": "code",
   "execution_count": null,
   "id": "5be17d1e-606c-483e-9b55-917abaaba0b7",
   "metadata": {},
   "outputs": [],
   "source": []
  },
  {
   "cell_type": "code",
   "execution_count": null,
   "id": "c73bdd6c-a2fe-46a9-bd71-e79be2a321c1",
   "metadata": {},
   "outputs": [],
   "source": []
  },
  {
   "cell_type": "code",
   "execution_count": null,
   "id": "166dd32f-7e3c-4c25-ae92-5c1ef986d1e1",
   "metadata": {},
   "outputs": [],
   "source": []
  },
  {
   "cell_type": "code",
   "execution_count": null,
   "id": "de215baf-e2e4-4215-9c77-f627d54f6093",
   "metadata": {},
   "outputs": [],
   "source": []
  },
  {
   "cell_type": "code",
   "execution_count": null,
   "id": "27ebb725-4724-476f-b646-da5f5a45e2fc",
   "metadata": {},
   "outputs": [],
   "source": []
  },
  {
   "cell_type": "code",
   "execution_count": null,
   "id": "2bb4165f-3be4-466d-9ee4-ac2672d17735",
   "metadata": {},
   "outputs": [],
   "source": []
  },
  {
   "cell_type": "code",
   "execution_count": null,
   "id": "3068a9b2-ccb8-4867-afe6-4275d2e7d5ef",
   "metadata": {},
   "outputs": [],
   "source": []
  },
  {
   "cell_type": "code",
   "execution_count": null,
   "id": "0553e6b6-61c1-4e87-bdaf-5802c4178c30",
   "metadata": {},
   "outputs": [],
   "source": []
  },
  {
   "cell_type": "code",
   "execution_count": null,
   "id": "d3a1c8fc-099e-4a98-8f32-9b850abe724a",
   "metadata": {},
   "outputs": [],
   "source": []
  },
  {
   "cell_type": "code",
   "execution_count": null,
   "id": "b3f41d6b-9506-4c1a-9dd3-cbb4c3e204e8",
   "metadata": {},
   "outputs": [],
   "source": []
  },
  {
   "cell_type": "code",
   "execution_count": null,
   "id": "b08361c7-98d7-4ea0-8316-7e71b42b5bb4",
   "metadata": {},
   "outputs": [],
   "source": []
  },
  {
   "cell_type": "code",
   "execution_count": null,
   "id": "ac1c98a3-9043-474a-ac14-d56a8d2f9715",
   "metadata": {},
   "outputs": [],
   "source": []
  },
  {
   "cell_type": "code",
   "execution_count": null,
   "id": "0107b6a5-6cda-4f7a-a3b7-b5b6d1446ac2",
   "metadata": {},
   "outputs": [],
   "source": []
  },
  {
   "cell_type": "code",
   "execution_count": null,
   "id": "7b019f73-0d61-45b0-9abe-33f9d9aa49da",
   "metadata": {},
   "outputs": [],
   "source": []
  },
  {
   "cell_type": "code",
   "execution_count": null,
   "id": "1b323e27-817e-424d-87a9-c869e96b8824",
   "metadata": {},
   "outputs": [],
   "source": []
  },
  {
   "cell_type": "code",
   "execution_count": null,
   "id": "805b3427-8a08-4556-8404-a7e65c6af149",
   "metadata": {},
   "outputs": [],
   "source": []
  },
  {
   "cell_type": "code",
   "execution_count": null,
   "id": "4002f74f-7736-4365-b79e-545341591276",
   "metadata": {},
   "outputs": [],
   "source": []
  },
  {
   "cell_type": "code",
   "execution_count": null,
   "id": "13d32b9d-efe7-467b-9256-360fde9d34de",
   "metadata": {},
   "outputs": [],
   "source": []
  }
 ],
 "metadata": {
  "kernelspec": {
   "display_name": "Python 3 (ipykernel)",
   "language": "python",
   "name": "python3"
  },
  "language_info": {
   "codemirror_mode": {
    "name": "ipython",
    "version": 3
   },
   "file_extension": ".py",
   "mimetype": "text/x-python",
   "name": "python",
   "nbconvert_exporter": "python",
   "pygments_lexer": "ipython3",
   "version": "3.9.12"
  }
 },
 "nbformat": 4,
 "nbformat_minor": 5
}
