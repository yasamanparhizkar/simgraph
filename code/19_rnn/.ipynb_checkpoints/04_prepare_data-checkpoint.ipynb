{
 "cells": [
  {
   "cell_type": "code",
   "execution_count": 98,
   "id": "c783e5d2-ae98-4ea1-b803-8344d279a306",
   "metadata": {},
   "outputs": [],
   "source": [
    "import numpy as np\n",
    "import matplotlib.pyplot as plt\n",
    "import torch\n",
    "\n",
    "# add the path to my packages to system paths so they can be imported\n",
    "import sys\n",
    "# sys.path.append('/home/yasamanparhizkar/Documents/yorku/01_thesis/simgraph/code/my_packages')\n",
    "sys.path.append('F:/Users/yasam/Documents/GitHub/simgraph/code/my_packages')\n",
    "# sys.path.append('/home/yasamanparhizkar/Documents/thesis/code/my_packages')\n",
    "\n",
    "import dataprocess.data_handler_03 as dh"
   ]
  },
  {
   "cell_type": "code",
   "execution_count": 19,
   "id": "e560a5c4-9168-4204-afb7-2053640a9ccf",
   "metadata": {},
   "outputs": [],
   "source": [
    "input_size = 28\n",
    "sequence_length = 28\n",
    "batch_size = 100"
   ]
  },
  {
   "cell_type": "markdown",
   "id": "a4975f50-2777-4513-bfee-d96e3c4110f1",
   "metadata": {
    "tags": []
   },
   "source": [
    "# Load MNIST images"
   ]
  },
  {
   "cell_type": "code",
   "execution_count": 2,
   "id": "5cefbd5c-fca2-4526-9f0c-01f2502c731e",
   "metadata": {},
   "outputs": [],
   "source": [
    "dpath = '../../../local_data/fe_exp/mnist-org/'\n",
    "ind = 4\n",
    "fv = np.loadtxt(dpath+'fv_'+str(ind)+'.txt')\n",
    "lbls = np.loadtxt(dpath+'lbls.txt')"
   ]
  },
  {
   "cell_type": "code",
   "execution_count": 14,
   "id": "496b6b36-94de-4db5-bb13-820f623213f5",
   "metadata": {},
   "outputs": [
    {
     "data": {
      "text/plain": [
       "<matplotlib.image.AxesImage at 0x1932ea219a0>"
      ]
     },
     "execution_count": 14,
     "metadata": {},
     "output_type": "execute_result"
    },
    {
     "data": {
      "image/png": "[encoded data removed]",
      "text/plain": [
       "<Figure size 432x288 with 1 Axes>"
      ]
     },
     "metadata": {
      "needs_background": "light"
     },
     "output_type": "display_data"
    }
   ],
   "source": [
    "ind = 10000\n",
    "fv = np.loadtxt(dpath+'fv_'+str(ind)+'.txt')\n",
    "fv = fv.reshape(sequence_length, input_size)\n",
    "plt.imshow(fv)"
   ]
  },
  {
   "cell_type": "markdown",
   "id": "ec20c175-6960-4ce1-a07a-8904d7126ece",
   "metadata": {},
   "source": [
    "# Make a batch"
   ]
  },
  {
   "cell_type": "code",
   "execution_count": 54,
   "id": "ff3b1260-32c0-4518-a80f-2fe09c84a57e",
   "metadata": {},
   "outputs": [],
   "source": [
    "images = np.zeros((batch_size, sequence_length, input_size))\n",
    "labels = np.zeros(batch_size)\n",
    "start_ind = 150\n",
    "\n",
    "for ind in range(batch_size):\n",
    "    # load an image\n",
    "    fv = np.loadtxt(dpath+'fv_'+str(start_ind + ind)+'.txt')\n",
    "    fv = fv.reshape(sequence_length, input_size)\n",
    "    \n",
    "    # add it to the batch\n",
    "    images[ind, :, :] = fv\n",
    "    \n",
    "# batch equivalent labels\n",
    "lbls = np.loadtxt(dpath+'lbls.txt')\n",
    "labels = lbls[start_ind:start_ind+batch_size]"
   ]
  },
  {
   "cell_type": "code",
   "execution_count": 56,
   "id": "fdd8e937-bc5f-4950-bf13-a6a4ba675383",
   "metadata": {},
   "outputs": [
    {
     "data": {
      "image/png": "[encoded data removed]",
      "text/plain": [
       "<Figure size 432x288 with 6 Axes>"
      ]
     },
     "metadata": {
      "needs_background": "light"
     },
     "output_type": "display_data"
    }
   ],
   "source": [
    "# visualize some random images and their labels\n",
    "plt.figure(figsize=(6,4))\n",
    "for i in range(6):\n",
    "    ind = np.random.randint(0, batch_size)\n",
    "    plt.subplot(2,3,i+1)\n",
    "    plt.imshow(images[ind, :, :])\n",
    "    plt.title(labels[ind])"
   ]
  },
  {
   "cell_type": "code",
   "execution_count": 65,
   "id": "2058b744-08dd-4cac-bf04-29ce26e92d1d",
   "metadata": {},
   "outputs": [
    {
     "name": "stdout",
     "output_type": "stream",
     "text": [
      "number of all images =  14780\n",
      "number of batches =  147\n"
     ]
    }
   ],
   "source": [
    "set_size = lbls.shape[0]\n",
    "num_batches = set_size // batch_size\n",
    "print('number of all images = ', set_size)\n",
    "print('number of batches = ', num_batches)"
   ]
  },
  {
   "cell_type": "markdown",
   "id": "658b277e-71c8-4d33-ae20-00302b8a82ab",
   "metadata": {},
   "source": [
    "# Make a function to enumerate on batches of images and their labels"
   ]
  },
  {
   "cell_type": "code",
   "execution_count": 66,
   "id": "6ee7512e-9303-4943-9ecb-da7bdf6f9966",
   "metadata": {},
   "outputs": [],
   "source": [
    "def get_datapoint(batch_size, sequence_length, input_size, start_ind, dpath):\n",
    "    images = np.zeros((batch_size, sequence_length, input_size))\n",
    "    labels = np.zeros(batch_size)\n",
    "    \n",
    "    # load labels\n",
    "    lbls = np.loadtxt(dpath+'lbls.txt')\n",
    "    \n",
    "    for ind in range(batch_size):\n",
    "        # load an image\n",
    "        fv = np.loadtxt(dpath+'fv_'+str(start_ind + ind)+'.txt')\n",
    "        fv = fv.reshape(sequence_length, input_size)\n",
    "\n",
    "        # add it to the batch\n",
    "        images[ind, :, :] = fv\n",
    "\n",
    "    # batch equivalent labels \n",
    "    labels = lbls[start_ind:start_ind+batch_size]\n",
    "    \n",
    "    return images, labels"
   ]
  },
  {
   "cell_type": "code",
   "execution_count": 67,
   "id": "aef66f55-881e-46e8-801a-25d27bfb50b4",
   "metadata": {},
   "outputs": [],
   "source": [
    "input_size = 28\n",
    "sequence_length = 28\n",
    "batch_size = 100\n",
    "\n",
    "n_batches = 6\n",
    "start_ind = 150\n",
    "dpath = '../../../local_data/fe_exp/mnist-org/'"
   ]
  },
  {
   "cell_type": "code",
   "execution_count": 82,
   "id": "d3f2daad-8773-4bcf-8dec-06365255453a",
   "metadata": {},
   "outputs": [
    {
     "name": "stdout",
     "output_type": "stream",
     "text": [
      "(100, 28, 28)\n",
      "(100,)\n",
      "(100, 28, 28)\n",
      "(100,)\n",
      "(100, 28, 28)\n",
      "(100,)\n",
      "(100, 28, 28)\n",
      "(100,)\n",
      "(100, 28, 28)\n",
      "(100,)\n",
      "(100, 28, 28)\n",
      "(100,)\n"
     ]
    }
   ],
   "source": [
    "for i_batch in range(n_batches):\n",
    "    images, labels = get_datapoint(batch_size, sequence_length, input_size, i_batch*batch_size, dpath)\n",
    "    print(images.shape)\n",
    "    print(labels.shape)"
   ]
  },
  {
   "cell_type": "code",
   "execution_count": 89,
   "id": "7089b72a-6e83-40f2-98f3-02fbc4090230",
   "metadata": {},
   "outputs": [],
   "source": [
    "# convert np arrays to torch tensors\n",
    "images1 = torch.from_numpy(images)\n",
    "labels1 = torch.from_numpy(labels)"
   ]
  },
  {
   "cell_type": "markdown",
   "id": "d6e53642-3af2-4feb-b7c2-1e669c30154e",
   "metadata": {},
   "source": [
    "# Prepare 3D-SIFT data"
   ]
  },
  {
   "cell_type": "code",
   "execution_count": 92,
   "id": "4817b22d-0e7e-4d41-8b58-58d8f33f2ffc",
   "metadata": {},
   "outputs": [],
   "source": [
    "# load all spike data from file\n",
    "spikes_dp = '../../../local_data/original_files/spikes.npy'\n",
    "binned_data = np.load(spikes_dp)\n",
    "binned_data = binned_data.reshape(binned_data.shape[0], 1141, 113)\n",
    "binned_data = binned_data * 2 - 1     # turn labels from 0,1 to -1,1\n",
    "\n",
    "I_order_10 = [54, 35, 10, 60, 74, 9, 61, 56, 91, 104]\n",
    "\n",
    "# group all neurons together\n",
    "grouped_data = np.zeros((297, 1141, 1))\n",
    "for trial in range(297):\n",
    "    for frame in range(1141):\n",
    "        grouped_data[trial, frame, :] = 2 * int((binned_data[trial, frame, :] == 1).any()) - 1"
   ]
  },
  {
   "cell_type": "code",
   "execution_count": 99,
   "id": "69b33748-f195-4999-b791-97024bf51290",
   "metadata": {},
   "outputs": [],
   "source": [
    "def get_mnist_labels(data_params):\n",
    "    return np.loadtxt(data_params['features_dp']+'lbls.csv')\n",
    "\n",
    "def transform_mnistsift(fv):\n",
    "    return fv[::4]\n",
    "\n",
    "def transform_slowfast(fv):\n",
    "    \"\"\"\n",
    "    Transform to be applied on feature vectors.\n",
    "    \n",
    "    Input: fv\n",
    "    fv - 1xDf torch tensor representing a feature vector\n",
    "    \n",
    "    Output: fvv\n",
    "    fvv - 1xDf' torch tensor representing the transformed feature vector\n",
    "    \"\"\"\n",
    "    \n",
    "    # for faster run and less memory usage\n",
    "    fvv = fv[::100]\n",
    "    \n",
    "    # for numerical stability during GD\n",
    "    # fvv = fvv * 10\n",
    "    \n",
    "    return fvv\n",
    "\n",
    "def transform_sift3d(fv):\n",
    "    return fv[::2]\n",
    "\n",
    "def transform_parham(fv):\n",
    "    return fv[::5]\n",
    "\n",
    "# data retrieval params\n",
    "# data_params = {'func': dh.datapoint_sift, 'lbl_func': get_mnist_labels, 'features_dp': '../../data/fe_exp/mnist-sift/', \\\n",
    "#                'spike_data': None, 'group_id': None, 'transform': transform_mnistsift, 'ind_min': 0, 'ind_max': 13203, 'feature_id':'mnist-sift'}\n",
    "\n",
    "# data_params = {'func': dh.datapoint_numpy, 'lbl_func': dh.get_labels, 'features_dp': '../../data/features/slowfast/slowfast_4732_numpy/', \\\n",
    "#                'spike_data': grouped_data, 'group_id': 0, 'transform': transform_slowfast, 'ind_min': 1*1141+0, 'ind_max': 2*1141-1, 'feature_id':'slowfast'}\n",
    "\n",
    "data_params = {'func': dh.datapoint_numpy, 'lbl_func': dh.get_labels, 'features_dp': '../../data/features/sift3d/fvs_s1_with_kp/desc/', \\\n",
    "               'spike_data': grouped_data, 'group_id': 0, 'transform': transform_sift3d, 'ind_min': 1*1141+0, 'ind_max': 2*1141-1, 'feature_id':'sift3d'}\n",
    "\n",
    "# data_params = {'func': dh.datapoint_numpy, 'lbl_func': dh.get_labels, 'features_dp': '../../data/features/parham/parham3/features_2layer/', \\\n",
    "#                'spike_data': grouped_data, 'group_id': 0, 'transform': transform_parham, 'ind_min': 1*1141+41, 'ind_max': 2*1141-1, 'feature_id':'parham'}"
   ]
  },
  {
   "cell_type": "code",
   "execution_count": 103,
   "id": "56858e3b-7ce2-47e2-8014-4e8a78e09e7f",
   "metadata": {},
   "outputs": [
    {
     "name": "stdout",
     "output_type": "stream",
     "text": [
      "feature_id:  sift3d\n",
      "train_num =  100 , val_num =  50\n",
      "number of features:  384\n",
      "training data contains 50 points (50.00%) of label 1.\n",
      "validation data contains 25 points (50.00%) of label 1.\n",
      "train_smpls =  [2119 1320 1379 1527 1868 1362 1482 1775 2194 1638 1510 1752 1948 1716\n",
      " 1845 1278 1426 2135 1388 1647 1899 1913 1169 2182 1795 1717 1931 1300\n",
      " 2132 2184 2170 1460 1457 2152 1759 1316 2149 1599 1223 2155 1671 2180\n",
      " 1824 1826 1268 1949 1344 1684 2257 2221 1289 2249 1246 2074 2076 1226\n",
      " 1551 1574 1340 1217 1374 1959 2231 2280 1976 1236 1145 1190 1181 1991\n",
      " 1238 1176 2276 2013 1191 1184 1581 1989 1972 2210 1177 1242 2095 2068\n",
      " 1573 2077 1215 1182 2226 1153 1990 1601 1173 1561 2059 1544 2071 1552\n",
      " 2022 2079] \n",
      "val_smpls =  [2175 2208 1303 2150 1432 1394 1947 2207 1882 1728 1465 1846 1771 1967\n",
      " 1468 1321 1969 1727 1535 2137 1809 2195 1489 1609 1369 1141 2094 2089\n",
      " 2052 1225 1262 1582 1624 2240 1975 2045 1550 1559 1540 1549 1858 2069\n",
      " 1977 1201 1585 1545 1852 1165 2054 1229]\n",
      "train_lbls =  [ 1.  1.  1.  1.  1.  1.  1.  1.  1.  1.  1.  1.  1.  1.  1.  1.  1.  1.\n",
      "  1.  1.  1.  1.  1.  1.  1.  1.  1.  1.  1.  1.  1.  1.  1.  1.  1.  1.\n",
      "  1.  1.  1.  1.  1.  1.  1.  1.  1.  1.  1.  1.  1.  1. -1. -1. -1. -1.\n",
      " -1. -1. -1. -1. -1. -1. -1. -1. -1. -1. -1. -1. -1. -1. -1. -1. -1. -1.\n",
      " -1. -1. -1. -1. -1. -1. -1. -1. -1. -1. -1. -1. -1. -1. -1. -1. -1. -1.\n",
      " -1. -1. -1. -1. -1. -1. -1. -1. -1. -1.] \n",
      "val_lbls =  [ 1.  1.  1.  1.  1.  1.  1.  1.  1.  1.  1.  1.  1.  1.  1.  1.  1.  1.\n",
      "  1.  1.  1.  1.  1.  1.  1. -1. -1. -1. -1. -1. -1. -1. -1. -1. -1. -1.\n",
      " -1. -1. -1. -1. -1. -1. -1. -1. -1. -1. -1. -1. -1. -1.]\n",
      "train_des =  [[0.0000e+00 0.0000e+00 0.0000e+00 ... 1.4917e-02 2.5268e-02 2.0445e-02]\n",
      " [0.0000e+00 0.0000e+00 0.0000e+00 ... 1.7730e-03 3.5250e-03 1.3330e-03]\n",
      " [0.0000e+00 0.0000e+00 0.0000e+00 ... 3.5000e-05 4.8000e-05 1.3100e-04]\n",
      " ...\n",
      " [0.0000e+00 0.0000e+00 0.0000e+00 ... 7.5000e-05 4.4000e-05 2.4000e-05]\n",
      " [0.0000e+00 0.0000e+00 0.0000e+00 ... 2.3761e-02 1.2640e-02 2.4714e-02]\n",
      " [0.0000e+00 0.0000e+00 0.0000e+00 ... 2.3415e-02 3.9590e-02 3.1565e-02]] \n",
      "val_des =  [[0.0000e+00 0.0000e+00 0.0000e+00 ... 6.4000e-05 1.4800e-04 2.1100e-04]\n",
      " [0.0000e+00 0.0000e+00 0.0000e+00 ... 9.6697e-02 9.6697e-02 5.2499e-02]\n",
      " [0.0000e+00 0.0000e+00 0.0000e+00 ... 5.0000e-06 1.9000e-05 3.0000e-05]\n",
      " ...\n",
      " [0.0000e+00 0.0000e+00 0.0000e+00 ... 2.6014e-02 4.2962e-02 3.7094e-02]\n",
      " [0.0000e+00 0.0000e+00 0.0000e+00 ... 9.7780e-03 1.5369e-02 2.1704e-02]\n",
      " [0.0000e+00 0.0000e+00 0.0000e+00 ... 7.3790e-03 1.0948e-02 8.0160e-03]]\n"
     ]
    }
   ],
   "source": [
    "train_num = 100\n",
    "val_num = 50\n",
    "\n",
    "train_num, val_num, train_data, val_data = \\\n",
    "dh.random_train_val_balanced(train_num, val_num, data_params, seed=1342)\n",
    "\n",
    "# show statistics\n",
    "print('feature_id: ', data_params['feature_id'])\n",
    "print('train_num = ', train_num, ', val_num = ', val_num)\n",
    "print('number of features: ', train_data['des'].shape[1])\n",
    "print('training data contains {} points ({:.2f}%) of label 1.'\n",
    "      .format(np.sum(train_data['lbls'] == 1), np.sum(train_data['lbls'] == 1)*100/train_num))\n",
    "print('validation data contains {} points ({:.2f}%) of label 1.'\n",
    "      .format(np.sum(val_data['lbls'] == 1), np.sum(val_data['lbls'] == 1)*100/val_num))\n",
    "print('train_smpls = ', train_data['smpls'], '\\nval_smpls = ', val_data['smpls'])\n",
    "print('train_lbls = ', train_data['lbls'], '\\nval_lbls = ', val_data['lbls'])\n",
    "print('train_des = ', train_data['des'], '\\nval_des = ', val_data['des'])"
   ]
  },
  {
   "cell_type": "markdown",
   "id": "03ce221e-c38d-4e72-8c29-15a3b0123792",
   "metadata": {},
   "source": [
    "## Make batches and sequences out of numpy arrays"
   ]
  },
  {
   "cell_type": "code",
   "execution_count": 108,
   "id": "46d1ecf2-38ea-445b-868e-e81177c4843e",
   "metadata": {},
   "outputs": [],
   "source": [
    "batch_size = 50\n",
    "input_size = 12\n",
    "sequence_length = 32\n",
    "hidden_size = 128"
   ]
  },
  {
   "cell_type": "code",
   "execution_count": 105,
   "id": "9d8f632e-8398-470d-8b54-9170e4fbbc1a",
   "metadata": {},
   "outputs": [
    {
     "data": {
      "text/plain": [
       "(100, 384)"
      ]
     },
     "execution_count": 105,
     "metadata": {},
     "output_type": "execute_result"
    }
   ],
   "source": [
    "train_des = train_data['des']\n",
    "train_des.shape"
   ]
  },
  {
   "cell_type": "code",
   "execution_count": 132,
   "id": "2444d860-b563-4f06-bc59-b5e55d7484cf",
   "metadata": {},
   "outputs": [
    {
     "data": {
      "text/plain": [
       "(2, 50, 32, 12)"
      ]
     },
     "execution_count": 132,
     "metadata": {},
     "output_type": "execute_result"
    }
   ],
   "source": [
    "# reshape features\n",
    "train_des = train_des.reshape(-1, batch_size, sequence_length, input_size)\n",
    "train_des.shape"
   ]
  },
  {
   "cell_type": "code",
   "execution_count": 133,
   "id": "8da7b0bd-dc19-4b0c-8635-33ed5841aa54",
   "metadata": {},
   "outputs": [],
   "source": [
    "# check the reshaping logic\n",
    "for i in range(2):\n",
    "    for j in range(50):\n",
    "        for k in range(32):\n",
    "            for s in range(12):\n",
    "                if(train_des[i, j, k, s] != train_data['des'][i*50+j, k*12+s]):\n",
    "                    print('Error!')"
   ]
  },
  {
   "cell_type": "code",
   "execution_count": 134,
   "id": "548113d4-341b-454a-acee-e5a698a2ff73",
   "metadata": {},
   "outputs": [
    {
     "name": "stdout",
     "output_type": "stream",
     "text": [
      "2\n"
     ]
    }
   ],
   "source": [
    "n_total_steps = train_num // batch_size\n",
    "print(n_total_steps)"
   ]
  },
  {
   "cell_type": "code",
   "execution_count": 136,
   "id": "6ea8ff44-1561-4e95-9449-67091a816963",
   "metadata": {},
   "outputs": [
    {
     "data": {
      "text/plain": [
       "(2, 50)"
      ]
     },
     "execution_count": 136,
     "metadata": {},
     "output_type": "execute_result"
    }
   ],
   "source": [
    "# reshape lables\n",
    "train_lbls = train_data['lbls'].reshape(-1, batch_size)\n",
    "train_lbls.shape"
   ]
  },
  {
   "cell_type": "markdown",
   "id": "1f8277ad-03cd-4d4b-8c14-15810464871d",
   "metadata": {},
   "source": [
    "# Make a function"
   ]
  },
  {
   "cell_type": "code",
   "execution_count": 143,
   "id": "6f7c99ee-c6bb-4ebf-a2f6-b90064bf7e06",
   "metadata": {},
   "outputs": [],
   "source": [
    "def get_datapoints2(train_des, train_lbls, step_i):\n",
    "    features = train_des[step_i, :, :, :]\n",
    "    labels = train_lbls[step_i, :]\n",
    "    \n",
    "    return features, labels"
   ]
  },
  {
   "cell_type": "code",
   "execution_count": 144,
   "id": "87ae7767-a301-4525-9d9e-c14813ef7c44",
   "metadata": {},
   "outputs": [
    {
     "name": "stdout",
     "output_type": "stream",
     "text": [
      "(50, 32, 12)\n",
      "(50,)\n",
      "(50, 32, 12)\n",
      "(50,)\n"
     ]
    }
   ],
   "source": [
    "for step_i in range(n_total_steps):\n",
    "    features, labels = get_datapoints2(train_des, train_lbls, step_i)\n",
    "    print(features.shape)\n",
    "    print(labels.shape)"
   ]
  },
  {
   "cell_type": "code",
   "execution_count": null,
   "id": "5d77b7f3-da5e-4dbf-8a28-c0b4d7e5dad6",
   "metadata": {},
   "outputs": [],
   "source": []
  },
  {
   "cell_type": "code",
   "execution_count": null,
   "id": "55ef349a-faf1-4614-97c8-f62007854cd5",
   "metadata": {},
   "outputs": [],
   "source": []
  },
  {
   "cell_type": "code",
   "execution_count": null,
   "id": "4ed4a266-a39a-4fc9-b67b-f6e3bd13a01a",
   "metadata": {},
   "outputs": [],
   "source": []
  },
  {
   "cell_type": "code",
   "execution_count": null,
   "id": "590bc65c-ca5b-4e76-b27b-21305397d9b4",
   "metadata": {},
   "outputs": [],
   "source": []
  },
  {
   "cell_type": "code",
   "execution_count": null,
   "id": "644a3b92-a8e1-4715-a3e5-9bccc0f9a6d4",
   "metadata": {},
   "outputs": [],
   "source": []
  },
  {
   "cell_type": "code",
   "execution_count": null,
   "id": "22c07ecd-5498-4b21-887e-28deac519496",
   "metadata": {},
   "outputs": [],
   "source": []
  },
  {
   "cell_type": "code",
   "execution_count": null,
   "id": "6ec6ffa5-8237-474d-a9bf-95582e0eb31e",
   "metadata": {},
   "outputs": [],
   "source": []
  },
  {
   "cell_type": "code",
   "execution_count": null,
   "id": "d33e1693-89fa-4794-a297-70d242d7747a",
   "metadata": {},
   "outputs": [],
   "source": []
  },
  {
   "cell_type": "code",
   "execution_count": null,
   "id": "7b679002-2ae0-4f5e-8c6f-fb7a048e790f",
   "metadata": {},
   "outputs": [],
   "source": []
  },
  {
   "cell_type": "code",
   "execution_count": null,
   "id": "c5ee8c0b-f174-42d2-83ae-d376b8ac902e",
   "metadata": {},
   "outputs": [],
   "source": []
  }
 ],
 "metadata": {
  "kernelspec": {
   "display_name": "Python 3 (ipykernel)",
   "language": "python",
   "name": "python3"
  },
  "language_info": {
   "codemirror_mode": {
    "name": "ipython",
    "version": 3
   },
   "file_extension": ".py",
   "mimetype": "text/x-python",
   "name": "python",
   "nbconvert_exporter": "python",
   "pygments_lexer": "ipython3",
   "version": "3.9.12"
  }
 },
 "nbformat": 4,
 "nbformat_minor": 5
}
