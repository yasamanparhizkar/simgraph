{
 "cells": [
  {
   "cell_type": "code",
   "execution_count": 1,
   "id": "b3a53fec-ff77-405e-a789-8009292a1951",
   "metadata": {},
   "outputs": [],
   "source": [
    "import torch\n",
    "import torch.nn as nn\n",
    "import torchvision\n",
    "import torchvision.transforms as transforms\n",
    "import numpy as np"
   ]
  },
  {
   "cell_type": "markdown",
   "id": "a23d20be-b151-4b06-9341-1e33f2658890",
   "metadata": {},
   "source": [
    "# Tutorial source:\n",
    "https://www.youtube.com/watch?v=0_PgWWmauHk\n",
    "\n",
    "Load MNIST images from disc instead of using pytorch Dataloader."
   ]
  },
  {
   "cell_type": "code",
   "execution_count": 2,
   "id": "e1db42b0-aa0f-4b01-803b-5ec6137b5b59",
   "metadata": {
    "tags": []
   },
   "outputs": [],
   "source": [
    "# Device configuration\n",
    "device = torch.device('cuda' if torch.cuda.is_available() else 'cpu')\n",
    "\n",
    "# Hyper-parameters \n",
    "# input_size = 784 # 28x28\n",
    "num_classes = 2\n",
    "num_epochs = 2\n",
    "batch_size = 100\n",
    "learning_rate = 0.001\n",
    "\n",
    "input_size = 28\n",
    "sequence_length = 28\n",
    "hidden_size = 128\n",
    "num_layers = 2\n",
    "\n",
    "# Data parameters\n",
    "dpath = '../../../local_data/fe_exp/mnist-org/'"
   ]
  },
  {
   "cell_type": "code",
   "execution_count": 3,
   "id": "8c299227-ff6c-4a41-a1b5-08f47150cf74",
   "metadata": {},
   "outputs": [],
   "source": [
    "def get_datapoint(batch_size, sequence_length, input_size, start_ind, dpath):\n",
    "    images = np.zeros((batch_size, sequence_length, input_size))\n",
    "    labels = np.zeros(batch_size)\n",
    "    \n",
    "    # load labels\n",
    "    lbls = np.loadtxt(dpath+'lbls.txt')\n",
    "    \n",
    "    for ind in range(batch_size):\n",
    "        # load an image\n",
    "        fv = np.loadtxt(dpath+'fv_'+str(start_ind + ind)+'.txt')\n",
    "        fv = fv.reshape(sequence_length, input_size)\n",
    "\n",
    "        # add it to the batch\n",
    "        images[ind, :, :] = fv\n",
    "\n",
    "    # batch equivalent labels \n",
    "    labels = lbls[start_ind:start_ind+batch_size]\n",
    "    \n",
    "    # convert numpy arrays to torch tensors\n",
    "    images = torch.from_numpy(images).to(torch.float32)\n",
    "    labels = torch.from_numpy(labels).to(torch.int64)\n",
    "    \n",
    "    return images, labels"
   ]
  },
  {
   "cell_type": "code",
   "execution_count": 4,
   "id": "44481a9c-672f-4096-96d2-a4192d4a6a7f",
   "metadata": {
    "tags": []
   },
   "outputs": [],
   "source": [
    "# Fully connected neural network with one hidden layer\n",
    "class RNN(nn.Module):\n",
    "    def __init__(self, input_size, hidden_size, num_layers, num_classes):\n",
    "        super(RNN, self).__init__()\n",
    "        self.num_layers = num_layers\n",
    "        self.hidden_size = hidden_size\n",
    "        self.rnn = nn.RNN(input_size, hidden_size, num_layers, batch_first=True)\n",
    "        # -> x needs to be: (batch_size, seq, input_size)\n",
    "        \n",
    "        # or:\n",
    "        #self.gru = nn.GRU(input_size, hidden_size, num_layers, batch_first=True)\n",
    "        #self.lstm = nn.LSTM(input_size, hidden_size, num_layers, batch_first=True)\n",
    "        self.fc = nn.Linear(hidden_size, num_classes)\n",
    "        \n",
    "    def forward(self, x):\n",
    "        # Set initial hidden states (and cell states for LSTM)\n",
    "        h0 = torch.zeros(self.num_layers, x.size(0), self.hidden_size).to(device) \n",
    "        #c0 = torch.zeros(self.num_layers, x.size(0), self.hidden_size).to(device) \n",
    "        \n",
    "        # x: (n, 28, 28), h0: (2, n, 128)\n",
    "        \n",
    "        # Forward propagate RNN\n",
    "        out, _ = self.rnn(x, h0)  \n",
    "        # or:\n",
    "        #out, _ = self.lstm(x, (h0,c0))  \n",
    "        \n",
    "        # out: tensor of shape (batch_size, seq_length, hidden_size)\n",
    "        # out: (n, 28, 128)\n",
    "        \n",
    "        # Decode the hidden state of the last time step\n",
    "        out = out[:, -1, :]\n",
    "        # out: (n, 128)\n",
    "         \n",
    "        out = self.fc(out)\n",
    "        # out: (n, 10)\n",
    "        return out\n"
   ]
  },
  {
   "cell_type": "code",
   "execution_count": 5,
   "id": "70915658-9121-4f40-9ab0-5add38989916",
   "metadata": {
    "tags": []
   },
   "outputs": [],
   "source": [
    "model = RNN(input_size, hidden_size, num_layers, num_classes).to(device)\n",
    "\n",
    "# Loss and optimizer\n",
    "criterion = nn.CrossEntropyLoss()\n",
    "optimizer = torch.optim.Adam(model.parameters(), lr=learning_rate)  "
   ]
  },
  {
   "cell_type": "code",
   "execution_count": 6,
   "id": "8773e0d3-9a4a-46ca-8b6b-67ef634a1718",
   "metadata": {
    "scrolled": true,
    "tags": []
   },
   "outputs": [
    {
     "name": "stdout",
     "output_type": "stream",
     "text": [
      "Epoch [1/2], Step [10/100], Loss: 0.1397\n",
      "Epoch [1/2], Step [20/100], Loss: 0.0038\n",
      "Epoch [1/2], Step [30/100], Loss: 0.0036\n",
      "Epoch [1/2], Step [40/100], Loss: 0.0046\n",
      "Epoch [1/2], Step [50/100], Loss: 0.0413\n",
      "Epoch [1/2], Step [60/100], Loss: 0.0670\n",
      "Epoch [1/2], Step [70/100], Loss: 0.0311\n",
      "Epoch [1/2], Step [80/100], Loss: 0.0832\n",
      "Epoch [1/2], Step [90/100], Loss: 0.0051\n",
      "Epoch [1/2], Step [100/100], Loss: 0.0038\n",
      "Epoch [2/2], Step [10/100], Loss: 0.0039\n",
      "Epoch [2/2], Step [20/100], Loss: 0.0019\n",
      "Epoch [2/2], Step [30/100], Loss: 0.0051\n",
      "Epoch [2/2], Step [40/100], Loss: 0.0063\n",
      "Epoch [2/2], Step [50/100], Loss: 0.0014\n",
      "Epoch [2/2], Step [60/100], Loss: 0.0378\n",
      "Epoch [2/2], Step [70/100], Loss: 0.0040\n",
      "Epoch [2/2], Step [80/100], Loss: 0.0068\n",
      "Epoch [2/2], Step [90/100], Loss: 0.0012\n",
      "Epoch [2/2], Step [100/100], Loss: 0.0009\n"
     ]
    }
   ],
   "source": [
    "# Train the model\n",
    "n_total_steps = 100 # because there are 14780 images in total in the set\n",
    "for epoch in range(num_epochs):\n",
    "    for i in range(n_total_steps):  \n",
    "        # origin shape: [N, 1, 28, 28]\n",
    "        # resized: [N, 28, 28]\n",
    "        images, labels = get_datapoint(batch_size, sequence_length, input_size, i*batch_size, dpath)\n",
    "        \n",
    "        images = images.to(device)\n",
    "        labels = labels.to(device)\n",
    "        \n",
    "        # Forward pass\n",
    "        outputs = model(images)\n",
    "        loss = criterion(outputs, labels)\n",
    "        \n",
    "        # Backward and optimize\n",
    "        optimizer.zero_grad()\n",
    "        loss.backward()\n",
    "        optimizer.step()\n",
    "        \n",
    "        if (i+1) % 10 == 0:\n",
    "            print (f'Epoch [{epoch+1}/{num_epochs}], Step [{i+1}/{n_total_steps}], Loss: {loss.item():.4f}')"
   ]
  },
  {
   "cell_type": "code",
   "execution_count": 7,
   "id": "5352165c-52da-4f2a-a7c5-c79ca2f625fd",
   "metadata": {
    "tags": []
   },
   "outputs": [
    {
     "name": "stdout",
     "output_type": "stream",
     "text": [
      "Accuracy of the network on the 10000 test images: 99.92307692307692 %\n"
     ]
    }
   ],
   "source": [
    "# Test the model\n",
    "# In test phase, we don't need to compute gradients (for memory efficiency)\n",
    "with torch.no_grad():\n",
    "    n_correct = 0\n",
    "    n_samples = 0\n",
    "    for i in range(101, 140): # take care not to repeat training data\n",
    "        images, labels = get_datapoint(batch_size, sequence_length, input_size, i*batch_size, dpath)\n",
    "        images = images.to(device)\n",
    "        labels = labels.to(device)\n",
    "        \n",
    "        outputs = model(images)\n",
    "        # max returns (value ,index)\n",
    "        _, predicted = torch.max(outputs.data, 1)\n",
    "        n_samples += labels.size(0)\n",
    "        n_correct += (predicted == labels).sum().item()\n",
    "\n",
    "    acc = 100.0 * n_correct / n_samples\n",
    "    print(f'Accuracy of the network on the 10000 test images: {acc} %')"
   ]
  },
  {
   "cell_type": "code",
   "execution_count": null,
   "id": "a2a2e5fb-3637-4cfc-9410-11bc0012a76f",
   "metadata": {},
   "outputs": [],
   "source": []
  },
  {
   "cell_type": "code",
   "execution_count": null,
   "id": "331725e5-a2d8-4241-8ea9-cb54e565c288",
   "metadata": {},
   "outputs": [],
   "source": []
  },
  {
   "cell_type": "code",
   "execution_count": null,
   "id": "ffa4fa9b-4974-4ed8-8872-45d16b449a63",
   "metadata": {},
   "outputs": [],
   "source": []
  },
  {
   "cell_type": "code",
   "execution_count": null,
   "id": "b6aeee77-6419-4256-826d-33491f7ab258",
   "metadata": {},
   "outputs": [],
   "source": []
  },
  {
   "cell_type": "code",
   "execution_count": null,
   "id": "fd18d24e-7547-4390-bfc7-feb5aede5dd7",
   "metadata": {},
   "outputs": [],
   "source": []
  },
  {
   "cell_type": "code",
   "execution_count": null,
   "id": "78549839-2992-4920-ade3-1fed0bff596a",
   "metadata": {},
   "outputs": [],
   "source": []
  },
  {
   "cell_type": "code",
   "execution_count": null,
   "id": "3443e4d0-ba28-4449-a341-5d6f555e0757",
   "metadata": {},
   "outputs": [],
   "source": []
  },
  {
   "cell_type": "code",
   "execution_count": null,
   "id": "ba1f5cd8-731e-49a8-a067-c9c5de5c4b5d",
   "metadata": {},
   "outputs": [],
   "source": []
  },
  {
   "cell_type": "code",
   "execution_count": null,
   "id": "c05af839-69a0-4615-9812-158322af8861",
   "metadata": {},
   "outputs": [],
   "source": []
  },
  {
   "cell_type": "code",
   "execution_count": null,
   "id": "f5368e86-2a9c-429e-b2ac-e8cfd6b97b7c",
   "metadata": {},
   "outputs": [],
   "source": []
  },
  {
   "cell_type": "code",
   "execution_count": null,
   "id": "bc44098b-ef54-4241-857a-91e67c1e0b5b",
   "metadata": {},
   "outputs": [],
   "source": []
  },
  {
   "cell_type": "code",
   "execution_count": null,
   "id": "c68dc790-1f43-432e-9c47-06ff19c9d2f2",
   "metadata": {},
   "outputs": [],
   "source": []
  },
  {
   "cell_type": "code",
   "execution_count": null,
   "id": "9345ef96-ab2f-49d5-b433-57556a6ebde0",
   "metadata": {},
   "outputs": [],
   "source": []
  },
  {
   "cell_type": "code",
   "execution_count": null,
   "id": "570789a0-4902-4dd7-a70e-3f821f77dd99",
   "metadata": {},
   "outputs": [],
   "source": []
  },
  {
   "cell_type": "code",
   "execution_count": null,
   "id": "74f9c2e0-689d-41d4-9141-0daacb55ce5c",
   "metadata": {},
   "outputs": [],
   "source": []
  },
  {
   "cell_type": "code",
   "execution_count": null,
   "id": "a63f8715-64c5-4048-85ba-a9c851c58cec",
   "metadata": {},
   "outputs": [],
   "source": []
  },
  {
   "cell_type": "code",
   "execution_count": null,
   "id": "fef98e7b-3ae3-4cc9-8c2d-faf42950714a",
   "metadata": {},
   "outputs": [],
   "source": []
  },
  {
   "cell_type": "code",
   "execution_count": null,
   "id": "853d121c-4a81-418c-9efb-227d0a124056",
   "metadata": {},
   "outputs": [],
   "source": []
  },
  {
   "cell_type": "code",
   "execution_count": null,
   "id": "bd4d1db4-b16b-458e-9f70-38adf8b92955",
   "metadata": {},
   "outputs": [],
   "source": []
  },
  {
   "cell_type": "code",
   "execution_count": null,
   "id": "77602408-8829-44ad-8e7a-4c1383e9b6bc",
   "metadata": {},
   "outputs": [],
   "source": []
  },
  {
   "cell_type": "code",
   "execution_count": null,
   "id": "aeade75c-bbd9-49dc-8964-59bfab008528",
   "metadata": {},
   "outputs": [],
   "source": []
  },
  {
   "cell_type": "code",
   "execution_count": null,
   "id": "afe032ca-4b82-44a4-8b91-35b44aa7550b",
   "metadata": {},
   "outputs": [],
   "source": []
  },
  {
   "cell_type": "code",
   "execution_count": null,
   "id": "d44287c0-cd70-45bf-b6ec-f07e425884f2",
   "metadata": {},
   "outputs": [],
   "source": []
  },
  {
   "cell_type": "code",
   "execution_count": null,
   "id": "f248c419-f3ae-4163-84c0-f82ce52f6991",
   "metadata": {},
   "outputs": [],
   "source": []
  }
 ],
 "metadata": {
  "kernelspec": {
   "display_name": "Python 3 (ipykernel)",
   "language": "python",
   "name": "python3"
  },
  "language_info": {
   "codemirror_mode": {
    "name": "ipython",
    "version": 3
   },
   "file_extension": ".py",
   "mimetype": "text/x-python",
   "name": "python",
   "nbconvert_exporter": "python",
   "pygments_lexer": "ipython3",
   "version": "3.9.12"
  }
 },
 "nbformat": 4,
 "nbformat_minor": 5
}
