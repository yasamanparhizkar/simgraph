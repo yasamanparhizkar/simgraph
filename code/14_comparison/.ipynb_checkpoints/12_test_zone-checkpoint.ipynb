{
 "cells": [
  {
   "cell_type": "code",
   "execution_count": 1,
   "id": "a2178d6d-0201-4322-9233-4c5ea94af40a",
   "metadata": {
    "tags": []
   },
   "outputs": [],
   "source": [
    "import numpy as np\n",
    "import matplotlib.pyplot as plt\n",
    "import time\n",
    "\n",
    "# add the path to my packages to system paths so they can be imported\n",
    "import sys\n",
    "sys.path.append('/home/yasamanparhizkar/Documents/yorku/01_thesis/simgraph/code/my_packages')\n",
    "# sys.path.append('F:\\MAScThesis\\code\\my_packages')\n",
    "# sys.path.append('/home/yasamanparhizkar/Documents/thesis/code/my_packages')\n",
    "\n",
    "import simgraph.my_simgraph as sg\n",
    "import dataprocess.data_handler_03 as dh"
   ]
  },
  {
   "cell_type": "markdown",
   "id": "cdf22b97-85ec-4f67-affe-a26f4bf09c11",
   "metadata": {},
   "source": [
    "# Unit Testing the simgraph main script"
   ]
  },
  {
   "cell_type": "markdown",
   "id": "5dfb400d-913b-45eb-9f39-0b955e55ea66",
   "metadata": {},
   "source": [
    "## Load data"
   ]
  },
  {
   "cell_type": "code",
   "execution_count": 2,
   "id": "9500ae41-dc34-42c9-843b-5c3d8c69a0a4",
   "metadata": {
    "tags": []
   },
   "outputs": [
    {
     "data": {
      "text/plain": [
       "(297, 1141, 1)"
      ]
     },
     "execution_count": 2,
     "metadata": {},
     "output_type": "execute_result"
    }
   ],
   "source": [
    "# load all spike data from file\n",
    "spikes_dp = '../../../local_data/original_files/'\n",
    "grouped_data = np.load(spikes_dp+'summed_spikes.npy') # you can load alternative files from the same directory\n",
    "\n",
    "I_order_10 = [54, 35, 10, 60, 74, 9, 61, 56, 91, 104]\n",
    "grouped_data.shape"
   ]
  },
  {
   "cell_type": "code",
   "execution_count": 3,
   "id": "3634ab35-9f94-45b8-9cd1-0dca87abfbcf",
   "metadata": {
    "tags": []
   },
   "outputs": [],
   "source": [
    "def get_mnist_labels(data_params):\n",
    "    return np.loadtxt(data_params['features_dp']+'lbls.csv')\n",
    "\n",
    "def transform_mnistsift(fv):\n",
    "    return fv[::4]\n",
    "\n",
    "def transform_slowfast(fv):\n",
    "    \"\"\"\n",
    "    Transform to be applied on feature vectors.\n",
    "    \n",
    "    Input: fv\n",
    "    fv - 1xDf torch tensor representing a feature vector\n",
    "    \n",
    "    Output: fvv\n",
    "    fvv - 1xDf' torch tensor representing the transformed feature vector\n",
    "    \"\"\"\n",
    "    \n",
    "    # for faster run and less memory usage\n",
    "    fvv = fv[::200]\n",
    "    \n",
    "    # for numerical stability during GD\n",
    "    # fvv = fvv * 10\n",
    "    \n",
    "    return fvv\n",
    "\n",
    "def transform_sift3d(fv):\n",
    "    return fv[::10]\n",
    "\n",
    "def transform_soenet(fv):\n",
    "    return fv[::5]/100\n",
    "\n",
    "# data retrieval params\n",
    "# data_params = {'func': dh.datapoint_sift, 'lbl_func': get_mnist_labels, 'features_dp': '../../data/fe_exp/mnist-sift/', \\\n",
    "#                'spike_data': None, 'group_id': None, 'transform': transform_mnistsift, 'ind_min': 0, 'ind_max': 13203, 'feature_id':'mnist-sift'}\n",
    "\n",
    "# data_params = {'func': dh.datapoint_numpy, 'lbl_func': dh.get_labels, 'features_dp': '../../data/features/slowfast/slowfast_4732_numpy/', \\\n",
    "#                'spike_data': grouped_data, 'group_id': 0, 'transform': transform_slowfast, 'ind_min': 1*1141+0, 'ind_max': 2*1141-1, 'feature_id':'slowfast'}\n",
    "\n",
    "# data_params = {'func': dh.datapoint_numpy, 'lbl_func': dh.get_labels, 'features_dp': '../../data/features/sift3d/fvs_s1_with_kp/desc/', \\\n",
    "#                'spike_data': grouped_data, 'group_id': 0, 'transform': transform_sift3d, 'ind_min': 1*1141+0, 'ind_max': 2*1141-1, 'feature_id':'sift3d'}\n",
    "\n",
    "data_params = {'func': dh.datapoint_numpy, 'lbl_func': dh.get_labels, 'features_dp': '../../data/features/soenet/soenet3/features_2layer/', \\\n",
    "               'spike_data': grouped_data, 'group_id': 0, 'transform': transform_soenet, 'ind_min': 1*1141+41, 'ind_max': 2*1141-1, 'feature_id':'soenet'}"
   ]
  },
  {
   "cell_type": "code",
   "execution_count": 4,
   "id": "9c92f0f2-0359-4bff-bec2-a24a996ae185",
   "metadata": {
    "tags": []
   },
   "outputs": [
    {
     "name": "stdout",
     "output_type": "stream",
     "text": [
      "feature_id:  soenet\n",
      "train_num =  200 , val_num =  50\n",
      "number of features:  80\n",
      "train_smpls =  [1920 2110 1305 1405 1280 1982 2134 1589 1260 1771 1864 1514 2005 2185\n",
      " 1616 1448 1377 1558 1572 1799 1526 1735 1293 2152 2114 1375 2174 1238\n",
      " 1733 1686 1617 1790 1661 1808 1253 1426 1653 1474 1318 1844 1706 1261\n",
      " 1854 1968 1951 1604 1925 1763 1516 1483 1189 1254 1504 2088 2139 1840\n",
      " 2233 1730 2155 2207 2078 1329 2256 1609 1880 1722 1326 1343 2130 2231\n",
      " 1981 1928 1630 2138 1445 1527 1824 1896 1378 1933 2020 2232 1608 1186\n",
      " 2268 1196 1482 1410 1212 2026 2204 2183 1973 1340 1537 2104 2278 1675\n",
      " 1336 1227 1773 2240 2179 2048 1594 1804 1905 1533 2094 1412 1825 2045\n",
      " 2202 1201 2018 1749 1809 1430 2216 2196 2028 1654 1891 1566 2145 1199\n",
      " 1337 1286 2159 1257 1396 2215 1550 2189 1995 1620 1945 1542 1932 1498\n",
      " 1736 1229 1231 2252 1811 1955 1539 1681 2052 1541 1469 1207 1211 1881\n",
      " 1413 2146 1789 1490 1910 1931 1419 2058 2103 2000 1940 1720 1782 1719\n",
      " 2210 1584 2273 2219 2097 2129 2211 2276 1300 1249 1466 1634 1741 1846\n",
      " 1198 1246 1184 2178 1371 1232 2057 2267 1598 1563 1270 1225 1813 1893\n",
      " 1468 1423 1724 1767] \n",
      "val_smpls =  [1416 1754 2116 1948 2200 2151 1464 2199 1472 1332 1738 2205 1429 2234\n",
      " 1872 1217 2062 1870 1575 1668 1714 1806 2245 1646 1862 2218 1197 2010\n",
      " 1856 1938 1712 2019 2066 2021 2043 2182 1841 2123 1687 1557 1665 1267\n",
      " 1652 1927 2070 2083 1965 1528 1947 1958]\n",
      "train_lbls =  [ 2.  3. 10.  4.  0.  0. 19.  0.  0.  3.  1.  4.  0. 12.  0.  2.  2.  0.\n",
      "  0.  1.  3.  5.  0.  6.  1.  2. 10.  0.  2.  3.  0.  2.  3.  7.  2.  6.\n",
      " 11.  2. 10.  0.  6.  0.  0.  2.  2.  1.  1.  6. 10.  6.  0.  2.  4.  0.\n",
      " 11.  0.  1.  2.  7.  1.  0.  0.  0.  1.  9.  5.  1.  6. 18.  0.  0.  0.\n",
      "  0. 13.  1.  9.  6.  3.  2.  1.  0.  0.  1.  0.  0.  0.  8.  6.  1.  1.\n",
      "  2. 11.  0.  0.  1.  2.  0.  1.  2.  0.  3.  0. 11.  0.  0.  4.  8.  7.\n",
      "  0.  4.  1.  0.  4.  0.  1. 13.  7.  3.  4.  1.  1. 11.  2.  0.  5.  0.\n",
      "  2.  1.  5.  0.  7.  1.  0.  7.  2.  0.  8.  0.  4.  4.  8.  0.  0.  1.\n",
      "  8.  2.  0.  5.  0.  0.  6.  0.  1.  4.  9.  9.  5.  1. 13.  4.  3.  0.\n",
      "  2.  1.  6.  7.  3. 16.  0.  1.  0.  1.  1. 14.  0.  0.  7.  1. 10.  0.\n",
      "  8.  1.  0.  0.  0.  5.  1.  0.  0.  1.  0.  0.  0.  0.  3.  1.  6.  4.\n",
      "  6.  4.] \n",
      "val_lbls =  [ 3.  8.  2.  6.  3.  5.  3.  0.  8.  0.  6.  3.  3.  0.  8.  0.  0. 13.\n",
      "  1.  6. 12. 10.  0.  1.  0.  2.  0.  1.  0.  7. 12.  2.  0.  0.  1.  8.\n",
      "  2.  5.  5.  1.  4.  0.  7.  2.  0.  0.  1.  7.  9.  1.]\n",
      "train_des =  [[31.52906738  5.63949951 42.90318359 ...  6.99279907  7.13464417\n",
      "   6.62164001]\n",
      " [23.42525391  6.12152466 34.78817139 ...  7.30801025  7.72018311\n",
      "   7.05770874]\n",
      " [21.82839844  6.08441223 32.35935059 ...  7.14930298  4.15619568\n",
      "   6.95867371]\n",
      " ...\n",
      " [30.13802246  6.06076355 41.52529297 ...  7.03810181  6.25026062\n",
      "   6.75846069]\n",
      " [20.83921387  6.40090088 31.77831543 ...  7.47441467  4.08926117\n",
      "   7.11027527]\n",
      " [30.66313965  5.58381104 41.86787109 ...  6.79559937  6.84625916\n",
      "   6.64686401]] \n",
      "val_des =  [[30.8973584   6.09476685 41.83045898 ...  7.07828857  6.95625793\n",
      "   6.8225647 ]\n",
      " [22.68413086  5.70408875 33.24580078 ...  6.94704102  5.30518311\n",
      "   6.75596741]\n",
      " [24.56890625  6.07985474 35.78689453 ...  7.28261108  8.43286316\n",
      "   7.04926392]\n",
      " ...\n",
      " [31.51472656  5.85555786 42.72231445 ...  6.54193787  5.44011597\n",
      "   6.29100769]\n",
      " [26.63114014  5.89436035 37.81453369 ...  7.21772034  4.15037476\n",
      "   6.85582031]\n",
      " [24.76629883  6.17290649 36.2139917  ...  7.36449402  3.94015564\n",
      "   6.98135193]]\n"
     ]
    }
   ],
   "source": [
    "train_num = 200\n",
    "val_num = 50\n",
    "\n",
    "train_num, val_num, train_data, val_data = \\\n",
    "dh.random_train_val(train_num, val_num, data_params, seed=0)\n",
    "\n",
    "# optional normalization\n",
    "# train_data['des'] = dh.normalize(train_data['des'])\n",
    "# val_data['des'] = dh.normalize(val_data['des'])\n",
    "\n",
    "# show statistics\n",
    "print('feature_id: ', data_params['feature_id'])\n",
    "print('train_num = ', train_num, ', val_num = ', val_num)\n",
    "print('number of features: ', train_data['des'].shape[1])\n",
    "\n",
    "print('train_smpls = ', train_data['smpls'], '\\nval_smpls = ', val_data['smpls'])\n",
    "print('train_lbls = ', train_data['lbls'], '\\nval_lbls = ', val_data['lbls'])\n",
    "print('train_des = ', train_data['des'], '\\nval_des = ', val_data['des'])"
   ]
  },
  {
   "cell_type": "markdown",
   "id": "60a4645a-e2c0-44a1-baf6-95622b4258b8",
   "metadata": {},
   "source": [
    "## Set parameters"
   ]
  },
  {
   "cell_type": "code",
   "execution_count": 5,
   "id": "544bf72d-b412-48ea-ba4d-7bf08178487a",
   "metadata": {
    "tags": []
   },
   "outputs": [],
   "source": [
    "# visualize the learned metric matrix\n",
    "def visualize_M(M, fig_params):\n",
    "    # unpack params\n",
    "    rmark_th = fig_params['rmark_th']\n",
    "    xloc = fig_params['xloc']\n",
    "    yloc = fig_params['yloc']\n",
    "\n",
    "    sg.display_matrix(M, None)\n",
    "    # mark prominent elements          \n",
    "    lim = (rmark_th/100) * np.max(M) # marker threshold                \n",
    "    plt.plot(xloc[M > lim],yloc[M > lim], marker='o', markersize=3, color='r', linestyle='')\n",
    "    plt.title('M - marked above {}%'.format(rmark_th))"
   ]
  },
  {
   "cell_type": "code",
   "execution_count": 6,
   "id": "de12ba3e-18b3-47b5-8fb0-9734cd9818cb",
   "metadata": {
    "tags": []
   },
   "outputs": [],
   "source": [
    "# graph construction parameters (common for all three methods)\n",
    "sg_params = {'Dt': None, 'Dv': None, 'Dvt':20, \\\n",
    "             'cnstr_method_tt': 'time-glr', 'cnstr_method_vv': 'time-glr', 'cnstr_method_vt': 'time',\\\n",
    "             'train_t': None, 'val_t': None, \\\n",
    "             'edges_tt':None, 'edges_vv':None, 'edges_vt':None, }\n",
    "\n",
    "# gradient descent parameters (only used for factobj1)\n",
    "gd_opt_params = { 'epsilon0':1, 'epsilon_decay':0.5, 'epsilon_jump': 1.7, \\\n",
    "                'num_its':100, 'check_freq':10, 'print_checks':True, 'Theta0':None, \\\n",
    "                'force_all_its': True, 'threshold': -1}\n",
    "\n",
    "# objective parameters (for both lmnn and obj1)\n",
    "sg_params['mu'] = 1 #glr requires this objective parameter to be part of the sg_params dict\n",
    "\n",
    "# random parameter for edge selection and B initialization\n",
    "seed = 0"
   ]
  },
  {
   "cell_type": "code",
   "execution_count": 7,
   "id": "d7520a2e-1282-4c9e-9ba2-c2a41dae47a1",
   "metadata": {
    "tags": []
   },
   "outputs": [],
   "source": [
    "# parameters to visualize the optimized M\n",
    "f_sz = train_data['des'].shape[1] # must match data_params\n",
    "xloc = np.broadcast_to(np.arange(f_sz), (f_sz, f_sz))\n",
    "yloc = xloc.T\n",
    "fig_params = {'rmark_th': 50, 'f_sz': f_sz, 'xloc': xloc, 'yloc': yloc}"
   ]
  },
  {
   "cell_type": "code",
   "execution_count": 8,
   "id": "8b096c80-a693-4dee-b56d-d29ae2433eed",
   "metadata": {
    "tags": []
   },
   "outputs": [
    {
     "data": {
      "text/plain": [
       "16692"
      ]
     },
     "execution_count": 8,
     "metadata": {},
     "output_type": "execute_result"
    }
   ],
   "source": [
    "# update sg_params\n",
    "sg_params['train_t'] = train_data['smpls']\n",
    "sg_params['val_t'] = val_data['smpls']\n",
    "\n",
    "# set edges\n",
    "sg_params['edges_tt'] = sg.get_edges_tt(train_data['lbls'], sg_params['Dt'], sg_params['cnstr_method_tt'], sg_params['train_t'], seed)\n",
    "len(sg_params['edges_tt'])"
   ]
  },
  {
   "cell_type": "markdown",
   "id": "e19e7ce8-dc64-48b0-8b53-7cba899c4c14",
   "metadata": {},
   "source": [
    "## New edge selection strategy"
   ]
  },
  {
   "cell_type": "code",
   "execution_count": 39,
   "id": "2ce780da-fdaa-4515-92a1-248707f773f6",
   "metadata": {
    "tags": []
   },
   "outputs": [
    {
     "data": {
      "text/plain": [
       "<module 'simgraph.my_simgraph' from '/home/yasamanparhizkar/Documents/yorku/01_thesis/simgraph/code/my_packages/simgraph/my_simgraph.py'>"
      ]
     },
     "execution_count": 39,
     "metadata": {},
     "output_type": "execute_result"
    }
   ],
   "source": [
    "import importlib\n",
    "importlib.reload(sg)"
   ]
  },
  {
   "cell_type": "code",
   "execution_count": 40,
   "id": "4d27ade3-7c71-4ea9-9bbe-892e24c6f8a2",
   "metadata": {
    "tags": []
   },
   "outputs": [],
   "source": [
    "def get_edges_vt_time1(train_lbls, num_val, Dvt, train_t, val_t):\n",
    "    \"\"\"\n",
    "    Refer to documentation for 'get_edges_vt'\n",
    "    \"\"\"\n",
    "    edges_vt = []\n",
    "    for i in range(num_val):\n",
    "        train_inds = np.arange(train_lbls.shape[0])\n",
    "        diff = train_t - val_t[i]\n",
    "        \n",
    "        num_neg = min(Dvt//2, len(diff[diff < 0]))\n",
    "        num_pos = min(Dvt - num_neg, len(diff[diff >= 0]))\n",
    "        \n",
    "        sorted_train_nodes = sorted(list(zip(train_inds[diff < 0], diff[diff < 0])), key=lambda x: x[1], reverse=True)\n",
    "        temp = sorted_train_nodes[:num_neg]\n",
    "        sorted_train_nodes = sorted(list(zip(train_inds[diff >= 0], diff[diff >= 0])), key=lambda x: x[1], reverse=False)\n",
    "        temp += sorted_train_nodes[:num_pos]\n",
    "        \n",
    "        for (j, t) in temp:\n",
    "            edges_vt.append((i, j))\n",
    "        \n",
    "        \n",
    "    return edges_vt"
   ]
  },
  {
   "cell_type": "code",
   "execution_count": 41,
   "id": "1e4753cb-89c8-45f5-9ada-458636571b78",
   "metadata": {
    "tags": []
   },
   "outputs": [],
   "source": [
    "def get_edges_vt_time(train_lbls, num_val, Dvt, train_t, val_t):\n",
    "    \"\"\"\n",
    "    Refer to documentation for 'get_edges_vt'\n",
    "    \"\"\"\n",
    "    edges_vt = []\n",
    "    for i in range(num_val):\n",
    "        train_inds = np.arange(train_lbls.shape[0])\n",
    "        diff = train_t - val_t[i]\n",
    "        \n",
    "        sorted_train_nodes = sorted(list(zip(train_inds, np.abs(diff))), key=lambda x:x[1])\n",
    "        temp = sorted_train_nodes[:Dvt]\n",
    "        \n",
    "        for (j, t) in temp:\n",
    "            edges_vt.append((i, j))\n",
    "        \n",
    "        \n",
    "    return edges_vt"
   ]
  },
  {
   "cell_type": "code",
   "execution_count": 42,
   "id": "d4b0f116-63eb-4e13-a9ae-df1ab4f02371",
   "metadata": {
    "tags": []
   },
   "outputs": [],
   "source": [
    "# test correctness with a toy example\n",
    "edges_vt = get_edges_vt_time(train_data['lbls'], val_num, sg_params['Dvt'], sg_params['train_t'], sg_params['val_t'])"
   ]
  },
  {
   "cell_type": "code",
   "execution_count": 43,
   "id": "e0ed7a22-61af-449e-849e-6038ceacebf5",
   "metadata": {
    "tags": []
   },
   "outputs": [],
   "source": [
    "# test the function in script\n",
    "edges_vt_inscr = sg.get_edges_vt(val_num, train_data['lbls'], sg_params, seed)"
   ]
  },
  {
   "cell_type": "code",
   "execution_count": 44,
   "id": "ef34d866-2486-4a56-9452-75ac75650213",
   "metadata": {},
   "outputs": [
    {
     "data": {
      "text/plain": [
       "True"
      ]
     },
     "execution_count": 44,
     "metadata": {},
     "output_type": "execute_result"
    }
   ],
   "source": [
    "edges_vt == edges_vt_inscr"
   ]
  },
  {
   "cell_type": "markdown",
   "id": "bce6b89b-583c-4261-b0ac-fcda998b4792",
   "metadata": {},
   "source": [
    "### Toy example test"
   ]
  },
  {
   "cell_type": "code",
   "execution_count": 50,
   "id": "5a2b5625-f76c-41ab-8514-9c9b599f1fb8",
   "metadata": {},
   "outputs": [
    {
     "data": {
      "text/plain": [
       "[(0, 6),\n",
       " (0, 4),\n",
       " (0, 2),\n",
       " (0, 5),\n",
       " (1, 5),\n",
       " (1, 6),\n",
       " (1, 4),\n",
       " (1, 2),\n",
       " (2, 0),\n",
       " (2, 1),\n",
       " (2, 2),\n",
       " (2, 4)]"
      ]
     },
     "execution_count": 50,
     "metadata": {},
     "output_type": "execute_result"
    }
   ],
   "source": [
    "# create toy example\n",
    "train_num = 7\n",
    "train_lbls = np.random.rand(train_num)\n",
    "val_num = 3\n",
    "Dvt = 4\n",
    "train_t = np.array([1,5,7,21,8,13,11])\n",
    "val_t = np.array([10,13,2])\n",
    "edges_vt = get_edges_vt_time(train_lbls, val_num, Dvt, train_t, val_t)\n",
    "\n",
    "edges_vt"
   ]
  },
  {
   "cell_type": "code",
   "execution_count": null,
   "id": "c761d366-adb8-4df7-a52c-e2fe3bb59c9b",
   "metadata": {},
   "outputs": [],
   "source": []
  },
  {
   "cell_type": "code",
   "execution_count": null,
   "id": "9d2b1a3b-e950-48a5-b776-5ccb34aa3089",
   "metadata": {},
   "outputs": [],
   "source": []
  },
  {
   "cell_type": "code",
   "execution_count": null,
   "id": "92fddeaf-a554-440b-ad11-7361c924d46c",
   "metadata": {},
   "outputs": [],
   "source": []
  },
  {
   "cell_type": "code",
   "execution_count": null,
   "id": "1e51888d-888a-4bac-8354-11d2a8eb3264",
   "metadata": {
    "scrolled": true,
    "tags": []
   },
   "outputs": [],
   "source": []
  },
  {
   "cell_type": "code",
   "execution_count": null,
   "id": "ea7ccd45-9576-4c06-9ab5-2f11dffe1880",
   "metadata": {},
   "outputs": [],
   "source": []
  },
  {
   "cell_type": "code",
   "execution_count": null,
   "id": "cd5ce107-6819-4829-ba41-e2c8d828bb38",
   "metadata": {},
   "outputs": [],
   "source": []
  },
  {
   "cell_type": "code",
   "execution_count": null,
   "id": "64690d47-7642-4b11-86ca-17d13aad6b6e",
   "metadata": {},
   "outputs": [],
   "source": []
  },
  {
   "cell_type": "code",
   "execution_count": null,
   "id": "a4834612-039e-40dd-b4f0-f25384ddb0be",
   "metadata": {},
   "outputs": [],
   "source": []
  },
  {
   "cell_type": "code",
   "execution_count": null,
   "id": "28d5fa53-6dc2-49ea-89a0-18c1bcf49381",
   "metadata": {},
   "outputs": [],
   "source": []
  },
  {
   "cell_type": "code",
   "execution_count": null,
   "id": "902fc814-88b9-4c86-b36b-f36d487c26e1",
   "metadata": {},
   "outputs": [],
   "source": []
  },
  {
   "cell_type": "code",
   "execution_count": null,
   "id": "a1096567-fd15-48cd-b564-5a556d0615d6",
   "metadata": {},
   "outputs": [],
   "source": []
  },
  {
   "cell_type": "code",
   "execution_count": null,
   "id": "1c191ea9-3288-436f-9ac6-fa14c684fb35",
   "metadata": {},
   "outputs": [],
   "source": []
  },
  {
   "cell_type": "code",
   "execution_count": null,
   "id": "0e57cc78-329c-49f7-a7b6-cec5e1e400d6",
   "metadata": {},
   "outputs": [],
   "source": []
  },
  {
   "cell_type": "code",
   "execution_count": null,
   "id": "eacc4ce8-f374-41b5-91c9-718032b759b9",
   "metadata": {},
   "outputs": [],
   "source": []
  },
  {
   "cell_type": "code",
   "execution_count": null,
   "id": "24a3ec51-83ee-462f-87d4-e579cae9c741",
   "metadata": {},
   "outputs": [],
   "source": []
  },
  {
   "cell_type": "code",
   "execution_count": null,
   "id": "81c5cac1-b75a-4ee7-95fb-cabd54448df5",
   "metadata": {},
   "outputs": [],
   "source": []
  },
  {
   "cell_type": "code",
   "execution_count": null,
   "id": "f43fd2ff-9b6c-412c-9c70-026aea59dc27",
   "metadata": {},
   "outputs": [],
   "source": []
  },
  {
   "cell_type": "code",
   "execution_count": null,
   "id": "38941a9d-1250-4fc7-bf4b-32355fbc9d2f",
   "metadata": {},
   "outputs": [],
   "source": []
  },
  {
   "cell_type": "code",
   "execution_count": null,
   "id": "88e052fa-7327-42b7-aca3-642a18a4cca7",
   "metadata": {},
   "outputs": [],
   "source": []
  },
  {
   "cell_type": "code",
   "execution_count": null,
   "id": "43929d50-2527-48bf-a2ce-49d648b06f33",
   "metadata": {},
   "outputs": [],
   "source": []
  },
  {
   "cell_type": "code",
   "execution_count": null,
   "id": "887e4b11-166b-4dc0-b64e-af77d0594eba",
   "metadata": {},
   "outputs": [],
   "source": []
  },
  {
   "cell_type": "code",
   "execution_count": null,
   "id": "35e3d2a1-c7c2-49b8-8359-4c69dbe773ff",
   "metadata": {},
   "outputs": [],
   "source": []
  },
  {
   "cell_type": "code",
   "execution_count": null,
   "id": "2f978567-b0c8-4e05-9213-4027a5fe0357",
   "metadata": {},
   "outputs": [],
   "source": []
  },
  {
   "cell_type": "code",
   "execution_count": null,
   "id": "9b4d223e-6c7c-4107-a809-06ee8fc9f738",
   "metadata": {},
   "outputs": [],
   "source": []
  },
  {
   "cell_type": "code",
   "execution_count": null,
   "id": "f38e0608-10c1-416b-a99a-2b4de3587e61",
   "metadata": {},
   "outputs": [],
   "source": []
  },
  {
   "cell_type": "code",
   "execution_count": null,
   "id": "7312ec53-fbca-4f97-8cd4-a2ed310227f8",
   "metadata": {},
   "outputs": [],
   "source": []
  },
  {
   "cell_type": "code",
   "execution_count": null,
   "id": "9fbc8aad-074d-4217-b747-21287e6ef070",
   "metadata": {},
   "outputs": [],
   "source": []
  },
  {
   "cell_type": "code",
   "execution_count": null,
   "id": "2a3f8407-d4b9-4445-b071-217414e4999e",
   "metadata": {},
   "outputs": [],
   "source": []
  },
  {
   "cell_type": "code",
   "execution_count": null,
   "id": "76cf3edd-dc69-4301-b1c7-2e4fc7c0e8fb",
   "metadata": {},
   "outputs": [],
   "source": []
  },
  {
   "cell_type": "code",
   "execution_count": null,
   "id": "6dde277b-9045-4e14-ba8e-aa0dbe073d47",
   "metadata": {},
   "outputs": [],
   "source": []
  },
  {
   "cell_type": "code",
   "execution_count": null,
   "id": "e01e7280-cd78-429c-bc89-d04cae1b58b6",
   "metadata": {},
   "outputs": [],
   "source": []
  },
  {
   "cell_type": "code",
   "execution_count": null,
   "id": "647ffb35-a096-4f36-8ab5-01e8b4e008ce",
   "metadata": {},
   "outputs": [],
   "source": []
  },
  {
   "cell_type": "code",
   "execution_count": null,
   "id": "1fd043d2-5eba-4a31-8773-1d4594008702",
   "metadata": {},
   "outputs": [],
   "source": []
  },
  {
   "cell_type": "code",
   "execution_count": null,
   "id": "f8f52323-c0c1-43e8-9dff-7f27ebf7b6fb",
   "metadata": {},
   "outputs": [],
   "source": []
  },
  {
   "cell_type": "code",
   "execution_count": null,
   "id": "4c85c568-e3ac-4543-bbbf-397d6e81011f",
   "metadata": {},
   "outputs": [],
   "source": []
  },
  {
   "cell_type": "code",
   "execution_count": null,
   "id": "7407ed46-c8fa-44e4-912e-dba04f6bc150",
   "metadata": {},
   "outputs": [],
   "source": []
  },
  {
   "cell_type": "code",
   "execution_count": null,
   "id": "eb2c7851-0b56-4229-9f65-4424047f4dda",
   "metadata": {},
   "outputs": [],
   "source": []
  },
  {
   "cell_type": "code",
   "execution_count": null,
   "id": "8f486635-e787-4412-9a9f-7e7faf5b6a91",
   "metadata": {},
   "outputs": [],
   "source": []
  },
  {
   "cell_type": "code",
   "execution_count": null,
   "id": "8e948bf6-f4b7-4027-8a60-cc685f6ec39a",
   "metadata": {},
   "outputs": [],
   "source": []
  },
  {
   "cell_type": "code",
   "execution_count": null,
   "id": "6d491329-5de2-4b14-9c80-e76c836f8411",
   "metadata": {},
   "outputs": [],
   "source": []
  },
  {
   "cell_type": "code",
   "execution_count": null,
   "id": "967466a1-8da0-4ba6-9053-5f0fa679ebb7",
   "metadata": {},
   "outputs": [],
   "source": []
  },
  {
   "cell_type": "code",
   "execution_count": null,
   "id": "45375b83-781f-4809-9af5-46069002226b",
   "metadata": {},
   "outputs": [],
   "source": []
  },
  {
   "cell_type": "code",
   "execution_count": null,
   "id": "d31ab60e-3c76-46c5-81c8-d57159aac712",
   "metadata": {},
   "outputs": [],
   "source": []
  },
  {
   "cell_type": "code",
   "execution_count": null,
   "id": "ca29278c-ecb4-4eed-a71c-a6eb4d33da8d",
   "metadata": {},
   "outputs": [],
   "source": []
  }
 ],
 "metadata": {
  "kernelspec": {
   "display_name": "Python 3 (ipykernel)",
   "language": "python",
   "name": "python3"
  },
  "language_info": {
   "codemirror_mode": {
    "name": "ipython",
    "version": 3
   },
   "file_extension": ".py",
   "mimetype": "text/x-python",
   "name": "python",
   "nbconvert_exporter": "python",
   "pygments_lexer": "ipython3",
   "version": "3.9.13"
  }
 },
 "nbformat": 4,
 "nbformat_minor": 5
}
