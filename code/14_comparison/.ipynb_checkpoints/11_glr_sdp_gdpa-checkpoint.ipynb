{
 "cells": [
  {
   "cell_type": "code",
   "execution_count": 7,
   "id": "544df301-65fe-4758-91b9-41fbdb79ce4e",
   "metadata": {
    "tags": []
   },
   "outputs": [],
   "source": [
    "import numpy as np\n",
    "import matplotlib.pyplot as plt\n",
    "from sklearn.linear_model import LogisticRegression\n",
    "from scipy.io import savemat, loadmat\n",
    "import matlab.engine # to run Cheng's code\n",
    "import time\n",
    "\n",
    "# add the path to my packages to system paths so they can be imported\n",
    "import sys\n",
    "# sys.path.append('/home/yasamanparhizkar/Documents/yorku/01_thesis/simgraph/code/my_packages')\n",
    "sys.path.append('F:/Users/yasam/Documents/GitHub/simgraph/code/my_packages')\n",
    "# sys.path.append('/home/yasamanparhizkar/Documents/thesis/code/my_packages')\n",
    "\n",
    "import simgraph.my_simgraph as sg\n",
    "import dataprocess.data_handler_03 as dh"
   ]
  },
  {
   "cell_type": "code",
   "execution_count": 8,
   "id": "dc6fd6f3-9a13-4a55-b61e-06180c8ac990",
   "metadata": {
    "tags": []
   },
   "outputs": [],
   "source": [
    "# import importlib\n",
    "# importlib.reload(sg)"
   ]
  },
  {
   "cell_type": "markdown",
   "id": "e12d8812-d59e-4558-8d4e-68511a69e5d5",
   "metadata": {
    "tags": []
   },
   "source": [
    "# Load and group neuron spike data"
   ]
  },
  {
   "cell_type": "code",
   "execution_count": 9,
   "id": "cffc00e4-08e9-40ce-ae70-8ee0d1a86e47",
   "metadata": {
    "tags": []
   },
   "outputs": [],
   "source": [
    "# load all spike data from file\n",
    "spikes_dp = '../../../local_data/original_files/'\n",
    "grouped_data = np.load(spikes_dp+'summed_spikes.npy') # you can load alternative files from the same directory\n",
    "\n",
    "I_order_10 = [54, 35, 10, 60, 74, 9, 61, 56, 91, 104]"
   ]
  },
  {
   "cell_type": "code",
   "execution_count": 10,
   "id": "93174696-b591-47c9-aaf3-eec4699ea801",
   "metadata": {
    "tags": []
   },
   "outputs": [
    {
     "data": {
      "text/plain": [
       "(297, 1141, 1)"
      ]
     },
     "execution_count": 10,
     "metadata": {},
     "output_type": "execute_result"
    }
   ],
   "source": [
    "grouped_data.shape"
   ]
  },
  {
   "cell_type": "code",
   "execution_count": 11,
   "id": "4018a084-8ff7-44ff-b341-0e6fc326a8e5",
   "metadata": {
    "tags": []
   },
   "outputs": [
    {
     "name": "stdout",
     "output_type": "stream",
     "text": [
      "labels range from 0 to 26.\n",
      "label      | percentage belonging to label   \n",
      "---------------------------------------------\n",
      "label #  0 | 31.53 %\n",
      "label #  1 | 15.38 %\n",
      "label #  2 | 8.77 %\n",
      "label #  3 | 7.07 %\n",
      "label #  4 | 6.27 %\n",
      "label #  5 | 5.61 %\n",
      "label #  6 | 4.82 %\n",
      "label #  7 | 4.22 %\n",
      "label #  8 | 3.67 %\n",
      "label #  9 | 3.12 %\n",
      "label # 10 | 2.60 %\n",
      "label # 11 | 2.07 %\n",
      "label # 12 | 1.61 %\n",
      "label # 13 | 1.19 %\n",
      "label # 14 | 0.80 %\n",
      "label # 15 | 0.52 %\n",
      "label # 16 | 0.31 %\n",
      "label # 17 | 0.18 %\n",
      "label # 18 | 0.11 %\n",
      "label # 19 | 0.06 %\n",
      "label # 20 | 0.04 %\n",
      "label # 21 | 0.02 %\n",
      "label # 22 | 0.01 %\n",
      "label # 23 | 0.01 %\n",
      "label # 24 | 0.00 %\n",
      "label # 25 | 0.00 %\n",
      "label # 26 | 0.00 %\n",
      "total percentage (should be %100):  100.00000000000003\n"
     ]
    }
   ],
   "source": [
    "# visualize the response data\n",
    "length = grouped_data.shape[0] * grouped_data.shape[1]\n",
    "lbl_min = int(np.min(grouped_data))\n",
    "lbl_max = int(np.max(grouped_data))\n",
    "print('labels range from {} to {}.'.format(lbl_min, lbl_max))\n",
    "\n",
    "print('label      | percentage belonging to label   ')\n",
    "print('---------------------------------------------')\n",
    "sanity = 0\n",
    "for lbl in range(lbl_min, lbl_max+1):\n",
    "    class_perc = 100*float(sum(sum(grouped_data == lbl))) / length\n",
    "    print('label #{:3} | {:.2f} %'.format(lbl, class_perc))\n",
    "    sanity += class_perc\n",
    "\n",
    "print(\"total percentage (should be %100): \", sanity)"
   ]
  },
  {
   "cell_type": "markdown",
   "id": "732654e6-8996-4989-8720-af1c0f2791eb",
   "metadata": {
    "tags": []
   },
   "source": [
    "# Create training and validation datasets"
   ]
  },
  {
   "cell_type": "code",
   "execution_count": 12,
   "id": "d88b13e7-eb9e-48eb-b09c-ef453bf9f9d4",
   "metadata": {
    "tags": []
   },
   "outputs": [],
   "source": [
    "def get_mnist_labels(data_params):\n",
    "    return np.loadtxt(data_params['features_dp']+'lbls.csv')\n",
    "\n",
    "def transform_mnistsift(fv):\n",
    "    return fv[::4]\n",
    "\n",
    "def transform_slowfast(fv):\n",
    "    \"\"\"\n",
    "    Transform to be applied on feature vectors.\n",
    "    \n",
    "    Input: fv\n",
    "    fv - 1xDf torch tensor representing a feature vector\n",
    "    \n",
    "    Output: fvv\n",
    "    fvv - 1xDf' torch tensor representing the transformed feature vector\n",
    "    \"\"\"\n",
    "    \n",
    "    # for faster run and less memory usage\n",
    "    fvv = fv[::200]\n",
    "    \n",
    "    # for numerical stability during GD\n",
    "    # fvv = fvv * 10\n",
    "    \n",
    "    return fvv\n",
    "\n",
    "def transform_sift3d(fv):\n",
    "    return fv[::10]*10000\n",
    "\n",
    "def transform_soenet(fv):\n",
    "    return fv[::5]\n",
    "\n",
    "# data retrieval params\n",
    "# data_params = {'func': dh.datapoint_sift, 'lbl_func': get_mnist_labels, 'features_dp': '../../data/fe_exp/mnist-sift/', \\\n",
    "#                'spike_data': None, 'group_id': None, 'transform': transform_mnistsift, 'ind_min': 0, 'ind_max': 13203, 'feature_id':'mnist-sift'}\n",
    "\n",
    "# data_params = {'func': dh.datapoint_numpy, 'lbl_func': dh.get_labels, 'features_dp': '../../data/features/slowfast/slowfast_4732_numpy/', \\\n",
    "#                'spike_data': grouped_data, 'group_id': 0, 'transform': transform_slowfast, 'ind_min': 1*1141+0, 'ind_max': 2*1141-1, 'feature_id':'slowfast'}\n",
    "\n",
    "data_params = {'func': dh.datapoint_numpy, 'lbl_func': dh.get_labels, 'features_dp': '../../data/features/sift3d/fvs_s1_with_kp/desc/', \\\n",
    "               'spike_data': grouped_data, 'group_id': 0, 'transform': transform_sift3d, 'ind_min': 1*1141+0, 'ind_max': 2*1141-1, 'feature_id':'sift3d'}\n",
    "\n",
    "# data_params = {'func': dh.datapoint_numpy, 'lbl_func': dh.get_labels, 'features_dp': '../../data/features/soenet/soenet3/features_2layer/', \\\n",
    "#                'spike_data': grouped_data, 'group_id': 0, 'transform': transform_soenet, 'ind_min': 1*1141+41, 'ind_max': 2*1141-1, 'feature_id':'soenet'}"
   ]
  },
  {
   "cell_type": "code",
   "execution_count": 13,
   "id": "e8997087-49ab-4d4c-bf02-6e1476c8eac6",
   "metadata": {
    "tags": []
   },
   "outputs": [
    {
     "name": "stdout",
     "output_type": "stream",
     "text": [
      "feature_id:  sift3d\n",
      "train_num =  200 , val_num =  50\n",
      "number of features:  77\n",
      "train_smpls =  [1907 2108 1270 1373 1243 1977 2132 1565 1223 1756 1851 1488 2001 1789\n",
      " 1596 1419 1344 1534 1548 1781 1502 1720 1257 1717 2110 1342 2171 1199\n",
      " 2142 1665 1597 1775 1642 1794 1215 1395 1635 1445 1282 1832 1690 1224\n",
      " 1844 1965 1942 1580 1915 1748 1487 1455 1148 1216 1477 1500 2213 1824\n",
      " 2233 1715 2264 2135 1634 1294 2175 1588 1866 1702 1291 1308 2127 2038\n",
      " 1973 1918 1609 2136 1416 2102 1813 1886 1345 1927 2016 1391 1584 1145\n",
      " 2268 1155 1454 1379 1172 2019 2204 2182 1966 1305 1512 2156 1301 1656\n",
      " 1303 1188 1759 2239 2223 2046 1570 1791 1899 1506 1812 1382 2140 2043\n",
      " 2201 1161 2009 1732 1797 1400 2078 2196 2237 2118 1876 1540 1593 2259\n",
      " 1302 1249 2155 1220 1364 2215 1525 2186 1992 2177 1939 2169 2203 1471\n",
      " 1716 1190 1192 2252 1796 1944 1514 1661 2044 1516 1440 1167 1171 1873\n",
      " 2080 2041 1773 1463 1902 1922 1388 1649 2100 1990 1930 1699 1769 1700\n",
      " 2209 1559 2273 2072 2090 2126 2211 2133 1263 1211 1436 1610 1726 1835\n",
      " 1158 1208 1143 1633 1338 1193 2052 2267 1576 1538 1233 1185 1802 1885\n",
      " 1439 1393 1709 1754] \n",
      "val_smpls =  [1384 1735 1843 1938 2200 2151 1434 2198 1442 1298 1721 1898 1397 1498\n",
      " 1858 1177 2057 1860 1550 1650 1697 1790 1630 1624 1846 1269 1156 2004\n",
      " 1845 1929 1695 2014 2062 2020 2036 2181 1828 2119 1667 1531 1645 1229\n",
      " 1629 1921 2069 2085 1954 2083 1940 1952]\n",
      "train_lbls =  [11.  1.  0.  1.  0.  0. 14.  0.  1.  9.  0.  1.  1.  5.  0.  3.  9.  5.\n",
      "  0.  4.  1.  7.  0. 11.  3.  3. 10.  0.  8.  4.  2.  2.  0.  5.  0.  2.\n",
      "  1.  1.  3.  3.  2.  0.  0.  1. 10.  0.  2. 12.  4.  8.  1.  0.  3.  7.\n",
      "  1.  6.  1. 11.  0. 10.  0.  3. 13.  1.  9.  1.  0.  9.  9.  0.  0.  2.\n",
      "  1. 10.  3.  1.  3.  2.  7.  2.  1.  7.  1.  0.  0.  1.  6.  2.  0.  2.\n",
      "  2.  8.  1. 10.  9.  8. 12.  9.  9.  0. 10.  0.  1.  1.  0.  6.  3.  5.\n",
      "  4.  9. 13.  1.  3.  1.  3.  5.  2.  1.  0.  1.  0. 11.  5.  0.  0.  0.\n",
      "  3.  1.  7.  0.  3.  1.  8.  6.  0.  6.  7. 16.  4.  6.  6.  0.  0.  1.\n",
      "  1.  8.  4.  3.  1. 10.  1.  1.  1.  2.  0.  1.  3.  1.  6.  2.  5.  3.\n",
      "  2.  0.  1.  0.  4.  1.  0.  0.  0.  0.  0. 14.  0. 19.  0.  1. 10.  0.\n",
      "  8.  5.  0.  0.  0.  0.  2.  0.  0.  1.  0.  0.  0.  0.  5.  2.  2.  7.\n",
      "  9.  8.] \n",
      "val_lbls =  [10.  5.  0.  7.  3.  5. 14.  4.  0.  5.  4.  4.  4.  4.  0.  0.  0.  0.\n",
      "  0.  9.  1.  2.  0.  0.  1.  3.  2.  3.  1.  1.  0.  1.  0.  0.  0. 13.\n",
      "  3. 10.  3.  7.  0.  0.  0.  3.  0.  0.  1.  0.  6.  1.]\n",
      "train_des =  [[0.0000e+00 0.0000e+00 0.0000e+00 ... 1.4216e+02 9.2661e+02 6.9038e+02]\n",
      " [0.0000e+00 0.0000e+00 0.0000e+00 ... 1.6000e-01 1.6630e+01 2.5900e+00]\n",
      " [1.6200e+00 0.0000e+00 5.7000e-01 ... 3.4200e+00 4.3000e-01 9.1900e+00]\n",
      " ...\n",
      " [0.0000e+00 0.0000e+00 0.0000e+00 ... 1.3600e+00 3.0248e+02 3.0687e+02]\n",
      " [0.0000e+00 0.0000e+00 0.0000e+00 ... 0.0000e+00 1.2600e+00 5.5500e+00]\n",
      " [0.0000e+00 0.0000e+00 0.0000e+00 ... 2.0000e-02 7.0000e-02 9.0000e-02]] \n",
      "val_des =  [[0.0000e+00 0.0000e+00 0.0000e+00 ... 1.0000e-01 1.0000e-02 0.0000e+00]\n",
      " [0.0000e+00 0.0000e+00 0.0000e+00 ... 1.6650e+01 5.0412e+02 9.5271e+02]\n",
      " [0.0000e+00 0.0000e+00 0.0000e+00 ... 0.0000e+00 5.0000e-02 5.7000e-01]\n",
      " ...\n",
      " [0.0000e+00 0.0000e+00 0.0000e+00 ... 2.4906e+02 3.5174e+02 6.1470e+01]\n",
      " [0.0000e+00 0.0000e+00 0.0000e+00 ... 9.8636e+02 2.3109e+02 7.8260e+01]\n",
      " [0.0000e+00 0.0000e+00 0.0000e+00 ... 2.4000e+01 8.3540e+01 6.6900e+00]]\n",
      "minimum value of train features:  0.0\n",
      "mean value of train features:  167.55767727272723\n",
      "median value of train features:  0.855\n",
      "maximum value of train features:  1195.79\n"
     ]
    }
   ],
   "source": [
    "train_num = 200\n",
    "val_num = 50\n",
    "\n",
    "train_num, val_num, train_data, val_data = \\\n",
    "dh.random_train_val(train_num, val_num, data_params, seed=0)\n",
    "\n",
    "# optional normalization\n",
    "# train_data['des'] = dh.normalize(train_data['des'])\n",
    "# val_data['des'] = dh.normalize(val_data['des'])\n",
    "\n",
    "# show statistics\n",
    "print('feature_id: ', data_params['feature_id'])\n",
    "print('train_num = ', train_num, ', val_num = ', val_num)\n",
    "print('number of features: ', train_data['des'].shape[1])\n",
    "\n",
    "print('train_smpls = ', train_data['smpls'], '\\nval_smpls = ', val_data['smpls'])\n",
    "print('train_lbls = ', train_data['lbls'], '\\nval_lbls = ', val_data['lbls'])\n",
    "print('train_des = ', train_data['des'], '\\nval_des = ', val_data['des'])\n",
    "print('minimum value of train features: ', np.min(train_data['des']))\n",
    "print('mean value of train features: ', np.mean(train_data['des']))\n",
    "print('median value of train features: ', np.median(train_data['des']))\n",
    "print('maximum value of train features: ', np.max(train_data['des']))"
   ]
  },
  {
   "cell_type": "markdown",
   "id": "55a8f9e7-7c17-4027-b35d-ff6a959666c9",
   "metadata": {
    "tags": []
   },
   "source": [
    "# Set parameters"
   ]
  },
  {
   "cell_type": "code",
   "execution_count": 14,
   "id": "2198f523-de84-464b-9df6-da265c064027",
   "metadata": {
    "tags": []
   },
   "outputs": [],
   "source": [
    "# visualize the learned metric matrix\n",
    "def visualize_M(M, fig_params):\n",
    "    # unpack params\n",
    "    rmark_th = fig_params['rmark_th']\n",
    "    xloc = fig_params['xloc']\n",
    "    yloc = fig_params['yloc']\n",
    "\n",
    "    sg.display_matrix(M, None)\n",
    "    # mark prominent elements          \n",
    "    lim = (rmark_th/100) * np.max(M) # marker threshold                \n",
    "    plt.plot(xloc[M > lim],yloc[M > lim], marker='o', markersize=3, color='r', linestyle='')\n",
    "    plt.title('M - marked above {}%'.format(rmark_th))"
   ]
  },
  {
   "cell_type": "code",
   "execution_count": 15,
   "id": "599fc79e-82e3-4c26-ad9b-e9a32ef04a51",
   "metadata": {
    "tags": []
   },
   "outputs": [],
   "source": [
    "# graph construction parameters (common for all three methods)\n",
    "sg_params = {'Dt': None, 'Dv': None, 'Dvt':None, \\\n",
    "             'cnstr_method_tt': 'time-inc-ord', 'cnstr_method_vv': 'time-inc-ord', 'cnstr_method_vt': 'time',\\\n",
    "             'train_t': None, 'val_t': None, \\\n",
    "             'edges_tt':None, 'edges_vv':None, 'edges_vt':None, }\n",
    "\n",
    "# gradient descent parameters (only used for factobj1)\n",
    "gd_opt_params = { 'epsilon0':1, 'epsilon_decay':0.5, 'epsilon_jump': 1.7, \\\n",
    "                'num_its':500, 'check_freq':50, 'print_checks':True, 'Theta0':None, \\\n",
    "                'force_all_its': True, 'threshold': -1}\n",
    "\n",
    "# objective parameters (for both lmnn and obj1)\n",
    "gamma = 1\n",
    "beta = 1\n",
    "sg_params['mu'] = 30 #glr requires this objective parameter to be part of the sg_params dict\n",
    "\n",
    "# random parameter for edge selection and B initialization\n",
    "seed = 0\n",
    "\n",
    "# swap path for matlab's use\n",
    "swap_path_jupyter = '../../../local_data/fe_exp/cheng_swap_1/' # relative to this notebook's current location\n",
    "swap_path_matlab  = '../../../../local_data/fe_exp/cheng_swap_1/' # relative to the matlab's folder, not this notebook's current location"
   ]
  },
  {
   "cell_type": "code",
   "execution_count": 16,
   "id": "c78461e0-daad-4761-bfec-f6c891706e92",
   "metadata": {
    "tags": []
   },
   "outputs": [],
   "source": [
    "# parameters to visualize the optimized M\n",
    "f_sz = train_data['des'].shape[1] # must match data_params\n",
    "xloc = np.broadcast_to(np.arange(f_sz), (f_sz, f_sz))\n",
    "yloc = xloc.T\n",
    "fig_params = {'rmark_th': 50, 'f_sz': f_sz, 'xloc': xloc, 'yloc': yloc}"
   ]
  },
  {
   "cell_type": "code",
   "execution_count": 17,
   "id": "10919b4a-7a26-436b-8ff3-49352e772247",
   "metadata": {
    "tags": []
   },
   "outputs": [],
   "source": [
    "# update sg_params\n",
    "sg_params['train_t'] = train_data['smpls']\n",
    "sg_params['val_t'] = val_data['smpls']\n",
    "\n",
    "# set edges\n",
    "sg_params['edges_tt'] = sg.get_edges_tt(train_data['lbls'], sg_params['Dt'], sg_params['cnstr_method_tt'], sg_params['train_t'], seed)"
   ]
  },
  {
   "cell_type": "code",
   "execution_count": 18,
   "id": "b2c1d73c-faf7-4624-aadc-566e1eccbc94",
   "metadata": {
    "tags": []
   },
   "outputs": [
    {
     "data": {
      "text/plain": [
       "17075"
      ]
     },
     "execution_count": 18,
     "metadata": {},
     "output_type": "execute_result"
    }
   ],
   "source": [
    "len(sg_params['edges_tt'])"
   ]
  },
  {
   "cell_type": "code",
   "execution_count": 19,
   "id": "86b544b9-c4a1-4a2c-90dc-cb90b8730e37",
   "metadata": {
    "tags": []
   },
   "outputs": [
    {
     "name": "stdout",
     "output_type": "stream",
     "text": [
      "-> Iteration ID:  comparison_08\n"
     ]
    }
   ],
   "source": [
    "# save the dataset on disc for matlab's use\n",
    "idstr = 'comparison_08'\n",
    "savemat(swap_path_jupyter+'data_'+idstr+'.mat', {'data_feature': train_data['des'], 'data_label': train_data['lbls'], 'data_edge': sg_params['edges_tt']})\n",
    "print('-> Iteration ID: ', idstr)"
   ]
  },
  {
   "cell_type": "markdown",
   "id": "a2879706-ae43-49d5-a483-a7729de8dc15",
   "metadata": {
    "tags": []
   },
   "source": [
    "# Training"
   ]
  },
  {
   "cell_type": "markdown",
   "id": "3b9ce148-cfca-4103-9f89-65b2aa6d2586",
   "metadata": {},
   "source": [
    "## GLR"
   ]
  },
  {
   "cell_type": "code",
   "execution_count": 20,
   "id": "9f114e97-e95d-4e77-aa8b-edec3f9f36ea",
   "metadata": {
    "scrolled": true,
    "tags": []
   },
   "outputs": [],
   "source": [
    "sg_params['mu'] = 20"
   ]
  },
  {
   "cell_type": "code",
   "execution_count": null,
   "id": "961ccabe-eb35-4a0d-af63-682367226a07",
   "metadata": {
    "tags": []
   },
   "outputs": [
    {
     "name": "stdout",
     "output_type": "stream",
     "text": [
      "Number of training datapoints: 200\n",
      "Number of features for each point: 77\n",
      "mu = 20\n",
      "   0: eps = 1.33e-02;  train loss (E) =  1.85\n"
     ]
    }
   ],
   "source": [
    "# fit the graph\n",
    "time0 = time.time()\n",
    "gd_opt_params['Theta0'] = None\n",
    "fact_B, fact_stats = sg.fit_graph(train_data['des'], train_data['lbls'], sg_params, gd_opt_params, seed)\n",
    "fact_M = fact_B.T @ fact_B\n",
    "print('Elapsed  time: {:.6f} sec'.format(time.time()-time0))\n",
    "visualize_M(fact_M, fig_params)"
   ]
  },
  {
   "cell_type": "markdown",
   "id": "d1ee44a4-75de-4bff-81ba-8791bd4782ba",
   "metadata": {
    "jp-MarkdownHeadingCollapsed": true,
    "tags": []
   },
   "source": [
    "## SDP-GLMNN"
   ]
  },
  {
   "cell_type": "code",
   "execution_count": 21,
   "id": "56285f67-3964-4e2e-b748-eb8dd5663d90",
   "metadata": {
    "tags": []
   },
   "outputs": [],
   "source": [
    "# eng.quit()"
   ]
  },
  {
   "cell_type": "code",
   "execution_count": 22,
   "id": "917dcd53-898b-43d4-b48b-651437f082f4",
   "metadata": {
    "tags": []
   },
   "outputs": [],
   "source": [
    "# start the matlab engine\n",
    "eng = matlab.engine.start_matlab()"
   ]
  },
  {
   "cell_type": "code",
   "execution_count": 23,
   "id": "47aaf1cb-e83b-4f64-ab28-cfed726f29c8",
   "metadata": {
    "tags": []
   },
   "outputs": [],
   "source": [
    "eng.cd(r'../15_cheng/lmnn-offtheshelf/', nargout=0)"
   ]
  },
  {
   "cell_type": "code",
   "execution_count": 14,
   "id": "306c8dd9-afea-4c19-86f6-3bd6bd11f4d1",
   "metadata": {
    "scrolled": true,
    "tags": []
   },
   "outputs": [
    {
     "name": "stdout",
     "output_type": "stream",
     "text": [
      "Elapsed time is 0.135929 seconds.\n",
      "Elapsed time is 0.097807 seconds.\n",
      "n_delta = 15000\n",
      "Elapsed time is 0.244404 seconds.\n",
      " \n",
      "Calling SeDuMi 1.3.4: 32080 variables, 15000 equality constraints\n",
      "------------------------------------------------------------\n",
      "SeDuMi 1.3.4 by AdvOL, 2005-2008 and Jos F. Sturm, 1998-2003.\n",
      "Alg = 2: xz-corrector, Adaptive Step-Differentiation, theta = 0.250, beta = 0.500\n"
     ]
    },
    {
     "ename": "EngineError",
     "evalue": "MATLAB function cannot be evaluated",
     "output_type": "error",
     "traceback": [
      "\u001b[0;31m---------------------------------------------------------------------------\u001b[0m",
      "\u001b[0;31mEngineError\u001b[0m                               Traceback (most recent call last)",
      "Cell \u001b[0;32mIn [14], line 3\u001b[0m\n\u001b[1;32m      1\u001b[0m \u001b[38;5;66;03m# fit the graph\u001b[39;00m\n\u001b[1;32m      2\u001b[0m time0 \u001b[38;5;241m=\u001b[39m time\u001b[38;5;241m.\u001b[39mtime()\n\u001b[0;32m----> 3\u001b[0m (cvx_M, cvx_delta, cvx_status) \u001b[38;5;241m=\u001b[39m \u001b[43meng\u001b[49m\u001b[38;5;241;43m.\u001b[39;49m\u001b[43mlmnn_cvx_python\u001b[49m\u001b[43m(\u001b[49m\u001b[43mswap_path_matlab\u001b[49m\u001b[43m,\u001b[49m\u001b[43m \u001b[49m\u001b[43midstr\u001b[49m\u001b[43m,\u001b[49m\u001b[43m \u001b[49m\u001b[43mgamma\u001b[49m\u001b[43m,\u001b[49m\u001b[43m \u001b[49m\u001b[43mbeta\u001b[49m\u001b[43m,\u001b[49m\u001b[43m \u001b[49m\u001b[43mnargout\u001b[49m\u001b[38;5;241;43m=\u001b[39;49m\u001b[38;5;241;43m3\u001b[39;49m\u001b[43m)\u001b[49m\n",
      "File \u001b[0;32m~/Documents/yorku/01_thesis/pyenv/lib/python3.9/site-packages/matlab/engine/matlabengine.py:70\u001b[0m, in \u001b[0;36mMatlabFunc.__call__\u001b[0;34m(self, *args, **kwargs)\u001b[0m\n\u001b[1;32m     68\u001b[0m     \u001b[38;5;28;01mreturn\u001b[39;00m FutureResult(\u001b[38;5;28mself\u001b[39m\u001b[38;5;241m.\u001b[39m_engine(), future, nargs, _stdout, _stderr, feval\u001b[38;5;241m=\u001b[39m\u001b[38;5;28;01mTrue\u001b[39;00m)\n\u001b[1;32m     69\u001b[0m \u001b[38;5;28;01melse\u001b[39;00m:\n\u001b[0;32m---> 70\u001b[0m     \u001b[38;5;28;01mreturn\u001b[39;00m \u001b[43mFutureResult\u001b[49m\u001b[43m(\u001b[49m\u001b[38;5;28;43mself\u001b[39;49m\u001b[38;5;241;43m.\u001b[39;49m\u001b[43m_engine\u001b[49m\u001b[43m(\u001b[49m\u001b[43m)\u001b[49m\u001b[43m,\u001b[49m\u001b[43m \u001b[49m\u001b[43mfuture\u001b[49m\u001b[43m,\u001b[49m\u001b[43m \u001b[49m\u001b[43mnargs\u001b[49m\u001b[43m,\u001b[49m\u001b[43m \u001b[49m\u001b[43m_stdout\u001b[49m\u001b[43m,\u001b[49m\n\u001b[1;32m     71\u001b[0m \u001b[43m                        \u001b[49m\u001b[43m_stderr\u001b[49m\u001b[43m,\u001b[49m\u001b[43m \u001b[49m\u001b[43mfeval\u001b[49m\u001b[38;5;241;43m=\u001b[39;49m\u001b[38;5;28;43;01mTrue\u001b[39;49;00m\u001b[43m)\u001b[49m\u001b[38;5;241;43m.\u001b[39;49m\u001b[43mresult\u001b[49m\u001b[43m(\u001b[49m\u001b[43m)\u001b[49m\n",
      "File \u001b[0;32m~/Documents/yorku/01_thesis/pyenv/lib/python3.9/site-packages/matlab/engine/futureresult.py:67\u001b[0m, in \u001b[0;36mFutureResult.result\u001b[0;34m(self, timeout)\u001b[0m\n\u001b[1;32m     64\u001b[0m     \u001b[38;5;28;01mif\u001b[39;00m timeout \u001b[38;5;241m<\u001b[39m \u001b[38;5;241m0\u001b[39m:\n\u001b[1;32m     65\u001b[0m         \u001b[38;5;28;01mraise\u001b[39;00m \u001b[38;5;167;01mTypeError\u001b[39;00m(pythonengine\u001b[38;5;241m.\u001b[39mgetMessage(\u001b[38;5;124m'\u001b[39m\u001b[38;5;124mTimeoutCannotBeNegative\u001b[39m\u001b[38;5;124m'\u001b[39m))\n\u001b[0;32m---> 67\u001b[0m \u001b[38;5;28;01mreturn\u001b[39;00m \u001b[38;5;28;43mself\u001b[39;49m\u001b[38;5;241;43m.\u001b[39;49m\u001b[43m__future\u001b[49m\u001b[38;5;241;43m.\u001b[39;49m\u001b[43mresult\u001b[49m\u001b[43m(\u001b[49m\u001b[43mtimeout\u001b[49m\u001b[43m)\u001b[49m\n",
      "File \u001b[0;32m~/Documents/yorku/01_thesis/pyenv/lib/python3.9/site-packages/matlab/engine/fevalfuture.py:82\u001b[0m, in \u001b[0;36mFevalFuture.result\u001b[0;34m(self, timeout)\u001b[0m\n\u001b[1;32m     79\u001b[0m \u001b[38;5;28;01mif\u001b[39;00m \u001b[38;5;129;01mnot\u001b[39;00m result_ready:\n\u001b[1;32m     80\u001b[0m     \u001b[38;5;28;01mraise\u001b[39;00m \u001b[38;5;167;01mTimeoutError\u001b[39;00m(pythonengine\u001b[38;5;241m.\u001b[39mgetMessage(\u001b[38;5;124m'\u001b[39m\u001b[38;5;124mMatlabFunctionTimeout\u001b[39m\u001b[38;5;124m'\u001b[39m))\n\u001b[0;32m---> 82\u001b[0m \u001b[38;5;28mself\u001b[39m\u001b[38;5;241m.\u001b[39m_result \u001b[38;5;241m=\u001b[39m \u001b[43mpythonengine\u001b[49m\u001b[38;5;241;43m.\u001b[39;49m\u001b[43mgetFEvalResult\u001b[49m\u001b[43m(\u001b[49m\u001b[38;5;28;43mself\u001b[39;49m\u001b[38;5;241;43m.\u001b[39;49m\u001b[43m_future\u001b[49m\u001b[43m,\u001b[49m\u001b[38;5;28;43mself\u001b[39;49m\u001b[38;5;241;43m.\u001b[39;49m\u001b[43m_nargout\u001b[49m\u001b[43m,\u001b[49m\u001b[43m \u001b[49m\u001b[38;5;28;43;01mNone\u001b[39;49;00m\u001b[43m,\u001b[49m\u001b[43m \u001b[49m\u001b[43mout\u001b[49m\u001b[38;5;241;43m=\u001b[39;49m\u001b[38;5;28;43mself\u001b[39;49m\u001b[38;5;241;43m.\u001b[39;49m\u001b[43m_out\u001b[49m\u001b[43m,\u001b[49m\u001b[43m \u001b[49m\u001b[43merr\u001b[49m\u001b[38;5;241;43m=\u001b[39;49m\u001b[38;5;28;43mself\u001b[39;49m\u001b[38;5;241;43m.\u001b[39;49m\u001b[43m_err\u001b[49m\u001b[43m)\u001b[49m\n\u001b[1;32m     83\u001b[0m \u001b[38;5;28mself\u001b[39m\u001b[38;5;241m.\u001b[39m_retrieved \u001b[38;5;241m=\u001b[39m \u001b[38;5;28;01mTrue\u001b[39;00m\n\u001b[1;32m     84\u001b[0m \u001b[38;5;28;01mreturn\u001b[39;00m \u001b[38;5;28mself\u001b[39m\u001b[38;5;241m.\u001b[39m_result\n",
      "\u001b[0;31mEngineError\u001b[0m: MATLAB function cannot be evaluated"
     ]
    }
   ],
   "source": [
    "# fit the graph\n",
    "time0 = time.time()\n",
    "(cvx_M, cvx_delta, cvx_status) = eng.lmnn_cvx_python(swap_path_matlab, idstr, gamma, beta, nargout=3)"
   ]
  },
  {
   "cell_type": "code",
   "execution_count": 19,
   "id": "61ffbd94-dd2a-4e7e-8cd5-b1309c42bf87",
   "metadata": {
    "tags": []
   },
   "outputs": [
    {
     "name": "stdout",
     "output_type": "stream",
     "text": [
      "cvx_status:  Solved\n",
      "Elapsed  time: 86.784103 sec\n"
     ]
    },
    {
     "data": {
      "image/png": "[encoded data removed]",
      "text/plain": [
       "<Figure size 400x400 with 2 Axes>"
      ]
     },
     "metadata": {},
     "output_type": "display_data"
    }
   ],
   "source": [
    "print('cvx_status: ', cvx_status)\n",
    "cvx_M = np.array(cvx_M)\n",
    "cvx_delta = np.array(cvx_delta).reshape(-1)\n",
    "print('Elapsed  time: {:.6f} sec'.format(time.time()-time0))\n",
    "visualize_M(cvx_M, fig_params)"
   ]
  },
  {
   "cell_type": "code",
   "execution_count": 20,
   "id": "97c1ef52-79d1-429d-96e6-4874e2f8229e",
   "metadata": {
    "tags": []
   },
   "outputs": [],
   "source": [
    "# compute the objective matrix required to compute the training loss\n",
    "cvx_V = eng.get_objective_variables_ready_python(swap_path_matlab, idstr)\n",
    "cvx_V = np.array(cvx_V)"
   ]
  },
  {
   "cell_type": "code",
   "execution_count": 21,
   "id": "23f42341-3015-482c-a5b6-d76da7689744",
   "metadata": {
    "tags": []
   },
   "outputs": [
    {
     "data": {
      "text/plain": [
       "array([[ 0.04132483,  0.04139413,  0.03459456, ..., -0.09248525,\n",
       "         0.03879178,  0.17308389],\n",
       "       [ 0.04139413,  0.04148952,  0.0324306 , ..., -0.09135734,\n",
       "         0.03962292,  0.1745608 ],\n",
       "       [ 0.03459456,  0.0324306 ,  0.21908416, ..., -0.187202  ,\n",
       "        -0.03307097,  0.04336958],\n",
       "       ...,\n",
       "       [-0.09248525, -0.09135734, -0.187202  , ...,  4.3307657 ,\n",
       "         2.00356212, -0.03806085],\n",
       "       [ 0.03879178,  0.03962292, -0.03307097, ...,  2.00356212,\n",
       "         3.38321647,  1.71624055],\n",
       "       [ 0.17308389,  0.1745608 ,  0.04336958, ..., -0.03806085,\n",
       "         1.71624055,  4.40056954]])"
      ]
     },
     "execution_count": 21,
     "metadata": {},
     "output_type": "execute_result"
    }
   ],
   "source": [
    "cvx_V"
   ]
  },
  {
   "cell_type": "markdown",
   "id": "61b106fa-2959-4fb9-9467-60b95d3c94c4",
   "metadata": {
    "jp-MarkdownHeadingCollapsed": true,
    "tags": []
   },
   "source": [
    "## GDPA-GLMNN"
   ]
  },
  {
   "cell_type": "code",
   "execution_count": 24,
   "id": "2bc335c6-38ae-4002-97cc-a195a74220f8",
   "metadata": {
    "tags": []
   },
   "outputs": [],
   "source": [
    "# change matlab's folder\n",
    "eng.cd(r'../lmnn-gdpa-2/', nargout=0)"
   ]
  },
  {
   "cell_type": "code",
   "execution_count": 25,
   "id": "be96136a-f9df-42d4-b729-686a742366d0",
   "metadata": {
    "tags": []
   },
   "outputs": [
    {
     "name": "stdout",
     "output_type": "stream",
     "text": [
      "starting SGML.\n",
      "initial objective value = Inf\n",
      "1: objective_previous - objective_current = Inf\n",
      "2: objective_previous - objective_current = 22.322153\n",
      "3: objective_previous - objective_current = 8.452357\n",
      "4: objective_previous - objective_current = 0.126262\n",
      "5: objective_previous - objective_current = 0.000000\n",
      "1: objective_previous - objective_current = 0.017623\n",
      "2: objective_previous - objective_current = 0.000000\n",
      "converged objective value = 136.4785\n",
      "minimal eigenvalue of M = -0.0001\n",
      "num_LP_rowcol = 240, num_LP_full = 2done with SGML.\n",
      "Elapsed  time: 36.328026 sec\n"
     ]
    },
    {
     "data": {
      "image/png": "[encoded data removed]",
      "text/plain": [
       "<Figure size 400x400 with 2 Axes>"
      ]
     },
     "metadata": {},
     "output_type": "display_data"
    }
   ],
   "source": [
    "# fit the graph\n",
    "time0 = time.time()\n",
    "(gdpa_M, gdpa_delta, num_LP_rowcol, num_LP_full) = eng.lmnn_gdpa_python(swap_path_matlab, idstr, gamma, beta, nargout=4)\n",
    "gdpa_M = np.array(gdpa_M)\n",
    "gdpa_delta = np.array(gdpa_delta).reshape(-1)\n",
    "print('Elapsed  time: {:.6f} sec'.format(time.time()-time0))\n",
    "visualize_M(gdpa_M, fig_params)"
   ]
  },
  {
   "cell_type": "code",
   "execution_count": 26,
   "id": "bbe5bc35-79c6-47fc-8043-d94d75d800b8",
   "metadata": {
    "tags": []
   },
   "outputs": [
    {
     "ename": "NameError",
     "evalue": "name 'cvx_V' is not defined",
     "output_type": "error",
     "traceback": [
      "\u001b[0;31m---------------------------------------------------------------------------\u001b[0m",
      "\u001b[0;31mNameError\u001b[0m                                 Traceback (most recent call last)",
      "Cell \u001b[0;32mIn [26], line 6\u001b[0m\n\u001b[1;32m      3\u001b[0m gdpa_V \u001b[38;5;241m=\u001b[39m np\u001b[38;5;241m.\u001b[39marray(gdpa_V)\n\u001b[1;32m      5\u001b[0m \u001b[38;5;66;03m# sanity check - V should be the same for both CVX and GDPA\u001b[39;00m\n\u001b[0;32m----> 6\u001b[0m \u001b[38;5;28;01massert\u001b[39;00m (gdpa_V \u001b[38;5;241m==\u001b[39m \u001b[43mcvx_V\u001b[49m)\u001b[38;5;241m.\u001b[39mall()\n",
      "\u001b[0;31mNameError\u001b[0m: name 'cvx_V' is not defined"
     ]
    }
   ],
   "source": [
    "# compute the objective matrix required to compute the training loss\n",
    "gdpa_V = eng.get_objective_variables_ready_python(swap_path_matlab, idstr)\n",
    "gdpa_V = np.array(gdpa_V)\n",
    "\n",
    "# sanity check - V should be the same for both CVX and GDPA\n",
    "assert (gdpa_V == cvx_V).all()"
   ]
  },
  {
   "cell_type": "code",
   "execution_count": 25,
   "id": "a6e03670-8aee-4eef-8eeb-842af24749d4",
   "metadata": {
    "tags": []
   },
   "outputs": [],
   "source": [
    "# close the matlab engine\n",
    "eng.quit()"
   ]
  },
  {
   "cell_type": "markdown",
   "id": "9d81ae70-1ff3-4afe-8ca4-4b46fb0d21ad",
   "metadata": {
    "tags": []
   },
   "source": [
    "## Logistic Regression (benchmark)"
   ]
  },
  {
   "cell_type": "code",
   "execution_count": null,
   "id": "5f366b12-cb75-468c-9348-e369b78c8dd0",
   "metadata": {
    "tags": []
   },
   "outputs": [],
   "source": [
    "# instantiate the logistic regression model\n",
    "lgrg = LogisticRegression(penalty='none', max_iter=1000000)\n",
    "# fit model\n",
    "lgrg = lgrg.fit(train_data['des'], train_data['lbls'])"
   ]
  },
  {
   "cell_type": "markdown",
   "id": "51a1bfe6-e019-40bb-87c9-00284eaa91e5",
   "metadata": {},
   "source": [
    "# Validation"
   ]
  },
  {
   "cell_type": "code",
   "execution_count": 35,
   "id": "7d133dec-8f5a-470b-9034-e2ba495c8dde",
   "metadata": {
    "tags": []
   },
   "outputs": [
    {
     "data": {
      "text/plain": [
       "<module 'simgraph.my_simgraph' from 'F:\\\\Users/yasam/Documents/GitHub/simgraph/code/my_packages\\\\simgraph\\\\my_simgraph.py'>"
      ]
     },
     "execution_count": 35,
     "metadata": {},
     "output_type": "execute_result"
    }
   ],
   "source": [
    "# import importlib\n",
    "# importlib.reload(sg)"
   ]
  },
  {
   "cell_type": "code",
   "execution_count": 36,
   "id": "26865b81-87e6-44d2-9ff5-d9de20924915",
   "metadata": {
    "tags": []
   },
   "outputs": [],
   "source": [
    "show_edges = False"
   ]
  },
  {
   "cell_type": "code",
   "execution_count": 38,
   "id": "1f03db41-8790-4ebe-97cf-18fea5edd575",
   "metadata": {
    "tags": []
   },
   "outputs": [
    {
     "name": "stdout",
     "output_type": "stream",
     "text": [
      "Elapsed time: 0.039890 sec\n",
      "GLR val. MSE = 17.389729\n"
     ]
    }
   ],
   "source": [
    "# GLR\n",
    "fact_val_mse, fact_y_est, fact_t = sg.get_acc(fact_M, train_data['des'], train_data['lbls'], val_data['des'], val_data['lbls'], sg_params, 'cat', seed, show_edges)\n",
    "print('Elapsed time: {:.6f} sec'.format(fact_t))\n",
    "print('GLR val. MSE = {:.6f}'.format(fact_val_mse))"
   ]
  },
  {
   "cell_type": "code",
   "execution_count": null,
   "id": "dba37ac8-0193-4010-843c-428fd9dc004d",
   "metadata": {
    "tags": []
   },
   "outputs": [],
   "source": [
    "# SDP-GLMNN\n",
    "cvx_val_acc, cvx_y_est, cvx_t = sg.get_acc(cvx_M, train_data['des'], train_data['lbls'], val_data['des'], val_data['lbls'], sg_params, seed, show_edges)\n",
    "# NOTE: sg_params['edges_vv'] and sg_params['edges_vt'] are fixed now\n",
    "print('Elapsed time: {:.6f} sec'.format(cvx_t))\n",
    "print('SDP-GLMNN val. acc. = {:.2f}%'.format(cvx_val_acc*100))"
   ]
  },
  {
   "cell_type": "code",
   "execution_count": null,
   "id": "6cb376e8-f04a-4d98-a1f8-78a22043a2f0",
   "metadata": {
    "tags": []
   },
   "outputs": [],
   "source": [
    "# GDPA-GLMNN\n",
    "gdpa_val_acc, gdpa_y_est, gdpa_t = sg.get_acc(gdpa_M, train_data['des'], train_data['lbls'], val_data['des'], val_data['lbls'], sg_params, seed, show_edges)\n",
    "print('Elapsed time: {:.6f} sec'.format(gdpa_t))\n",
    "print('GDPA-GLMNN val. acc. = {:.2f}%'.format(gdpa_val_acc*100))"
   ]
  },
  {
   "cell_type": "code",
   "execution_count": 77,
   "id": "ef164f08-65cf-4054-a2e0-41a73bc34f7a",
   "metadata": {
    "tags": []
   },
   "outputs": [
    {
     "name": "stdout",
     "output_type": "stream",
     "text": [
      "Elapsed time: 0.002475 sec\n",
      "LogReg val. acc. = 2.00%\n"
     ]
    }
   ],
   "source": [
    "# LogReg\n",
    "time0 = time.time()\n",
    "lgrg_val_acc = lgrg.score(val_data['des'], val_data['lbls'])\n",
    "lgrg_y_est = lgrg.predict(val_data['des'])\n",
    "print('Elapsed time: {:.6f} sec'.format(time.time()-time0))\n",
    "print('LogReg val. acc. = {:.2f}%'.format(lgrg_val_acc*100))"
   ]
  },
  {
   "cell_type": "markdown",
   "id": "c7e07a52-51fe-469a-a2dc-f453dd5deab6",
   "metadata": {},
   "source": [
    "# Compare final loss values"
   ]
  },
  {
   "cell_type": "code",
   "execution_count": 29,
   "id": "9f2e29a8-97e4-41e5-87d4-99b616b6e888",
   "metadata": {
    "tags": []
   },
   "outputs": [],
   "source": [
    "# SDP-GLMNN\n",
    "cvx_loss = np.sum(cvx_M * cvx_V.T) + beta * np.sum(cvx_delta)\n",
    "print('CVX-LMNN loss: {:.4f}'.format(cvx_loss))"
   ]
  },
  {
   "cell_type": "code",
   "execution_count": 30,
   "id": "76cc8515-6ad3-4ff2-bc56-3d1002d0ae46",
   "metadata": {
    "tags": []
   },
   "outputs": [
    {
     "name": "stdout",
     "output_type": "stream",
     "text": [
      "GDPA-LMNN loss: 136.4785\n"
     ]
    }
   ],
   "source": [
    "# GDPA-GLMNN\n",
    "gdpa_loss = np.sum(gdpa_M * gdpa_V.T) + beta * np.sum(gdpa_delta)\n",
    "print('GDPA-LMNN loss: {:.4f}'.format(gdpa_loss))"
   ]
  },
  {
   "cell_type": "code",
   "execution_count": 39,
   "id": "56cf1d32-34f8-4a8c-90b4-2f249c7babe9",
   "metadata": {
    "tags": []
   },
   "outputs": [
    {
     "name": "stdout",
     "output_type": "stream",
     "text": [
      "Fact-GLR&trace loss: 0.0851\n"
     ]
    }
   ],
   "source": [
    "# GLR\n",
    "fact_loss = sg.cnstr_glr(fact_B, deriv=False, mu=sg_params['mu'], x=train_data['lbls'], F=train_data['des'].T, edges_tt=sg_params['edges_tt'])\n",
    "print('Fact-GLR&trace loss: {:.4f}'.format(fact_loss))"
   ]
  },
  {
   "cell_type": "markdown",
   "id": "4c959c66-3cbe-4814-9cd6-0e1fd944149d",
   "metadata": {},
   "source": [
    "## GLMNN loss with GLR optimized metric"
   ]
  },
  {
   "cell_type": "code",
   "execution_count": 33,
   "id": "cb4750ce-804e-47b4-a8dd-30f2fa722ab2",
   "metadata": {
    "tags": []
   },
   "outputs": [],
   "source": [
    "edges_tt = np.array(sg_params['edges_tt'])\n",
    "x = train_data['lbls']\n",
    "feature = train_data['des']"
   ]
  },
  {
   "cell_type": "code",
   "execution_count": 34,
   "id": "0e350c09-aa9a-4440-8b2b-90318c9ce5df",
   "metadata": {
    "tags": []
   },
   "outputs": [
    {
     "name": "stdout",
     "output_type": "stream",
     "text": [
      "CVX-LMNN loss with Fact-GLR&trace metric: 1444.7015\n"
     ]
    }
   ],
   "source": [
    "e2 = 0\n",
    "for edge_i in range(edges_tt.shape[0]):\n",
    "    n_i = edges_tt[edge_i,0]\n",
    "    n_j = edges_tt[edge_i,1]\n",
    "    if x[n_i] == x[n_j]:\n",
    "        n_ls = np.append(edges_tt[edges_tt[:,1] == n_i,0], edges_tt[edges_tt[:,0] == n_i,1], axis=0)\n",
    "        for li in range(n_ls.shape[0]):\n",
    "            if x[n_ls[li]] == -1*x[n_i]:\n",
    "                f_ij = feature[n_i] - feature[n_j]\n",
    "                f_il = feature[n_i] - feature[n_ls[li]]\n",
    "                F_ijl = np.outer(f_ij, f_ij) - np.outer(f_il, f_il)\n",
    "                temp = np.sum(fact_M * F_ijl) + gamma\n",
    "                if temp >= 0:\n",
    "                    e2 = e2 + temp\n",
    "\n",
    "cvx_loss_with_fact = np.sum(fact_M * cvx_V.T) + beta * e2\n",
    "print('SDP-GLMNN loss with Fact-GLR&trace metric: {:.4f}'.format(cvx_loss_with_fact))"
   ]
  },
  {
   "cell_type": "code",
   "execution_count": null,
   "id": "77019ff8-8938-42b0-82cd-8e0897a67462",
   "metadata": {},
   "outputs": [],
   "source": []
  },
  {
   "cell_type": "code",
   "execution_count": null,
   "id": "40eba6c9-465b-46fd-8cfb-8db42442440e",
   "metadata": {},
   "outputs": [],
   "source": []
  },
  {
   "cell_type": "code",
   "execution_count": null,
   "id": "27e65963-e4b2-4e96-a0a9-aa8c2155c177",
   "metadata": {},
   "outputs": [],
   "source": []
  },
  {
   "cell_type": "code",
   "execution_count": null,
   "id": "49f91e7c-633a-47d7-82d3-91fbc1d71029",
   "metadata": {},
   "outputs": [],
   "source": []
  },
  {
   "cell_type": "code",
   "execution_count": null,
   "id": "21b0bdb3-b0fa-45e0-8ad7-447a292dc8ab",
   "metadata": {},
   "outputs": [],
   "source": []
  },
  {
   "cell_type": "code",
   "execution_count": null,
   "id": "c3f9b45c-5ad5-4583-a54d-e231076193b6",
   "metadata": {},
   "outputs": [],
   "source": []
  },
  {
   "cell_type": "code",
   "execution_count": null,
   "id": "10ef54c5-f63c-4db7-9f21-99356870eb9e",
   "metadata": {},
   "outputs": [],
   "source": []
  },
  {
   "cell_type": "code",
   "execution_count": null,
   "id": "236f068b-e924-4ef4-8404-1aff998936c5",
   "metadata": {},
   "outputs": [],
   "source": []
  },
  {
   "cell_type": "code",
   "execution_count": null,
   "id": "eaaf0ad1-e3d9-4b98-8a33-988ec2114b6a",
   "metadata": {},
   "outputs": [],
   "source": []
  },
  {
   "cell_type": "code",
   "execution_count": null,
   "id": "bb80b808-1e36-46c1-a4d0-2138c1ea9206",
   "metadata": {},
   "outputs": [],
   "source": []
  },
  {
   "cell_type": "code",
   "execution_count": null,
   "id": "1fdece90-5b4a-4bb0-9153-f32ba7d3b14d",
   "metadata": {},
   "outputs": [],
   "source": []
  },
  {
   "cell_type": "code",
   "execution_count": null,
   "id": "8c335297-4254-4370-b226-d00e672b3351",
   "metadata": {},
   "outputs": [],
   "source": []
  },
  {
   "cell_type": "code",
   "execution_count": null,
   "id": "b0145fae-e642-49d1-bf03-bde72a811ed5",
   "metadata": {},
   "outputs": [],
   "source": []
  },
  {
   "cell_type": "code",
   "execution_count": null,
   "id": "0b02a878-10db-4e7d-8c69-2f26d3de1c3d",
   "metadata": {},
   "outputs": [],
   "source": []
  },
  {
   "cell_type": "code",
   "execution_count": null,
   "id": "b12ff341-5196-476f-bfd7-2da52cf97280",
   "metadata": {},
   "outputs": [],
   "source": []
  },
  {
   "cell_type": "code",
   "execution_count": null,
   "id": "bfe36b48-7ae5-4077-bc17-5dbb328cb049",
   "metadata": {},
   "outputs": [],
   "source": []
  },
  {
   "cell_type": "code",
   "execution_count": null,
   "id": "b0101b9d-0834-4b55-aa64-32988b144aab",
   "metadata": {},
   "outputs": [],
   "source": []
  },
  {
   "cell_type": "code",
   "execution_count": null,
   "id": "09e70eaf-27a7-4b28-8b43-4cd3031b9049",
   "metadata": {},
   "outputs": [],
   "source": []
  },
  {
   "cell_type": "code",
   "execution_count": null,
   "id": "7aa34d36-e4f4-413b-a426-483a6d45f63c",
   "metadata": {},
   "outputs": [],
   "source": []
  },
  {
   "cell_type": "code",
   "execution_count": null,
   "id": "4da823e4-7b98-46ed-8ae4-774036d23668",
   "metadata": {},
   "outputs": [],
   "source": []
  },
  {
   "cell_type": "code",
   "execution_count": null,
   "id": "ae841a60-040b-4375-ad12-ea87e83e5f2a",
   "metadata": {},
   "outputs": [],
   "source": []
  },
  {
   "cell_type": "code",
   "execution_count": null,
   "id": "b8d0fb43-02df-4e0c-8243-5696cbbfe1fd",
   "metadata": {},
   "outputs": [],
   "source": []
  },
  {
   "cell_type": "code",
   "execution_count": null,
   "id": "bac21258-05bd-473f-82de-316e7658d606",
   "metadata": {},
   "outputs": [],
   "source": []
  },
  {
   "cell_type": "code",
   "execution_count": null,
   "id": "55af8ec6-6f95-4059-9fcf-c1fb2509e007",
   "metadata": {},
   "outputs": [],
   "source": []
  },
  {
   "cell_type": "code",
   "execution_count": null,
   "id": "6b2250c6-4060-4971-8261-6781311d99dd",
   "metadata": {},
   "outputs": [],
   "source": []
  },
  {
   "cell_type": "code",
   "execution_count": null,
   "id": "8fa3fde3-0e75-468a-b704-aee8ce373184",
   "metadata": {},
   "outputs": [],
   "source": []
  },
  {
   "cell_type": "code",
   "execution_count": null,
   "id": "37f3cf74-545d-4891-aa07-e1c6eb6446de",
   "metadata": {},
   "outputs": [],
   "source": []
  },
  {
   "cell_type": "code",
   "execution_count": null,
   "id": "1df3d7df-ae9a-4539-817c-b56d9db04776",
   "metadata": {},
   "outputs": [],
   "source": []
  },
  {
   "cell_type": "code",
   "execution_count": null,
   "id": "755b1d62-701c-498e-931b-145147fdd00f",
   "metadata": {},
   "outputs": [],
   "source": []
  },
  {
   "cell_type": "code",
   "execution_count": null,
   "id": "39ac21a9-eaca-4b3d-ad97-99cc73f2cbfb",
   "metadata": {},
   "outputs": [],
   "source": []
  },
  {
   "cell_type": "code",
   "execution_count": null,
   "id": "6600e4e3-1547-4426-9a7d-e4e80da7fdd6",
   "metadata": {},
   "outputs": [],
   "source": []
  }
 ],
 "metadata": {
  "kernelspec": {
   "display_name": "Python 3 (ipykernel)",
   "language": "python",
   "name": "python3"
  },
  "language_info": {
   "codemirror_mode": {
    "name": "ipython",
    "version": 3
   },
   "file_extension": ".py",
   "mimetype": "text/x-python",
   "name": "python",
   "nbconvert_exporter": "python",
   "pygments_lexer": "ipython3",
   "version": "3.9.12"
  }
 },
 "nbformat": 4,
 "nbformat_minor": 5
}
