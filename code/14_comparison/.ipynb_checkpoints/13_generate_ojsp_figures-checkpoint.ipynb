{
 "cells": [
  {
   "cell_type": "code",
   "execution_count": 1,
   "id": "15fc778c-0142-4eb4-ba27-175fd390e4cd",
   "metadata": {
    "tags": []
   },
   "outputs": [],
   "source": [
    "import numpy as np\n",
    "import matplotlib.pyplot as plt\n",
    "from sklearn.linear_model import LogisticRegression\n",
    "from scipy.io import savemat, loadmat\n",
    "import time\n",
    "\n",
    "# add the path to my packages to system paths so they can be imported\n",
    "import sys\n",
    "# sys.path.append('/home/yasamanparhizkar/Documents/yorku/01_thesis/code/my_packages')\n",
    "sys.path.append('F:/Users/yasam/Documents/GitHub/simgraph/code/my_packages')\n",
    "# sys.path.append('/home/yasamanparhizkar/Documents/thesis/code/my_packages')\n",
    "\n",
    "import simgraph.my_simgraph_06 as sg\n",
    "import dataprocess.data_handler_03 as dh"
   ]
  },
  {
   "cell_type": "markdown",
   "id": "3296cf50-dfe4-4440-93dd-cd46cf73a6bb",
   "metadata": {},
   "source": [
    "# Load and group neuron spike data"
   ]
  },
  {
   "cell_type": "code",
   "execution_count": 2,
   "id": "56f50056-7fe6-4472-8377-4b5ab7972a90",
   "metadata": {
    "tags": []
   },
   "outputs": [],
   "source": [
    "# load all spike data from file\n",
    "spikes_dp = '../../../local_data/original_files/'\n",
    "binned_data = np.load(spikes_dp+'spikes.npy')\n",
    "binned_data = binned_data.reshape(binned_data.shape[0], 1141, 113)\n",
    "binned_data = binned_data * 2 - 1     # turn labels from 0,1 to -1,1"
   ]
  },
  {
   "cell_type": "code",
   "execution_count": 3,
   "id": "a91a6756-4260-45e0-a9d0-c94847c02947",
   "metadata": {
    "tags": []
   },
   "outputs": [
    {
     "data": {
      "text/plain": [
       "(297, 1141, 113)"
      ]
     },
     "execution_count": 3,
     "metadata": {},
     "output_type": "execute_result"
    }
   ],
   "source": [
    "binned_data.shape"
   ]
  },
  {
   "cell_type": "code",
   "execution_count": 4,
   "id": "81edd421-44d5-435a-a0fe-c781af659249",
   "metadata": {
    "tags": []
   },
   "outputs": [
    {
     "data": {
      "text/plain": [
       "(297, 1141, 1)"
      ]
     },
     "execution_count": 4,
     "metadata": {},
     "output_type": "execute_result"
    }
   ],
   "source": [
    "I_order_10 = [54, 35, 10, 60, 74, 9, 61, 56, 91, 104]\n",
    "\n",
    "# group all neurons together\n",
    "grouped_data = np.zeros((297, 1141, 1))\n",
    "for trial in range(297):\n",
    "    for frame in range(1141):\n",
    "        grouped_data[trial, frame, :] = 2 * int((binned_data[trial, frame, :] == 1).any()) - 1\n",
    "        \n",
    "grouped_data.shape"
   ]
  },
  {
   "cell_type": "markdown",
   "id": "1e2434d0-1668-4ef6-b402-f03ed0cadbbf",
   "metadata": {},
   "source": [
    "# Create training and validation datasets"
   ]
  },
  {
   "cell_type": "code",
   "execution_count": 5,
   "id": "76b11788-4f5f-4f62-ad18-4a223f06b47f",
   "metadata": {
    "tags": []
   },
   "outputs": [],
   "source": [
    "def get_mnist_labels(data_params):\n",
    "    return np.loadtxt(data_params['features_dp']+'lbls.csv')\n",
    "\n",
    "def transform_mnistsift(fv):\n",
    "    return fv[::4]\n",
    "\n",
    "def transform_slowfast(fv):\n",
    "    \"\"\"\n",
    "    Transform to be applied on feature vectors.\n",
    "    \n",
    "    Input: fv\n",
    "    fv - 1xDf torch tensor representing a feature vector\n",
    "    \n",
    "    Output: fvv\n",
    "    fvv - 1xDf' torch tensor representing the transformed feature vector\n",
    "    \"\"\"\n",
    "    \n",
    "    # for faster run and less memory usage\n",
    "    fvv = fv[::10]\n",
    "    \n",
    "    # for numerical stability during GD\n",
    "    # fvv = fvv * 10\n",
    "    \n",
    "    return fvv\n",
    "\n",
    "def transform_sift3d(fv):\n",
    "    return fv[::10]\n",
    "\n",
    "def transform_parham(fv):\n",
    "    return fv[::5]\n",
    "\n",
    "# data retrieval params\n",
    "# data_params = {'func': dh.datapoint_sift, 'lbl_func': get_mnist_labels, 'features_dp': '../../data/fe_exp/mnist-sift/', \\\n",
    "#                'spike_data': None, 'group_id': None, 'transform': transform_mnistsift, 'ind_min': 0, 'ind_max': 13203, 'feature_id':'mnist-sift'}\n",
    "\n",
    "data_params = {'func': dh.datapoint_numpy, 'lbl_func': dh.get_labels, 'features_dp': '../../data/features/slowfast/slowfast_4732_numpy/', \\\n",
    "               'spike_data': grouped_data, 'group_id': 0, 'transform': transform_slowfast, 'ind_min': 1*1141+0, 'ind_max': 2*1141-1, 'feature_id':'slowfast'}\n",
    "\n",
    "# data_params = {'func': dh.datapoint_numpy, 'lbl_func': dh.get_labels, 'features_dp': '../../data/features/sift3d/fvs_s1/', \\\n",
    "#                'spike_data': grouped_data, 'group_id': 0, 'transform': transform_sift3d, 'ind_min': 1*1141+0, 'ind_max': 2*1141-1, 'feature_id':'sift3d'}\n",
    "\n",
    "# data_params = {'func': dh.datapoint_numpy, 'lbl_func': dh.get_labels, 'features_dp': '../../data/features/parham/parham3/features_2layer/', \\\n",
    "#                'spike_data': grouped_data, 'group_id': 0, 'transform': transform_parham, 'ind_min': 1*1141+41, 'ind_max': 2*1141-1, 'feature_id':'parham'}"
   ]
  },
  {
   "cell_type": "code",
   "execution_count": 6,
   "id": "c329b36a-d151-4144-941a-dcd75ec4b79a",
   "metadata": {
    "tags": []
   },
   "outputs": [
    {
     "name": "stdout",
     "output_type": "stream",
     "text": [
      "feature_id:  slowfast\n",
      "train_num =  50 , val_num =  50\n",
      "number of features:  474\n",
      "training data contains 25 points (50.00%) of label 1.\n",
      "validation data contains 25 points (50.00%) of label 1.\n",
      "train_des =  [[2.83248091 1.9573375  1.80305851 ... 2.63181782 5.0626092  1.73198915]\n",
      " [2.85622716 1.84450686 1.83374453 ... 3.59775019 4.99465513 1.81246066]\n",
      " [2.84266281 1.91707706 2.0776329  ... 2.59656143 5.06516504 1.94811893]\n",
      " ...\n",
      " [2.804281   1.92478943 1.92925155 ... 2.58050275 5.01891279 1.70074773]\n",
      " [2.78913069 1.88559127 1.96933186 ... 2.62543321 5.04550409 1.75575078]\n",
      " [2.80804682 1.86615241 1.92949975 ... 2.58304954 5.05852318 1.93327451]] \n",
      "val_des =  [[2.81228805 1.85959542 1.89799547 ... 2.66008282 5.05984354 1.78894365]\n",
      " [2.87820601 1.88902676 1.83449078 ... 3.94310379 4.9631362  1.7618444 ]\n",
      " [2.76299763 1.95418108 2.01021791 ... 2.61140656 5.06339979 1.98884845]\n",
      " ...\n",
      " [2.82420778 1.8628298  1.96258771 ... 2.64727163 5.10923338 1.71433222]\n",
      " [2.75081801 1.89080465 1.99364614 ... 2.5847435  5.08217573 1.79683614]\n",
      " [2.79272389 1.94410622 1.95821333 ... 2.61035609 5.14971256 1.80719459]]\n"
     ]
    }
   ],
   "source": [
    "train_num = 50\n",
    "val_num = 50\n",
    "\n",
    "# # # load all the labels\n",
    "# # data_path = '../../data/fe_exp/mnist-sift/'\n",
    "# # lbls = np.loadtxt(data_path+'lbls.csv')\n",
    "\n",
    "# def transform_mnistsift(fv):\n",
    "#     return fv[::4]\n",
    "\n",
    "# def get_mnist_labels(data_params):\n",
    "#     return np.loadtxt(data_params['features_dp']+'lbls.csv')\n",
    "\n",
    "# data_params = {'func': dh.datapoint_sift, 'lbl_func': get_mnist_labels, 'features_dp': '../../data/fe_exp/mnist-sift/', \\\n",
    "#                'spike_data': None, 'group_id': None, 'transform': transform_mnistsift, 'ind_min': 0, 'ind_max': 13203, 'feature_id':'mnist-sift'}\n",
    "\n",
    "train_num, val_num, train_data, val_data = \\\n",
    "dh.random_train_val_balanced(train_num, val_num, data_params, seed=0)\n",
    "\n",
    "# optional normalization\n",
    "# train_data['des'] = dh.normalize(train_data['des'])\n",
    "# val_data['des'] = dh.normalize(val_data['des'])\n",
    "\n",
    "# show statistics\n",
    "print('feature_id: ', data_params['feature_id'])\n",
    "print('train_num = ', train_num, ', val_num = ', val_num)\n",
    "print('number of features: ', train_data['des'].shape[1])\n",
    "print('training data contains {} points ({:.2f}%) of label 1.'\n",
    "      .format(np.sum(train_data['lbls'] == 1), np.sum(train_data['lbls'] == 1)*100/train_num))\n",
    "print('validation data contains {} points ({:.2f}%) of label 1.'\n",
    "      .format(np.sum(val_data['lbls'] == 1), np.sum(val_data['lbls'] == 1)*100/val_num))\n",
    "\n",
    "# print('train_smpls = ', train_data['smpls'], '\\nval_smpls = ', val_data['smpls'])\n",
    "# print('train_lbls = ', train_data['lbls'], '\\nval_lbls = ', val_data['lbls'])\n",
    "print('train_des = ', train_data['des'], '\\nval_des = ', val_data['des'])"
   ]
  },
  {
   "cell_type": "markdown",
   "id": "4908f327-6876-45e5-bdd2-1a2bbac2adfa",
   "metadata": {},
   "source": [
    "# Set parameters"
   ]
  },
  {
   "cell_type": "code",
   "execution_count": 7,
   "id": "f54c1a38-13c6-4c14-ac57-575a404a587e",
   "metadata": {},
   "outputs": [],
   "source": [
    "# visualize the learned metric matrix\n",
    "def visualize_M(M, fig_params):\n",
    "    # unpack params\n",
    "    rmark_th = fig_params['rmark_th']\n",
    "    xloc = fig_params['xloc']\n",
    "    yloc = fig_params['yloc']\n",
    "\n",
    "    sg.display_matrix(M, None)\n",
    "    # mark prominent elements          \n",
    "    lim = (rmark_th/100) * np.max(M) # marker threshold                \n",
    "    plt.plot(xloc[M > lim],yloc[M > lim], marker='o', markersize=3, color='r', linestyle='')\n",
    "    plt.title('M - marked above {}%'.format(rmark_th))"
   ]
  },
  {
   "cell_type": "code",
   "execution_count": 8,
   "id": "665b808c-437f-4001-8e09-92a1674a16b9",
   "metadata": {
    "tags": []
   },
   "outputs": [],
   "source": [
    "# graph construction parameters (common for all three methods)\n",
    "sg_params = {'Dt': None, 'Dv':None, 'Dvt':2000, 'mu':30,\\\n",
    "             'cnstr_method_tt': 'time-glr', 'cnstr_method_vv': 'time-glr', 'cnstr_method_vt': 'time',\\\n",
    "             'train_t': None, 'val_t': None, \\\n",
    "             'edges_tt':None, 'edges_vv':None, 'edges_vt':None, }\n",
    "\n",
    "# gradient descent parameters (only used for factobj1)\n",
    "gd_opt_params = { 'epsilon0':1, 'epsilon_decay':0.5, 'epsilon_jump': 1.7, \\\n",
    "                'num_its':100, 'check_freq':10, 'print_checks':True, 'Theta0':None, \\\n",
    "                'force_all_its': True, 'threshold': -1}\n",
    "\n",
    "# random parameter for edge selection and B initialization\n",
    "seed = 0"
   ]
  },
  {
   "cell_type": "code",
   "execution_count": 9,
   "id": "d969f3d1-425a-4a88-9491-70fb8cbe2d72",
   "metadata": {
    "tags": []
   },
   "outputs": [],
   "source": [
    "# parameters to visualize the optimized M\n",
    "f_sz = train_data['des'].shape[1] # must match data_params\n",
    "xloc = np.broadcast_to(np.arange(f_sz), (f_sz, f_sz))\n",
    "yloc = xloc.T\n",
    "fig_params = {'rmark_th': 30, 'f_sz': f_sz, 'xloc': xloc, 'yloc': yloc}"
   ]
  },
  {
   "cell_type": "code",
   "execution_count": 10,
   "id": "d5ddda40-8d5d-4b8d-9691-de00f6e9c40d",
   "metadata": {
    "tags": []
   },
   "outputs": [],
   "source": [
    "# update sg_params\n",
    "sg_params['train_t'] = train_data['smpls']\n",
    "sg_params['val_t'] = val_data['smpls']\n",
    "\n",
    "# set edges\n",
    "sg_params['edges_tt'] = sg.get_edges_tt(train_data['lbls'], sg_params['Dt'], sg_params['cnstr_method_tt'], sg_params['train_t'], seed)"
   ]
  },
  {
   "cell_type": "code",
   "execution_count": 11,
   "id": "2ac7dc28-cebb-4219-bedc-17fd8887ce51",
   "metadata": {
    "scrolled": true,
    "tags": []
   },
   "outputs": [
    {
     "data": {
      "text/plain": [
       "625"
      ]
     },
     "execution_count": 11,
     "metadata": {},
     "output_type": "execute_result"
    }
   ],
   "source": [
    "len(sg_params['edges_tt'])"
   ]
  },
  {
   "cell_type": "markdown",
   "id": "8496a941-59f4-44b7-9dec-74f8b3fa670c",
   "metadata": {},
   "source": [
    "## Fact-GLR&trace"
   ]
  },
  {
   "cell_type": "code",
   "execution_count": null,
   "id": "ac6cce72-c94b-462e-8472-33a655eb0c7f",
   "metadata": {
    "scrolled": true,
    "tags": []
   },
   "outputs": [
    {
     "name": "stdout",
     "output_type": "stream",
     "text": [
      "Number of training datapoints: 50\n",
      "Number of features for each point: 474\n",
      "mu = 30\n",
      "   0: eps = 1.66e-03;  train loss (E) = 649.77\n",
      "  10: eps = 5.23e-03;  train loss (E) = 80.92\n",
      "  20: eps = 4.12e-03;  train loss (E) = 79.33\n",
      "  30: eps = 6.49e-03;  train loss (E) = 78.84\n"
     ]
    }
   ],
   "source": [
    "# fit the graph\n",
    "time0 = time.time()\n",
    "gd_opt_params['Theta0'] = None\n",
    "fact_B, fact_stats = sg.fit_graph(train_data['des'], train_data['lbls'], sg_params, gd_opt_params, seed)\n",
    "fact_M = fact_B.T @ fact_B\n",
    "print('Elapsed  time: {:.6f} sec'.format(time.time()-time0))"
   ]
  },
  {
   "cell_type": "code",
   "execution_count": null,
   "id": "93210027-e79a-4681-abcd-fca1d5e8411e",
   "metadata": {
    "scrolled": true,
    "tags": []
   },
   "outputs": [],
   "source": [
    "visualize_M(fact_M, fig_params)"
   ]
  },
  {
   "cell_type": "code",
   "execution_count": null,
   "id": "0b5d921a-2ad7-4828-b234-3059fb9a1a87",
   "metadata": {},
   "outputs": [],
   "source": [
    "train_num, val_num, train_data2, val_data2 = \\\n",
    "dh.random_train_val_balanced(train_num, val_num, data_params, seed=123)\n",
    "\n",
    "# random parameter for edge selection and B initialization\n",
    "seed = 123\n",
    "\n",
    "# update sg_params\n",
    "sg_params['train_t'] = train_data2['smpls']\n",
    "sg_params['val_t'] = val_data2['smpls']\n",
    "\n",
    "# set edges\n",
    "sg_params['edges_tt'] = sg.get_edges_tt(train_data2['lbls'], sg_params['Dt'], sg_params['cnstr_method_tt'], sg_params['train_t'], seed)"
   ]
  },
  {
   "cell_type": "code",
   "execution_count": null,
   "id": "ea9cc1fd-68db-4eac-bf16-51e8175cc147",
   "metadata": {},
   "outputs": [],
   "source": [
    "# fit the graph\n",
    "time0 = time.time()\n",
    "gd_opt_params['Theta0'] = None\n",
    "fact_B2, fact_stats2 = sg.fit_graph(train_data2['des'], train_data2['lbls'], sg_params, gd_opt_params, seed)\n",
    "fact_M2 = fact_B2.T @ fact_B2\n",
    "print('Elapsed  time: {:.6f} sec'.format(time.time()-time0))\n",
    "visualize_M(fact_M2, fig_params)"
   ]
  },
  {
   "cell_type": "code",
   "execution_count": null,
   "id": "4ca24826-9ea8-49da-a5a9-2ad9f5cea331",
   "metadata": {},
   "outputs": [],
   "source": [
    "# unpack params\n",
    "rmark_th = fig_params['rmark_th']\n",
    "xloc = fig_params['xloc']\n",
    "yloc = fig_params['yloc']\n",
    "\n",
    "plt.figure(figsize=(9,4))\n",
    "plt.subplot(1,2,1)\n",
    "plt.imshow(fact_M, vmin=min(np.min(fact_M), np.min(fact_M2)), vmax=max(np.max(fact_M), np.max(fact_M2)))\n",
    "plt.colorbar()   \n",
    "lim = (rmark_th/100) * np.max(fact_M) # marker threshold                \n",
    "plt.plot(xloc[fact_M > lim],yloc[fact_M > lim], marker='o', markersize=3, color='r', linestyle='')\n",
    "plt.title('M - marked above {}%'.format(rmark_th))\n",
    "\n",
    "plt.subplot(1,2,2)\n",
    "plt.imshow(fact_M2, vmin=min(np.min(fact_M), np.min(fact_M2)), vmax=max(np.max(fact_M), np.max(fact_M2)))\n",
    "plt.colorbar()   \n",
    "lim = (rmark_th/100) * np.max(fact_M2) # marker threshold                \n",
    "plt.plot(xloc[fact_M2 > lim],yloc[fact_M2 > lim], marker='o', markersize=3, color='r', linestyle='')\n",
    "plt.title('M - marked above {}%'.format(rmark_th))\n",
    "plt.savefig('image/Ms.png',dpi=300, bbox_inches = \"tight\")"
   ]
  },
  {
   "cell_type": "code",
   "execution_count": null,
   "id": "7b49be28-79ba-4203-b7aa-0ebabee593bf",
   "metadata": {},
   "outputs": [],
   "source": []
  },
  {
   "cell_type": "code",
   "execution_count": null,
   "id": "800ee1ca-ec81-4802-8858-c39c6f0d6a8d",
   "metadata": {},
   "outputs": [],
   "source": []
  },
  {
   "cell_type": "code",
   "execution_count": null,
   "id": "7e02f9ee-e915-476a-b7ef-4be48b9e777b",
   "metadata": {},
   "outputs": [],
   "source": []
  },
  {
   "cell_type": "code",
   "execution_count": null,
   "id": "61481e11-5f23-4814-aaaf-cb53f141994b",
   "metadata": {},
   "outputs": [],
   "source": []
  },
  {
   "cell_type": "code",
   "execution_count": null,
   "id": "95ac8176-e457-48f2-a062-5e9e046da1ee",
   "metadata": {},
   "outputs": [],
   "source": []
  },
  {
   "cell_type": "code",
   "execution_count": null,
   "id": "fc8f01a7-59a0-41db-a04a-31bfe1ea88ff",
   "metadata": {},
   "outputs": [],
   "source": []
  },
  {
   "cell_type": "code",
   "execution_count": null,
   "id": "d519ba13-b432-4768-8628-ecdf8a2be343",
   "metadata": {},
   "outputs": [],
   "source": []
  },
  {
   "cell_type": "code",
   "execution_count": null,
   "id": "5e9e5e95-c7ee-4c8f-8266-5b903d7917f1",
   "metadata": {},
   "outputs": [],
   "source": []
  },
  {
   "cell_type": "code",
   "execution_count": null,
   "id": "e9d25e2e-a6fe-435e-bd8b-7233c2e983b9",
   "metadata": {},
   "outputs": [],
   "source": []
  },
  {
   "cell_type": "code",
   "execution_count": null,
   "id": "7e33006d-2d16-4c06-b995-8b2ae85b28c7",
   "metadata": {},
   "outputs": [],
   "source": []
  },
  {
   "cell_type": "code",
   "execution_count": null,
   "id": "2e1dcfbc-0921-45fe-b2fa-cfbaba1efa79",
   "metadata": {},
   "outputs": [],
   "source": []
  },
  {
   "cell_type": "code",
   "execution_count": null,
   "id": "434250bc-4dbd-4ecb-9531-84fc0983346e",
   "metadata": {},
   "outputs": [],
   "source": []
  },
  {
   "cell_type": "code",
   "execution_count": null,
   "id": "824200ca-fdde-4297-8572-e65f99e91b7b",
   "metadata": {},
   "outputs": [],
   "source": []
  },
  {
   "cell_type": "code",
   "execution_count": null,
   "id": "f4023d38-6922-4b88-8380-4e08acaddad3",
   "metadata": {},
   "outputs": [],
   "source": []
  },
  {
   "cell_type": "code",
   "execution_count": null,
   "id": "215ec085-6dfb-4c6f-80b6-12384de7cc53",
   "metadata": {},
   "outputs": [],
   "source": []
  },
  {
   "cell_type": "code",
   "execution_count": null,
   "id": "a36fa585-077e-46ab-884b-3c4f07b22508",
   "metadata": {},
   "outputs": [],
   "source": []
  },
  {
   "cell_type": "code",
   "execution_count": null,
   "id": "2bd882dd-0554-4c1b-ae8f-e96652a74faf",
   "metadata": {},
   "outputs": [],
   "source": []
  },
  {
   "cell_type": "code",
   "execution_count": null,
   "id": "d94caac5-72a0-4e90-9448-1db01fadcda8",
   "metadata": {},
   "outputs": [],
   "source": []
  },
  {
   "cell_type": "code",
   "execution_count": null,
   "id": "933bbe06-58a8-4502-86b2-57141539f29f",
   "metadata": {},
   "outputs": [],
   "source": []
  },
  {
   "cell_type": "code",
   "execution_count": null,
   "id": "77c0668d-1087-46cb-9b87-ff3a5e92e829",
   "metadata": {},
   "outputs": [],
   "source": []
  },
  {
   "cell_type": "code",
   "execution_count": null,
   "id": "b9df67e6-26a7-4d59-92dd-a21f4059cf9b",
   "metadata": {},
   "outputs": [],
   "source": []
  },
  {
   "cell_type": "code",
   "execution_count": null,
   "id": "66c2912d-1842-4805-b6fd-c5ece8a9fbc0",
   "metadata": {},
   "outputs": [],
   "source": []
  },
  {
   "cell_type": "code",
   "execution_count": null,
   "id": "4d30b97f-5ed6-4812-9618-a643a653dc2d",
   "metadata": {},
   "outputs": [],
   "source": []
  },
  {
   "cell_type": "code",
   "execution_count": null,
   "id": "481f9bcd-4745-4d95-adba-991ec1ce8d03",
   "metadata": {},
   "outputs": [],
   "source": []
  },
  {
   "cell_type": "code",
   "execution_count": null,
   "id": "07db40c3-7510-48e1-af36-4e1c8285666c",
   "metadata": {},
   "outputs": [],
   "source": []
  },
  {
   "cell_type": "code",
   "execution_count": null,
   "id": "0e710320-f4ed-41b6-9975-dfd5922934c0",
   "metadata": {},
   "outputs": [],
   "source": []
  },
  {
   "cell_type": "code",
   "execution_count": null,
   "id": "3c7d192a-a057-4877-bda0-a3531c43240f",
   "metadata": {},
   "outputs": [],
   "source": []
  },
  {
   "cell_type": "code",
   "execution_count": null,
   "id": "e692897a-a953-4b0c-ab82-9cced785b28a",
   "metadata": {},
   "outputs": [],
   "source": []
  }
 ],
 "metadata": {
  "kernelspec": {
   "display_name": "Python 3 (ipykernel)",
   "language": "python",
   "name": "python3"
  },
  "language_info": {
   "codemirror_mode": {
    "name": "ipython",
    "version": 3
   },
   "file_extension": ".py",
   "mimetype": "text/x-python",
   "name": "python",
   "nbconvert_exporter": "python",
   "pygments_lexer": "ipython3",
   "version": "3.9.12"
  }
 },
 "nbformat": 4,
 "nbformat_minor": 5
}
