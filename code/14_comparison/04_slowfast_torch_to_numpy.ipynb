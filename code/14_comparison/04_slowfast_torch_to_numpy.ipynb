{
 "cells": [
  {
   "cell_type": "markdown",
   "id": "dae5cd24-a150-4357-90a7-44e70b00c2d5",
   "metadata": {},
   "source": [
    "Convert slowfast-4732 features from pytorch tensors to numpy arrays\n",
    "\n",
    "Required to solve an issue in 03_mnist_sift_nn_lgrg_assess.ipynb when using slowfast features. \n",
    "\n",
    "Date: May 10, 2023"
   ]
  },
  {
   "cell_type": "code",
   "execution_count": 2,
   "id": "445d3778-bd63-442b-805f-991c808f21ff",
   "metadata": {
    "tags": []
   },
   "outputs": [],
   "source": [
    "import numpy as np\n",
    "import torch"
   ]
  },
  {
   "cell_type": "code",
   "execution_count": 4,
   "id": "9cbb2564-2c48-4e33-9ffd-067822f1e95f",
   "metadata": {
    "tags": []
   },
   "outputs": [],
   "source": [
    "torch_path = '../../data/features/slowfast/slowfast_4732/'\n",
    "numpy_path = '../../data/features/slowfast/slowfast_4732_numpy/'"
   ]
  },
  {
   "cell_type": "code",
   "execution_count": 18,
   "id": "340b889e-75fb-4a5c-bc7f-5dced3cb7f1c",
   "metadata": {
    "tags": []
   },
   "outputs": [],
   "source": [
    "for frame in range(1141):\n",
    "    fv = torch.load(torch_path+'fv_'+str(frame)+'.pt')\n",
    "    fv = fv.detach().numpy().reshape(-1)\n",
    "    np.savetxt(numpy_path+'fv_'+str(frame)+'.csv', fv)"
   ]
  },
  {
   "cell_type": "code",
   "execution_count": null,
   "id": "00cbf9eb-6296-429c-b4f6-826f06df4b3d",
   "metadata": {},
   "outputs": [],
   "source": []
  },
  {
   "cell_type": "code",
   "execution_count": null,
   "id": "fd626b98-df6e-40e9-9ffc-7984a3c67a2b",
   "metadata": {},
   "outputs": [],
   "source": []
  },
  {
   "cell_type": "code",
   "execution_count": null,
   "id": "c7aaa1b8-b175-40ce-8c22-6d15b509e96d",
   "metadata": {},
   "outputs": [],
   "source": []
  },
  {
   "cell_type": "code",
   "execution_count": null,
   "id": "ecef9287-b15d-46a8-b577-d616a2546372",
   "metadata": {},
   "outputs": [],
   "source": []
  }
 ],
 "metadata": {
  "kernelspec": {
   "display_name": "Python 3 (ipykernel)",
   "language": "python",
   "name": "python3"
  },
  "language_info": {
   "codemirror_mode": {
    "name": "ipython",
    "version": 3
   },
   "file_extension": ".py",
   "mimetype": "text/x-python",
   "name": "python",
   "nbconvert_exporter": "python",
   "pygments_lexer": "ipython3",
   "version": "3.9.13"
  }
 },
 "nbformat": 4,
 "nbformat_minor": 5
}
