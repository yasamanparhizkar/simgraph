{
 "cells": [
  {
   "cell_type": "code",
   "execution_count": 1,
   "id": "97d42bff-5b6f-4620-bbed-aa799830e061",
   "metadata": {
    "tags": []
   },
   "outputs": [],
   "source": [
    "import numpy as np\n",
    "import matplotlib.pyplot as plt\n",
    "# import time\n",
    "\n",
    "# add the path to my packages to system paths so they can be imported\n",
    "import sys\n",
    "sys.path.append('/home/yasamanparhizkar/Documents/yorku/01_thesis/code/my_packages')\n",
    "# sys.path.append('F:\\MAScThesis\\code\\my_packages')\n",
    "# sys.path.append('/home/yasamanparhizkar/Documents/thesis/code/my_packages')\n",
    "\n",
    "# import compare_with_benchmark as bn\n",
    "# import my_simgraph_07 as sg\n",
    "import data_handler_03 as dh"
   ]
  },
  {
   "cell_type": "markdown",
   "id": "2abe3888-eb5e-4380-9cde-83bc21bd4f19",
   "metadata": {},
   "source": [
    "# Load and group spike data\n",
    "\n",
    "Spike data shape:  (297, 1141, 113) $\\implies$ (movie repeats, frames/time, neurons)\n",
    "<br>\n",
    "Labels are 1 (= spike) or -1 (= no spike).\n",
    "<br>\n",
    "Grouping all 113 neurons together will create a more balanced dataset which is presumabley easier to solve.\n",
    "<br>\n",
    "Grouped data shape:  (297, 1141, 1) $\\implies$ (movie repeats, frames/time, group)"
   ]
  },
  {
   "cell_type": "code",
   "execution_count": 2,
   "id": "0acef49f-ef79-4c57-b58a-f0497efc2c05",
   "metadata": {
    "tags": []
   },
   "outputs": [
    {
     "name": "stdout",
     "output_type": "stream",
     "text": [
      "grouped_data.shape  =  (297, 1141, 1)\n",
      "Note: grouped_data[i,j,0] in {-1, 1}\n"
     ]
    }
   ],
   "source": [
    "# load all spike data from file\n",
    "spikes_dp = '../../data/original_files/spikes.csv'\n",
    "binned_data = np.loadtxt(spikes_dp, delimiter=',')\n",
    "binned_data = binned_data.reshape(binned_data.shape[0], 1141, 113)\n",
    "binned_data = binned_data * 2 - 1     # turn labels from 0,1 to -1,1\n",
    "\n",
    "I_order_10 = [54, 35, 10, 60, 74, 9, 61, 56, 91, 104]\n",
    "\n",
    "# group all neurons together\n",
    "grouped_data = np.zeros((297, 1141, 1))\n",
    "for trial in range(297):\n",
    "    for frame in range(1141):\n",
    "        grouped_data[trial, frame, :] = 2 * int((binned_data[trial, frame, :] == 1).any()) - 1\n",
    "        \n",
    "print('grouped_data.shape  = ', grouped_data.shape)\n",
    "print('Note: grouped_data[i,j,0] in {-1, 1}')"
   ]
  },
  {
   "cell_type": "markdown",
   "id": "47b839fd-c6a0-41b4-a11a-6f76324007a7",
   "metadata": {},
   "source": [
    "# Create training and validation datasets"
   ]
  },
  {
   "cell_type": "code",
   "execution_count": 3,
   "id": "48fc8b0b-9486-4bb9-8c93-ca54c21c98f9",
   "metadata": {
    "tags": []
   },
   "outputs": [
    {
     "ename": "TypeError",
     "evalue": "random_train_val_balanced() got multiple values for argument 'seed'",
     "output_type": "error",
     "traceback": [
      "\u001b[0;31m---------------------------------------------------------------------------\u001b[0m",
      "\u001b[0;31mTypeError\u001b[0m                                 Traceback (most recent call last)",
      "Cell \u001b[0;32mIn [3], line 32\u001b[0m\n\u001b[1;32m     26\u001b[0m     \u001b[38;5;28;01mreturn\u001b[39;00m fvv\n\u001b[1;32m     28\u001b[0m data_params \u001b[38;5;241m=\u001b[39m {\u001b[38;5;124m'\u001b[39m\u001b[38;5;124mfunc\u001b[39m\u001b[38;5;124m'\u001b[39m: dh\u001b[38;5;241m.\u001b[39mdatapoint_torch, \u001b[38;5;124m'\u001b[39m\u001b[38;5;124mlbl_func\u001b[39m\u001b[38;5;124m'\u001b[39m: dh\u001b[38;5;241m.\u001b[39mget_labels, \u001b[38;5;124m'\u001b[39m\u001b[38;5;124mfeatures_dp\u001b[39m\u001b[38;5;124m'\u001b[39m: \u001b[38;5;124m'\u001b[39m\u001b[38;5;124m../../../data/features/slowfast/slowfast_4732/\u001b[39m\u001b[38;5;124m'\u001b[39m, \\\n\u001b[1;32m     29\u001b[0m                \u001b[38;5;124m'\u001b[39m\u001b[38;5;124mspike_data\u001b[39m\u001b[38;5;124m'\u001b[39m: grouped_data, \u001b[38;5;124m'\u001b[39m\u001b[38;5;124mgroup_id\u001b[39m\u001b[38;5;124m'\u001b[39m: \u001b[38;5;241m0\u001b[39m, \u001b[38;5;124m'\u001b[39m\u001b[38;5;124mtransform\u001b[39m\u001b[38;5;124m'\u001b[39m: transform}\n\u001b[1;32m     31\u001b[0m train_num, val_num, train_data, val_data \u001b[38;5;241m=\u001b[39m \\\n\u001b[0;32m---> 32\u001b[0m \u001b[43mdh\u001b[49m\u001b[38;5;241;43m.\u001b[39;49m\u001b[43mrandom_train_val_balanced\u001b[49m\u001b[43m(\u001b[49m\u001b[43mtrain_num\u001b[49m\u001b[43m,\u001b[49m\u001b[43m \u001b[49m\u001b[43mval_num\u001b[49m\u001b[43m,\u001b[49m\u001b[43m \u001b[49m\u001b[43mind_min\u001b[49m\u001b[43m,\u001b[49m\u001b[43m \u001b[49m\u001b[43mind_max\u001b[49m\u001b[43m,\u001b[49m\u001b[43m \u001b[49m\u001b[43mdata_params\u001b[49m\u001b[43m,\u001b[49m\u001b[43m \u001b[49m\u001b[43mseed\u001b[49m\u001b[38;5;241;43m=\u001b[39;49m\u001b[38;5;241;43m1342\u001b[39;49m\u001b[43m)\u001b[49m\n\u001b[1;32m     34\u001b[0m \u001b[38;5;66;03m# show statistics\u001b[39;00m\n\u001b[1;32m     35\u001b[0m \u001b[38;5;28mprint\u001b[39m(\u001b[38;5;124m'\u001b[39m\u001b[38;5;124mtrain_num = \u001b[39m\u001b[38;5;124m'\u001b[39m, train_num, \u001b[38;5;124m'\u001b[39m\u001b[38;5;124m, val_num = \u001b[39m\u001b[38;5;124m'\u001b[39m, val_num)\n",
      "\u001b[0;31mTypeError\u001b[0m: random_train_val_balanced() got multiple values for argument 'seed'"
     ]
    }
   ],
   "source": [
    "# only consider the second trial\n",
    "ind_min = 1*1141+0\n",
    "ind_max = 2*1141-1\n",
    "# train_num = int(data_num*0.8)\n",
    "# val_num = data_num - train_num\n",
    "train_num = 300\n",
    "val_num = 10\n",
    "\n",
    "def transform(fv):\n",
    "    \"\"\"\n",
    "    Transform to be applied on feature vectors.\n",
    "    \n",
    "    Input: fv\n",
    "    fv - 1xDf torch tensor representing a feature vector\n",
    "    \n",
    "    Output: fvv\n",
    "    fvv - 1xDf' torch tensor representing the transformed feature vector\n",
    "    \"\"\"\n",
    "    \n",
    "    # for faster run and less memory usage\n",
    "    fvv = fv[:, ::10]\n",
    "    \n",
    "    # for numerical stability during GD\n",
    "    # fvv = fvv * 10\n",
    "    \n",
    "    return fvv\n",
    "\n",
    "data_params = {'func': dh.datapoint_torch, 'lbl_func': dh.get_labels, 'features_dp': '../../../data/features/slowfast/slowfast_4732/', \\\n",
    "               'spike_data': grouped_data, 'group_id': 0, 'transform': transform}\n",
    "\n",
    "train_num, val_num, train_data, val_data = \\\n",
    "dh.random_train_val_balanced(train_num, val_num, ind_min, ind_max, data_params, seed=1342)\n",
    "\n",
    "# show statistics\n",
    "print('train_num = ', train_num, ', val_num = ', val_num)\n",
    "print('training data contains {} points ({:.2f}%) of label 1.'\n",
    "      .format(np.sum(train_data['lbls'] == 1), np.sum(train_data['lbls'] == 1)*100/train_num))\n",
    "print('validation data contains {} points ({:.2f}%) of label 1.'\n",
    "      .format(np.sum(val_data['lbls'] == 1), np.sum(val_data['lbls'] == 1)*100/val_num))\n",
    "\n",
    "# print('train_smpls = ', train_data['smpls'], '\\nval_smpls = ', val_data['smpls'])\n",
    "# print('train_lbls = ', train_data['lbls'], '\\nval_lbls = ', val_data['lbls'])\n",
    "# print('train_des = ', train_data['des'], '\\nval_des = ', val_data['des'])"
   ]
  },
  {
   "cell_type": "code",
   "execution_count": null,
   "id": "539b0ef5-904e-4f06-b31b-6672086c186e",
   "metadata": {},
   "outputs": [],
   "source": []
  },
  {
   "cell_type": "code",
   "execution_count": null,
   "id": "807dfa31-9ef0-467b-9259-50dec1c16a0d",
   "metadata": {},
   "outputs": [],
   "source": []
  },
  {
   "cell_type": "code",
   "execution_count": null,
   "id": "51614b40-2ce2-4b2a-8ff5-c617150e52e7",
   "metadata": {},
   "outputs": [],
   "source": []
  },
  {
   "cell_type": "code",
   "execution_count": null,
   "id": "28a75b72-2a6d-4664-b9d9-c57a8782d476",
   "metadata": {},
   "outputs": [],
   "source": []
  },
  {
   "cell_type": "code",
   "execution_count": null,
   "id": "3834d5d5-cde4-4354-abbc-7822c284c8c2",
   "metadata": {},
   "outputs": [],
   "source": []
  },
  {
   "cell_type": "code",
   "execution_count": null,
   "id": "9632de7a-6f81-46d1-b3c3-7e91a4b81735",
   "metadata": {},
   "outputs": [],
   "source": []
  },
  {
   "cell_type": "code",
   "execution_count": null,
   "id": "0c35e54a-a574-4fc8-9303-2863b638bf87",
   "metadata": {},
   "outputs": [],
   "source": []
  },
  {
   "cell_type": "code",
   "execution_count": null,
   "id": "8afa93c3-9b5c-4806-b5b8-b7fa6502049e",
   "metadata": {},
   "outputs": [],
   "source": []
  },
  {
   "cell_type": "code",
   "execution_count": null,
   "id": "9e4598fd-d03f-4900-9a15-0ae92e0465d3",
   "metadata": {},
   "outputs": [],
   "source": []
  },
  {
   "cell_type": "code",
   "execution_count": null,
   "id": "60d5063e-7762-4703-b4d4-7fb7b5af9ccd",
   "metadata": {},
   "outputs": [],
   "source": []
  },
  {
   "cell_type": "code",
   "execution_count": null,
   "id": "937c713c-2124-4d39-bba8-aa2b815616d9",
   "metadata": {},
   "outputs": [],
   "source": []
  },
  {
   "cell_type": "code",
   "execution_count": null,
   "id": "db38cddf-7126-46b6-891a-618ff3c9b941",
   "metadata": {},
   "outputs": [],
   "source": []
  },
  {
   "cell_type": "code",
   "execution_count": null,
   "id": "f63a8a43-0485-4b9f-92f0-6bcbfa4b54ed",
   "metadata": {},
   "outputs": [],
   "source": []
  },
  {
   "cell_type": "code",
   "execution_count": null,
   "id": "f7d0d7d4-01bd-4067-9d01-b23169260e83",
   "metadata": {},
   "outputs": [],
   "source": []
  },
  {
   "cell_type": "code",
   "execution_count": null,
   "id": "f8fc39b1-736e-48b4-b851-45756adfa9fa",
   "metadata": {},
   "outputs": [],
   "source": []
  },
  {
   "cell_type": "code",
   "execution_count": null,
   "id": "f76037a3-03fe-47be-8654-19cf7c637b2c",
   "metadata": {},
   "outputs": [],
   "source": []
  },
  {
   "cell_type": "code",
   "execution_count": null,
   "id": "6ecd5b34-81b2-49a2-b649-ee32ce5d0384",
   "metadata": {},
   "outputs": [],
   "source": []
  },
  {
   "cell_type": "code",
   "execution_count": null,
   "id": "df11bc8a-2fb0-49b4-a225-3c0304d420f0",
   "metadata": {},
   "outputs": [],
   "source": []
  },
  {
   "cell_type": "code",
   "execution_count": null,
   "id": "80faa90e-0500-43e4-aa1e-632b1e0d6d3a",
   "metadata": {},
   "outputs": [],
   "source": []
  },
  {
   "cell_type": "code",
   "execution_count": null,
   "id": "ca273774-c793-4874-b33b-8a230786ba58",
   "metadata": {},
   "outputs": [],
   "source": []
  },
  {
   "cell_type": "code",
   "execution_count": null,
   "id": "81bd898e-b1f8-491b-836a-a5671dc77026",
   "metadata": {},
   "outputs": [],
   "source": []
  },
  {
   "cell_type": "code",
   "execution_count": null,
   "id": "4c246958-c0d0-4d26-8945-0be0ed8effde",
   "metadata": {},
   "outputs": [],
   "source": []
  },
  {
   "cell_type": "code",
   "execution_count": null,
   "id": "1bb11f5b-729a-4571-a3b1-8ecf73e8aaaa",
   "metadata": {},
   "outputs": [],
   "source": []
  },
  {
   "cell_type": "code",
   "execution_count": null,
   "id": "a6aa50a6-e586-4a44-8588-e60186d15171",
   "metadata": {},
   "outputs": [],
   "source": []
  },
  {
   "cell_type": "code",
   "execution_count": null,
   "id": "5582ef20-d05a-4c04-8481-19630989d177",
   "metadata": {},
   "outputs": [],
   "source": []
  },
  {
   "cell_type": "code",
   "execution_count": null,
   "id": "707992f1-d18b-47b6-b400-7a0702fe5816",
   "metadata": {},
   "outputs": [],
   "source": []
  },
  {
   "cell_type": "code",
   "execution_count": null,
   "id": "3ad8ff5f-4a12-406b-b303-cf9dd72cb4d8",
   "metadata": {},
   "outputs": [],
   "source": []
  },
  {
   "cell_type": "code",
   "execution_count": null,
   "id": "e3026430-2b81-4da0-8179-65ed990afb62",
   "metadata": {},
   "outputs": [],
   "source": []
  },
  {
   "cell_type": "code",
   "execution_count": null,
   "id": "7f8edb33-409f-4e60-8db2-9da00723ddb8",
   "metadata": {},
   "outputs": [],
   "source": []
  },
  {
   "cell_type": "code",
   "execution_count": null,
   "id": "328b4263-39a1-4333-88bf-4d00e25336b7",
   "metadata": {},
   "outputs": [],
   "source": []
  }
 ],
 "metadata": {
  "kernelspec": {
   "display_name": "Python 3 (ipykernel)",
   "language": "python",
   "name": "python3"
  },
  "language_info": {
   "codemirror_mode": {
    "name": "ipython",
    "version": 3
   },
   "file_extension": ".py",
   "mimetype": "text/x-python",
   "name": "python",
   "nbconvert_exporter": "python",
   "pygments_lexer": "ipython3",
   "version": "3.9.13"
  }
 },
 "nbformat": 4,
 "nbformat_minor": 5
}
