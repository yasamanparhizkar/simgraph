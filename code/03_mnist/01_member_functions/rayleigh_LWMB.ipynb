{
 "cells": [
  {
   "cell_type": "code",
   "execution_count": 4,
   "id": "35a1f0ec",
   "metadata": {},
   "outputs": [],
   "source": [
    "import numpy as np\n",
    "import matplotlib.pyplot as plt"
   ]
  },
  {
   "cell_type": "code",
   "execution_count": 5,
   "id": "5e2b5341",
   "metadata": {},
   "outputs": [],
   "source": [
    "def rayleigh_LWMB(B, f, x, deriv=False):\n",
    "    \"\"\" \n",
    "    Compute Rayleigh quotient and its derivative w.r.t. B\n",
    "    Assuming M = B^T @ B\n",
    "    \n",
    "    Input: B, f, x, deriv\n",
    "    B - NxN matrix of parameters determining the covariance matrix (M=B.T @ B)\n",
    "    f - CxN matrix of feature vectors (Cx1) for all N training images\n",
    "    x - Nx1 vector of image labels (1 for 1; -1 for 0)\n",
    "    deriv - whether or not to compute and do the derivative\n",
    "    \n",
    "    Output: if deriv: r, dr\n",
    "                else: r\n",
    "    r - value of un-normalized Rayleigh quotient (x.T @ L @ x)\n",
    "    dr - derivative of un-normalized Rayleight quotient w.r.t. B\n",
    "    \"\"\"\n",
    "    \n",
    "    # Some additional matrices:\n",
    "    # F - NxNxC matrix of difference of feature vectors for each pair of training images\n",
    "    # M - CxC matrix of covariance of each pair of training images; M = B.T @ B\n",
    "    # W - NxN adjacency matrix of the graph; w_ij = exp((F_ij.T @ M @ F_ij) / (F_ij.T @ F_ij))\n",
    "    # D - NxN degree matrix of graph; D = diag(W @ 1)\n",
    "    # L - NxN graph laplacian matrix; L = D - W\n",
    "    # Q - NxN auxiliary matrix to compute dr\n",
    "    # X - NxN auxiliary matrix to compute dr\n",
    "    \n",
    "    # create F\n",
    "    f_sz, num_train = f.shape\n",
    "    Fj = np.broadcast_to([f.T], (num_train, num_train, f_sz))\n",
    "    Fi = np.transpose(Fj, (1,0,2))\n",
    "    F = Fi - Fj\n",
    "    \n",
    "    # create M\n",
    "    M = B.T @ B\n",
    "\n",
    "    # create W and Q\n",
    "    W = np.zeros((num_train, num_train))\n",
    "    Q = np.zeros((num_train, num_train))\n",
    "    for i in range(num_train):\n",
    "        for j in range(num_train):\n",
    "            if i==j:\n",
    "                W[i][j] = 0\n",
    "                Q[i][j] = 0\n",
    "            else:\n",
    "                phi_sq = np.sum(F[i][j].T @ F[i][j]) + 0.01\n",
    "                W[i][j] = np.exp((F[i][j].T @ M @ F[i][j])/phi_sq)\n",
    "                Q[i][j] = (1/phi_sq) * W[i][j]\n",
    "    \n",
    "            \n",
    "#     # create W - EACH ROUND TAKES ABOUT 10 MIN; MAYBE LESS MEMORY USAGE\n",
    "#     fmf = np.einsum('ija,ijk,ak->ij',F,F,M)\n",
    "#     nrmsq_f = np.einsum('ijk,ijk->ij',F,F)\n",
    "#     W = np.exp(fmf / nrmsq_f)\n",
    "    \n",
    "#     # create W - KERNEL DIES\n",
    "#     temp = np.tensordot(F,M, axes=([2],[1]))\n",
    "#     fmf = np.sum(F * temp, axis=2)\n",
    "#     nrmsq_f = np.sum(F * F, axis=2)\n",
    "#     W = np.exp(fmf/nrmsq_f)\n",
    "            \n",
    "    # create L\n",
    "    D = np.diag(W @ np.ones(num_train))\n",
    "    L = D - W\n",
    "    \n",
    "    # calculate r\n",
    "    r = x.T @ L @ x\n",
    "    \n",
    "    \n",
    "    if deriv:\n",
    "        \n",
    "        # create X\n",
    "        X = np.broadcast_to([x], (len(x), len(x))).T\n",
    "        X = ((X - X.T)**2)\n",
    "        \n",
    "        # calculate drdM - TAKES TOO LONG\n",
    "        QX = np.multiply(Q, X)\n",
    "        drdM = np.zeros((f_sz, f_sz))\n",
    "        for s in range(f_sz):\n",
    "            for t in range(f_sz):\n",
    "                Fst = np.multiply(F[:,:,s], F[:,:,t])\n",
    "                drdM[s][t] = -1 * np.sum(np.multiply(QX, Fst))\n",
    "                \n",
    "        # calculate dr w.r.t B\n",
    "        dr = B @ (drdM + drdM.T)\n",
    "        \n",
    "        \n",
    "        return r,dr\n",
    "    else:\n",
    "        return r"
   ]
  },
  {
   "cell_type": "code",
   "execution_count": 37,
   "id": "92c07184",
   "metadata": {},
   "outputs": [],
   "source": [
    "def rayleigh_LWMB_neg(B, f, x, deriv=False):\n",
    "    \"\"\" \n",
    "    Compute Rayleigh quotient and its derivative w.r.t. B\n",
    "    Assuming M = B^T @ B\n",
    "    \n",
    "    Input: B, f, x, deriv\n",
    "    B - NxN matrix of parameters determining the covariance matrix (M=B.T @ B)\n",
    "    f - CxN matrix of feature vectors (Cx1) for all N training images\n",
    "    x - Nx1 vector of image labels (1 for 1; -1 for 0)\n",
    "    deriv - whether or not to compute and do the derivative\n",
    "    \n",
    "    Output: if deriv: r, dr\n",
    "                else: r\n",
    "    r - value of un-normalized Rayleigh quotient (x.T @ L @ x)\n",
    "    dr - derivative of un-normalized Rayleight quotient w.r.t. B\n",
    "    \"\"\"\n",
    "    \n",
    "    # Some additional matrices:\n",
    "    # F - NxNxC matrix of difference of feature vectors for each pair of training images\n",
    "    # M - CxC matrix of covariance of each pair of training images; M = B.T @ B\n",
    "    # W - NxN adjacency matrix of the graph; w_ij = exp(- F_ij.T @ M @ F_ij)\n",
    "    # D - NxN degree matrix of graph; D = diag(W @ 1)\n",
    "    # L - NxN graph laplacian matrix; L = D - W\n",
    "    # X - NxN auxiliary matrix to compute dr\n",
    "    \n",
    "    # create F\n",
    "    f_sz, num_train = f.shape\n",
    "    Fj = np.broadcast_to([f.T], (num_train, num_train, f_sz))\n",
    "    Fi = np.transpose(Fj, (1,0,2))\n",
    "    F = Fi - Fj\n",
    "    \n",
    "    # create M\n",
    "    M = B.T @ B\n",
    "\n",
    "    # create W\n",
    "    W = np.zeros((num_train, num_train))\n",
    "    for i in range(num_train):\n",
    "        for j in range(num_train):\n",
    "            if i==j:\n",
    "                W[i][j] = 0\n",
    "            else:\n",
    "                W[i][j] = np.exp(-1*(F[i][j].T @ M @ F[i][j]))\n",
    "\n",
    "    \n",
    "#     # create W - EACH ROUND TAKES ABOUT 10 MIN; MAYBE LESS MEMORY USAGE\n",
    "#     fmf = np.einsum('ija,ijk,ak->ij',F,F,M)\n",
    "#     nrmsq_f = np.einsum('ijk,ijk->ij',F,F)\n",
    "#     W = np.exp(fmf / nrmsq_f)\n",
    "    \n",
    "#     # create W - KERNEL DIES\n",
    "#     temp = np.tensordot(F,M, axes=([2],[1]))\n",
    "#     fmf = np.sum(F * temp, axis=2)\n",
    "#     nrmsq_f = np.sum(F * F, axis=2)\n",
    "#     W = np.exp(fmf/nrmsq_f)\n",
    "            \n",
    "    # create L\n",
    "    D = np.diag(W @ np.ones(num_train))\n",
    "    L = D - W\n",
    "    \n",
    "    # calculate r\n",
    "    r = x.T @ L @ x\n",
    "    \n",
    "    if deriv:\n",
    "        \n",
    "        # create X\n",
    "        X = np.broadcast_to([x], (len(x), len(x))).T\n",
    "        X = ((X - X.T)**2)\n",
    "        \n",
    "        # calculate drdM - TAKES TOO LONG\n",
    "        XW = np.multiply(X, W)\n",
    "        drdM = np.zeros((f_sz, f_sz))\n",
    "        for s in range(f_sz):\n",
    "            for t in range(f_sz):\n",
    "                Fst = np.multiply(F[:,:,s], F[:,:,t])\n",
    "                drdM[s][t] = np.sum(np.multiply(XW, Fst))\n",
    "                \n",
    "        # calculate dr w.r.t B\n",
    "        dr = B @ (drdM + drdM.T)\n",
    "        \n",
    "        \n",
    "        return r,dr\n",
    "    else:\n",
    "        return r"
   ]
  },
  {
   "cell_type": "code",
   "execution_count": 46,
   "id": "dff4ec70",
   "metadata": {},
   "outputs": [],
   "source": [
    "def rayleigh_tr(B, f, x, mu=1, deriv=False):\n",
    "    \"\"\" \n",
    "    Compute loss function and its derivative w.r.t. B\n",
    "    Loss = x.T @ L @ x + mu * tr(M)\n",
    "    Assuming M = B^T @ B\n",
    "    \n",
    "    Input: B, f, x, mu, deriv\n",
    "    B - NxN matrix of parameters determining the covariance matrix (M=B.T @ B)\n",
    "    f - CxN matrix of feature vectors (Cx1) for all N training images\n",
    "    x - Nx1 vector of image labels (1 for 1; -1 for 0)\n",
    "    mu - scalar parameter of the loss function\n",
    "    deriv - whether or not to compute and do the derivative\n",
    "    \n",
    "    Output: if deriv: E, dE\n",
    "                else: E\n",
    "    E - loss value with current B\n",
    "    dE - derivative of loss function w.r.t. B at current B\n",
    "    \"\"\"\n",
    "    \n",
    "    # Some additional matrices:\n",
    "    # F - NxNxC matrix of difference of feature vectors for each pair of training images\n",
    "    # M - CxC matrix of covariance of each pair of training images; M = B.T @ B\n",
    "    # W - NxN adjacency matrix of the graph; w_ij = exp(- F_ij.T @ M @ F_ij)\n",
    "    # D - NxN degree matrix of graph; D = diag(W @ 1)\n",
    "    # L - NxN graph laplacian matrix; L = D - W\n",
    "    # X - NxN auxiliary matrix to compute dr\n",
    "    \n",
    "    # create F\n",
    "    f_sz, num_train = f.shape\n",
    "    Fj = np.broadcast_to([f.T], (num_train, num_train, f_sz))\n",
    "    Fi = np.transpose(Fj, (1,0,2))\n",
    "    F = Fi - Fj\n",
    "    \n",
    "    # create M\n",
    "    M = B.T @ B\n",
    "\n",
    "    # create W\n",
    "    W = np.zeros((num_train, num_train))\n",
    "    for i in range(num_train):\n",
    "        for j in range(num_train):\n",
    "            if i==j:\n",
    "                W[i][j] = 0\n",
    "            else:\n",
    "                W[i][j] = np.exp(-1*(F[i][j].T @ M @ F[i][j]))\n",
    "\n",
    "    \n",
    "#     # create W - EACH ROUND TAKES ABOUT 10 MIN; MAYBE LESS MEMORY USAGE\n",
    "#     fmf = np.einsum('ija,ijk,ak->ij',F,F,M)\n",
    "#     nrmsq_f = np.einsum('ijk,ijk->ij',F,F)\n",
    "#     W = np.exp(fmf / nrmsq_f)\n",
    "    \n",
    "#     # create W - KERNEL DIES\n",
    "#     temp = np.tensordot(F,M, axes=([2],[1]))\n",
    "#     fmf = np.sum(F * temp, axis=2)\n",
    "#     nrmsq_f = np.sum(F * F, axis=2)\n",
    "#     W = np.exp(fmf/nrmsq_f)\n",
    "            \n",
    "    # create L\n",
    "    D = np.diag(W @ np.ones(num_train))\n",
    "    L = D - W\n",
    "    \n",
    "    # calculate r\n",
    "    r = x.T @ L @ x\n",
    "    \n",
    "    # calculate E\n",
    "    E = r + mu * np.trace(M)\n",
    "    \n",
    "    if deriv:\n",
    "        \n",
    "        # create X\n",
    "        X = np.broadcast_to([x], (len(x), len(x))).T\n",
    "        X = ((X - X.T)**2)\n",
    "        \n",
    "        # calculate drdM - TAKES TOO LONG\n",
    "        XW = np.multiply(X, W)\n",
    "        drdM = np.zeros((f_sz, f_sz))\n",
    "        for s in range(f_sz):\n",
    "            for t in range(f_sz):\n",
    "                Fst = np.multiply(F[:,:,s], F[:,:,t])\n",
    "                drdM[s][t] = np.sum(np.multiply(XW, Fst))\n",
    "                \n",
    "        # calculate dr w.r.t. B\n",
    "        drdB = B @ (drdM + drdM.T)\n",
    "        \n",
    "        # calculate dE w.r.t. B\n",
    "        dE = drdB + 2 * mu * B\n",
    "        \n",
    "        return E,dE\n",
    "    else:\n",
    "        return E"
   ]
  },
  {
   "cell_type": "markdown",
   "id": "bdf75f1a",
   "metadata": {},
   "source": [
    "# Visualize r w.r.t. B"
   ]
  },
  {
   "cell_type": "markdown",
   "id": "47926a07",
   "metadata": {},
   "source": [
    "## Random exploration"
   ]
  },
  {
   "cell_type": "code",
   "execution_count": 7,
   "id": "1965fbdd",
   "metadata": {},
   "outputs": [],
   "source": [
    "# load descriptors and image labels\n",
    "des = np.loadtxt('../../data/des.txt', dtype=np.float32)\n",
    "train_y = np.loadtxt('../../data/lbls.txt', dtype=np.float32)\n",
    "\n",
    "# create f and x\n",
    "f = des.T\n",
    "x = train_y * 2 -1"
   ]
  },
  {
   "cell_type": "code",
   "execution_count": 39,
   "id": "c3c5ca30",
   "metadata": {},
   "outputs": [],
   "source": [
    "def test_random_params(rayleigh_func, R, num_pts, f, x, plott=False, deriv=False):\n",
    "    \"\"\"\n",
    "    Find values of r w.r.t. random values of B\n",
    "    \n",
    "    Input: rayleigh_func, R, num_pts, f, x, plott, deriv\n",
    "    rayleigh_func - function used to generate r from B; can be rayleigh_LWMB or rayleigh_LWMB_neg\n",
    "    R - range of random B entries; 1e8 for rayleigh_LWMB and 1e-4 for rayleigh_LWMB_neg\n",
    "    num_pts - number of random points to try\n",
    "    f - CxN matrix of feature vectors (Cx1) for all N training images\n",
    "    x - Nx1 vector of image labels (1 for 1; -1 for 0)\n",
    "    plott - whether or not to plot obtained values of r\n",
    "    deriv - whether or not to compute and do the derivative\n",
    "    \n",
    "    Output: if deriv: rs, drs\n",
    "                else: rs\n",
    "    rs - list of obtained values of r\n",
    "    drs - list of obtained values of dr\n",
    "    \"\"\"\n",
    "    \n",
    "    f_sz, num_train = f.shape\n",
    "    rs = []\n",
    "    drs = []\n",
    "    \n",
    "    for pt in range(num_pts):\n",
    "        \n",
    "        # create random B\n",
    "        B = R*np.random.random_sample((f_sz,f_sz)) # random_sample returns uniform floats in [0, 1)\n",
    "        \n",
    "        # find r, dr for current B\n",
    "        if deriv:\n",
    "            r, dr = rayleigh_func(B, f, x, deriv=True)\n",
    "            rs.append(r)\n",
    "            drs.append(dr)\n",
    "        else:\n",
    "            r = rayleigh_func(B, f, x, deriv=False)\n",
    "            rs.append(r)\n",
    "            \n",
    "    if plott:\n",
    "        plt.figure(figsize=(6,6))\n",
    "        plt.hist(rs)\n",
    "        plt.title('rs')\n",
    "    \n",
    "    \n",
    "    if deriv:\n",
    "        return rs, drs\n",
    "    else:\n",
    "        return rs\n",
    "            "
   ]
  },
  {
   "cell_type": "code",
   "execution_count": 42,
   "id": "9c07613c",
   "metadata": {},
   "outputs": [
    {
     "data": {
      "text/plain": [
       "Text(0.5, 1.0, 'rs - rayleigh_LWMB')"
      ]
     },
     "execution_count": 42,
     "metadata": {},
     "output_type": "execute_result"
    },
    {
     "data": {
      "image/png": "[encoded data removed]",
      "text/plain": [
       "<Figure size 432x432 with 1 Axes>"
      ]
     },
     "metadata": {
      "needs_background": "light"
     },
     "output_type": "display_data"
    }
   ],
   "source": [
    "# plot histogram of 10000 randomly generated r's via random B's\n",
    "rs = np.loadtxt('../../data/rs.txt', dtype=np.float64)\n",
    "plt.figure(figsize=(6,6))\n",
    "plt.hist(rs, 20)\n",
    "plt.title('rs - rayleigh_LWMB')\n",
    "\n",
    "# if 'rs.txt' does not exist, run below code to generate it - TAKES ~1 HOUR\n",
    "# rs = test_random_params(rayleigh_LWMB, 100000000, 10000, f, x, plott=True, deriv=False)\n",
    "# plt.title('rs - rayleigh_LWMB')\n",
    "# np.savetxt('../../data/rs.txt', np.array(rs))"
   ]
  },
  {
   "cell_type": "code",
   "execution_count": 44,
   "id": "1c2a7f15",
   "metadata": {},
   "outputs": [
    {
     "data": {
      "text/plain": [
       "Text(0.5, 1.0, 'rs - rayleigh_LWMB_neg')"
      ]
     },
     "execution_count": 44,
     "metadata": {},
     "output_type": "execute_result"
    },
    {
     "data": {
      "image/png": "[encoded data removed]",
      "text/plain": [
       "<Figure size 432x432 with 1 Axes>"
      ]
     },
     "metadata": {
      "needs_background": "light"
     },
     "output_type": "display_data"
    }
   ],
   "source": [
    "rs = test_random_params(rayleigh_LWMB_neg, 0.0001, 100, f, x, plott=True, deriv=False)\n",
    "plt.title('rs - rayleigh_LWMB_neg')"
   ]
  },
  {
   "cell_type": "code",
   "execution_count": 47,
   "id": "9c8bc64f",
   "metadata": {},
   "outputs": [
    {
     "data": {
      "image/png": "[encoded data removed]",
      "text/plain": [
       "<Figure size 432x432 with 1 Axes>"
      ]
     },
     "metadata": {
      "needs_background": "light"
     },
     "output_type": "display_data"
    }
   ],
   "source": [
    "rs = test_random_params(rayleigh_tr, 0.0001, 100, f, x, plott=True, deriv=False)"
   ]
  },
  {
   "cell_type": "code",
   "execution_count": null,
   "id": "a84f6782",
   "metadata": {},
   "outputs": [],
   "source": []
  },
  {
   "cell_type": "markdown",
   "id": "c0a7f48f",
   "metadata": {},
   "source": [
    "## Visualize a range"
   ]
  },
  {
   "cell_type": "code",
   "execution_count": 82,
   "id": "6407b6ea",
   "metadata": {},
   "outputs": [
    {
     "data": {
      "image/png": "[encoded data removed]",
      "text/plain": [
       "<Figure size 432x432 with 1 Axes>"
      ]
     },
     "metadata": {
      "needs_background": "light"
     },
     "output_type": "display_data"
    },
    {
     "data": {
      "image/png": "[encoded data removed]",
      "text/plain": [
       "<Figure size 432x432 with 1 Axes>"
      ]
     },
     "metadata": {
      "needs_background": "light"
     },
     "output_type": "display_data"
    },
    {
     "data": {
      "image/png": "[encoded data removed]",
      "text/plain": [
       "<Figure size 432x432 with 1 Axes>"
      ]
     },
     "metadata": {
      "needs_background": "light"
     },
     "output_type": "display_data"
    }
   ],
   "source": [
    "def test_range_ax(l, precision, ax, f, x, B0, plott=False, deriv=False):\n",
    "    \"\"\"\n",
    "    Find values of r in a continuous range of different B's (single entry)\n",
    "    \n",
    "    Input: l, presision, B0, f, x, plott, deriv\n",
    "    l - length of the range\n",
    "    precision - number of points inside the range divided by l\n",
    "    ax - tuple defining entry of B that we want to change\n",
    "    B0 - center point of the range\n",
    "    f - CxN matrix of feature vectors (Cx1) for all N training images\n",
    "    x - Nx1 vector of image labels (1 for 1; -1 for 0)\n",
    "    plott - whether or not to plot obtained values of r\n",
    "    deriv - whether or not to compute and do the derivative\n",
    "    \n",
    "    Output: if deriv: rs, drs\n",
    "                else: rs\n",
    "    rs - list of obtained values of r\n",
    "    drs - list of obtained values of dr\n",
    "    \"\"\"\n",
    "    \n",
    "    # create offsets of the range\n",
    "    offs = np.linspace(-(l-1)/2, (l-1)/2, int(l*precision))\n",
    "    \n",
    "    # find i, j of target entry\n",
    "    i, j = ax\n",
    "    \n",
    "    # find r's in the range\n",
    "    B = B0.copy()\n",
    "    rs = []\n",
    "    drs = []\n",
    "    for offset in offs:\n",
    "        B[i][j] = B0[i][j] + offset\n",
    "        \n",
    "        if deriv:\n",
    "            r, dr = rayleigh_LWMB(B, f, x, deriv=True)\n",
    "            rs.append(r)\n",
    "            drs.append(dr)\n",
    "        else:\n",
    "            r = rayleigh_LWMB(B, f, x, deriv=False)\n",
    "            rs.append(r)\n",
    "\n",
    "    # plot results\n",
    "    if plott:\n",
    "        plt.figure(figsize=(6,6))\n",
    "        plt.plot(B0[i][j] + offs, rs, label='r')\n",
    "        plt.xlabel('B['+str(i)+']['+str(j)+']')\n",
    "        plt.legend()\n",
    "    \n",
    "    \n",
    "    return rs\n",
    "\n",
    "\n",
    "# use above method\n",
    "B0 = 100000*np.random.random_sample((f_sz,f_sz))\n",
    "rs = test_range_ax(100000000, 0.000001, (0,0), f, x, B0, plott=True)\n",
    "rs = test_range_ax(100000000, 0.000001, (0,1), f, x, B0, plott=True)\n",
    "rs = test_range_ax(100000000, 0.000001, (5,7), f, x, B0, plott=True)"
   ]
  },
  {
   "cell_type": "code",
   "execution_count": 75,
   "id": "71a8edc7",
   "metadata": {},
   "outputs": [],
   "source": [
    "def test_range_mltpl(l, precision, axs, f, x, B0=None, plott=False, deriv=False):\n",
    "    \"\"\"\n",
    "    Find values of r in a continuous range of different B's (multiple entries)\n",
    "    \n",
    "    Input: l, presision, B0, f, x, plott, deriv\n",
    "    l - length of the range\n",
    "    precision - number of points inside the range divided by l\n",
    "    axs - list of tuples defining entris of B that we want to change\n",
    "    B0 - center point of the range\n",
    "    f - CxN matrix of feature vectors (Cx1) for all N training images\n",
    "    x - Nx1 vector of image labels (1 for 1; -1 for 0)\n",
    "    plott - whether or not to plot obtained values of r\n",
    "    deriv - whether or not to compute and do the derivative\n",
    "    \n",
    "    Output: if deriv: rss, drss\n",
    "                else: rss\n",
    "    rss - list of obtained values of r for each entry\n",
    "    drss - list of obtained values of dr for each entry\n",
    "    \"\"\"\n",
    "    \n",
    "    "
   ]
  },
  {
   "cell_type": "code",
   "execution_count": null,
   "id": "8f7068d7",
   "metadata": {},
   "outputs": [],
   "source": []
  },
  {
   "cell_type": "code",
   "execution_count": null,
   "id": "87af6785",
   "metadata": {},
   "outputs": [],
   "source": []
  },
  {
   "cell_type": "code",
   "execution_count": null,
   "id": "cc5f99ce",
   "metadata": {},
   "outputs": [],
   "source": []
  },
  {
   "cell_type": "code",
   "execution_count": null,
   "id": "73844a6a",
   "metadata": {},
   "outputs": [],
   "source": []
  },
  {
   "cell_type": "code",
   "execution_count": null,
   "id": "56233b9f",
   "metadata": {},
   "outputs": [],
   "source": []
  },
  {
   "cell_type": "code",
   "execution_count": null,
   "id": "653b59b5",
   "metadata": {},
   "outputs": [],
   "source": []
  },
  {
   "cell_type": "code",
   "execution_count": null,
   "id": "47cb24cf",
   "metadata": {},
   "outputs": [],
   "source": []
  },
  {
   "cell_type": "code",
   "execution_count": null,
   "id": "fda3b23a",
   "metadata": {},
   "outputs": [],
   "source": []
  },
  {
   "cell_type": "code",
   "execution_count": null,
   "id": "6937ff71",
   "metadata": {},
   "outputs": [],
   "source": []
  },
  {
   "cell_type": "code",
   "execution_count": null,
   "id": "f77bdf3d",
   "metadata": {},
   "outputs": [],
   "source": []
  }
 ],
 "metadata": {
  "kernelspec": {
   "display_name": "Python 3",
   "language": "python",
   "name": "python3"
  },
  "language_info": {
   "codemirror_mode": {
    "name": "ipython",
    "version": 3
   },
   "file_extension": ".py",
   "mimetype": "text/x-python",
   "name": "python",
   "nbconvert_exporter": "python",
   "pygments_lexer": "ipython3",
   "version": "3.6.9"
  }
 },
 "nbformat": 4,
 "nbformat_minor": 5
}
