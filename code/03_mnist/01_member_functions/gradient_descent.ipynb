{
 "cells": [
  {
   "cell_type": "code",
   "execution_count": 1,
   "id": "a10e2ade",
   "metadata": {},
   "outputs": [],
   "source": [
    "import numpy as np\n",
    "# import cv2 as cv\n",
    "import matplotlib.pyplot as plt\n",
    "# import time"
   ]
  },
  {
   "cell_type": "code",
   "execution_count": 132,
   "id": "4089247a",
   "metadata": {},
   "outputs": [],
   "source": [
    "# define a general gradient descent method\n",
    "def gradient_descent(loss_func, opt_params):\n",
    "    \"\"\"\n",
    "    Learn a set of parameters using gradient descent.\n",
    "\n",
    "    Inputs: loss_func, opt_params\n",
    "    loss_func - loss function to use for training; it should only take one input which is optimization parameter\n",
    "    opt_params - parameters of the training algorithm (see below)\n",
    "\n",
    "    Outputs: Theta, stats\n",
    "    Theta - parameters at the end of optimization\n",
    "    stats - dictionary of various statistics computed during training to be used\n",
    "            for visualization and analysis\n",
    "    \"\"\"\n",
    "\n",
    "    # Optimization parameters in opt_params\n",
    "    epsilon0 = opt_params['epsilon0'] # starting learning rate for GD\n",
    "    epsilon_decay = opt_params['epsilon_decay'] # decay factor for GD learning rate\n",
    "    epsilon_jump = opt_params['epsilon_jump'] # decay factor for GD learning rate\n",
    "    num_its = opt_params['num_its'] # number of iterations to run\n",
    "    Theta0 = opt_params['Theta0'] # initial value for the parameters, can be None to randomly initialize\n",
    "    check_freq = opt_params['check_freq'] # how frequently to compute and print out statistics of learning\n",
    "    print_checks = opt_params['print_checks'] # print info out when checkpointing\n",
    "    seed = opt_params['seed'] if 'seed' in opt_params else 0\n",
    "\n",
    "    if seed is not None:\n",
    "        np.random.seed(seed)\n",
    "\n",
    "    check_its = []\n",
    "    check_times = []\n",
    "    check_Thetas = []\n",
    "    train_losss = []\n",
    "    it_times = []\n",
    "    epsilon = epsilon0\n",
    "    start_t = time.time()\n",
    "    Theta = Theta0\n",
    "    for it in range(num_its):\n",
    "        #print('new it:')\n",
    "        #print('Theta = '+str(Theta))\n",
    "        \n",
    "        # Compute loss and its derivative with current parameter values\n",
    "        E, dEdTheta = loss_func(Theta, deriv=True)\n",
    "        \n",
    "        #print('E = ' + str(E))\n",
    "        #print('dEdTheta = ' + str(dEdTheta))\n",
    "        \n",
    "        # Find epsilon which decreases train loss\n",
    "        epsilon *= epsilon_jump\n",
    "        \n",
    "        #print('epsilon = '+str(epsilon))\n",
    "        \n",
    "        new_E = np.inf\n",
    "        while new_E > E:\n",
    "            # Update parameters with the GD update\n",
    "            Theta1 = Theta - epsilon * dEdTheta\n",
    "            #print('Theta1 = '+str(Theta1))\n",
    "            new_E = loss_func(Theta1, deriv=False)\n",
    "            #print('new_E = '+str(new_E))\n",
    "            epsilon *= epsilon_decay\n",
    "            #print('epsilon = '+str(epsilon))\n",
    "\n",
    "        # Replace old value of Theta with new one\n",
    "        Theta = Theta1\n",
    "        #print('final Theta = '+str(Theta))\n",
    "        \n",
    "        # Compute the norm of the entire gradient to monitor\n",
    "        nrmsq_dEdTheta = np.sum(dEdTheta**2)\n",
    "        \n",
    "        # Restore epsilon's working value \n",
    "        epsilon /= epsilon_decay\n",
    "\n",
    "        if it%check_freq == 0 or it+1 == num_its:\n",
    "            # Periodically compute the training loss/accuracy on the _full_ dataset\n",
    "            # for reference.  Note this is rarely done in practice because it isn't\n",
    "            # possible or is hugely impractical.  We're just doing it here to see \n",
    "            # how it relates to the values computed with a mini-batch\n",
    "            E = loss_func(Theta, deriv=False)\n",
    "\n",
    "            check_Thetas.append(Theta)\n",
    "            check_its.append(it)\n",
    "            check_times.append(time.time() - start_t)\n",
    "            train_losss.append(E)\n",
    "\n",
    "            if print_checks:\n",
    "                print(\"{:4}: eps = {:.2e};\"\n",
    "                      \"  train loss (E) = {:5.2f};\"\n",
    "                      \"  ||dEdTheta|| = {:5.2f}\".format(it, epsilon,\n",
    "                                                        E, \n",
    "                                                        np.sqrt(nrmsq_dEdTheta)))\n",
    "        it_times.append(time.time() - start_t)\n",
    "\n",
    "    stats = { 'check_its':check_its, # Iteration numbers of checkpoints\n",
    "            'check_times':check_times, # wall clock time of checkpoints\n",
    "            'check_Thetas':check_Thetas, # Theta values at checkpoints\n",
    "            'it_times':it_times, # wall clock time of each iteration\n",
    "            'train_losss':train_losss} # loss of full training set at checkpoint iterations\n",
    "    \n",
    "    return Theta, stats"
   ]
  },
  {
   "cell_type": "code",
   "execution_count": 90,
   "id": "d031a811",
   "metadata": {},
   "outputs": [],
   "source": [
    "def gaussian_2d(l, pos, hei, shift, sig, plott=False, deriv=False):\n",
    "    \"\"\"\n",
    "    Create 2D Gaussian function\n",
    "    Input: l, pos, hei, shift, sig, deriv\n",
    "    l - tuple of x- and y- lengths of 2d map\n",
    "    pos - 2x1 vector of x and y position\n",
    "    hei - tuple of gaussian heights in x and y directions\n",
    "    shift - tuple of x and y shifts\n",
    "    sig - tuple of gaussian deviations in x and y directions\n",
    "    plot - whether or not plot the 2d gaussian function\n",
    "    deriv - whether or not to compute and do the derivative\n",
    "\n",
    "    Output: if deriv: g\n",
    "              else: g, dg\n",
    "    g - scalar value of 2D gaussian function at (x,y)\n",
    "    dg - tuple of derivatives of gaussian function w.r.t. (x,y)\n",
    "    \"\"\"  \n",
    "\n",
    "    lx, ly = l\n",
    "    posx, posy = pos\n",
    "    heix, heiy = hei\n",
    "    shiftx, shifty = shift\n",
    "    sigx, sigy = sig\n",
    "    \n",
    "    x = np.linspace(-(lx - 1) / 2., (lx - 1) / 2., lx)\n",
    "    y = np.linspace(-(ly - 1) / 2., (ly - 1) / 2., ly)\n",
    "    \n",
    "    gaussx = heix * np.exp(-0.5 * ((x - shiftx) ** 2) / (sigx ** 2))\n",
    "    gx = np.broadcast_to([gaussx], (ly, lx))\n",
    "    \n",
    "    gaussy = heiy * np.exp(-0.5 * ((y - shifty) ** 2) / (sigy ** 2))\n",
    "    gy = np.broadcast_to([gaussy], (lx, ly)).T\n",
    "    \n",
    "    g = 1 - gx * gy\n",
    "    \n",
    "    if plott:\n",
    "        plt.figure(figsize=(6,6))\n",
    "        plt.imshow(g)\n",
    "        x_ticks = np.linspace(0,lx-1,5, dtype=int)\n",
    "        plt.xticks(x_ticks, x[x_ticks])\n",
    "        y_ticks = np.linspace(0,ly-1,5, dtype=int)\n",
    "        plt.yticks(y_ticks, y[y_ticks])\n",
    "        plt.plot(posx + (lx - 1) / 2, posy + (ly - 1) / 2, 'ro')\n",
    "        plt.colorbar()\n",
    "    \n",
    "    g_pos = g[int(posy + (ly - 1) / 2)][int(posx + (lx - 1) / 2)]\n",
    "    \n",
    "    if deriv:\n",
    "        \n",
    "        dgdx = g_pos * (posx - shiftx) / (sigx ** 2)\n",
    "        dgdy = g_pos * (posy - shifty) / (sigy ** 2)\n",
    "        dg = np.array([dgdx, dgdy])\n",
    "        \n",
    "        return g_pos, dg\n",
    "    else:\n",
    "        return g_pos"
   ]
  },
  {
   "cell_type": "code",
   "execution_count": 135,
   "id": "b8df2450",
   "metadata": {},
   "outputs": [
    {
     "name": "stdout",
     "output_type": "stream",
     "text": [
      "   0: eps = 2.00e+00;  train loss (E) =  0.87;  ||dEdTheta|| =  0.38\n",
      "   2: eps = 8.00e+00;  train loss (E) =  0.65;  ||dEdTheta|| =  0.25\n",
      "   4: eps = 3.20e+01;  train loss (E) =  0.23;  ||dEdTheta|| =  0.06\n",
      "   6: eps = 1.28e+02;  train loss (E) =  0.08;  ||dEdTheta|| =  0.01\n",
      "   8: eps = 5.12e+02;  train loss (E) =  0.02;  ||dEdTheta|| =  0.00\n",
      "  10: eps = 1.02e+03;  train loss (E) =  0.00;  ||dEdTheta|| =  0.00\n",
      "  12: eps = 4.10e+03;  train loss (E) =  0.00;  ||dEdTheta|| =  0.00\n",
      "  14: eps = 4.10e+03;  train loss (E) =  0.00;  ||dEdTheta|| =  0.00\n",
      "  15: eps = 8.19e+03;  train loss (E) =  0.00;  ||dEdTheta|| =  0.00\n"
     ]
    },
    {
     "data": {
      "text/plain": [
       "[<matplotlib.lines.Line2D at 0x7feaa5c9f1d0>]"
      ]
     },
     "execution_count": 135,
     "metadata": {},
     "output_type": "execute_result"
    },
    {
     "data": {
      "image/png": "[encoded data removed]",
      "text/plain": [
       "<Figure size 432x432 with 2 Axes>"
      ]
     },
     "metadata": {
      "needs_background": "light"
     },
     "output_type": "display_data"
    },
    {
     "data": {
      "image/png": "[encoded data removed]",
      "text/plain": [
       "<Figure size 432x432 with 2 Axes>"
      ]
     },
     "metadata": {
      "needs_background": "light"
     },
     "output_type": "display_data"
    }
   ],
   "source": [
    "def gaussian_2d_wrap(pos, deriv=False, plott=False):\n",
    "    \"\"\"\n",
    "    Wrapper for the 2D gaussian function to be used in gradient descent.\n",
    "    \n",
    "    Input: pos, deriv\n",
    "    pos - tuple of x- and y-position of desired point in our 2D function; a.k.a. parameters of GD\n",
    "    deriv - whether or not to compute and do the derivative\n",
    "    \n",
    "    Output: if deriv: g, dg\n",
    "                else: g\n",
    "    g - scalar value of gaussian function at the desired point\n",
    "    dg - tuple of x- and y-derivatives of the gaussian function\n",
    "    \"\"\"\n",
    "    \n",
    "    # Create a 2D gaussian map\n",
    "    l = (51, 51)\n",
    "    hei = (1,1)\n",
    "    shift = (0,0)\n",
    "    sig = (5,10)\n",
    "    \n",
    "    # Return g, dg and plot if requested\n",
    "    return gaussian_2d(l, pos, hei, shift, sig, plott=plott, deriv=deriv)\n",
    "\n",
    "\n",
    "# plot the 2D gaussian map\n",
    "pos0 = np.array([10,10])\n",
    "lx, ly = 51, 51\n",
    "g = gaussian_2d_wrap(pos0, deriv=False, plott=True)\n",
    "\n",
    "# find min of the function with gradient descent\n",
    "opt_params = { 'epsilon0':1, 'epsilon_decay':0.5, 'epsilon_jump': 2,\n",
    "               'num_its':16, 'check_freq':2, 'print_checks':True, 'Theta0':pos0 }\n",
    "opt_pos, stats = gradient_descent(gaussian_2d_wrap, opt_params)\n",
    "\n",
    "# visualize training process\n",
    "check_poss = stats['check_Thetas']\n",
    "check_xs = [x + (lx - 1) / 2 for (x,y) in check_poss]\n",
    "check_ys = [y + (ly - 1) / 2 for (x,y) in check_poss]\n",
    "\n",
    "gaussian_2d_wrap(opt_pos, deriv=False, plott=True)\n",
    "plt.plot(check_xs,check_ys,'r+')"
   ]
  },
  {
   "cell_type": "code",
   "execution_count": null,
   "id": "17f88750",
   "metadata": {},
   "outputs": [],
   "source": []
  },
  {
   "cell_type": "code",
   "execution_count": null,
   "id": "e7a6a7f4",
   "metadata": {},
   "outputs": [],
   "source": []
  },
  {
   "cell_type": "code",
   "execution_count": null,
   "id": "1f6f8e01",
   "metadata": {},
   "outputs": [],
   "source": []
  },
  {
   "cell_type": "code",
   "execution_count": null,
   "id": "69820b3d",
   "metadata": {},
   "outputs": [],
   "source": []
  },
  {
   "cell_type": "code",
   "execution_count": null,
   "id": "9d645e6a",
   "metadata": {},
   "outputs": [],
   "source": []
  },
  {
   "cell_type": "code",
   "execution_count": null,
   "id": "4220ab5b",
   "metadata": {},
   "outputs": [],
   "source": []
  },
  {
   "cell_type": "code",
   "execution_count": null,
   "id": "d27e74b4",
   "metadata": {},
   "outputs": [],
   "source": []
  },
  {
   "cell_type": "code",
   "execution_count": null,
   "id": "39fd35d9",
   "metadata": {},
   "outputs": [],
   "source": []
  },
  {
   "cell_type": "code",
   "execution_count": null,
   "id": "6da24130",
   "metadata": {},
   "outputs": [],
   "source": []
  },
  {
   "cell_type": "code",
   "execution_count": null,
   "id": "ba0e5517",
   "metadata": {},
   "outputs": [],
   "source": []
  },
  {
   "cell_type": "code",
   "execution_count": null,
   "id": "b64efb0d",
   "metadata": {},
   "outputs": [],
   "source": []
  },
  {
   "cell_type": "code",
   "execution_count": null,
   "id": "c8443577",
   "metadata": {},
   "outputs": [],
   "source": []
  },
  {
   "cell_type": "code",
   "execution_count": null,
   "id": "f79694a6",
   "metadata": {},
   "outputs": [],
   "source": []
  },
  {
   "cell_type": "code",
   "execution_count": null,
   "id": "fcdb2659",
   "metadata": {},
   "outputs": [],
   "source": []
  }
 ],
 "metadata": {
  "kernelspec": {
   "display_name": "Python 3",
   "language": "python",
   "name": "python3"
  },
  "language_info": {
   "codemirror_mode": {
    "name": "ipython",
    "version": 3
   },
   "file_extension": ".py",
   "mimetype": "text/x-python",
   "name": "python",
   "nbconvert_exporter": "python",
   "pygments_lexer": "ipython3",
   "version": "3.6.9"
  }
 },
 "nbformat": 4,
 "nbformat_minor": 5
}
