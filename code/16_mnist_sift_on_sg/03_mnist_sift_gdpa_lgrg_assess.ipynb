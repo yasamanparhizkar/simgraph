{
 "cells": [
  {
   "cell_type": "code",
   "execution_count": 1,
   "id": "1559fcec",
   "metadata": {
    "tags": []
   },
   "outputs": [],
   "source": [
    "import numpy as np\n",
    "import matplotlib.pyplot as plt\n",
    "import matlab.engine # to run Cheng's code\n",
    "import os\n",
    "\n",
    "# add the path to my packages to system paths so they can be imported\n",
    "import sys\n",
    "sys.path.append('/home/yasamanparhizkar/Documents/yorku/01_thesis/code/my_packages')\n",
    "# sys.path.append('F:\\MAScThesis\\code\\my_packages')\n",
    "# sys.path.append('/home/yasamanparhizkar/Documents/thesis/code/my_packages')\n",
    "\n",
    "import data_handler_03 as dh\n",
    "import my_simgraph_06 as sg\n",
    "import assess_simgraph_04_fact_lgrg as asg"
   ]
  },
  {
   "cell_type": "markdown",
   "id": "14b25ab2-987b-40b8-bee2-a4b14c982c29",
   "metadata": {
    "tags": []
   },
   "source": [
    "# Assess the model's performance with random tests"
   ]
  },
  {
   "cell_type": "code",
   "execution_count": 2,
   "id": "03442d6e-dfae-4b33-bee6-a4b5bc828a7a",
   "metadata": {
    "tags": []
   },
   "outputs": [],
   "source": [
    "def get_mnist_labels(data_params):\n",
    "    return np.loadtxt(data_params['features_dp']+'lbls.csv')\n",
    "\n",
    "# data retrieval params\n",
    "data_params = {'func': dh.datapoint_sift, 'lbl_func': get_mnist_labels, 'features_dp': '../../data/fe_exp/mnist-sift/', \\\n",
    "               'spike_data': None, 'group_id': None, 'transform': None, 'ind_min': 0, 'ind_max': 13203}\n",
    "\n",
    "# graph construction and penalty term parameters\n",
    "sg_params = {'mu': 30, 'Dt': None, 'Dv':0, 'Dvt':2000, \\\n",
    "             'cnstr_method_tt': 'time', 'cnstr_method_vv': 'time', 'cnstr_method_vt': 'time',\\\n",
    "             'train_t': None, 'val_t': None, \\\n",
    "             'edges_tt':None, 'edges_vv':None, 'edges_vt':None, }\n",
    "\n",
    "# gradient descent parameters\n",
    "sg_opt_params = { 'epsilon0':1, 'epsilon_decay':0.5, 'epsilon_jump': 2, \\\n",
    "                'num_its':16, 'check_freq':1, 'print_checks':False, 'Theta0':None, \\\n",
    "                'force_all_its': True, 'threshold': 0.01}\n",
    "\n",
    "# randomization parameters\n",
    "rnd_params = {'train_sizes': [200, 300, 400, 500], 'val_sizes': [100], 'train_its': 5, 'val_its': 10, 'seed': None}\n",
    "# rnd_params = {'train_sizes': [400], 'val_sizes': [10], 'train_its': 2, 'val_its': 3, 'seed': None}\n",
    "\n",
    "# parameters to visualize the optimized M\n",
    "f_sz = 256 # must match data_params\n",
    "xloc = np.broadcast_to(np.arange(f_sz), (f_sz, f_sz))\n",
    "yloc = xloc.T\n",
    "fig_params = {'rmark_th': 30, 'f_sz': f_sz, 'xloc': xloc, 'yloc': yloc}\n",
    "\n",
    "# # start a matlab engine to run Cheng's code\n",
    "# eng = matlab.engine.start_matlab()\n",
    "# eng.cd(r'/home/yasamanparhizkar/Documents/yorku/01_thesis/code/15_cheng', nargout=0)\n",
    "\n",
    "# path to save the results\n",
    "res_path_sg = '../../data/experiments/comparison/temp/sg/'\n",
    "res_path_lgrg = '../../data/experiments/comparison/temp/lgrg/'"
   ]
  },
  {
   "cell_type": "code",
   "execution_count": 3,
   "id": "10e984ad-acfa-4afe-8de6-3a5f7ca894ee",
   "metadata": {
    "tags": []
   },
   "outputs": [],
   "source": [
    "# import importlib\n",
    "# importlib.reload(sg)\n",
    "# importlib.reload(asg)"
   ]
  },
  {
   "cell_type": "code",
   "execution_count": 5,
   "id": "3eb32f59-072f-4078-924d-8523416c1227",
   "metadata": {
    "scrolled": true,
    "tags": []
   },
   "outputs": [
    {
     "ename": "KeyboardInterrupt",
     "evalue": "",
     "output_type": "error",
     "traceback": [
      "\u001b[0;31m---------------------------------------------------------------------------\u001b[0m",
      "\u001b[0;31mKeyboardInterrupt\u001b[0m                         Traceback (most recent call last)",
      "Cell \u001b[0;32mIn [5], line 2\u001b[0m\n\u001b[1;32m      1\u001b[0m \u001b[38;5;66;03m# times will be measured together and  written in res_path_sg\u001b[39;00m\n\u001b[0;32m----> 2\u001b[0m val_num_res_sg, val_num_err_sg, val_num_res_lgrg, val_num_err_lgrg \u001b[38;5;241m=\u001b[39m \u001b[43masg\u001b[49m\u001b[38;5;241;43m.\u001b[39;49m\u001b[43massess_sg_model\u001b[49m\u001b[43m(\u001b[49m\u001b[43mdata_params\u001b[49m\u001b[43m,\u001b[49m\u001b[43m \u001b[49m\u001b[43msg_params\u001b[49m\u001b[43m,\u001b[49m\u001b[43m \u001b[49m\u001b[43msg_opt_params\u001b[49m\u001b[43m,\u001b[49m\u001b[43m \u001b[49m\u001b[43mrnd_params\u001b[49m\u001b[43m,\u001b[49m\u001b[43m \u001b[49m\u001b[43mfig_params\u001b[49m\u001b[43m,\u001b[49m\u001b[43m \u001b[49m\u001b[43mres_path_sg\u001b[49m\u001b[43m,\u001b[49m\u001b[43m \u001b[49m\u001b[43mres_path_lgrg\u001b[49m\u001b[43m)\u001b[49m\n",
      "File \u001b[0;32m~/Documents/yorku/01_thesis/code/my_packages/assess_simgraph_04_fact_lgrg.py:261\u001b[0m, in \u001b[0;36massess_sg_model\u001b[0;34m(data_params, sg_params, sg_opt_params, rnd_params, fig_params, res_path_sg, res_path_lgrg)\u001b[0m\n\u001b[1;32m    258\u001b[0m time3 \u001b[38;5;241m=\u001b[39m time\u001b[38;5;241m.\u001b[39mtime()\n\u001b[1;32m    259\u001b[0m \u001b[38;5;66;03m# train\u001b[39;00m\n\u001b[1;32m    260\u001b[0m train_num, train_data, M, lgrg \u001b[38;5;241m=\u001b[39m \\\n\u001b[0;32m--> 261\u001b[0m \u001b[43mtake_train_step\u001b[49m\u001b[43m(\u001b[49m\u001b[43mlgrg\u001b[49m\u001b[43m,\u001b[49m\u001b[43m \u001b[49m\u001b[43mtrain_comb\u001b[49m\u001b[43m,\u001b[49m\u001b[43m \u001b[49m\u001b[43mtrain_num\u001b[49m\u001b[43m,\u001b[49m\u001b[43m \u001b[49m\u001b[43mval_num\u001b[49m\u001b[43m,\u001b[49m\u001b[43m \u001b[49m\u001b[43mdata_params\u001b[49m\u001b[43m,\u001b[49m\u001b[43m \u001b[49m\u001b[43msg_params\u001b[49m\u001b[43m,\u001b[49m\u001b[43m \u001b[49m\u001b[43msg_opt_params\u001b[49m\u001b[43m,\u001b[49m\u001b[43m \u001b[49m\u001b[43mfig_params\u001b[49m\u001b[43m,\u001b[49m\u001b[43m \u001b[49m\u001b[43mres_path_sg\u001b[49m\u001b[43m,\u001b[49m\u001b[43m \u001b[49m\u001b[43mres_path_lgrg\u001b[49m\u001b[43m,\u001b[49m\u001b[43m \u001b[49m\u001b[43mseed\u001b[49m\u001b[43m)\u001b[49m\n\u001b[1;32m    263\u001b[0m \u001b[38;5;28;01mfor\u001b[39;00m val_comb \u001b[38;5;129;01min\u001b[39;00m \u001b[38;5;28mrange\u001b[39m(val_its):\n\u001b[1;32m    264\u001b[0m     \u001b[38;5;66;03m# validate\u001b[39;00m\n\u001b[1;32m    265\u001b[0m     val_num, val_data, assess_qs_sg, y_est_sg, assess_qs_lgrg, y_est_lgrg \u001b[38;5;241m=\u001b[39m \\\n\u001b[1;32m    266\u001b[0m     take_val_step(lgrg, train_data, val_num, data_params, M, sg_params, seed)\n",
      "File \u001b[0;32m~/Documents/yorku/01_thesis/code/my_packages/assess_simgraph_04_fact_lgrg.py:82\u001b[0m, in \u001b[0;36mtake_train_step\u001b[0;34m(lgrg, train_comb, train_num, val_num, data_params, sg_params, sg_opt_params, fig_params, res_path_sg, res_path_lgrg, seed)\u001b[0m\n\u001b[1;32m     79\u001b[0m \u001b[38;5;66;03m# train the model   \u001b[39;00m\n\u001b[1;32m     80\u001b[0m \u001b[38;5;66;03m# time0 = time.time()\u001b[39;00m\n\u001b[1;32m     81\u001b[0m sg_opt_params[\u001b[38;5;124m'\u001b[39m\u001b[38;5;124mTheta0\u001b[39m\u001b[38;5;124m'\u001b[39m] \u001b[38;5;241m=\u001b[39m \u001b[38;5;28;01mNone\u001b[39;00m\n\u001b[0;32m---> 82\u001b[0m B, sg_stats \u001b[38;5;241m=\u001b[39m \u001b[43msg\u001b[49m\u001b[38;5;241;43m.\u001b[39;49m\u001b[43mfit_graph\u001b[49m\u001b[43m(\u001b[49m\u001b[43mtrain_data\u001b[49m\u001b[43m[\u001b[49m\u001b[38;5;124;43m'\u001b[39;49m\u001b[38;5;124;43mdes\u001b[39;49m\u001b[38;5;124;43m'\u001b[39;49m\u001b[43m]\u001b[49m\u001b[43m,\u001b[49m\u001b[43m \u001b[49m\u001b[43mtrain_data\u001b[49m\u001b[43m[\u001b[49m\u001b[38;5;124;43m'\u001b[39;49m\u001b[38;5;124;43mlbls\u001b[39;49m\u001b[38;5;124;43m'\u001b[39;49m\u001b[43m]\u001b[49m\u001b[43m,\u001b[49m\u001b[43m \u001b[49m\u001b[43msg_params\u001b[49m\u001b[43m,\u001b[49m\u001b[43m \u001b[49m\u001b[43msg_opt_params\u001b[49m\u001b[43m,\u001b[49m\u001b[43m \u001b[49m\u001b[43mseed\u001b[49m\u001b[43m)\u001b[49m\n\u001b[1;32m     83\u001b[0m \u001b[38;5;66;03m# print('sg.fit_graph took {} sec'.format(time.time()-time0))\u001b[39;00m\n\u001b[1;32m     84\u001b[0m \n\u001b[1;32m     85\u001b[0m \u001b[38;5;66;03m# train the logistic regression model for comparison\u001b[39;00m\n\u001b[1;32m     86\u001b[0m lgrg \u001b[38;5;241m=\u001b[39m lgrg\u001b[38;5;241m.\u001b[39mfit(train_data[\u001b[38;5;124m'\u001b[39m\u001b[38;5;124mdes\u001b[39m\u001b[38;5;124m'\u001b[39m], train_data[\u001b[38;5;124m'\u001b[39m\u001b[38;5;124mlbls\u001b[39m\u001b[38;5;124m'\u001b[39m])\n",
      "File \u001b[0;32m~/Documents/yorku/01_thesis/code/my_packages/my_simgraph_06.py:532\u001b[0m, in \u001b[0;36mfit_graph\u001b[0;34m(dess, lbls, graph_params, opt_params, seed)\u001b[0m\n\u001b[1;32m    529\u001b[0m \u001b[38;5;28;01mdef\u001b[39;00m \u001b[38;5;21mcnstr_glr_wrap\u001b[39m(B, deriv\u001b[38;5;241m=\u001b[39m\u001b[38;5;28;01mFalse\u001b[39;00m):\n\u001b[1;32m    530\u001b[0m     \u001b[38;5;28;01mreturn\u001b[39;00m cnstr_glr(B, deriv, mu\u001b[38;5;241m=\u001b[39mmu, x\u001b[38;5;241m=\u001b[39mlbls, F\u001b[38;5;241m=\u001b[39mdess\u001b[38;5;241m.\u001b[39mT, edges_tt\u001b[38;5;241m=\u001b[39medges_tt)\n\u001b[0;32m--> 532\u001b[0m B, stats \u001b[38;5;241m=\u001b[39m \u001b[43mgradient_descent\u001b[49m\u001b[43m(\u001b[49m\u001b[43mcnstr_glr_wrap\u001b[49m\u001b[43m,\u001b[49m\u001b[43m \u001b[49m\u001b[43mopt_params\u001b[49m\u001b[43m)\u001b[49m\n\u001b[1;32m    534\u001b[0m \u001b[38;5;28;01mreturn\u001b[39;00m B, stats\n",
      "File \u001b[0;32m~/Documents/yorku/01_thesis/code/my_packages/my_simgraph_06.py:407\u001b[0m, in \u001b[0;36mgradient_descent\u001b[0;34m(loss_func, opt_params, show_nrmdE)\u001b[0m\n\u001b[1;32m    405\u001b[0m \u001b[38;5;66;03m# Compute loss and its derivative with current parameter values\u001b[39;00m\n\u001b[1;32m    406\u001b[0m s_start_t \u001b[38;5;241m=\u001b[39m time\u001b[38;5;241m.\u001b[39mtime()\n\u001b[0;32m--> 407\u001b[0m E, dEdTheta \u001b[38;5;241m=\u001b[39m \u001b[43mloss_func\u001b[49m\u001b[43m(\u001b[49m\u001b[43mTheta\u001b[49m\u001b[43m,\u001b[49m\u001b[43m \u001b[49m\u001b[43mderiv\u001b[49m\u001b[38;5;241;43m=\u001b[39;49m\u001b[38;5;28;43;01mTrue\u001b[39;49;00m\u001b[43m)\u001b[49m\n\u001b[1;32m    408\u001b[0m eval_times\u001b[38;5;241m.\u001b[39mappend(time\u001b[38;5;241m.\u001b[39mtime() \u001b[38;5;241m-\u001b[39m s_start_t)\n\u001b[1;32m    410\u001b[0m \u001b[38;5;66;03m# Find epsilon which decreases train loss\u001b[39;00m\n",
      "File \u001b[0;32m~/Documents/yorku/01_thesis/code/my_packages/my_simgraph_06.py:530\u001b[0m, in \u001b[0;36mfit_graph.<locals>.cnstr_glr_wrap\u001b[0;34m(B, deriv)\u001b[0m\n\u001b[1;32m    529\u001b[0m \u001b[38;5;28;01mdef\u001b[39;00m \u001b[38;5;21mcnstr_glr_wrap\u001b[39m(B, deriv\u001b[38;5;241m=\u001b[39m\u001b[38;5;28;01mFalse\u001b[39;00m):\n\u001b[0;32m--> 530\u001b[0m     \u001b[38;5;28;01mreturn\u001b[39;00m \u001b[43mcnstr_glr\u001b[49m\u001b[43m(\u001b[49m\u001b[43mB\u001b[49m\u001b[43m,\u001b[49m\u001b[43m \u001b[49m\u001b[43mderiv\u001b[49m\u001b[43m,\u001b[49m\u001b[43m \u001b[49m\u001b[43mmu\u001b[49m\u001b[38;5;241;43m=\u001b[39;49m\u001b[43mmu\u001b[49m\u001b[43m,\u001b[49m\u001b[43m \u001b[49m\u001b[43mx\u001b[49m\u001b[38;5;241;43m=\u001b[39;49m\u001b[43mlbls\u001b[49m\u001b[43m,\u001b[49m\u001b[43m \u001b[49m\u001b[43mF\u001b[49m\u001b[38;5;241;43m=\u001b[39;49m\u001b[43mdess\u001b[49m\u001b[38;5;241;43m.\u001b[39;49m\u001b[43mT\u001b[49m\u001b[43m,\u001b[49m\u001b[43m \u001b[49m\u001b[43medges_tt\u001b[49m\u001b[38;5;241;43m=\u001b[39;49m\u001b[43medges_tt\u001b[49m\u001b[43m)\u001b[49m\n",
      "File \u001b[0;32m~/Documents/yorku/01_thesis/code/my_packages/my_simgraph_06.py:329\u001b[0m, in \u001b[0;36mcnstr_glr\u001b[0;34m(B, deriv, mu, x, F, edges_tt)\u001b[0m\n\u001b[1;32m    326\u001b[0m \u001b[38;5;28;01mfor\u001b[39;00m (i,j) \u001b[38;5;129;01min\u001b[39;00m edges_tt:\n\u001b[1;32m    327\u001b[0m     \u001b[38;5;66;03m# compute  r\u001b[39;00m\n\u001b[1;32m    328\u001b[0m     temp \u001b[38;5;241m=\u001b[39m F[:,i] \u001b[38;5;241m-\u001b[39m F[:,j]\n\u001b[0;32m--> 329\u001b[0m     wij \u001b[38;5;241m=\u001b[39m np\u001b[38;5;241m.\u001b[39mexp(\u001b[38;5;241m-\u001b[39m\u001b[38;5;241m1\u001b[39m \u001b[38;5;241m*\u001b[39m (\u001b[43mtemp\u001b[49m\u001b[38;5;241;43m.\u001b[39;49m\u001b[43mT\u001b[49m\u001b[43m \u001b[49m\u001b[38;5;241;43m@\u001b[39;49m\u001b[43m \u001b[49m\u001b[43mM\u001b[49m \u001b[38;5;241m@\u001b[39m temp))\n\u001b[1;32m    330\u001b[0m     r \u001b[38;5;241m+\u001b[39m\u001b[38;5;241m=\u001b[39m wij\n\u001b[1;32m    332\u001b[0m     \u001b[38;5;28;01mif\u001b[39;00m deriv:\n\u001b[1;32m    333\u001b[0m         \u001b[38;5;66;03m# compute drdM for just one specific i, j\u001b[39;00m\n",
      "\u001b[0;31mKeyboardInterrupt\u001b[0m: "
     ]
    }
   ],
   "source": [
    "# times will be measured together and  written in res_path_sg\n",
    "val_num_res_sg, val_num_err_sg, val_num_res_lgrg, val_num_err_lgrg = asg.assess_sg_model(data_params, sg_params, sg_opt_params, rnd_params, fig_params, res_path_sg, res_path_lgrg)"
   ]
  },
  {
   "cell_type": "code",
   "execution_count": null,
   "id": "74f5c860-72ef-4e86-ad88-9acae67d5839",
   "metadata": {
    "tags": []
   },
   "outputs": [],
   "source": [
    "asg.plot_curves(rnd_params, sg_params, res_path_sg)"
   ]
  },
  {
   "cell_type": "code",
   "execution_count": null,
   "id": "8b11b71c-ed44-4a97-8c84-3c190d97733b",
   "metadata": {},
   "outputs": [],
   "source": [
    "asg.plot_curves_without_runtime(rnd_params, sg_params, res_path_lgrg)"
   ]
  },
  {
   "cell_type": "code",
   "execution_count": null,
   "id": "5f5d19f6-dcf0-442f-8c97-7d33918c95dc",
   "metadata": {
    "tags": []
   },
   "outputs": [],
   "source": [
    "# # close the matlab engine when you're done\n",
    "# eng.quit()"
   ]
  },
  {
   "cell_type": "markdown",
   "id": "b4a62b09-528a-452f-b888-24b751096528",
   "metadata": {},
   "source": [
    "# Plot similarity graph and logistic regression validation accuracies together"
   ]
  },
  {
   "cell_type": "code",
   "execution_count": null,
   "id": "8c5fda52-6076-4b28-9bee-5b3cc31a83a9",
   "metadata": {
    "tags": []
   },
   "outputs": [],
   "source": [
    "# unpack params\n",
    "train_sizes = rnd_params['train_sizes']\n",
    "val_sizes = rnd_params['val_sizes']\n",
    "train_its = rnd_params['train_its']\n",
    "val_its = rnd_params['val_its']\n",
    "assess_qs = ['min_acc', 'val_acc', 'missed', 'false_alarm']\n",
    "\n",
    "# read sg training curves\n",
    "curves_sg = {}\n",
    "errors_sg = {}\n",
    "for i in range(len(val_sizes)):\n",
    "    curves_i = np.loadtxt(res_path_sg+'curves/train_'+str(i)+'.txt')\n",
    "    j = 0\n",
    "    for quantity in assess_qs:\n",
    "        if i==0:\n",
    "            curves_sg[quantity] = curves_i[j::8].reshape((1, -1))\n",
    "            errors_sg[quantity] = curves_i[j+1::8].reshape((1, -1))\n",
    "        else:\n",
    "            curves_sg[quantity] = np.concatenate((curves[quantity], [curves_i[j::8]]), axis=0)\n",
    "            errors_sg[quantity] = np.concatenate((errors[quantity], [curves_i[j+1::8]]), axis=0)\n",
    "        j += 2\n",
    "        \n",
    "# read lgrg training curves\n",
    "curves_lgrg = {}\n",
    "errors_lgrg = {}\n",
    "for i in range(len(val_sizes)):\n",
    "    curves_i = np.loadtxt(res_path_lgrg+'curves/train_'+str(i)+'.txt')\n",
    "    j = 0\n",
    "    for quantity in assess_qs:\n",
    "        if i==0:\n",
    "            curves_lgrg[quantity] = curves_i[j::8].reshape((1, -1))\n",
    "            errors_lgrg[quantity] = curves_i[j+1::8].reshape((1, -1))\n",
    "        else:\n",
    "            curves_lgrg[quantity] = np.concatenate((curves[quantity], [curves_i[j::8]]), axis=0)\n",
    "            errors_lgrg[quantity] = np.concatenate((errors[quantity], [curves_i[j+1::8]]), axis=0)\n",
    "        j += 2\n",
    "\n",
    "# plot training curves\n",
    "plt.figure(figsize=(7,4))\n",
    "plt.subplots_adjust(left=0.1,bottom=0.1,right=0.9,top=0.9,wspace=0.8,hspace=0.8)\n",
    "for i in range(len(val_sizes)):\n",
    "    plt.subplot(len(val_sizes), 1, i+1)\n",
    "    plt.errorbar(train_sizes, curves_sg['val_acc'][i], errors_sg['val_acc'][i])\n",
    "    plt.errorbar(train_sizes, curves_lgrg['val_acc'][i], errors_lgrg['val_acc'][i])\n",
    "    plt.legend(['sg', 'lgrg'])\n",
    "    plt.xlabel('training set size')\n",
    "    plt.ylabel('{} val repeats x {} train repeats'.format(val_its, train_its))\n",
    "    _ = plt.title('val. set size = {}, Dt = {}, Dvt = {}, Dv = {}'.format(val_sizes[i], sg_params['Dt'], sg_params['Dvt'], sg_params['Dv']))\n",
    "plt.savefig(res_path_sg+'val_acc_compare.png')"
   ]
  },
  {
   "cell_type": "code",
   "execution_count": null,
   "id": "0dcfed75-cd3b-4920-8bdf-36c1b647d962",
   "metadata": {},
   "outputs": [],
   "source": []
  },
  {
   "cell_type": "code",
   "execution_count": null,
   "id": "1aed3eb0-dd4c-46ab-9e7a-589cde2f1f29",
   "metadata": {},
   "outputs": [],
   "source": []
  },
  {
   "cell_type": "code",
   "execution_count": null,
   "id": "4668e272-1068-4993-8aca-2fa115e68b58",
   "metadata": {},
   "outputs": [],
   "source": []
  },
  {
   "cell_type": "code",
   "execution_count": null,
   "id": "e6655fb7-0599-4e9d-99b2-e67e0424be35",
   "metadata": {},
   "outputs": [],
   "source": []
  }
 ],
 "metadata": {
  "kernelspec": {
   "display_name": "Python 3 (ipykernel)",
   "language": "python",
   "name": "python3"
  },
  "language_info": {
   "codemirror_mode": {
    "name": "ipython",
    "version": 3
   },
   "file_extension": ".py",
   "mimetype": "text/x-python",
   "name": "python",
   "nbconvert_exporter": "python",
   "pygments_lexer": "ipython3",
   "version": "3.9.13"
  }
 },
 "nbformat": 4,
 "nbformat_minor": 5
}
