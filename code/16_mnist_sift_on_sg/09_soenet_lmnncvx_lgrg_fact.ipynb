{
 "cells": [
  {
   "cell_type": "code",
   "execution_count": 1,
   "id": "e05b8f07-72b0-4782-b905-e1993fed7708",
   "metadata": {
    "tags": []
   },
   "outputs": [],
   "source": [
    "import numpy as np\n",
    "import matplotlib.pyplot as plt\n",
    "from sklearn.linear_model import LogisticRegression\n",
    "from scipy.io import savemat, loadmat\n",
    "import matlab.engine # to run Cheng's code\n",
    "import time\n",
    "\n",
    "# add the path to my packages to system paths so they can be imported\n",
    "import sys\n",
    "sys.path.append('/home/yasamanparhizkar/Documents/yorku/01_thesis/code/my_packages')\n",
    "# sys.path.append('F:\\MAScThesis\\code\\my_packages')\n",
    "# sys.path.append('/home/yasamanparhizkar/Documents/thesis/code/my_packages')\n",
    "\n",
    "import my_simgraph_06 as sg\n",
    "import data_handler_03 as dh\n",
    "import edge_selection_cheng_01 as es"
   ]
  },
  {
   "cell_type": "markdown",
   "id": "5c0d8c1d-35fa-44f6-8599-4c7623f94363",
   "metadata": {},
   "source": [
    "# Create training and validation datasets"
   ]
  },
  {
   "cell_type": "code",
   "execution_count": 140,
   "id": "a4c6aa08-5351-416f-91d8-67bdc95ffcde",
   "metadata": {
    "tags": []
   },
   "outputs": [
    {
     "name": "stdout",
     "output_type": "stream",
     "text": [
      "train_num =  30 , val_num =  20\n",
      "# of features =  5\n",
      "training data contains 15 points (50.00%) of label 1.\n",
      "validation data contains 10 points (50.00%) of label 1.\n"
     ]
    }
   ],
   "source": [
    "data_sz = 13204 # all available mnist-sift datapoints\n",
    "# consider all range\n",
    "ind_min = 0\n",
    "ind_max = 13203\n",
    "train_num = 30\n",
    "val_num = 20\n",
    "\n",
    "# # load all the labels\n",
    "# data_path = '../../data/fe_exp/mnist-sift/'\n",
    "# lbls = np.loadtxt(data_path+'lbls.csv')\n",
    "\n",
    "def transform(fv):\n",
    "    return fv[::63]\n",
    "\n",
    "def get_mnist_labels(data_params):\n",
    "    return np.loadtxt(data_params['features_dp']+'lbls.csv')\n",
    "\n",
    "data_params = {'func': dh.datapoint_sift, 'lbl_func': get_mnist_labels, 'features_dp': '../../data/fe_exp/mnist-sift/', \\\n",
    "               'spike_data': None, 'group_id': None, 'transform': transform, 'ind_min': 0, 'ind_max': 13203}\n",
    "\n",
    "train_num, val_num, train_data, val_data = \\\n",
    "dh.random_train_val_balanced(train_num, val_num, data_params, seed=None)\n",
    "\n",
    "# show statistics\n",
    "print('train_num = ', train_num, ', val_num = ', val_num)\n",
    "print('# of features = ', train_data['des'].shape[1])\n",
    "print('training data contains {} points ({:.2f}%) of label 1.'\n",
    "      .format(np.sum(train_data['lbls'] == 1), np.sum(train_data['lbls'] == 1)*100/train_num))\n",
    "print('validation data contains {} points ({:.2f}%) of label 1.'\n",
    "      .format(np.sum(val_data['lbls'] == 1), np.sum(val_data['lbls'] == 1)*100/val_num))\n",
    "\n",
    "# print('train_smpls = ', train_data['smpls'], '\\nval_smpls = ', val_data['smpls'])\n",
    "# print('train_lbls = ', train_data['lbls'], '\\nval_lbls = ', val_data['lbls'])\n",
    "# print('train_des = ', train_data['des'], '\\nval_des = ', val_data['des'])"
   ]
  },
  {
   "cell_type": "markdown",
   "id": "5c9175d0-a80c-41b5-9efb-1923c72a6f8c",
   "metadata": {},
   "source": [
    "## Select training edges"
   ]
  },
  {
   "cell_type": "code",
   "execution_count": 112,
   "id": "62fc8125-dad4-4f97-92e2-55ff681d74ec",
   "metadata": {
    "tags": []
   },
   "outputs": [],
   "source": [
    "def get_edges_tt_maxdeg_cheng(x, D, seed):\n",
    "    \"\"\"\n",
    "    Refer to documentation for 'get_edges_tt'\n",
    "    \"\"\"\n",
    "\n",
    "    if seed is not None:\n",
    "        np.random.seed(seed)\n",
    "\n",
    "    edges = []\n",
    "    N = x.shape[0]\n",
    "    degree = np.zeros(N)\n",
    "    for i in range(N):\n",
    "        candids = []\n",
    "        for j in range(i+1, N):\n",
    "            if degree[j] < D:\n",
    "                candids.append(j)\n",
    "        candids = np.array(candids)\n",
    "        \n",
    "        temp = np.array([],dtype=np.int64)\n",
    "        comp = D-degree[i];\n",
    "        if comp < len(candids):\n",
    "            if comp > 0 and any(x[candids]==x[i]):\n",
    "                chosen = candids[x[candids]==x[i]][0]\n",
    "                temp = np.append(temp, chosen)\n",
    "                comp = comp - 1\n",
    "                candids = candids[candids != chosen]\n",
    "            if comp > 0 and any(x[candids]!=x[i]):\n",
    "                chosen = candids[x[candids]!=x[i]][0]\n",
    "                temp = np.append(temp, chosen)\n",
    "                comp = comp - 1\n",
    "                candids = candids[candids != chosen]\n",
    "            temp = np.append(temp, np.random.choice(candids, size=int(comp), replace=False))\n",
    "        else:\n",
    "            temp = np.array(candids)\n",
    "\n",
    "        temp = [(i,j) for j in temp] \n",
    "        edges = edges + temp\n",
    "        degree[i] += len(temp)\n",
    "        for (i,j) in temp:\n",
    "            degree[j] += 1\n",
    "\n",
    "    return edges"
   ]
  },
  {
   "cell_type": "code",
   "execution_count": 113,
   "id": "685872fb-043e-4afc-9abd-6654f7f692d7",
   "metadata": {
    "tags": []
   },
   "outputs": [],
   "source": [
    "# graph construction and penalty term parameters\n",
    "# NOTE: Dt must be greater than one to make sure at least one delta variable exists in the objective function\n",
    "sg_params = {'mu': 30, 'Dt': 5000, 'Dv': 0, 'Dvt': 3000, \\\n",
    "             'cnstr_method_tt': 'random', 'cnstr_method_vv': 'random', 'cnstr_method_vt': 'random',\\\n",
    "             'train_t': train_data['smpls'], 'val_t': val_data['smpls'], \\\n",
    "             'edges_tt':None, 'edges_vv':None, 'edges_vt':None, }"
   ]
  },
  {
   "cell_type": "code",
   "execution_count": 114,
   "id": "e9e8c809-8636-417b-b68f-b3ea45653900",
   "metadata": {
    "tags": []
   },
   "outputs": [],
   "source": [
    "# construct the training graph\n",
    "seed = 0\n",
    "if sg_params['edges_tt'] is None:\n",
    "    sg_params['edges_tt'] = get_edges_tt_maxdeg_cheng(train_data['lbls'], sg_params['Dt'], seed)"
   ]
  },
  {
   "cell_type": "code",
   "execution_count": 115,
   "id": "5b2af995-ca7b-430e-bd74-1a1cc45c3d4c",
   "metadata": {
    "tags": []
   },
   "outputs": [
    {
     "name": "stdout",
     "output_type": "stream",
     "text": [
      "number of tt edges:  435\n"
     ]
    }
   ],
   "source": [
    "print('number of tt edges: ', len(sg_params['edges_tt']))"
   ]
  },
  {
   "cell_type": "markdown",
   "id": "5273f71f-8635-4ad0-b371-8142a97c50cb",
   "metadata": {},
   "source": [
    "## Save the data on disc for the Matlab code's use"
   ]
  },
  {
   "cell_type": "code",
   "execution_count": 116,
   "id": "e8f6a469-5cf7-4d89-92c2-92a54e620998",
   "metadata": {
    "tags": []
   },
   "outputs": [],
   "source": [
    "# save the dataset on disc\n",
    "data_path = '../../data/fe_exp/cheng_swap_1/'\n",
    "savemat(data_path+'data_sift.mat', {'data_feature': train_data['des'], 'data_label': train_data['lbls'], 'data_edge': sg_params['edges_tt']})"
   ]
  },
  {
   "cell_type": "markdown",
   "id": "109d7df7-a9b2-4d00-ba5f-8539f1004277",
   "metadata": {},
   "source": [
    "# Learn the similarity graph with GDPA"
   ]
  },
  {
   "cell_type": "code",
   "execution_count": 86,
   "id": "c9be4e78-d622-42b2-8c08-f553eda342e1",
   "metadata": {
    "tags": []
   },
   "outputs": [],
   "source": [
    "eng.quit()"
   ]
  },
  {
   "cell_type": "code",
   "execution_count": 87,
   "id": "0f0ec82c-42d9-4e99-8466-048c129e454b",
   "metadata": {
    "tags": []
   },
   "outputs": [],
   "source": [
    "eng = matlab.engine.start_matlab()\n",
    "eng.cd(r'../15_cheng/lmnn-offtheshelf/', nargout=0)"
   ]
  },
  {
   "cell_type": "code",
   "execution_count": 117,
   "id": "e0b796e4-ecd1-4644-9772-e863f5085d11",
   "metadata": {
    "tags": []
   },
   "outputs": [],
   "source": [
    "gamma = 1\n",
    "beta = 1\n",
    "# (M_gdpa, delta_gdpa) = eng.lmnn_fit('sift',gamma, beta, nargout=2)\n",
    "(M_gdpa, delta_gdpa, cvx_status) = eng.lmnn_cvx_python('sift',gamma, beta, nargout=3)"
   ]
  },
  {
   "cell_type": "code",
   "execution_count": 118,
   "id": "4243f1d5-dcf0-42e2-b438-38195b9fc769",
   "metadata": {
    "tags": []
   },
   "outputs": [],
   "source": [
    "M_gdpa = np.array(M_gdpa)\n",
    "delta_gdpa = np.array(delta_gdpa).reshape(-1)"
   ]
  },
  {
   "cell_type": "code",
   "execution_count": 119,
   "id": "9c0a6ad5-ee17-449c-98e5-53c7684fbb1f",
   "metadata": {
    "tags": []
   },
   "outputs": [
    {
     "data": {
      "text/plain": [
       "array([0.18978289, 0.59344635, 0.84038793, ..., 1.19256253, 1.50519813,\n",
       "       1.43888346])"
      ]
     },
     "execution_count": 119,
     "metadata": {},
     "output_type": "execute_result"
    }
   ],
   "source": [
    "delta_gdpa"
   ]
  },
  {
   "cell_type": "markdown",
   "id": "d64cb747-291f-4422-9676-26c3326e749b",
   "metadata": {},
   "source": [
    "## Display learned metric matrix"
   ]
  },
  {
   "cell_type": "code",
   "execution_count": 120,
   "id": "2bf730ba-0067-4da2-aec8-b207a19f6a2e",
   "metadata": {
    "tags": []
   },
   "outputs": [
    {
     "data": {
      "text/plain": [
       "Text(0.5, 1.0, 'M_gdpa - marked above 0%')"
      ]
     },
     "execution_count": 120,
     "metadata": {},
     "output_type": "execute_result"
    },
    {
     "data": {
      "image/png": "[encoded data removed]",
      "text/plain": [
       "<Figure size 288x288 with 2 Axes>"
      ]
     },
     "metadata": {
      "needs_background": "light"
     },
     "output_type": "display_data"
    }
   ],
   "source": [
    "# display the optimized metric matrix\n",
    "# print('M_gdpa = \\n', M_gdpa)\n",
    "\n",
    "sg.display_matrix(M_gdpa, None)\n",
    "# mark elements with high values\n",
    "thresh = 0\n",
    "lim = (thresh/100) * np.max(M_gdpa) # marker threshold\n",
    "f_sz = M_gdpa.shape[0]\n",
    "xloc = np.broadcast_to(np.arange(f_sz), (f_sz, f_sz))\n",
    "yloc = xloc.T\n",
    "plt.plot(xloc[M_gdpa > lim],yloc[M_gdpa > lim], marker='o', markersize=3, color='r', linestyle='')\n",
    "plt.title('M_gdpa - marked above {}%'.format(thresh))\n",
    "# print('M_gdpa - Coordinates of elements with higher values than {}'.format(lim))\n",
    "# print(list(zip(xloc[M_gdpa > lim],yloc[M_gdpa > lim])))"
   ]
  },
  {
   "cell_type": "code",
   "execution_count": 121,
   "id": "89521e71-178c-4000-81b2-ab708b6dd979",
   "metadata": {
    "tags": []
   },
   "outputs": [
    {
     "name": "stdout",
     "output_type": "stream",
     "text": [
      "Is there any non-zero element off-diagonal:  True\n"
     ]
    }
   ],
   "source": [
    "M_dummy = M_gdpa.copy()\n",
    "M_dummy[np.eye(train_data['des'].shape[1]).astype(bool)] = 0\n",
    "print('Is there any non-zero element off-diagonal: ', (M_dummy > 0).any())"
   ]
  },
  {
   "cell_type": "markdown",
   "id": "be1b8d29-7f00-4c83-a9bc-7c5487ed9bc8",
   "metadata": {},
   "source": [
    "## Compute the final training loss of sg-gdpa"
   ]
  },
  {
   "cell_type": "code",
   "execution_count": 122,
   "id": "1ee3444f-9ff6-49e2-b9ac-0884e90c8876",
   "metadata": {
    "tags": []
   },
   "outputs": [],
   "source": [
    "V = eng.get_objective_variables_ready_python('sift')\n",
    "V = np.array(V)"
   ]
  },
  {
   "cell_type": "code",
   "execution_count": 123,
   "id": "69cf32bf-f3ca-4c69-91b9-aaeda6881b30",
   "metadata": {
    "tags": []
   },
   "outputs": [
    {
     "name": "stdout",
     "output_type": "stream",
     "text": [
      "GDPA loss with GDPA metric: 2300.2248\n"
     ]
    }
   ],
   "source": [
    "loss_gdpa = np.sum(M_gdpa * V.T) + beta * np.sum(delta_gdpa)\n",
    "\n",
    "print('GDPA loss with GDPA metric: {:.4f}'.format(loss_gdpa))"
   ]
  },
  {
   "cell_type": "markdown",
   "id": "e484bf99-0f5a-4423-bf8c-08db092f4532",
   "metadata": {},
   "source": [
    "## Validate the similarity graph (GDPA)"
   ]
  },
  {
   "cell_type": "code",
   "execution_count": 124,
   "id": "3d48fce5-e79a-4be9-b166-a7d2cf66c880",
   "metadata": {
    "tags": []
   },
   "outputs": [],
   "source": [
    "# # reload sg package\n",
    "# import importlib\n",
    "# importlib.reload(sg)"
   ]
  },
  {
   "cell_type": "code",
   "execution_count": 125,
   "id": "93bf5f6d-9037-48b4-86e3-b21ccfc06e49",
   "metadata": {
    "tags": []
   },
   "outputs": [
    {
     "name": "stdout",
     "output_type": "stream",
     "text": [
      "Elapsed time = 3.99 ms\n"
     ]
    }
   ],
   "source": [
    "val_acc_gdpa, y_est_gdpa, t_gdpa = sg.get_acc(M_gdpa, train_data['des'], train_data['lbls'], val_data['des'], val_data['lbls'], sg_params, seed=seed, show_edges=False)\n",
    "print('Elapsed time = {:.2f} ms'.format(t_gdpa*1000))"
   ]
  },
  {
   "cell_type": "code",
   "execution_count": 126,
   "id": "a21b0281-15b6-449e-a567-e89c2a0fe85d",
   "metadata": {
    "tags": []
   },
   "outputs": [],
   "source": [
    "# Note: sg_params changes here. edges_vv and edges_vt are set"
   ]
  },
  {
   "cell_type": "code",
   "execution_count": 127,
   "id": "45fe33d8-430f-4a4b-b0a7-94a99b676e2a",
   "metadata": {
    "tags": []
   },
   "outputs": [
    {
     "name": "stdout",
     "output_type": "stream",
     "text": [
      "val acc = 90.00%\n",
      "elapsed time = 3.99 ms\n",
      "estimated val labels =  [ 1  1  1  1  1  1  1  1  1  1  1 -1 -1 -1 -1  1 -1 -1 -1 -1]\n"
     ]
    }
   ],
   "source": [
    "print('val acc = {:.2f}%'.format(val_acc_gdpa*100))\n",
    "print('elapsed time = {:.2f} ms'.format(t_gdpa*1000))\n",
    "print('estimated val labels = ', 2*(y_est_gdpa>0).astype(np.int32)-1)"
   ]
  },
  {
   "cell_type": "code",
   "execution_count": 128,
   "id": "24f49824-7ece-43f5-b77f-1a5400375fab",
   "metadata": {
    "tags": []
   },
   "outputs": [
    {
     "name": "stdout",
     "output_type": "stream",
     "text": [
      "Estimated spike time bins:  [ 0  1  2  3  4  5  6  7  8  9 10 15]\n",
      "Real spike time bins:  [0 1 2 3 4 5 6 7 8 9]\n",
      "50.00% of validation points have label 1 (= min accuracy)\n",
      "Missed spikes (/all spikes): 0.00%\n",
      "False spikes (/all no-spike bins): 20.00%\n"
     ]
    }
   ],
   "source": [
    "# comparing estimated and real spike locations\n",
    "val_loc = np.arange(val_num)\n",
    "val_spikes = val_loc[val_data['lbls']==1]\n",
    "est_spikes_gdpa = val_loc[y_est_gdpa > 0]\n",
    "\n",
    "if sum(val_data['lbls']==1) == 0:\n",
    "    missed_gdpa = 0\n",
    "else:\n",
    "    missed_gdpa = sum(np.logical_and(val_data['lbls']==1, y_est_gdpa < 0))/sum(val_data['lbls']==1)\n",
    "\n",
    "if sum(val_data['lbls']==-1) == 0:\n",
    "    false_alarm_gdpa = 0\n",
    "else:\n",
    "    false_alarm_gdpa = sum(np.logical_and(val_data['lbls']==-1, y_est_gdpa > 0))/sum(val_data['lbls']==-1)\n",
    "\n",
    "nospk_per = np.sum(val_data['lbls']==-1)/val_num\n",
    "min_acc = max(nospk_per, 1-nospk_per)\n",
    "\n",
    "print('Estimated spike time bins: ', est_spikes_gdpa)\n",
    "print('Real spike time bins: ', val_spikes)\n",
    "print('{:.2f}% of validation points have label {} (= min accuracy)'.format(min_acc*100, -1 if nospk_per > 50 else 1))\n",
    "print('Missed spikes (/all spikes): {:.2f}%'.format(missed_gdpa*100))\n",
    "print('False spikes (/all no-spike bins): {:.2f}%'.format(false_alarm_gdpa*100))"
   ]
  },
  {
   "cell_type": "markdown",
   "id": "5b6bf483-829c-4c87-812d-c3554ed5e408",
   "metadata": {},
   "source": [
    "# Train the similarity graph with M = B.T @ B"
   ]
  },
  {
   "cell_type": "code",
   "execution_count": 129,
   "id": "f828d15e-cbf4-45aa-8371-a4794689a527",
   "metadata": {},
   "outputs": [
    {
     "name": "stdout",
     "output_type": "stream",
     "text": [
      "Number of training datapoints: 30\n",
      "Number of features for each point: 5\n",
      "mu = 30\n",
      "   0: eps = 3.12e-02;  train loss (E) = 1740.00\n",
      "   1: eps = 3.12e-02;  train loss (E) = 1739.99\n",
      "   2: eps = 6.25e-02;  train loss (E) = 1739.96\n",
      "   3: eps = 6.25e-02;  train loss (E) = 1739.90\n",
      "   4: eps = 3.12e-02;  train loss (E) = 1739.64\n",
      "   5: eps = 6.25e-02;  train loss (E) = 1739.01\n",
      "   6: eps = 6.25e-02;  train loss (E) = 1738.59\n",
      "   7: eps = 3.12e-02;  train loss (E) = 1735.02\n",
      "   8: eps = 3.12e-02;  train loss (E) = 1732.04\n",
      "   9: eps = 3.12e-02;  train loss (E) = 1730.35\n",
      "Elapsed time = 0.10172748565673828 sec\n"
     ]
    }
   ],
   "source": [
    "# graph construction and penalty term parameters\n",
    "# sg_params = {'mu': 30, 'Dt': None, 'Dv':0, 'Dvt':2000, \\\n",
    "#              'cnstr_method_tt': 'time', 'cnstr_method_vv': 'time', 'cnstr_method_vt': 'time',\\\n",
    "#              'train_t': train_data['smpls'], 'val_t': val_data['smpls'], \\\n",
    "#              'edges_tt':None, 'edges_vv':None, 'edges_vt':None, }\n",
    "\n",
    "# gradient descent parameters\n",
    "sg_opt_params = { 'epsilon0':1, 'epsilon_decay':0.5, 'epsilon_jump': 2, \\\n",
    "                  'num_its':10, 'check_freq':1, 'print_checks':True, 'Theta0':None, \\\n",
    "                  'force_all_its': True, 'threshold': 0.01}\n",
    "\n",
    "time0 = time.time()\n",
    "B_fact, sg_stats_fact = sg.fit_graph(dess=train_data['des'], lbls=train_data['lbls'], graph_params=sg_params, opt_params=sg_opt_params, seed=0)\n",
    "print('Elapsed time = {} sec'.format(time.time()-time0))"
   ]
  },
  {
   "cell_type": "markdown",
   "id": "53bb7fc0-ecba-4138-89bd-328e8c0f7cc0",
   "metadata": {},
   "source": [
    "## Display learned metric matrix"
   ]
  },
  {
   "cell_type": "code",
   "execution_count": 130,
   "id": "3a947c78-66b2-4a6c-a07f-dab0d28163d4",
   "metadata": {},
   "outputs": [
    {
     "data": {
      "text/plain": [
       "Text(0.5, 1.0, 'M_fact - marked above 30%')"
      ]
     },
     "execution_count": 130,
     "metadata": {},
     "output_type": "execute_result"
    },
    {
     "data": {
      "image/png": "[encoded data removed]",
      "text/plain": [
       "<Figure size 288x288 with 2 Axes>"
      ]
     },
     "metadata": {
      "needs_background": "light"
     },
     "output_type": "display_data"
    }
   ],
   "source": [
    "# display learned M\n",
    "M_fact = B_fact.T @ B_fact\n",
    "\n",
    "sg.display_matrix(M_fact, None)\n",
    "\n",
    "# mark elements with high values\n",
    "thresh = 30\n",
    "lim = (thresh/100) * np.max(M_fact) # marker threshold\n",
    "f_sz = M_fact.shape[0]\n",
    "xloc = np.broadcast_to(np.arange(f_sz), (f_sz, f_sz))\n",
    "yloc = xloc.T\n",
    "plt.plot(xloc[M_fact > lim],yloc[M_fact > lim], marker='o', markersize=3, color='r', linestyle='')\n",
    "plt.title('M_fact - marked above {}%'.format(thresh))\n",
    "# print('M_fact - Coordinates of elements with higher values than {:.2f}'.format(lim))\n",
    "# print(list(zip(xloc[M_fact > lim],yloc[M_fact > lim])))"
   ]
  },
  {
   "cell_type": "markdown",
   "id": "e4567a70-3c83-4d93-bc7f-ee14212b0a24",
   "metadata": {},
   "source": [
    "## Compute the final training loss of sg-factorization"
   ]
  },
  {
   "cell_type": "code",
   "execution_count": 131,
   "id": "0933a362-cc09-4a8b-b381-7c543eaffbbe",
   "metadata": {
    "tags": []
   },
   "outputs": [
    {
     "name": "stdout",
     "output_type": "stream",
     "text": [
      "Factorization final loss: 1730.348\n"
     ]
    }
   ],
   "source": [
    "loss_fact = sg.cnstr_glr(B_fact, deriv=False, mu=sg_params['mu'], x=train_data['lbls'], F=train_data['des'].T, edges_tt=sg_params['edges_tt'])\n",
    "\n",
    "print('Factorization final loss: {:.3f}'.format(loss_fact))"
   ]
  },
  {
   "cell_type": "markdown",
   "id": "80cfdb8f-bd4c-4bbb-9c2a-24aaa144a1ad",
   "metadata": {},
   "source": [
    "## Validate the similarity graph"
   ]
  },
  {
   "cell_type": "code",
   "execution_count": 132,
   "id": "d56ee5bb-d518-421b-b073-ddfdc46824d9",
   "metadata": {
    "tags": []
   },
   "outputs": [],
   "source": [
    "val_acc_fact, y_est_fact, t_fact = sg.get_acc(M_fact, train_data['des'], train_data['lbls'], val_data['des'], val_data['lbls'], sg_params, seed=seed, show_edges=False)"
   ]
  },
  {
   "cell_type": "code",
   "execution_count": 133,
   "id": "a3725f8c-fc3a-4ed9-a95b-a474b4f9b500",
   "metadata": {
    "tags": []
   },
   "outputs": [
    {
     "name": "stdout",
     "output_type": "stream",
     "text": [
      "val acc = 50.00%\n",
      "elapsed time = 2.99 ms\n",
      "estimated val labels =  [-1 -1 -1 -1 -1 -1 -1 -1 -1 -1 -1 -1 -1 -1 -1 -1 -1 -1 -1 -1]\n"
     ]
    }
   ],
   "source": [
    "print('val acc = {:.2f}%'.format(val_acc_fact*100))\n",
    "print('elapsed time = {:.2f} ms'.format(t_fact*1000))\n",
    "print('estimated val labels = ', 2*(y_est_fact>0).astype(np.int32)-1)"
   ]
  },
  {
   "cell_type": "code",
   "execution_count": 134,
   "id": "2c447afd-c675-48fe-a2d6-2c930716e376",
   "metadata": {
    "tags": []
   },
   "outputs": [
    {
     "name": "stdout",
     "output_type": "stream",
     "text": [
      "Estimated spike time bins:  []\n",
      "Real spike time bins:  [0 1 2 3 4 5 6 7 8 9]\n",
      "50.00% of validation points have label 1 (= min accuracy)\n",
      "Missed spikes (/all spikes): 100.00%\n",
      "False spikes (/all no-spike bins): 0.00%\n"
     ]
    }
   ],
   "source": [
    "# comparing estimated and real spike locations\n",
    "est_spikes_fact = val_loc[y_est_fact > 0]\n",
    "\n",
    "if sum(val_data['lbls']==1) == 0:\n",
    "    missed_fact = 0\n",
    "else:\n",
    "    missed_fact = sum(np.logical_and(val_data['lbls']==1, y_est_fact < 0))/sum(val_data['lbls']==1)\n",
    "\n",
    "if sum(val_data['lbls']==-1) == 0:\n",
    "    false_alarm_fact = 0\n",
    "else:\n",
    "    false_alarm_fact = sum(np.logical_and(val_data['lbls']==-1, y_est_fact > 0))/sum(val_data['lbls']==-1)\n",
    "\n",
    "nospk_per = np.sum(val_data['lbls']==-1)/val_num\n",
    "min_acc = max(nospk_per, 1-nospk_per)\n",
    "\n",
    "print('Estimated spike time bins: ', est_spikes_fact)\n",
    "print('Real spike time bins: ', val_spikes)\n",
    "print('{:.2f}% of validation points have label {} (= min accuracy)'.format(min_acc*100, -1 if nospk_per > 50 else 1))\n",
    "print('Missed spikes (/all spikes): {:.2f}%'.format(missed_fact*100))\n",
    "print('False spikes (/all no-spike bins): {:.2f}%'.format(false_alarm_fact*100))"
   ]
  },
  {
   "cell_type": "markdown",
   "id": "1f9cf018-6708-48f9-a51a-b152ec3dbd3a",
   "metadata": {},
   "source": [
    "# Train the logistic regression model"
   ]
  },
  {
   "cell_type": "code",
   "execution_count": 135,
   "id": "5b06bc12-5305-429b-95e6-23fb1fa73270",
   "metadata": {
    "tags": []
   },
   "outputs": [],
   "source": [
    "# instantiate the model\n",
    "lgrg = LogisticRegression(penalty='none')\n",
    "\n",
    "# train the model  \n",
    "lgrg = lgrg.fit(train_data['des'], train_data['lbls'])"
   ]
  },
  {
   "cell_type": "code",
   "execution_count": 136,
   "id": "072bd6d3-92f2-477a-9ec1-affa2454ded1",
   "metadata": {
    "tags": []
   },
   "outputs": [
    {
     "name": "stdout",
     "output_type": "stream",
     "text": [
      "classes =  [-1.  1.]\n",
      "decision boundary bias =  [-198.44273107]\n",
      "number of features seen during fit =  5\n",
      "number of iterations done during fit =  [27]\n"
     ]
    }
   ],
   "source": [
    "# print optimized parameters\n",
    "print('classes = ', lgrg.classes_)\n",
    "# print('decision boundary coefficients = ', lgrg.coef_)\n",
    "print('decision boundary bias = ', lgrg.intercept_)\n",
    "print('number of features seen during fit = ', lgrg.n_features_in_)\n",
    "print('number of iterations done during fit = ', lgrg.n_iter_)"
   ]
  },
  {
   "cell_type": "markdown",
   "id": "cdaf67f2-f998-44e8-82c4-dd155c554327",
   "metadata": {},
   "source": [
    "## Validate the logistic regression"
   ]
  },
  {
   "cell_type": "code",
   "execution_count": 137,
   "id": "4eb4e3fc-5714-4ea9-b7bb-2c10fe7678f5",
   "metadata": {
    "tags": []
   },
   "outputs": [
    {
     "name": "stdout",
     "output_type": "stream",
     "text": [
      "Predicted labels WITH threshold =\n",
      " [ 1.  1.  1.  1.  1. -1.  1.  1.  1.  1. -1. -1. -1. -1. -1. -1. -1. -1.\n",
      " -1. -1.]\n",
      "Validation accuracy = 95.00%\n",
      "\n",
      "Estimated spike time bins:  [0 1 2 3 4 6 7 8 9]\n",
      "Real spike time bins:  [0 1 2 3 4 5 6 7 8 9]\n",
      "Missed spikes (/all spikes): 10.00%\n",
      "False spikes (/all no-spike bins): 0.00%\n"
     ]
    }
   ],
   "source": [
    "# validate the model\n",
    "preds_lgrg = lgrg.predict(val_data['des'])\n",
    "val_acc_lgrg = lgrg.score(val_data['des'], val_data['lbls'])\n",
    "\n",
    "est_spikes_lgrg = val_loc[preds_lgrg > 0]\n",
    "if sum(val_data['lbls']==1) == 0:\n",
    "    missed_lgrg = 0\n",
    "else:\n",
    "    missed_lgrg = sum(np.logical_and(val_data['lbls']==1, preds_lgrg < 0))/sum(val_data['lbls']==1)\n",
    "if sum(val_data['lbls']==-1) == 0:\n",
    "    false_alarm_lgrg = 0\n",
    "else:\n",
    "    false_alarm_lgrg = sum(np.logical_and(val_data['lbls']==-1, preds_lgrg > 0))/sum(val_data['lbls']==-1)\n",
    "\n",
    "print('Predicted labels WITH threshold =\\n', preds_lgrg)\n",
    "print('Validation accuracy = {:.2f}%\\n'.format(val_acc_lgrg*100))\n",
    "print('Estimated spike time bins: ', est_spikes_lgrg)\n",
    "print('Real spike time bins: ', val_spikes)\n",
    "print('Missed spikes (/all spikes): {:.2f}%'.format(missed_lgrg*100))\n",
    "print('False spikes (/all no-spike bins): {:.2f}%'.format(false_alarm_lgrg*100))"
   ]
  },
  {
   "cell_type": "markdown",
   "id": "c75667ac-304c-4189-acfa-790dfb59dd44",
   "metadata": {},
   "source": [
    "## Substitute the factorization M into the GDPA objective"
   ]
  },
  {
   "cell_type": "code",
   "execution_count": 138,
   "id": "fe0aa641-cb6c-4f53-9761-6ead503e8492",
   "metadata": {},
   "outputs": [
    {
     "name": "stdout",
     "output_type": "stream",
     "text": [
      "Factorization loss with factorization metric: 1730.348\n",
      "GDPA loss with GDPA metric:  2300.224844792662\n",
      "GDPA loss with Factorization metric:  2217.511300812661\n"
     ]
    }
   ],
   "source": [
    "loss_fact = sg.cnstr_glr(B_fact, deriv=False, mu=sg_params['mu'], x=train_data['lbls'], F=train_data['des'].T, edges_tt=sg_params['edges_tt'])\n",
    "loss_gdpa = np.sum(M_gdpa * V.T) + beta * np.sum(delta_gdpa)\n",
    "loss_fact_in_gdpa = np.sum(M_fact * V.T) + beta * np.sum(delta_gdpa)\n",
    "\n",
    "print('Factorization loss with factorization metric: {:.3f}'.format(loss_fact))\n",
    "print('GDPA loss with GDPA metric: ', loss_gdpa)\n",
    "print('GDPA loss with Factorization metric: ', loss_fact_in_gdpa)"
   ]
  },
  {
   "cell_type": "code",
   "execution_count": null,
   "id": "650eee93-7de9-41b6-9daf-a22e20631849",
   "metadata": {},
   "outputs": [],
   "source": []
  },
  {
   "cell_type": "code",
   "execution_count": 139,
   "id": "0faaf174-03b1-4a67-bc88-dea3607d9b01",
   "metadata": {},
   "outputs": [
    {
     "name": "stdout",
     "output_type": "stream",
     "text": [
      "GDPA val acc = 90.00%\n",
      "Factorization val acc = 50.00%\n",
      "Logistic regression validation accuracy = 95.00%\n",
      "\n"
     ]
    }
   ],
   "source": [
    "print('GDPA val acc = {:.2f}%'.format(val_acc_gdpa*100))\n",
    "print('Factorization val acc = {:.2f}%'.format(val_acc_fact*100))\n",
    "print('Logistic regression validation accuracy = {:.2f}%\\n'.format(val_acc_lgrg*100))"
   ]
  },
  {
   "cell_type": "markdown",
   "id": "60b0656e-5422-4491-81f6-5ffa301f29e7",
   "metadata": {},
   "source": [
    "# Quite the matlab engine (otherwise would overuse RAM)"
   ]
  },
  {
   "cell_type": "code",
   "execution_count": 48,
   "id": "e4c45425-164a-4647-86c5-ae5d497c8088",
   "metadata": {},
   "outputs": [],
   "source": [
    "eng.quit()"
   ]
  }
 ],
 "metadata": {
  "kernelspec": {
   "display_name": "Python 3 (ipykernel)",
   "language": "python",
   "name": "python3"
  },
  "language_info": {
   "codemirror_mode": {
    "name": "ipython",
    "version": 3
   },
   "file_extension": ".py",
   "mimetype": "text/x-python",
   "name": "python",
   "nbconvert_exporter": "python",
   "pygments_lexer": "ipython3",
   "version": "3.9.13"
  }
 },
 "nbformat": 4,
 "nbformat_minor": 5
}
