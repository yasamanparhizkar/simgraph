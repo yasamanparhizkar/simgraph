{
 "cells": [
  {
   "cell_type": "code",
   "execution_count": 2,
   "id": "f86d7885-6dc4-433e-b172-306cdd58574a",
   "metadata": {
    "tags": []
   },
   "outputs": [],
   "source": [
    "import numpy as np"
   ]
  },
  {
   "cell_type": "markdown",
   "id": "1d8b6ae3-079e-4b3c-ae78-46806f46011c",
   "metadata": {},
   "source": [
    "# Downlaod data"
   ]
  },
  {
   "cell_type": "code",
   "execution_count": 3,
   "id": "2c76ce90-746b-4002-af84-20e08b4d951e",
   "metadata": {
    "tags": []
   },
   "outputs": [],
   "source": [
    "# Fetch MNIST dataset\n",
    "from sklearn.datasets import fetch_openml\n",
    "data_set = 'mnist'\n",
    "\n",
    "if data_set == 'mnist':\n",
    "    raw_data = fetch_openml('mnist_784')\n",
    "    raw_data_x = np.array((raw_data['data']+0.5)/256.0)\n",
    "    raw_data_y = np.array(raw_data['target'].astype('int8'))\n",
    "    # separate classes 0 and 1 into a new dataset\n",
    "    accptbl_cats = (raw_data_y == 0) | (raw_data_y == 1)\n",
    "    \n",
    "    raw_data_x = raw_data_x[accptbl_cats]\n",
    "    raw_data_y = raw_data_y[accptbl_cats]\n",
    "    num_classes = 2\n",
    "    img_sz = (28,28)\n",
    "else:\n",
    "    assert False\n",
    "\n",
    "data_dim = raw_data_x.shape[1]"
   ]
  },
  {
   "cell_type": "markdown",
   "id": "c9d936f5-4155-4fd8-8529-7afeeb38375f",
   "metadata": {},
   "source": [
    "# Save data on file"
   ]
  },
  {
   "cell_type": "code",
   "execution_count": 11,
   "id": "020916e9-692a-4ea6-9591-9a4dfc3ee3b6",
   "metadata": {
    "tags": []
   },
   "outputs": [],
   "source": [
    "for img in range(len(raw_data_x)):\n",
    "    np.savetxt('../../../data/fe_exp/mnist/fv_'+str(img)+'.txt', raw_data_x[img])"
   ]
  },
  {
   "cell_type": "code",
   "execution_count": 13,
   "id": "6f940914-d66d-435f-ab2b-359054c675d5",
   "metadata": {
    "tags": []
   },
   "outputs": [],
   "source": [
    "np.savetxt('../../../data/fe_exp/mnist/lbls.txt', raw_data_y)"
   ]
  },
  {
   "cell_type": "markdown",
   "id": "664a6804-2269-48c8-be6a-68d8b88b2d88",
   "metadata": {
    "tags": []
   },
   "source": [
    "# Code snippet to load the dataset from file"
   ]
  },
  {
   "cell_type": "code",
   "execution_count": 17,
   "id": "6023be94-047b-4590-b8d8-174214f5ee6d",
   "metadata": {
    "tags": []
   },
   "outputs": [
    {
     "name": "stdout",
     "output_type": "stream",
     "text": [
      "(14780, 784)\n",
      "(14780,)\n"
     ]
    }
   ],
   "source": [
    "data_x = []\n",
    "for img in range(14780):\n",
    "    data_x.append(np.loadtxt('../../../data/fe_exp/mnist/fv_'+str(img)+'.txt'))\n",
    "data_x = np.array(data_x)\n",
    "data_y = np.loadtxt('../../../data/fe_exp/mnist/lbls.txt')\n",
    "\n",
    "print(data_x.shape)\n",
    "print(data_y.shape)"
   ]
  },
  {
   "cell_type": "code",
   "execution_count": null,
   "id": "084e22c3-78a7-42fe-b9a5-9ff34b68d5af",
   "metadata": {
    "tags": []
   },
   "outputs": [],
   "source": [
    "np.savetxt('../../../data/fe_exp/mnist/lbls.txt', raw_data_y)"
   ]
  },
  {
   "cell_type": "code",
   "execution_count": null,
   "id": "36992d7a-d7da-41a9-8f0e-d7672f65a611",
   "metadata": {},
   "outputs": [],
   "source": []
  }
 ],
 "metadata": {
  "kernelspec": {
   "display_name": "Python 3 (ipykernel)",
   "language": "python",
   "name": "python3"
  },
  "language_info": {
   "codemirror_mode": {
    "name": "ipython",
    "version": 3
   },
   "file_extension": ".py",
   "mimetype": "text/x-python",
   "name": "python",
   "nbconvert_exporter": "python",
   "pygments_lexer": "ipython3",
   "version": "3.9.13"
  }
 },
 "nbformat": 4,
 "nbformat_minor": 5
}
