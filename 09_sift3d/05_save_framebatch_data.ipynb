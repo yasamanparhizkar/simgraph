{
 "cells": [
  {
   "cell_type": "code",
   "execution_count": 1,
   "id": "d6246677-1050-4cb8-bd17-cbdc7845debf",
   "metadata": {
    "tags": []
   },
   "outputs": [],
   "source": [
    "import numpy as np"
   ]
  },
  {
   "cell_type": "markdown",
   "id": "3f24bafd-4b08-49bf-8444-576a2cad72e6",
   "metadata": {},
   "source": [
    "# Load fish movie frames"
   ]
  },
  {
   "cell_type": "code",
   "execution_count": 2,
   "id": "d7621f78-1b63-4185-af16-d5d5001a6959",
   "metadata": {
    "tags": []
   },
   "outputs": [
    {
     "name": "stdout",
     "output_type": "stream",
     "text": [
      "frames.shape = (1141, 120, 200)\n"
     ]
    }
   ],
   "source": [
    "# load the fish movie\n",
    "data_path = '../../data/original_files/'\n",
    "\n",
    "frames = np.loadtxt(data_path + 'frames.csv', delimiter=',')\n",
    "frames = frames.reshape(frames.shape[0], 120, 200)\n",
    "print('frames.shape = {}'.format(frames.shape))"
   ]
  },
  {
   "cell_type": "markdown",
   "id": "96ef0afc-4e12-4204-98cf-db55917ae387",
   "metadata": {},
   "source": [
    "# Create batches of frames from which features are extracted\n",
    "\n",
    "For now, each batch has 32 frames to comply with slowfast batches.\n",
    "<br>\n",
    "Batch #0: contains 32 frames leading up to frame #0 (in other words, frames[-31:1])\n",
    "<br>\n",
    "...\n",
    "<br>\n",
    "Batch #31: contains 32 frames leading up to frame #31 (in other words, frames[0:32])\n",
    "\n",
    "$\\implies$ All in all, we have 1141 batches for 1141 frames."
   ]
  },
  {
   "cell_type": "code",
   "execution_count": 3,
   "id": "15743253-dec7-4a3a-900d-530ff96fcdfe",
   "metadata": {
    "tags": []
   },
   "outputs": [
    {
     "name": "stdout",
     "output_type": "stream",
     "text": [
      "chosen frame indices:  [-21 -20 -19 -18 -17 -16 -15 -14 -13 -12 -11 -10  -9  -8  -7  -6  -5  -4\n",
      "  -3  -2  -1   0   1   2   3   4   5   6   7   8   9  10]\n",
      "sample_batched.shape = (32, 120, 200)\n"
     ]
    }
   ],
   "source": [
    "batch_ind = 10\n",
    "batch_sz = 32\n",
    "idx = np.arange(batch_ind-batch_sz+1, batch_ind+1, dtype=np.int32)\n",
    "sample_batched = frames[idx]\n",
    "print('chosen frame indices: ', idx)\n",
    "print('sample_batched.shape = {}'.format(sample_batched.shape))"
   ]
  },
  {
   "cell_type": "markdown",
   "id": "fefad268-6c78-4d84-bf32-c614742a952e",
   "metadata": {},
   "source": [
    "# Save frame batches on file"
   ]
  },
  {
   "cell_type": "code",
   "execution_count": null,
   "id": "6241b7dc-2a50-4532-b7d1-994af5ddfe1c",
   "metadata": {
    "tags": []
   },
   "outputs": [],
   "source": [
    "features_dp = '../../data/fe_exp/fbatches32/'\n",
    "batch_sz = 32\n",
    "for batch_ind in range(1141):\n",
    "    idx = np.arange(batch_ind-batch_sz+1, batch_ind+1, dtype=np.int32)\n",
    "    sample_batched = frames[idx]\n",
    "    sample_batched = sample_batched.reshape(-1)\n",
    "    np.savetxt(features_dp+'fv_'+str(batch_ind)+'.txt', sample_batched)"
   ]
  },
  {
   "cell_type": "markdown",
   "id": "2d2f5817-07f2-413e-8abf-88b58bbc6937",
   "metadata": {},
   "source": [
    "# Code snippet to load the batches from file"
   ]
  },
  {
   "cell_type": "code",
   "execution_count": null,
   "id": "7dce184a-5203-4dc1-b258-a85dfd83d38a",
   "metadata": {},
   "outputs": [],
   "source": [
    "batch_ind = 10\n",
    "fv = np.loadtxt(features_dp+'fv_'+str(batch_ind)+'.txt')\n",
    "fv = fv.reshape((batch_sz, 120, 200))"
   ]
  },
  {
   "cell_type": "code",
   "execution_count": null,
   "id": "4c321c4d-8637-4475-8144-435518ad33a9",
   "metadata": {},
   "outputs": [],
   "source": []
  },
  {
   "cell_type": "code",
   "execution_count": null,
   "id": "fa979a10-f073-41de-bd3d-37ab8656744b",
   "metadata": {
    "tags": []
   },
   "outputs": [],
   "source": [
    "120*200"
   ]
  }
 ],
 "metadata": {
  "kernelspec": {
   "display_name": "Python 3 (ipykernel)",
   "language": "python",
   "name": "python3"
  },
  "language_info": {
   "codemirror_mode": {
    "name": "ipython",
    "version": 3
   },
   "file_extension": ".py",
   "mimetype": "text/x-python",
   "name": "python",
   "nbconvert_exporter": "python",
   "pygments_lexer": "ipython3",
   "version": "3.9.12"
  }
 },
 "nbformat": 4,
 "nbformat_minor": 5
}
